{
 "cells": [
  {
   "cell_type": "markdown",
   "metadata": {},
   "source": [
    "### Implementation of [Simple and Scalable Predictive Uncertainty Estimation using Deep Ensembles](https://papers.nips.cc/paper/7219-simple-and-scalable-predictive-uncertainty-estimation-using-deep-ensembles.pdf)"
   ]
  },
  {
   "cell_type": "code",
   "execution_count": 1,
   "metadata": {},
   "outputs": [
    {
     "name": "stderr",
     "output_type": "stream",
     "text": [
      "Using TensorFlow backend.\n"
     ]
    }
   ],
   "source": [
    "from __future__ import print_function\n",
    "import numpy as np\n",
    "import matplotlib as mpl\n",
    "import matplotlib.pyplot as plt\n",
    "import pandas as pd\n",
    "from keras.datasets import mnist\n",
    "from keras.models import Sequential\n",
    "from keras.layers.core import Dense, Dropout, Activation\n",
    "from keras.optimizers import RMSprop\n",
    "from keras.utils import np_utils\n",
    "import numpy as np\n",
    "from six.moves import cPickle as pickle\n",
    "from six.moves import range\n",
    "import os\n",
    "import keras\n",
    "from sklearn.preprocessing import LabelBinarizer\n",
    "import matplotlib.pyplot as plt\n",
    "import os\n",
    "import pickle\n",
    "import random\n",
    "\n",
    "import load_data\n",
    "import models"
   ]
  },
  {
   "cell_type": "code",
   "execution_count": 2,
   "metadata": {},
   "outputs": [
    {
     "name": "stdout",
     "output_type": "stream",
     "text": [
      "notMNIST\n",
      "20000 train samples\n",
      "1000 valid samples\n",
      "1000 test samples\n",
      "MNIST\n",
      "Train labels dimension:\n",
      "(50000, 10)\n",
      "Test labels dimension:\n",
      "(10000, 10)\n"
     ]
    }
   ],
   "source": [
    "print(\"notMNIST\")\n",
    "notMNIST_X_train, notMNIST_Y_train, notMNIST_X_val, notMNIST_Y_val, notMNIST_X_test, notMNIST_Y_test = load_data.data_notMNIST()\n",
    "print(\"MNIST\")\n",
    "MNIST_X_train, MNIST_Y_train, MNIST_X_val, MNIST_Y_val, MNIST_X_test, MNIST_Y_test = load_data.data_MNIST()"
   ]
  },
  {
   "cell_type": "code",
   "execution_count": 3,
   "metadata": {},
   "outputs": [],
   "source": [
    "def Ensembling_Data(M, MNIST_X_train, MNIST_Y_train):\n",
    "#     M = 5\n",
    "    sampled_indices = np.arange(0,MNIST_X_train.shape[0])\n",
    "    random.shuffle(sampled_indices)\n",
    "\n",
    "    cut = int(MNIST_X_train.shape[0]/M)\n",
    "    index_sample_list = []\n",
    "    for i in range(M):\n",
    "        index_sample_list.append(sampled_indices[cut*i:cut*(i+1)])\n",
    "        \n",
    "    training_X_df = []; training_Y_df = []\n",
    "    for index_range in index_sample_list:\n",
    "        training_X_df.append(MNIST_X_train[[index_range]])\n",
    "        training_Y_df.append(MNIST_Y_train[[index_range]])\n",
    "        \n",
    "    return training_X_df, training_Y_df\n",
    "\n",
    "def NLL(pred_values, MNIST_Y_test, index_of_y):\n",
    "\n",
    "    from keras import backend as K\n",
    "\n",
    "    # generate NLL distribution\n",
    "#     pred_hotcoded = np_utils.to_categorical(pred_values, 10)[index_of_y:index_of_y+1]\n",
    "\n",
    "    # y_test = y_test.astype('float32') # necessary here, since y_pred comes in this type - check in your case with y_test.dtype and y_pred.dtype\n",
    "    # y_test = K.constant(y_test)\n",
    "    # y_pred = K.constant(y_pred)\n",
    "\n",
    "#     y_pred = K.constant(pred_hotcoded)\n",
    "    \n",
    "    y_pred = K.constant(pred_values[index_of_y:index_of_y+1])\n",
    "\n",
    "    g = K.categorical_crossentropy(target=MNIST_Y_test[index_of_y:index_of_y+1], output=y_pred)  # tensor\n",
    "    ce = K.eval(g)  # 'ce' for cross-entropy\n",
    "    ce.shape\n",
    "    # (10000,) # i.e. one loss quantity per sample\n",
    "\n",
    "    # sum up and divide with the no. of samples:\n",
    "    log_loss = np.sum(ce)/ce.shape[0]\n",
    "#     log_loss\n",
    "    # 0.05165323486328125\n",
    "    \n",
    "    # https://stackoverflow.com/questions/52497625/how-to-calculate-negative-log-likelihoog-on-mnist-dataset\n",
    "    return log_loss\n",
    "\n",
    "def entropy_values(MNIST_Y_test, prediction):\n",
    "    entropy_values=[]\n",
    "    # Note: To obtain results faster, we use 200 samples for testing purposes\n",
    "    for i in range(len(MNIST_Y_test[0:200])): # WARNING: Remove 100 limit, let whole dataframe!!!\n",
    "        log_loss = NLL(prediction, MNIST_Y_test, i)\n",
    "        entropy_values.append(log_loss)\n",
    "#         print(i)\n",
    "    #     print(log_loss)\n",
    "    return entropy_values\n",
    "\n",
    "# def entropy_values_faster(MNIST_Y_test, prediction):\n",
    "# #     entropy_values=[]\n",
    "# #     for i in range(len(MNIST_Y_test[0:])): # WARNING: Remove 100 limit, let whole dataframe!!!\n",
    "# #         log_loss = NLL(prediction, MNIST_Y_test, i)\n",
    "# #         entropy_values.append(log_loss)\n",
    "#     entropy_values = [NLL(prediction, MNIST_Y_test, i) for i in range(len(MNIST_Y_test))]\n",
    "#     #     print(log_loss)\n",
    "#     return entropy_values\n",
    "\n"
   ]
  },
  {
   "cell_type": "code",
   "execution_count": 4,
   "metadata": {},
   "outputs": [],
   "source": [
    "def ensembling_expt(M, MNIST_X_train, MNIST_Y_train, MNIST_X_val, MNIST_Y_val, MNIST_X_test, MNIST_Y_test, model_function):\n",
    "    \n",
    "    training_X_df, training_Y_df = Ensembling_Data(M, MNIST_X_train, MNIST_Y_train)\n",
    "\n",
    "    prediction_storage=[]\n",
    "    acc_storage=[]\n",
    "    for i in range(M):\n",
    "        X_train = training_X_df[i]\n",
    "        Y_train = training_Y_df[i]\n",
    "#         model_function = models.MLP()\n",
    "#         pred = models.MLP(X_train, Y_train, MNIST_X_val, MNIST_Y_val, MNIST_X_test, MNIST_Y_test)\n",
    "        pred, acc = model_function(X_train, Y_train, MNIST_X_val, MNIST_Y_val, MNIST_X_test, MNIST_Y_test)\n",
    "        prediction_storage.append(pred)\n",
    "        acc_storage.append(acc)\n",
    "#     print(prediction_storage[0])\n",
    "\n",
    "    confi_list=[]\n",
    "    for item in prediction_storage:\n",
    "        tmplist=[]\n",
    "        for array in item:\n",
    "            confidence = max(array) # apparently this is defined as confidence by the paper??\n",
    "            tmplist.append(confidence)\n",
    "        confi_list.append(pd.Series(tmplist).mean())\n",
    "\n",
    "    avg_predictions_from_ensemble=[]\n",
    "    for j in range(len(prediction_storage[0])):\n",
    "        tmpList=[]\n",
    "        for i in range(M):\n",
    "            tmpList.append(prediction_storage[i][j])\n",
    "        pred_avg = np.average(tmpList, axis=0)\n",
    "        avg_predictions_from_ensemble.append(pred_avg)\n",
    "    acc_avg = np.average(acc_storage, axis=0)\n",
    "    avg_predictions_from_ensemble2 = np.array([list(i) for i in avg_predictions_from_ensemble])\n",
    "    entropy_val = entropy_values(MNIST_Y_test, avg_predictions_from_ensemble2)\n",
    "    \n",
    "    return entropy_val, acc_storage, confi_list"
   ]
  },
  {
   "cell_type": "markdown",
   "metadata": {},
   "source": [
    "## Baseline (MC Dropout)"
   ]
  },
  {
   "cell_type": "code",
   "execution_count": 5,
   "metadata": {
    "scrolled": true
   },
   "outputs": [
    {
     "name": "stderr",
     "output_type": "stream",
     "text": [
      "/usr/local/lib/python3.5/dist-packages/ipykernel_launcher.py:13: FutureWarning: Using a non-tuple sequence for multidimensional indexing is deprecated; use `arr[tuple(seq)]` instead of `arr[seq]`. In the future this will be interpreted as an array index, `arr[np.array(seq)]`, which will result either in an error or a different result.\n",
      "  del sys.path[0]\n",
      "/usr/local/lib/python3.5/dist-packages/ipykernel_launcher.py:14: FutureWarning: Using a non-tuple sequence for multidimensional indexing is deprecated; use `arr[tuple(seq)]` instead of `arr[seq]`. In the future this will be interpreted as an array index, `arr[np.array(seq)]`, which will result either in an error or a different result.\n",
      "  \n"
     ]
    },
    {
     "name": "stdout",
     "output_type": "stream",
     "text": [
      "With Dropout & Batch Normalization\n"
     ]
    },
    {
     "name": "stderr",
     "output_type": "stream",
     "text": [
      "WARNING: Logging before flag parsing goes to stderr.\n",
      "W0212 09:01:55.582494 140269447444224 module_wrapper.py:139] From /home/root/adversarial/Gal/models.py:158: The name tf.InteractiveSession is deprecated. Please use tf.compat.v1.InteractiveSession instead.\n",
      "\n",
      "W0212 09:01:57.936333 140269447444224 module_wrapper.py:139] From /home/root/adversarial/Gal/models.py:171: The name tf.placeholder is deprecated. Please use tf.compat.v1.placeholder instead.\n",
      "\n",
      "W0212 09:01:57.941518 140269447444224 module_wrapper.py:139] From /home/root/adversarial/Gal/models.py:177: The name tf.random_normal is deprecated. Please use tf.random.normal instead.\n",
      "\n",
      "W0212 09:01:58.034969 140269447444224 deprecation.py:506] From /home/root/adversarial/Gal/models.py:192: calling dropout (from tensorflow.python.ops.nn_ops) with keep_prob is deprecated and will be removed in a future version.\n",
      "Instructions for updating:\n",
      "Please use `rate` instead of `keep_prob`. Rate should be set to `rate = 1 - keep_prob`.\n",
      "W0212 09:01:58.148338 140269447444224 module_wrapper.py:139] From /home/root/adversarial/Gal/models.py:216: The name tf.train.exponential_decay is deprecated. Please use tf.compat.v1.train.exponential_decay instead.\n",
      "\n",
      "W0212 09:01:58.157728 140269447444224 module_wrapper.py:139] From /home/root/adversarial/Gal/models.py:218: The name tf.train.AdamOptimizer is deprecated. Please use tf.compat.v1.train.AdamOptimizer instead.\n",
      "\n",
      "W0212 09:01:58.661324 140269447444224 module_wrapper.py:139] From /home/root/adversarial/Gal/models.py:232: The name tf.global_variables_initializer is deprecated. Please use tf.compat.v1.global_variables_initializer instead.\n",
      "\n"
     ]
    },
    {
     "name": "stdout",
     "output_type": "stream",
     "text": [
      "Epoch:0 | Train loss: 31.29 | Train acc: 0.946 | Test acc:0.946\n",
      "Epoch:1 | Train loss: 17.45 | Train acc: 0.965 | Test acc:0.962\n",
      "Epoch:2 | Train loss: 9.96 | Train acc: 0.974 | Test acc:0.967\n",
      "Epoch:3 | Train loss: 5.89 | Train acc: 0.978 | Test acc:0.968\n",
      "Epoch:4 | Train loss: 3.69 | Train acc: 0.982 | Test acc:0.973\n",
      "Epoch:5 | Train loss: 2.54 | Train acc: 0.984 | Test acc:0.974\n",
      "Epoch:6 | Train loss: 1.95 | Train acc: 0.985 | Test acc:0.975\n",
      "Epoch:7 | Train loss: 1.67 | Train acc: 0.987 | Test acc:0.978\n",
      "Epoch:8 | Train loss: 1.54 | Train acc: 0.988 | Test acc:0.976\n",
      "Epoch:9 | Train loss: 1.50 | Train acc: 0.989 | Test acc:0.976\n",
      "Epoch:10 | Train loss: 1.48 | Train acc: 0.990 | Test acc:0.979\n",
      "Epoch:11 | Train loss: 1.47 | Train acc: 0.990 | Test acc:0.978\n",
      "Epoch:12 | Train loss: 1.47 | Train acc: 0.991 | Test acc:0.979\n",
      "Epoch:13 | Train loss: 1.47 | Train acc: 0.992 | Test acc:0.980\n"
     ]
    },
    {
     "name": "stderr",
     "output_type": "stream",
     "text": [
      "W0212 09:02:56.252864 140269447444224 module_wrapper.py:139] From /usr/local/lib/python3.5/dist-packages/keras/backend/tensorflow_backend.py:3295: The name tf.log is deprecated. Please use tf.math.log instead.\n",
      "\n",
      "W0212 09:02:56.257907 140269447444224 module_wrapper.py:139] From /usr/local/lib/python3.5/dist-packages/keras/backend/tensorflow_backend.py:174: The name tf.get_default_session is deprecated. Please use tf.compat.v1.get_default_session instead.\n",
      "\n",
      "W0212 09:02:56.258806 140269447444224 module_wrapper.py:139] From /usr/local/lib/python3.5/dist-packages/keras/backend/tensorflow_backend.py:190: The name tf.global_variables is deprecated. Please use tf.compat.v1.global_variables instead.\n",
      "\n",
      "W0212 09:02:56.259708 140269447444224 module_wrapper.py:139] From /usr/local/lib/python3.5/dist-packages/keras/backend/tensorflow_backend.py:199: The name tf.is_variable_initialized is deprecated. Please use tf.compat.v1.is_variable_initialized instead.\n",
      "\n",
      "/usr/local/lib/python3.5/dist-packages/ipykernel_launcher.py:13: FutureWarning: Using a non-tuple sequence for multidimensional indexing is deprecated; use `arr[tuple(seq)]` instead of `arr[seq]`. In the future this will be interpreted as an array index, `arr[np.array(seq)]`, which will result either in an error or a different result.\n",
      "  del sys.path[0]\n",
      "/usr/local/lib/python3.5/dist-packages/ipykernel_launcher.py:14: FutureWarning: Using a non-tuple sequence for multidimensional indexing is deprecated; use `arr[tuple(seq)]` instead of `arr[seq]`. In the future this will be interpreted as an array index, `arr[np.array(seq)]`, which will result either in an error or a different result.\n",
      "  \n",
      "/usr/local/lib/python3.5/dist-packages/tensorflow_core/python/client/session.py:1750: UserWarning: An interactive session is already active. This can cause out-of-memory errors in some cases. You must explicitly call `InteractiveSession.close()` to release resources held by the other session(s).\n",
      "  warnings.warn('An interactive session is already active. This can '\n"
     ]
    },
    {
     "name": "stdout",
     "output_type": "stream",
     "text": [
      "With Dropout & Batch Normalization\n",
      "Epoch:0 | Train loss: 47.70 | Train acc: 0.914 | Test acc:0.914\n",
      "Epoch:1 | Train loss: 38.91 | Train acc: 0.941 | Test acc:0.935\n",
      "Epoch:2 | Train loss: 31.85 | Train acc: 0.960 | Test acc:0.946\n",
      "Epoch:3 | Train loss: 26.13 | Train acc: 0.967 | Test acc:0.953\n",
      "Epoch:4 | Train loss: 21.48 | Train acc: 0.972 | Test acc:0.953\n",
      "Epoch:5 | Train loss: 17.70 | Train acc: 0.978 | Test acc:0.960\n",
      "Epoch:6 | Train loss: 14.62 | Train acc: 0.980 | Test acc:0.961\n",
      "Epoch:7 | Train loss: 12.10 | Train acc: 0.983 | Test acc:0.965\n",
      "Epoch:8 | Train loss: 10.06 | Train acc: 0.985 | Test acc:0.965\n",
      "Epoch:9 | Train loss: 8.39 | Train acc: 0.987 | Test acc:0.967\n",
      "Epoch:10 | Train loss: 7.03 | Train acc: 0.988 | Test acc:0.966\n",
      "Epoch:11 | Train loss: 5.92 | Train acc: 0.990 | Test acc:0.968\n",
      "Epoch:12 | Train loss: 5.02 | Train acc: 0.990 | Test acc:0.968\n",
      "Epoch:13 | Train loss: 4.29 | Train acc: 0.992 | Test acc:0.970\n",
      "With Dropout & Batch Normalization\n"
     ]
    },
    {
     "name": "stderr",
     "output_type": "stream",
     "text": [
      "/usr/local/lib/python3.5/dist-packages/tensorflow_core/python/client/session.py:1750: UserWarning: An interactive session is already active. This can cause out-of-memory errors in some cases. You must explicitly call `InteractiveSession.close()` to release resources held by the other session(s).\n",
      "  warnings.warn('An interactive session is already active. This can '\n"
     ]
    },
    {
     "name": "stdout",
     "output_type": "stream",
     "text": [
      "Epoch:0 | Train loss: 54.23 | Train acc: 0.910 | Test acc:0.913\n",
      "Epoch:1 | Train loss: 44.73 | Train acc: 0.943 | Test acc:0.939\n",
      "Epoch:2 | Train loss: 37.04 | Train acc: 0.956 | Test acc:0.946\n",
      "Epoch:3 | Train loss: 30.76 | Train acc: 0.965 | Test acc:0.952\n",
      "Epoch:4 | Train loss: 25.60 | Train acc: 0.971 | Test acc:0.960\n",
      "Epoch:5 | Train loss: 21.36 | Train acc: 0.977 | Test acc:0.960\n",
      "Epoch:6 | Train loss: 17.86 | Train acc: 0.979 | Test acc:0.962\n",
      "Epoch:7 | Train loss: 14.96 | Train acc: 0.984 | Test acc:0.967\n",
      "Epoch:8 | Train loss: 12.57 | Train acc: 0.986 | Test acc:0.965\n",
      "Epoch:9 | Train loss: 10.58 | Train acc: 0.987 | Test acc:0.968\n",
      "Epoch:10 | Train loss: 8.95 | Train acc: 0.989 | Test acc:0.968\n",
      "Epoch:11 | Train loss: 7.59 | Train acc: 0.989 | Test acc:0.966\n",
      "Epoch:12 | Train loss: 6.48 | Train acc: 0.990 | Test acc:0.971\n",
      "Epoch:13 | Train loss: 5.55 | Train acc: 0.991 | Test acc:0.970\n",
      "With Dropout & Batch Normalization\n"
     ]
    },
    {
     "name": "stderr",
     "output_type": "stream",
     "text": [
      "/usr/local/lib/python3.5/dist-packages/tensorflow_core/python/client/session.py:1750: UserWarning: An interactive session is already active. This can cause out-of-memory errors in some cases. You must explicitly call `InteractiveSession.close()` to release resources held by the other session(s).\n",
      "  warnings.warn('An interactive session is already active. This can '\n"
     ]
    },
    {
     "name": "stdout",
     "output_type": "stream",
     "text": [
      "Epoch:0 | Train loss: 52.10 | Train acc: 0.916 | Test acc:0.914\n",
      "Epoch:1 | Train loss: 42.72 | Train acc: 0.942 | Test acc:0.938\n",
      "Epoch:2 | Train loss: 35.14 | Train acc: 0.958 | Test acc:0.948\n",
      "Epoch:3 | Train loss: 28.96 | Train acc: 0.966 | Test acc:0.953\n",
      "Epoch:4 | Train loss: 23.91 | Train acc: 0.972 | Test acc:0.958\n",
      "Epoch:5 | Train loss: 19.77 | Train acc: 0.977 | Test acc:0.959\n",
      "Epoch:6 | Train loss: 16.38 | Train acc: 0.981 | Test acc:0.962\n",
      "Epoch:7 | Train loss: 13.59 | Train acc: 0.984 | Test acc:0.965\n",
      "Epoch:8 | Train loss: 11.31 | Train acc: 0.985 | Test acc:0.966\n",
      "Epoch:9 | Train loss: 9.43 | Train acc: 0.988 | Test acc:0.965\n",
      "Epoch:10 | Train loss: 7.90 | Train acc: 0.989 | Test acc:0.969\n",
      "Epoch:11 | Train loss: 6.64 | Train acc: 0.990 | Test acc:0.968\n",
      "Epoch:12 | Train loss: 5.62 | Train acc: 0.991 | Test acc:0.968\n",
      "Epoch:13 | Train loss: 4.79 | Train acc: 0.992 | Test acc:0.970\n"
     ]
    },
    {
     "name": "stderr",
     "output_type": "stream",
     "text": [
      "/usr/local/lib/python3.5/dist-packages/ipykernel_launcher.py:13: FutureWarning: Using a non-tuple sequence for multidimensional indexing is deprecated; use `arr[tuple(seq)]` instead of `arr[seq]`. In the future this will be interpreted as an array index, `arr[np.array(seq)]`, which will result either in an error or a different result.\n",
      "  del sys.path[0]\n",
      "/usr/local/lib/python3.5/dist-packages/ipykernel_launcher.py:14: FutureWarning: Using a non-tuple sequence for multidimensional indexing is deprecated; use `arr[tuple(seq)]` instead of `arr[seq]`. In the future this will be interpreted as an array index, `arr[np.array(seq)]`, which will result either in an error or a different result.\n",
      "  \n"
     ]
    },
    {
     "name": "stdout",
     "output_type": "stream",
     "text": [
      "With Dropout & Batch Normalization\n"
     ]
    },
    {
     "name": "stderr",
     "output_type": "stream",
     "text": [
      "/usr/local/lib/python3.5/dist-packages/tensorflow_core/python/client/session.py:1750: UserWarning: An interactive session is already active. This can cause out-of-memory errors in some cases. You must explicitly call `InteractiveSession.close()` to release resources held by the other session(s).\n",
      "  warnings.warn('An interactive session is already active. This can '\n"
     ]
    },
    {
     "name": "stdout",
     "output_type": "stream",
     "text": [
      "Epoch:0 | Train loss: 32.90 | Train acc: 0.948 | Test acc:0.128\n",
      "Epoch:1 | Train loss: 18.56 | Train acc: 0.966 | Test acc:0.122\n",
      "Epoch:2 | Train loss: 10.73 | Train acc: 0.973 | Test acc:0.083\n",
      "Epoch:3 | Train loss: 6.44 | Train acc: 0.980 | Test acc:0.086\n",
      "Epoch:4 | Train loss: 4.11 | Train acc: 0.981 | Test acc:0.085\n",
      "Epoch:5 | Train loss: 2.85 | Train acc: 0.983 | Test acc:0.097\n",
      "Epoch:6 | Train loss: 2.18 | Train acc: 0.985 | Test acc:0.103\n",
      "Epoch:7 | Train loss: 1.83 | Train acc: 0.986 | Test acc:0.091\n",
      "Epoch:8 | Train loss: 1.65 | Train acc: 0.988 | Test acc:0.091\n",
      "Epoch:9 | Train loss: 1.55 | Train acc: 0.989 | Test acc:0.102\n",
      "Epoch:10 | Train loss: 1.51 | Train acc: 0.990 | Test acc:0.107\n",
      "Epoch:11 | Train loss: 1.49 | Train acc: 0.991 | Test acc:0.079\n",
      "Epoch:12 | Train loss: 1.48 | Train acc: 0.992 | Test acc:0.092\n",
      "Epoch:13 | Train loss: 1.47 | Train acc: 0.992 | Test acc:0.101\n"
     ]
    },
    {
     "name": "stderr",
     "output_type": "stream",
     "text": [
      "/usr/local/lib/python3.5/dist-packages/ipykernel_launcher.py:13: FutureWarning: Using a non-tuple sequence for multidimensional indexing is deprecated; use `arr[tuple(seq)]` instead of `arr[seq]`. In the future this will be interpreted as an array index, `arr[np.array(seq)]`, which will result either in an error or a different result.\n",
      "  del sys.path[0]\n",
      "/usr/local/lib/python3.5/dist-packages/ipykernel_launcher.py:14: FutureWarning: Using a non-tuple sequence for multidimensional indexing is deprecated; use `arr[tuple(seq)]` instead of `arr[seq]`. In the future this will be interpreted as an array index, `arr[np.array(seq)]`, which will result either in an error or a different result.\n",
      "  \n",
      "/usr/local/lib/python3.5/dist-packages/tensorflow_core/python/client/session.py:1750: UserWarning: An interactive session is already active. This can cause out-of-memory errors in some cases. You must explicitly call `InteractiveSession.close()` to release resources held by the other session(s).\n",
      "  warnings.warn('An interactive session is already active. This can '\n"
     ]
    },
    {
     "name": "stdout",
     "output_type": "stream",
     "text": [
      "With Dropout & Batch Normalization\n",
      "Epoch:0 | Train loss: 50.61 | Train acc: 0.906 | Test acc:0.116\n",
      "Epoch:1 | Train loss: 41.63 | Train acc: 0.940 | Test acc:0.141\n",
      "Epoch:2 | Train loss: 34.41 | Train acc: 0.956 | Test acc:0.106\n",
      "Epoch:3 | Train loss: 28.53 | Train acc: 0.967 | Test acc:0.134\n",
      "Epoch:4 | Train loss: 23.73 | Train acc: 0.974 | Test acc:0.125\n",
      "Epoch:5 | Train loss: 19.78 | Train acc: 0.978 | Test acc:0.126\n",
      "Epoch:6 | Train loss: 16.52 | Train acc: 0.981 | Test acc:0.133\n",
      "Epoch:7 | Train loss: 13.84 | Train acc: 0.984 | Test acc:0.108\n",
      "Epoch:8 | Train loss: 11.62 | Train acc: 0.986 | Test acc:0.124\n",
      "Epoch:9 | Train loss: 9.79 | Train acc: 0.987 | Test acc:0.120\n",
      "Epoch:10 | Train loss: 8.28 | Train acc: 0.989 | Test acc:0.123\n",
      "Epoch:11 | Train loss: 7.04 | Train acc: 0.991 | Test acc:0.116\n",
      "Epoch:12 | Train loss: 6.01 | Train acc: 0.991 | Test acc:0.116\n",
      "Epoch:13 | Train loss: 5.17 | Train acc: 0.991 | Test acc:0.108\n",
      "With Dropout & Batch Normalization\n"
     ]
    },
    {
     "name": "stderr",
     "output_type": "stream",
     "text": [
      "/usr/local/lib/python3.5/dist-packages/tensorflow_core/python/client/session.py:1750: UserWarning: An interactive session is already active. This can cause out-of-memory errors in some cases. You must explicitly call `InteractiveSession.close()` to release resources held by the other session(s).\n",
      "  warnings.warn('An interactive session is already active. This can '\n"
     ]
    },
    {
     "name": "stdout",
     "output_type": "stream",
     "text": [
      "Epoch:0 | Train loss: 49.97 | Train acc: 0.912 | Test acc:0.140\n",
      "Epoch:1 | Train loss: 40.85 | Train acc: 0.943 | Test acc:0.138\n",
      "Epoch:2 | Train loss: 33.51 | Train acc: 0.959 | Test acc:0.127\n",
      "Epoch:3 | Train loss: 27.54 | Train acc: 0.966 | Test acc:0.132\n",
      "Epoch:4 | Train loss: 22.67 | Train acc: 0.974 | Test acc:0.119\n",
      "Epoch:5 | Train loss: 18.69 | Train acc: 0.977 | Test acc:0.119\n",
      "Epoch:6 | Train loss: 15.43 | Train acc: 0.981 | Test acc:0.124\n",
      "Epoch:7 | Train loss: 12.77 | Train acc: 0.984 | Test acc:0.110\n",
      "Epoch:8 | Train loss: 10.58 | Train acc: 0.987 | Test acc:0.100\n",
      "Epoch:9 | Train loss: 8.80 | Train acc: 0.988 | Test acc:0.119\n",
      "Epoch:10 | Train loss: 7.34 | Train acc: 0.990 | Test acc:0.112\n",
      "Epoch:11 | Train loss: 6.16 | Train acc: 0.991 | Test acc:0.111\n",
      "Epoch:12 | Train loss: 5.20 | Train acc: 0.992 | Test acc:0.119\n",
      "Epoch:13 | Train loss: 4.42 | Train acc: 0.992 | Test acc:0.133\n",
      "With Dropout & Batch Normalization\n"
     ]
    },
    {
     "name": "stderr",
     "output_type": "stream",
     "text": [
      "/usr/local/lib/python3.5/dist-packages/tensorflow_core/python/client/session.py:1750: UserWarning: An interactive session is already active. This can cause out-of-memory errors in some cases. You must explicitly call `InteractiveSession.close()` to release resources held by the other session(s).\n",
      "  warnings.warn('An interactive session is already active. This can '\n"
     ]
    },
    {
     "name": "stdout",
     "output_type": "stream",
     "text": [
      "Epoch:0 | Train loss: 50.47 | Train acc: 0.912 | Test acc:0.122\n",
      "Epoch:1 | Train loss: 41.22 | Train acc: 0.942 | Test acc:0.108\n",
      "Epoch:2 | Train loss: 33.79 | Train acc: 0.955 | Test acc:0.108\n",
      "Epoch:3 | Train loss: 27.77 | Train acc: 0.965 | Test acc:0.103\n",
      "Epoch:4 | Train loss: 22.87 | Train acc: 0.970 | Test acc:0.104\n",
      "Epoch:5 | Train loss: 18.86 | Train acc: 0.976 | Test acc:0.105\n",
      "Epoch:6 | Train loss: 15.59 | Train acc: 0.979 | Test acc:0.089\n",
      "Epoch:7 | Train loss: 12.90 | Train acc: 0.981 | Test acc:0.095\n",
      "Epoch:8 | Train loss: 10.70 | Train acc: 0.984 | Test acc:0.079\n",
      "Epoch:9 | Train loss: 8.91 | Train acc: 0.987 | Test acc:0.084\n",
      "Epoch:10 | Train loss: 7.45 | Train acc: 0.988 | Test acc:0.073\n",
      "Epoch:11 | Train loss: 6.25 | Train acc: 0.989 | Test acc:0.082\n",
      "Epoch:12 | Train loss: 5.29 | Train acc: 0.990 | Test acc:0.087\n",
      "Epoch:13 | Train loss: 4.50 | Train acc: 0.990 | Test acc:0.088\n"
     ]
    }
   ],
   "source": [
    "# M in MC dropout refers to number of MC dropout samples; since we're sampling different sets of indices, sort of sampling~\n",
    "\n",
    "entropy_val_MLPmc_1, acc_MLPmc_1, confi_MLPmc_1 = ensembling_expt(1, MNIST_X_train, MNIST_Y_train, MNIST_X_val, MNIST_Y_val, MNIST_X_test, MNIST_Y_test, models.MCDropout)\n",
    "entropy_val_MLPmc_5, acc_MLPmc_5, confi_MLPmc_5 = ensembling_expt(3, MNIST_X_train, MNIST_Y_train, MNIST_X_val, MNIST_Y_val, MNIST_X_test, MNIST_Y_test, models.MCDropout)\n",
    "# entropy_val_MLPmc_10, acc_MLPmc_10, confi_MLPmc_10 = ensembling_expt(10, MNIST_X_train, MNIST_Y_train, MNIST_X_val, MNIST_Y_val, MNIST_X_test, MNIST_Y_test, models.MCDropout)\n",
    "\n",
    "Nentropy_val_MLPmc_1, Nacc_MLPmc_1, Nconfi_MLPmc_1 = ensembling_expt(1, MNIST_X_train, MNIST_Y_train, notMNIST_X_val, notMNIST_Y_val, notMNIST_X_test, notMNIST_Y_test, models.MCDropout)\n",
    "Nentropy_val_MLPmc_5, Nacc_MLPmc_5, Nconfi_MLPmc_5 = ensembling_expt(3, MNIST_X_train, MNIST_Y_train, notMNIST_X_val, notMNIST_Y_val, notMNIST_X_test, notMNIST_Y_test, models.MCDropout)\n",
    "# Nentropy_val_MLPmc_10, Nacc_MLPmc_10, Nconfi_MLPmc_10 = ensembling_expt(10, MNIST_X_train, MNIST_Y_train, notMNIST_X_val, notMNIST_Y_val, notMNIST_X_test, notMNIST_Y_test, models.MCDropout)\n"
   ]
  },
  {
   "cell_type": "markdown",
   "metadata": {},
   "source": [
    "## Ensembling MLP & variants"
   ]
  },
  {
   "cell_type": "markdown",
   "metadata": {},
   "source": [
    "### MNIST plots"
   ]
  },
  {
   "cell_type": "code",
   "execution_count": 6,
   "metadata": {
    "scrolled": true
   },
   "outputs": [
    {
     "name": "stderr",
     "output_type": "stream",
     "text": [
      "/usr/local/lib/python3.5/dist-packages/ipykernel_launcher.py:13: FutureWarning: Using a non-tuple sequence for multidimensional indexing is deprecated; use `arr[tuple(seq)]` instead of `arr[seq]`. In the future this will be interpreted as an array index, `arr[np.array(seq)]`, which will result either in an error or a different result.\n",
      "  del sys.path[0]\n",
      "/usr/local/lib/python3.5/dist-packages/ipykernel_launcher.py:14: FutureWarning: Using a non-tuple sequence for multidimensional indexing is deprecated; use `arr[tuple(seq)]` instead of `arr[seq]`. In the future this will be interpreted as an array index, `arr[np.array(seq)]`, which will result either in an error or a different result.\n",
      "  \n",
      "/usr/local/lib/python3.5/dist-packages/tensorflow_core/python/client/session.py:1750: UserWarning: An interactive session is already active. This can cause out-of-memory errors in some cases. You must explicitly call `InteractiveSession.close()` to release resources held by the other session(s).\n",
      "  warnings.warn('An interactive session is already active. This can '\n"
     ]
    },
    {
     "name": "stdout",
     "output_type": "stream",
     "text": [
      "Without Dropout, Vanilla MLP\n",
      "Epoch:0 | Train loss: 31.28 | Train acc: 0.939 | Test acc:0.939\n",
      "Epoch:1 | Train loss: 17.40 | Train acc: 0.960 | Test acc:0.957\n",
      "Epoch:2 | Train loss: 10.03 | Train acc: 0.967 | Test acc:0.961\n",
      "Epoch:3 | Train loss: 6.06 | Train acc: 0.976 | Test acc:0.968\n",
      "Epoch:4 | Train loss: 3.91 | Train acc: 0.982 | Test acc:0.973\n",
      "Epoch:5 | Train loss: 2.76 | Train acc: 0.984 | Test acc:0.973\n",
      "Epoch:6 | Train loss: 2.15 | Train acc: 0.987 | Test acc:0.975\n",
      "Epoch:7 | Train loss: 1.82 | Train acc: 0.989 | Test acc:0.975\n",
      "Epoch:8 | Train loss: 1.65 | Train acc: 0.986 | Test acc:0.974\n",
      "Epoch:9 | Train loss: 1.56 | Train acc: 0.990 | Test acc:0.977\n",
      "Epoch:10 | Train loss: 1.51 | Train acc: 0.990 | Test acc:0.973\n",
      "Epoch:11 | Train loss: 1.48 | Train acc: 0.992 | Test acc:0.977\n",
      "Epoch:12 | Train loss: 1.47 | Train acc: 0.992 | Test acc:0.978\n",
      "Epoch:13 | Train loss: 1.47 | Train acc: 0.992 | Test acc:0.977\n"
     ]
    },
    {
     "name": "stderr",
     "output_type": "stream",
     "text": [
      "/usr/local/lib/python3.5/dist-packages/ipykernel_launcher.py:13: FutureWarning: Using a non-tuple sequence for multidimensional indexing is deprecated; use `arr[tuple(seq)]` instead of `arr[seq]`. In the future this will be interpreted as an array index, `arr[np.array(seq)]`, which will result either in an error or a different result.\n",
      "  del sys.path[0]\n",
      "/usr/local/lib/python3.5/dist-packages/ipykernel_launcher.py:14: FutureWarning: Using a non-tuple sequence for multidimensional indexing is deprecated; use `arr[tuple(seq)]` instead of `arr[seq]`. In the future this will be interpreted as an array index, `arr[np.array(seq)]`, which will result either in an error or a different result.\n",
      "  \n",
      "/usr/local/lib/python3.5/dist-packages/tensorflow_core/python/client/session.py:1750: UserWarning: An interactive session is already active. This can cause out-of-memory errors in some cases. You must explicitly call `InteractiveSession.close()` to release resources held by the other session(s).\n",
      "  warnings.warn('An interactive session is already active. This can '\n"
     ]
    },
    {
     "name": "stdout",
     "output_type": "stream",
     "text": [
      "Without Dropout, Vanilla MLP\n",
      "Epoch:0 | Train loss: 48.71 | Train acc: 0.899 | Test acc:0.900\n",
      "Epoch:1 | Train loss: 39.97 | Train acc: 0.929 | Test acc:0.923\n",
      "Epoch:2 | Train loss: 32.98 | Train acc: 0.932 | Test acc:0.923\n",
      "Epoch:3 | Train loss: 27.30 | Train acc: 0.950 | Test acc:0.939\n",
      "Epoch:4 | Train loss: 22.67 | Train acc: 0.965 | Test acc:0.950\n",
      "Epoch:5 | Train loss: 18.88 | Train acc: 0.970 | Test acc:0.955\n",
      "Epoch:6 | Train loss: 15.77 | Train acc: 0.973 | Test acc:0.959\n",
      "Epoch:7 | Train loss: 13.21 | Train acc: 0.978 | Test acc:0.957\n",
      "Epoch:8 | Train loss: 11.09 | Train acc: 0.983 | Test acc:0.963\n",
      "Epoch:9 | Train loss: 9.35 | Train acc: 0.983 | Test acc:0.960\n",
      "Epoch:10 | Train loss: 7.91 | Train acc: 0.984 | Test acc:0.963\n",
      "Epoch:11 | Train loss: 6.72 | Train acc: 0.986 | Test acc:0.963\n",
      "Epoch:12 | Train loss: 5.74 | Train acc: 0.989 | Test acc:0.964\n",
      "Epoch:13 | Train loss: 4.93 | Train acc: 0.990 | Test acc:0.967\n",
      "Without Dropout, Vanilla MLP\n"
     ]
    },
    {
     "name": "stderr",
     "output_type": "stream",
     "text": [
      "/usr/local/lib/python3.5/dist-packages/tensorflow_core/python/client/session.py:1750: UserWarning: An interactive session is already active. This can cause out-of-memory errors in some cases. You must explicitly call `InteractiveSession.close()` to release resources held by the other session(s).\n",
      "  warnings.warn('An interactive session is already active. This can '\n"
     ]
    },
    {
     "name": "stdout",
     "output_type": "stream",
     "text": [
      "Epoch:0 | Train loss: 50.57 | Train acc: 0.885 | Test acc:0.886\n",
      "Epoch:1 | Train loss: 41.48 | Train acc: 0.932 | Test acc:0.925\n",
      "Epoch:2 | Train loss: 34.16 | Train acc: 0.946 | Test acc:0.937\n",
      "Epoch:3 | Train loss: 28.22 | Train acc: 0.954 | Test acc:0.939\n",
      "Epoch:4 | Train loss: 23.38 | Train acc: 0.960 | Test acc:0.947\n",
      "Epoch:5 | Train loss: 19.41 | Train acc: 0.968 | Test acc:0.952\n",
      "Epoch:6 | Train loss: 16.16 | Train acc: 0.973 | Test acc:0.953\n",
      "Epoch:7 | Train loss: 13.49 | Train acc: 0.975 | Test acc:0.957\n",
      "Epoch:8 | Train loss: 11.30 | Train acc: 0.979 | Test acc:0.958\n",
      "Epoch:9 | Train loss: 9.49 | Train acc: 0.982 | Test acc:0.961\n",
      "Epoch:10 | Train loss: 8.01 | Train acc: 0.985 | Test acc:0.960\n",
      "Epoch:11 | Train loss: 6.79 | Train acc: 0.986 | Test acc:0.962\n",
      "Epoch:12 | Train loss: 5.79 | Train acc: 0.988 | Test acc:0.962\n",
      "Epoch:13 | Train loss: 4.98 | Train acc: 0.989 | Test acc:0.964\n",
      "Without Dropout, Vanilla MLP\n"
     ]
    },
    {
     "name": "stderr",
     "output_type": "stream",
     "text": [
      "/usr/local/lib/python3.5/dist-packages/tensorflow_core/python/client/session.py:1750: UserWarning: An interactive session is already active. This can cause out-of-memory errors in some cases. You must explicitly call `InteractiveSession.close()` to release resources held by the other session(s).\n",
      "  warnings.warn('An interactive session is already active. This can '\n"
     ]
    },
    {
     "name": "stdout",
     "output_type": "stream",
     "text": [
      "Epoch:0 | Train loss: 48.25 | Train acc: 0.876 | Test acc:0.877\n",
      "Epoch:1 | Train loss: 39.41 | Train acc: 0.929 | Test acc:0.926\n",
      "Epoch:2 | Train loss: 32.31 | Train acc: 0.946 | Test acc:0.937\n",
      "Epoch:3 | Train loss: 26.58 | Train acc: 0.956 | Test acc:0.944\n",
      "Epoch:4 | Train loss: 21.91 | Train acc: 0.964 | Test acc:0.947\n",
      "Epoch:5 | Train loss: 18.11 | Train acc: 0.970 | Test acc:0.955\n",
      "Epoch:6 | Train loss: 15.00 | Train acc: 0.977 | Test acc:0.959\n",
      "Epoch:7 | Train loss: 12.46 | Train acc: 0.981 | Test acc:0.961\n",
      "Epoch:8 | Train loss: 10.39 | Train acc: 0.981 | Test acc:0.959\n",
      "Epoch:9 | Train loss: 8.69 | Train acc: 0.986 | Test acc:0.965\n",
      "Epoch:10 | Train loss: 7.30 | Train acc: 0.987 | Test acc:0.964\n",
      "Epoch:11 | Train loss: 6.16 | Train acc: 0.989 | Test acc:0.965\n",
      "Epoch:12 | Train loss: 5.24 | Train acc: 0.989 | Test acc:0.964\n",
      "Epoch:13 | Train loss: 4.48 | Train acc: 0.990 | Test acc:0.963\n"
     ]
    }
   ],
   "source": [
    "entropy_val_MLP_1, acc_MLP_1, confi_MLP_1 = ensembling_expt(1, MNIST_X_train, MNIST_Y_train, MNIST_X_val, MNIST_Y_val, MNIST_X_test, MNIST_Y_test, models.MLP)\n",
    "entropy_val_MLP_5, acc_MLP_5, confi_MLP_5 = ensembling_expt(3, MNIST_X_train, MNIST_Y_train, MNIST_X_val, MNIST_Y_val, MNIST_X_test, MNIST_Y_test, models.MLP)\n",
    "# entropy_val_MLP_10, acc_MLP_10, confi_MLP_10 = ensembling_expt(10, MNIST_X_train, MNIST_Y_train, MNIST_X_val, MNIST_Y_val, MNIST_X_test, MNIST_Y_test, models.MLP)"
   ]
  },
  {
   "cell_type": "code",
   "execution_count": 7,
   "metadata": {
    "scrolled": true
   },
   "outputs": [
    {
     "name": "stderr",
     "output_type": "stream",
     "text": [
      "/usr/local/lib/python3.5/dist-packages/ipykernel_launcher.py:13: FutureWarning: Using a non-tuple sequence for multidimensional indexing is deprecated; use `arr[tuple(seq)]` instead of `arr[seq]`. In the future this will be interpreted as an array index, `arr[np.array(seq)]`, which will result either in an error or a different result.\n",
      "  del sys.path[0]\n",
      "/usr/local/lib/python3.5/dist-packages/ipykernel_launcher.py:14: FutureWarning: Using a non-tuple sequence for multidimensional indexing is deprecated; use `arr[tuple(seq)]` instead of `arr[seq]`. In the future this will be interpreted as an array index, `arr[np.array(seq)]`, which will result either in an error or a different result.\n",
      "  \n"
     ]
    },
    {
     "name": "stdout",
     "output_type": "stream",
     "text": [
      "Without Dropout, MLP with random perturbations\n"
     ]
    },
    {
     "name": "stderr",
     "output_type": "stream",
     "text": [
      "/home/root/adversarial/Gal/models.py:656: FutureWarning: Using a non-tuple sequence for multidimensional indexing is deprecated; use `arr[tuple(seq)]` instead of `arr[seq]`. In the future this will be interpreted as an array index, `arr[np.array(seq)]`, which will result either in an error or a different result.\n",
      "  sample_X_train = X_train[[ind]] # X_train[[start_index,end_index]] ; this would let us take specific indices, so we can randomize the order, ensure each iteration is taking precisely unique samples\n",
      "/home/root/adversarial/Gal/models.py:657: FutureWarning: Using a non-tuple sequence for multidimensional indexing is deprecated; use `arr[tuple(seq)]` instead of `arr[seq]`. In the future this will be interpreted as an array index, `arr[np.array(seq)]`, which will result either in an error or a different result.\n",
      "  sample_Y_train = Y_train[[ind]]\n",
      "/usr/local/lib/python3.5/dist-packages/tensorflow_core/python/client/session.py:1750: UserWarning: An interactive session is already active. This can cause out-of-memory errors in some cases. You must explicitly call `InteractiveSession.close()` to release resources held by the other session(s).\n",
      "  warnings.warn('An interactive session is already active. This can '\n",
      "W0212 09:10:13.581427 140269447444224 deprecation.py:323] From /home/root/adversarial/Gal/models.py:667: Print (from tensorflow.python.ops.logging_ops) is deprecated and will be removed after 2018-08-20.\n",
      "Instructions for updating:\n",
      "Use tf.print instead of tf.Print. Note that tf.print returns a no-output operator that directly prints the output. Outside of defuns or eager mode, this operator will not be executed unless it is directly specified in session.run or used as a control dependency for other operators. This is only a concern in graph mode. Below is an example of how to ensure tf.print executes in graph mode:\n",
      "\n"
     ]
    },
    {
     "name": "stdout",
     "output_type": "stream",
     "text": [
      "New training set shape (X,Y):  ((60000, 784), (60000, 10))\n",
      "Epoch:0 | Train loss: 30.42 | Train acc: 0.848 | Test acc:0.850\n",
      "Epoch:1 | Train loss: 15.09 | Train acc: 0.911 | Test acc:0.910\n",
      "Epoch:2 | Train loss: 7.67 | Train acc: 0.956 | Test acc:0.948\n",
      "Epoch:3 | Train loss: 4.17 | Train acc: 0.964 | Test acc:0.958\n",
      "Epoch:4 | Train loss: 2.59 | Train acc: 0.959 | Test acc:0.955\n",
      "Epoch:5 | Train loss: 1.90 | Train acc: 0.977 | Test acc:0.970\n",
      "Epoch:6 | Train loss: 1.63 | Train acc: 0.980 | Test acc:0.972\n",
      "Epoch:7 | Train loss: 1.53 | Train acc: 0.984 | Test acc:0.972\n",
      "Epoch:8 | Train loss: 1.49 | Train acc: 0.981 | Test acc:0.966\n",
      "Epoch:9 | Train loss: 1.50 | Train acc: 0.957 | Test acc:0.939\n",
      "Epoch:10 | Train loss: 1.47 | Train acc: 0.988 | Test acc:0.974\n",
      "Epoch:11 | Train loss: 1.47 | Train acc: 0.990 | Test acc:0.975\n",
      "Epoch:12 | Train loss: 1.47 | Train acc: 0.990 | Test acc:0.976\n",
      "Epoch:13 | Train loss: 1.48 | Train acc: 0.979 | Test acc:0.963\n"
     ]
    },
    {
     "name": "stderr",
     "output_type": "stream",
     "text": [
      "/usr/local/lib/python3.5/dist-packages/ipykernel_launcher.py:13: FutureWarning: Using a non-tuple sequence for multidimensional indexing is deprecated; use `arr[tuple(seq)]` instead of `arr[seq]`. In the future this will be interpreted as an array index, `arr[np.array(seq)]`, which will result either in an error or a different result.\n",
      "  del sys.path[0]\n",
      "/usr/local/lib/python3.5/dist-packages/ipykernel_launcher.py:14: FutureWarning: Using a non-tuple sequence for multidimensional indexing is deprecated; use `arr[tuple(seq)]` instead of `arr[seq]`. In the future this will be interpreted as an array index, `arr[np.array(seq)]`, which will result either in an error or a different result.\n",
      "  \n"
     ]
    },
    {
     "name": "stdout",
     "output_type": "stream",
     "text": [
      "Without Dropout, MLP with random perturbations\n"
     ]
    },
    {
     "name": "stderr",
     "output_type": "stream",
     "text": [
      "/home/root/adversarial/Gal/models.py:656: FutureWarning: Using a non-tuple sequence for multidimensional indexing is deprecated; use `arr[tuple(seq)]` instead of `arr[seq]`. In the future this will be interpreted as an array index, `arr[np.array(seq)]`, which will result either in an error or a different result.\n",
      "  sample_X_train = X_train[[ind]] # X_train[[start_index,end_index]] ; this would let us take specific indices, so we can randomize the order, ensure each iteration is taking precisely unique samples\n",
      "/home/root/adversarial/Gal/models.py:657: FutureWarning: Using a non-tuple sequence for multidimensional indexing is deprecated; use `arr[tuple(seq)]` instead of `arr[seq]`. In the future this will be interpreted as an array index, `arr[np.array(seq)]`, which will result either in an error or a different result.\n",
      "  sample_Y_train = Y_train[[ind]]\n",
      "/usr/local/lib/python3.5/dist-packages/tensorflow_core/python/client/session.py:1750: UserWarning: An interactive session is already active. This can cause out-of-memory errors in some cases. You must explicitly call `InteractiveSession.close()` to release resources held by the other session(s).\n",
      "  warnings.warn('An interactive session is already active. This can '\n"
     ]
    },
    {
     "name": "stdout",
     "output_type": "stream",
     "text": [
      "New training set shape (X,Y):  ((19999, 784), (19999, 10))\n",
      "Epoch:0 | Train loss: 44.26 | Train acc: 0.507 | Test acc:0.511\n",
      "Epoch:1 | Train loss: 34.36 | Train acc: 0.881 | Test acc:0.874\n",
      "Epoch:2 | Train loss: 26.87 | Train acc: 0.918 | Test acc:0.909\n",
      "Epoch:3 | Train loss: 21.12 | Train acc: 0.894 | Test acc:0.885\n",
      "Epoch:4 | Train loss: 16.78 | Train acc: 0.709 | Test acc:0.693\n",
      "Epoch:5 | Train loss: 13.10 | Train acc: 0.964 | Test acc:0.945\n",
      "Epoch:6 | Train loss: 10.38 | Train acc: 0.963 | Test acc:0.942\n",
      "Epoch:7 | Train loss: 8.28 | Train acc: 0.953 | Test acc:0.932\n",
      "Epoch:8 | Train loss: 6.63 | Train acc: 0.972 | Test acc:0.952\n",
      "Epoch:9 | Train loss: 5.39 | Train acc: 0.952 | Test acc:0.936\n",
      "Epoch:10 | Train loss: 4.41 | Train acc: 0.965 | Test acc:0.945\n",
      "Epoch:11 | Train loss: 3.66 | Train acc: 0.982 | Test acc:0.957\n",
      "Epoch:12 | Train loss: 3.10 | Train acc: 0.976 | Test acc:0.952\n",
      "Epoch:13 | Train loss: 2.69 | Train acc: 0.962 | Test acc:0.939\n",
      "Without Dropout, MLP with random perturbations\n"
     ]
    },
    {
     "name": "stderr",
     "output_type": "stream",
     "text": [
      "/home/root/adversarial/Gal/models.py:656: FutureWarning: Using a non-tuple sequence for multidimensional indexing is deprecated; use `arr[tuple(seq)]` instead of `arr[seq]`. In the future this will be interpreted as an array index, `arr[np.array(seq)]`, which will result either in an error or a different result.\n",
      "  sample_X_train = X_train[[ind]] # X_train[[start_index,end_index]] ; this would let us take specific indices, so we can randomize the order, ensure each iteration is taking precisely unique samples\n",
      "/home/root/adversarial/Gal/models.py:657: FutureWarning: Using a non-tuple sequence for multidimensional indexing is deprecated; use `arr[tuple(seq)]` instead of `arr[seq]`. In the future this will be interpreted as an array index, `arr[np.array(seq)]`, which will result either in an error or a different result.\n",
      "  sample_Y_train = Y_train[[ind]]\n",
      "/usr/local/lib/python3.5/dist-packages/tensorflow_core/python/client/session.py:1750: UserWarning: An interactive session is already active. This can cause out-of-memory errors in some cases. You must explicitly call `InteractiveSession.close()` to release resources held by the other session(s).\n",
      "  warnings.warn('An interactive session is already active. This can '\n"
     ]
    },
    {
     "name": "stdout",
     "output_type": "stream",
     "text": [
      "New training set shape (X,Y):  ((19999, 784), (19999, 10))\n",
      "Epoch:0 | Train loss: 53.32 | Train acc: 0.876 | Test acc:0.882\n",
      "Epoch:1 | Train loss: 42.69 | Train acc: 0.763 | Test acc:0.771\n",
      "Epoch:2 | Train loss: 34.17 | Train acc: 0.853 | Test acc:0.848\n",
      "Epoch:3 | Train loss: 27.47 | Train acc: 0.812 | Test acc:0.800\n",
      "Epoch:4 | Train loss: 22.05 | Train acc: 0.911 | Test acc:0.898\n",
      "Epoch:5 | Train loss: 17.73 | Train acc: 0.946 | Test acc:0.929\n",
      "Epoch:6 | Train loss: 14.28 | Train acc: 0.968 | Test acc:0.949\n",
      "Epoch:7 | Train loss: 11.53 | Train acc: 0.972 | Test acc:0.951\n",
      "Epoch:8 | Train loss: 9.36 | Train acc: 0.957 | Test acc:0.939\n",
      "Epoch:9 | Train loss: 7.61 | Train acc: 0.974 | Test acc:0.950\n",
      "Epoch:10 | Train loss: 6.23 | Train acc: 0.981 | Test acc:0.955\n",
      "Epoch:11 | Train loss: 5.15 | Train acc: 0.976 | Test acc:0.949\n",
      "Epoch:12 | Train loss: 4.33 | Train acc: 0.944 | Test acc:0.918\n",
      "Epoch:13 | Train loss: 3.62 | Train acc: 0.986 | Test acc:0.961\n",
      "Without Dropout, MLP with random perturbations\n"
     ]
    },
    {
     "name": "stderr",
     "output_type": "stream",
     "text": [
      "/home/root/adversarial/Gal/models.py:656: FutureWarning: Using a non-tuple sequence for multidimensional indexing is deprecated; use `arr[tuple(seq)]` instead of `arr[seq]`. In the future this will be interpreted as an array index, `arr[np.array(seq)]`, which will result either in an error or a different result.\n",
      "  sample_X_train = X_train[[ind]] # X_train[[start_index,end_index]] ; this would let us take specific indices, so we can randomize the order, ensure each iteration is taking precisely unique samples\n",
      "/home/root/adversarial/Gal/models.py:657: FutureWarning: Using a non-tuple sequence for multidimensional indexing is deprecated; use `arr[tuple(seq)]` instead of `arr[seq]`. In the future this will be interpreted as an array index, `arr[np.array(seq)]`, which will result either in an error or a different result.\n",
      "  sample_Y_train = Y_train[[ind]]\n",
      "/usr/local/lib/python3.5/dist-packages/tensorflow_core/python/client/session.py:1750: UserWarning: An interactive session is already active. This can cause out-of-memory errors in some cases. You must explicitly call `InteractiveSession.close()` to release resources held by the other session(s).\n",
      "  warnings.warn('An interactive session is already active. This can '\n"
     ]
    },
    {
     "name": "stdout",
     "output_type": "stream",
     "text": [
      "New training set shape (X,Y):  ((19999, 784), (19999, 10))\n",
      "Epoch:0 | Train loss: 44.75 | Train acc: 0.634 | Test acc:0.637\n",
      "Epoch:1 | Train loss: 34.91 | Train acc: 0.865 | Test acc:0.859\n",
      "Epoch:2 | Train loss: 27.53 | Train acc: 0.738 | Test acc:0.734\n",
      "Epoch:3 | Train loss: 21.61 | Train acc: 0.943 | Test acc:0.929\n",
      "Epoch:4 | Train loss: 17.11 | Train acc: 0.938 | Test acc:0.928\n",
      "Epoch:5 | Train loss: 13.60 | Train acc: 0.937 | Test acc:0.922\n",
      "Epoch:6 | Train loss: 10.87 | Train acc: 0.929 | Test acc:0.915\n",
      "Epoch:7 | Train loss: 8.72 | Train acc: 0.956 | Test acc:0.936\n",
      "Epoch:8 | Train loss: 7.07 | Train acc: 0.939 | Test acc:0.927\n",
      "Epoch:9 | Train loss: 5.85 | Train acc: 0.837 | Test acc:0.826\n",
      "Epoch:10 | Train loss: 4.76 | Train acc: 0.981 | Test acc:0.959\n",
      "Epoch:11 | Train loss: 3.99 | Train acc: 0.981 | Test acc:0.958\n",
      "Epoch:12 | Train loss: 3.39 | Train acc: 0.987 | Test acc:0.961\n",
      "Epoch:13 | Train loss: 2.93 | Train acc: 0.989 | Test acc:0.966\n"
     ]
    }
   ],
   "source": [
    "entropy_val_MLPr_1, acc_MLPr_1, confi_MLPr_1 = ensembling_expt(1, MNIST_X_train, MNIST_Y_train, MNIST_X_val, MNIST_Y_val, MNIST_X_test, MNIST_Y_test, models.MLP_randomperturbation)\n",
    "entropy_val_MLPr_5, acc_MLPr_5, confi_MLPr_5 = ensembling_expt(3, MNIST_X_train, MNIST_Y_train, MNIST_X_val, MNIST_Y_val, MNIST_X_test, MNIST_Y_test, models.MLP_randomperturbation)\n",
    "# entropy_val_MLPr_10, acc_MLPr_10, confi_MLPr_10 = ensembling_expt(10, MNIST_X_train, MNIST_Y_train, MNIST_X_val, MNIST_Y_val, MNIST_X_test, MNIST_Y_test, models.MLP_randomperturbation)\n"
   ]
  },
  {
   "cell_type": "code",
   "execution_count": 8,
   "metadata": {
    "scrolled": true
   },
   "outputs": [
    {
     "name": "stderr",
     "output_type": "stream",
     "text": [
      "/usr/local/lib/python3.5/dist-packages/ipykernel_launcher.py:13: FutureWarning: Using a non-tuple sequence for multidimensional indexing is deprecated; use `arr[tuple(seq)]` instead of `arr[seq]`. In the future this will be interpreted as an array index, `arr[np.array(seq)]`, which will result either in an error or a different result.\n",
      "  del sys.path[0]\n",
      "/usr/local/lib/python3.5/dist-packages/ipykernel_launcher.py:14: FutureWarning: Using a non-tuple sequence for multidimensional indexing is deprecated; use `arr[tuple(seq)]` instead of `arr[seq]`. In the future this will be interpreted as an array index, `arr[np.array(seq)]`, which will result either in an error or a different result.\n",
      "  \n",
      "/usr/local/lib/python3.5/dist-packages/tensorflow_core/python/client/session.py:1750: UserWarning: An interactive session is already active. This can cause out-of-memory errors in some cases. You must explicitly call `InteractiveSession.close()` to release resources held by the other session(s).\n",
      "  warnings.warn('An interactive session is already active. This can '\n"
     ]
    },
    {
     "name": "stdout",
     "output_type": "stream",
     "text": [
      "Without Dropout & Batch Normalization\n",
      "Epoch:0 | Train loss: 33.97 | Train acc: 0.975 | Test acc:0.969\n",
      "Epoch:1 | Train loss: 19.65 | Train acc: 0.984 | Test acc:0.972\n",
      "Epoch:2 | Train loss: 11.67 | Train acc: 0.989 | Test acc:0.978\n",
      "Epoch:3 | Train loss: 7.15 | Train acc: 0.992 | Test acc:0.978\n",
      "Epoch:4 | Train loss: 4.59 | Train acc: 0.993 | Test acc:0.979\n",
      "Epoch:5 | Train loss: 3.15 | Train acc: 0.995 | Test acc:0.982\n",
      "Epoch:6 | Train loss: 2.35 | Train acc: 0.996 | Test acc:0.980\n",
      "Epoch:7 | Train loss: 1.91 | Train acc: 0.996 | Test acc:0.980\n",
      "Epoch:8 | Train loss: 1.69 | Train acc: 0.996 | Test acc:0.979\n",
      "Epoch:9 | Train loss: 1.57 | Train acc: 0.996 | Test acc:0.978\n",
      "Epoch:10 | Train loss: 1.51 | Train acc: 0.997 | Test acc:0.981\n",
      "Epoch:11 | Train loss: 1.48 | Train acc: 0.998 | Test acc:0.981\n",
      "Epoch:12 | Train loss: 1.47 | Train acc: 0.998 | Test acc:0.982\n",
      "Epoch:13 | Train loss: 1.47 | Train acc: 0.997 | Test acc:0.982\n",
      "Without Dropout & Batch Normalization & Adversarial Training\n"
     ]
    },
    {
     "name": "stderr",
     "output_type": "stream",
     "text": [
      "/home/root/adversarial/Gal/models.py:421: FutureWarning: Using a non-tuple sequence for multidimensional indexing is deprecated; use `arr[tuple(seq)]` instead of `arr[seq]`. In the future this will be interpreted as an array index, `arr[np.array(seq)]`, which will result either in an error or a different result.\n",
      "  sample_X_train = X_train[[ind]] # X_train[[start_index,end_index]] ; this would let us take specific indices, so we can randomize the order, ensure each iteration is taking precisely unique samples\n",
      "/home/root/adversarial/Gal/models.py:422: FutureWarning: Using a non-tuple sequence for multidimensional indexing is deprecated; use `arr[tuple(seq)]` instead of `arr[seq]`. In the future this will be interpreted as an array index, `arr[np.array(seq)]`, which will result either in an error or a different result.\n",
      "  sample_Y_train = Y_train[[ind]]\n",
      "/usr/local/lib/python3.5/dist-packages/tensorflow_core/python/client/session.py:1750: UserWarning: An interactive session is already active. This can cause out-of-memory errors in some cases. You must explicitly call `InteractiveSession.close()` to release resources held by the other session(s).\n",
      "  warnings.warn('An interactive session is already active. This can '\n",
      "/home/root/adversarial/Gal/models.py:569: FutureWarning: Using a non-tuple sequence for multidimensional indexing is deprecated; use `arr[tuple(seq)]` instead of `arr[seq]`. In the future this will be interpreted as an array index, `arr[np.array(seq)]`, which will result either in an error or a different result.\n",
      "  sample_X_train = X_train[[ind]] # X_train[[start_index,end_index]] ; this would let us take specific indices, so we can randomize the order, ensure each iteration is taking precisely unique samples\n",
      "/home/root/adversarial/Gal/models.py:570: FutureWarning: Using a non-tuple sequence for multidimensional indexing is deprecated; use `arr[tuple(seq)]` instead of `arr[seq]`. In the future this will be interpreted as an array index, `arr[np.array(seq)]`, which will result either in an error or a different result.\n",
      "  sample_Y_train = Y_train[[ind]]\n"
     ]
    },
    {
     "name": "stdout",
     "output_type": "stream",
     "text": [
      "Epoch:0 | Train loss: 32.20 | Train acc: 0.831 | Test acc:0.970\n",
      "Epoch:1 | Train loss: 16.61 | Train acc: 0.839 | Test acc:0.976\n",
      "Epoch:2 | Train loss: 8.83 | Train acc: 0.842 | Test acc:0.977\n",
      "Epoch:3 | Train loss: 4.94 | Train acc: 0.843 | Test acc:0.979\n",
      "Epoch:4 | Train loss: 3.03 | Train acc: 0.844 | Test acc:0.979\n",
      "Epoch:5 | Train loss: 2.11 | Train acc: 0.846 | Test acc:0.979\n",
      "Epoch:6 | Train loss: 1.71 | Train acc: 0.845 | Test acc:0.978\n",
      "Epoch:7 | Train loss: 1.55 | Train acc: 0.847 | Test acc:0.980\n",
      "Epoch:8 | Train loss: 1.49 | Train acc: 0.848 | Test acc:0.981\n",
      "Epoch:9 | Train loss: 1.47 | Train acc: 0.848 | Test acc:0.981\n",
      "Epoch:10 | Train loss: 1.47 | Train acc: 0.847 | Test acc:0.980\n",
      "Epoch:11 | Train loss: 1.46 | Train acc: 0.848 | Test acc:0.981\n",
      "Epoch:12 | Train loss: 1.46 | Train acc: 0.848 | Test acc:0.983\n",
      "Epoch:13 | Train loss: 1.46 | Train acc: 0.848 | Test acc:0.982\n"
     ]
    },
    {
     "name": "stderr",
     "output_type": "stream",
     "text": [
      "/usr/local/lib/python3.5/dist-packages/ipykernel_launcher.py:13: FutureWarning: Using a non-tuple sequence for multidimensional indexing is deprecated; use `arr[tuple(seq)]` instead of `arr[seq]`. In the future this will be interpreted as an array index, `arr[np.array(seq)]`, which will result either in an error or a different result.\n",
      "  del sys.path[0]\n",
      "/usr/local/lib/python3.5/dist-packages/ipykernel_launcher.py:14: FutureWarning: Using a non-tuple sequence for multidimensional indexing is deprecated; use `arr[tuple(seq)]` instead of `arr[seq]`. In the future this will be interpreted as an array index, `arr[np.array(seq)]`, which will result either in an error or a different result.\n",
      "  \n",
      "/usr/local/lib/python3.5/dist-packages/tensorflow_core/python/client/session.py:1750: UserWarning: An interactive session is already active. This can cause out-of-memory errors in some cases. You must explicitly call `InteractiveSession.close()` to release resources held by the other session(s).\n",
      "  warnings.warn('An interactive session is already active. This can '\n"
     ]
    },
    {
     "name": "stdout",
     "output_type": "stream",
     "text": [
      "Without Dropout & Batch Normalization\n",
      "Epoch:0 | Train loss: 46.47 | Train acc: 0.959 | Test acc:0.947\n",
      "Epoch:1 | Train loss: 37.95 | Train acc: 0.977 | Test acc:0.960\n",
      "Epoch:2 | Train loss: 31.11 | Train acc: 0.987 | Test acc:0.964\n",
      "Epoch:3 | Train loss: 25.59 | Train acc: 0.991 | Test acc:0.969\n",
      "Epoch:4 | Train loss: 21.10 | Train acc: 0.994 | Test acc:0.972\n",
      "Epoch:5 | Train loss: 17.45 | Train acc: 0.995 | Test acc:0.973\n",
      "Epoch:6 | Train loss: 14.47 | Train acc: 0.997 | Test acc:0.970\n",
      "Epoch:7 | Train loss: 12.03 | Train acc: 0.997 | Test acc:0.970\n",
      "Epoch:8 | Train loss: 10.03 | Train acc: 0.997 | Test acc:0.972\n",
      "Epoch:9 | Train loss: 8.39 | Train acc: 0.998 | Test acc:0.971\n",
      "Epoch:10 | Train loss: 7.06 | Train acc: 0.998 | Test acc:0.972\n",
      "Epoch:11 | Train loss: 5.96 | Train acc: 0.998 | Test acc:0.975\n",
      "Epoch:12 | Train loss: 5.08 | Train acc: 0.998 | Test acc:0.972\n",
      "Epoch:13 | Train loss: 4.35 | Train acc: 0.999 | Test acc:0.974\n",
      "Without Dropout & Batch Normalization & Adversarial Training\n"
     ]
    },
    {
     "name": "stderr",
     "output_type": "stream",
     "text": [
      "/home/root/adversarial/Gal/models.py:421: FutureWarning: Using a non-tuple sequence for multidimensional indexing is deprecated; use `arr[tuple(seq)]` instead of `arr[seq]`. In the future this will be interpreted as an array index, `arr[np.array(seq)]`, which will result either in an error or a different result.\n",
      "  sample_X_train = X_train[[ind]] # X_train[[start_index,end_index]] ; this would let us take specific indices, so we can randomize the order, ensure each iteration is taking precisely unique samples\n",
      "/home/root/adversarial/Gal/models.py:422: FutureWarning: Using a non-tuple sequence for multidimensional indexing is deprecated; use `arr[tuple(seq)]` instead of `arr[seq]`. In the future this will be interpreted as an array index, `arr[np.array(seq)]`, which will result either in an error or a different result.\n",
      "  sample_Y_train = Y_train[[ind]]\n",
      "/usr/local/lib/python3.5/dist-packages/tensorflow_core/python/client/session.py:1750: UserWarning: An interactive session is already active. This can cause out-of-memory errors in some cases. You must explicitly call `InteractiveSession.close()` to release resources held by the other session(s).\n",
      "  warnings.warn('An interactive session is already active. This can '\n",
      "/home/root/adversarial/Gal/models.py:569: FutureWarning: Using a non-tuple sequence for multidimensional indexing is deprecated; use `arr[tuple(seq)]` instead of `arr[seq]`. In the future this will be interpreted as an array index, `arr[np.array(seq)]`, which will result either in an error or a different result.\n",
      "  sample_X_train = X_train[[ind]] # X_train[[start_index,end_index]] ; this would let us take specific indices, so we can randomize the order, ensure each iteration is taking precisely unique samples\n",
      "/home/root/adversarial/Gal/models.py:570: FutureWarning: Using a non-tuple sequence for multidimensional indexing is deprecated; use `arr[tuple(seq)]` instead of `arr[seq]`. In the future this will be interpreted as an array index, `arr[np.array(seq)]`, which will result either in an error or a different result.\n",
      "  sample_Y_train = Y_train[[ind]]\n"
     ]
    },
    {
     "name": "stdout",
     "output_type": "stream",
     "text": [
      "Epoch:0 | Train loss: 51.00 | Train acc: 0.820 | Test acc:0.952\n",
      "Epoch:1 | Train loss: 40.45 | Train acc: 0.835 | Test acc:0.962\n",
      "Epoch:2 | Train loss: 32.24 | Train acc: 0.840 | Test acc:0.965\n",
      "Epoch:3 | Train loss: 25.81 | Train acc: 0.845 | Test acc:0.969\n",
      "Epoch:4 | Train loss: 20.75 | Train acc: 0.846 | Test acc:0.973\n",
      "Epoch:5 | Train loss: 16.74 | Train acc: 0.846 | Test acc:0.969\n",
      "Epoch:6 | Train loss: 13.57 | Train acc: 0.847 | Test acc:0.970\n",
      "Epoch:7 | Train loss: 11.05 | Train acc: 0.847 | Test acc:0.972\n",
      "Epoch:8 | Train loss: 9.05 | Train acc: 0.849 | Test acc:0.973\n",
      "Epoch:9 | Train loss: 7.46 | Train acc: 0.848 | Test acc:0.973\n",
      "Epoch:10 | Train loss: 6.20 | Train acc: 0.849 | Test acc:0.975\n",
      "Epoch:11 | Train loss: 5.20 | Train acc: 0.849 | Test acc:0.972\n",
      "Epoch:12 | Train loss: 4.40 | Train acc: 0.848 | Test acc:0.975\n",
      "Epoch:13 | Train loss: 3.77 | Train acc: 0.849 | Test acc:0.972\n",
      "Without Dropout & Batch Normalization\n"
     ]
    },
    {
     "name": "stderr",
     "output_type": "stream",
     "text": [
      "/usr/local/lib/python3.5/dist-packages/tensorflow_core/python/client/session.py:1750: UserWarning: An interactive session is already active. This can cause out-of-memory errors in some cases. You must explicitly call `InteractiveSession.close()` to release resources held by the other session(s).\n",
      "  warnings.warn('An interactive session is already active. This can '\n"
     ]
    },
    {
     "name": "stdout",
     "output_type": "stream",
     "text": [
      "Epoch:0 | Train loss: 49.10 | Train acc: 0.959 | Test acc:0.948\n",
      "Epoch:1 | Train loss: 40.27 | Train acc: 0.980 | Test acc:0.961\n",
      "Epoch:2 | Train loss: 33.18 | Train acc: 0.986 | Test acc:0.964\n",
      "Epoch:3 | Train loss: 27.42 | Train acc: 0.992 | Test acc:0.966\n",
      "Epoch:4 | Train loss: 22.72 | Train acc: 0.993 | Test acc:0.969\n",
      "Epoch:5 | Train loss: 18.87 | Train acc: 0.995 | Test acc:0.970\n",
      "Epoch:6 | Train loss: 15.70 | Train acc: 0.997 | Test acc:0.969\n",
      "Epoch:7 | Train loss: 13.09 | Train acc: 0.997 | Test acc:0.969\n",
      "Epoch:8 | Train loss: 10.95 | Train acc: 0.997 | Test acc:0.969\n",
      "Epoch:9 | Train loss: 9.17 | Train acc: 0.998 | Test acc:0.972\n",
      "Epoch:10 | Train loss: 7.72 | Train acc: 0.997 | Test acc:0.970\n",
      "Epoch:11 | Train loss: 6.52 | Train acc: 0.999 | Test acc:0.971\n",
      "Epoch:12 | Train loss: 5.54 | Train acc: 0.998 | Test acc:0.968\n",
      "Epoch:13 | Train loss: 4.73 | Train acc: 0.999 | Test acc:0.970\n",
      "Without Dropout & Batch Normalization & Adversarial Training\n"
     ]
    },
    {
     "name": "stderr",
     "output_type": "stream",
     "text": [
      "/home/root/adversarial/Gal/models.py:421: FutureWarning: Using a non-tuple sequence for multidimensional indexing is deprecated; use `arr[tuple(seq)]` instead of `arr[seq]`. In the future this will be interpreted as an array index, `arr[np.array(seq)]`, which will result either in an error or a different result.\n",
      "  sample_X_train = X_train[[ind]] # X_train[[start_index,end_index]] ; this would let us take specific indices, so we can randomize the order, ensure each iteration is taking precisely unique samples\n",
      "/home/root/adversarial/Gal/models.py:422: FutureWarning: Using a non-tuple sequence for multidimensional indexing is deprecated; use `arr[tuple(seq)]` instead of `arr[seq]`. In the future this will be interpreted as an array index, `arr[np.array(seq)]`, which will result either in an error or a different result.\n",
      "  sample_Y_train = Y_train[[ind]]\n",
      "/usr/local/lib/python3.5/dist-packages/tensorflow_core/python/client/session.py:1750: UserWarning: An interactive session is already active. This can cause out-of-memory errors in some cases. You must explicitly call `InteractiveSession.close()` to release resources held by the other session(s).\n",
      "  warnings.warn('An interactive session is already active. This can '\n",
      "/home/root/adversarial/Gal/models.py:569: FutureWarning: Using a non-tuple sequence for multidimensional indexing is deprecated; use `arr[tuple(seq)]` instead of `arr[seq]`. In the future this will be interpreted as an array index, `arr[np.array(seq)]`, which will result either in an error or a different result.\n",
      "  sample_X_train = X_train[[ind]] # X_train[[start_index,end_index]] ; this would let us take specific indices, so we can randomize the order, ensure each iteration is taking precisely unique samples\n",
      "/home/root/adversarial/Gal/models.py:570: FutureWarning: Using a non-tuple sequence for multidimensional indexing is deprecated; use `arr[tuple(seq)]` instead of `arr[seq]`. In the future this will be interpreted as an array index, `arr[np.array(seq)]`, which will result either in an error or a different result.\n",
      "  sample_Y_train = Y_train[[ind]]\n"
     ]
    },
    {
     "name": "stdout",
     "output_type": "stream",
     "text": [
      "Epoch:0 | Train loss: 47.98 | Train acc: 0.818 | Test acc:0.948\n",
      "Epoch:1 | Train loss: 38.04 | Train acc: 0.832 | Test acc:0.958\n",
      "Epoch:2 | Train loss: 30.30 | Train acc: 0.841 | Test acc:0.966\n",
      "Epoch:3 | Train loss: 24.22 | Train acc: 0.846 | Test acc:0.971\n",
      "Epoch:4 | Train loss: 19.41 | Train acc: 0.845 | Test acc:0.971\n",
      "Epoch:5 | Train loss: 15.61 | Train acc: 0.847 | Test acc:0.970\n",
      "Epoch:6 | Train loss: 12.59 | Train acc: 0.848 | Test acc:0.972\n",
      "Epoch:7 | Train loss: 10.20 | Train acc: 0.847 | Test acc:0.968\n",
      "Epoch:8 | Train loss: 8.31 | Train acc: 0.849 | Test acc:0.970\n",
      "Epoch:9 | Train loss: 6.81 | Train acc: 0.848 | Test acc:0.971\n",
      "Epoch:10 | Train loss: 5.62 | Train acc: 0.849 | Test acc:0.973\n",
      "Epoch:11 | Train loss: 4.68 | Train acc: 0.848 | Test acc:0.972\n",
      "Epoch:12 | Train loss: 3.94 | Train acc: 0.848 | Test acc:0.970\n",
      "Epoch:13 | Train loss: 3.36 | Train acc: 0.849 | Test acc:0.973\n",
      "Without Dropout & Batch Normalization\n"
     ]
    },
    {
     "name": "stderr",
     "output_type": "stream",
     "text": [
      "/usr/local/lib/python3.5/dist-packages/tensorflow_core/python/client/session.py:1750: UserWarning: An interactive session is already active. This can cause out-of-memory errors in some cases. You must explicitly call `InteractiveSession.close()` to release resources held by the other session(s).\n",
      "  warnings.warn('An interactive session is already active. This can '\n"
     ]
    },
    {
     "name": "stdout",
     "output_type": "stream",
     "text": [
      "Epoch:0 | Train loss: 51.54 | Train acc: 0.954 | Test acc:0.944\n",
      "Epoch:1 | Train loss: 42.41 | Train acc: 0.975 | Test acc:0.960\n",
      "Epoch:2 | Train loss: 35.02 | Train acc: 0.985 | Test acc:0.964\n",
      "Epoch:3 | Train loss: 28.99 | Train acc: 0.990 | Test acc:0.967\n",
      "Epoch:4 | Train loss: 24.06 | Train acc: 0.993 | Test acc:0.967\n",
      "Epoch:5 | Train loss: 20.01 | Train acc: 0.995 | Test acc:0.968\n",
      "Epoch:6 | Train loss: 16.67 | Train acc: 0.996 | Test acc:0.969\n",
      "Epoch:7 | Train loss: 13.92 | Train acc: 0.996 | Test acc:0.967\n",
      "Epoch:8 | Train loss: 11.66 | Train acc: 0.997 | Test acc:0.970\n",
      "Epoch:9 | Train loss: 9.79 | Train acc: 0.997 | Test acc:0.971\n",
      "Epoch:10 | Train loss: 8.25 | Train acc: 0.998 | Test acc:0.971\n",
      "Epoch:11 | Train loss: 6.99 | Train acc: 0.997 | Test acc:0.970\n",
      "Epoch:12 | Train loss: 5.95 | Train acc: 0.998 | Test acc:0.972\n",
      "Epoch:13 | Train loss: 5.10 | Train acc: 0.997 | Test acc:0.970\n",
      "Without Dropout & Batch Normalization & Adversarial Training\n"
     ]
    },
    {
     "name": "stderr",
     "output_type": "stream",
     "text": [
      "/home/root/adversarial/Gal/models.py:421: FutureWarning: Using a non-tuple sequence for multidimensional indexing is deprecated; use `arr[tuple(seq)]` instead of `arr[seq]`. In the future this will be interpreted as an array index, `arr[np.array(seq)]`, which will result either in an error or a different result.\n",
      "  sample_X_train = X_train[[ind]] # X_train[[start_index,end_index]] ; this would let us take specific indices, so we can randomize the order, ensure each iteration is taking precisely unique samples\n",
      "/home/root/adversarial/Gal/models.py:422: FutureWarning: Using a non-tuple sequence for multidimensional indexing is deprecated; use `arr[tuple(seq)]` instead of `arr[seq]`. In the future this will be interpreted as an array index, `arr[np.array(seq)]`, which will result either in an error or a different result.\n",
      "  sample_Y_train = Y_train[[ind]]\n",
      "/usr/local/lib/python3.5/dist-packages/tensorflow_core/python/client/session.py:1750: UserWarning: An interactive session is already active. This can cause out-of-memory errors in some cases. You must explicitly call `InteractiveSession.close()` to release resources held by the other session(s).\n",
      "  warnings.warn('An interactive session is already active. This can '\n",
      "/home/root/adversarial/Gal/models.py:569: FutureWarning: Using a non-tuple sequence for multidimensional indexing is deprecated; use `arr[tuple(seq)]` instead of `arr[seq]`. In the future this will be interpreted as an array index, `arr[np.array(seq)]`, which will result either in an error or a different result.\n",
      "  sample_X_train = X_train[[ind]] # X_train[[start_index,end_index]] ; this would let us take specific indices, so we can randomize the order, ensure each iteration is taking precisely unique samples\n",
      "/home/root/adversarial/Gal/models.py:570: FutureWarning: Using a non-tuple sequence for multidimensional indexing is deprecated; use `arr[tuple(seq)]` instead of `arr[seq]`. In the future this will be interpreted as an array index, `arr[np.array(seq)]`, which will result either in an error or a different result.\n",
      "  sample_Y_train = Y_train[[ind]]\n"
     ]
    },
    {
     "name": "stdout",
     "output_type": "stream",
     "text": [
      "Epoch:0 | Train loss: 44.29 | Train acc: 0.821 | Test acc:0.951\n",
      "Epoch:1 | Train loss: 34.79 | Train acc: 0.834 | Test acc:0.963\n",
      "Epoch:2 | Train loss: 27.47 | Train acc: 0.840 | Test acc:0.966\n",
      "Epoch:3 | Train loss: 21.81 | Train acc: 0.843 | Test acc:0.966\n",
      "Epoch:4 | Train loss: 17.39 | Train acc: 0.845 | Test acc:0.968\n",
      "Epoch:5 | Train loss: 13.93 | Train acc: 0.845 | Test acc:0.969\n",
      "Epoch:6 | Train loss: 11.22 | Train acc: 0.845 | Test acc:0.969\n",
      "Epoch:7 | Train loss: 9.08 | Train acc: 0.847 | Test acc:0.967\n",
      "Epoch:8 | Train loss: 7.41 | Train acc: 0.848 | Test acc:0.969\n",
      "Epoch:9 | Train loss: 6.09 | Train acc: 0.849 | Test acc:0.972\n",
      "Epoch:10 | Train loss: 5.05 | Train acc: 0.848 | Test acc:0.971\n",
      "Epoch:11 | Train loss: 4.24 | Train acc: 0.849 | Test acc:0.971\n",
      "Epoch:12 | Train loss: 3.61 | Train acc: 0.847 | Test acc:0.966\n",
      "Epoch:13 | Train loss: 3.11 | Train acc: 0.847 | Test acc:0.970\n"
     ]
    }
   ],
   "source": [
    "entropy_val_MLPat_1, acc_MLPat_1, confi_MLPat_1 = ensembling_expt(1, MNIST_X_train, MNIST_Y_train, MNIST_X_val, MNIST_Y_val, MNIST_X_test, MNIST_Y_test, models.MLP_adversarialtraining)\n",
    "entropy_val_MLPat_5, acc_MLPat_5, confi_MLPat_5 = ensembling_expt(3, MNIST_X_train, MNIST_Y_train, MNIST_X_val, MNIST_Y_val, MNIST_X_test, MNIST_Y_test, models.MLP_adversarialtraining)\n",
    "# entropy_val_MLPat_10, acc_MLPat_10, confi_MLPat_10 = ensembling_expt(10, MNIST_X_train, MNIST_Y_train, MNIST_X_val, MNIST_Y_val, MNIST_X_test, MNIST_Y_test, models.MLP_adversarialtraining)\n"
   ]
  },
  {
   "cell_type": "code",
   "execution_count": null,
   "metadata": {
    "scrolled": true
   },
   "outputs": [],
   "source": []
  },
  {
   "cell_type": "markdown",
   "metadata": {},
   "source": [
    "### notMNIST plots"
   ]
  },
  {
   "cell_type": "code",
   "execution_count": 9,
   "metadata": {
    "scrolled": true
   },
   "outputs": [
    {
     "name": "stderr",
     "output_type": "stream",
     "text": [
      "/usr/local/lib/python3.5/dist-packages/ipykernel_launcher.py:13: FutureWarning: Using a non-tuple sequence for multidimensional indexing is deprecated; use `arr[tuple(seq)]` instead of `arr[seq]`. In the future this will be interpreted as an array index, `arr[np.array(seq)]`, which will result either in an error or a different result.\n",
      "  del sys.path[0]\n",
      "/usr/local/lib/python3.5/dist-packages/ipykernel_launcher.py:14: FutureWarning: Using a non-tuple sequence for multidimensional indexing is deprecated; use `arr[tuple(seq)]` instead of `arr[seq]`. In the future this will be interpreted as an array index, `arr[np.array(seq)]`, which will result either in an error or a different result.\n",
      "  \n",
      "/usr/local/lib/python3.5/dist-packages/tensorflow_core/python/client/session.py:1750: UserWarning: An interactive session is already active. This can cause out-of-memory errors in some cases. You must explicitly call `InteractiveSession.close()` to release resources held by the other session(s).\n",
      "  warnings.warn('An interactive session is already active. This can '\n"
     ]
    },
    {
     "name": "stdout",
     "output_type": "stream",
     "text": [
      "Without Dropout, Vanilla MLP\n",
      "Epoch:0 | Train loss: 35.27 | Train acc: 0.933 | Test acc:0.057\n",
      "Epoch:1 | Train loss: 19.94 | Train acc: 0.955 | Test acc:0.069\n",
      "Epoch:2 | Train loss: 11.47 | Train acc: 0.966 | Test acc:0.066\n",
      "Epoch:3 | Train loss: 6.78 | Train acc: 0.972 | Test acc:0.072\n",
      "Epoch:4 | Train loss: 4.21 | Train acc: 0.978 | Test acc:0.080\n",
      "Epoch:5 | Train loss: 2.83 | Train acc: 0.982 | Test acc:0.087\n",
      "Epoch:6 | Train loss: 2.11 | Train acc: 0.985 | Test acc:0.091\n",
      "Epoch:7 | Train loss: 1.75 | Train acc: 0.985 | Test acc:0.092\n",
      "Epoch:8 | Train loss: 1.59 | Train acc: 0.988 | Test acc:0.092\n",
      "Epoch:9 | Train loss: 1.51 | Train acc: 0.990 | Test acc:0.084\n",
      "Epoch:10 | Train loss: 1.48 | Train acc: 0.992 | Test acc:0.096\n",
      "Epoch:11 | Train loss: 1.47 | Train acc: 0.991 | Test acc:0.088\n",
      "Epoch:12 | Train loss: 1.47 | Train acc: 0.993 | Test acc:0.076\n",
      "Epoch:13 | Train loss: 1.47 | Train acc: 0.991 | Test acc:0.076\n"
     ]
    },
    {
     "name": "stderr",
     "output_type": "stream",
     "text": [
      "/usr/local/lib/python3.5/dist-packages/ipykernel_launcher.py:13: FutureWarning: Using a non-tuple sequence for multidimensional indexing is deprecated; use `arr[tuple(seq)]` instead of `arr[seq]`. In the future this will be interpreted as an array index, `arr[np.array(seq)]`, which will result either in an error or a different result.\n",
      "  del sys.path[0]\n",
      "/usr/local/lib/python3.5/dist-packages/ipykernel_launcher.py:14: FutureWarning: Using a non-tuple sequence for multidimensional indexing is deprecated; use `arr[tuple(seq)]` instead of `arr[seq]`. In the future this will be interpreted as an array index, `arr[np.array(seq)]`, which will result either in an error or a different result.\n",
      "  \n",
      "/usr/local/lib/python3.5/dist-packages/tensorflow_core/python/client/session.py:1750: UserWarning: An interactive session is already active. This can cause out-of-memory errors in some cases. You must explicitly call `InteractiveSession.close()` to release resources held by the other session(s).\n",
      "  warnings.warn('An interactive session is already active. This can '\n"
     ]
    },
    {
     "name": "stdout",
     "output_type": "stream",
     "text": [
      "Without Dropout, Vanilla MLP\n",
      "Epoch:0 | Train loss: 48.91 | Train acc: 0.902 | Test acc:0.070\n",
      "Epoch:1 | Train loss: 40.04 | Train acc: 0.932 | Test acc:0.087\n",
      "Epoch:2 | Train loss: 32.89 | Train acc: 0.949 | Test acc:0.092\n",
      "Epoch:3 | Train loss: 27.09 | Train acc: 0.957 | Test acc:0.088\n",
      "Epoch:4 | Train loss: 22.36 | Train acc: 0.964 | Test acc:0.097\n",
      "Epoch:5 | Train loss: 18.51 | Train acc: 0.970 | Test acc:0.091\n",
      "Epoch:6 | Train loss: 15.35 | Train acc: 0.975 | Test acc:0.092\n",
      "Epoch:7 | Train loss: 12.77 | Train acc: 0.978 | Test acc:0.086\n",
      "Epoch:8 | Train loss: 10.65 | Train acc: 0.982 | Test acc:0.091\n",
      "Epoch:9 | Train loss: 8.92 | Train acc: 0.983 | Test acc:0.094\n",
      "Epoch:10 | Train loss: 7.49 | Train acc: 0.984 | Test acc:0.086\n",
      "Epoch:11 | Train loss: 6.33 | Train acc: 0.985 | Test acc:0.085\n",
      "Epoch:12 | Train loss: 5.37 | Train acc: 0.989 | Test acc:0.084\n",
      "Epoch:13 | Train loss: 4.59 | Train acc: 0.989 | Test acc:0.076\n",
      "Without Dropout, Vanilla MLP\n"
     ]
    },
    {
     "name": "stderr",
     "output_type": "stream",
     "text": [
      "/usr/local/lib/python3.5/dist-packages/tensorflow_core/python/client/session.py:1750: UserWarning: An interactive session is already active. This can cause out-of-memory errors in some cases. You must explicitly call `InteractiveSession.close()` to release resources held by the other session(s).\n",
      "  warnings.warn('An interactive session is already active. This can '\n"
     ]
    },
    {
     "name": "stdout",
     "output_type": "stream",
     "text": [
      "Epoch:0 | Train loss: 47.09 | Train acc: 0.886 | Test acc:0.045\n",
      "Epoch:1 | Train loss: 38.27 | Train acc: 0.926 | Test acc:0.044\n",
      "Epoch:2 | Train loss: 31.19 | Train acc: 0.945 | Test acc:0.041\n",
      "Epoch:3 | Train loss: 25.46 | Train acc: 0.957 | Test acc:0.063\n",
      "Epoch:4 | Train loss: 20.83 | Train acc: 0.960 | Test acc:0.068\n",
      "Epoch:5 | Train loss: 17.06 | Train acc: 0.964 | Test acc:0.070\n",
      "Epoch:6 | Train loss: 14.00 | Train acc: 0.976 | Test acc:0.096\n",
      "Epoch:7 | Train loss: 11.52 | Train acc: 0.978 | Test acc:0.079\n",
      "Epoch:8 | Train loss: 9.51 | Train acc: 0.982 | Test acc:0.076\n",
      "Epoch:9 | Train loss: 7.88 | Train acc: 0.981 | Test acc:0.082\n",
      "Epoch:10 | Train loss: 6.57 | Train acc: 0.987 | Test acc:0.078\n",
      "Epoch:11 | Train loss: 5.51 | Train acc: 0.987 | Test acc:0.083\n",
      "Epoch:12 | Train loss: 4.66 | Train acc: 0.986 | Test acc:0.076\n",
      "Epoch:13 | Train loss: 3.97 | Train acc: 0.989 | Test acc:0.079\n",
      "Without Dropout, Vanilla MLP\n"
     ]
    },
    {
     "name": "stderr",
     "output_type": "stream",
     "text": [
      "/usr/local/lib/python3.5/dist-packages/tensorflow_core/python/client/session.py:1750: UserWarning: An interactive session is already active. This can cause out-of-memory errors in some cases. You must explicitly call `InteractiveSession.close()` to release resources held by the other session(s).\n",
      "  warnings.warn('An interactive session is already active. This can '\n"
     ]
    },
    {
     "name": "stdout",
     "output_type": "stream",
     "text": [
      "Epoch:0 | Train loss: 47.64 | Train acc: 0.902 | Test acc:0.046\n",
      "Epoch:1 | Train loss: 38.89 | Train acc: 0.926 | Test acc:0.041\n",
      "Epoch:2 | Train loss: 31.85 | Train acc: 0.946 | Test acc:0.044\n",
      "Epoch:3 | Train loss: 26.15 | Train acc: 0.958 | Test acc:0.039\n",
      "Epoch:4 | Train loss: 21.52 | Train acc: 0.963 | Test acc:0.054\n",
      "Epoch:5 | Train loss: 17.75 | Train acc: 0.967 | Test acc:0.055\n",
      "Epoch:6 | Train loss: 14.67 | Train acc: 0.976 | Test acc:0.051\n",
      "Epoch:7 | Train loss: 12.16 | Train acc: 0.980 | Test acc:0.057\n",
      "Epoch:8 | Train loss: 10.10 | Train acc: 0.983 | Test acc:0.048\n",
      "Epoch:9 | Train loss: 8.43 | Train acc: 0.984 | Test acc:0.043\n",
      "Epoch:10 | Train loss: 7.06 | Train acc: 0.986 | Test acc:0.043\n",
      "Epoch:11 | Train loss: 5.94 | Train acc: 0.988 | Test acc:0.051\n",
      "Epoch:12 | Train loss: 5.03 | Train acc: 0.988 | Test acc:0.048\n",
      "Epoch:13 | Train loss: 4.29 | Train acc: 0.991 | Test acc:0.050\n"
     ]
    }
   ],
   "source": [
    "Nentropy_val_MLP_1, Nacc_MLP_1, Nconfi_MLP_1 = ensembling_expt(1, MNIST_X_train, MNIST_Y_train, notMNIST_X_val, notMNIST_Y_val, notMNIST_X_test, notMNIST_Y_test, models.MLP)\n",
    "Nentropy_val_MLP_5, Nacc_MLP_5, Nconfi_MLP_5 = ensembling_expt(3, MNIST_X_train, MNIST_Y_train, notMNIST_X_val, notMNIST_Y_val, notMNIST_X_test, notMNIST_Y_test, models.MLP)\n",
    "# Nentropy_val_MLP_10, Nacc_MLP_10, Nconfi_MLP_10 = ensembling_expt(10, MNIST_X_train, MNIST_Y_train, notMNIST_X_val, notMNIST_Y_val, notMNIST_X_test, notMNIST_Y_test, models.MLP)\n"
   ]
  },
  {
   "cell_type": "code",
   "execution_count": 10,
   "metadata": {
    "scrolled": true
   },
   "outputs": [
    {
     "name": "stderr",
     "output_type": "stream",
     "text": [
      "/usr/local/lib/python3.5/dist-packages/ipykernel_launcher.py:13: FutureWarning: Using a non-tuple sequence for multidimensional indexing is deprecated; use `arr[tuple(seq)]` instead of `arr[seq]`. In the future this will be interpreted as an array index, `arr[np.array(seq)]`, which will result either in an error or a different result.\n",
      "  del sys.path[0]\n",
      "/usr/local/lib/python3.5/dist-packages/ipykernel_launcher.py:14: FutureWarning: Using a non-tuple sequence for multidimensional indexing is deprecated; use `arr[tuple(seq)]` instead of `arr[seq]`. In the future this will be interpreted as an array index, `arr[np.array(seq)]`, which will result either in an error or a different result.\n",
      "  \n"
     ]
    },
    {
     "name": "stdout",
     "output_type": "stream",
     "text": [
      "Without Dropout, MLP with random perturbations\n"
     ]
    },
    {
     "name": "stderr",
     "output_type": "stream",
     "text": [
      "/home/root/adversarial/Gal/models.py:656: FutureWarning: Using a non-tuple sequence for multidimensional indexing is deprecated; use `arr[tuple(seq)]` instead of `arr[seq]`. In the future this will be interpreted as an array index, `arr[np.array(seq)]`, which will result either in an error or a different result.\n",
      "  sample_X_train = X_train[[ind]] # X_train[[start_index,end_index]] ; this would let us take specific indices, so we can randomize the order, ensure each iteration is taking precisely unique samples\n",
      "/home/root/adversarial/Gal/models.py:657: FutureWarning: Using a non-tuple sequence for multidimensional indexing is deprecated; use `arr[tuple(seq)]` instead of `arr[seq]`. In the future this will be interpreted as an array index, `arr[np.array(seq)]`, which will result either in an error or a different result.\n",
      "  sample_Y_train = Y_train[[ind]]\n",
      "/usr/local/lib/python3.5/dist-packages/tensorflow_core/python/client/session.py:1750: UserWarning: An interactive session is already active. This can cause out-of-memory errors in some cases. You must explicitly call `InteractiveSession.close()` to release resources held by the other session(s).\n",
      "  warnings.warn('An interactive session is already active. This can '\n"
     ]
    },
    {
     "name": "stdout",
     "output_type": "stream",
     "text": [
      "New training set shape (X,Y):  ((60000, 784), (60000, 10))\n",
      "Epoch:0 | Train loss: 27.57 | Train acc: 0.918 | Test acc:0.075\n",
      "Epoch:1 | Train loss: 13.72 | Train acc: 0.941 | Test acc:0.070\n",
      "Epoch:2 | Train loss: 7.02 | Train acc: 0.931 | Test acc:0.088\n",
      "Epoch:3 | Train loss: 3.83 | Train acc: 0.965 | Test acc:0.080\n",
      "Epoch:4 | Train loss: 2.40 | Train acc: 0.973 | Test acc:0.084\n",
      "Epoch:5 | Train loss: 1.83 | Train acc: 0.946 | Test acc:0.087\n",
      "Epoch:6 | Train loss: 1.58 | Train acc: 0.981 | Test acc:0.085\n",
      "Epoch:7 | Train loss: 1.51 | Train acc: 0.972 | Test acc:0.082\n",
      "Epoch:8 | Train loss: 1.48 | Train acc: 0.978 | Test acc:0.082\n",
      "Epoch:9 | Train loss: 1.47 | Train acc: 0.986 | Test acc:0.086\n",
      "Epoch:10 | Train loss: 1.47 | Train acc: 0.984 | Test acc:0.091\n",
      "Epoch:11 | Train loss: 1.47 | Train acc: 0.987 | Test acc:0.073\n",
      "Epoch:12 | Train loss: 1.48 | Train acc: 0.978 | Test acc:0.076\n",
      "Epoch:13 | Train loss: 1.48 | Train acc: 0.977 | Test acc:0.071\n"
     ]
    },
    {
     "name": "stderr",
     "output_type": "stream",
     "text": [
      "/usr/local/lib/python3.5/dist-packages/ipykernel_launcher.py:13: FutureWarning: Using a non-tuple sequence for multidimensional indexing is deprecated; use `arr[tuple(seq)]` instead of `arr[seq]`. In the future this will be interpreted as an array index, `arr[np.array(seq)]`, which will result either in an error or a different result.\n",
      "  del sys.path[0]\n",
      "/usr/local/lib/python3.5/dist-packages/ipykernel_launcher.py:14: FutureWarning: Using a non-tuple sequence for multidimensional indexing is deprecated; use `arr[tuple(seq)]` instead of `arr[seq]`. In the future this will be interpreted as an array index, `arr[np.array(seq)]`, which will result either in an error or a different result.\n",
      "  \n"
     ]
    },
    {
     "name": "stdout",
     "output_type": "stream",
     "text": [
      "Without Dropout, MLP with random perturbations\n"
     ]
    },
    {
     "name": "stderr",
     "output_type": "stream",
     "text": [
      "/home/root/adversarial/Gal/models.py:656: FutureWarning: Using a non-tuple sequence for multidimensional indexing is deprecated; use `arr[tuple(seq)]` instead of `arr[seq]`. In the future this will be interpreted as an array index, `arr[np.array(seq)]`, which will result either in an error or a different result.\n",
      "  sample_X_train = X_train[[ind]] # X_train[[start_index,end_index]] ; this would let us take specific indices, so we can randomize the order, ensure each iteration is taking precisely unique samples\n",
      "/home/root/adversarial/Gal/models.py:657: FutureWarning: Using a non-tuple sequence for multidimensional indexing is deprecated; use `arr[tuple(seq)]` instead of `arr[seq]`. In the future this will be interpreted as an array index, `arr[np.array(seq)]`, which will result either in an error or a different result.\n",
      "  sample_Y_train = Y_train[[ind]]\n",
      "/usr/local/lib/python3.5/dist-packages/tensorflow_core/python/client/session.py:1750: UserWarning: An interactive session is already active. This can cause out-of-memory errors in some cases. You must explicitly call `InteractiveSession.close()` to release resources held by the other session(s).\n",
      "  warnings.warn('An interactive session is already active. This can '\n"
     ]
    },
    {
     "name": "stdout",
     "output_type": "stream",
     "text": [
      "New training set shape (X,Y):  ((19999, 784), (19999, 10))\n",
      "Epoch:0 | Train loss: 46.70 | Train acc: 0.869 | Test acc:0.067\n",
      "Epoch:1 | Train loss: 36.79 | Train acc: 0.798 | Test acc:0.090\n",
      "Epoch:2 | Train loss: 29.04 | Train acc: 0.909 | Test acc:0.077\n",
      "Epoch:3 | Train loss: 23.04 | Train acc: 0.915 | Test acc:0.084\n",
      "Epoch:4 | Train loss: 18.32 | Train acc: 0.950 | Test acc:0.095\n",
      "Epoch:5 | Train loss: 14.75 | Train acc: 0.733 | Test acc:0.127\n",
      "Epoch:6 | Train loss: 11.73 | Train acc: 0.927 | Test acc:0.078\n",
      "Epoch:7 | Train loss: 9.41 | Train acc: 0.974 | Test acc:0.087\n",
      "Epoch:8 | Train loss: 7.64 | Train acc: 0.949 | Test acc:0.072\n",
      "Epoch:9 | Train loss: 6.23 | Train acc: 0.935 | Test acc:0.063\n",
      "Epoch:10 | Train loss: 5.10 | Train acc: 0.976 | Test acc:0.091\n",
      "Epoch:11 | Train loss: 4.34 | Train acc: 0.834 | Test acc:0.055\n",
      "Epoch:12 | Train loss: 3.58 | Train acc: 0.977 | Test acc:0.063\n",
      "Epoch:13 | Train loss: 3.06 | Train acc: 0.987 | Test acc:0.062\n",
      "Without Dropout, MLP with random perturbations\n"
     ]
    },
    {
     "name": "stderr",
     "output_type": "stream",
     "text": [
      "/home/root/adversarial/Gal/models.py:656: FutureWarning: Using a non-tuple sequence for multidimensional indexing is deprecated; use `arr[tuple(seq)]` instead of `arr[seq]`. In the future this will be interpreted as an array index, `arr[np.array(seq)]`, which will result either in an error or a different result.\n",
      "  sample_X_train = X_train[[ind]] # X_train[[start_index,end_index]] ; this would let us take specific indices, so we can randomize the order, ensure each iteration is taking precisely unique samples\n",
      "/home/root/adversarial/Gal/models.py:657: FutureWarning: Using a non-tuple sequence for multidimensional indexing is deprecated; use `arr[tuple(seq)]` instead of `arr[seq]`. In the future this will be interpreted as an array index, `arr[np.array(seq)]`, which will result either in an error or a different result.\n",
      "  sample_Y_train = Y_train[[ind]]\n",
      "/usr/local/lib/python3.5/dist-packages/tensorflow_core/python/client/session.py:1750: UserWarning: An interactive session is already active. This can cause out-of-memory errors in some cases. You must explicitly call `InteractiveSession.close()` to release resources held by the other session(s).\n",
      "  warnings.warn('An interactive session is already active. This can '\n"
     ]
    },
    {
     "name": "stdout",
     "output_type": "stream",
     "text": [
      "New training set shape (X,Y):  ((19999, 784), (19999, 10))\n",
      "Epoch:0 | Train loss: 49.60 | Train acc: 0.865 | Test acc:0.084\n",
      "Epoch:1 | Train loss: 39.32 | Train acc: 0.869 | Test acc:0.053\n",
      "Epoch:2 | Train loss: 31.29 | Train acc: 0.921 | Test acc:0.059\n",
      "Epoch:3 | Train loss: 25.00 | Train acc: 0.917 | Test acc:0.058\n",
      "Epoch:4 | Train loss: 19.98 | Train acc: 0.963 | Test acc:0.068\n",
      "Epoch:5 | Train loss: 16.04 | Train acc: 0.955 | Test acc:0.054\n",
      "Epoch:6 | Train loss: 12.99 | Train acc: 0.835 | Test acc:0.083\n",
      "Epoch:7 | Train loss: 10.42 | Train acc: 0.970 | Test acc:0.060\n",
      "Epoch:8 | Train loss: 8.45 | Train acc: 0.968 | Test acc:0.066\n",
      "Epoch:9 | Train loss: 6.90 | Train acc: 0.969 | Test acc:0.068\n",
      "Epoch:10 | Train loss: 5.66 | Train acc: 0.983 | Test acc:0.065\n",
      "Epoch:11 | Train loss: 4.70 | Train acc: 0.971 | Test acc:0.070\n",
      "Epoch:12 | Train loss: 3.93 | Train acc: 0.986 | Test acc:0.070\n",
      "Epoch:13 | Train loss: 3.39 | Train acc: 0.891 | Test acc:0.073\n",
      "Without Dropout, MLP with random perturbations\n"
     ]
    },
    {
     "name": "stderr",
     "output_type": "stream",
     "text": [
      "/home/root/adversarial/Gal/models.py:656: FutureWarning: Using a non-tuple sequence for multidimensional indexing is deprecated; use `arr[tuple(seq)]` instead of `arr[seq]`. In the future this will be interpreted as an array index, `arr[np.array(seq)]`, which will result either in an error or a different result.\n",
      "  sample_X_train = X_train[[ind]] # X_train[[start_index,end_index]] ; this would let us take specific indices, so we can randomize the order, ensure each iteration is taking precisely unique samples\n",
      "/home/root/adversarial/Gal/models.py:657: FutureWarning: Using a non-tuple sequence for multidimensional indexing is deprecated; use `arr[tuple(seq)]` instead of `arr[seq]`. In the future this will be interpreted as an array index, `arr[np.array(seq)]`, which will result either in an error or a different result.\n",
      "  sample_Y_train = Y_train[[ind]]\n",
      "/usr/local/lib/python3.5/dist-packages/tensorflow_core/python/client/session.py:1750: UserWarning: An interactive session is already active. This can cause out-of-memory errors in some cases. You must explicitly call `InteractiveSession.close()` to release resources held by the other session(s).\n",
      "  warnings.warn('An interactive session is already active. This can '\n"
     ]
    },
    {
     "name": "stdout",
     "output_type": "stream",
     "text": [
      "New training set shape (X,Y):  ((19999, 784), (19999, 10))\n",
      "Epoch:0 | Train loss: 44.14 | Train acc: 0.584 | Test acc:0.070\n",
      "Epoch:1 | Train loss: 34.12 | Train acc: 0.892 | Test acc:0.056\n",
      "Epoch:2 | Train loss: 26.57 | Train acc: 0.914 | Test acc:0.072\n",
      "Epoch:3 | Train loss: 20.76 | Train acc: 0.918 | Test acc:0.077\n",
      "Epoch:4 | Train loss: 16.32 | Train acc: 0.756 | Test acc:0.078\n",
      "Epoch:5 | Train loss: 12.73 | Train acc: 0.962 | Test acc:0.056\n",
      "Epoch:6 | Train loss: 10.03 | Train acc: 0.959 | Test acc:0.070\n",
      "Epoch:7 | Train loss: 7.94 | Train acc: 0.975 | Test acc:0.066\n",
      "Epoch:8 | Train loss: 6.35 | Train acc: 0.955 | Test acc:0.077\n",
      "Epoch:9 | Train loss: 5.14 | Train acc: 0.944 | Test acc:0.091\n",
      "Epoch:10 | Train loss: 4.18 | Train acc: 0.978 | Test acc:0.072\n",
      "Epoch:11 | Train loss: 3.48 | Train acc: 0.977 | Test acc:0.082\n",
      "Epoch:12 | Train loss: 2.95 | Train acc: 0.974 | Test acc:0.098\n",
      "Epoch:13 | Train loss: 2.55 | Train acc: 0.982 | Test acc:0.069\n"
     ]
    }
   ],
   "source": [
    "Nentropy_val_MLPr_1, Nacc_MLPr_1, Nconfi_MLPr_1 = ensembling_expt(1, MNIST_X_train, MNIST_Y_train, notMNIST_X_val, notMNIST_Y_val, notMNIST_X_test, notMNIST_Y_test, models.MLP_randomperturbation)\n",
    "Nentropy_val_MLPr_5, Nacc_MLPr_5, Nconfi_MLPr_5 = ensembling_expt(3, MNIST_X_train, MNIST_Y_train, notMNIST_X_val, notMNIST_Y_val, notMNIST_X_test, notMNIST_Y_test, models.MLP_randomperturbation)\n",
    "# Nentropy_val_MLPr_10, Nacc_MLPr_10, Nconfi_MLPr_10 = ensembling_expt(10, MNIST_X_train, MNIST_Y_train, notMNIST_X_val, notMNIST_Y_val, notMNIST_X_test, notMNIST_Y_test, models.MLP_randomperturbation)\n"
   ]
  },
  {
   "cell_type": "code",
   "execution_count": 11,
   "metadata": {
    "scrolled": true
   },
   "outputs": [
    {
     "name": "stderr",
     "output_type": "stream",
     "text": [
      "/usr/local/lib/python3.5/dist-packages/ipykernel_launcher.py:13: FutureWarning: Using a non-tuple sequence for multidimensional indexing is deprecated; use `arr[tuple(seq)]` instead of `arr[seq]`. In the future this will be interpreted as an array index, `arr[np.array(seq)]`, which will result either in an error or a different result.\n",
      "  del sys.path[0]\n",
      "/usr/local/lib/python3.5/dist-packages/ipykernel_launcher.py:14: FutureWarning: Using a non-tuple sequence for multidimensional indexing is deprecated; use `arr[tuple(seq)]` instead of `arr[seq]`. In the future this will be interpreted as an array index, `arr[np.array(seq)]`, which will result either in an error or a different result.\n",
      "  \n",
      "/usr/local/lib/python3.5/dist-packages/tensorflow_core/python/client/session.py:1750: UserWarning: An interactive session is already active. This can cause out-of-memory errors in some cases. You must explicitly call `InteractiveSession.close()` to release resources held by the other session(s).\n",
      "  warnings.warn('An interactive session is already active. This can '\n"
     ]
    },
    {
     "name": "stdout",
     "output_type": "stream",
     "text": [
      "Without Dropout & Batch Normalization\n",
      "Epoch:0 | Train loss: 34.36 | Train acc: 0.972 | Test acc:0.124\n",
      "Epoch:1 | Train loss: 19.72 | Train acc: 0.984 | Test acc:0.101\n",
      "Epoch:2 | Train loss: 11.56 | Train acc: 0.988 | Test acc:0.107\n",
      "Epoch:3 | Train loss: 6.99 | Train acc: 0.992 | Test acc:0.086\n",
      "Epoch:4 | Train loss: 4.44 | Train acc: 0.992 | Test acc:0.091\n",
      "Epoch:5 | Train loss: 3.03 | Train acc: 0.994 | Test acc:0.087\n",
      "Epoch:6 | Train loss: 2.26 | Train acc: 0.996 | Test acc:0.094\n",
      "Epoch:7 | Train loss: 1.86 | Train acc: 0.995 | Test acc:0.070\n",
      "Epoch:8 | Train loss: 1.65 | Train acc: 0.996 | Test acc:0.072\n",
      "Epoch:9 | Train loss: 1.54 | Train acc: 0.996 | Test acc:0.105\n",
      "Epoch:10 | Train loss: 1.50 | Train acc: 0.995 | Test acc:0.083\n",
      "Epoch:11 | Train loss: 1.48 | Train acc: 0.997 | Test acc:0.077\n",
      "Epoch:12 | Train loss: 1.47 | Train acc: 0.997 | Test acc:0.109\n",
      "Epoch:13 | Train loss: 1.46 | Train acc: 0.998 | Test acc:0.070\n",
      "Without Dropout & Batch Normalization & Adversarial Training\n"
     ]
    },
    {
     "name": "stderr",
     "output_type": "stream",
     "text": [
      "/home/root/adversarial/Gal/models.py:421: FutureWarning: Using a non-tuple sequence for multidimensional indexing is deprecated; use `arr[tuple(seq)]` instead of `arr[seq]`. In the future this will be interpreted as an array index, `arr[np.array(seq)]`, which will result either in an error or a different result.\n",
      "  sample_X_train = X_train[[ind]] # X_train[[start_index,end_index]] ; this would let us take specific indices, so we can randomize the order, ensure each iteration is taking precisely unique samples\n",
      "/home/root/adversarial/Gal/models.py:422: FutureWarning: Using a non-tuple sequence for multidimensional indexing is deprecated; use `arr[tuple(seq)]` instead of `arr[seq]`. In the future this will be interpreted as an array index, `arr[np.array(seq)]`, which will result either in an error or a different result.\n",
      "  sample_Y_train = Y_train[[ind]]\n",
      "/usr/local/lib/python3.5/dist-packages/tensorflow_core/python/client/session.py:1750: UserWarning: An interactive session is already active. This can cause out-of-memory errors in some cases. You must explicitly call `InteractiveSession.close()` to release resources held by the other session(s).\n",
      "  warnings.warn('An interactive session is already active. This can '\n",
      "/home/root/adversarial/Gal/models.py:569: FutureWarning: Using a non-tuple sequence for multidimensional indexing is deprecated; use `arr[tuple(seq)]` instead of `arr[seq]`. In the future this will be interpreted as an array index, `arr[np.array(seq)]`, which will result either in an error or a different result.\n",
      "  sample_X_train = X_train[[ind]] # X_train[[start_index,end_index]] ; this would let us take specific indices, so we can randomize the order, ensure each iteration is taking precisely unique samples\n",
      "/home/root/adversarial/Gal/models.py:570: FutureWarning: Using a non-tuple sequence for multidimensional indexing is deprecated; use `arr[tuple(seq)]` instead of `arr[seq]`. In the future this will be interpreted as an array index, `arr[np.array(seq)]`, which will result either in an error or a different result.\n",
      "  sample_Y_train = Y_train[[ind]]\n"
     ]
    },
    {
     "name": "stdout",
     "output_type": "stream",
     "text": [
      "Epoch:0 | Train loss: 25.78 | Train acc: 0.832 | Test acc:0.110\n",
      "Epoch:1 | Train loss: 12.55 | Train acc: 0.838 | Test acc:0.108\n",
      "Epoch:2 | Train loss: 6.51 | Train acc: 0.841 | Test acc:0.093\n",
      "Epoch:3 | Train loss: 3.74 | Train acc: 0.845 | Test acc:0.140\n",
      "Epoch:4 | Train loss: 2.48 | Train acc: 0.845 | Test acc:0.110\n",
      "Epoch:5 | Train loss: 1.91 | Train acc: 0.846 | Test acc:0.093\n",
      "Epoch:6 | Train loss: 1.65 | Train acc: 0.846 | Test acc:0.094\n",
      "Epoch:7 | Train loss: 1.54 | Train acc: 0.846 | Test acc:0.090\n",
      "Epoch:8 | Train loss: 1.49 | Train acc: 0.847 | Test acc:0.094\n",
      "Epoch:9 | Train loss: 1.47 | Train acc: 0.847 | Test acc:0.097\n",
      "Epoch:10 | Train loss: 1.47 | Train acc: 0.847 | Test acc:0.096\n",
      "Epoch:11 | Train loss: 1.46 | Train acc: 0.848 | Test acc:0.079\n",
      "Epoch:12 | Train loss: 1.46 | Train acc: 0.848 | Test acc:0.112\n",
      "Epoch:13 | Train loss: 1.46 | Train acc: 0.848 | Test acc:0.097\n"
     ]
    },
    {
     "name": "stderr",
     "output_type": "stream",
     "text": [
      "/usr/local/lib/python3.5/dist-packages/ipykernel_launcher.py:13: FutureWarning: Using a non-tuple sequence for multidimensional indexing is deprecated; use `arr[tuple(seq)]` instead of `arr[seq]`. In the future this will be interpreted as an array index, `arr[np.array(seq)]`, which will result either in an error or a different result.\n",
      "  del sys.path[0]\n",
      "/usr/local/lib/python3.5/dist-packages/ipykernel_launcher.py:14: FutureWarning: Using a non-tuple sequence for multidimensional indexing is deprecated; use `arr[tuple(seq)]` instead of `arr[seq]`. In the future this will be interpreted as an array index, `arr[np.array(seq)]`, which will result either in an error or a different result.\n",
      "  \n",
      "/usr/local/lib/python3.5/dist-packages/tensorflow_core/python/client/session.py:1750: UserWarning: An interactive session is already active. This can cause out-of-memory errors in some cases. You must explicitly call `InteractiveSession.close()` to release resources held by the other session(s).\n",
      "  warnings.warn('An interactive session is already active. This can '\n"
     ]
    },
    {
     "name": "stdout",
     "output_type": "stream",
     "text": [
      "Without Dropout & Batch Normalization\n",
      "Epoch:0 | Train loss: 53.24 | Train acc: 0.962 | Test acc:0.103\n",
      "Epoch:1 | Train loss: 43.73 | Train acc: 0.979 | Test acc:0.087\n",
      "Epoch:2 | Train loss: 36.03 | Train acc: 0.987 | Test acc:0.103\n",
      "Epoch:3 | Train loss: 29.77 | Train acc: 0.992 | Test acc:0.111\n",
      "Epoch:4 | Train loss: 24.66 | Train acc: 0.994 | Test acc:0.096\n",
      "Epoch:5 | Train loss: 20.47 | Train acc: 0.996 | Test acc:0.084\n",
      "Epoch:6 | Train loss: 17.04 | Train acc: 0.997 | Test acc:0.084\n",
      "Epoch:7 | Train loss: 14.23 | Train acc: 0.998 | Test acc:0.093\n",
      "Epoch:8 | Train loss: 11.92 | Train acc: 0.998 | Test acc:0.088\n",
      "Epoch:9 | Train loss: 10.03 | Train acc: 0.998 | Test acc:0.095\n",
      "Epoch:10 | Train loss: 8.47 | Train acc: 0.998 | Test acc:0.093\n",
      "Epoch:11 | Train loss: 7.20 | Train acc: 0.998 | Test acc:0.105\n",
      "Epoch:12 | Train loss: 6.15 | Train acc: 0.998 | Test acc:0.091\n",
      "Epoch:13 | Train loss: 5.29 | Train acc: 0.999 | Test acc:0.103\n",
      "Without Dropout & Batch Normalization & Adversarial Training\n"
     ]
    },
    {
     "name": "stderr",
     "output_type": "stream",
     "text": [
      "/home/root/adversarial/Gal/models.py:421: FutureWarning: Using a non-tuple sequence for multidimensional indexing is deprecated; use `arr[tuple(seq)]` instead of `arr[seq]`. In the future this will be interpreted as an array index, `arr[np.array(seq)]`, which will result either in an error or a different result.\n",
      "  sample_X_train = X_train[[ind]] # X_train[[start_index,end_index]] ; this would let us take specific indices, so we can randomize the order, ensure each iteration is taking precisely unique samples\n",
      "/home/root/adversarial/Gal/models.py:422: FutureWarning: Using a non-tuple sequence for multidimensional indexing is deprecated; use `arr[tuple(seq)]` instead of `arr[seq]`. In the future this will be interpreted as an array index, `arr[np.array(seq)]`, which will result either in an error or a different result.\n",
      "  sample_Y_train = Y_train[[ind]]\n",
      "/usr/local/lib/python3.5/dist-packages/tensorflow_core/python/client/session.py:1750: UserWarning: An interactive session is already active. This can cause out-of-memory errors in some cases. You must explicitly call `InteractiveSession.close()` to release resources held by the other session(s).\n",
      "  warnings.warn('An interactive session is already active. This can '\n",
      "/home/root/adversarial/Gal/models.py:569: FutureWarning: Using a non-tuple sequence for multidimensional indexing is deprecated; use `arr[tuple(seq)]` instead of `arr[seq]`. In the future this will be interpreted as an array index, `arr[np.array(seq)]`, which will result either in an error or a different result.\n",
      "  sample_X_train = X_train[[ind]] # X_train[[start_index,end_index]] ; this would let us take specific indices, so we can randomize the order, ensure each iteration is taking precisely unique samples\n",
      "/home/root/adversarial/Gal/models.py:570: FutureWarning: Using a non-tuple sequence for multidimensional indexing is deprecated; use `arr[tuple(seq)]` instead of `arr[seq]`. In the future this will be interpreted as an array index, `arr[np.array(seq)]`, which will result either in an error or a different result.\n",
      "  sample_Y_train = Y_train[[ind]]\n"
     ]
    },
    {
     "name": "stdout",
     "output_type": "stream",
     "text": [
      "Epoch:0 | Train loss: 47.09 | Train acc: 0.818 | Test acc:0.102\n",
      "Epoch:1 | Train loss: 37.20 | Train acc: 0.834 | Test acc:0.113\n",
      "Epoch:2 | Train loss: 29.56 | Train acc: 0.841 | Test acc:0.101\n",
      "Epoch:3 | Train loss: 23.61 | Train acc: 0.844 | Test acc:0.095\n",
      "Epoch:4 | Train loss: 18.93 | Train acc: 0.846 | Test acc:0.089\n",
      "Epoch:5 | Train loss: 15.26 | Train acc: 0.847 | Test acc:0.083\n",
      "Epoch:6 | Train loss: 12.35 | Train acc: 0.849 | Test acc:0.111\n",
      "Epoch:7 | Train loss: 10.05 | Train acc: 0.849 | Test acc:0.105\n",
      "Epoch:8 | Train loss: 8.23 | Train acc: 0.848 | Test acc:0.098\n",
      "Epoch:9 | Train loss: 6.79 | Train acc: 0.847 | Test acc:0.110\n",
      "Epoch:10 | Train loss: 5.64 | Train acc: 0.847 | Test acc:0.110\n",
      "Epoch:11 | Train loss: 4.73 | Train acc: 0.847 | Test acc:0.112\n",
      "Epoch:12 | Train loss: 4.01 | Train acc: 0.849 | Test acc:0.121\n",
      "Epoch:13 | Train loss: 3.44 | Train acc: 0.849 | Test acc:0.105\n",
      "Without Dropout & Batch Normalization\n"
     ]
    },
    {
     "name": "stderr",
     "output_type": "stream",
     "text": [
      "/usr/local/lib/python3.5/dist-packages/tensorflow_core/python/client/session.py:1750: UserWarning: An interactive session is already active. This can cause out-of-memory errors in some cases. You must explicitly call `InteractiveSession.close()` to release resources held by the other session(s).\n",
      "  warnings.warn('An interactive session is already active. This can '\n"
     ]
    },
    {
     "name": "stdout",
     "output_type": "stream",
     "text": [
      "Epoch:0 | Train loss: 59.40 | Train acc: 0.955 | Test acc:0.107\n",
      "Epoch:1 | Train loss: 49.48 | Train acc: 0.976 | Test acc:0.090\n",
      "Epoch:2 | Train loss: 41.33 | Train acc: 0.986 | Test acc:0.097\n",
      "Epoch:3 | Train loss: 34.59 | Train acc: 0.991 | Test acc:0.090\n",
      "Epoch:4 | Train loss: 28.98 | Train acc: 0.993 | Test acc:0.103\n",
      "Epoch:5 | Train loss: 24.30 | Train acc: 0.995 | Test acc:0.081\n",
      "Epoch:6 | Train loss: 20.38 | Train acc: 0.996 | Test acc:0.086\n",
      "Epoch:7 | Train loss: 17.11 | Train acc: 0.997 | Test acc:0.081\n",
      "Epoch:8 | Train loss: 14.37 | Train acc: 0.997 | Test acc:0.093\n",
      "Epoch:9 | Train loss: 12.08 | Train acc: 0.997 | Test acc:0.083\n",
      "Epoch:10 | Train loss: 10.17 | Train acc: 0.998 | Test acc:0.084\n",
      "Epoch:11 | Train loss: 8.59 | Train acc: 0.998 | Test acc:0.063\n",
      "Epoch:12 | Train loss: 7.27 | Train acc: 0.998 | Test acc:0.068\n",
      "Epoch:13 | Train loss: 6.18 | Train acc: 0.999 | Test acc:0.072\n",
      "Without Dropout & Batch Normalization & Adversarial Training\n"
     ]
    },
    {
     "name": "stderr",
     "output_type": "stream",
     "text": [
      "/home/root/adversarial/Gal/models.py:421: FutureWarning: Using a non-tuple sequence for multidimensional indexing is deprecated; use `arr[tuple(seq)]` instead of `arr[seq]`. In the future this will be interpreted as an array index, `arr[np.array(seq)]`, which will result either in an error or a different result.\n",
      "  sample_X_train = X_train[[ind]] # X_train[[start_index,end_index]] ; this would let us take specific indices, so we can randomize the order, ensure each iteration is taking precisely unique samples\n",
      "/home/root/adversarial/Gal/models.py:422: FutureWarning: Using a non-tuple sequence for multidimensional indexing is deprecated; use `arr[tuple(seq)]` instead of `arr[seq]`. In the future this will be interpreted as an array index, `arr[np.array(seq)]`, which will result either in an error or a different result.\n",
      "  sample_Y_train = Y_train[[ind]]\n",
      "/usr/local/lib/python3.5/dist-packages/tensorflow_core/python/client/session.py:1750: UserWarning: An interactive session is already active. This can cause out-of-memory errors in some cases. You must explicitly call `InteractiveSession.close()` to release resources held by the other session(s).\n",
      "  warnings.warn('An interactive session is already active. This can '\n",
      "/home/root/adversarial/Gal/models.py:569: FutureWarning: Using a non-tuple sequence for multidimensional indexing is deprecated; use `arr[tuple(seq)]` instead of `arr[seq]`. In the future this will be interpreted as an array index, `arr[np.array(seq)]`, which will result either in an error or a different result.\n",
      "  sample_X_train = X_train[[ind]] # X_train[[start_index,end_index]] ; this would let us take specific indices, so we can randomize the order, ensure each iteration is taking precisely unique samples\n",
      "/home/root/adversarial/Gal/models.py:570: FutureWarning: Using a non-tuple sequence for multidimensional indexing is deprecated; use `arr[tuple(seq)]` instead of `arr[seq]`. In the future this will be interpreted as an array index, `arr[np.array(seq)]`, which will result either in an error or a different result.\n",
      "  sample_Y_train = Y_train[[ind]]\n"
     ]
    },
    {
     "name": "stdout",
     "output_type": "stream",
     "text": [
      "Epoch:0 | Train loss: 48.34 | Train acc: 0.818 | Test acc:0.085\n",
      "Epoch:1 | Train loss: 38.19 | Train acc: 0.834 | Test acc:0.096\n",
      "Epoch:2 | Train loss: 30.33 | Train acc: 0.841 | Test acc:0.104\n",
      "Epoch:3 | Train loss: 24.17 | Train acc: 0.843 | Test acc:0.070\n",
      "Epoch:4 | Train loss: 19.32 | Train acc: 0.846 | Test acc:0.080\n",
      "Epoch:5 | Train loss: 15.50 | Train acc: 0.846 | Test acc:0.092\n",
      "Epoch:6 | Train loss: 12.48 | Train acc: 0.848 | Test acc:0.104\n",
      "Epoch:7 | Train loss: 10.09 | Train acc: 0.848 | Test acc:0.108\n",
      "Epoch:8 | Train loss: 8.20 | Train acc: 0.847 | Test acc:0.112\n",
      "Epoch:9 | Train loss: 6.71 | Train acc: 0.847 | Test acc:0.074\n",
      "Epoch:10 | Train loss: 5.54 | Train acc: 0.848 | Test acc:0.114\n",
      "Epoch:11 | Train loss: 4.62 | Train acc: 0.847 | Test acc:0.098\n",
      "Epoch:12 | Train loss: 3.89 | Train acc: 0.848 | Test acc:0.093\n",
      "Epoch:13 | Train loss: 3.33 | Train acc: 0.847 | Test acc:0.079\n",
      "Without Dropout & Batch Normalization\n"
     ]
    },
    {
     "name": "stderr",
     "output_type": "stream",
     "text": [
      "/usr/local/lib/python3.5/dist-packages/tensorflow_core/python/client/session.py:1750: UserWarning: An interactive session is already active. This can cause out-of-memory errors in some cases. You must explicitly call `InteractiveSession.close()` to release resources held by the other session(s).\n",
      "  warnings.warn('An interactive session is already active. This can '\n"
     ]
    },
    {
     "name": "stdout",
     "output_type": "stream",
     "text": [
      "Epoch:0 | Train loss: 50.90 | Train acc: 0.960 | Test acc:0.112\n",
      "Epoch:1 | Train loss: 41.73 | Train acc: 0.980 | Test acc:0.110\n",
      "Epoch:2 | Train loss: 34.34 | Train acc: 0.987 | Test acc:0.102\n",
      "Epoch:3 | Train loss: 28.33 | Train acc: 0.993 | Test acc:0.083\n",
      "Epoch:4 | Train loss: 23.44 | Train acc: 0.995 | Test acc:0.093\n",
      "Epoch:5 | Train loss: 19.44 | Train acc: 0.996 | Test acc:0.072\n",
      "Epoch:6 | Train loss: 16.16 | Train acc: 0.997 | Test acc:0.084\n",
      "Epoch:7 | Train loss: 13.47 | Train acc: 0.998 | Test acc:0.083\n",
      "Epoch:8 | Train loss: 11.26 | Train acc: 0.997 | Test acc:0.082\n",
      "Epoch:9 | Train loss: 9.44 | Train acc: 0.997 | Test acc:0.093\n",
      "Epoch:10 | Train loss: 7.95 | Train acc: 0.998 | Test acc:0.095\n",
      "Epoch:11 | Train loss: 6.72 | Train acc: 0.998 | Test acc:0.089\n",
      "Epoch:12 | Train loss: 5.71 | Train acc: 0.999 | Test acc:0.095\n",
      "Epoch:13 | Train loss: 4.89 | Train acc: 0.998 | Test acc:0.094\n",
      "Without Dropout & Batch Normalization & Adversarial Training\n"
     ]
    },
    {
     "name": "stderr",
     "output_type": "stream",
     "text": [
      "/home/root/adversarial/Gal/models.py:421: FutureWarning: Using a non-tuple sequence for multidimensional indexing is deprecated; use `arr[tuple(seq)]` instead of `arr[seq]`. In the future this will be interpreted as an array index, `arr[np.array(seq)]`, which will result either in an error or a different result.\n",
      "  sample_X_train = X_train[[ind]] # X_train[[start_index,end_index]] ; this would let us take specific indices, so we can randomize the order, ensure each iteration is taking precisely unique samples\n",
      "/home/root/adversarial/Gal/models.py:422: FutureWarning: Using a non-tuple sequence for multidimensional indexing is deprecated; use `arr[tuple(seq)]` instead of `arr[seq]`. In the future this will be interpreted as an array index, `arr[np.array(seq)]`, which will result either in an error or a different result.\n",
      "  sample_Y_train = Y_train[[ind]]\n",
      "/usr/local/lib/python3.5/dist-packages/tensorflow_core/python/client/session.py:1750: UserWarning: An interactive session is already active. This can cause out-of-memory errors in some cases. You must explicitly call `InteractiveSession.close()` to release resources held by the other session(s).\n",
      "  warnings.warn('An interactive session is already active. This can '\n",
      "/home/root/adversarial/Gal/models.py:569: FutureWarning: Using a non-tuple sequence for multidimensional indexing is deprecated; use `arr[tuple(seq)]` instead of `arr[seq]`. In the future this will be interpreted as an array index, `arr[np.array(seq)]`, which will result either in an error or a different result.\n",
      "  sample_X_train = X_train[[ind]] # X_train[[start_index,end_index]] ; this would let us take specific indices, so we can randomize the order, ensure each iteration is taking precisely unique samples\n",
      "/home/root/adversarial/Gal/models.py:570: FutureWarning: Using a non-tuple sequence for multidimensional indexing is deprecated; use `arr[tuple(seq)]` instead of `arr[seq]`. In the future this will be interpreted as an array index, `arr[np.array(seq)]`, which will result either in an error or a different result.\n",
      "  sample_Y_train = Y_train[[ind]]\n"
     ]
    },
    {
     "name": "stdout",
     "output_type": "stream",
     "text": [
      "Epoch:0 | Train loss: 45.15 | Train acc: 0.821 | Test acc:0.110\n",
      "Epoch:1 | Train loss: 35.33 | Train acc: 0.835 | Test acc:0.097\n",
      "Epoch:2 | Train loss: 27.75 | Train acc: 0.840 | Test acc:0.108\n",
      "Epoch:3 | Train loss: 21.86 | Train acc: 0.845 | Test acc:0.104\n",
      "Epoch:4 | Train loss: 17.27 | Train acc: 0.846 | Test acc:0.092\n",
      "Epoch:5 | Train loss: 13.69 | Train acc: 0.846 | Test acc:0.092\n",
      "Epoch:6 | Train loss: 10.89 | Train acc: 0.848 | Test acc:0.100\n",
      "Epoch:7 | Train loss: 8.71 | Train acc: 0.847 | Test acc:0.110\n",
      "Epoch:8 | Train loss: 7.02 | Train acc: 0.848 | Test acc:0.100\n",
      "Epoch:9 | Train loss: 5.71 | Train acc: 0.850 | Test acc:0.093\n",
      "Epoch:10 | Train loss: 4.70 | Train acc: 0.849 | Test acc:0.101\n",
      "Epoch:11 | Train loss: 3.92 | Train acc: 0.849 | Test acc:0.078\n",
      "Epoch:12 | Train loss: 3.32 | Train acc: 0.847 | Test acc:0.093\n",
      "Epoch:13 | Train loss: 2.86 | Train acc: 0.848 | Test acc:0.078\n"
     ]
    }
   ],
   "source": [
    "Nentropy_val_MLPat_1, Nacc_MLPat_1, Nconfi_MLPat_1 = ensembling_expt(1, MNIST_X_train, MNIST_Y_train, notMNIST_X_val, notMNIST_Y_val, notMNIST_X_test, notMNIST_Y_test, models.MLP_adversarialtraining)\n",
    "Nentropy_val_MLPat_5, Nacc_MLPat_5, Nconfi_MLPat_5 = ensembling_expt(3, MNIST_X_train, MNIST_Y_train, notMNIST_X_val, notMNIST_Y_val, notMNIST_X_test, notMNIST_Y_test, models.MLP_adversarialtraining)\n",
    "# Nentropy_val_MLPat_10, Nacc_MLPat_10, Nconfi_MLPat_10 = ensembling_expt(10, MNIST_X_train, MNIST_Y_train, notMNIST_X_val, notMNIST_Y_val, notMNIST_X_test, notMNIST_Y_test, models.MLP_adversarialtraining)\n"
   ]
  },
  {
   "cell_type": "code",
   "execution_count": null,
   "metadata": {
    "scrolled": true
   },
   "outputs": [],
   "source": []
  },
  {
   "cell_type": "markdown",
   "metadata": {},
   "source": [
    "## Figure 3(a) plots"
   ]
  },
  {
   "cell_type": "code",
   "execution_count": 12,
   "metadata": {},
   "outputs": [
    {
     "name": "stderr",
     "output_type": "stream",
     "text": [
      "/usr/local/lib/python3.5/dist-packages/matplotlib/axes/_axes.py:6521: MatplotlibDeprecationWarning: \n",
      "The 'normed' kwarg was deprecated in Matplotlib 2.1 and will be removed in 3.1. Use 'density' instead.\n",
      "  alternative=\"'density'\", removal=\"3.1\")\n"
     ]
    },
    {
     "data": {
      "image/png": "[encoded data removed]",
      "text/plain": [
       "<Figure size 432x288 with 1 Axes>"
      ]
     },
     "metadata": {
      "needs_background": "light"
     },
     "output_type": "display_data"
    }
   ],
   "source": [
    "import matplotlib.pyplot as plt\n",
    "%matplotlib inline\n",
    "plt.hist(entropy_val_MLP_1, normed=True, bins=300, label = '1')\n",
    "plt.hist(entropy_val_MLP_5, normed=True, bins=300, label = '3')\n",
    "# plt.hist(entropy_val_MLP_10, normed=True, bins=300, label = '10')\n",
    "plt.xlabel('Entropy values')\n",
    "plt.title(\"Ensemble - MNIST\")\n",
    "plt.legend()\n",
    "plt.show()"
   ]
  },
  {
   "cell_type": "code",
   "execution_count": 13,
   "metadata": {},
   "outputs": [
    {
     "data": {
      "image/png": "[encoded data removed]",
      "text/plain": [
       "<Figure size 432x288 with 1 Axes>"
      ]
     },
     "metadata": {
      "needs_background": "light"
     },
     "output_type": "display_data"
    }
   ],
   "source": [
    "import matplotlib.pyplot as plt\n",
    "%matplotlib inline\n",
    "plt.hist(entropy_val_MLPr_1, normed=True, bins=300, label = '1')\n",
    "plt.hist(entropy_val_MLPr_5, normed=True, bins=300, label = '3')\n",
    "# plt.hist(entropy_val_MLPr_10, normed=True, bins=300, label = '10')\n",
    "plt.xlabel('Entropy values')\n",
    "plt.title(\"Ensemble+R - MNIST\")\n",
    "plt.legend()\n",
    "plt.show()"
   ]
  },
  {
   "cell_type": "code",
   "execution_count": 14,
   "metadata": {},
   "outputs": [
    {
     "data": {
      "image/png": "[encoded data removed]",
      "text/plain": [
       "<Figure size 432x288 with 1 Axes>"
      ]
     },
     "metadata": {
      "needs_background": "light"
     },
     "output_type": "display_data"
    }
   ],
   "source": [
    "import matplotlib.pyplot as plt\n",
    "%matplotlib inline\n",
    "plt.hist(entropy_val_MLPat_1, normed=True, bins=300, label = '1')\n",
    "plt.hist(entropy_val_MLPat_5, normed=True, bins=300, label = '3')\n",
    "# plt.hist(entropy_val_MLPat_10, normed=True, bins=300, label = '10')\n",
    "plt.xlabel('Entropy values')\n",
    "plt.title(\"Ensemble+AT - MNIST\")\n",
    "plt.legend()\n",
    "plt.show()"
   ]
  },
  {
   "cell_type": "code",
   "execution_count": 15,
   "metadata": {},
   "outputs": [
    {
     "data": {
      "image/png": "[encoded data removed]",
      "text/plain": [
       "<Figure size 432x288 with 1 Axes>"
      ]
     },
     "metadata": {
      "needs_background": "light"
     },
     "output_type": "display_data"
    }
   ],
   "source": [
    "import matplotlib.pyplot as plt\n",
    "%matplotlib inline\n",
    "plt.hist(entropy_val_MLPmc_1, normed=True, bins=300, label = '1')\n",
    "plt.hist(entropy_val_MLPmc_5, normed=True, bins=300, label = '3')\n",
    "# plt.hist(entropy_val_MLPmc_10, normed=True, bins=300, label = '10')\n",
    "plt.xlabel('Entropy values')\n",
    "plt.title(\"MC Dropout 0.1 - MNIST\")\n",
    "plt.legend()\n",
    "plt.show()"
   ]
  },
  {
   "cell_type": "code",
   "execution_count": 16,
   "metadata": {},
   "outputs": [
    {
     "name": "stderr",
     "output_type": "stream",
     "text": [
      "/usr/local/lib/python3.5/dist-packages/numpy/lib/histograms.py:824: RuntimeWarning: invalid value encountered in greater_equal\n",
      "  keep = (tmp_a >= first_edge)\n",
      "/usr/local/lib/python3.5/dist-packages/numpy/lib/histograms.py:825: RuntimeWarning: invalid value encountered in less_equal\n",
      "  keep &= (tmp_a <= last_edge)\n"
     ]
    },
    {
     "data": {
      "image/png": "[encoded data removed]",
      "text/plain": [
       "<Figure size 432x288 with 1 Axes>"
      ]
     },
     "metadata": {
      "needs_background": "light"
     },
     "output_type": "display_data"
    }
   ],
   "source": [
    "import matplotlib.pyplot as plt\n",
    "%matplotlib inline\n",
    "plt.hist(Nentropy_val_MLP_1, normed=True, bins=300, label = '1')\n",
    "plt.hist(Nentropy_val_MLP_5, normed=True, bins=300, label = '3')\n",
    "# plt.hist(Nentropy_val_MLP_10, normed=True, bins=300, label = '10')\n",
    "plt.xlabel('Entropy values')\n",
    "plt.title(\"Ensemble - notMNIST\")\n",
    "plt.legend()\n",
    "plt.show()"
   ]
  },
  {
   "cell_type": "code",
   "execution_count": 17,
   "metadata": {},
   "outputs": [
    {
     "data": {
      "image/png": "[encoded data removed]",
      "text/plain": [
       "<Figure size 432x288 with 1 Axes>"
      ]
     },
     "metadata": {
      "needs_background": "light"
     },
     "output_type": "display_data"
    }
   ],
   "source": [
    "import matplotlib.pyplot as plt\n",
    "%matplotlib inline\n",
    "plt.hist(Nentropy_val_MLPr_1, normed=True, bins=300, label = '1')\n",
    "plt.hist(Nentropy_val_MLPr_5, normed=True, bins=300, label = '3')\n",
    "# plt.hist(Nentropy_val_MLPr_10, normed=True, bins=300, label = '10')\n",
    "plt.xlabel('Entropy values')\n",
    "plt.title(\"Ensemble+R - notMNIST\")\n",
    "plt.legend()\n",
    "plt.show()"
   ]
  },
  {
   "cell_type": "code",
   "execution_count": 18,
   "metadata": {},
   "outputs": [
    {
     "data": {
      "image/png": "[encoded data removed]",
      "text/plain": [
       "<Figure size 432x288 with 1 Axes>"
      ]
     },
     "metadata": {
      "needs_background": "light"
     },
     "output_type": "display_data"
    }
   ],
   "source": [
    "import matplotlib.pyplot as plt\n",
    "%matplotlib inline\n",
    "plt.hist(Nentropy_val_MLPat_1, normed=True, bins=300, label = '1')\n",
    "plt.hist(Nentropy_val_MLPat_5, normed=True, bins=300, label = '3')\n",
    "# plt.hist(Nentropy_val_MLPat_10, normed=True, bins=300, label = '10')\n",
    "plt.xlabel('Entropy values')\n",
    "plt.title(\"Ensemble+AT - notMNIST\")\n",
    "plt.legend()\n",
    "plt.show()"
   ]
  },
  {
   "cell_type": "code",
   "execution_count": 19,
   "metadata": {},
   "outputs": [
    {
     "data": {
      "image/png": "[encoded data removed]",
      "text/plain": [
       "<Figure size 432x288 with 1 Axes>"
      ]
     },
     "metadata": {
      "needs_background": "light"
     },
     "output_type": "display_data"
    }
   ],
   "source": [
    "import matplotlib.pyplot as plt\n",
    "%matplotlib inline\n",
    "plt.hist(Nentropy_val_MLPmc_1, normed=True, bins=300, label = '1')\n",
    "plt.hist(Nentropy_val_MLPmc_5, normed=True, bins=300, label = '3')\n",
    "# plt.hist(Nentropy_val_MLPmc_10, normed=True, bins=300, label = '10')\n",
    "plt.xlabel('Entropy values')\n",
    "plt.title(\"MC Dropout 0.1 - notMNIST\")\n",
    "plt.legend()\n",
    "plt.show()"
   ]
  },
  {
   "cell_type": "code",
   "execution_count": null,
   "metadata": {},
   "outputs": [],
   "source": []
  },
  {
   "cell_type": "markdown",
   "metadata": {},
   "source": [
    "## Figure 6 plots"
   ]
  },
  {
   "cell_type": "code",
   "execution_count": 20,
   "metadata": {},
   "outputs": [
    {
     "data": {
      "image/png": "[encoded data removed]",
      "text/plain": [
       "<Figure size 432x288 with 1 Axes>"
      ]
     },
     "metadata": {
      "needs_background": "light"
     },
     "output_type": "display_data"
    }
   ],
   "source": [
    "# Fig 6 test\n",
    "\n",
    "import matplotlib.pyplot as plt\n",
    "%matplotlib inline\n",
    "\n",
    "confi_complete_list = [confi_MLP_1, confi_MLPr_1, confi_MLPat_1, confi_MLPmc_1, Nconfi_MLP_1, Nconfi_MLPr_1, Nconfi_MLPat_1, Nconfi_MLPmc_1]\n",
    "acc_complete_list = [acc_MLP_1, acc_MLPr_1, acc_MLPat_1, acc_MLPmc_1, Nacc_MLP_1, Nacc_MLPr_1, Nacc_MLPat_1, Nacc_MLPmc_1]\n",
    "\n",
    "plt.scatter(confi_complete_list, acc_complete_list)\n",
    "plt.xlabel('Confidence')\n",
    "plt.ylabel('Accuracy')\n",
    "# plt.legend()\n",
    "plt.show()"
   ]
  },
  {
   "cell_type": "code",
   "execution_count": null,
   "metadata": {},
   "outputs": [],
   "source": []
  }
 ],
 "metadata": {
  "kernelspec": {
   "display_name": "Python 3",
   "language": "python",
   "name": "python3"
  },
  "language_info": {
   "codemirror_mode": {
    "name": "ipython",
    "version": 3
   },
   "file_extension": ".py",
   "mimetype": "text/x-python",
   "name": "python",
   "nbconvert_exporter": "python",
   "pygments_lexer": "ipython3",
   "version": "3.5.2"
  }
 },
 "nbformat": 4,
 "nbformat_minor": 2
}
