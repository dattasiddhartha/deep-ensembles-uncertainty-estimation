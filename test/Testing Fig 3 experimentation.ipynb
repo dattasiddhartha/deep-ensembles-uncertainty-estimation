{
 "cells": [
  {
   "cell_type": "markdown",
   "metadata": {},
   "source": [
    "## Figure 3(a) plots"
   ]
  },
  {
   "cell_type": "code",
   "execution_count": 1,
   "metadata": {},
   "outputs": [
    {
     "name": "stderr",
     "output_type": "stream",
     "text": [
      "Using TensorFlow backend.\n"
     ]
    }
   ],
   "source": [
    "from __future__ import print_function\n",
    "import numpy as np\n",
    "import matplotlib as mpl\n",
    "import matplotlib.pyplot as plt\n",
    "import pandas as pd\n",
    "from keras.datasets import mnist\n",
    "from keras.models import Sequential\n",
    "from keras.layers.core import Dense, Dropout, Activation\n",
    "from keras.optimizers import RMSprop\n",
    "from keras.utils import np_utils\n",
    "import numpy as np\n",
    "from six.moves import cPickle as pickle\n",
    "from six.moves import range\n",
    "import os\n",
    "import keras\n",
    "from sklearn.preprocessing import LabelBinarizer\n",
    "import matplotlib.pyplot as plt\n",
    "import os\n",
    "import pickle\n",
    "import random\n",
    "\n",
    "import load_data\n",
    "import models"
   ]
  },
  {
   "cell_type": "code",
   "execution_count": 2,
   "metadata": {},
   "outputs": [
    {
     "name": "stdout",
     "output_type": "stream",
     "text": [
      "notMNIST\n",
      "20000 train samples\n",
      "1000 valid samples\n",
      "1000 test samples\n",
      "MNIST\n",
      "Train labels dimension:\n",
      "(50000, 10)\n",
      "Test labels dimension:\n",
      "(10000, 10)\n"
     ]
    }
   ],
   "source": [
    "print(\"notMNIST\")\n",
    "notMNIST_X_train, notMNIST_Y_train, notMNIST_X_val, notMNIST_Y_val, notMNIST_X_test, notMNIST_Y_test = load_data.data_notMNIST()\n",
    "print(\"MNIST\")\n",
    "MNIST_X_train, MNIST_Y_train, MNIST_X_val, MNIST_Y_val, MNIST_X_test, MNIST_Y_test = load_data.data_MNIST()"
   ]
  },
  {
   "cell_type": "code",
   "execution_count": 3,
   "metadata": {},
   "outputs": [],
   "source": [
    "def Ensembling_Data(M, MNIST_X_train, MNIST_Y_train):\n",
    "#     M = 5\n",
    "    sampled_indices = np.arange(0,MNIST_X_train.shape[0])\n",
    "    random.shuffle(sampled_indices)\n",
    "\n",
    "    cut = int(MNIST_X_train.shape[0]/M)\n",
    "    index_sample_list = []\n",
    "    for i in range(M):\n",
    "        index_sample_list.append(sampled_indices[cut*i:cut*(i+1)])\n",
    "        \n",
    "    training_X_df = []; training_Y_df = []\n",
    "    for index_range in index_sample_list:\n",
    "        training_X_df.append(MNIST_X_train[[index_range]])\n",
    "        training_Y_df.append(MNIST_Y_train[[index_range]])\n",
    "        \n",
    "    return training_X_df, training_Y_df\n",
    "\n",
    "def NLL(pred_values, MNIST_Y_test, index_of_y):\n",
    "\n",
    "    from keras import backend as K\n",
    "\n",
    "    # generate NLL distribution\n",
    "#     pred_hotcoded = np_utils.to_categorical(pred_values, 10)[index_of_y:index_of_y+1]\n",
    "\n",
    "    # y_test = y_test.astype('float32') # necessary here, since y_pred comes in this type - check in your case with y_test.dtype and y_pred.dtype\n",
    "    # y_test = K.constant(y_test)\n",
    "    # y_pred = K.constant(y_pred)\n",
    "\n",
    "#     y_pred = K.constant(pred_hotcoded)\n",
    "    \n",
    "    y_pred = K.constant(pred_values[index_of_y:index_of_y+1])\n",
    "\n",
    "    g = K.categorical_crossentropy(target=MNIST_Y_test[index_of_y:index_of_y+1], output=y_pred)  # tensor\n",
    "    ce = K.eval(g)  # 'ce' for cross-entropy\n",
    "    ce.shape\n",
    "    # (10000,) # i.e. one loss quantity per sample\n",
    "\n",
    "    # sum up and divide with the no. of samples:\n",
    "    log_loss = np.sum(ce)/ce.shape[0]\n",
    "#     log_loss\n",
    "    # 0.05165323486328125\n",
    "    \n",
    "    # https://stackoverflow.com/questions/52497625/how-to-calculate-negative-log-likelihoog-on-mnist-dataset\n",
    "    return log_loss\n",
    "\n",
    "def entropy_values(MNIST_Y_test, prediction):\n",
    "    entropy_values=[]\n",
    "    # Note: To obtain results faster, we use 200 samples for testing purposes\n",
    "    for i in range(len(MNIST_Y_test[0:200])): # WARNING: Remove 100 limit, let whole dataframe!!!\n",
    "        log_loss = NLL(prediction, MNIST_Y_test, i)\n",
    "        entropy_values.append(log_loss)\n",
    "#         print(i)\n",
    "    #     print(log_loss)\n",
    "    return entropy_values\n",
    "\n",
    "# def entropy_values_faster(MNIST_Y_test, prediction):\n",
    "# #     entropy_values=[]\n",
    "# #     for i in range(len(MNIST_Y_test[0:])): # WARNING: Remove 100 limit, let whole dataframe!!!\n",
    "# #         log_loss = NLL(prediction, MNIST_Y_test, i)\n",
    "# #         entropy_values.append(log_loss)\n",
    "#     entropy_values = [NLL(prediction, MNIST_Y_test, i) for i in range(len(MNIST_Y_test))]\n",
    "#     #     print(log_loss)\n",
    "#     return entropy_values\n",
    "\n"
   ]
  },
  {
   "cell_type": "code",
   "execution_count": 4,
   "metadata": {},
   "outputs": [],
   "source": [
    "def ensembling_expt(M, MNIST_X_train, MNIST_Y_train, MNIST_X_val, MNIST_Y_val, MNIST_X_test, MNIST_Y_test, model_function):\n",
    "    \n",
    "    training_X_df, training_Y_df = Ensembling_Data(M, MNIST_X_train, MNIST_Y_train)\n",
    "\n",
    "    prediction_storage=[]\n",
    "    for i in range(M):\n",
    "        X_train = training_X_df[i]\n",
    "        Y_train = training_Y_df[i]\n",
    "#         model_function = models.MLP()\n",
    "#         pred = models.MLP(X_train, Y_train, MNIST_X_val, MNIST_Y_val, MNIST_X_test, MNIST_Y_test)\n",
    "        pred = model_function(X_train, Y_train, MNIST_X_val, MNIST_Y_val, MNIST_X_test, MNIST_Y_test)\n",
    "        prediction_storage.append(pred)\n",
    "        \n",
    "    avg_predictions_from_ensemble=[]\n",
    "    for j in range(len(prediction_storage[0])):\n",
    "        tmpList=[]\n",
    "        for i in range(M):\n",
    "            tmpList.append(prediction_storage[i][j])\n",
    "        pred_avg = np.average(tmpList, axis=0)\n",
    "        avg_predictions_from_ensemble.append(pred_avg)\n",
    "        \n",
    "    avg_predictions_from_ensemble2 = np.array([list(i) for i in avg_predictions_from_ensemble])\n",
    "    entropy_val = entropy_values(MNIST_Y_test, avg_predictions_from_ensemble2)\n",
    "    \n",
    "    return entropy_val"
   ]
  },
  {
   "cell_type": "markdown",
   "metadata": {},
   "source": [
    "### MNIST plots"
   ]
  },
  {
   "cell_type": "code",
   "execution_count": 9,
   "metadata": {
    "scrolled": true
   },
   "outputs": [
    {
     "name": "stderr",
     "output_type": "stream",
     "text": [
      "/usr/local/lib/python3.5/dist-packages/ipykernel_launcher.py:13: FutureWarning: Using a non-tuple sequence for multidimensional indexing is deprecated; use `arr[tuple(seq)]` instead of `arr[seq]`. In the future this will be interpreted as an array index, `arr[np.array(seq)]`, which will result either in an error or a different result.\n",
      "  del sys.path[0]\n",
      "/usr/local/lib/python3.5/dist-packages/ipykernel_launcher.py:14: FutureWarning: Using a non-tuple sequence for multidimensional indexing is deprecated; use `arr[tuple(seq)]` instead of `arr[seq]`. In the future this will be interpreted as an array index, `arr[np.array(seq)]`, which will result either in an error or a different result.\n",
      "  \n"
     ]
    },
    {
     "name": "stdout",
     "output_type": "stream",
     "text": [
      "Without Dropout, Vanilla MLP\n"
     ]
    },
    {
     "name": "stderr",
     "output_type": "stream",
     "text": [
      "/usr/local/lib/python3.5/dist-packages/tensorflow_core/python/client/session.py:1750: UserWarning: An interactive session is already active. This can cause out-of-memory errors in some cases. You must explicitly call `InteractiveSession.close()` to release resources held by the other session(s).\n",
      "  warnings.warn('An interactive session is already active. This can '\n"
     ]
    },
    {
     "name": "stdout",
     "output_type": "stream",
     "text": [
      "Epoch:0 | Train loss: 31.92 | Train acc: 0.939 | Test acc:0.937\n",
      "Epoch:1 | Train loss: 18.14 | Train acc: 0.961 | Test acc:0.956\n",
      "Epoch:2 | Train loss: 10.69 | Train acc: 0.968 | Test acc:0.960\n",
      "Epoch:3 | Train loss: 6.58 | Train acc: 0.977 | Test acc:0.969\n",
      "0\n",
      "1\n",
      "2\n",
      "3\n",
      "4\n",
      "5\n",
      "6\n",
      "7\n",
      "8\n",
      "9\n",
      "10\n",
      "11\n",
      "12\n",
      "13\n",
      "14\n",
      "15\n",
      "16\n",
      "17\n",
      "18\n",
      "19\n",
      "20\n",
      "21\n",
      "22\n",
      "23\n",
      "24\n",
      "25\n",
      "26\n",
      "27\n",
      "28\n",
      "29\n",
      "30\n",
      "31\n",
      "32\n",
      "33\n",
      "34\n",
      "35\n",
      "36\n",
      "37\n",
      "38\n",
      "39\n",
      "40\n",
      "41\n",
      "42\n",
      "43\n",
      "44\n",
      "45\n",
      "46\n",
      "47\n",
      "48\n",
      "49\n",
      "50\n",
      "51\n",
      "52\n",
      "53\n",
      "54\n",
      "55\n",
      "56\n",
      "57\n",
      "58\n",
      "59\n",
      "60\n",
      "61\n",
      "62\n",
      "63\n",
      "64\n",
      "65\n",
      "66\n",
      "67\n",
      "68\n",
      "69\n",
      "70\n",
      "71\n",
      "72\n",
      "73\n",
      "74\n",
      "75\n",
      "76\n",
      "77\n",
      "78\n",
      "79\n",
      "80\n",
      "81\n",
      "82\n",
      "83\n",
      "84\n",
      "85\n",
      "86\n",
      "87\n",
      "88\n",
      "89\n",
      "90\n",
      "91\n",
      "92\n",
      "93\n",
      "94\n",
      "95\n",
      "96\n",
      "97\n",
      "98\n",
      "99\n",
      "100\n",
      "101\n",
      "102\n",
      "103\n",
      "104\n",
      "105\n",
      "106\n",
      "107\n",
      "108\n",
      "109\n",
      "110\n",
      "111\n",
      "112\n",
      "113\n",
      "114\n",
      "115\n",
      "116\n",
      "117\n",
      "118\n",
      "119\n",
      "120\n",
      "121\n",
      "122\n",
      "123\n",
      "124\n",
      "125\n",
      "126\n",
      "127\n",
      "128\n",
      "129\n",
      "130\n",
      "131\n",
      "132\n",
      "133\n",
      "134\n",
      "135\n",
      "136\n",
      "137\n",
      "138\n",
      "139\n",
      "140\n",
      "141\n",
      "142\n",
      "143\n",
      "144\n",
      "145\n",
      "146\n",
      "147\n",
      "148\n",
      "149\n",
      "150\n",
      "151\n",
      "152\n",
      "153\n",
      "154\n",
      "155\n",
      "156\n",
      "157\n",
      "158\n",
      "159\n",
      "160\n",
      "161\n",
      "162\n",
      "163\n",
      "164\n",
      "165\n",
      "166\n",
      "167\n",
      "168\n",
      "169\n",
      "170\n",
      "171\n",
      "172\n",
      "173\n",
      "174\n",
      "175\n",
      "176\n",
      "177\n",
      "178\n",
      "179\n",
      "180\n",
      "181\n",
      "182\n",
      "183\n",
      "184\n",
      "185\n",
      "186\n",
      "187\n",
      "188\n",
      "189\n",
      "190\n",
      "191\n",
      "192\n",
      "193\n",
      "194\n",
      "195\n",
      "196\n",
      "197\n",
      "198\n",
      "199\n",
      "Without Dropout, Vanilla MLP\n"
     ]
    },
    {
     "name": "stderr",
     "output_type": "stream",
     "text": [
      "/usr/local/lib/python3.5/dist-packages/ipykernel_launcher.py:13: FutureWarning: Using a non-tuple sequence for multidimensional indexing is deprecated; use `arr[tuple(seq)]` instead of `arr[seq]`. In the future this will be interpreted as an array index, `arr[np.array(seq)]`, which will result either in an error or a different result.\n",
      "  del sys.path[0]\n",
      "/usr/local/lib/python3.5/dist-packages/ipykernel_launcher.py:14: FutureWarning: Using a non-tuple sequence for multidimensional indexing is deprecated; use `arr[tuple(seq)]` instead of `arr[seq]`. In the future this will be interpreted as an array index, `arr[np.array(seq)]`, which will result either in an error or a different result.\n",
      "  \n",
      "/usr/local/lib/python3.5/dist-packages/tensorflow_core/python/client/session.py:1750: UserWarning: An interactive session is already active. This can cause out-of-memory errors in some cases. You must explicitly call `InteractiveSession.close()` to release resources held by the other session(s).\n",
      "  warnings.warn('An interactive session is already active. This can '\n"
     ]
    },
    {
     "name": "stdout",
     "output_type": "stream",
     "text": [
      "Epoch:0 | Train loss: 66.38 | Train acc: 0.881 | Test acc:0.879\n",
      "Epoch:1 | Train loss: 59.41 | Train acc: 0.909 | Test acc:0.902\n",
      "Epoch:2 | Train loss: 53.24 | Train acc: 0.927 | Test acc:0.910\n",
      "Epoch:3 | Train loss: 47.76 | Train acc: 0.943 | Test acc:0.924\n",
      "Without Dropout, Vanilla MLP\n"
     ]
    },
    {
     "name": "stderr",
     "output_type": "stream",
     "text": [
      "/usr/local/lib/python3.5/dist-packages/tensorflow_core/python/client/session.py:1750: UserWarning: An interactive session is already active. This can cause out-of-memory errors in some cases. You must explicitly call `InteractiveSession.close()` to release resources held by the other session(s).\n",
      "  warnings.warn('An interactive session is already active. This can '\n"
     ]
    },
    {
     "name": "stdout",
     "output_type": "stream",
     "text": [
      "Epoch:0 | Train loss: 59.56 | Train acc: 0.870 | Test acc:0.869\n",
      "Epoch:1 | Train loss: 53.12 | Train acc: 0.896 | Test acc:0.893\n",
      "Epoch:2 | Train loss: 47.45 | Train acc: 0.919 | Test acc:0.908\n",
      "Epoch:3 | Train loss: 42.45 | Train acc: 0.938 | Test acc:0.927\n",
      "Without Dropout, Vanilla MLP\n"
     ]
    },
    {
     "name": "stderr",
     "output_type": "stream",
     "text": [
      "/usr/local/lib/python3.5/dist-packages/tensorflow_core/python/client/session.py:1750: UserWarning: An interactive session is already active. This can cause out-of-memory errors in some cases. You must explicitly call `InteractiveSession.close()` to release resources held by the other session(s).\n",
      "  warnings.warn('An interactive session is already active. This can '\n"
     ]
    },
    {
     "name": "stdout",
     "output_type": "stream",
     "text": [
      "Epoch:0 | Train loss: 50.12 | Train acc: 0.882 | Test acc:0.883\n",
      "Epoch:1 | Train loss: 44.12 | Train acc: 0.919 | Test acc:0.909\n",
      "Epoch:2 | Train loss: 38.92 | Train acc: 0.934 | Test acc:0.922\n",
      "Epoch:3 | Train loss: 34.37 | Train acc: 0.947 | Test acc:0.931\n",
      "Without Dropout, Vanilla MLP\n"
     ]
    },
    {
     "name": "stderr",
     "output_type": "stream",
     "text": [
      "/usr/local/lib/python3.5/dist-packages/tensorflow_core/python/client/session.py:1750: UserWarning: An interactive session is already active. This can cause out-of-memory errors in some cases. You must explicitly call `InteractiveSession.close()` to release resources held by the other session(s).\n",
      "  warnings.warn('An interactive session is already active. This can '\n"
     ]
    },
    {
     "name": "stdout",
     "output_type": "stream",
     "text": [
      "Epoch:0 | Train loss: 56.05 | Train acc: 0.875 | Test acc:0.869\n",
      "Epoch:1 | Train loss: 49.59 | Train acc: 0.916 | Test acc:0.907\n",
      "Epoch:2 | Train loss: 43.94 | Train acc: 0.935 | Test acc:0.922\n",
      "Epoch:3 | Train loss: 38.97 | Train acc: 0.942 | Test acc:0.923\n",
      "Without Dropout, Vanilla MLP\n"
     ]
    },
    {
     "name": "stderr",
     "output_type": "stream",
     "text": [
      "/usr/local/lib/python3.5/dist-packages/tensorflow_core/python/client/session.py:1750: UserWarning: An interactive session is already active. This can cause out-of-memory errors in some cases. You must explicitly call `InteractiveSession.close()` to release resources held by the other session(s).\n",
      "  warnings.warn('An interactive session is already active. This can '\n"
     ]
    },
    {
     "name": "stdout",
     "output_type": "stream",
     "text": [
      "Epoch:0 | Train loss: 59.21 | Train acc: 0.873 | Test acc:0.874\n",
      "Epoch:1 | Train loss: 52.71 | Train acc: 0.910 | Test acc:0.906\n",
      "Epoch:2 | Train loss: 47.02 | Train acc: 0.922 | Test acc:0.915\n",
      "Epoch:3 | Train loss: 42.00 | Train acc: 0.933 | Test acc:0.923\n",
      "0\n",
      "1\n",
      "2\n",
      "3\n",
      "4\n",
      "5\n",
      "6\n",
      "7\n",
      "8\n",
      "9\n",
      "10\n",
      "11\n",
      "12\n",
      "13\n",
      "14\n",
      "15\n",
      "16\n",
      "17\n",
      "18\n",
      "19\n",
      "20\n",
      "21\n",
      "22\n",
      "23\n",
      "24\n",
      "25\n",
      "26\n",
      "27\n",
      "28\n",
      "29\n",
      "30\n",
      "31\n",
      "32\n",
      "33\n",
      "34\n",
      "35\n",
      "36\n",
      "37\n",
      "38\n",
      "39\n",
      "40\n",
      "41\n",
      "42\n",
      "43\n",
      "44\n",
      "45\n",
      "46\n",
      "47\n",
      "48\n",
      "49\n",
      "50\n",
      "51\n",
      "52\n",
      "53\n",
      "54\n",
      "55\n",
      "56\n",
      "57\n",
      "58\n",
      "59\n",
      "60\n",
      "61\n",
      "62\n",
      "63\n",
      "64\n",
      "65\n",
      "66\n",
      "67\n",
      "68\n",
      "69\n",
      "70\n",
      "71\n",
      "72\n",
      "73\n",
      "74\n",
      "75\n",
      "76\n",
      "77\n",
      "78\n",
      "79\n",
      "80\n",
      "81\n",
      "82\n",
      "83\n",
      "84\n",
      "85\n",
      "86\n",
      "87\n",
      "88\n",
      "89\n",
      "90\n",
      "91\n",
      "92\n",
      "93\n",
      "94\n",
      "95\n",
      "96\n",
      "97\n",
      "98\n",
      "99\n",
      "100\n",
      "101\n",
      "102\n",
      "103\n",
      "104\n",
      "105\n",
      "106\n",
      "107\n",
      "108\n",
      "109\n",
      "110\n",
      "111\n",
      "112\n",
      "113\n",
      "114\n",
      "115\n",
      "116\n",
      "117\n",
      "118\n",
      "119\n",
      "120\n",
      "121\n",
      "122\n",
      "123\n",
      "124\n",
      "125\n",
      "126\n",
      "127\n",
      "128\n",
      "129\n",
      "130\n",
      "131\n",
      "132\n",
      "133\n",
      "134\n",
      "135\n",
      "136\n",
      "137\n",
      "138\n",
      "139\n",
      "140\n",
      "141\n",
      "142\n",
      "143\n",
      "144\n",
      "145\n",
      "146\n",
      "147\n",
      "148\n",
      "149\n",
      "150\n",
      "151\n",
      "152\n",
      "153\n",
      "154\n",
      "155\n",
      "156\n",
      "157\n",
      "158\n",
      "159\n",
      "160\n",
      "161\n",
      "162\n",
      "163\n",
      "164\n",
      "165\n",
      "166\n",
      "167\n",
      "168\n",
      "169\n",
      "170\n",
      "171\n",
      "172\n",
      "173\n",
      "174\n",
      "175\n",
      "176\n",
      "177\n",
      "178\n",
      "179\n",
      "180\n",
      "181\n",
      "182\n",
      "183\n",
      "184\n",
      "185\n",
      "186\n",
      "187\n",
      "188\n",
      "189\n",
      "190\n",
      "191\n",
      "192\n",
      "193\n",
      "194\n",
      "195\n",
      "196\n",
      "197\n",
      "198\n",
      "199\n"
     ]
    },
    {
     "name": "stderr",
     "output_type": "stream",
     "text": [
      "/usr/local/lib/python3.5/dist-packages/ipykernel_launcher.py:13: FutureWarning: Using a non-tuple sequence for multidimensional indexing is deprecated; use `arr[tuple(seq)]` instead of `arr[seq]`. In the future this will be interpreted as an array index, `arr[np.array(seq)]`, which will result either in an error or a different result.\n",
      "  del sys.path[0]\n",
      "/usr/local/lib/python3.5/dist-packages/ipykernel_launcher.py:14: FutureWarning: Using a non-tuple sequence for multidimensional indexing is deprecated; use `arr[tuple(seq)]` instead of `arr[seq]`. In the future this will be interpreted as an array index, `arr[np.array(seq)]`, which will result either in an error or a different result.\n",
      "  \n",
      "/usr/local/lib/python3.5/dist-packages/tensorflow_core/python/client/session.py:1750: UserWarning: An interactive session is already active. This can cause out-of-memory errors in some cases. You must explicitly call `InteractiveSession.close()` to release resources held by the other session(s).\n",
      "  warnings.warn('An interactive session is already active. This can '\n"
     ]
    },
    {
     "name": "stdout",
     "output_type": "stream",
     "text": [
      "Without Dropout, Vanilla MLP\n",
      "Epoch:0 | Train loss: 59.98 | Train acc: 0.781 | Test acc:0.778\n",
      "Epoch:1 | Train loss: 56.35 | Train acc: 0.851 | Test acc:0.851\n",
      "Epoch:2 | Train loss: 53.01 | Train acc: 0.879 | Test acc:0.873\n",
      "Epoch:3 | Train loss: 49.91 | Train acc: 0.892 | Test acc:0.876\n",
      "Without Dropout, Vanilla MLP\n"
     ]
    },
    {
     "name": "stderr",
     "output_type": "stream",
     "text": [
      "/usr/local/lib/python3.5/dist-packages/tensorflow_core/python/client/session.py:1750: UserWarning: An interactive session is already active. This can cause out-of-memory errors in some cases. You must explicitly call `InteractiveSession.close()` to release resources held by the other session(s).\n",
      "  warnings.warn('An interactive session is already active. This can '\n"
     ]
    },
    {
     "name": "stdout",
     "output_type": "stream",
     "text": [
      "Epoch:0 | Train loss: 55.89 | Train acc: 0.800 | Test acc:0.802\n",
      "Epoch:1 | Train loss: 52.38 | Train acc: 0.850 | Test acc:0.836\n",
      "Epoch:2 | Train loss: 49.13 | Train acc: 0.860 | Test acc:0.836\n",
      "Epoch:3 | Train loss: 46.14 | Train acc: 0.880 | Test acc:0.855\n",
      "Without Dropout, Vanilla MLP\n"
     ]
    },
    {
     "name": "stderr",
     "output_type": "stream",
     "text": [
      "/usr/local/lib/python3.5/dist-packages/tensorflow_core/python/client/session.py:1750: UserWarning: An interactive session is already active. This can cause out-of-memory errors in some cases. You must explicitly call `InteractiveSession.close()` to release resources held by the other session(s).\n",
      "  warnings.warn('An interactive session is already active. This can '\n"
     ]
    },
    {
     "name": "stdout",
     "output_type": "stream",
     "text": [
      "Epoch:0 | Train loss: 59.54 | Train acc: 0.793 | Test acc:0.790\n",
      "Epoch:1 | Train loss: 55.87 | Train acc: 0.860 | Test acc:0.862\n",
      "Epoch:2 | Train loss: 52.48 | Train acc: 0.908 | Test acc:0.896\n",
      "Epoch:3 | Train loss: 49.33 | Train acc: 0.919 | Test acc:0.908\n",
      "Without Dropout, Vanilla MLP\n"
     ]
    },
    {
     "name": "stderr",
     "output_type": "stream",
     "text": [
      "/usr/local/lib/python3.5/dist-packages/tensorflow_core/python/client/session.py:1750: UserWarning: An interactive session is already active. This can cause out-of-memory errors in some cases. You must explicitly call `InteractiveSession.close()` to release resources held by the other session(s).\n",
      "  warnings.warn('An interactive session is already active. This can '\n"
     ]
    },
    {
     "name": "stdout",
     "output_type": "stream",
     "text": [
      "Epoch:0 | Train loss: 61.96 | Train acc: 0.801 | Test acc:0.810\n",
      "Epoch:1 | Train loss: 58.25 | Train acc: 0.860 | Test acc:0.854\n",
      "Epoch:2 | Train loss: 54.85 | Train acc: 0.848 | Test acc:0.841\n",
      "Epoch:3 | Train loss: 51.69 | Train acc: 0.859 | Test acc:0.840\n",
      "Without Dropout, Vanilla MLP\n"
     ]
    },
    {
     "name": "stderr",
     "output_type": "stream",
     "text": [
      "/usr/local/lib/python3.5/dist-packages/tensorflow_core/python/client/session.py:1750: UserWarning: An interactive session is already active. This can cause out-of-memory errors in some cases. You must explicitly call `InteractiveSession.close()` to release resources held by the other session(s).\n",
      "  warnings.warn('An interactive session is already active. This can '\n"
     ]
    },
    {
     "name": "stdout",
     "output_type": "stream",
     "text": [
      "Epoch:0 | Train loss: 54.30 | Train acc: 0.712 | Test acc:0.709\n",
      "Epoch:1 | Train loss: 50.84 | Train acc: 0.828 | Test acc:0.821\n",
      "Epoch:2 | Train loss: 47.67 | Train acc: 0.901 | Test acc:0.891\n",
      "Epoch:3 | Train loss: 44.72 | Train acc: 0.923 | Test acc:0.907\n",
      "Without Dropout, Vanilla MLP\n"
     ]
    },
    {
     "name": "stderr",
     "output_type": "stream",
     "text": [
      "/usr/local/lib/python3.5/dist-packages/tensorflow_core/python/client/session.py:1750: UserWarning: An interactive session is already active. This can cause out-of-memory errors in some cases. You must explicitly call `InteractiveSession.close()` to release resources held by the other session(s).\n",
      "  warnings.warn('An interactive session is already active. This can '\n"
     ]
    },
    {
     "name": "stdout",
     "output_type": "stream",
     "text": [
      "Epoch:0 | Train loss: 56.30 | Train acc: 0.722 | Test acc:0.716\n",
      "Epoch:1 | Train loss: 52.75 | Train acc: 0.860 | Test acc:0.852\n",
      "Epoch:2 | Train loss: 49.52 | Train acc: 0.891 | Test acc:0.867\n",
      "Epoch:3 | Train loss: 46.50 | Train acc: 0.924 | Test acc:0.900\n",
      "Without Dropout, Vanilla MLP\n"
     ]
    },
    {
     "name": "stderr",
     "output_type": "stream",
     "text": [
      "/usr/local/lib/python3.5/dist-packages/tensorflow_core/python/client/session.py:1750: UserWarning: An interactive session is already active. This can cause out-of-memory errors in some cases. You must explicitly call `InteractiveSession.close()` to release resources held by the other session(s).\n",
      "  warnings.warn('An interactive session is already active. This can '\n"
     ]
    },
    {
     "name": "stdout",
     "output_type": "stream",
     "text": [
      "Epoch:0 | Train loss: 56.63 | Train acc: 0.800 | Test acc:0.796\n",
      "Epoch:1 | Train loss: 53.19 | Train acc: 0.861 | Test acc:0.857\n",
      "Epoch:2 | Train loss: 50.02 | Train acc: 0.896 | Test acc:0.888\n",
      "Epoch:3 | Train loss: 47.08 | Train acc: 0.913 | Test acc:0.898\n",
      "Without Dropout, Vanilla MLP\n"
     ]
    },
    {
     "name": "stderr",
     "output_type": "stream",
     "text": [
      "/usr/local/lib/python3.5/dist-packages/tensorflow_core/python/client/session.py:1750: UserWarning: An interactive session is already active. This can cause out-of-memory errors in some cases. You must explicitly call `InteractiveSession.close()` to release resources held by the other session(s).\n",
      "  warnings.warn('An interactive session is already active. This can '\n"
     ]
    },
    {
     "name": "stdout",
     "output_type": "stream",
     "text": [
      "Epoch:0 | Train loss: 60.26 | Train acc: 0.681 | Test acc:0.678\n",
      "Epoch:1 | Train loss: 56.54 | Train acc: 0.853 | Test acc:0.858\n",
      "Epoch:2 | Train loss: 53.14 | Train acc: 0.867 | Test acc:0.855\n",
      "Epoch:3 | Train loss: 49.97 | Train acc: 0.911 | Test acc:0.898\n",
      "Without Dropout, Vanilla MLP\n"
     ]
    },
    {
     "name": "stderr",
     "output_type": "stream",
     "text": [
      "/usr/local/lib/python3.5/dist-packages/tensorflow_core/python/client/session.py:1750: UserWarning: An interactive session is already active. This can cause out-of-memory errors in some cases. You must explicitly call `InteractiveSession.close()` to release resources held by the other session(s).\n",
      "  warnings.warn('An interactive session is already active. This can '\n"
     ]
    },
    {
     "name": "stdout",
     "output_type": "stream",
     "text": [
      "Epoch:0 | Train loss: 56.33 | Train acc: 0.811 | Test acc:0.814\n",
      "Epoch:1 | Train loss: 52.81 | Train acc: 0.863 | Test acc:0.849\n",
      "Epoch:2 | Train loss: 49.59 | Train acc: 0.898 | Test acc:0.881\n",
      "Epoch:3 | Train loss: 46.61 | Train acc: 0.929 | Test acc:0.905\n",
      "Without Dropout, Vanilla MLP\n"
     ]
    },
    {
     "name": "stderr",
     "output_type": "stream",
     "text": [
      "/usr/local/lib/python3.5/dist-packages/tensorflow_core/python/client/session.py:1750: UserWarning: An interactive session is already active. This can cause out-of-memory errors in some cases. You must explicitly call `InteractiveSession.close()` to release resources held by the other session(s).\n",
      "  warnings.warn('An interactive session is already active. This can '\n"
     ]
    },
    {
     "name": "stdout",
     "output_type": "stream",
     "text": [
      "Epoch:0 | Train loss: 58.46 | Train acc: 0.815 | Test acc:0.817\n",
      "Epoch:1 | Train loss: 54.88 | Train acc: 0.870 | Test acc:0.866\n",
      "Epoch:2 | Train loss: 51.59 | Train acc: 0.884 | Test acc:0.876\n",
      "Epoch:3 | Train loss: 48.53 | Train acc: 0.918 | Test acc:0.901\n",
      "0\n",
      "1\n",
      "2\n",
      "3\n",
      "4\n",
      "5\n",
      "6\n",
      "7\n",
      "8\n",
      "9\n",
      "10\n",
      "11\n",
      "12\n",
      "13\n",
      "14\n",
      "15\n",
      "16\n",
      "17\n",
      "18\n",
      "19\n",
      "20\n",
      "21\n",
      "22\n",
      "23\n",
      "24\n",
      "25\n",
      "26\n",
      "27\n",
      "28\n",
      "29\n",
      "30\n",
      "31\n",
      "32\n",
      "33\n",
      "34\n",
      "35\n",
      "36\n",
      "37\n",
      "38\n",
      "39\n",
      "40\n",
      "41\n",
      "42\n",
      "43\n",
      "44\n",
      "45\n",
      "46\n",
      "47\n",
      "48\n",
      "49\n",
      "50\n",
      "51\n",
      "52\n",
      "53\n",
      "54\n",
      "55\n",
      "56\n",
      "57\n",
      "58\n",
      "59\n",
      "60\n",
      "61\n",
      "62\n",
      "63\n",
      "64\n",
      "65\n",
      "66\n",
      "67\n",
      "68\n",
      "69\n",
      "70\n",
      "71\n",
      "72\n",
      "73\n",
      "74\n",
      "75\n",
      "76\n",
      "77\n",
      "78\n",
      "79\n",
      "80\n",
      "81\n",
      "82\n",
      "83\n",
      "84\n",
      "85\n",
      "86\n",
      "87\n",
      "88\n",
      "89\n",
      "90\n",
      "91\n",
      "92\n",
      "93\n",
      "94\n",
      "95\n",
      "96\n",
      "97\n",
      "98\n",
      "99\n",
      "100\n",
      "101\n",
      "102\n",
      "103\n",
      "104\n",
      "105\n",
      "106\n",
      "107\n",
      "108\n",
      "109\n",
      "110\n",
      "111\n",
      "112\n",
      "113\n",
      "114\n",
      "115\n",
      "116\n",
      "117\n",
      "118\n",
      "119\n",
      "120\n",
      "121\n",
      "122\n",
      "123\n",
      "124\n",
      "125\n",
      "126\n",
      "127\n",
      "128\n",
      "129\n",
      "130\n",
      "131\n",
      "132\n",
      "133\n",
      "134\n",
      "135\n",
      "136\n",
      "137\n",
      "138\n",
      "139\n",
      "140\n",
      "141\n",
      "142\n",
      "143\n",
      "144\n",
      "145\n",
      "146\n",
      "147\n",
      "148\n",
      "149\n",
      "150\n",
      "151\n",
      "152\n",
      "153\n",
      "154\n",
      "155\n",
      "156\n",
      "157\n",
      "158\n",
      "159\n",
      "160\n",
      "161\n",
      "162\n",
      "163\n",
      "164\n",
      "165\n",
      "166\n",
      "167\n",
      "168\n",
      "169\n",
      "170\n",
      "171\n",
      "172\n",
      "173\n",
      "174\n",
      "175\n",
      "176\n",
      "177\n",
      "178\n",
      "179\n",
      "180\n",
      "181\n",
      "182\n",
      "183\n",
      "184\n",
      "185\n",
      "186\n",
      "187\n",
      "188\n",
      "189\n",
      "190\n",
      "191\n",
      "192\n",
      "193\n",
      "194\n",
      "195\n",
      "196\n",
      "197\n",
      "198\n",
      "199\n"
     ]
    }
   ],
   "source": [
    "entropy_val_MLP_1 = ensembling_expt(1, MNIST_X_train, MNIST_Y_train, MNIST_X_val, MNIST_Y_val, MNIST_X_test, MNIST_Y_test, models.MLP)\n",
    "entropy_val_MLP_5 = ensembling_expt(5, MNIST_X_train, MNIST_Y_train, MNIST_X_val, MNIST_Y_val, MNIST_X_test, MNIST_Y_test, models.MLP)\n",
    "entropy_val_MLP_10 = ensembling_expt(10, MNIST_X_train, MNIST_Y_train, MNIST_X_val, MNIST_Y_val, MNIST_X_test, MNIST_Y_test, models.MLP)"
   ]
  },
  {
   "cell_type": "code",
   "execution_count": 15,
   "metadata": {},
   "outputs": [
    {
     "data": {
      "image/png": "[encoded data removed]",
      "text/plain": [
       "<Figure size 432x288 with 1 Axes>"
      ]
     },
     "metadata": {
      "needs_background": "light"
     },
     "output_type": "display_data"
    }
   ],
   "source": [
    "import matplotlib.pyplot as plt\n",
    "%matplotlib inline\n",
    "plt.hist(entropy_val_MLP_1, normed=True, bins=300, label = '1')\n",
    "plt.hist(entropy_val_MLP_5, normed=True, bins=300, label = '5')\n",
    "plt.hist(entropy_val_MLP_10, normed=True, bins=300, label = '10')\n",
    "plt.xlabel('Entropy values')\n",
    "plt.title(\"Ensemble - MNIST\")\n",
    "plt.legend()\n",
    "plt.show()\n",
    "\n",
    "\n",
    "# import scipy.stats as stats\n",
    "\n",
    "# density = stats.gaussian_kde(entropy_val_MLP_1)\n",
    "# n, x, _ = plt.hist(entropy_val_MLP_1, bins=np.linspace(-3, 3, 50), \n",
    "#                    histtype=u'step', density=True)  \n",
    "# plt.plot(x, density(x), label = '1')\n",
    "\n",
    "# density = stats.gaussian_kde(entropy_val_MLP_5)\n",
    "# n, x, _ = plt.hist(entropy_val_MLP_5, bins=np.linspace(-3, 3, 50), \n",
    "#                    histtype=u'step', density=True)  \n",
    "# plt.plot(x, density(x), label = '5')\n",
    "\n",
    "# density = stats.gaussian_kde(entropy_val_MLP_10)\n",
    "# n, x, _ = plt.hist(entropy_val_MLP_10, bins=np.linspace(-3, 3, 50), \n",
    "#                    histtype=u'step', density=True)  \n",
    "# plt.plot(x, density(x), label = '10')\n",
    "\n",
    "# plt.xlim(-0.5,)\n",
    "# plt.legend()\n",
    "# plt.show()"
   ]
  },
  {
   "cell_type": "code",
   "execution_count": 18,
   "metadata": {
    "scrolled": true
   },
   "outputs": [
    {
     "name": "stderr",
     "output_type": "stream",
     "text": [
      "/usr/local/lib/python3.5/dist-packages/ipykernel_launcher.py:13: FutureWarning: Using a non-tuple sequence for multidimensional indexing is deprecated; use `arr[tuple(seq)]` instead of `arr[seq]`. In the future this will be interpreted as an array index, `arr[np.array(seq)]`, which will result either in an error or a different result.\n",
      "  del sys.path[0]\n",
      "/usr/local/lib/python3.5/dist-packages/ipykernel_launcher.py:14: FutureWarning: Using a non-tuple sequence for multidimensional indexing is deprecated; use `arr[tuple(seq)]` instead of `arr[seq]`. In the future this will be interpreted as an array index, `arr[np.array(seq)]`, which will result either in an error or a different result.\n",
      "  \n"
     ]
    },
    {
     "name": "stdout",
     "output_type": "stream",
     "text": [
      "Without Dropout, MLP with random perturbations\n"
     ]
    },
    {
     "name": "stderr",
     "output_type": "stream",
     "text": [
      "/home/root/adversarial/Gal/models.py:642: FutureWarning: Using a non-tuple sequence for multidimensional indexing is deprecated; use `arr[tuple(seq)]` instead of `arr[seq]`. In the future this will be interpreted as an array index, `arr[np.array(seq)]`, which will result either in an error or a different result.\n",
      "  sample_X_train = X_train[[ind]] # X_train[[start_index,end_index]] ; this would let us take specific indices, so we can randomize the order, ensure each iteration is taking precisely unique samples\n",
      "/home/root/adversarial/Gal/models.py:643: FutureWarning: Using a non-tuple sequence for multidimensional indexing is deprecated; use `arr[tuple(seq)]` instead of `arr[seq]`. In the future this will be interpreted as an array index, `arr[np.array(seq)]`, which will result either in an error or a different result.\n",
      "  sample_Y_train = Y_train[[ind]]\n",
      "/usr/local/lib/python3.5/dist-packages/tensorflow_core/python/client/session.py:1750: UserWarning: An interactive session is already active. This can cause out-of-memory errors in some cases. You must explicitly call `InteractiveSession.close()` to release resources held by the other session(s).\n",
      "  warnings.warn('An interactive session is already active. This can '\n",
      "W0211 18:39:22.935703 140363529975552 deprecation.py:323] From /home/root/adversarial/Gal/models.py:653: Print (from tensorflow.python.ops.logging_ops) is deprecated and will be removed after 2018-08-20.\n",
      "Instructions for updating:\n",
      "Use tf.print instead of tf.Print. Note that tf.print returns a no-output operator that directly prints the output. Outside of defuns or eager mode, this operator will not be executed unless it is directly specified in session.run or used as a control dependency for other operators. This is only a concern in graph mode. Below is an example of how to ensure tf.print executes in graph mode:\n",
      "\n"
     ]
    },
    {
     "name": "stdout",
     "output_type": "stream",
     "text": [
      "New training set shape (X,Y):  ((60000, 784), (60000, 10))\n",
      "Epoch:0 | Train loss: 29.97 | Train acc: 0.922 | Test acc:0.923\n",
      "Epoch:1 | Train loss: 15.38 | Train acc: 0.952 | Test acc:0.949\n",
      "Epoch:2 | Train loss: 8.24 | Train acc: 0.923 | Test acc:0.919\n",
      "Epoch:3 | Train loss: 4.70 | Train acc: 0.945 | Test acc:0.939\n"
     ]
    },
    {
     "name": "stderr",
     "output_type": "stream",
     "text": [
      "/usr/local/lib/python3.5/dist-packages/ipykernel_launcher.py:13: FutureWarning: Using a non-tuple sequence for multidimensional indexing is deprecated; use `arr[tuple(seq)]` instead of `arr[seq]`. In the future this will be interpreted as an array index, `arr[np.array(seq)]`, which will result either in an error or a different result.\n",
      "  del sys.path[0]\n",
      "/usr/local/lib/python3.5/dist-packages/ipykernel_launcher.py:14: FutureWarning: Using a non-tuple sequence for multidimensional indexing is deprecated; use `arr[tuple(seq)]` instead of `arr[seq]`. In the future this will be interpreted as an array index, `arr[np.array(seq)]`, which will result either in an error or a different result.\n",
      "  \n",
      "/home/root/adversarial/Gal/models.py:642: FutureWarning: Using a non-tuple sequence for multidimensional indexing is deprecated; use `arr[tuple(seq)]` instead of `arr[seq]`. In the future this will be interpreted as an array index, `arr[np.array(seq)]`, which will result either in an error or a different result.\n",
      "  sample_X_train = X_train[[ind]] # X_train[[start_index,end_index]] ; this would let us take specific indices, so we can randomize the order, ensure each iteration is taking precisely unique samples\n",
      "/home/root/adversarial/Gal/models.py:643: FutureWarning: Using a non-tuple sequence for multidimensional indexing is deprecated; use `arr[tuple(seq)]` instead of `arr[seq]`. In the future this will be interpreted as an array index, `arr[np.array(seq)]`, which will result either in an error or a different result.\n",
      "  sample_Y_train = Y_train[[ind]]\n"
     ]
    },
    {
     "name": "stdout",
     "output_type": "stream",
     "text": [
      "Without Dropout, MLP with random perturbations\n"
     ]
    },
    {
     "name": "stderr",
     "output_type": "stream",
     "text": [
      "/usr/local/lib/python3.5/dist-packages/tensorflow_core/python/client/session.py:1750: UserWarning: An interactive session is already active. This can cause out-of-memory errors in some cases. You must explicitly call `InteractiveSession.close()` to release resources held by the other session(s).\n",
      "  warnings.warn('An interactive session is already active. This can '\n"
     ]
    },
    {
     "name": "stdout",
     "output_type": "stream",
     "text": [
      "New training set shape (X,Y):  ((12000, 784), (12000, 10))\n",
      "Epoch:0 | Train loss: 49.95 | Train acc: 0.259 | Test acc:0.253\n",
      "Epoch:1 | Train loss: 43.01 | Train acc: 0.823 | Test acc:0.824\n",
      "Epoch:2 | Train loss: 37.31 | Train acc: 0.642 | Test acc:0.636\n",
      "Epoch:3 | Train loss: 32.22 | Train acc: 0.899 | Test acc:0.887\n",
      "Without Dropout, MLP with random perturbations\n"
     ]
    },
    {
     "name": "stderr",
     "output_type": "stream",
     "text": [
      "/home/root/adversarial/Gal/models.py:642: FutureWarning: Using a non-tuple sequence for multidimensional indexing is deprecated; use `arr[tuple(seq)]` instead of `arr[seq]`. In the future this will be interpreted as an array index, `arr[np.array(seq)]`, which will result either in an error or a different result.\n",
      "  sample_X_train = X_train[[ind]] # X_train[[start_index,end_index]] ; this would let us take specific indices, so we can randomize the order, ensure each iteration is taking precisely unique samples\n",
      "/home/root/adversarial/Gal/models.py:643: FutureWarning: Using a non-tuple sequence for multidimensional indexing is deprecated; use `arr[tuple(seq)]` instead of `arr[seq]`. In the future this will be interpreted as an array index, `arr[np.array(seq)]`, which will result either in an error or a different result.\n",
      "  sample_Y_train = Y_train[[ind]]\n",
      "/usr/local/lib/python3.5/dist-packages/tensorflow_core/python/client/session.py:1750: UserWarning: An interactive session is already active. This can cause out-of-memory errors in some cases. You must explicitly call `InteractiveSession.close()` to release resources held by the other session(s).\n",
      "  warnings.warn('An interactive session is already active. This can '\n"
     ]
    },
    {
     "name": "stdout",
     "output_type": "stream",
     "text": [
      "New training set shape (X,Y):  ((12000, 784), (12000, 10))\n",
      "Epoch:0 | Train loss: 49.69 | Train acc: 0.722 | Test acc:0.721\n",
      "Epoch:1 | Train loss: 42.65 | Train acc: 0.829 | Test acc:0.812\n",
      "Epoch:2 | Train loss: 36.77 | Train acc: 0.880 | Test acc:0.879\n",
      "Epoch:3 | Train loss: 31.71 | Train acc: 0.906 | Test acc:0.892\n",
      "Without Dropout, MLP with random perturbations\n"
     ]
    },
    {
     "name": "stderr",
     "output_type": "stream",
     "text": [
      "/home/root/adversarial/Gal/models.py:642: FutureWarning: Using a non-tuple sequence for multidimensional indexing is deprecated; use `arr[tuple(seq)]` instead of `arr[seq]`. In the future this will be interpreted as an array index, `arr[np.array(seq)]`, which will result either in an error or a different result.\n",
      "  sample_X_train = X_train[[ind]] # X_train[[start_index,end_index]] ; this would let us take specific indices, so we can randomize the order, ensure each iteration is taking precisely unique samples\n",
      "/home/root/adversarial/Gal/models.py:643: FutureWarning: Using a non-tuple sequence for multidimensional indexing is deprecated; use `arr[tuple(seq)]` instead of `arr[seq]`. In the future this will be interpreted as an array index, `arr[np.array(seq)]`, which will result either in an error or a different result.\n",
      "  sample_Y_train = Y_train[[ind]]\n",
      "/usr/local/lib/python3.5/dist-packages/tensorflow_core/python/client/session.py:1750: UserWarning: An interactive session is already active. This can cause out-of-memory errors in some cases. You must explicitly call `InteractiveSession.close()` to release resources held by the other session(s).\n",
      "  warnings.warn('An interactive session is already active. This can '\n"
     ]
    },
    {
     "name": "stdout",
     "output_type": "stream",
     "text": [
      "New training set shape (X,Y):  ((12000, 784), (12000, 10))\n",
      "Epoch:0 | Train loss: 54.34 | Train acc: 0.645 | Test acc:0.652\n",
      "Epoch:1 | Train loss: 47.09 | Train acc: 0.799 | Test acc:0.802\n",
      "Epoch:2 | Train loss: 40.96 | Train acc: 0.846 | Test acc:0.836\n",
      "Epoch:3 | Train loss: 35.65 | Train acc: 0.925 | Test acc:0.913\n",
      "Without Dropout, MLP with random perturbations\n"
     ]
    },
    {
     "name": "stderr",
     "output_type": "stream",
     "text": [
      "/home/root/adversarial/Gal/models.py:642: FutureWarning: Using a non-tuple sequence for multidimensional indexing is deprecated; use `arr[tuple(seq)]` instead of `arr[seq]`. In the future this will be interpreted as an array index, `arr[np.array(seq)]`, which will result either in an error or a different result.\n",
      "  sample_X_train = X_train[[ind]] # X_train[[start_index,end_index]] ; this would let us take specific indices, so we can randomize the order, ensure each iteration is taking precisely unique samples\n",
      "/home/root/adversarial/Gal/models.py:643: FutureWarning: Using a non-tuple sequence for multidimensional indexing is deprecated; use `arr[tuple(seq)]` instead of `arr[seq]`. In the future this will be interpreted as an array index, `arr[np.array(seq)]`, which will result either in an error or a different result.\n",
      "  sample_Y_train = Y_train[[ind]]\n",
      "/usr/local/lib/python3.5/dist-packages/tensorflow_core/python/client/session.py:1750: UserWarning: An interactive session is already active. This can cause out-of-memory errors in some cases. You must explicitly call `InteractiveSession.close()` to release resources held by the other session(s).\n",
      "  warnings.warn('An interactive session is already active. This can '\n"
     ]
    },
    {
     "name": "stdout",
     "output_type": "stream",
     "text": [
      "New training set shape (X,Y):  ((12000, 784), (12000, 10))\n",
      "Epoch:0 | Train loss: 57.46 | Train acc: 0.354 | Test acc:0.350\n",
      "Epoch:1 | Train loss: 49.89 | Train acc: 0.796 | Test acc:0.796\n",
      "Epoch:2 | Train loss: 43.40 | Train acc: 0.916 | Test acc:0.908\n",
      "Epoch:3 | Train loss: 37.89 | Train acc: 0.882 | Test acc:0.869\n",
      "Without Dropout, MLP with random perturbations\n"
     ]
    },
    {
     "name": "stderr",
     "output_type": "stream",
     "text": [
      "/home/root/adversarial/Gal/models.py:642: FutureWarning: Using a non-tuple sequence for multidimensional indexing is deprecated; use `arr[tuple(seq)]` instead of `arr[seq]`. In the future this will be interpreted as an array index, `arr[np.array(seq)]`, which will result either in an error or a different result.\n",
      "  sample_X_train = X_train[[ind]] # X_train[[start_index,end_index]] ; this would let us take specific indices, so we can randomize the order, ensure each iteration is taking precisely unique samples\n",
      "/home/root/adversarial/Gal/models.py:643: FutureWarning: Using a non-tuple sequence for multidimensional indexing is deprecated; use `arr[tuple(seq)]` instead of `arr[seq]`. In the future this will be interpreted as an array index, `arr[np.array(seq)]`, which will result either in an error or a different result.\n",
      "  sample_Y_train = Y_train[[ind]]\n",
      "/usr/local/lib/python3.5/dist-packages/tensorflow_core/python/client/session.py:1750: UserWarning: An interactive session is already active. This can cause out-of-memory errors in some cases. You must explicitly call `InteractiveSession.close()` to release resources held by the other session(s).\n",
      "  warnings.warn('An interactive session is already active. This can '\n"
     ]
    },
    {
     "name": "stdout",
     "output_type": "stream",
     "text": [
      "New training set shape (X,Y):  ((12000, 784), (12000, 10))\n",
      "Epoch:0 | Train loss: 53.24 | Train acc: 0.819 | Test acc:0.817\n",
      "Epoch:1 | Train loss: 46.21 | Train acc: 0.733 | Test acc:0.730\n",
      "Epoch:2 | Train loss: 40.06 | Train acc: 0.896 | Test acc:0.888\n",
      "Epoch:3 | Train loss: 34.84 | Train acc: 0.907 | Test acc:0.893\n"
     ]
    },
    {
     "name": "stderr",
     "output_type": "stream",
     "text": [
      "/usr/local/lib/python3.5/dist-packages/ipykernel_launcher.py:13: FutureWarning: Using a non-tuple sequence for multidimensional indexing is deprecated; use `arr[tuple(seq)]` instead of `arr[seq]`. In the future this will be interpreted as an array index, `arr[np.array(seq)]`, which will result either in an error or a different result.\n",
      "  del sys.path[0]\n",
      "/usr/local/lib/python3.5/dist-packages/ipykernel_launcher.py:14: FutureWarning: Using a non-tuple sequence for multidimensional indexing is deprecated; use `arr[tuple(seq)]` instead of `arr[seq]`. In the future this will be interpreted as an array index, `arr[np.array(seq)]`, which will result either in an error or a different result.\n",
      "  \n",
      "/home/root/adversarial/Gal/models.py:642: FutureWarning: Using a non-tuple sequence for multidimensional indexing is deprecated; use `arr[tuple(seq)]` instead of `arr[seq]`. In the future this will be interpreted as an array index, `arr[np.array(seq)]`, which will result either in an error or a different result.\n",
      "  sample_X_train = X_train[[ind]] # X_train[[start_index,end_index]] ; this would let us take specific indices, so we can randomize the order, ensure each iteration is taking precisely unique samples\n",
      "/home/root/adversarial/Gal/models.py:643: FutureWarning: Using a non-tuple sequence for multidimensional indexing is deprecated; use `arr[tuple(seq)]` instead of `arr[seq]`. In the future this will be interpreted as an array index, `arr[np.array(seq)]`, which will result either in an error or a different result.\n",
      "  sample_Y_train = Y_train[[ind]]\n",
      "/usr/local/lib/python3.5/dist-packages/tensorflow_core/python/client/session.py:1750: UserWarning: An interactive session is already active. This can cause out-of-memory errors in some cases. You must explicitly call `InteractiveSession.close()` to release resources held by the other session(s).\n",
      "  warnings.warn('An interactive session is already active. This can '\n"
     ]
    },
    {
     "name": "stdout",
     "output_type": "stream",
     "text": [
      "Without Dropout, MLP with random perturbations\n",
      "New training set shape (X,Y):  ((6000, 784), (6000, 10))\n",
      "Epoch:0 | Train loss: 56.09 | Train acc: 0.576 | Test acc:0.577\n",
      "Epoch:1 | Train loss: 52.03 | Train acc: 0.738 | Test acc:0.736\n",
      "Epoch:2 | Train loss: 48.31 | Train acc: 0.870 | Test acc:0.856\n",
      "Epoch:3 | Train loss: 44.95 | Train acc: 0.873 | Test acc:0.861\n",
      "Without Dropout, MLP with random perturbations\n"
     ]
    },
    {
     "name": "stderr",
     "output_type": "stream",
     "text": [
      "/home/root/adversarial/Gal/models.py:642: FutureWarning: Using a non-tuple sequence for multidimensional indexing is deprecated; use `arr[tuple(seq)]` instead of `arr[seq]`. In the future this will be interpreted as an array index, `arr[np.array(seq)]`, which will result either in an error or a different result.\n",
      "  sample_X_train = X_train[[ind]] # X_train[[start_index,end_index]] ; this would let us take specific indices, so we can randomize the order, ensure each iteration is taking precisely unique samples\n",
      "/home/root/adversarial/Gal/models.py:643: FutureWarning: Using a non-tuple sequence for multidimensional indexing is deprecated; use `arr[tuple(seq)]` instead of `arr[seq]`. In the future this will be interpreted as an array index, `arr[np.array(seq)]`, which will result either in an error or a different result.\n",
      "  sample_Y_train = Y_train[[ind]]\n",
      "/usr/local/lib/python3.5/dist-packages/tensorflow_core/python/client/session.py:1750: UserWarning: An interactive session is already active. This can cause out-of-memory errors in some cases. You must explicitly call `InteractiveSession.close()` to release resources held by the other session(s).\n",
      "  warnings.warn('An interactive session is already active. This can '\n"
     ]
    },
    {
     "name": "stdout",
     "output_type": "stream",
     "text": [
      "New training set shape (X,Y):  ((6000, 784), (6000, 10))\n",
      "Epoch:0 | Train loss: 52.52 | Train acc: 0.563 | Test acc:0.567\n",
      "Epoch:1 | Train loss: 48.46 | Train acc: 0.789 | Test acc:0.794\n",
      "Epoch:2 | Train loss: 44.91 | Train acc: 0.836 | Test acc:0.829\n",
      "Epoch:3 | Train loss: 41.65 | Train acc: 0.886 | Test acc:0.879\n",
      "Without Dropout, MLP with random perturbations\n"
     ]
    },
    {
     "name": "stderr",
     "output_type": "stream",
     "text": [
      "/home/root/adversarial/Gal/models.py:642: FutureWarning: Using a non-tuple sequence for multidimensional indexing is deprecated; use `arr[tuple(seq)]` instead of `arr[seq]`. In the future this will be interpreted as an array index, `arr[np.array(seq)]`, which will result either in an error or a different result.\n",
      "  sample_X_train = X_train[[ind]] # X_train[[start_index,end_index]] ; this would let us take specific indices, so we can randomize the order, ensure each iteration is taking precisely unique samples\n",
      "/home/root/adversarial/Gal/models.py:643: FutureWarning: Using a non-tuple sequence for multidimensional indexing is deprecated; use `arr[tuple(seq)]` instead of `arr[seq]`. In the future this will be interpreted as an array index, `arr[np.array(seq)]`, which will result either in an error or a different result.\n",
      "  sample_Y_train = Y_train[[ind]]\n",
      "/usr/local/lib/python3.5/dist-packages/tensorflow_core/python/client/session.py:1750: UserWarning: An interactive session is already active. This can cause out-of-memory errors in some cases. You must explicitly call `InteractiveSession.close()` to release resources held by the other session(s).\n",
      "  warnings.warn('An interactive session is already active. This can '\n"
     ]
    },
    {
     "name": "stdout",
     "output_type": "stream",
     "text": [
      "New training set shape (X,Y):  ((6000, 784), (6000, 10))\n",
      "Epoch:0 | Train loss: 55.50 | Train acc: 0.574 | Test acc:0.572\n",
      "Epoch:1 | Train loss: 51.41 | Train acc: 0.778 | Test acc:0.769\n",
      "Epoch:2 | Train loss: 47.70 | Train acc: 0.878 | Test acc:0.874\n",
      "Epoch:3 | Train loss: 44.34 | Train acc: 0.898 | Test acc:0.889\n",
      "Without Dropout, MLP with random perturbations\n"
     ]
    },
    {
     "name": "stderr",
     "output_type": "stream",
     "text": [
      "/home/root/adversarial/Gal/models.py:642: FutureWarning: Using a non-tuple sequence for multidimensional indexing is deprecated; use `arr[tuple(seq)]` instead of `arr[seq]`. In the future this will be interpreted as an array index, `arr[np.array(seq)]`, which will result either in an error or a different result.\n",
      "  sample_X_train = X_train[[ind]] # X_train[[start_index,end_index]] ; this would let us take specific indices, so we can randomize the order, ensure each iteration is taking precisely unique samples\n",
      "/home/root/adversarial/Gal/models.py:643: FutureWarning: Using a non-tuple sequence for multidimensional indexing is deprecated; use `arr[tuple(seq)]` instead of `arr[seq]`. In the future this will be interpreted as an array index, `arr[np.array(seq)]`, which will result either in an error or a different result.\n",
      "  sample_Y_train = Y_train[[ind]]\n",
      "/usr/local/lib/python3.5/dist-packages/tensorflow_core/python/client/session.py:1750: UserWarning: An interactive session is already active. This can cause out-of-memory errors in some cases. You must explicitly call `InteractiveSession.close()` to release resources held by the other session(s).\n",
      "  warnings.warn('An interactive session is already active. This can '\n"
     ]
    },
    {
     "name": "stdout",
     "output_type": "stream",
     "text": [
      "New training set shape (X,Y):  ((6000, 784), (6000, 10))\n",
      "Epoch:0 | Train loss: 65.90 | Train acc: 0.521 | Test acc:0.522\n",
      "Epoch:1 | Train loss: 61.40 | Train acc: 0.820 | Test acc:0.815\n",
      "Epoch:2 | Train loss: 57.31 | Train acc: 0.881 | Test acc:0.875\n",
      "Epoch:3 | Train loss: 53.58 | Train acc: 0.895 | Test acc:0.875\n",
      "Without Dropout, MLP with random perturbations\n"
     ]
    },
    {
     "name": "stderr",
     "output_type": "stream",
     "text": [
      "/home/root/adversarial/Gal/models.py:642: FutureWarning: Using a non-tuple sequence for multidimensional indexing is deprecated; use `arr[tuple(seq)]` instead of `arr[seq]`. In the future this will be interpreted as an array index, `arr[np.array(seq)]`, which will result either in an error or a different result.\n",
      "  sample_X_train = X_train[[ind]] # X_train[[start_index,end_index]] ; this would let us take specific indices, so we can randomize the order, ensure each iteration is taking precisely unique samples\n",
      "/home/root/adversarial/Gal/models.py:643: FutureWarning: Using a non-tuple sequence for multidimensional indexing is deprecated; use `arr[tuple(seq)]` instead of `arr[seq]`. In the future this will be interpreted as an array index, `arr[np.array(seq)]`, which will result either in an error or a different result.\n",
      "  sample_Y_train = Y_train[[ind]]\n",
      "/usr/local/lib/python3.5/dist-packages/tensorflow_core/python/client/session.py:1750: UserWarning: An interactive session is already active. This can cause out-of-memory errors in some cases. You must explicitly call `InteractiveSession.close()` to release resources held by the other session(s).\n",
      "  warnings.warn('An interactive session is already active. This can '\n"
     ]
    },
    {
     "name": "stdout",
     "output_type": "stream",
     "text": [
      "New training set shape (X,Y):  ((6000, 784), (6000, 10))\n",
      "Epoch:0 | Train loss: 56.07 | Train acc: 0.591 | Test acc:0.579\n",
      "Epoch:1 | Train loss: 52.00 | Train acc: 0.822 | Test acc:0.823\n",
      "Epoch:2 | Train loss: 48.30 | Train acc: 0.881 | Test acc:0.870\n",
      "Epoch:3 | Train loss: 44.99 | Train acc: 0.790 | Test acc:0.788\n",
      "Without Dropout, MLP with random perturbations\n"
     ]
    },
    {
     "name": "stderr",
     "output_type": "stream",
     "text": [
      "/home/root/adversarial/Gal/models.py:642: FutureWarning: Using a non-tuple sequence for multidimensional indexing is deprecated; use `arr[tuple(seq)]` instead of `arr[seq]`. In the future this will be interpreted as an array index, `arr[np.array(seq)]`, which will result either in an error or a different result.\n",
      "  sample_X_train = X_train[[ind]] # X_train[[start_index,end_index]] ; this would let us take specific indices, so we can randomize the order, ensure each iteration is taking precisely unique samples\n",
      "/home/root/adversarial/Gal/models.py:643: FutureWarning: Using a non-tuple sequence for multidimensional indexing is deprecated; use `arr[tuple(seq)]` instead of `arr[seq]`. In the future this will be interpreted as an array index, `arr[np.array(seq)]`, which will result either in an error or a different result.\n",
      "  sample_Y_train = Y_train[[ind]]\n",
      "/usr/local/lib/python3.5/dist-packages/tensorflow_core/python/client/session.py:1750: UserWarning: An interactive session is already active. This can cause out-of-memory errors in some cases. You must explicitly call `InteractiveSession.close()` to release resources held by the other session(s).\n",
      "  warnings.warn('An interactive session is already active. This can '\n"
     ]
    },
    {
     "name": "stdout",
     "output_type": "stream",
     "text": [
      "New training set shape (X,Y):  ((6000, 784), (6000, 10))\n",
      "Epoch:0 | Train loss: 60.58 | Train acc: 0.706 | Test acc:0.710\n",
      "Epoch:1 | Train loss: 56.43 | Train acc: 0.740 | Test acc:0.745\n",
      "Epoch:2 | Train loss: 52.55 | Train acc: 0.842 | Test acc:0.843\n",
      "Epoch:3 | Train loss: 48.99 | Train acc: 0.886 | Test acc:0.869\n",
      "Without Dropout, MLP with random perturbations\n"
     ]
    },
    {
     "name": "stderr",
     "output_type": "stream",
     "text": [
      "/home/root/adversarial/Gal/models.py:642: FutureWarning: Using a non-tuple sequence for multidimensional indexing is deprecated; use `arr[tuple(seq)]` instead of `arr[seq]`. In the future this will be interpreted as an array index, `arr[np.array(seq)]`, which will result either in an error or a different result.\n",
      "  sample_X_train = X_train[[ind]] # X_train[[start_index,end_index]] ; this would let us take specific indices, so we can randomize the order, ensure each iteration is taking precisely unique samples\n",
      "/home/root/adversarial/Gal/models.py:643: FutureWarning: Using a non-tuple sequence for multidimensional indexing is deprecated; use `arr[tuple(seq)]` instead of `arr[seq]`. In the future this will be interpreted as an array index, `arr[np.array(seq)]`, which will result either in an error or a different result.\n",
      "  sample_Y_train = Y_train[[ind]]\n",
      "/usr/local/lib/python3.5/dist-packages/tensorflow_core/python/client/session.py:1750: UserWarning: An interactive session is already active. This can cause out-of-memory errors in some cases. You must explicitly call `InteractiveSession.close()` to release resources held by the other session(s).\n",
      "  warnings.warn('An interactive session is already active. This can '\n"
     ]
    },
    {
     "name": "stdout",
     "output_type": "stream",
     "text": [
      "New training set shape (X,Y):  ((6000, 784), (6000, 10))\n",
      "Epoch:0 | Train loss: 62.04 | Train acc: 0.681 | Test acc:0.681\n",
      "Epoch:1 | Train loss: 57.79 | Train acc: 0.683 | Test acc:0.683\n",
      "Epoch:2 | Train loss: 53.80 | Train acc: 0.816 | Test acc:0.804\n",
      "Epoch:3 | Train loss: 50.16 | Train acc: 0.892 | Test acc:0.874\n",
      "Without Dropout, MLP with random perturbations\n"
     ]
    },
    {
     "name": "stderr",
     "output_type": "stream",
     "text": [
      "/home/root/adversarial/Gal/models.py:642: FutureWarning: Using a non-tuple sequence for multidimensional indexing is deprecated; use `arr[tuple(seq)]` instead of `arr[seq]`. In the future this will be interpreted as an array index, `arr[np.array(seq)]`, which will result either in an error or a different result.\n",
      "  sample_X_train = X_train[[ind]] # X_train[[start_index,end_index]] ; this would let us take specific indices, so we can randomize the order, ensure each iteration is taking precisely unique samples\n",
      "/home/root/adversarial/Gal/models.py:643: FutureWarning: Using a non-tuple sequence for multidimensional indexing is deprecated; use `arr[tuple(seq)]` instead of `arr[seq]`. In the future this will be interpreted as an array index, `arr[np.array(seq)]`, which will result either in an error or a different result.\n",
      "  sample_Y_train = Y_train[[ind]]\n",
      "/usr/local/lib/python3.5/dist-packages/tensorflow_core/python/client/session.py:1750: UserWarning: An interactive session is already active. This can cause out-of-memory errors in some cases. You must explicitly call `InteractiveSession.close()` to release resources held by the other session(s).\n",
      "  warnings.warn('An interactive session is already active. This can '\n"
     ]
    },
    {
     "name": "stdout",
     "output_type": "stream",
     "text": [
      "New training set shape (X,Y):  ((6000, 784), (6000, 10))\n",
      "Epoch:0 | Train loss: 59.76 | Train acc: 0.272 | Test acc:0.274\n",
      "Epoch:1 | Train loss: 55.38 | Train acc: 0.646 | Test acc:0.638\n",
      "Epoch:2 | Train loss: 51.43 | Train acc: 0.822 | Test acc:0.810\n",
      "Epoch:3 | Train loss: 47.88 | Train acc: 0.872 | Test acc:0.854\n",
      "Without Dropout, MLP with random perturbations\n"
     ]
    },
    {
     "name": "stderr",
     "output_type": "stream",
     "text": [
      "/home/root/adversarial/Gal/models.py:642: FutureWarning: Using a non-tuple sequence for multidimensional indexing is deprecated; use `arr[tuple(seq)]` instead of `arr[seq]`. In the future this will be interpreted as an array index, `arr[np.array(seq)]`, which will result either in an error or a different result.\n",
      "  sample_X_train = X_train[[ind]] # X_train[[start_index,end_index]] ; this would let us take specific indices, so we can randomize the order, ensure each iteration is taking precisely unique samples\n",
      "/home/root/adversarial/Gal/models.py:643: FutureWarning: Using a non-tuple sequence for multidimensional indexing is deprecated; use `arr[tuple(seq)]` instead of `arr[seq]`. In the future this will be interpreted as an array index, `arr[np.array(seq)]`, which will result either in an error or a different result.\n",
      "  sample_Y_train = Y_train[[ind]]\n",
      "/usr/local/lib/python3.5/dist-packages/tensorflow_core/python/client/session.py:1750: UserWarning: An interactive session is already active. This can cause out-of-memory errors in some cases. You must explicitly call `InteractiveSession.close()` to release resources held by the other session(s).\n",
      "  warnings.warn('An interactive session is already active. This can '\n"
     ]
    },
    {
     "name": "stdout",
     "output_type": "stream",
     "text": [
      "New training set shape (X,Y):  ((6000, 784), (6000, 10))\n",
      "Epoch:0 | Train loss: 59.10 | Train acc: 0.568 | Test acc:0.562\n",
      "Epoch:1 | Train loss: 54.86 | Train acc: 0.858 | Test acc:0.844\n",
      "Epoch:2 | Train loss: 51.16 | Train acc: 0.799 | Test acc:0.792\n",
      "Epoch:3 | Train loss: 47.65 | Train acc: 0.856 | Test acc:0.843\n",
      "Without Dropout, MLP with random perturbations\n"
     ]
    },
    {
     "name": "stderr",
     "output_type": "stream",
     "text": [
      "/home/root/adversarial/Gal/models.py:642: FutureWarning: Using a non-tuple sequence for multidimensional indexing is deprecated; use `arr[tuple(seq)]` instead of `arr[seq]`. In the future this will be interpreted as an array index, `arr[np.array(seq)]`, which will result either in an error or a different result.\n",
      "  sample_X_train = X_train[[ind]] # X_train[[start_index,end_index]] ; this would let us take specific indices, so we can randomize the order, ensure each iteration is taking precisely unique samples\n",
      "/home/root/adversarial/Gal/models.py:643: FutureWarning: Using a non-tuple sequence for multidimensional indexing is deprecated; use `arr[tuple(seq)]` instead of `arr[seq]`. In the future this will be interpreted as an array index, `arr[np.array(seq)]`, which will result either in an error or a different result.\n",
      "  sample_Y_train = Y_train[[ind]]\n",
      "/usr/local/lib/python3.5/dist-packages/tensorflow_core/python/client/session.py:1750: UserWarning: An interactive session is already active. This can cause out-of-memory errors in some cases. You must explicitly call `InteractiveSession.close()` to release resources held by the other session(s).\n",
      "  warnings.warn('An interactive session is already active. This can '\n"
     ]
    },
    {
     "name": "stdout",
     "output_type": "stream",
     "text": [
      "New training set shape (X,Y):  ((6000, 784), (6000, 10))\n",
      "Epoch:0 | Train loss: 57.37 | Train acc: 0.475 | Test acc:0.469\n",
      "Epoch:1 | Train loss: 53.32 | Train acc: 0.715 | Test acc:0.720\n",
      "Epoch:2 | Train loss: 49.60 | Train acc: 0.871 | Test acc:0.866\n",
      "Epoch:3 | Train loss: 46.39 | Train acc: 0.660 | Test acc:0.649\n"
     ]
    }
   ],
   "source": [
    "entropy_val_MLPr_1 = ensembling_expt(1, MNIST_X_train, MNIST_Y_train, MNIST_X_val, MNIST_Y_val, MNIST_X_test, MNIST_Y_test, models.MLP_randomperturbation)\n",
    "entropy_val_MLPr_5 = ensembling_expt(5, MNIST_X_train, MNIST_Y_train, MNIST_X_val, MNIST_Y_val, MNIST_X_test, MNIST_Y_test, models.MLP_randomperturbation)\n",
    "entropy_val_MLPr_10 = ensembling_expt(10, MNIST_X_train, MNIST_Y_train, MNIST_X_val, MNIST_Y_val, MNIST_X_test, MNIST_Y_test, models.MLP_randomperturbation)\n"
   ]
  },
  {
   "cell_type": "code",
   "execution_count": 19,
   "metadata": {},
   "outputs": [
    {
     "name": "stderr",
     "output_type": "stream",
     "text": [
      "/usr/local/lib/python3.5/dist-packages/matplotlib/axes/_axes.py:6521: MatplotlibDeprecationWarning: \n",
      "The 'normed' kwarg was deprecated in Matplotlib 2.1 and will be removed in 3.1. Use 'density' instead.\n",
      "  alternative=\"'density'\", removal=\"3.1\")\n"
     ]
    },
    {
     "data": {
      "image/png": "[encoded data removed]",
      "text/plain": [
       "<Figure size 432x288 with 1 Axes>"
      ]
     },
     "metadata": {
      "needs_background": "light"
     },
     "output_type": "display_data"
    }
   ],
   "source": [
    "import matplotlib.pyplot as plt\n",
    "%matplotlib inline\n",
    "plt.hist(entropy_val_MLPr_1, normed=True, bins=300, label = '1')\n",
    "plt.hist(entropy_val_MLPr_5, normed=True, bins=300, label = '5')\n",
    "plt.hist(entropy_val_MLPr_10, normed=True, bins=300, label = '10')\n",
    "plt.xlabel('Entropy values')\n",
    "plt.title(\"Ensemble+R - MNIST\")\n",
    "plt.legend()\n",
    "plt.show()"
   ]
  },
  {
   "cell_type": "code",
   "execution_count": 5,
   "metadata": {
    "scrolled": true
   },
   "outputs": [
    {
     "name": "stderr",
     "output_type": "stream",
     "text": [
      "/usr/local/lib/python3.5/dist-packages/ipykernel_launcher.py:13: FutureWarning: Using a non-tuple sequence for multidimensional indexing is deprecated; use `arr[tuple(seq)]` instead of `arr[seq]`. In the future this will be interpreted as an array index, `arr[np.array(seq)]`, which will result either in an error or a different result.\n",
      "  del sys.path[0]\n",
      "/usr/local/lib/python3.5/dist-packages/ipykernel_launcher.py:14: FutureWarning: Using a non-tuple sequence for multidimensional indexing is deprecated; use `arr[tuple(seq)]` instead of `arr[seq]`. In the future this will be interpreted as an array index, `arr[np.array(seq)]`, which will result either in an error or a different result.\n",
      "  \n"
     ]
    },
    {
     "name": "stdout",
     "output_type": "stream",
     "text": [
      "Without Dropout & Batch Normalization\n"
     ]
    },
    {
     "name": "stderr",
     "output_type": "stream",
     "text": [
      "WARNING: Logging before flag parsing goes to stderr.\n",
      "W0211 23:57:07.742873 140409467619072 module_wrapper.py:139] From /home/root/adversarial/Gal/models.py:286: The name tf.InteractiveSession is deprecated. Please use tf.compat.v1.InteractiveSession instead.\n",
      "\n",
      "W0211 23:57:10.369805 140409467619072 module_wrapper.py:139] From /home/root/adversarial/Gal/models.py:299: The name tf.placeholder is deprecated. Please use tf.compat.v1.placeholder instead.\n",
      "\n",
      "W0211 23:57:10.375768 140409467619072 module_wrapper.py:139] From /home/root/adversarial/Gal/models.py:305: The name tf.random_normal is deprecated. Please use tf.random.normal instead.\n",
      "\n",
      "W0211 23:57:10.556560 140409467619072 module_wrapper.py:139] From /home/root/adversarial/Gal/models.py:344: The name tf.train.exponential_decay is deprecated. Please use tf.compat.v1.train.exponential_decay instead.\n",
      "\n",
      "W0211 23:57:10.565279 140409467619072 module_wrapper.py:139] From /home/root/adversarial/Gal/models.py:346: The name tf.train.AdamOptimizer is deprecated. Please use tf.compat.v1.train.AdamOptimizer instead.\n",
      "\n",
      "W0211 23:57:11.316674 140409467619072 module_wrapper.py:139] From /home/root/adversarial/Gal/models.py:366: The name tf.global_variables_initializer is deprecated. Please use tf.compat.v1.global_variables_initializer instead.\n",
      "\n"
     ]
    },
    {
     "name": "stdout",
     "output_type": "stream",
     "text": [
      "Epoch:0 | Train loss: 34.36 | Train acc: 0.974 | Test acc:0.968\n",
      "Epoch:1 | Train loss: 19.34 | Train acc: 0.983 | Test acc:0.975\n",
      "Epoch:2 | Train loss: 11.00 | Train acc: 0.989 | Test acc:0.978\n",
      "Epoch:3 | Train loss: 6.40 | Train acc: 0.990 | Test acc:0.979\n",
      "Epoch:4 | Train loss: 3.91 | Train acc: 0.993 | Test acc:0.979\n",
      "Epoch:5 | Train loss: 2.63 | Train acc: 0.994 | Test acc:0.979\n",
      "Epoch:6 | Train loss: 1.99 | Train acc: 0.995 | Test acc:0.978\n",
      "Epoch:7 | Train loss: 1.69 | Train acc: 0.995 | Test acc:0.980\n",
      "Epoch:8 | Train loss: 1.55 | Train acc: 0.996 | Test acc:0.982\n",
      "Epoch:9 | Train loss: 1.50 | Train acc: 0.995 | Test acc:0.980\n",
      "Epoch:10 | Train loss: 1.47 | Train acc: 0.997 | Test acc:0.981\n",
      "Epoch:11 | Train loss: 1.47 | Train acc: 0.997 | Test acc:0.980\n",
      "Epoch:12 | Train loss: 1.47 | Train acc: 0.997 | Test acc:0.979\n",
      "Epoch:13 | Train loss: 1.46 | Train acc: 0.997 | Test acc:0.980\n",
      "Without Dropout & Batch Normalization & Adversarial Training\n"
     ]
    },
    {
     "name": "stderr",
     "output_type": "stream",
     "text": [
      "/home/root/adversarial/Gal/models.py:415: FutureWarning: Using a non-tuple sequence for multidimensional indexing is deprecated; use `arr[tuple(seq)]` instead of `arr[seq]`. In the future this will be interpreted as an array index, `arr[np.array(seq)]`, which will result either in an error or a different result.\n",
      "  sample_X_train = X_train[[ind]] # X_train[[start_index,end_index]] ; this would let us take specific indices, so we can randomize the order, ensure each iteration is taking precisely unique samples\n",
      "/home/root/adversarial/Gal/models.py:416: FutureWarning: Using a non-tuple sequence for multidimensional indexing is deprecated; use `arr[tuple(seq)]` instead of `arr[seq]`. In the future this will be interpreted as an array index, `arr[np.array(seq)]`, which will result either in an error or a different result.\n",
      "  sample_Y_train = Y_train[[ind]]\n",
      "/usr/local/lib/python3.5/dist-packages/tensorflow_core/python/client/session.py:1750: UserWarning: An interactive session is already active. This can cause out-of-memory errors in some cases. You must explicitly call `InteractiveSession.close()` to release resources held by the other session(s).\n",
      "  warnings.warn('An interactive session is already active. This can '\n",
      "/home/root/adversarial/Gal/models.py:563: FutureWarning: Using a non-tuple sequence for multidimensional indexing is deprecated; use `arr[tuple(seq)]` instead of `arr[seq]`. In the future this will be interpreted as an array index, `arr[np.array(seq)]`, which will result either in an error or a different result.\n",
      "  sample_X_train = X_train[[ind]] # X_train[[start_index,end_index]] ; this would let us take specific indices, so we can randomize the order, ensure each iteration is taking precisely unique samples\n",
      "/home/root/adversarial/Gal/models.py:564: FutureWarning: Using a non-tuple sequence for multidimensional indexing is deprecated; use `arr[tuple(seq)]` instead of `arr[seq]`. In the future this will be interpreted as an array index, `arr[np.array(seq)]`, which will result either in an error or a different result.\n",
      "  sample_Y_train = Y_train[[ind]]\n"
     ]
    },
    {
     "name": "stdout",
     "output_type": "stream",
     "text": [
      "Epoch:0 | Train loss: 30.85 | Train acc: 0.830 | Test acc:0.970\n",
      "Epoch:1 | Train loss: 16.05 | Train acc: 0.839 | Test acc:0.978\n",
      "Epoch:2 | Train loss: 8.64 | Train acc: 0.842 | Test acc:0.977\n",
      "Epoch:3 | Train loss: 4.92 | Train acc: 0.844 | Test acc:0.979\n",
      "Epoch:4 | Train loss: 3.08 | Train acc: 0.845 | Test acc:0.979\n",
      "Epoch:5 | Train loss: 2.19 | Train acc: 0.847 | Test acc:0.981\n",
      "Epoch:6 | Train loss: 1.78 | Train acc: 0.846 | Test acc:0.979\n",
      "Epoch:7 | Train loss: 1.59 | Train acc: 0.847 | Test acc:0.982\n",
      "Epoch:8 | Train loss: 1.51 | Train acc: 0.848 | Test acc:0.982\n",
      "Epoch:9 | Train loss: 1.48 | Train acc: 0.846 | Test acc:0.981\n",
      "Epoch:10 | Train loss: 1.47 | Train acc: 0.848 | Test acc:0.979\n",
      "Epoch:11 | Train loss: 1.46 | Train acc: 0.848 | Test acc:0.981\n",
      "Epoch:12 | Train loss: 1.46 | Train acc: 0.848 | Test acc:0.981\n",
      "Epoch:13 | Train loss: 1.46 | Train acc: 0.847 | Test acc:0.978\n"
     ]
    },
    {
     "name": "stderr",
     "output_type": "stream",
     "text": [
      "W0211 23:59:30.672978 140409467619072 module_wrapper.py:139] From /usr/local/lib/python3.5/dist-packages/keras/backend/tensorflow_backend.py:3295: The name tf.log is deprecated. Please use tf.math.log instead.\n",
      "\n",
      "W0211 23:59:30.677874 140409467619072 module_wrapper.py:139] From /usr/local/lib/python3.5/dist-packages/keras/backend/tensorflow_backend.py:174: The name tf.get_default_session is deprecated. Please use tf.compat.v1.get_default_session instead.\n",
      "\n",
      "W0211 23:59:30.678728 140409467619072 module_wrapper.py:139] From /usr/local/lib/python3.5/dist-packages/keras/backend/tensorflow_backend.py:190: The name tf.global_variables is deprecated. Please use tf.compat.v1.global_variables instead.\n",
      "\n",
      "W0211 23:59:30.679668 140409467619072 module_wrapper.py:139] From /usr/local/lib/python3.5/dist-packages/keras/backend/tensorflow_backend.py:199: The name tf.is_variable_initialized is deprecated. Please use tf.compat.v1.is_variable_initialized instead.\n",
      "\n",
      "/usr/local/lib/python3.5/dist-packages/ipykernel_launcher.py:13: FutureWarning: Using a non-tuple sequence for multidimensional indexing is deprecated; use `arr[tuple(seq)]` instead of `arr[seq]`. In the future this will be interpreted as an array index, `arr[np.array(seq)]`, which will result either in an error or a different result.\n",
      "  del sys.path[0]\n",
      "/usr/local/lib/python3.5/dist-packages/ipykernel_launcher.py:14: FutureWarning: Using a non-tuple sequence for multidimensional indexing is deprecated; use `arr[tuple(seq)]` instead of `arr[seq]`. In the future this will be interpreted as an array index, `arr[np.array(seq)]`, which will result either in an error or a different result.\n",
      "  \n",
      "/usr/local/lib/python3.5/dist-packages/tensorflow_core/python/client/session.py:1750: UserWarning: An interactive session is already active. This can cause out-of-memory errors in some cases. You must explicitly call `InteractiveSession.close()` to release resources held by the other session(s).\n",
      "  warnings.warn('An interactive session is already active. This can '\n"
     ]
    },
    {
     "name": "stdout",
     "output_type": "stream",
     "text": [
      "Without Dropout & Batch Normalization\n",
      "Epoch:0 | Train loss: 54.69 | Train acc: 0.950 | Test acc:0.933\n",
      "Epoch:1 | Train loss: 48.48 | Train acc: 0.974 | Test acc:0.949\n",
      "Epoch:2 | Train loss: 43.07 | Train acc: 0.983 | Test acc:0.954\n",
      "Epoch:3 | Train loss: 38.32 | Train acc: 0.991 | Test acc:0.961\n",
      "Epoch:4 | Train loss: 34.15 | Train acc: 0.994 | Test acc:0.963\n",
      "Epoch:5 | Train loss: 30.46 | Train acc: 0.996 | Test acc:0.964\n",
      "Epoch:6 | Train loss: 27.20 | Train acc: 0.997 | Test acc:0.965\n",
      "Epoch:7 | Train loss: 24.31 | Train acc: 0.997 | Test acc:0.963\n",
      "Epoch:8 | Train loss: 21.75 | Train acc: 0.997 | Test acc:0.963\n",
      "Epoch:9 | Train loss: 19.47 | Train acc: 0.997 | Test acc:0.965\n",
      "Epoch:10 | Train loss: 17.45 | Train acc: 0.998 | Test acc:0.963\n",
      "Epoch:11 | Train loss: 15.64 | Train acc: 0.998 | Test acc:0.966\n",
      "Epoch:12 | Train loss: 14.04 | Train acc: 0.999 | Test acc:0.967\n",
      "Epoch:13 | Train loss: 12.62 | Train acc: 0.999 | Test acc:0.966\n",
      "Without Dropout & Batch Normalization & Adversarial Training\n"
     ]
    },
    {
     "name": "stderr",
     "output_type": "stream",
     "text": [
      "/home/root/adversarial/Gal/models.py:415: FutureWarning: Using a non-tuple sequence for multidimensional indexing is deprecated; use `arr[tuple(seq)]` instead of `arr[seq]`. In the future this will be interpreted as an array index, `arr[np.array(seq)]`, which will result either in an error or a different result.\n",
      "  sample_X_train = X_train[[ind]] # X_train[[start_index,end_index]] ; this would let us take specific indices, so we can randomize the order, ensure each iteration is taking precisely unique samples\n",
      "/home/root/adversarial/Gal/models.py:416: FutureWarning: Using a non-tuple sequence for multidimensional indexing is deprecated; use `arr[tuple(seq)]` instead of `arr[seq]`. In the future this will be interpreted as an array index, `arr[np.array(seq)]`, which will result either in an error or a different result.\n",
      "  sample_Y_train = Y_train[[ind]]\n",
      "/usr/local/lib/python3.5/dist-packages/tensorflow_core/python/client/session.py:1750: UserWarning: An interactive session is already active. This can cause out-of-memory errors in some cases. You must explicitly call `InteractiveSession.close()` to release resources held by the other session(s).\n",
      "  warnings.warn('An interactive session is already active. This can '\n",
      "/home/root/adversarial/Gal/models.py:563: FutureWarning: Using a non-tuple sequence for multidimensional indexing is deprecated; use `arr[tuple(seq)]` instead of `arr[seq]`. In the future this will be interpreted as an array index, `arr[np.array(seq)]`, which will result either in an error or a different result.\n",
      "  sample_X_train = X_train[[ind]] # X_train[[start_index,end_index]] ; this would let us take specific indices, so we can randomize the order, ensure each iteration is taking precisely unique samples\n",
      "/home/root/adversarial/Gal/models.py:564: FutureWarning: Using a non-tuple sequence for multidimensional indexing is deprecated; use `arr[tuple(seq)]` instead of `arr[seq]`. In the future this will be interpreted as an array index, `arr[np.array(seq)]`, which will result either in an error or a different result.\n",
      "  sample_Y_train = Y_train[[ind]]\n"
     ]
    },
    {
     "name": "stdout",
     "output_type": "stream",
     "text": [
      "Epoch:0 | Train loss: 58.24 | Train acc: 0.808 | Test acc:0.937\n",
      "Epoch:1 | Train loss: 50.60 | Train acc: 0.830 | Test acc:0.951\n",
      "Epoch:2 | Train loss: 44.05 | Train acc: 0.839 | Test acc:0.960\n",
      "Epoch:3 | Train loss: 38.39 | Train acc: 0.844 | Test acc:0.961\n",
      "Epoch:4 | Train loss: 33.50 | Train acc: 0.846 | Test acc:0.961\n",
      "Epoch:5 | Train loss: 29.25 | Train acc: 0.848 | Test acc:0.966\n",
      "Epoch:6 | Train loss: 25.57 | Train acc: 0.848 | Test acc:0.963\n",
      "Epoch:7 | Train loss: 22.36 | Train acc: 0.849 | Test acc:0.966\n",
      "Epoch:8 | Train loss: 19.58 | Train acc: 0.849 | Test acc:0.966\n",
      "Epoch:9 | Train loss: 17.14 | Train acc: 0.849 | Test acc:0.966\n",
      "Epoch:10 | Train loss: 15.03 | Train acc: 0.848 | Test acc:0.967\n",
      "Epoch:11 | Train loss: 13.18 | Train acc: 0.849 | Test acc:0.964\n",
      "Epoch:12 | Train loss: 11.57 | Train acc: 0.848 | Test acc:0.966\n",
      "Epoch:13 | Train loss: 10.17 | Train acc: 0.848 | Test acc:0.965\n",
      "Without Dropout & Batch Normalization\n"
     ]
    },
    {
     "name": "stderr",
     "output_type": "stream",
     "text": [
      "/usr/local/lib/python3.5/dist-packages/tensorflow_core/python/client/session.py:1750: UserWarning: An interactive session is already active. This can cause out-of-memory errors in some cases. You must explicitly call `InteractiveSession.close()` to release resources held by the other session(s).\n",
      "  warnings.warn('An interactive session is already active. This can '\n"
     ]
    },
    {
     "name": "stdout",
     "output_type": "stream",
     "text": [
      "Epoch:0 | Train loss: 55.35 | Train acc: 0.949 | Test acc:0.932\n",
      "Epoch:1 | Train loss: 49.07 | Train acc: 0.975 | Test acc:0.947\n",
      "Epoch:2 | Train loss: 43.59 | Train acc: 0.985 | Test acc:0.957\n",
      "Epoch:3 | Train loss: 38.78 | Train acc: 0.990 | Test acc:0.960\n",
      "Epoch:4 | Train loss: 34.54 | Train acc: 0.993 | Test acc:0.963\n",
      "Epoch:5 | Train loss: 30.79 | Train acc: 0.995 | Test acc:0.961\n",
      "Epoch:6 | Train loss: 27.46 | Train acc: 0.996 | Test acc:0.961\n",
      "Epoch:7 | Train loss: 24.52 | Train acc: 0.997 | Test acc:0.966\n",
      "Epoch:8 | Train loss: 21.90 | Train acc: 0.998 | Test acc:0.965\n",
      "Epoch:9 | Train loss: 19.58 | Train acc: 0.998 | Test acc:0.965\n",
      "Epoch:10 | Train loss: 17.52 | Train acc: 0.998 | Test acc:0.963\n",
      "Epoch:11 | Train loss: 15.68 | Train acc: 0.998 | Test acc:0.962\n",
      "Epoch:12 | Train loss: 14.05 | Train acc: 0.999 | Test acc:0.961\n",
      "Epoch:13 | Train loss: 12.60 | Train acc: 0.998 | Test acc:0.959\n",
      "Without Dropout & Batch Normalization & Adversarial Training\n"
     ]
    },
    {
     "name": "stderr",
     "output_type": "stream",
     "text": [
      "/home/root/adversarial/Gal/models.py:415: FutureWarning: Using a non-tuple sequence for multidimensional indexing is deprecated; use `arr[tuple(seq)]` instead of `arr[seq]`. In the future this will be interpreted as an array index, `arr[np.array(seq)]`, which will result either in an error or a different result.\n",
      "  sample_X_train = X_train[[ind]] # X_train[[start_index,end_index]] ; this would let us take specific indices, so we can randomize the order, ensure each iteration is taking precisely unique samples\n",
      "/home/root/adversarial/Gal/models.py:416: FutureWarning: Using a non-tuple sequence for multidimensional indexing is deprecated; use `arr[tuple(seq)]` instead of `arr[seq]`. In the future this will be interpreted as an array index, `arr[np.array(seq)]`, which will result either in an error or a different result.\n",
      "  sample_Y_train = Y_train[[ind]]\n",
      "/usr/local/lib/python3.5/dist-packages/tensorflow_core/python/client/session.py:1750: UserWarning: An interactive session is already active. This can cause out-of-memory errors in some cases. You must explicitly call `InteractiveSession.close()` to release resources held by the other session(s).\n",
      "  warnings.warn('An interactive session is already active. This can '\n",
      "/home/root/adversarial/Gal/models.py:563: FutureWarning: Using a non-tuple sequence for multidimensional indexing is deprecated; use `arr[tuple(seq)]` instead of `arr[seq]`. In the future this will be interpreted as an array index, `arr[np.array(seq)]`, which will result either in an error or a different result.\n",
      "  sample_X_train = X_train[[ind]] # X_train[[start_index,end_index]] ; this would let us take specific indices, so we can randomize the order, ensure each iteration is taking precisely unique samples\n",
      "/home/root/adversarial/Gal/models.py:564: FutureWarning: Using a non-tuple sequence for multidimensional indexing is deprecated; use `arr[tuple(seq)]` instead of `arr[seq]`. In the future this will be interpreted as an array index, `arr[np.array(seq)]`, which will result either in an error or a different result.\n",
      "  sample_Y_train = Y_train[[ind]]\n"
     ]
    },
    {
     "name": "stdout",
     "output_type": "stream",
     "text": [
      "Epoch:0 | Train loss: 55.05 | Train acc: 0.812 | Test acc:0.939\n",
      "Epoch:1 | Train loss: 47.97 | Train acc: 0.832 | Test acc:0.956\n",
      "Epoch:2 | Train loss: 41.92 | Train acc: 0.840 | Test acc:0.957\n",
      "Epoch:3 | Train loss: 36.70 | Train acc: 0.844 | Test acc:0.962\n",
      "Epoch:4 | Train loss: 32.19 | Train acc: 0.846 | Test acc:0.962\n",
      "Epoch:5 | Train loss: 28.27 | Train acc: 0.848 | Test acc:0.963\n",
      "Epoch:6 | Train loss: 24.87 | Train acc: 0.847 | Test acc:0.964\n",
      "Epoch:7 | Train loss: 21.90 | Train acc: 0.847 | Test acc:0.964\n",
      "Epoch:8 | Train loss: 19.30 | Train acc: 0.849 | Test acc:0.966\n",
      "Epoch:9 | Train loss: 17.04 | Train acc: 0.847 | Test acc:0.966\n",
      "Epoch:10 | Train loss: 15.06 | Train acc: 0.847 | Test acc:0.966\n",
      "Epoch:11 | Train loss: 13.32 | Train acc: 0.847 | Test acc:0.964\n",
      "Epoch:12 | Train loss: 11.80 | Train acc: 0.848 | Test acc:0.964\n",
      "Epoch:13 | Train loss: 10.47 | Train acc: 0.848 | Test acc:0.967\n",
      "Without Dropout & Batch Normalization\n"
     ]
    },
    {
     "name": "stderr",
     "output_type": "stream",
     "text": [
      "/usr/local/lib/python3.5/dist-packages/tensorflow_core/python/client/session.py:1750: UserWarning: An interactive session is already active. This can cause out-of-memory errors in some cases. You must explicitly call `InteractiveSession.close()` to release resources held by the other session(s).\n",
      "  warnings.warn('An interactive session is already active. This can '\n"
     ]
    },
    {
     "name": "stdout",
     "output_type": "stream",
     "text": [
      "Epoch:0 | Train loss: 59.09 | Train acc: 0.944 | Test acc:0.934\n",
      "Epoch:1 | Train loss: 52.56 | Train acc: 0.972 | Test acc:0.950\n",
      "Epoch:2 | Train loss: 46.86 | Train acc: 0.983 | Test acc:0.953\n",
      "Epoch:3 | Train loss: 41.83 | Train acc: 0.990 | Test acc:0.958\n",
      "Epoch:4 | Train loss: 37.38 | Train acc: 0.993 | Test acc:0.963\n",
      "Epoch:5 | Train loss: 33.43 | Train acc: 0.993 | Test acc:0.962\n",
      "Epoch:6 | Train loss: 29.92 | Train acc: 0.996 | Test acc:0.963\n",
      "Epoch:7 | Train loss: 26.80 | Train acc: 0.997 | Test acc:0.965\n",
      "Epoch:8 | Train loss: 24.02 | Train acc: 0.997 | Test acc:0.966\n",
      "Epoch:9 | Train loss: 21.55 | Train acc: 0.997 | Test acc:0.966\n",
      "Epoch:10 | Train loss: 19.34 | Train acc: 0.997 | Test acc:0.965\n",
      "Epoch:11 | Train loss: 17.36 | Train acc: 0.998 | Test acc:0.965\n",
      "Epoch:12 | Train loss: 15.60 | Train acc: 0.998 | Test acc:0.966\n",
      "Epoch:13 | Train loss: 14.02 | Train acc: 0.998 | Test acc:0.962\n",
      "Without Dropout & Batch Normalization & Adversarial Training\n"
     ]
    },
    {
     "name": "stderr",
     "output_type": "stream",
     "text": [
      "/home/root/adversarial/Gal/models.py:415: FutureWarning: Using a non-tuple sequence for multidimensional indexing is deprecated; use `arr[tuple(seq)]` instead of `arr[seq]`. In the future this will be interpreted as an array index, `arr[np.array(seq)]`, which will result either in an error or a different result.\n",
      "  sample_X_train = X_train[[ind]] # X_train[[start_index,end_index]] ; this would let us take specific indices, so we can randomize the order, ensure each iteration is taking precisely unique samples\n",
      "/home/root/adversarial/Gal/models.py:416: FutureWarning: Using a non-tuple sequence for multidimensional indexing is deprecated; use `arr[tuple(seq)]` instead of `arr[seq]`. In the future this will be interpreted as an array index, `arr[np.array(seq)]`, which will result either in an error or a different result.\n",
      "  sample_Y_train = Y_train[[ind]]\n",
      "/usr/local/lib/python3.5/dist-packages/tensorflow_core/python/client/session.py:1750: UserWarning: An interactive session is already active. This can cause out-of-memory errors in some cases. You must explicitly call `InteractiveSession.close()` to release resources held by the other session(s).\n",
      "  warnings.warn('An interactive session is already active. This can '\n",
      "/home/root/adversarial/Gal/models.py:563: FutureWarning: Using a non-tuple sequence for multidimensional indexing is deprecated; use `arr[tuple(seq)]` instead of `arr[seq]`. In the future this will be interpreted as an array index, `arr[np.array(seq)]`, which will result either in an error or a different result.\n",
      "  sample_X_train = X_train[[ind]] # X_train[[start_index,end_index]] ; this would let us take specific indices, so we can randomize the order, ensure each iteration is taking precisely unique samples\n",
      "/home/root/adversarial/Gal/models.py:564: FutureWarning: Using a non-tuple sequence for multidimensional indexing is deprecated; use `arr[tuple(seq)]` instead of `arr[seq]`. In the future this will be interpreted as an array index, `arr[np.array(seq)]`, which will result either in an error or a different result.\n",
      "  sample_Y_train = Y_train[[ind]]\n"
     ]
    },
    {
     "name": "stdout",
     "output_type": "stream",
     "text": [
      "Epoch:0 | Train loss: 52.92 | Train acc: 0.811 | Test acc:0.939\n",
      "Epoch:1 | Train loss: 45.86 | Train acc: 0.830 | Test acc:0.952\n",
      "Epoch:2 | Train loss: 39.84 | Train acc: 0.839 | Test acc:0.957\n",
      "Epoch:3 | Train loss: 34.67 | Train acc: 0.844 | Test acc:0.961\n",
      "Epoch:4 | Train loss: 30.23 | Train acc: 0.843 | Test acc:0.962\n",
      "Epoch:5 | Train loss: 26.39 | Train acc: 0.845 | Test acc:0.961\n",
      "Epoch:6 | Train loss: 23.07 | Train acc: 0.847 | Test acc:0.964\n",
      "Epoch:7 | Train loss: 20.19 | Train acc: 0.847 | Test acc:0.964\n",
      "Epoch:8 | Train loss: 17.70 | Train acc: 0.850 | Test acc:0.964\n",
      "Epoch:9 | Train loss: 15.53 | Train acc: 0.846 | Test acc:0.963\n",
      "Epoch:10 | Train loss: 13.64 | Train acc: 0.848 | Test acc:0.965\n",
      "Epoch:11 | Train loss: 12.00 | Train acc: 0.848 | Test acc:0.967\n",
      "Epoch:12 | Train loss: 10.58 | Train acc: 0.847 | Test acc:0.964\n",
      "Epoch:13 | Train loss: 9.34 | Train acc: 0.848 | Test acc:0.961\n",
      "Without Dropout & Batch Normalization\n"
     ]
    },
    {
     "name": "stderr",
     "output_type": "stream",
     "text": [
      "/usr/local/lib/python3.5/dist-packages/tensorflow_core/python/client/session.py:1750: UserWarning: An interactive session is already active. This can cause out-of-memory errors in some cases. You must explicitly call `InteractiveSession.close()` to release resources held by the other session(s).\n",
      "  warnings.warn('An interactive session is already active. This can '\n"
     ]
    },
    {
     "name": "stdout",
     "output_type": "stream",
     "text": [
      "Epoch:0 | Train loss: 54.70 | Train acc: 0.945 | Test acc:0.932\n",
      "Epoch:1 | Train loss: 48.52 | Train acc: 0.975 | Test acc:0.950\n",
      "Epoch:2 | Train loss: 43.14 | Train acc: 0.986 | Test acc:0.952\n",
      "Epoch:3 | Train loss: 38.42 | Train acc: 0.991 | Test acc:0.957\n",
      "Epoch:4 | Train loss: 34.25 | Train acc: 0.993 | Test acc:0.960\n",
      "Epoch:5 | Train loss: 30.58 | Train acc: 0.995 | Test acc:0.961\n",
      "Epoch:6 | Train loss: 27.32 | Train acc: 0.997 | Test acc:0.963\n",
      "Epoch:7 | Train loss: 24.43 | Train acc: 0.997 | Test acc:0.964\n",
      "Epoch:8 | Train loss: 21.87 | Train acc: 0.997 | Test acc:0.963\n",
      "Epoch:9 | Train loss: 19.59 | Train acc: 0.998 | Test acc:0.965\n",
      "Epoch:10 | Train loss: 17.56 | Train acc: 0.998 | Test acc:0.966\n",
      "Epoch:11 | Train loss: 15.76 | Train acc: 0.998 | Test acc:0.963\n",
      "Epoch:12 | Train loss: 14.15 | Train acc: 0.998 | Test acc:0.965\n",
      "Epoch:13 | Train loss: 12.72 | Train acc: 0.998 | Test acc:0.965\n",
      "Without Dropout & Batch Normalization & Adversarial Training\n"
     ]
    },
    {
     "name": "stderr",
     "output_type": "stream",
     "text": [
      "/home/root/adversarial/Gal/models.py:415: FutureWarning: Using a non-tuple sequence for multidimensional indexing is deprecated; use `arr[tuple(seq)]` instead of `arr[seq]`. In the future this will be interpreted as an array index, `arr[np.array(seq)]`, which will result either in an error or a different result.\n",
      "  sample_X_train = X_train[[ind]] # X_train[[start_index,end_index]] ; this would let us take specific indices, so we can randomize the order, ensure each iteration is taking precisely unique samples\n",
      "/home/root/adversarial/Gal/models.py:416: FutureWarning: Using a non-tuple sequence for multidimensional indexing is deprecated; use `arr[tuple(seq)]` instead of `arr[seq]`. In the future this will be interpreted as an array index, `arr[np.array(seq)]`, which will result either in an error or a different result.\n",
      "  sample_Y_train = Y_train[[ind]]\n",
      "/usr/local/lib/python3.5/dist-packages/tensorflow_core/python/client/session.py:1750: UserWarning: An interactive session is already active. This can cause out-of-memory errors in some cases. You must explicitly call `InteractiveSession.close()` to release resources held by the other session(s).\n",
      "  warnings.warn('An interactive session is already active. This can '\n",
      "/home/root/adversarial/Gal/models.py:563: FutureWarning: Using a non-tuple sequence for multidimensional indexing is deprecated; use `arr[tuple(seq)]` instead of `arr[seq]`. In the future this will be interpreted as an array index, `arr[np.array(seq)]`, which will result either in an error or a different result.\n",
      "  sample_X_train = X_train[[ind]] # X_train[[start_index,end_index]] ; this would let us take specific indices, so we can randomize the order, ensure each iteration is taking precisely unique samples\n",
      "/home/root/adversarial/Gal/models.py:564: FutureWarning: Using a non-tuple sequence for multidimensional indexing is deprecated; use `arr[tuple(seq)]` instead of `arr[seq]`. In the future this will be interpreted as an array index, `arr[np.array(seq)]`, which will result either in an error or a different result.\n",
      "  sample_Y_train = Y_train[[ind]]\n"
     ]
    },
    {
     "name": "stdout",
     "output_type": "stream",
     "text": [
      "Epoch:0 | Train loss: 53.03 | Train acc: 0.814 | Test acc:0.937\n",
      "Epoch:1 | Train loss: 45.85 | Train acc: 0.836 | Test acc:0.957\n",
      "Epoch:2 | Train loss: 39.73 | Train acc: 0.843 | Test acc:0.962\n",
      "Epoch:3 | Train loss: 34.49 | Train acc: 0.847 | Test acc:0.963\n",
      "Epoch:4 | Train loss: 29.97 | Train acc: 0.846 | Test acc:0.964\n",
      "Epoch:5 | Train loss: 26.08 | Train acc: 0.848 | Test acc:0.968\n",
      "Epoch:6 | Train loss: 22.71 | Train acc: 0.849 | Test acc:0.966\n",
      "Epoch:7 | Train loss: 19.79 | Train acc: 0.851 | Test acc:0.965\n",
      "Epoch:8 | Train loss: 17.27 | Train acc: 0.850 | Test acc:0.965\n",
      "Epoch:9 | Train loss: 15.08 | Train acc: 0.851 | Test acc:0.967\n",
      "Epoch:10 | Train loss: 13.18 | Train acc: 0.849 | Test acc:0.969\n",
      "Epoch:11 | Train loss: 11.54 | Train acc: 0.849 | Test acc:0.970\n",
      "Epoch:12 | Train loss: 10.11 | Train acc: 0.851 | Test acc:0.972\n",
      "Epoch:13 | Train loss: 8.88 | Train acc: 0.850 | Test acc:0.970\n",
      "Without Dropout & Batch Normalization\n"
     ]
    },
    {
     "name": "stderr",
     "output_type": "stream",
     "text": [
      "/usr/local/lib/python3.5/dist-packages/tensorflow_core/python/client/session.py:1750: UserWarning: An interactive session is already active. This can cause out-of-memory errors in some cases. You must explicitly call `InteractiveSession.close()` to release resources held by the other session(s).\n",
      "  warnings.warn('An interactive session is already active. This can '\n"
     ]
    },
    {
     "name": "stdout",
     "output_type": "stream",
     "text": [
      "Epoch:0 | Train loss: 59.81 | Train acc: 0.942 | Test acc:0.934\n",
      "Epoch:1 | Train loss: 53.23 | Train acc: 0.971 | Test acc:0.952\n",
      "Epoch:2 | Train loss: 47.46 | Train acc: 0.983 | Test acc:0.957\n",
      "Epoch:3 | Train loss: 42.36 | Train acc: 0.992 | Test acc:0.960\n",
      "Epoch:4 | Train loss: 37.84 | Train acc: 0.993 | Test acc:0.963\n",
      "Epoch:5 | Train loss: 33.82 | Train acc: 0.995 | Test acc:0.963\n",
      "Epoch:6 | Train loss: 30.24 | Train acc: 0.996 | Test acc:0.965\n",
      "Epoch:7 | Train loss: 27.05 | Train acc: 0.997 | Test acc:0.964\n",
      "Epoch:8 | Train loss: 24.20 | Train acc: 0.998 | Test acc:0.965\n",
      "Epoch:9 | Train loss: 21.66 | Train acc: 0.997 | Test acc:0.960\n",
      "Epoch:10 | Train loss: 19.39 | Train acc: 0.997 | Test acc:0.962\n",
      "Epoch:11 | Train loss: 17.36 | Train acc: 0.998 | Test acc:0.963\n",
      "Epoch:12 | Train loss: 15.55 | Train acc: 0.998 | Test acc:0.965\n",
      "Epoch:13 | Train loss: 13.94 | Train acc: 0.998 | Test acc:0.964\n",
      "Without Dropout & Batch Normalization & Adversarial Training\n"
     ]
    },
    {
     "name": "stderr",
     "output_type": "stream",
     "text": [
      "/home/root/adversarial/Gal/models.py:415: FutureWarning: Using a non-tuple sequence for multidimensional indexing is deprecated; use `arr[tuple(seq)]` instead of `arr[seq]`. In the future this will be interpreted as an array index, `arr[np.array(seq)]`, which will result either in an error or a different result.\n",
      "  sample_X_train = X_train[[ind]] # X_train[[start_index,end_index]] ; this would let us take specific indices, so we can randomize the order, ensure each iteration is taking precisely unique samples\n",
      "/home/root/adversarial/Gal/models.py:416: FutureWarning: Using a non-tuple sequence for multidimensional indexing is deprecated; use `arr[tuple(seq)]` instead of `arr[seq]`. In the future this will be interpreted as an array index, `arr[np.array(seq)]`, which will result either in an error or a different result.\n",
      "  sample_Y_train = Y_train[[ind]]\n",
      "/usr/local/lib/python3.5/dist-packages/tensorflow_core/python/client/session.py:1750: UserWarning: An interactive session is already active. This can cause out-of-memory errors in some cases. You must explicitly call `InteractiveSession.close()` to release resources held by the other session(s).\n",
      "  warnings.warn('An interactive session is already active. This can '\n",
      "/home/root/adversarial/Gal/models.py:563: FutureWarning: Using a non-tuple sequence for multidimensional indexing is deprecated; use `arr[tuple(seq)]` instead of `arr[seq]`. In the future this will be interpreted as an array index, `arr[np.array(seq)]`, which will result either in an error or a different result.\n",
      "  sample_X_train = X_train[[ind]] # X_train[[start_index,end_index]] ; this would let us take specific indices, so we can randomize the order, ensure each iteration is taking precisely unique samples\n",
      "/home/root/adversarial/Gal/models.py:564: FutureWarning: Using a non-tuple sequence for multidimensional indexing is deprecated; use `arr[tuple(seq)]` instead of `arr[seq]`. In the future this will be interpreted as an array index, `arr[np.array(seq)]`, which will result either in an error or a different result.\n",
      "  sample_Y_train = Y_train[[ind]]\n"
     ]
    },
    {
     "name": "stdout",
     "output_type": "stream",
     "text": [
      "Epoch:0 | Train loss: 56.73 | Train acc: 0.811 | Test acc:0.939\n",
      "Epoch:1 | Train loss: 49.44 | Train acc: 0.831 | Test acc:0.952\n",
      "Epoch:2 | Train loss: 43.19 | Train acc: 0.839 | Test acc:0.961\n",
      "Epoch:3 | Train loss: 37.79 | Train acc: 0.842 | Test acc:0.961\n",
      "Epoch:4 | Train loss: 33.11 | Train acc: 0.847 | Test acc:0.962\n",
      "Epoch:5 | Train loss: 29.04 | Train acc: 0.846 | Test acc:0.964\n",
      "Epoch:6 | Train loss: 25.50 | Train acc: 0.847 | Test acc:0.966\n",
      "Epoch:7 | Train loss: 22.41 | Train acc: 0.847 | Test acc:0.965\n",
      "Epoch:8 | Train loss: 19.70 | Train acc: 0.848 | Test acc:0.966\n",
      "Epoch:9 | Train loss: 17.34 | Train acc: 0.848 | Test acc:0.965\n",
      "Epoch:10 | Train loss: 15.28 | Train acc: 0.847 | Test acc:0.966\n",
      "Epoch:11 | Train loss: 13.47 | Train acc: 0.848 | Test acc:0.965\n",
      "Epoch:12 | Train loss: 11.89 | Train acc: 0.848 | Test acc:0.965\n",
      "Epoch:13 | Train loss: 10.51 | Train acc: 0.850 | Test acc:0.966\n"
     ]
    },
    {
     "name": "stderr",
     "output_type": "stream",
     "text": [
      "/usr/local/lib/python3.5/dist-packages/ipykernel_launcher.py:13: FutureWarning: Using a non-tuple sequence for multidimensional indexing is deprecated; use `arr[tuple(seq)]` instead of `arr[seq]`. In the future this will be interpreted as an array index, `arr[np.array(seq)]`, which will result either in an error or a different result.\n",
      "  del sys.path[0]\n",
      "/usr/local/lib/python3.5/dist-packages/ipykernel_launcher.py:14: FutureWarning: Using a non-tuple sequence for multidimensional indexing is deprecated; use `arr[tuple(seq)]` instead of `arr[seq]`. In the future this will be interpreted as an array index, `arr[np.array(seq)]`, which will result either in an error or a different result.\n",
      "  \n",
      "/usr/local/lib/python3.5/dist-packages/tensorflow_core/python/client/session.py:1750: UserWarning: An interactive session is already active. This can cause out-of-memory errors in some cases. You must explicitly call `InteractiveSession.close()` to release resources held by the other session(s).\n",
      "  warnings.warn('An interactive session is already active. This can '\n"
     ]
    },
    {
     "name": "stdout",
     "output_type": "stream",
     "text": [
      "Without Dropout & Batch Normalization\n",
      "Epoch:0 | Train loss: 58.06 | Train acc: 0.919 | Test acc:0.905\n",
      "Epoch:1 | Train loss: 54.48 | Train acc: 0.958 | Test acc:0.929\n",
      "Epoch:2 | Train loss: 51.20 | Train acc: 0.973 | Test acc:0.936\n",
      "Epoch:3 | Train loss: 48.14 | Train acc: 0.986 | Test acc:0.945\n",
      "Epoch:4 | Train loss: 45.28 | Train acc: 0.990 | Test acc:0.948\n",
      "Epoch:5 | Train loss: 42.61 | Train acc: 0.994 | Test acc:0.947\n",
      "Epoch:6 | Train loss: 40.11 | Train acc: 0.995 | Test acc:0.948\n",
      "Epoch:7 | Train loss: 37.76 | Train acc: 0.997 | Test acc:0.950\n",
      "Epoch:8 | Train loss: 35.56 | Train acc: 0.997 | Test acc:0.951\n",
      "Epoch:9 | Train loss: 33.50 | Train acc: 0.997 | Test acc:0.947\n",
      "Epoch:10 | Train loss: 31.55 | Train acc: 0.998 | Test acc:0.949\n",
      "Epoch:11 | Train loss: 29.73 | Train acc: 0.997 | Test acc:0.948\n",
      "Epoch:12 | Train loss: 28.02 | Train acc: 0.998 | Test acc:0.947\n",
      "Epoch:13 | Train loss: 26.41 | Train acc: 0.998 | Test acc:0.946\n",
      "Without Dropout & Batch Normalization & Adversarial Training\n"
     ]
    },
    {
     "name": "stderr",
     "output_type": "stream",
     "text": [
      "/home/root/adversarial/Gal/models.py:415: FutureWarning: Using a non-tuple sequence for multidimensional indexing is deprecated; use `arr[tuple(seq)]` instead of `arr[seq]`. In the future this will be interpreted as an array index, `arr[np.array(seq)]`, which will result either in an error or a different result.\n",
      "  sample_X_train = X_train[[ind]] # X_train[[start_index,end_index]] ; this would let us take specific indices, so we can randomize the order, ensure each iteration is taking precisely unique samples\n",
      "/home/root/adversarial/Gal/models.py:416: FutureWarning: Using a non-tuple sequence for multidimensional indexing is deprecated; use `arr[tuple(seq)]` instead of `arr[seq]`. In the future this will be interpreted as an array index, `arr[np.array(seq)]`, which will result either in an error or a different result.\n",
      "  sample_Y_train = Y_train[[ind]]\n",
      "/usr/local/lib/python3.5/dist-packages/tensorflow_core/python/client/session.py:1750: UserWarning: An interactive session is already active. This can cause out-of-memory errors in some cases. You must explicitly call `InteractiveSession.close()` to release resources held by the other session(s).\n",
      "  warnings.warn('An interactive session is already active. This can '\n",
      "/home/root/adversarial/Gal/models.py:563: FutureWarning: Using a non-tuple sequence for multidimensional indexing is deprecated; use `arr[tuple(seq)]` instead of `arr[seq]`. In the future this will be interpreted as an array index, `arr[np.array(seq)]`, which will result either in an error or a different result.\n",
      "  sample_X_train = X_train[[ind]] # X_train[[start_index,end_index]] ; this would let us take specific indices, so we can randomize the order, ensure each iteration is taking precisely unique samples\n",
      "/home/root/adversarial/Gal/models.py:564: FutureWarning: Using a non-tuple sequence for multidimensional indexing is deprecated; use `arr[tuple(seq)]` instead of `arr[seq]`. In the future this will be interpreted as an array index, `arr[np.array(seq)]`, which will result either in an error or a different result.\n",
      "  sample_Y_train = Y_train[[ind]]\n"
     ]
    },
    {
     "name": "stdout",
     "output_type": "stream",
     "text": [
      "Epoch:0 | Train loss: 67.47 | Train acc: 0.795 | Test acc:0.912\n",
      "Epoch:1 | Train loss: 62.93 | Train acc: 0.823 | Test acc:0.935\n",
      "Epoch:2 | Train loss: 58.77 | Train acc: 0.834 | Test acc:0.944\n",
      "Epoch:3 | Train loss: 54.91 | Train acc: 0.842 | Test acc:0.947\n",
      "Epoch:4 | Train loss: 51.33 | Train acc: 0.846 | Test acc:0.948\n",
      "Epoch:5 | Train loss: 48.00 | Train acc: 0.846 | Test acc:0.951\n",
      "Epoch:6 | Train loss: 44.89 | Train acc: 0.847 | Test acc:0.951\n",
      "Epoch:7 | Train loss: 42.00 | Train acc: 0.849 | Test acc:0.952\n",
      "Epoch:8 | Train loss: 39.31 | Train acc: 0.848 | Test acc:0.953\n",
      "Epoch:9 | Train loss: 36.79 | Train acc: 0.849 | Test acc:0.953\n",
      "Epoch:10 | Train loss: 34.44 | Train acc: 0.847 | Test acc:0.952\n",
      "Epoch:11 | Train loss: 32.25 | Train acc: 0.846 | Test acc:0.953\n",
      "Epoch:12 | Train loss: 30.20 | Train acc: 0.849 | Test acc:0.952\n",
      "Epoch:13 | Train loss: 28.29 | Train acc: 0.848 | Test acc:0.949\n",
      "Without Dropout & Batch Normalization\n"
     ]
    },
    {
     "name": "stderr",
     "output_type": "stream",
     "text": [
      "/usr/local/lib/python3.5/dist-packages/tensorflow_core/python/client/session.py:1750: UserWarning: An interactive session is already active. This can cause out-of-memory errors in some cases. You must explicitly call `InteractiveSession.close()` to release resources held by the other session(s).\n",
      "  warnings.warn('An interactive session is already active. This can '\n"
     ]
    },
    {
     "name": "stdout",
     "output_type": "stream",
     "text": [
      "Epoch:0 | Train loss: 63.97 | Train acc: 0.922 | Test acc:0.907\n",
      "Epoch:1 | Train loss: 60.22 | Train acc: 0.959 | Test acc:0.932\n",
      "Epoch:2 | Train loss: 56.76 | Train acc: 0.978 | Test acc:0.943\n",
      "Epoch:3 | Train loss: 53.52 | Train acc: 0.987 | Test acc:0.941\n",
      "Epoch:4 | Train loss: 50.50 | Train acc: 0.989 | Test acc:0.946\n",
      "Epoch:5 | Train loss: 47.65 | Train acc: 0.994 | Test acc:0.949\n",
      "Epoch:6 | Train loss: 44.98 | Train acc: 0.995 | Test acc:0.951\n",
      "Epoch:7 | Train loss: 42.47 | Train acc: 0.996 | Test acc:0.951\n",
      "Epoch:8 | Train loss: 40.11 | Train acc: 0.995 | Test acc:0.950\n",
      "Epoch:9 | Train loss: 37.89 | Train acc: 0.996 | Test acc:0.950\n",
      "Epoch:10 | Train loss: 35.80 | Train acc: 0.997 | Test acc:0.953\n",
      "Epoch:11 | Train loss: 33.82 | Train acc: 0.997 | Test acc:0.949\n",
      "Epoch:12 | Train loss: 31.96 | Train acc: 0.998 | Test acc:0.951\n",
      "Epoch:13 | Train loss: 30.21 | Train acc: 0.998 | Test acc:0.951\n",
      "Without Dropout & Batch Normalization & Adversarial Training\n"
     ]
    },
    {
     "name": "stderr",
     "output_type": "stream",
     "text": [
      "/home/root/adversarial/Gal/models.py:415: FutureWarning: Using a non-tuple sequence for multidimensional indexing is deprecated; use `arr[tuple(seq)]` instead of `arr[seq]`. In the future this will be interpreted as an array index, `arr[np.array(seq)]`, which will result either in an error or a different result.\n",
      "  sample_X_train = X_train[[ind]] # X_train[[start_index,end_index]] ; this would let us take specific indices, so we can randomize the order, ensure each iteration is taking precisely unique samples\n",
      "/home/root/adversarial/Gal/models.py:416: FutureWarning: Using a non-tuple sequence for multidimensional indexing is deprecated; use `arr[tuple(seq)]` instead of `arr[seq]`. In the future this will be interpreted as an array index, `arr[np.array(seq)]`, which will result either in an error or a different result.\n",
      "  sample_Y_train = Y_train[[ind]]\n",
      "/usr/local/lib/python3.5/dist-packages/tensorflow_core/python/client/session.py:1750: UserWarning: An interactive session is already active. This can cause out-of-memory errors in some cases. You must explicitly call `InteractiveSession.close()` to release resources held by the other session(s).\n",
      "  warnings.warn('An interactive session is already active. This can '\n",
      "/home/root/adversarial/Gal/models.py:563: FutureWarning: Using a non-tuple sequence for multidimensional indexing is deprecated; use `arr[tuple(seq)]` instead of `arr[seq]`. In the future this will be interpreted as an array index, `arr[np.array(seq)]`, which will result either in an error or a different result.\n",
      "  sample_X_train = X_train[[ind]] # X_train[[start_index,end_index]] ; this would let us take specific indices, so we can randomize the order, ensure each iteration is taking precisely unique samples\n",
      "/home/root/adversarial/Gal/models.py:564: FutureWarning: Using a non-tuple sequence for multidimensional indexing is deprecated; use `arr[tuple(seq)]` instead of `arr[seq]`. In the future this will be interpreted as an array index, `arr[np.array(seq)]`, which will result either in an error or a different result.\n",
      "  sample_Y_train = Y_train[[ind]]\n"
     ]
    },
    {
     "name": "stdout",
     "output_type": "stream",
     "text": [
      "Epoch:0 | Train loss: 56.55 | Train acc: 0.792 | Test acc:0.911\n",
      "Epoch:1 | Train loss: 52.45 | Train acc: 0.823 | Test acc:0.937\n",
      "Epoch:2 | Train loss: 48.72 | Train acc: 0.839 | Test acc:0.943\n",
      "Epoch:3 | Train loss: 45.28 | Train acc: 0.847 | Test acc:0.945\n",
      "Epoch:4 | Train loss: 42.11 | Train acc: 0.847 | Test acc:0.949\n",
      "Epoch:5 | Train loss: 39.17 | Train acc: 0.848 | Test acc:0.951\n",
      "Epoch:6 | Train loss: 36.46 | Train acc: 0.848 | Test acc:0.951\n",
      "Epoch:7 | Train loss: 33.94 | Train acc: 0.849 | Test acc:0.954\n",
      "Epoch:8 | Train loss: 31.61 | Train acc: 0.848 | Test acc:0.951\n",
      "Epoch:9 | Train loss: 29.44 | Train acc: 0.850 | Test acc:0.956\n",
      "Epoch:10 | Train loss: 27.43 | Train acc: 0.850 | Test acc:0.953\n",
      "Epoch:11 | Train loss: 25.56 | Train acc: 0.850 | Test acc:0.955\n",
      "Epoch:12 | Train loss: 23.83 | Train acc: 0.852 | Test acc:0.954\n",
      "Epoch:13 | Train loss: 22.22 | Train acc: 0.848 | Test acc:0.956\n",
      "Without Dropout & Batch Normalization\n"
     ]
    },
    {
     "name": "stderr",
     "output_type": "stream",
     "text": [
      "/usr/local/lib/python3.5/dist-packages/tensorflow_core/python/client/session.py:1750: UserWarning: An interactive session is already active. This can cause out-of-memory errors in some cases. You must explicitly call `InteractiveSession.close()` to release resources held by the other session(s).\n",
      "  warnings.warn('An interactive session is already active. This can '\n"
     ]
    },
    {
     "name": "stdout",
     "output_type": "stream",
     "text": [
      "Epoch:0 | Train loss: 57.66 | Train acc: 0.916 | Test acc:0.899\n",
      "Epoch:1 | Train loss: 54.17 | Train acc: 0.962 | Test acc:0.929\n",
      "Epoch:2 | Train loss: 50.98 | Train acc: 0.977 | Test acc:0.940\n",
      "Epoch:3 | Train loss: 48.02 | Train acc: 0.987 | Test acc:0.945\n",
      "Epoch:4 | Train loss: 45.25 | Train acc: 0.991 | Test acc:0.944\n",
      "Epoch:5 | Train loss: 42.67 | Train acc: 0.994 | Test acc:0.950\n",
      "Epoch:6 | Train loss: 40.26 | Train acc: 0.994 | Test acc:0.945\n",
      "Epoch:7 | Train loss: 37.99 | Train acc: 0.995 | Test acc:0.949\n",
      "Epoch:8 | Train loss: 35.86 | Train acc: 0.996 | Test acc:0.951\n",
      "Epoch:9 | Train loss: 33.86 | Train acc: 0.995 | Test acc:0.949\n",
      "Epoch:10 | Train loss: 31.99 | Train acc: 0.997 | Test acc:0.948\n",
      "Epoch:11 | Train loss: 30.22 | Train acc: 0.997 | Test acc:0.950\n",
      "Epoch:12 | Train loss: 28.56 | Train acc: 0.997 | Test acc:0.951\n",
      "Epoch:13 | Train loss: 27.00 | Train acc: 0.997 | Test acc:0.952\n",
      "Without Dropout & Batch Normalization & Adversarial Training\n"
     ]
    },
    {
     "name": "stderr",
     "output_type": "stream",
     "text": [
      "/home/root/adversarial/Gal/models.py:415: FutureWarning: Using a non-tuple sequence for multidimensional indexing is deprecated; use `arr[tuple(seq)]` instead of `arr[seq]`. In the future this will be interpreted as an array index, `arr[np.array(seq)]`, which will result either in an error or a different result.\n",
      "  sample_X_train = X_train[[ind]] # X_train[[start_index,end_index]] ; this would let us take specific indices, so we can randomize the order, ensure each iteration is taking precisely unique samples\n",
      "/home/root/adversarial/Gal/models.py:416: FutureWarning: Using a non-tuple sequence for multidimensional indexing is deprecated; use `arr[tuple(seq)]` instead of `arr[seq]`. In the future this will be interpreted as an array index, `arr[np.array(seq)]`, which will result either in an error or a different result.\n",
      "  sample_Y_train = Y_train[[ind]]\n",
      "/usr/local/lib/python3.5/dist-packages/tensorflow_core/python/client/session.py:1750: UserWarning: An interactive session is already active. This can cause out-of-memory errors in some cases. You must explicitly call `InteractiveSession.close()` to release resources held by the other session(s).\n",
      "  warnings.warn('An interactive session is already active. This can '\n",
      "/home/root/adversarial/Gal/models.py:563: FutureWarning: Using a non-tuple sequence for multidimensional indexing is deprecated; use `arr[tuple(seq)]` instead of `arr[seq]`. In the future this will be interpreted as an array index, `arr[np.array(seq)]`, which will result either in an error or a different result.\n",
      "  sample_X_train = X_train[[ind]] # X_train[[start_index,end_index]] ; this would let us take specific indices, so we can randomize the order, ensure each iteration is taking precisely unique samples\n",
      "/home/root/adversarial/Gal/models.py:564: FutureWarning: Using a non-tuple sequence for multidimensional indexing is deprecated; use `arr[tuple(seq)]` instead of `arr[seq]`. In the future this will be interpreted as an array index, `arr[np.array(seq)]`, which will result either in an error or a different result.\n",
      "  sample_Y_train = Y_train[[ind]]\n"
     ]
    },
    {
     "name": "stdout",
     "output_type": "stream",
     "text": [
      "Epoch:0 | Train loss: 53.97 | Train acc: 0.771 | Test acc:0.872\n",
      "Epoch:1 | Train loss: 49.90 | Train acc: 0.827 | Test acc:0.935\n",
      "Epoch:2 | Train loss: 46.25 | Train acc: 0.840 | Test acc:0.945\n",
      "Epoch:3 | Train loss: 42.90 | Train acc: 0.845 | Test acc:0.949\n",
      "Epoch:4 | Train loss: 39.82 | Train acc: 0.844 | Test acc:0.952\n",
      "Epoch:5 | Train loss: 36.96 | Train acc: 0.850 | Test acc:0.952\n",
      "Epoch:6 | Train loss: 34.33 | Train acc: 0.847 | Test acc:0.956\n",
      "Epoch:7 | Train loss: 31.89 | Train acc: 0.846 | Test acc:0.957\n",
      "Epoch:8 | Train loss: 29.63 | Train acc: 0.847 | Test acc:0.958\n",
      "Epoch:9 | Train loss: 27.54 | Train acc: 0.847 | Test acc:0.955\n",
      "Epoch:10 | Train loss: 25.61 | Train acc: 0.851 | Test acc:0.956\n",
      "Epoch:11 | Train loss: 23.81 | Train acc: 0.852 | Test acc:0.956\n",
      "Epoch:12 | Train loss: 22.15 | Train acc: 0.849 | Test acc:0.959\n",
      "Epoch:13 | Train loss: 20.61 | Train acc: 0.848 | Test acc:0.958\n",
      "Without Dropout & Batch Normalization\n"
     ]
    },
    {
     "name": "stderr",
     "output_type": "stream",
     "text": [
      "/usr/local/lib/python3.5/dist-packages/tensorflow_core/python/client/session.py:1750: UserWarning: An interactive session is already active. This can cause out-of-memory errors in some cases. You must explicitly call `InteractiveSession.close()` to release resources held by the other session(s).\n",
      "  warnings.warn('An interactive session is already active. This can '\n"
     ]
    },
    {
     "name": "stdout",
     "output_type": "stream",
     "text": [
      "Epoch:0 | Train loss: 60.54 | Train acc: 0.918 | Test acc:0.906\n",
      "Epoch:1 | Train loss: 56.84 | Train acc: 0.960 | Test acc:0.934\n",
      "Epoch:2 | Train loss: 53.45 | Train acc: 0.978 | Test acc:0.938\n",
      "Epoch:3 | Train loss: 50.29 | Train acc: 0.985 | Test acc:0.946\n",
      "Epoch:4 | Train loss: 47.34 | Train acc: 0.989 | Test acc:0.948\n",
      "Epoch:5 | Train loss: 44.57 | Train acc: 0.992 | Test acc:0.952\n",
      "Epoch:6 | Train loss: 41.98 | Train acc: 0.995 | Test acc:0.952\n",
      "Epoch:7 | Train loss: 39.55 | Train acc: 0.995 | Test acc:0.953\n",
      "Epoch:8 | Train loss: 37.27 | Train acc: 0.996 | Test acc:0.951\n",
      "Epoch:9 | Train loss: 35.13 | Train acc: 0.997 | Test acc:0.953\n",
      "Epoch:10 | Train loss: 33.11 | Train acc: 0.996 | Test acc:0.951\n",
      "Epoch:11 | Train loss: 31.22 | Train acc: 0.996 | Test acc:0.949\n",
      "Epoch:12 | Train loss: 29.44 | Train acc: 0.996 | Test acc:0.951\n",
      "Epoch:13 | Train loss: 27.76 | Train acc: 0.997 | Test acc:0.950\n",
      "Without Dropout & Batch Normalization & Adversarial Training\n"
     ]
    },
    {
     "name": "stderr",
     "output_type": "stream",
     "text": [
      "/home/root/adversarial/Gal/models.py:415: FutureWarning: Using a non-tuple sequence for multidimensional indexing is deprecated; use `arr[tuple(seq)]` instead of `arr[seq]`. In the future this will be interpreted as an array index, `arr[np.array(seq)]`, which will result either in an error or a different result.\n",
      "  sample_X_train = X_train[[ind]] # X_train[[start_index,end_index]] ; this would let us take specific indices, so we can randomize the order, ensure each iteration is taking precisely unique samples\n",
      "/home/root/adversarial/Gal/models.py:416: FutureWarning: Using a non-tuple sequence for multidimensional indexing is deprecated; use `arr[tuple(seq)]` instead of `arr[seq]`. In the future this will be interpreted as an array index, `arr[np.array(seq)]`, which will result either in an error or a different result.\n",
      "  sample_Y_train = Y_train[[ind]]\n",
      "/usr/local/lib/python3.5/dist-packages/tensorflow_core/python/client/session.py:1750: UserWarning: An interactive session is already active. This can cause out-of-memory errors in some cases. You must explicitly call `InteractiveSession.close()` to release resources held by the other session(s).\n",
      "  warnings.warn('An interactive session is already active. This can '\n",
      "/home/root/adversarial/Gal/models.py:563: FutureWarning: Using a non-tuple sequence for multidimensional indexing is deprecated; use `arr[tuple(seq)]` instead of `arr[seq]`. In the future this will be interpreted as an array index, `arr[np.array(seq)]`, which will result either in an error or a different result.\n",
      "  sample_X_train = X_train[[ind]] # X_train[[start_index,end_index]] ; this would let us take specific indices, so we can randomize the order, ensure each iteration is taking precisely unique samples\n",
      "/home/root/adversarial/Gal/models.py:564: FutureWarning: Using a non-tuple sequence for multidimensional indexing is deprecated; use `arr[tuple(seq)]` instead of `arr[seq]`. In the future this will be interpreted as an array index, `arr[np.array(seq)]`, which will result either in an error or a different result.\n",
      "  sample_Y_train = Y_train[[ind]]\n"
     ]
    },
    {
     "name": "stdout",
     "output_type": "stream",
     "text": [
      "Epoch:0 | Train loss: 53.94 | Train acc: 0.782 | Test acc:0.905\n",
      "Epoch:1 | Train loss: 50.03 | Train acc: 0.829 | Test acc:0.938\n",
      "Epoch:2 | Train loss: 46.51 | Train acc: 0.839 | Test acc:0.948\n",
      "Epoch:3 | Train loss: 43.28 | Train acc: 0.844 | Test acc:0.954\n",
      "Epoch:4 | Train loss: 40.30 | Train acc: 0.843 | Test acc:0.955\n",
      "Epoch:5 | Train loss: 37.55 | Train acc: 0.844 | Test acc:0.955\n",
      "Epoch:6 | Train loss: 35.00 | Train acc: 0.848 | Test acc:0.956\n",
      "Epoch:7 | Train loss: 32.65 | Train acc: 0.848 | Test acc:0.958\n",
      "Epoch:8 | Train loss: 30.46 | Train acc: 0.849 | Test acc:0.959\n",
      "Epoch:9 | Train loss: 28.43 | Train acc: 0.849 | Test acc:0.958\n",
      "Epoch:10 | Train loss: 26.55 | Train acc: 0.850 | Test acc:0.958\n",
      "Epoch:11 | Train loss: 24.81 | Train acc: 0.848 | Test acc:0.960\n",
      "Epoch:12 | Train loss: 23.19 | Train acc: 0.848 | Test acc:0.958\n",
      "Epoch:13 | Train loss: 21.68 | Train acc: 0.849 | Test acc:0.958\n",
      "Without Dropout & Batch Normalization\n"
     ]
    },
    {
     "name": "stderr",
     "output_type": "stream",
     "text": [
      "/usr/local/lib/python3.5/dist-packages/tensorflow_core/python/client/session.py:1750: UserWarning: An interactive session is already active. This can cause out-of-memory errors in some cases. You must explicitly call `InteractiveSession.close()` to release resources held by the other session(s).\n",
      "  warnings.warn('An interactive session is already active. This can '\n"
     ]
    },
    {
     "name": "stdout",
     "output_type": "stream",
     "text": [
      "Epoch:0 | Train loss: 62.15 | Train acc: 0.926 | Test acc:0.909\n",
      "Epoch:1 | Train loss: 58.46 | Train acc: 0.962 | Test acc:0.935\n",
      "Epoch:2 | Train loss: 55.06 | Train acc: 0.980 | Test acc:0.941\n",
      "Epoch:3 | Train loss: 51.89 | Train acc: 0.989 | Test acc:0.946\n",
      "Epoch:4 | Train loss: 48.93 | Train acc: 0.994 | Test acc:0.948\n",
      "Epoch:5 | Train loss: 46.15 | Train acc: 0.992 | Test acc:0.948\n",
      "Epoch:6 | Train loss: 43.54 | Train acc: 0.995 | Test acc:0.951\n",
      "Epoch:7 | Train loss: 41.09 | Train acc: 0.997 | Test acc:0.952\n",
      "Epoch:8 | Train loss: 38.78 | Train acc: 0.997 | Test acc:0.951\n",
      "Epoch:9 | Train loss: 36.62 | Train acc: 0.998 | Test acc:0.952\n",
      "Epoch:10 | Train loss: 34.58 | Train acc: 0.998 | Test acc:0.952\n",
      "Epoch:11 | Train loss: 32.67 | Train acc: 0.998 | Test acc:0.953\n",
      "Epoch:12 | Train loss: 30.86 | Train acc: 0.999 | Test acc:0.953\n",
      "Epoch:13 | Train loss: 29.17 | Train acc: 0.998 | Test acc:0.948\n",
      "Without Dropout & Batch Normalization & Adversarial Training\n"
     ]
    },
    {
     "name": "stderr",
     "output_type": "stream",
     "text": [
      "/home/root/adversarial/Gal/models.py:415: FutureWarning: Using a non-tuple sequence for multidimensional indexing is deprecated; use `arr[tuple(seq)]` instead of `arr[seq]`. In the future this will be interpreted as an array index, `arr[np.array(seq)]`, which will result either in an error or a different result.\n",
      "  sample_X_train = X_train[[ind]] # X_train[[start_index,end_index]] ; this would let us take specific indices, so we can randomize the order, ensure each iteration is taking precisely unique samples\n",
      "/home/root/adversarial/Gal/models.py:416: FutureWarning: Using a non-tuple sequence for multidimensional indexing is deprecated; use `arr[tuple(seq)]` instead of `arr[seq]`. In the future this will be interpreted as an array index, `arr[np.array(seq)]`, which will result either in an error or a different result.\n",
      "  sample_Y_train = Y_train[[ind]]\n",
      "/usr/local/lib/python3.5/dist-packages/tensorflow_core/python/client/session.py:1750: UserWarning: An interactive session is already active. This can cause out-of-memory errors in some cases. You must explicitly call `InteractiveSession.close()` to release resources held by the other session(s).\n",
      "  warnings.warn('An interactive session is already active. This can '\n",
      "/home/root/adversarial/Gal/models.py:563: FutureWarning: Using a non-tuple sequence for multidimensional indexing is deprecated; use `arr[tuple(seq)]` instead of `arr[seq]`. In the future this will be interpreted as an array index, `arr[np.array(seq)]`, which will result either in an error or a different result.\n",
      "  sample_X_train = X_train[[ind]] # X_train[[start_index,end_index]] ; this would let us take specific indices, so we can randomize the order, ensure each iteration is taking precisely unique samples\n",
      "/home/root/adversarial/Gal/models.py:564: FutureWarning: Using a non-tuple sequence for multidimensional indexing is deprecated; use `arr[tuple(seq)]` instead of `arr[seq]`. In the future this will be interpreted as an array index, `arr[np.array(seq)]`, which will result either in an error or a different result.\n",
      "  sample_Y_train = Y_train[[ind]]\n"
     ]
    },
    {
     "name": "stdout",
     "output_type": "stream",
     "text": [
      "Epoch:0 | Train loss: 58.82 | Train acc: 0.798 | Test acc:0.915\n",
      "Epoch:1 | Train loss: 54.67 | Train acc: 0.831 | Test acc:0.937\n",
      "Epoch:2 | Train loss: 50.89 | Train acc: 0.839 | Test acc:0.945\n",
      "Epoch:3 | Train loss: 47.40 | Train acc: 0.845 | Test acc:0.946\n",
      "Epoch:4 | Train loss: 44.17 | Train acc: 0.846 | Test acc:0.947\n",
      "Epoch:5 | Train loss: 41.18 | Train acc: 0.849 | Test acc:0.951\n",
      "Epoch:6 | Train loss: 38.41 | Train acc: 0.851 | Test acc:0.952\n",
      "Epoch:7 | Train loss: 35.84 | Train acc: 0.848 | Test acc:0.954\n",
      "Epoch:8 | Train loss: 33.45 | Train acc: 0.851 | Test acc:0.956\n",
      "Epoch:9 | Train loss: 31.23 | Train acc: 0.847 | Test acc:0.956\n",
      "Epoch:10 | Train loss: 29.16 | Train acc: 0.850 | Test acc:0.957\n",
      "Epoch:11 | Train loss: 27.24 | Train acc: 0.848 | Test acc:0.956\n",
      "Epoch:12 | Train loss: 25.45 | Train acc: 0.849 | Test acc:0.955\n",
      "Epoch:13 | Train loss: 23.78 | Train acc: 0.850 | Test acc:0.956\n",
      "Without Dropout & Batch Normalization\n"
     ]
    },
    {
     "name": "stderr",
     "output_type": "stream",
     "text": [
      "/usr/local/lib/python3.5/dist-packages/tensorflow_core/python/client/session.py:1750: UserWarning: An interactive session is already active. This can cause out-of-memory errors in some cases. You must explicitly call `InteractiveSession.close()` to release resources held by the other session(s).\n",
      "  warnings.warn('An interactive session is already active. This can '\n"
     ]
    },
    {
     "name": "stdout",
     "output_type": "stream",
     "text": [
      "Epoch:0 | Train loss: 59.83 | Train acc: 0.919 | Test acc:0.906\n",
      "Epoch:1 | Train loss: 56.19 | Train acc: 0.962 | Test acc:0.930\n",
      "Epoch:2 | Train loss: 52.84 | Train acc: 0.980 | Test acc:0.937\n",
      "Epoch:3 | Train loss: 49.73 | Train acc: 0.989 | Test acc:0.944\n",
      "Epoch:4 | Train loss: 46.82 | Train acc: 0.993 | Test acc:0.947\n",
      "Epoch:5 | Train loss: 44.10 | Train acc: 0.996 | Test acc:0.948\n",
      "Epoch:6 | Train loss: 41.56 | Train acc: 0.997 | Test acc:0.949\n",
      "Epoch:7 | Train loss: 39.17 | Train acc: 0.997 | Test acc:0.949\n",
      "Epoch:8 | Train loss: 36.93 | Train acc: 0.998 | Test acc:0.949\n",
      "Epoch:9 | Train loss: 34.83 | Train acc: 0.997 | Test acc:0.951\n",
      "Epoch:10 | Train loss: 32.86 | Train acc: 0.998 | Test acc:0.948\n",
      "Epoch:11 | Train loss: 31.01 | Train acc: 0.998 | Test acc:0.947\n",
      "Epoch:12 | Train loss: 29.26 | Train acc: 0.998 | Test acc:0.951\n",
      "Epoch:13 | Train loss: 27.63 | Train acc: 0.998 | Test acc:0.946\n",
      "Without Dropout & Batch Normalization & Adversarial Training\n"
     ]
    },
    {
     "name": "stderr",
     "output_type": "stream",
     "text": [
      "/home/root/adversarial/Gal/models.py:415: FutureWarning: Using a non-tuple sequence for multidimensional indexing is deprecated; use `arr[tuple(seq)]` instead of `arr[seq]`. In the future this will be interpreted as an array index, `arr[np.array(seq)]`, which will result either in an error or a different result.\n",
      "  sample_X_train = X_train[[ind]] # X_train[[start_index,end_index]] ; this would let us take specific indices, so we can randomize the order, ensure each iteration is taking precisely unique samples\n",
      "/home/root/adversarial/Gal/models.py:416: FutureWarning: Using a non-tuple sequence for multidimensional indexing is deprecated; use `arr[tuple(seq)]` instead of `arr[seq]`. In the future this will be interpreted as an array index, `arr[np.array(seq)]`, which will result either in an error or a different result.\n",
      "  sample_Y_train = Y_train[[ind]]\n",
      "/usr/local/lib/python3.5/dist-packages/tensorflow_core/python/client/session.py:1750: UserWarning: An interactive session is already active. This can cause out-of-memory errors in some cases. You must explicitly call `InteractiveSession.close()` to release resources held by the other session(s).\n",
      "  warnings.warn('An interactive session is already active. This can '\n",
      "/home/root/adversarial/Gal/models.py:563: FutureWarning: Using a non-tuple sequence for multidimensional indexing is deprecated; use `arr[tuple(seq)]` instead of `arr[seq]`. In the future this will be interpreted as an array index, `arr[np.array(seq)]`, which will result either in an error or a different result.\n",
      "  sample_X_train = X_train[[ind]] # X_train[[start_index,end_index]] ; this would let us take specific indices, so we can randomize the order, ensure each iteration is taking precisely unique samples\n",
      "/home/root/adversarial/Gal/models.py:564: FutureWarning: Using a non-tuple sequence for multidimensional indexing is deprecated; use `arr[tuple(seq)]` instead of `arr[seq]`. In the future this will be interpreted as an array index, `arr[np.array(seq)]`, which will result either in an error or a different result.\n",
      "  sample_Y_train = Y_train[[ind]]\n"
     ]
    },
    {
     "name": "stdout",
     "output_type": "stream",
     "text": [
      "Epoch:0 | Train loss: 61.75 | Train acc: 0.786 | Test acc:0.900\n",
      "Epoch:1 | Train loss: 57.48 | Train acc: 0.824 | Test acc:0.932\n",
      "Epoch:2 | Train loss: 53.58 | Train acc: 0.839 | Test acc:0.941\n",
      "Epoch:3 | Train loss: 49.98 | Train acc: 0.844 | Test acc:0.944\n",
      "Epoch:4 | Train loss: 46.65 | Train acc: 0.846 | Test acc:0.948\n",
      "Epoch:5 | Train loss: 43.56 | Train acc: 0.848 | Test acc:0.948\n",
      "Epoch:6 | Train loss: 40.69 | Train acc: 0.849 | Test acc:0.950\n",
      "Epoch:7 | Train loss: 38.02 | Train acc: 0.847 | Test acc:0.951\n",
      "Epoch:8 | Train loss: 35.54 | Train acc: 0.849 | Test acc:0.953\n",
      "Epoch:9 | Train loss: 33.22 | Train acc: 0.850 | Test acc:0.951\n",
      "Epoch:10 | Train loss: 31.07 | Train acc: 0.851 | Test acc:0.952\n",
      "Epoch:11 | Train loss: 29.06 | Train acc: 0.850 | Test acc:0.955\n",
      "Epoch:12 | Train loss: 27.19 | Train acc: 0.849 | Test acc:0.953\n",
      "Epoch:13 | Train loss: 25.44 | Train acc: 0.850 | Test acc:0.953\n",
      "Without Dropout & Batch Normalization\n"
     ]
    },
    {
     "name": "stderr",
     "output_type": "stream",
     "text": [
      "/usr/local/lib/python3.5/dist-packages/tensorflow_core/python/client/session.py:1750: UserWarning: An interactive session is already active. This can cause out-of-memory errors in some cases. You must explicitly call `InteractiveSession.close()` to release resources held by the other session(s).\n",
      "  warnings.warn('An interactive session is already active. This can '\n"
     ]
    },
    {
     "name": "stdout",
     "output_type": "stream",
     "text": [
      "Epoch:0 | Train loss: 62.51 | Train acc: 0.914 | Test acc:0.902\n",
      "Epoch:1 | Train loss: 58.76 | Train acc: 0.956 | Test acc:0.934\n",
      "Epoch:2 | Train loss: 55.31 | Train acc: 0.976 | Test acc:0.943\n",
      "Epoch:3 | Train loss: 52.10 | Train acc: 0.985 | Test acc:0.943\n",
      "Epoch:4 | Train loss: 49.09 | Train acc: 0.991 | Test acc:0.948\n",
      "Epoch:5 | Train loss: 46.28 | Train acc: 0.994 | Test acc:0.948\n",
      "Epoch:6 | Train loss: 43.64 | Train acc: 0.995 | Test acc:0.950\n",
      "Epoch:7 | Train loss: 41.17 | Train acc: 0.996 | Test acc:0.948\n",
      "Epoch:8 | Train loss: 38.84 | Train acc: 0.995 | Test acc:0.949\n",
      "Epoch:9 | Train loss: 36.66 | Train acc: 0.995 | Test acc:0.949\n",
      "Epoch:10 | Train loss: 34.60 | Train acc: 0.997 | Test acc:0.949\n",
      "Epoch:11 | Train loss: 32.68 | Train acc: 0.996 | Test acc:0.950\n",
      "Epoch:12 | Train loss: 30.86 | Train acc: 0.997 | Test acc:0.948\n",
      "Epoch:13 | Train loss: 29.15 | Train acc: 0.995 | Test acc:0.948\n",
      "Without Dropout & Batch Normalization & Adversarial Training\n"
     ]
    },
    {
     "name": "stderr",
     "output_type": "stream",
     "text": [
      "/home/root/adversarial/Gal/models.py:415: FutureWarning: Using a non-tuple sequence for multidimensional indexing is deprecated; use `arr[tuple(seq)]` instead of `arr[seq]`. In the future this will be interpreted as an array index, `arr[np.array(seq)]`, which will result either in an error or a different result.\n",
      "  sample_X_train = X_train[[ind]] # X_train[[start_index,end_index]] ; this would let us take specific indices, so we can randomize the order, ensure each iteration is taking precisely unique samples\n",
      "/home/root/adversarial/Gal/models.py:416: FutureWarning: Using a non-tuple sequence for multidimensional indexing is deprecated; use `arr[tuple(seq)]` instead of `arr[seq]`. In the future this will be interpreted as an array index, `arr[np.array(seq)]`, which will result either in an error or a different result.\n",
      "  sample_Y_train = Y_train[[ind]]\n",
      "/usr/local/lib/python3.5/dist-packages/tensorflow_core/python/client/session.py:1750: UserWarning: An interactive session is already active. This can cause out-of-memory errors in some cases. You must explicitly call `InteractiveSession.close()` to release resources held by the other session(s).\n",
      "  warnings.warn('An interactive session is already active. This can '\n",
      "/home/root/adversarial/Gal/models.py:563: FutureWarning: Using a non-tuple sequence for multidimensional indexing is deprecated; use `arr[tuple(seq)]` instead of `arr[seq]`. In the future this will be interpreted as an array index, `arr[np.array(seq)]`, which will result either in an error or a different result.\n",
      "  sample_X_train = X_train[[ind]] # X_train[[start_index,end_index]] ; this would let us take specific indices, so we can randomize the order, ensure each iteration is taking precisely unique samples\n",
      "/home/root/adversarial/Gal/models.py:564: FutureWarning: Using a non-tuple sequence for multidimensional indexing is deprecated; use `arr[tuple(seq)]` instead of `arr[seq]`. In the future this will be interpreted as an array index, `arr[np.array(seq)]`, which will result either in an error or a different result.\n",
      "  sample_Y_train = Y_train[[ind]]\n"
     ]
    },
    {
     "name": "stdout",
     "output_type": "stream",
     "text": [
      "Epoch:0 | Train loss: 56.81 | Train acc: 0.788 | Test acc:0.918\n",
      "Epoch:1 | Train loss: 52.74 | Train acc: 0.822 | Test acc:0.937\n",
      "Epoch:2 | Train loss: 49.03 | Train acc: 0.835 | Test acc:0.945\n",
      "Epoch:3 | Train loss: 45.61 | Train acc: 0.843 | Test acc:0.948\n",
      "Epoch:4 | Train loss: 42.44 | Train acc: 0.848 | Test acc:0.952\n",
      "Epoch:5 | Train loss: 39.51 | Train acc: 0.849 | Test acc:0.951\n",
      "Epoch:6 | Train loss: 36.79 | Train acc: 0.852 | Test acc:0.955\n",
      "Epoch:7 | Train loss: 34.27 | Train acc: 0.850 | Test acc:0.957\n",
      "Epoch:8 | Train loss: 31.92 | Train acc: 0.849 | Test acc:0.957\n",
      "Epoch:9 | Train loss: 29.75 | Train acc: 0.850 | Test acc:0.957\n",
      "Epoch:10 | Train loss: 27.72 | Train acc: 0.849 | Test acc:0.957\n",
      "Epoch:11 | Train loss: 25.84 | Train acc: 0.850 | Test acc:0.957\n",
      "Epoch:12 | Train loss: 24.08 | Train acc: 0.849 | Test acc:0.955\n",
      "Epoch:13 | Train loss: 22.45 | Train acc: 0.850 | Test acc:0.957\n",
      "Without Dropout & Batch Normalization\n"
     ]
    },
    {
     "name": "stderr",
     "output_type": "stream",
     "text": [
      "/usr/local/lib/python3.5/dist-packages/tensorflow_core/python/client/session.py:1750: UserWarning: An interactive session is already active. This can cause out-of-memory errors in some cases. You must explicitly call `InteractiveSession.close()` to release resources held by the other session(s).\n",
      "  warnings.warn('An interactive session is already active. This can '\n"
     ]
    },
    {
     "name": "stdout",
     "output_type": "stream",
     "text": [
      "Epoch:0 | Train loss: 63.86 | Train acc: 0.925 | Test acc:0.912\n",
      "Epoch:1 | Train loss: 60.04 | Train acc: 0.960 | Test acc:0.932\n",
      "Epoch:2 | Train loss: 56.50 | Train acc: 0.977 | Test acc:0.940\n",
      "Epoch:3 | Train loss: 53.20 | Train acc: 0.984 | Test acc:0.943\n",
      "Epoch:4 | Train loss: 50.10 | Train acc: 0.991 | Test acc:0.948\n",
      "Epoch:5 | Train loss: 47.20 | Train acc: 0.993 | Test acc:0.950\n",
      "Epoch:6 | Train loss: 44.47 | Train acc: 0.994 | Test acc:0.953\n",
      "Epoch:7 | Train loss: 41.91 | Train acc: 0.995 | Test acc:0.947\n",
      "Epoch:8 | Train loss: 39.49 | Train acc: 0.996 | Test acc:0.948\n",
      "Epoch:9 | Train loss: 37.22 | Train acc: 0.998 | Test acc:0.951\n",
      "Epoch:10 | Train loss: 35.08 | Train acc: 0.997 | Test acc:0.947\n",
      "Epoch:11 | Train loss: 33.07 | Train acc: 0.997 | Test acc:0.945\n",
      "Epoch:12 | Train loss: 31.17 | Train acc: 0.998 | Test acc:0.949\n",
      "Epoch:13 | Train loss: 29.38 | Train acc: 0.998 | Test acc:0.950\n",
      "Without Dropout & Batch Normalization & Adversarial Training\n"
     ]
    },
    {
     "name": "stderr",
     "output_type": "stream",
     "text": [
      "/home/root/adversarial/Gal/models.py:415: FutureWarning: Using a non-tuple sequence for multidimensional indexing is deprecated; use `arr[tuple(seq)]` instead of `arr[seq]`. In the future this will be interpreted as an array index, `arr[np.array(seq)]`, which will result either in an error or a different result.\n",
      "  sample_X_train = X_train[[ind]] # X_train[[start_index,end_index]] ; this would let us take specific indices, so we can randomize the order, ensure each iteration is taking precisely unique samples\n",
      "/home/root/adversarial/Gal/models.py:416: FutureWarning: Using a non-tuple sequence for multidimensional indexing is deprecated; use `arr[tuple(seq)]` instead of `arr[seq]`. In the future this will be interpreted as an array index, `arr[np.array(seq)]`, which will result either in an error or a different result.\n",
      "  sample_Y_train = Y_train[[ind]]\n",
      "/usr/local/lib/python3.5/dist-packages/tensorflow_core/python/client/session.py:1750: UserWarning: An interactive session is already active. This can cause out-of-memory errors in some cases. You must explicitly call `InteractiveSession.close()` to release resources held by the other session(s).\n",
      "  warnings.warn('An interactive session is already active. This can '\n",
      "/home/root/adversarial/Gal/models.py:563: FutureWarning: Using a non-tuple sequence for multidimensional indexing is deprecated; use `arr[tuple(seq)]` instead of `arr[seq]`. In the future this will be interpreted as an array index, `arr[np.array(seq)]`, which will result either in an error or a different result.\n",
      "  sample_X_train = X_train[[ind]] # X_train[[start_index,end_index]] ; this would let us take specific indices, so we can randomize the order, ensure each iteration is taking precisely unique samples\n",
      "/home/root/adversarial/Gal/models.py:564: FutureWarning: Using a non-tuple sequence for multidimensional indexing is deprecated; use `arr[tuple(seq)]` instead of `arr[seq]`. In the future this will be interpreted as an array index, `arr[np.array(seq)]`, which will result either in an error or a different result.\n",
      "  sample_Y_train = Y_train[[ind]]\n"
     ]
    },
    {
     "name": "stdout",
     "output_type": "stream",
     "text": [
      "Epoch:0 | Train loss: 57.34 | Train acc: 0.786 | Test acc:0.911\n",
      "Epoch:1 | Train loss: 53.32 | Train acc: 0.826 | Test acc:0.936\n",
      "Epoch:2 | Train loss: 49.66 | Train acc: 0.837 | Test acc:0.945\n",
      "Epoch:3 | Train loss: 46.30 | Train acc: 0.842 | Test acc:0.952\n",
      "Epoch:4 | Train loss: 43.19 | Train acc: 0.848 | Test acc:0.952\n",
      "Epoch:5 | Train loss: 40.31 | Train acc: 0.847 | Test acc:0.953\n",
      "Epoch:6 | Train loss: 37.65 | Train acc: 0.848 | Test acc:0.956\n",
      "Epoch:7 | Train loss: 35.18 | Train acc: 0.851 | Test acc:0.953\n",
      "Epoch:8 | Train loss: 32.88 | Train acc: 0.849 | Test acc:0.955\n",
      "Epoch:9 | Train loss: 30.75 | Train acc: 0.848 | Test acc:0.957\n",
      "Epoch:10 | Train loss: 28.76 | Train acc: 0.847 | Test acc:0.955\n",
      "Epoch:11 | Train loss: 26.91 | Train acc: 0.846 | Test acc:0.957\n",
      "Epoch:12 | Train loss: 25.19 | Train acc: 0.850 | Test acc:0.959\n",
      "Epoch:13 | Train loss: 23.58 | Train acc: 0.850 | Test acc:0.956\n",
      "Without Dropout & Batch Normalization\n"
     ]
    },
    {
     "name": "stderr",
     "output_type": "stream",
     "text": [
      "/usr/local/lib/python3.5/dist-packages/tensorflow_core/python/client/session.py:1750: UserWarning: An interactive session is already active. This can cause out-of-memory errors in some cases. You must explicitly call `InteractiveSession.close()` to release resources held by the other session(s).\n",
      "  warnings.warn('An interactive session is already active. This can '\n"
     ]
    },
    {
     "name": "stdout",
     "output_type": "stream",
     "text": [
      "Epoch:0 | Train loss: 59.35 | Train acc: 0.929 | Test acc:0.905\n",
      "Epoch:1 | Train loss: 55.81 | Train acc: 0.962 | Test acc:0.928\n",
      "Epoch:2 | Train loss: 52.55 | Train acc: 0.976 | Test acc:0.938\n",
      "Epoch:3 | Train loss: 49.53 | Train acc: 0.987 | Test acc:0.942\n",
      "Epoch:4 | Train loss: 46.70 | Train acc: 0.990 | Test acc:0.944\n",
      "Epoch:5 | Train loss: 44.05 | Train acc: 0.992 | Test acc:0.944\n",
      "Epoch:6 | Train loss: 41.57 | Train acc: 0.995 | Test acc:0.945\n",
      "Epoch:7 | Train loss: 39.24 | Train acc: 0.996 | Test acc:0.947\n",
      "Epoch:8 | Train loss: 37.04 | Train acc: 0.997 | Test acc:0.949\n",
      "Epoch:9 | Train loss: 34.98 | Train acc: 0.996 | Test acc:0.945\n",
      "Epoch:10 | Train loss: 33.05 | Train acc: 0.996 | Test acc:0.947\n",
      "Epoch:11 | Train loss: 31.22 | Train acc: 0.996 | Test acc:0.947\n",
      "Epoch:12 | Train loss: 29.50 | Train acc: 0.997 | Test acc:0.948\n",
      "Epoch:13 | Train loss: 27.88 | Train acc: 0.997 | Test acc:0.948\n",
      "Without Dropout & Batch Normalization & Adversarial Training\n"
     ]
    },
    {
     "name": "stderr",
     "output_type": "stream",
     "text": [
      "/home/root/adversarial/Gal/models.py:415: FutureWarning: Using a non-tuple sequence for multidimensional indexing is deprecated; use `arr[tuple(seq)]` instead of `arr[seq]`. In the future this will be interpreted as an array index, `arr[np.array(seq)]`, which will result either in an error or a different result.\n",
      "  sample_X_train = X_train[[ind]] # X_train[[start_index,end_index]] ; this would let us take specific indices, so we can randomize the order, ensure each iteration is taking precisely unique samples\n",
      "/home/root/adversarial/Gal/models.py:416: FutureWarning: Using a non-tuple sequence for multidimensional indexing is deprecated; use `arr[tuple(seq)]` instead of `arr[seq]`. In the future this will be interpreted as an array index, `arr[np.array(seq)]`, which will result either in an error or a different result.\n",
      "  sample_Y_train = Y_train[[ind]]\n",
      "/usr/local/lib/python3.5/dist-packages/tensorflow_core/python/client/session.py:1750: UserWarning: An interactive session is already active. This can cause out-of-memory errors in some cases. You must explicitly call `InteractiveSession.close()` to release resources held by the other session(s).\n",
      "  warnings.warn('An interactive session is already active. This can '\n",
      "/home/root/adversarial/Gal/models.py:563: FutureWarning: Using a non-tuple sequence for multidimensional indexing is deprecated; use `arr[tuple(seq)]` instead of `arr[seq]`. In the future this will be interpreted as an array index, `arr[np.array(seq)]`, which will result either in an error or a different result.\n",
      "  sample_X_train = X_train[[ind]] # X_train[[start_index,end_index]] ; this would let us take specific indices, so we can randomize the order, ensure each iteration is taking precisely unique samples\n",
      "/home/root/adversarial/Gal/models.py:564: FutureWarning: Using a non-tuple sequence for multidimensional indexing is deprecated; use `arr[tuple(seq)]` instead of `arr[seq]`. In the future this will be interpreted as an array index, `arr[np.array(seq)]`, which will result either in an error or a different result.\n",
      "  sample_Y_train = Y_train[[ind]]\n"
     ]
    },
    {
     "name": "stdout",
     "output_type": "stream",
     "text": [
      "Epoch:0 | Train loss: 56.47 | Train acc: 0.801 | Test acc:0.915\n",
      "Epoch:1 | Train loss: 52.35 | Train acc: 0.831 | Test acc:0.935\n",
      "Epoch:2 | Train loss: 48.60 | Train acc: 0.839 | Test acc:0.941\n",
      "Epoch:3 | Train loss: 45.16 | Train acc: 0.848 | Test acc:0.948\n",
      "Epoch:4 | Train loss: 41.98 | Train acc: 0.848 | Test acc:0.949\n",
      "Epoch:5 | Train loss: 39.04 | Train acc: 0.845 | Test acc:0.950\n",
      "Epoch:6 | Train loss: 36.32 | Train acc: 0.850 | Test acc:0.951\n",
      "Epoch:7 | Train loss: 33.81 | Train acc: 0.847 | Test acc:0.952\n",
      "Epoch:8 | Train loss: 31.49 | Train acc: 0.848 | Test acc:0.951\n",
      "Epoch:9 | Train loss: 29.33 | Train acc: 0.848 | Test acc:0.950\n",
      "Epoch:10 | Train loss: 27.33 | Train acc: 0.853 | Test acc:0.954\n",
      "Epoch:11 | Train loss: 25.48 | Train acc: 0.848 | Test acc:0.953\n",
      "Epoch:12 | Train loss: 23.76 | Train acc: 0.850 | Test acc:0.955\n",
      "Epoch:13 | Train loss: 22.17 | Train acc: 0.850 | Test acc:0.954\n",
      "Without Dropout & Batch Normalization\n"
     ]
    },
    {
     "name": "stderr",
     "output_type": "stream",
     "text": [
      "/usr/local/lib/python3.5/dist-packages/tensorflow_core/python/client/session.py:1750: UserWarning: An interactive session is already active. This can cause out-of-memory errors in some cases. You must explicitly call `InteractiveSession.close()` to release resources held by the other session(s).\n",
      "  warnings.warn('An interactive session is already active. This can '\n"
     ]
    },
    {
     "name": "stdout",
     "output_type": "stream",
     "text": [
      "Epoch:0 | Train loss: 58.53 | Train acc: 0.924 | Test acc:0.906\n",
      "Epoch:1 | Train loss: 55.07 | Train acc: 0.959 | Test acc:0.934\n",
      "Epoch:2 | Train loss: 51.90 | Train acc: 0.975 | Test acc:0.940\n",
      "Epoch:3 | Train loss: 48.94 | Train acc: 0.985 | Test acc:0.944\n",
      "Epoch:4 | Train loss: 46.20 | Train acc: 0.989 | Test acc:0.946\n",
      "Epoch:5 | Train loss: 43.62 | Train acc: 0.991 | Test acc:0.947\n",
      "Epoch:6 | Train loss: 41.22 | Train acc: 0.992 | Test acc:0.948\n",
      "Epoch:7 | Train loss: 38.95 | Train acc: 0.995 | Test acc:0.952\n",
      "Epoch:8 | Train loss: 36.83 | Train acc: 0.996 | Test acc:0.953\n",
      "Epoch:9 | Train loss: 34.84 | Train acc: 0.997 | Test acc:0.954\n",
      "Epoch:10 | Train loss: 32.98 | Train acc: 0.997 | Test acc:0.950\n",
      "Epoch:11 | Train loss: 31.22 | Train acc: 0.997 | Test acc:0.953\n",
      "Epoch:12 | Train loss: 29.56 | Train acc: 0.997 | Test acc:0.952\n",
      "Epoch:13 | Train loss: 28.00 | Train acc: 0.998 | Test acc:0.954\n",
      "Without Dropout & Batch Normalization & Adversarial Training\n"
     ]
    },
    {
     "name": "stderr",
     "output_type": "stream",
     "text": [
      "/home/root/adversarial/Gal/models.py:415: FutureWarning: Using a non-tuple sequence for multidimensional indexing is deprecated; use `arr[tuple(seq)]` instead of `arr[seq]`. In the future this will be interpreted as an array index, `arr[np.array(seq)]`, which will result either in an error or a different result.\n",
      "  sample_X_train = X_train[[ind]] # X_train[[start_index,end_index]] ; this would let us take specific indices, so we can randomize the order, ensure each iteration is taking precisely unique samples\n",
      "/home/root/adversarial/Gal/models.py:416: FutureWarning: Using a non-tuple sequence for multidimensional indexing is deprecated; use `arr[tuple(seq)]` instead of `arr[seq]`. In the future this will be interpreted as an array index, `arr[np.array(seq)]`, which will result either in an error or a different result.\n",
      "  sample_Y_train = Y_train[[ind]]\n",
      "/usr/local/lib/python3.5/dist-packages/tensorflow_core/python/client/session.py:1750: UserWarning: An interactive session is already active. This can cause out-of-memory errors in some cases. You must explicitly call `InteractiveSession.close()` to release resources held by the other session(s).\n",
      "  warnings.warn('An interactive session is already active. This can '\n",
      "/home/root/adversarial/Gal/models.py:563: FutureWarning: Using a non-tuple sequence for multidimensional indexing is deprecated; use `arr[tuple(seq)]` instead of `arr[seq]`. In the future this will be interpreted as an array index, `arr[np.array(seq)]`, which will result either in an error or a different result.\n",
      "  sample_X_train = X_train[[ind]] # X_train[[start_index,end_index]] ; this would let us take specific indices, so we can randomize the order, ensure each iteration is taking precisely unique samples\n",
      "/home/root/adversarial/Gal/models.py:564: FutureWarning: Using a non-tuple sequence for multidimensional indexing is deprecated; use `arr[tuple(seq)]` instead of `arr[seq]`. In the future this will be interpreted as an array index, `arr[np.array(seq)]`, which will result either in an error or a different result.\n",
      "  sample_Y_train = Y_train[[ind]]\n"
     ]
    },
    {
     "name": "stdout",
     "output_type": "stream",
     "text": [
      "Epoch:0 | Train loss: 50.57 | Train acc: 0.777 | Test acc:0.908\n",
      "Epoch:1 | Train loss: 46.78 | Train acc: 0.820 | Test acc:0.934\n",
      "Epoch:2 | Train loss: 43.35 | Train acc: 0.834 | Test acc:0.944\n",
      "Epoch:3 | Train loss: 40.22 | Train acc: 0.840 | Test acc:0.948\n",
      "Epoch:4 | Train loss: 37.34 | Train acc: 0.845 | Test acc:0.949\n",
      "Epoch:5 | Train loss: 34.69 | Train acc: 0.844 | Test acc:0.953\n",
      "Epoch:6 | Train loss: 32.24 | Train acc: 0.846 | Test acc:0.953\n",
      "Epoch:7 | Train loss: 29.98 | Train acc: 0.845 | Test acc:0.954\n",
      "Epoch:8 | Train loss: 27.90 | Train acc: 0.846 | Test acc:0.954\n",
      "Epoch:9 | Train loss: 25.96 | Train acc: 0.848 | Test acc:0.956\n",
      "Epoch:10 | Train loss: 24.18 | Train acc: 0.846 | Test acc:0.956\n",
      "Epoch:11 | Train loss: 22.52 | Train acc: 0.845 | Test acc:0.957\n",
      "Epoch:12 | Train loss: 20.99 | Train acc: 0.847 | Test acc:0.957\n",
      "Epoch:13 | Train loss: 19.57 | Train acc: 0.846 | Test acc:0.957\n"
     ]
    }
   ],
   "source": [
    "entropy_val_MLPat_1 = ensembling_expt(1, MNIST_X_train, MNIST_Y_train, MNIST_X_val, MNIST_Y_val, MNIST_X_test, MNIST_Y_test, models.MLP_adversarialtraining)\n",
    "entropy_val_MLPat_5 = ensembling_expt(5, MNIST_X_train, MNIST_Y_train, MNIST_X_val, MNIST_Y_val, MNIST_X_test, MNIST_Y_test, models.MLP_adversarialtraining)\n",
    "entropy_val_MLPat_10 = ensembling_expt(10, MNIST_X_train, MNIST_Y_train, MNIST_X_val, MNIST_Y_val, MNIST_X_test, MNIST_Y_test, models.MLP_adversarialtraining)\n"
   ]
  },
  {
   "cell_type": "code",
   "execution_count": 6,
   "metadata": {},
   "outputs": [
    {
     "name": "stderr",
     "output_type": "stream",
     "text": [
      "/usr/local/lib/python3.5/dist-packages/matplotlib/axes/_axes.py:6521: MatplotlibDeprecationWarning: \n",
      "The 'normed' kwarg was deprecated in Matplotlib 2.1 and will be removed in 3.1. Use 'density' instead.\n",
      "  alternative=\"'density'\", removal=\"3.1\")\n"
     ]
    },
    {
     "data": {
      "image/png": "[encoded data removed]",
      "text/plain": [
       "<Figure size 432x288 with 1 Axes>"
      ]
     },
     "metadata": {
      "needs_background": "light"
     },
     "output_type": "display_data"
    }
   ],
   "source": [
    "import matplotlib.pyplot as plt\n",
    "%matplotlib inline\n",
    "plt.hist(entropy_val_MLPat_1, normed=True, bins=300, label = '1')\n",
    "plt.hist(entropy_val_MLPat_5, normed=True, bins=300, label = '5')\n",
    "plt.hist(entropy_val_MLPat_10, normed=True, bins=300, label = '10')\n",
    "plt.xlabel('Entropy values')\n",
    "plt.title(\"Ensemble+AT - MNIST\")\n",
    "plt.legend()\n",
    "plt.show()"
   ]
  },
  {
   "cell_type": "code",
   "execution_count": 9,
   "metadata": {
    "scrolled": true
   },
   "outputs": [
    {
     "name": "stderr",
     "output_type": "stream",
     "text": [
      "/usr/local/lib/python3.5/dist-packages/ipykernel_launcher.py:13: FutureWarning: Using a non-tuple sequence for multidimensional indexing is deprecated; use `arr[tuple(seq)]` instead of `arr[seq]`. In the future this will be interpreted as an array index, `arr[np.array(seq)]`, which will result either in an error or a different result.\n",
      "  del sys.path[0]\n",
      "/usr/local/lib/python3.5/dist-packages/ipykernel_launcher.py:14: FutureWarning: Using a non-tuple sequence for multidimensional indexing is deprecated; use `arr[tuple(seq)]` instead of `arr[seq]`. In the future this will be interpreted as an array index, `arr[np.array(seq)]`, which will result either in an error or a different result.\n",
      "  \n"
     ]
    },
    {
     "name": "stdout",
     "output_type": "stream",
     "text": [
      "With Dropout & Batch Normalization\n"
     ]
    },
    {
     "name": "stderr",
     "output_type": "stream",
     "text": [
      "WARNING: Logging before flag parsing goes to stderr.\n",
      "W0211 23:46:50.459547 140327648077568 module_wrapper.py:139] From /home/root/adversarial/Gal/models.py:157: The name tf.InteractiveSession is deprecated. Please use tf.compat.v1.InteractiveSession instead.\n",
      "\n",
      "W0211 23:46:53.183253 140327648077568 module_wrapper.py:139] From /home/root/adversarial/Gal/models.py:170: The name tf.placeholder is deprecated. Please use tf.compat.v1.placeholder instead.\n",
      "\n",
      "W0211 23:46:53.189158 140327648077568 module_wrapper.py:139] From /home/root/adversarial/Gal/models.py:176: The name tf.random_normal is deprecated. Please use tf.random.normal instead.\n",
      "\n",
      "W0211 23:46:53.283526 140327648077568 deprecation.py:506] From /home/root/adversarial/Gal/models.py:191: calling dropout (from tensorflow.python.ops.nn_ops) with keep_prob is deprecated and will be removed in a future version.\n",
      "Instructions for updating:\n",
      "Please use `rate` instead of `keep_prob`. Rate should be set to `rate = 1 - keep_prob`.\n",
      "W0211 23:46:53.396448 140327648077568 module_wrapper.py:139] From /home/root/adversarial/Gal/models.py:215: The name tf.train.exponential_decay is deprecated. Please use tf.compat.v1.train.exponential_decay instead.\n",
      "\n",
      "W0211 23:46:53.404711 140327648077568 module_wrapper.py:139] From /home/root/adversarial/Gal/models.py:217: The name tf.train.AdamOptimizer is deprecated. Please use tf.compat.v1.train.AdamOptimizer instead.\n",
      "\n",
      "W0211 23:46:53.871423 140327648077568 module_wrapper.py:139] From /home/root/adversarial/Gal/models.py:231: The name tf.global_variables_initializer is deprecated. Please use tf.compat.v1.global_variables_initializer instead.\n",
      "\n"
     ]
    },
    {
     "name": "stdout",
     "output_type": "stream",
     "text": [
      "Epoch:0 | Train loss: 30.45 | Train acc: 0.948 | Test acc:0.945\n",
      "Epoch:1 | Train loss: 16.91 | Train acc: 0.967 | Test acc:0.963\n",
      "Epoch:2 | Train loss: 9.58 | Train acc: 0.973 | Test acc:0.966\n",
      "Epoch:3 | Train loss: 5.62 | Train acc: 0.980 | Test acc:0.973\n",
      "Epoch:4 | Train loss: 3.53 | Train acc: 0.982 | Test acc:0.973\n",
      "Epoch:5 | Train loss: 2.45 | Train acc: 0.984 | Test acc:0.976\n",
      "Epoch:6 | Train loss: 1.91 | Train acc: 0.987 | Test acc:0.979\n",
      "Epoch:7 | Train loss: 1.66 | Train acc: 0.987 | Test acc:0.978\n",
      "Epoch:8 | Train loss: 1.55 | Train acc: 0.987 | Test acc:0.976\n",
      "Epoch:9 | Train loss: 1.50 | Train acc: 0.990 | Test acc:0.980\n",
      "Epoch:10 | Train loss: 1.48 | Train acc: 0.990 | Test acc:0.977\n",
      "Epoch:11 | Train loss: 1.47 | Train acc: 0.991 | Test acc:0.978\n",
      "Epoch:12 | Train loss: 1.47 | Train acc: 0.991 | Test acc:0.977\n",
      "Epoch:13 | Train loss: 1.47 | Train acc: 0.991 | Test acc:0.978\n"
     ]
    },
    {
     "ename": "InvalidArgumentError",
     "evalue": "2 root error(s) found.\n  (0) Invalid argument: You must feed a value for placeholder tensor 'Placeholder' with dtype float\n\t [[node Placeholder (defined at /usr/local/lib/python3.5/dist-packages/tensorflow_core/python/framework/ops.py:1748) ]]\n\t [[Sigmoid/_145]]\n  (1) Invalid argument: You must feed a value for placeholder tensor 'Placeholder' with dtype float\n\t [[node Placeholder (defined at /usr/local/lib/python3.5/dist-packages/tensorflow_core/python/framework/ops.py:1748) ]]\n0 successful operations.\n0 derived errors ignored.\n\nOriginal stack trace for 'Placeholder':\n  File \"/usr/lib/python3.5/runpy.py\", line 184, in _run_module_as_main\n    \"__main__\", mod_spec)\n  File \"/usr/lib/python3.5/runpy.py\", line 85, in _run_code\n    exec(code, run_globals)\n  File \"/usr/local/lib/python3.5/dist-packages/ipykernel_launcher.py\", line 16, in <module>\n    app.launch_new_instance()\n  File \"/usr/local/lib/python3.5/dist-packages/traitlets/config/application.py\", line 658, in launch_instance\n    app.start()\n  File \"/usr/local/lib/python3.5/dist-packages/ipykernel/kernelapp.py\", line 505, in start\n    self.io_loop.start()\n  File \"/usr/local/lib/python3.5/dist-packages/tornado/platform/asyncio.py\", line 148, in start\n    self.asyncio_loop.run_forever()\n  File \"/usr/lib/python3.5/asyncio/base_events.py\", line 345, in run_forever\n    self._run_once()\n  File \"/usr/lib/python3.5/asyncio/base_events.py\", line 1312, in _run_once\n    handle._run()\n  File \"/usr/lib/python3.5/asyncio/events.py\", line 125, in _run\n    self._callback(*self._args)\n  File \"/usr/local/lib/python3.5/dist-packages/tornado/ioloop.py\", line 690, in <lambda>\n    lambda f: self._run_callback(functools.partial(callback, future))\n  File \"/usr/local/lib/python3.5/dist-packages/tornado/ioloop.py\", line 743, in _run_callback\n    ret = callback()\n  File \"/usr/local/lib/python3.5/dist-packages/tornado/gen.py\", line 781, in inner\n    self.run()\n  File \"/usr/local/lib/python3.5/dist-packages/tornado/gen.py\", line 742, in run\n    yielded = self.gen.send(value)\n  File \"/usr/local/lib/python3.5/dist-packages/ipykernel/kernelbase.py\", line 357, in process_one\n    yield gen.maybe_future(dispatch(*args))\n  File \"/usr/local/lib/python3.5/dist-packages/tornado/gen.py\", line 209, in wrapper\n    yielded = next(result)\n  File \"/usr/local/lib/python3.5/dist-packages/ipykernel/kernelbase.py\", line 267, in dispatch_shell\n    yield gen.maybe_future(handler(stream, idents, msg))\n  File \"/usr/local/lib/python3.5/dist-packages/tornado/gen.py\", line 209, in wrapper\n    yielded = next(result)\n  File \"/usr/local/lib/python3.5/dist-packages/ipykernel/kernelbase.py\", line 534, in execute_request\n    user_expressions, allow_stdin,\n  File \"/usr/local/lib/python3.5/dist-packages/tornado/gen.py\", line 209, in wrapper\n    yielded = next(result)\n  File \"/usr/local/lib/python3.5/dist-packages/ipykernel/ipkernel.py\", line 294, in do_execute\n    res = shell.run_cell(code, store_history=store_history, silent=silent)\n  File \"/usr/local/lib/python3.5/dist-packages/ipykernel/zmqshell.py\", line 536, in run_cell\n    return super(ZMQInteractiveShell, self).run_cell(*args, **kwargs)\n  File \"/usr/local/lib/python3.5/dist-packages/IPython/core/interactiveshell.py\", line 2843, in run_cell\n    raw_cell, store_history, silent, shell_futures)\n  File \"/usr/local/lib/python3.5/dist-packages/IPython/core/interactiveshell.py\", line 2869, in _run_cell\n    return runner(coro)\n  File \"/usr/local/lib/python3.5/dist-packages/IPython/core/async_helpers.py\", line 67, in _pseudo_sync_runner\n    coro.send(None)\n  File \"/usr/local/lib/python3.5/dist-packages/IPython/core/interactiveshell.py\", line 3044, in run_cell_async\n    interactivity=interactivity, compiler=compiler, result=result)\n  File \"/usr/local/lib/python3.5/dist-packages/IPython/core/interactiveshell.py\", line 3209, in run_ast_nodes\n    if (yield from self.run_code(code, result)):\n  File \"/usr/local/lib/python3.5/dist-packages/IPython/core/interactiveshell.py\", line 3291, in run_code\n    exec(code_obj, self.user_global_ns, self.user_ns)\n  File \"<ipython-input-9-a40c7eb2c95d>\", line 3, in <module>\n    entropy_val_MLPmc_1 = ensembling_expt(1, MNIST_X_train, MNIST_Y_train, MNIST_X_val, MNIST_Y_val, MNIST_X_test, MNIST_Y_test, models.MCDropout)\n  File \"<ipython-input-8-cea88605c474>\", line 11, in ensembling_expt\n    pred = model_function(X_train, Y_train, MNIST_X_val, MNIST_Y_val, MNIST_X_test, MNIST_Y_test)\n  File \"/home/root/adversarial/Gal/models.py\", line 186, in MCDropout\n    keep_prob = tf.placeholder(tf.float32)\n  File \"/usr/local/lib/python3.5/dist-packages/tensorflow_core/python/ops/array_ops.py\", line 2619, in placeholder\n    return gen_array_ops.placeholder(dtype=dtype, shape=shape, name=name)\n  File \"/usr/local/lib/python3.5/dist-packages/tensorflow_core/python/ops/gen_array_ops.py\", line 6669, in placeholder\n    \"Placeholder\", dtype=dtype, shape=shape, name=name)\n  File \"/usr/local/lib/python3.5/dist-packages/tensorflow_core/python/framework/op_def_library.py\", line 794, in _apply_op_helper\n    op_def=op_def)\n  File \"/usr/local/lib/python3.5/dist-packages/tensorflow_core/python/util/deprecation.py\", line 507, in new_func\n    return func(*args, **kwargs)\n  File \"/usr/local/lib/python3.5/dist-packages/tensorflow_core/python/framework/ops.py\", line 3357, in create_op\n    attrs, op_def, compute_device)\n  File \"/usr/local/lib/python3.5/dist-packages/tensorflow_core/python/framework/ops.py\", line 3426, in _create_op_internal\n    op_def=op_def)\n  File \"/usr/local/lib/python3.5/dist-packages/tensorflow_core/python/framework/ops.py\", line 1748, in __init__\n    self._traceback = tf_stack.extract_stack()\n",
     "output_type": "error",
     "traceback": [
      "\u001b[0;31m---------------------------------------------------------------------------\u001b[0m",
      "\u001b[0;31mInvalidArgumentError\u001b[0m                      Traceback (most recent call last)",
      "\u001b[0;32m/usr/local/lib/python3.5/dist-packages/tensorflow_core/python/client/session.py\u001b[0m in \u001b[0;36m_do_call\u001b[0;34m(self, fn, *args)\u001b[0m\n\u001b[1;32m   1364\u001b[0m     \u001b[0;32mtry\u001b[0m\u001b[0;34m:\u001b[0m\u001b[0;34m\u001b[0m\u001b[0m\n\u001b[0;32m-> 1365\u001b[0;31m       \u001b[0;32mreturn\u001b[0m \u001b[0mfn\u001b[0m\u001b[0;34m(\u001b[0m\u001b[0;34m*\u001b[0m\u001b[0margs\u001b[0m\u001b[0;34m)\u001b[0m\u001b[0;34m\u001b[0m\u001b[0m\n\u001b[0m\u001b[1;32m   1366\u001b[0m     \u001b[0;32mexcept\u001b[0m \u001b[0merrors\u001b[0m\u001b[0;34m.\u001b[0m\u001b[0mOpError\u001b[0m \u001b[0;32mas\u001b[0m \u001b[0me\u001b[0m\u001b[0;34m:\u001b[0m\u001b[0;34m\u001b[0m\u001b[0m\n",
      "\u001b[0;32m/usr/local/lib/python3.5/dist-packages/tensorflow_core/python/client/session.py\u001b[0m in \u001b[0;36m_run_fn\u001b[0;34m(feed_dict, fetch_list, target_list, options, run_metadata)\u001b[0m\n\u001b[1;32m   1349\u001b[0m       return self._call_tf_sessionrun(options, feed_dict, fetch_list,\n\u001b[0;32m-> 1350\u001b[0;31m                                       target_list, run_metadata)\n\u001b[0m\u001b[1;32m   1351\u001b[0m \u001b[0;34m\u001b[0m\u001b[0m\n",
      "\u001b[0;32m/usr/local/lib/python3.5/dist-packages/tensorflow_core/python/client/session.py\u001b[0m in \u001b[0;36m_call_tf_sessionrun\u001b[0;34m(self, options, feed_dict, fetch_list, target_list, run_metadata)\u001b[0m\n\u001b[1;32m   1442\u001b[0m                                             \u001b[0mfetch_list\u001b[0m\u001b[0;34m,\u001b[0m \u001b[0mtarget_list\u001b[0m\u001b[0;34m,\u001b[0m\u001b[0;34m\u001b[0m\u001b[0m\n\u001b[0;32m-> 1443\u001b[0;31m                                             run_metadata)\n\u001b[0m\u001b[1;32m   1444\u001b[0m \u001b[0;34m\u001b[0m\u001b[0m\n",
      "\u001b[0;31mInvalidArgumentError\u001b[0m: 2 root error(s) found.\n  (0) Invalid argument: You must feed a value for placeholder tensor 'Placeholder' with dtype float\n\t [[{{node Placeholder}}]]\n\t [[Sigmoid/_145]]\n  (1) Invalid argument: You must feed a value for placeholder tensor 'Placeholder' with dtype float\n\t [[{{node Placeholder}}]]\n0 successful operations.\n0 derived errors ignored.",
      "\nDuring handling of the above exception, another exception occurred:\n",
      "\u001b[0;31mInvalidArgumentError\u001b[0m                      Traceback (most recent call last)",
      "\u001b[0;32m<ipython-input-9-a40c7eb2c95d>\u001b[0m in \u001b[0;36m<module>\u001b[0;34m\u001b[0m\n\u001b[1;32m      1\u001b[0m \u001b[0;31m# M in MC dropout refers to number of MC dropout samples; since we're sampling different sets of indices, sort of sampling~\u001b[0m\u001b[0;34m\u001b[0m\u001b[0;34m\u001b[0m\u001b[0m\n\u001b[1;32m      2\u001b[0m \u001b[0;34m\u001b[0m\u001b[0m\n\u001b[0;32m----> 3\u001b[0;31m \u001b[0mentropy_val_MLPmc_1\u001b[0m \u001b[0;34m=\u001b[0m \u001b[0mensembling_expt\u001b[0m\u001b[0;34m(\u001b[0m\u001b[0;36m1\u001b[0m\u001b[0;34m,\u001b[0m \u001b[0mMNIST_X_train\u001b[0m\u001b[0;34m,\u001b[0m \u001b[0mMNIST_Y_train\u001b[0m\u001b[0;34m,\u001b[0m \u001b[0mMNIST_X_val\u001b[0m\u001b[0;34m,\u001b[0m \u001b[0mMNIST_Y_val\u001b[0m\u001b[0;34m,\u001b[0m \u001b[0mMNIST_X_test\u001b[0m\u001b[0;34m,\u001b[0m \u001b[0mMNIST_Y_test\u001b[0m\u001b[0;34m,\u001b[0m \u001b[0mmodels\u001b[0m\u001b[0;34m.\u001b[0m\u001b[0mMCDropout\u001b[0m\u001b[0;34m)\u001b[0m\u001b[0;34m\u001b[0m\u001b[0m\n\u001b[0m\u001b[1;32m      4\u001b[0m \u001b[0mentropy_val_MLPmc_5\u001b[0m \u001b[0;34m=\u001b[0m \u001b[0mensembling_expt\u001b[0m\u001b[0;34m(\u001b[0m\u001b[0;36m5\u001b[0m\u001b[0;34m,\u001b[0m \u001b[0mMNIST_X_train\u001b[0m\u001b[0;34m,\u001b[0m \u001b[0mMNIST_Y_train\u001b[0m\u001b[0;34m,\u001b[0m \u001b[0mMNIST_X_val\u001b[0m\u001b[0;34m,\u001b[0m \u001b[0mMNIST_Y_val\u001b[0m\u001b[0;34m,\u001b[0m \u001b[0mMNIST_X_test\u001b[0m\u001b[0;34m,\u001b[0m \u001b[0mMNIST_Y_test\u001b[0m\u001b[0;34m,\u001b[0m \u001b[0mmodels\u001b[0m\u001b[0;34m.\u001b[0m\u001b[0mMCDropout\u001b[0m\u001b[0;34m)\u001b[0m\u001b[0;34m\u001b[0m\u001b[0m\n\u001b[1;32m      5\u001b[0m \u001b[0mentropy_val_MLPmc_10\u001b[0m \u001b[0;34m=\u001b[0m \u001b[0mensembling_expt\u001b[0m\u001b[0;34m(\u001b[0m\u001b[0;36m10\u001b[0m\u001b[0;34m,\u001b[0m \u001b[0mMNIST_X_train\u001b[0m\u001b[0;34m,\u001b[0m \u001b[0mMNIST_Y_train\u001b[0m\u001b[0;34m,\u001b[0m \u001b[0mMNIST_X_val\u001b[0m\u001b[0;34m,\u001b[0m \u001b[0mMNIST_Y_val\u001b[0m\u001b[0;34m,\u001b[0m \u001b[0mMNIST_X_test\u001b[0m\u001b[0;34m,\u001b[0m \u001b[0mMNIST_Y_test\u001b[0m\u001b[0;34m,\u001b[0m \u001b[0mmodels\u001b[0m\u001b[0;34m.\u001b[0m\u001b[0mMCDropout\u001b[0m\u001b[0;34m)\u001b[0m\u001b[0;34m\u001b[0m\u001b[0m\n",
      "\u001b[0;32m<ipython-input-8-cea88605c474>\u001b[0m in \u001b[0;36mensembling_expt\u001b[0;34m(M, MNIST_X_train, MNIST_Y_train, MNIST_X_val, MNIST_Y_val, MNIST_X_test, MNIST_Y_test, model_function)\u001b[0m\n\u001b[1;32m      9\u001b[0m \u001b[0;31m#         model_function = models.MLP()\u001b[0m\u001b[0;34m\u001b[0m\u001b[0;34m\u001b[0m\u001b[0m\n\u001b[1;32m     10\u001b[0m \u001b[0;31m#         pred = models.MLP(X_train, Y_train, MNIST_X_val, MNIST_Y_val, MNIST_X_test, MNIST_Y_test)\u001b[0m\u001b[0;34m\u001b[0m\u001b[0;34m\u001b[0m\u001b[0m\n\u001b[0;32m---> 11\u001b[0;31m         \u001b[0mpred\u001b[0m \u001b[0;34m=\u001b[0m \u001b[0mmodel_function\u001b[0m\u001b[0;34m(\u001b[0m\u001b[0mX_train\u001b[0m\u001b[0;34m,\u001b[0m \u001b[0mY_train\u001b[0m\u001b[0;34m,\u001b[0m \u001b[0mMNIST_X_val\u001b[0m\u001b[0;34m,\u001b[0m \u001b[0mMNIST_Y_val\u001b[0m\u001b[0;34m,\u001b[0m \u001b[0mMNIST_X_test\u001b[0m\u001b[0;34m,\u001b[0m \u001b[0mMNIST_Y_test\u001b[0m\u001b[0;34m)\u001b[0m\u001b[0;34m\u001b[0m\u001b[0m\n\u001b[0m\u001b[1;32m     12\u001b[0m         \u001b[0mprediction_storage\u001b[0m\u001b[0;34m.\u001b[0m\u001b[0mappend\u001b[0m\u001b[0;34m(\u001b[0m\u001b[0mpred\u001b[0m\u001b[0;34m)\u001b[0m\u001b[0;34m\u001b[0m\u001b[0m\n\u001b[1;32m     13\u001b[0m \u001b[0;34m\u001b[0m\u001b[0m\n",
      "\u001b[0;32m/home/root/adversarial/Gal/models.py\u001b[0m in \u001b[0;36mMCDropout\u001b[0;34m(X_train, Y_train, X_val, Y_val, X_test, Y_test)\u001b[0m\n\u001b[1;32m    255\u001b[0m     \u001b[0;31m# https://r2rt.com/implementing-batch-normalization-in-tensorflow.html\u001b[0m\u001b[0;34m\u001b[0m\u001b[0;34m\u001b[0m\u001b[0m\n\u001b[1;32m    256\u001b[0m \u001b[0;34m\u001b[0m\u001b[0m\n\u001b[0;32m--> 257\u001b[0;31m     \u001b[0mprediction\u001b[0m \u001b[0;34m=\u001b[0m \u001b[0ms\u001b[0m\u001b[0;34m.\u001b[0m\u001b[0mrun\u001b[0m\u001b[0;34m(\u001b[0m\u001b[0mpredicted_Y\u001b[0m\u001b[0;34m,\u001b[0m \u001b[0;34m{\u001b[0m\u001b[0minput_X\u001b[0m\u001b[0;34m:\u001b[0m \u001b[0mX_test\u001b[0m\u001b[0;34m,\u001b[0m\u001b[0mkeep_prob\u001b[0m\u001b[0;34m:\u001b[0m\u001b[0;36m1\u001b[0m\u001b[0;34m}\u001b[0m\u001b[0;34m)\u001b[0m\u001b[0;34m\u001b[0m\u001b[0m\n\u001b[0m\u001b[1;32m    258\u001b[0m \u001b[0;34m\u001b[0m\u001b[0m\n\u001b[1;32m    259\u001b[0m     \u001b[0;32mreturn\u001b[0m \u001b[0mprediction\u001b[0m\u001b[0;34m\u001b[0m\u001b[0m\n",
      "\u001b[0;32m/usr/local/lib/python3.5/dist-packages/tensorflow_core/python/client/session.py\u001b[0m in \u001b[0;36mrun\u001b[0;34m(self, fetches, feed_dict, options, run_metadata)\u001b[0m\n\u001b[1;32m    954\u001b[0m     \u001b[0;32mtry\u001b[0m\u001b[0;34m:\u001b[0m\u001b[0;34m\u001b[0m\u001b[0m\n\u001b[1;32m    955\u001b[0m       result = self._run(None, fetches, feed_dict, options_ptr,\n\u001b[0;32m--> 956\u001b[0;31m                          run_metadata_ptr)\n\u001b[0m\u001b[1;32m    957\u001b[0m       \u001b[0;32mif\u001b[0m \u001b[0mrun_metadata\u001b[0m\u001b[0;34m:\u001b[0m\u001b[0;34m\u001b[0m\u001b[0m\n\u001b[1;32m    958\u001b[0m         \u001b[0mproto_data\u001b[0m \u001b[0;34m=\u001b[0m \u001b[0mtf_session\u001b[0m\u001b[0;34m.\u001b[0m\u001b[0mTF_GetBuffer\u001b[0m\u001b[0;34m(\u001b[0m\u001b[0mrun_metadata_ptr\u001b[0m\u001b[0;34m)\u001b[0m\u001b[0;34m\u001b[0m\u001b[0m\n",
      "\u001b[0;32m/usr/local/lib/python3.5/dist-packages/tensorflow_core/python/client/session.py\u001b[0m in \u001b[0;36m_run\u001b[0;34m(self, handle, fetches, feed_dict, options, run_metadata)\u001b[0m\n\u001b[1;32m   1178\u001b[0m     \u001b[0;32mif\u001b[0m \u001b[0mfinal_fetches\u001b[0m \u001b[0;32mor\u001b[0m \u001b[0mfinal_targets\u001b[0m \u001b[0;32mor\u001b[0m \u001b[0;34m(\u001b[0m\u001b[0mhandle\u001b[0m \u001b[0;32mand\u001b[0m \u001b[0mfeed_dict_tensor\u001b[0m\u001b[0;34m)\u001b[0m\u001b[0;34m:\u001b[0m\u001b[0;34m\u001b[0m\u001b[0m\n\u001b[1;32m   1179\u001b[0m       results = self._do_run(handle, final_targets, final_fetches,\n\u001b[0;32m-> 1180\u001b[0;31m                              feed_dict_tensor, options, run_metadata)\n\u001b[0m\u001b[1;32m   1181\u001b[0m     \u001b[0;32melse\u001b[0m\u001b[0;34m:\u001b[0m\u001b[0;34m\u001b[0m\u001b[0m\n\u001b[1;32m   1182\u001b[0m       \u001b[0mresults\u001b[0m \u001b[0;34m=\u001b[0m \u001b[0;34m[\u001b[0m\u001b[0;34m]\u001b[0m\u001b[0;34m\u001b[0m\u001b[0m\n",
      "\u001b[0;32m/usr/local/lib/python3.5/dist-packages/tensorflow_core/python/client/session.py\u001b[0m in \u001b[0;36m_do_run\u001b[0;34m(self, handle, target_list, fetch_list, feed_dict, options, run_metadata)\u001b[0m\n\u001b[1;32m   1357\u001b[0m     \u001b[0;32mif\u001b[0m \u001b[0mhandle\u001b[0m \u001b[0;32mis\u001b[0m \u001b[0;32mNone\u001b[0m\u001b[0;34m:\u001b[0m\u001b[0;34m\u001b[0m\u001b[0m\n\u001b[1;32m   1358\u001b[0m       return self._do_call(_run_fn, feeds, fetches, targets, options,\n\u001b[0;32m-> 1359\u001b[0;31m                            run_metadata)\n\u001b[0m\u001b[1;32m   1360\u001b[0m     \u001b[0;32melse\u001b[0m\u001b[0;34m:\u001b[0m\u001b[0;34m\u001b[0m\u001b[0m\n\u001b[1;32m   1361\u001b[0m       \u001b[0;32mreturn\u001b[0m \u001b[0mself\u001b[0m\u001b[0;34m.\u001b[0m\u001b[0m_do_call\u001b[0m\u001b[0;34m(\u001b[0m\u001b[0m_prun_fn\u001b[0m\u001b[0;34m,\u001b[0m \u001b[0mhandle\u001b[0m\u001b[0;34m,\u001b[0m \u001b[0mfeeds\u001b[0m\u001b[0;34m,\u001b[0m \u001b[0mfetches\u001b[0m\u001b[0;34m)\u001b[0m\u001b[0;34m\u001b[0m\u001b[0m\n",
      "\u001b[0;32m/usr/local/lib/python3.5/dist-packages/tensorflow_core/python/client/session.py\u001b[0m in \u001b[0;36m_do_call\u001b[0;34m(self, fn, *args)\u001b[0m\n\u001b[1;32m   1382\u001b[0m                     \u001b[0;34m'\\nsession_config.graph_options.rewrite_options.'\u001b[0m\u001b[0;34m\u001b[0m\u001b[0m\n\u001b[1;32m   1383\u001b[0m                     'disable_meta_optimizer = True')\n\u001b[0;32m-> 1384\u001b[0;31m       \u001b[0;32mraise\u001b[0m \u001b[0mtype\u001b[0m\u001b[0;34m(\u001b[0m\u001b[0me\u001b[0m\u001b[0;34m)\u001b[0m\u001b[0;34m(\u001b[0m\u001b[0mnode_def\u001b[0m\u001b[0;34m,\u001b[0m \u001b[0mop\u001b[0m\u001b[0;34m,\u001b[0m \u001b[0mmessage\u001b[0m\u001b[0;34m)\u001b[0m\u001b[0;34m\u001b[0m\u001b[0m\n\u001b[0m\u001b[1;32m   1385\u001b[0m \u001b[0;34m\u001b[0m\u001b[0m\n\u001b[1;32m   1386\u001b[0m   \u001b[0;32mdef\u001b[0m \u001b[0m_extend_graph\u001b[0m\u001b[0;34m(\u001b[0m\u001b[0mself\u001b[0m\u001b[0;34m)\u001b[0m\u001b[0;34m:\u001b[0m\u001b[0;34m\u001b[0m\u001b[0m\n",
      "\u001b[0;31mInvalidArgumentError\u001b[0m: 2 root error(s) found.\n  (0) Invalid argument: You must feed a value for placeholder tensor 'Placeholder' with dtype float\n\t [[node Placeholder (defined at /usr/local/lib/python3.5/dist-packages/tensorflow_core/python/framework/ops.py:1748) ]]\n\t [[Sigmoid/_145]]\n  (1) Invalid argument: You must feed a value for placeholder tensor 'Placeholder' with dtype float\n\t [[node Placeholder (defined at /usr/local/lib/python3.5/dist-packages/tensorflow_core/python/framework/ops.py:1748) ]]\n0 successful operations.\n0 derived errors ignored.\n\nOriginal stack trace for 'Placeholder':\n  File \"/usr/lib/python3.5/runpy.py\", line 184, in _run_module_as_main\n    \"__main__\", mod_spec)\n  File \"/usr/lib/python3.5/runpy.py\", line 85, in _run_code\n    exec(code, run_globals)\n  File \"/usr/local/lib/python3.5/dist-packages/ipykernel_launcher.py\", line 16, in <module>\n    app.launch_new_instance()\n  File \"/usr/local/lib/python3.5/dist-packages/traitlets/config/application.py\", line 658, in launch_instance\n    app.start()\n  File \"/usr/local/lib/python3.5/dist-packages/ipykernel/kernelapp.py\", line 505, in start\n    self.io_loop.start()\n  File \"/usr/local/lib/python3.5/dist-packages/tornado/platform/asyncio.py\", line 148, in start\n    self.asyncio_loop.run_forever()\n  File \"/usr/lib/python3.5/asyncio/base_events.py\", line 345, in run_forever\n    self._run_once()\n  File \"/usr/lib/python3.5/asyncio/base_events.py\", line 1312, in _run_once\n    handle._run()\n  File \"/usr/lib/python3.5/asyncio/events.py\", line 125, in _run\n    self._callback(*self._args)\n  File \"/usr/local/lib/python3.5/dist-packages/tornado/ioloop.py\", line 690, in <lambda>\n    lambda f: self._run_callback(functools.partial(callback, future))\n  File \"/usr/local/lib/python3.5/dist-packages/tornado/ioloop.py\", line 743, in _run_callback\n    ret = callback()\n  File \"/usr/local/lib/python3.5/dist-packages/tornado/gen.py\", line 781, in inner\n    self.run()\n  File \"/usr/local/lib/python3.5/dist-packages/tornado/gen.py\", line 742, in run\n    yielded = self.gen.send(value)\n  File \"/usr/local/lib/python3.5/dist-packages/ipykernel/kernelbase.py\", line 357, in process_one\n    yield gen.maybe_future(dispatch(*args))\n  File \"/usr/local/lib/python3.5/dist-packages/tornado/gen.py\", line 209, in wrapper\n    yielded = next(result)\n  File \"/usr/local/lib/python3.5/dist-packages/ipykernel/kernelbase.py\", line 267, in dispatch_shell\n    yield gen.maybe_future(handler(stream, idents, msg))\n  File \"/usr/local/lib/python3.5/dist-packages/tornado/gen.py\", line 209, in wrapper\n    yielded = next(result)\n  File \"/usr/local/lib/python3.5/dist-packages/ipykernel/kernelbase.py\", line 534, in execute_request\n    user_expressions, allow_stdin,\n  File \"/usr/local/lib/python3.5/dist-packages/tornado/gen.py\", line 209, in wrapper\n    yielded = next(result)\n  File \"/usr/local/lib/python3.5/dist-packages/ipykernel/ipkernel.py\", line 294, in do_execute\n    res = shell.run_cell(code, store_history=store_history, silent=silent)\n  File \"/usr/local/lib/python3.5/dist-packages/ipykernel/zmqshell.py\", line 536, in run_cell\n    return super(ZMQInteractiveShell, self).run_cell(*args, **kwargs)\n  File \"/usr/local/lib/python3.5/dist-packages/IPython/core/interactiveshell.py\", line 2843, in run_cell\n    raw_cell, store_history, silent, shell_futures)\n  File \"/usr/local/lib/python3.5/dist-packages/IPython/core/interactiveshell.py\", line 2869, in _run_cell\n    return runner(coro)\n  File \"/usr/local/lib/python3.5/dist-packages/IPython/core/async_helpers.py\", line 67, in _pseudo_sync_runner\n    coro.send(None)\n  File \"/usr/local/lib/python3.5/dist-packages/IPython/core/interactiveshell.py\", line 3044, in run_cell_async\n    interactivity=interactivity, compiler=compiler, result=result)\n  File \"/usr/local/lib/python3.5/dist-packages/IPython/core/interactiveshell.py\", line 3209, in run_ast_nodes\n    if (yield from self.run_code(code, result)):\n  File \"/usr/local/lib/python3.5/dist-packages/IPython/core/interactiveshell.py\", line 3291, in run_code\n    exec(code_obj, self.user_global_ns, self.user_ns)\n  File \"<ipython-input-9-a40c7eb2c95d>\", line 3, in <module>\n    entropy_val_MLPmc_1 = ensembling_expt(1, MNIST_X_train, MNIST_Y_train, MNIST_X_val, MNIST_Y_val, MNIST_X_test, MNIST_Y_test, models.MCDropout)\n  File \"<ipython-input-8-cea88605c474>\", line 11, in ensembling_expt\n    pred = model_function(X_train, Y_train, MNIST_X_val, MNIST_Y_val, MNIST_X_test, MNIST_Y_test)\n  File \"/home/root/adversarial/Gal/models.py\", line 186, in MCDropout\n    keep_prob = tf.placeholder(tf.float32)\n  File \"/usr/local/lib/python3.5/dist-packages/tensorflow_core/python/ops/array_ops.py\", line 2619, in placeholder\n    return gen_array_ops.placeholder(dtype=dtype, shape=shape, name=name)\n  File \"/usr/local/lib/python3.5/dist-packages/tensorflow_core/python/ops/gen_array_ops.py\", line 6669, in placeholder\n    \"Placeholder\", dtype=dtype, shape=shape, name=name)\n  File \"/usr/local/lib/python3.5/dist-packages/tensorflow_core/python/framework/op_def_library.py\", line 794, in _apply_op_helper\n    op_def=op_def)\n  File \"/usr/local/lib/python3.5/dist-packages/tensorflow_core/python/util/deprecation.py\", line 507, in new_func\n    return func(*args, **kwargs)\n  File \"/usr/local/lib/python3.5/dist-packages/tensorflow_core/python/framework/ops.py\", line 3357, in create_op\n    attrs, op_def, compute_device)\n  File \"/usr/local/lib/python3.5/dist-packages/tensorflow_core/python/framework/ops.py\", line 3426, in _create_op_internal\n    op_def=op_def)\n  File \"/usr/local/lib/python3.5/dist-packages/tensorflow_core/python/framework/ops.py\", line 1748, in __init__\n    self._traceback = tf_stack.extract_stack()\n"
     ]
    }
   ],
   "source": [
    "# M in MC dropout refers to number of MC dropout samples; since we're sampling different sets of indices, sort of sampling~\n",
    "\n",
    "entropy_val_MLPmc_1 = ensembling_expt(1, MNIST_X_train, MNIST_Y_train, MNIST_X_val, MNIST_Y_val, MNIST_X_test, MNIST_Y_test, models.MCDropout)\n",
    "entropy_val_MLPmc_5 = ensembling_expt(5, MNIST_X_train, MNIST_Y_train, MNIST_X_val, MNIST_Y_val, MNIST_X_test, MNIST_Y_test, models.MCDropout)\n",
    "entropy_val_MLPmc_10 = ensembling_expt(10, MNIST_X_train, MNIST_Y_train, MNIST_X_val, MNIST_Y_val, MNIST_X_test, MNIST_Y_test, models.MCDropout)\n"
   ]
  },
  {
   "cell_type": "code",
   "execution_count": null,
   "metadata": {},
   "outputs": [],
   "source": [
    "import matplotlib.pyplot as plt\n",
    "%matplotlib inline\n",
    "plt.hist(entropy_val_MLPmc_1, normed=True, bins=300, label = '1')\n",
    "plt.hist(entropy_val_MLPmc_5, normed=True, bins=300, label = '5')\n",
    "plt.hist(entropy_val_MLPmc_10, normed=True, bins=300, label = '10')\n",
    "plt.xlabel('Entropy values')\n",
    "plt.title(\"MC Dropout 0.1 - MNIST\")\n",
    "plt.legend()\n",
    "plt.show()"
   ]
  },
  {
   "cell_type": "markdown",
   "metadata": {},
   "source": [
    "### notMNIST plots"
   ]
  },
  {
   "cell_type": "code",
   "execution_count": 7,
   "metadata": {
    "scrolled": true
   },
   "outputs": [
    {
     "name": "stderr",
     "output_type": "stream",
     "text": [
      "/usr/local/lib/python3.5/dist-packages/ipykernel_launcher.py:13: FutureWarning: Using a non-tuple sequence for multidimensional indexing is deprecated; use `arr[tuple(seq)]` instead of `arr[seq]`. In the future this will be interpreted as an array index, `arr[np.array(seq)]`, which will result either in an error or a different result.\n",
      "  del sys.path[0]\n",
      "/usr/local/lib/python3.5/dist-packages/ipykernel_launcher.py:14: FutureWarning: Using a non-tuple sequence for multidimensional indexing is deprecated; use `arr[tuple(seq)]` instead of `arr[seq]`. In the future this will be interpreted as an array index, `arr[np.array(seq)]`, which will result either in an error or a different result.\n",
      "  \n",
      "/usr/local/lib/python3.5/dist-packages/tensorflow_core/python/client/session.py:1750: UserWarning: An interactive session is already active. This can cause out-of-memory errors in some cases. You must explicitly call `InteractiveSession.close()` to release resources held by the other session(s).\n",
      "  warnings.warn('An interactive session is already active. This can '\n"
     ]
    },
    {
     "name": "stdout",
     "output_type": "stream",
     "text": [
      "Without Dropout, Vanilla MLP\n",
      "Epoch:0 | Train loss: 31.96 | Train acc: 0.939 | Test acc:0.072\n",
      "Epoch:1 | Train loss: 17.95 | Train acc: 0.959 | Test acc:0.059\n",
      "Epoch:2 | Train loss: 10.34 | Train acc: 0.967 | Test acc:0.065\n",
      "Epoch:3 | Train loss: 6.16 | Train acc: 0.977 | Test acc:0.078\n"
     ]
    },
    {
     "name": "stderr",
     "output_type": "stream",
     "text": [
      "/usr/local/lib/python3.5/dist-packages/ipykernel_launcher.py:13: FutureWarning: Using a non-tuple sequence for multidimensional indexing is deprecated; use `arr[tuple(seq)]` instead of `arr[seq]`. In the future this will be interpreted as an array index, `arr[np.array(seq)]`, which will result either in an error or a different result.\n",
      "  del sys.path[0]\n",
      "/usr/local/lib/python3.5/dist-packages/ipykernel_launcher.py:14: FutureWarning: Using a non-tuple sequence for multidimensional indexing is deprecated; use `arr[tuple(seq)]` instead of `arr[seq]`. In the future this will be interpreted as an array index, `arr[np.array(seq)]`, which will result either in an error or a different result.\n",
      "  \n",
      "/usr/local/lib/python3.5/dist-packages/tensorflow_core/python/client/session.py:1750: UserWarning: An interactive session is already active. This can cause out-of-memory errors in some cases. You must explicitly call `InteractiveSession.close()` to release resources held by the other session(s).\n",
      "  warnings.warn('An interactive session is already active. This can '\n"
     ]
    },
    {
     "name": "stdout",
     "output_type": "stream",
     "text": [
      "Without Dropout, Vanilla MLP\n",
      "Epoch:0 | Train loss: 57.33 | Train acc: 0.876 | Test acc:0.065\n",
      "Epoch:1 | Train loss: 50.98 | Train acc: 0.905 | Test acc:0.061\n",
      "Epoch:2 | Train loss: 45.43 | Train acc: 0.925 | Test acc:0.066\n",
      "Epoch:3 | Train loss: 40.52 | Train acc: 0.944 | Test acc:0.060\n",
      "Without Dropout, Vanilla MLP\n"
     ]
    },
    {
     "name": "stderr",
     "output_type": "stream",
     "text": [
      "/usr/local/lib/python3.5/dist-packages/tensorflow_core/python/client/session.py:1750: UserWarning: An interactive session is already active. This can cause out-of-memory errors in some cases. You must explicitly call `InteractiveSession.close()` to release resources held by the other session(s).\n",
      "  warnings.warn('An interactive session is already active. This can '\n"
     ]
    },
    {
     "name": "stdout",
     "output_type": "stream",
     "text": [
      "Epoch:0 | Train loss: 52.89 | Train acc: 0.859 | Test acc:0.054\n",
      "Epoch:1 | Train loss: 46.88 | Train acc: 0.888 | Test acc:0.054\n",
      "Epoch:2 | Train loss: 41.65 | Train acc: 0.928 | Test acc:0.046\n",
      "Epoch:3 | Train loss: 37.07 | Train acc: 0.940 | Test acc:0.039\n",
      "Without Dropout, Vanilla MLP\n"
     ]
    },
    {
     "name": "stderr",
     "output_type": "stream",
     "text": [
      "/usr/local/lib/python3.5/dist-packages/tensorflow_core/python/client/session.py:1750: UserWarning: An interactive session is already active. This can cause out-of-memory errors in some cases. You must explicitly call `InteractiveSession.close()` to release resources held by the other session(s).\n",
      "  warnings.warn('An interactive session is already active. This can '\n"
     ]
    },
    {
     "name": "stdout",
     "output_type": "stream",
     "text": [
      "Epoch:0 | Train loss: 52.55 | Train acc: 0.868 | Test acc:0.065\n",
      "Epoch:1 | Train loss: 46.46 | Train acc: 0.906 | Test acc:0.061\n",
      "Epoch:2 | Train loss: 41.16 | Train acc: 0.931 | Test acc:0.053\n",
      "Epoch:3 | Train loss: 36.52 | Train acc: 0.943 | Test acc:0.054\n",
      "Without Dropout, Vanilla MLP\n"
     ]
    },
    {
     "name": "stderr",
     "output_type": "stream",
     "text": [
      "/usr/local/lib/python3.5/dist-packages/tensorflow_core/python/client/session.py:1750: UserWarning: An interactive session is already active. This can cause out-of-memory errors in some cases. You must explicitly call `InteractiveSession.close()` to release resources held by the other session(s).\n",
      "  warnings.warn('An interactive session is already active. This can '\n"
     ]
    },
    {
     "name": "stdout",
     "output_type": "stream",
     "text": [
      "Epoch:0 | Train loss: 57.30 | Train acc: 0.866 | Test acc:0.053\n",
      "Epoch:1 | Train loss: 50.87 | Train acc: 0.910 | Test acc:0.059\n",
      "Epoch:2 | Train loss: 45.24 | Train acc: 0.933 | Test acc:0.069\n",
      "Epoch:3 | Train loss: 40.29 | Train acc: 0.939 | Test acc:0.062\n",
      "Without Dropout, Vanilla MLP\n"
     ]
    },
    {
     "name": "stderr",
     "output_type": "stream",
     "text": [
      "/usr/local/lib/python3.5/dist-packages/tensorflow_core/python/client/session.py:1750: UserWarning: An interactive session is already active. This can cause out-of-memory errors in some cases. You must explicitly call `InteractiveSession.close()` to release resources held by the other session(s).\n",
      "  warnings.warn('An interactive session is already active. This can '\n"
     ]
    },
    {
     "name": "stdout",
     "output_type": "stream",
     "text": [
      "Epoch:0 | Train loss: 57.75 | Train acc: 0.868 | Test acc:0.057\n",
      "Epoch:1 | Train loss: 51.21 | Train acc: 0.916 | Test acc:0.047\n",
      "Epoch:2 | Train loss: 45.48 | Train acc: 0.930 | Test acc:0.048\n",
      "Epoch:3 | Train loss: 40.43 | Train acc: 0.944 | Test acc:0.063\n"
     ]
    },
    {
     "name": "stderr",
     "output_type": "stream",
     "text": [
      "/usr/local/lib/python3.5/dist-packages/ipykernel_launcher.py:13: FutureWarning: Using a non-tuple sequence for multidimensional indexing is deprecated; use `arr[tuple(seq)]` instead of `arr[seq]`. In the future this will be interpreted as an array index, `arr[np.array(seq)]`, which will result either in an error or a different result.\n",
      "  del sys.path[0]\n",
      "/usr/local/lib/python3.5/dist-packages/ipykernel_launcher.py:14: FutureWarning: Using a non-tuple sequence for multidimensional indexing is deprecated; use `arr[tuple(seq)]` instead of `arr[seq]`. In the future this will be interpreted as an array index, `arr[np.array(seq)]`, which will result either in an error or a different result.\n",
      "  \n",
      "/usr/local/lib/python3.5/dist-packages/tensorflow_core/python/client/session.py:1750: UserWarning: An interactive session is already active. This can cause out-of-memory errors in some cases. You must explicitly call `InteractiveSession.close()` to release resources held by the other session(s).\n",
      "  warnings.warn('An interactive session is already active. This can '\n"
     ]
    },
    {
     "name": "stdout",
     "output_type": "stream",
     "text": [
      "Without Dropout, Vanilla MLP\n",
      "Epoch:0 | Train loss: 57.11 | Train acc: 0.815 | Test acc:0.043\n",
      "Epoch:1 | Train loss: 53.64 | Train acc: 0.873 | Test acc:0.065\n",
      "Epoch:2 | Train loss: 50.47 | Train acc: 0.905 | Test acc:0.052\n",
      "Epoch:3 | Train loss: 47.52 | Train acc: 0.917 | Test acc:0.056\n",
      "Without Dropout, Vanilla MLP\n"
     ]
    },
    {
     "name": "stderr",
     "output_type": "stream",
     "text": [
      "/usr/local/lib/python3.5/dist-packages/tensorflow_core/python/client/session.py:1750: UserWarning: An interactive session is already active. This can cause out-of-memory errors in some cases. You must explicitly call `InteractiveSession.close()` to release resources held by the other session(s).\n",
      "  warnings.warn('An interactive session is already active. This can '\n"
     ]
    },
    {
     "name": "stdout",
     "output_type": "stream",
     "text": [
      "Epoch:0 | Train loss: 61.71 | Train acc: 0.823 | Test acc:0.064\n",
      "Epoch:1 | Train loss: 58.04 | Train acc: 0.866 | Test acc:0.073\n",
      "Epoch:2 | Train loss: 54.65 | Train acc: 0.900 | Test acc:0.052\n",
      "Epoch:3 | Train loss: 51.50 | Train acc: 0.916 | Test acc:0.047\n",
      "Without Dropout, Vanilla MLP\n"
     ]
    },
    {
     "name": "stderr",
     "output_type": "stream",
     "text": [
      "/usr/local/lib/python3.5/dist-packages/tensorflow_core/python/client/session.py:1750: UserWarning: An interactive session is already active. This can cause out-of-memory errors in some cases. You must explicitly call `InteractiveSession.close()` to release resources held by the other session(s).\n",
      "  warnings.warn('An interactive session is already active. This can '\n"
     ]
    },
    {
     "name": "stdout",
     "output_type": "stream",
     "text": [
      "Epoch:0 | Train loss: 56.65 | Train acc: 0.777 | Test acc:0.066\n",
      "Epoch:1 | Train loss: 53.09 | Train acc: 0.845 | Test acc:0.051\n",
      "Epoch:2 | Train loss: 49.81 | Train acc: 0.872 | Test acc:0.065\n",
      "Epoch:3 | Train loss: 46.78 | Train acc: 0.902 | Test acc:0.060\n",
      "Without Dropout, Vanilla MLP\n"
     ]
    },
    {
     "name": "stderr",
     "output_type": "stream",
     "text": [
      "/usr/local/lib/python3.5/dist-packages/tensorflow_core/python/client/session.py:1750: UserWarning: An interactive session is already active. This can cause out-of-memory errors in some cases. You must explicitly call `InteractiveSession.close()` to release resources held by the other session(s).\n",
      "  warnings.warn('An interactive session is already active. This can '\n"
     ]
    },
    {
     "name": "stdout",
     "output_type": "stream",
     "text": [
      "Epoch:0 | Train loss: 58.09 | Train acc: 0.771 | Test acc:0.074\n",
      "Epoch:1 | Train loss: 54.57 | Train acc: 0.878 | Test acc:0.050\n",
      "Epoch:2 | Train loss: 51.34 | Train acc: 0.894 | Test acc:0.050\n",
      "Epoch:3 | Train loss: 48.34 | Train acc: 0.904 | Test acc:0.061\n",
      "Without Dropout, Vanilla MLP\n"
     ]
    },
    {
     "name": "stderr",
     "output_type": "stream",
     "text": [
      "/usr/local/lib/python3.5/dist-packages/tensorflow_core/python/client/session.py:1750: UserWarning: An interactive session is already active. This can cause out-of-memory errors in some cases. You must explicitly call `InteractiveSession.close()` to release resources held by the other session(s).\n",
      "  warnings.warn('An interactive session is already active. This can '\n"
     ]
    },
    {
     "name": "stdout",
     "output_type": "stream",
     "text": [
      "Epoch:0 | Train loss: 60.80 | Train acc: 0.780 | Test acc:0.070\n",
      "Epoch:1 | Train loss: 57.12 | Train acc: 0.873 | Test acc:0.078\n",
      "Epoch:2 | Train loss: 53.76 | Train acc: 0.893 | Test acc:0.069\n",
      "Epoch:3 | Train loss: 50.63 | Train acc: 0.925 | Test acc:0.067\n",
      "Without Dropout, Vanilla MLP\n"
     ]
    },
    {
     "name": "stderr",
     "output_type": "stream",
     "text": [
      "/usr/local/lib/python3.5/dist-packages/tensorflow_core/python/client/session.py:1750: UserWarning: An interactive session is already active. This can cause out-of-memory errors in some cases. You must explicitly call `InteractiveSession.close()` to release resources held by the other session(s).\n",
      "  warnings.warn('An interactive session is already active. This can '\n"
     ]
    },
    {
     "name": "stdout",
     "output_type": "stream",
     "text": [
      "Epoch:0 | Train loss: 61.72 | Train acc: 0.799 | Test acc:0.074\n",
      "Epoch:1 | Train loss: 57.98 | Train acc: 0.872 | Test acc:0.059\n",
      "Epoch:2 | Train loss: 54.57 | Train acc: 0.905 | Test acc:0.041\n",
      "Epoch:3 | Train loss: 51.37 | Train acc: 0.932 | Test acc:0.044\n",
      "Without Dropout, Vanilla MLP\n"
     ]
    },
    {
     "name": "stderr",
     "output_type": "stream",
     "text": [
      "/usr/local/lib/python3.5/dist-packages/tensorflow_core/python/client/session.py:1750: UserWarning: An interactive session is already active. This can cause out-of-memory errors in some cases. You must explicitly call `InteractiveSession.close()` to release resources held by the other session(s).\n",
      "  warnings.warn('An interactive session is already active. This can '\n"
     ]
    },
    {
     "name": "stdout",
     "output_type": "stream",
     "text": [
      "Epoch:0 | Train loss: 54.73 | Train acc: 0.767 | Test acc:0.071\n",
      "Epoch:1 | Train loss: 51.21 | Train acc: 0.868 | Test acc:0.054\n",
      "Epoch:2 | Train loss: 48.03 | Train acc: 0.885 | Test acc:0.056\n",
      "Epoch:3 | Train loss: 45.06 | Train acc: 0.917 | Test acc:0.062\n",
      "Without Dropout, Vanilla MLP\n"
     ]
    },
    {
     "name": "stderr",
     "output_type": "stream",
     "text": [
      "/usr/local/lib/python3.5/dist-packages/tensorflow_core/python/client/session.py:1750: UserWarning: An interactive session is already active. This can cause out-of-memory errors in some cases. You must explicitly call `InteractiveSession.close()` to release resources held by the other session(s).\n",
      "  warnings.warn('An interactive session is already active. This can '\n"
     ]
    },
    {
     "name": "stdout",
     "output_type": "stream",
     "text": [
      "Epoch:0 | Train loss: 57.05 | Train acc: 0.818 | Test acc:0.069\n",
      "Epoch:1 | Train loss: 53.56 | Train acc: 0.881 | Test acc:0.067\n",
      "Epoch:2 | Train loss: 50.37 | Train acc: 0.868 | Test acc:0.066\n",
      "Epoch:3 | Train loss: 47.40 | Train acc: 0.905 | Test acc:0.078\n",
      "Without Dropout, Vanilla MLP\n"
     ]
    },
    {
     "name": "stderr",
     "output_type": "stream",
     "text": [
      "/usr/local/lib/python3.5/dist-packages/tensorflow_core/python/client/session.py:1750: UserWarning: An interactive session is already active. This can cause out-of-memory errors in some cases. You must explicitly call `InteractiveSession.close()` to release resources held by the other session(s).\n",
      "  warnings.warn('An interactive session is already active. This can '\n"
     ]
    },
    {
     "name": "stdout",
     "output_type": "stream",
     "text": [
      "Epoch:0 | Train loss: 54.93 | Train acc: 0.725 | Test acc:0.107\n",
      "Epoch:1 | Train loss: 51.51 | Train acc: 0.872 | Test acc:0.078\n",
      "Epoch:2 | Train loss: 48.39 | Train acc: 0.891 | Test acc:0.079\n",
      "Epoch:3 | Train loss: 45.50 | Train acc: 0.916 | Test acc:0.077\n",
      "Without Dropout, Vanilla MLP\n"
     ]
    },
    {
     "name": "stderr",
     "output_type": "stream",
     "text": [
      "/usr/local/lib/python3.5/dist-packages/tensorflow_core/python/client/session.py:1750: UserWarning: An interactive session is already active. This can cause out-of-memory errors in some cases. You must explicitly call `InteractiveSession.close()` to release resources held by the other session(s).\n",
      "  warnings.warn('An interactive session is already active. This can '\n"
     ]
    },
    {
     "name": "stdout",
     "output_type": "stream",
     "text": [
      "Epoch:0 | Train loss: 58.04 | Train acc: 0.799 | Test acc:0.058\n",
      "Epoch:1 | Train loss: 54.43 | Train acc: 0.864 | Test acc:0.057\n",
      "Epoch:2 | Train loss: 51.11 | Train acc: 0.898 | Test acc:0.068\n",
      "Epoch:3 | Train loss: 48.03 | Train acc: 0.917 | Test acc:0.059\n"
     ]
    },
    {
     "name": "stderr",
     "output_type": "stream",
     "text": [
      "/usr/local/lib/python3.5/dist-packages/matplotlib/axes/_axes.py:6521: MatplotlibDeprecationWarning: \n",
      "The 'normed' kwarg was deprecated in Matplotlib 2.1 and will be removed in 3.1. Use 'density' instead.\n",
      "  alternative=\"'density'\", removal=\"3.1\")\n"
     ]
    },
    {
     "data": {
      "image/png": "[encoded data removed]",
      "text/plain": [
       "<Figure size 432x288 with 1 Axes>"
      ]
     },
     "metadata": {
      "needs_background": "light"
     },
     "output_type": "display_data"
    }
   ],
   "source": [
    "Nentropy_val_MLP_1 = ensembling_expt(1, MNIST_X_train, MNIST_Y_train, notMNIST_X_val, notMNIST_Y_val, notMNIST_X_test, notMNIST_Y_test, models.MLP)\n",
    "Nentropy_val_MLP_5 = ensembling_expt(5, MNIST_X_train, MNIST_Y_train, notMNIST_X_val, notMNIST_Y_val, notMNIST_X_test, notMNIST_Y_test, models.MLP)\n",
    "Nentropy_val_MLP_10 = ensembling_expt(10, MNIST_X_train, MNIST_Y_train, notMNIST_X_val, notMNIST_Y_val, notMNIST_X_test, notMNIST_Y_test, models.MLP)\n",
    "\n",
    "import matplotlib.pyplot as plt\n",
    "%matplotlib inline\n",
    "plt.hist(Nentropy_val_MLP_1, normed=True, bins=300, label = '1')\n",
    "plt.hist(Nentropy_val_MLP_5, normed=True, bins=300, label = '5')\n",
    "plt.hist(Nentropy_val_MLP_10, normed=True, bins=300, label = '10')\n",
    "plt.xlabel('Entropy values')\n",
    "plt.title(\"Ensemble - notMNIST\")\n",
    "plt.legend()\n",
    "plt.show()"
   ]
  },
  {
   "cell_type": "code",
   "execution_count": null,
   "metadata": {},
   "outputs": [
    {
     "name": "stderr",
     "output_type": "stream",
     "text": [
      "/usr/local/lib/python3.5/dist-packages/ipykernel_launcher.py:13: FutureWarning: Using a non-tuple sequence for multidimensional indexing is deprecated; use `arr[tuple(seq)]` instead of `arr[seq]`. In the future this will be interpreted as an array index, `arr[np.array(seq)]`, which will result either in an error or a different result.\n",
      "  del sys.path[0]\n",
      "/usr/local/lib/python3.5/dist-packages/ipykernel_launcher.py:14: FutureWarning: Using a non-tuple sequence for multidimensional indexing is deprecated; use `arr[tuple(seq)]` instead of `arr[seq]`. In the future this will be interpreted as an array index, `arr[np.array(seq)]`, which will result either in an error or a different result.\n",
      "  \n"
     ]
    },
    {
     "name": "stdout",
     "output_type": "stream",
     "text": [
      "Without Dropout, MLP with random perturbations\n"
     ]
    },
    {
     "name": "stderr",
     "output_type": "stream",
     "text": [
      "/home/root/adversarial/Gal/models.py:644: FutureWarning: Using a non-tuple sequence for multidimensional indexing is deprecated; use `arr[tuple(seq)]` instead of `arr[seq]`. In the future this will be interpreted as an array index, `arr[np.array(seq)]`, which will result either in an error or a different result.\n",
      "  sample_X_train = X_train[[ind]] # X_train[[start_index,end_index]] ; this would let us take specific indices, so we can randomize the order, ensure each iteration is taking precisely unique samples\n",
      "/home/root/adversarial/Gal/models.py:645: FutureWarning: Using a non-tuple sequence for multidimensional indexing is deprecated; use `arr[tuple(seq)]` instead of `arr[seq]`. In the future this will be interpreted as an array index, `arr[np.array(seq)]`, which will result either in an error or a different result.\n",
      "  sample_Y_train = Y_train[[ind]]\n",
      "/usr/local/lib/python3.5/dist-packages/tensorflow_core/python/client/session.py:1750: UserWarning: An interactive session is already active. This can cause out-of-memory errors in some cases. You must explicitly call `InteractiveSession.close()` to release resources held by the other session(s).\n",
      "  warnings.warn('An interactive session is already active. This can '\n",
      "W0212 00:19:42.644673 140409467619072 deprecation.py:323] From /home/root/adversarial/Gal/models.py:655: Print (from tensorflow.python.ops.logging_ops) is deprecated and will be removed after 2018-08-20.\n",
      "Instructions for updating:\n",
      "Use tf.print instead of tf.Print. Note that tf.print returns a no-output operator that directly prints the output. Outside of defuns or eager mode, this operator will not be executed unless it is directly specified in session.run or used as a control dependency for other operators. This is only a concern in graph mode. Below is an example of how to ensure tf.print executes in graph mode:\n",
      "\n"
     ]
    },
    {
     "name": "stdout",
     "output_type": "stream",
     "text": [
      "New training set shape (X,Y):  ((60000, 784), (60000, 10))\n",
      "Epoch:0 | Train loss: 28.01 | Train acc: 0.846 | Test acc:0.061\n",
      "Epoch:1 | Train loss: 13.99 | Train acc: 0.910 | Test acc:0.066\n",
      "Epoch:2 | Train loss: 7.22 | Train acc: 0.969 | Test acc:0.073\n",
      "Epoch:3 | Train loss: 4.04 | Train acc: 0.954 | Test acc:0.085\n"
     ]
    },
    {
     "name": "stderr",
     "output_type": "stream",
     "text": [
      "/usr/local/lib/python3.5/dist-packages/ipykernel_launcher.py:13: FutureWarning: Using a non-tuple sequence for multidimensional indexing is deprecated; use `arr[tuple(seq)]` instead of `arr[seq]`. In the future this will be interpreted as an array index, `arr[np.array(seq)]`, which will result either in an error or a different result.\n",
      "  del sys.path[0]\n",
      "/usr/local/lib/python3.5/dist-packages/ipykernel_launcher.py:14: FutureWarning: Using a non-tuple sequence for multidimensional indexing is deprecated; use `arr[tuple(seq)]` instead of `arr[seq]`. In the future this will be interpreted as an array index, `arr[np.array(seq)]`, which will result either in an error or a different result.\n",
      "  \n",
      "/home/root/adversarial/Gal/models.py:644: FutureWarning: Using a non-tuple sequence for multidimensional indexing is deprecated; use `arr[tuple(seq)]` instead of `arr[seq]`. In the future this will be interpreted as an array index, `arr[np.array(seq)]`, which will result either in an error or a different result.\n",
      "  sample_X_train = X_train[[ind]] # X_train[[start_index,end_index]] ; this would let us take specific indices, so we can randomize the order, ensure each iteration is taking precisely unique samples\n",
      "/home/root/adversarial/Gal/models.py:645: FutureWarning: Using a non-tuple sequence for multidimensional indexing is deprecated; use `arr[tuple(seq)]` instead of `arr[seq]`. In the future this will be interpreted as an array index, `arr[np.array(seq)]`, which will result either in an error or a different result.\n",
      "  sample_Y_train = Y_train[[ind]]\n"
     ]
    },
    {
     "name": "stdout",
     "output_type": "stream",
     "text": [
      "Without Dropout, MLP with random perturbations\n"
     ]
    },
    {
     "name": "stderr",
     "output_type": "stream",
     "text": [
      "/usr/local/lib/python3.5/dist-packages/tensorflow_core/python/client/session.py:1750: UserWarning: An interactive session is already active. This can cause out-of-memory errors in some cases. You must explicitly call `InteractiveSession.close()` to release resources held by the other session(s).\n",
      "  warnings.warn('An interactive session is already active. This can '\n"
     ]
    },
    {
     "name": "stdout",
     "output_type": "stream",
     "text": [
      "New training set shape (X,Y):  ((12000, 784), (12000, 10))\n",
      "Epoch:0 | Train loss: 59.27 | Train acc: 0.586 | Test acc:0.079\n",
      "Epoch:1 | Train loss: 51.62 | Train acc: 0.904 | Test acc:0.050\n",
      "Epoch:2 | Train loss: 45.25 | Train acc: 0.905 | Test acc:0.077\n",
      "Epoch:3 | Train loss: 39.72 | Train acc: 0.900 | Test acc:0.077\n",
      "Without Dropout, MLP with random perturbations\n"
     ]
    },
    {
     "name": "stderr",
     "output_type": "stream",
     "text": [
      "/home/root/adversarial/Gal/models.py:644: FutureWarning: Using a non-tuple sequence for multidimensional indexing is deprecated; use `arr[tuple(seq)]` instead of `arr[seq]`. In the future this will be interpreted as an array index, `arr[np.array(seq)]`, which will result either in an error or a different result.\n",
      "  sample_X_train = X_train[[ind]] # X_train[[start_index,end_index]] ; this would let us take specific indices, so we can randomize the order, ensure each iteration is taking precisely unique samples\n",
      "/home/root/adversarial/Gal/models.py:645: FutureWarning: Using a non-tuple sequence for multidimensional indexing is deprecated; use `arr[tuple(seq)]` instead of `arr[seq]`. In the future this will be interpreted as an array index, `arr[np.array(seq)]`, which will result either in an error or a different result.\n",
      "  sample_Y_train = Y_train[[ind]]\n",
      "/usr/local/lib/python3.5/dist-packages/tensorflow_core/python/client/session.py:1750: UserWarning: An interactive session is already active. This can cause out-of-memory errors in some cases. You must explicitly call `InteractiveSession.close()` to release resources held by the other session(s).\n",
      "  warnings.warn('An interactive session is already active. This can '\n"
     ]
    },
    {
     "name": "stdout",
     "output_type": "stream",
     "text": [
      "New training set shape (X,Y):  ((12000, 784), (12000, 10))\n",
      "Epoch:0 | Train loss: 53.81 | Train acc: 0.723 | Test acc:0.042\n",
      "Epoch:1 | Train loss: 46.65 | Train acc: 0.658 | Test acc:0.074\n",
      "Epoch:2 | Train loss: 40.47 | Train acc: 0.910 | Test acc:0.057\n",
      "Epoch:3 | Train loss: 35.21 | Train acc: 0.904 | Test acc:0.084\n",
      "Without Dropout, MLP with random perturbations\n"
     ]
    },
    {
     "name": "stderr",
     "output_type": "stream",
     "text": [
      "/home/root/adversarial/Gal/models.py:644: FutureWarning: Using a non-tuple sequence for multidimensional indexing is deprecated; use `arr[tuple(seq)]` instead of `arr[seq]`. In the future this will be interpreted as an array index, `arr[np.array(seq)]`, which will result either in an error or a different result.\n",
      "  sample_X_train = X_train[[ind]] # X_train[[start_index,end_index]] ; this would let us take specific indices, so we can randomize the order, ensure each iteration is taking precisely unique samples\n",
      "/home/root/adversarial/Gal/models.py:645: FutureWarning: Using a non-tuple sequence for multidimensional indexing is deprecated; use `arr[tuple(seq)]` instead of `arr[seq]`. In the future this will be interpreted as an array index, `arr[np.array(seq)]`, which will result either in an error or a different result.\n",
      "  sample_Y_train = Y_train[[ind]]\n",
      "/usr/local/lib/python3.5/dist-packages/tensorflow_core/python/client/session.py:1750: UserWarning: An interactive session is already active. This can cause out-of-memory errors in some cases. You must explicitly call `InteractiveSession.close()` to release resources held by the other session(s).\n",
      "  warnings.warn('An interactive session is already active. This can '\n"
     ]
    },
    {
     "name": "stdout",
     "output_type": "stream",
     "text": [
      "New training set shape (X,Y):  ((12000, 784), (12000, 10))\n",
      "Epoch:0 | Train loss: 57.68 | Train acc: 0.596 | Test acc:0.068\n",
      "Epoch:1 | Train loss: 50.36 | Train acc: 0.669 | Test acc:0.062\n",
      "Epoch:2 | Train loss: 44.01 | Train acc: 0.862 | Test acc:0.094\n",
      "Epoch:3 | Train loss: 38.66 | Train acc: 0.774 | Test acc:0.088\n",
      "Without Dropout, MLP with random perturbations\n"
     ]
    },
    {
     "name": "stderr",
     "output_type": "stream",
     "text": [
      "/home/root/adversarial/Gal/models.py:644: FutureWarning: Using a non-tuple sequence for multidimensional indexing is deprecated; use `arr[tuple(seq)]` instead of `arr[seq]`. In the future this will be interpreted as an array index, `arr[np.array(seq)]`, which will result either in an error or a different result.\n",
      "  sample_X_train = X_train[[ind]] # X_train[[start_index,end_index]] ; this would let us take specific indices, so we can randomize the order, ensure each iteration is taking precisely unique samples\n",
      "/home/root/adversarial/Gal/models.py:645: FutureWarning: Using a non-tuple sequence for multidimensional indexing is deprecated; use `arr[tuple(seq)]` instead of `arr[seq]`. In the future this will be interpreted as an array index, `arr[np.array(seq)]`, which will result either in an error or a different result.\n",
      "  sample_Y_train = Y_train[[ind]]\n",
      "/usr/local/lib/python3.5/dist-packages/tensorflow_core/python/client/session.py:1750: UserWarning: An interactive session is already active. This can cause out-of-memory errors in some cases. You must explicitly call `InteractiveSession.close()` to release resources held by the other session(s).\n",
      "  warnings.warn('An interactive session is already active. This can '\n"
     ]
    },
    {
     "name": "stdout",
     "output_type": "stream",
     "text": [
      "New training set shape (X,Y):  ((12000, 784), (12000, 10))\n",
      "Epoch:0 | Train loss: 54.75 | Train acc: 0.671 | Test acc:0.101\n",
      "Epoch:1 | Train loss: 47.52 | Train acc: 0.668 | Test acc:0.066\n",
      "Epoch:2 | Train loss: 41.15 | Train acc: 0.913 | Test acc:0.048\n",
      "Epoch:3 | Train loss: 35.79 | Train acc: 0.937 | Test acc:0.074\n",
      "Without Dropout, MLP with random perturbations\n"
     ]
    },
    {
     "name": "stderr",
     "output_type": "stream",
     "text": [
      "/home/root/adversarial/Gal/models.py:644: FutureWarning: Using a non-tuple sequence for multidimensional indexing is deprecated; use `arr[tuple(seq)]` instead of `arr[seq]`. In the future this will be interpreted as an array index, `arr[np.array(seq)]`, which will result either in an error or a different result.\n",
      "  sample_X_train = X_train[[ind]] # X_train[[start_index,end_index]] ; this would let us take specific indices, so we can randomize the order, ensure each iteration is taking precisely unique samples\n",
      "/home/root/adversarial/Gal/models.py:645: FutureWarning: Using a non-tuple sequence for multidimensional indexing is deprecated; use `arr[tuple(seq)]` instead of `arr[seq]`. In the future this will be interpreted as an array index, `arr[np.array(seq)]`, which will result either in an error or a different result.\n",
      "  sample_Y_train = Y_train[[ind]]\n",
      "/usr/local/lib/python3.5/dist-packages/tensorflow_core/python/client/session.py:1750: UserWarning: An interactive session is already active. This can cause out-of-memory errors in some cases. You must explicitly call `InteractiveSession.close()` to release resources held by the other session(s).\n",
      "  warnings.warn('An interactive session is already active. This can '\n"
     ]
    },
    {
     "name": "stdout",
     "output_type": "stream",
     "text": [
      "New training set shape (X,Y):  ((12000, 784), (12000, 10))\n",
      "Epoch:0 | Train loss: 49.93 | Train acc: 0.496 | Test acc:0.060\n",
      "Epoch:1 | Train loss: 42.94 | Train acc: 0.870 | Test acc:0.051\n",
      "Epoch:2 | Train loss: 37.13 | Train acc: 0.882 | Test acc:0.039\n",
      "Epoch:3 | Train loss: 32.13 | Train acc: 0.938 | Test acc:0.031\n"
     ]
    },
    {
     "name": "stderr",
     "output_type": "stream",
     "text": [
      "/usr/local/lib/python3.5/dist-packages/ipykernel_launcher.py:13: FutureWarning: Using a non-tuple sequence for multidimensional indexing is deprecated; use `arr[tuple(seq)]` instead of `arr[seq]`. In the future this will be interpreted as an array index, `arr[np.array(seq)]`, which will result either in an error or a different result.\n",
      "  del sys.path[0]\n",
      "/usr/local/lib/python3.5/dist-packages/ipykernel_launcher.py:14: FutureWarning: Using a non-tuple sequence for multidimensional indexing is deprecated; use `arr[tuple(seq)]` instead of `arr[seq]`. In the future this will be interpreted as an array index, `arr[np.array(seq)]`, which will result either in an error or a different result.\n",
      "  \n",
      "/home/root/adversarial/Gal/models.py:644: FutureWarning: Using a non-tuple sequence for multidimensional indexing is deprecated; use `arr[tuple(seq)]` instead of `arr[seq]`. In the future this will be interpreted as an array index, `arr[np.array(seq)]`, which will result either in an error or a different result.\n",
      "  sample_X_train = X_train[[ind]] # X_train[[start_index,end_index]] ; this would let us take specific indices, so we can randomize the order, ensure each iteration is taking precisely unique samples\n",
      "/home/root/adversarial/Gal/models.py:645: FutureWarning: Using a non-tuple sequence for multidimensional indexing is deprecated; use `arr[tuple(seq)]` instead of `arr[seq]`. In the future this will be interpreted as an array index, `arr[np.array(seq)]`, which will result either in an error or a different result.\n",
      "  sample_Y_train = Y_train[[ind]]\n"
     ]
    },
    {
     "name": "stdout",
     "output_type": "stream",
     "text": [
      "Without Dropout, MLP with random perturbations\n"
     ]
    },
    {
     "name": "stderr",
     "output_type": "stream",
     "text": [
      "/usr/local/lib/python3.5/dist-packages/tensorflow_core/python/client/session.py:1750: UserWarning: An interactive session is already active. This can cause out-of-memory errors in some cases. You must explicitly call `InteractiveSession.close()` to release resources held by the other session(s).\n",
      "  warnings.warn('An interactive session is already active. This can '\n"
     ]
    },
    {
     "name": "stdout",
     "output_type": "stream",
     "text": [
      "New training set shape (X,Y):  ((6000, 784), (6000, 10))\n",
      "Epoch:0 | Train loss: 60.25 | Train acc: 0.554 | Test acc:0.062\n",
      "Epoch:1 | Train loss: 55.92 | Train acc: 0.805 | Test acc:0.057\n",
      "Epoch:2 | Train loss: 52.01 | Train acc: 0.878 | Test acc:0.047\n",
      "Epoch:3 | Train loss: 48.46 | Train acc: 0.859 | Test acc:0.056\n",
      "Without Dropout, MLP with random perturbations\n"
     ]
    },
    {
     "name": "stderr",
     "output_type": "stream",
     "text": [
      "/home/root/adversarial/Gal/models.py:644: FutureWarning: Using a non-tuple sequence for multidimensional indexing is deprecated; use `arr[tuple(seq)]` instead of `arr[seq]`. In the future this will be interpreted as an array index, `arr[np.array(seq)]`, which will result either in an error or a different result.\n",
      "  sample_X_train = X_train[[ind]] # X_train[[start_index,end_index]] ; this would let us take specific indices, so we can randomize the order, ensure each iteration is taking precisely unique samples\n",
      "/home/root/adversarial/Gal/models.py:645: FutureWarning: Using a non-tuple sequence for multidimensional indexing is deprecated; use `arr[tuple(seq)]` instead of `arr[seq]`. In the future this will be interpreted as an array index, `arr[np.array(seq)]`, which will result either in an error or a different result.\n",
      "  sample_Y_train = Y_train[[ind]]\n",
      "/usr/local/lib/python3.5/dist-packages/tensorflow_core/python/client/session.py:1750: UserWarning: An interactive session is already active. This can cause out-of-memory errors in some cases. You must explicitly call `InteractiveSession.close()` to release resources held by the other session(s).\n",
      "  warnings.warn('An interactive session is already active. This can '\n"
     ]
    },
    {
     "name": "stdout",
     "output_type": "stream",
     "text": [
      "New training set shape (X,Y):  ((6000, 784), (6000, 10))\n",
      "Epoch:0 | Train loss: 58.44 | Train acc: 0.500 | Test acc:0.081\n",
      "Epoch:1 | Train loss: 54.24 | Train acc: 0.701 | Test acc:0.049\n",
      "Epoch:2 | Train loss: 50.38 | Train acc: 0.860 | Test acc:0.062\n",
      "Epoch:3 | Train loss: 46.88 | Train acc: 0.864 | Test acc:0.057\n",
      "Without Dropout, MLP with random perturbations\n"
     ]
    },
    {
     "name": "stderr",
     "output_type": "stream",
     "text": [
      "/home/root/adversarial/Gal/models.py:644: FutureWarning: Using a non-tuple sequence for multidimensional indexing is deprecated; use `arr[tuple(seq)]` instead of `arr[seq]`. In the future this will be interpreted as an array index, `arr[np.array(seq)]`, which will result either in an error or a different result.\n",
      "  sample_X_train = X_train[[ind]] # X_train[[start_index,end_index]] ; this would let us take specific indices, so we can randomize the order, ensure each iteration is taking precisely unique samples\n",
      "/home/root/adversarial/Gal/models.py:645: FutureWarning: Using a non-tuple sequence for multidimensional indexing is deprecated; use `arr[tuple(seq)]` instead of `arr[seq]`. In the future this will be interpreted as an array index, `arr[np.array(seq)]`, which will result either in an error or a different result.\n",
      "  sample_Y_train = Y_train[[ind]]\n",
      "/usr/local/lib/python3.5/dist-packages/tensorflow_core/python/client/session.py:1750: UserWarning: An interactive session is already active. This can cause out-of-memory errors in some cases. You must explicitly call `InteractiveSession.close()` to release resources held by the other session(s).\n",
      "  warnings.warn('An interactive session is already active. This can '\n"
     ]
    },
    {
     "name": "stdout",
     "output_type": "stream",
     "text": [
      "New training set shape (X,Y):  ((6000, 784), (6000, 10))\n",
      "Epoch:0 | Train loss: 60.49 | Train acc: 0.674 | Test acc:0.052\n",
      "Epoch:1 | Train loss: 56.27 | Train acc: 0.818 | Test acc:0.047\n",
      "Epoch:2 | Train loss: 52.46 | Train acc: 0.883 | Test acc:0.041\n",
      "Epoch:3 | Train loss: 49.04 | Train acc: 0.671 | Test acc:0.041\n",
      "Without Dropout, MLP with random perturbations\n"
     ]
    },
    {
     "name": "stderr",
     "output_type": "stream",
     "text": [
      "/home/root/adversarial/Gal/models.py:644: FutureWarning: Using a non-tuple sequence for multidimensional indexing is deprecated; use `arr[tuple(seq)]` instead of `arr[seq]`. In the future this will be interpreted as an array index, `arr[np.array(seq)]`, which will result either in an error or a different result.\n",
      "  sample_X_train = X_train[[ind]] # X_train[[start_index,end_index]] ; this would let us take specific indices, so we can randomize the order, ensure each iteration is taking precisely unique samples\n",
      "/home/root/adversarial/Gal/models.py:645: FutureWarning: Using a non-tuple sequence for multidimensional indexing is deprecated; use `arr[tuple(seq)]` instead of `arr[seq]`. In the future this will be interpreted as an array index, `arr[np.array(seq)]`, which will result either in an error or a different result.\n",
      "  sample_Y_train = Y_train[[ind]]\n",
      "/usr/local/lib/python3.5/dist-packages/tensorflow_core/python/client/session.py:1750: UserWarning: An interactive session is already active. This can cause out-of-memory errors in some cases. You must explicitly call `InteractiveSession.close()` to release resources held by the other session(s).\n",
      "  warnings.warn('An interactive session is already active. This can '\n"
     ]
    },
    {
     "name": "stdout",
     "output_type": "stream",
     "text": [
      "New training set shape (X,Y):  ((6000, 784), (6000, 10))\n",
      "Epoch:0 | Train loss: 56.78 | Train acc: 0.587 | Test acc:0.056\n",
      "Epoch:1 | Train loss: 52.54 | Train acc: 0.746 | Test acc:0.077\n",
      "Epoch:2 | Train loss: 48.74 | Train acc: 0.856 | Test acc:0.059\n",
      "Epoch:3 | Train loss: 45.26 | Train acc: 0.844 | Test acc:0.085\n",
      "Without Dropout, MLP with random perturbations\n"
     ]
    },
    {
     "name": "stderr",
     "output_type": "stream",
     "text": [
      "/home/root/adversarial/Gal/models.py:644: FutureWarning: Using a non-tuple sequence for multidimensional indexing is deprecated; use `arr[tuple(seq)]` instead of `arr[seq]`. In the future this will be interpreted as an array index, `arr[np.array(seq)]`, which will result either in an error or a different result.\n",
      "  sample_X_train = X_train[[ind]] # X_train[[start_index,end_index]] ; this would let us take specific indices, so we can randomize the order, ensure each iteration is taking precisely unique samples\n",
      "/home/root/adversarial/Gal/models.py:645: FutureWarning: Using a non-tuple sequence for multidimensional indexing is deprecated; use `arr[tuple(seq)]` instead of `arr[seq]`. In the future this will be interpreted as an array index, `arr[np.array(seq)]`, which will result either in an error or a different result.\n",
      "  sample_Y_train = Y_train[[ind]]\n",
      "/usr/local/lib/python3.5/dist-packages/tensorflow_core/python/client/session.py:1750: UserWarning: An interactive session is already active. This can cause out-of-memory errors in some cases. You must explicitly call `InteractiveSession.close()` to release resources held by the other session(s).\n",
      "  warnings.warn('An interactive session is already active. This can '\n"
     ]
    },
    {
     "name": "stdout",
     "output_type": "stream",
     "text": [
      "New training set shape (X,Y):  ((6000, 784), (6000, 10))\n",
      "Epoch:0 | Train loss: 55.69 | Train acc: 0.723 | Test acc:0.061\n",
      "Epoch:1 | Train loss: 51.87 | Train acc: 0.720 | Test acc:0.050\n",
      "Epoch:2 | Train loss: 48.31 | Train acc: 0.815 | Test acc:0.088\n",
      "Epoch:3 | Train loss: 45.01 | Train acc: 0.904 | Test acc:0.069\n",
      "Without Dropout, MLP with random perturbations\n"
     ]
    },
    {
     "name": "stderr",
     "output_type": "stream",
     "text": [
      "/home/root/adversarial/Gal/models.py:644: FutureWarning: Using a non-tuple sequence for multidimensional indexing is deprecated; use `arr[tuple(seq)]` instead of `arr[seq]`. In the future this will be interpreted as an array index, `arr[np.array(seq)]`, which will result either in an error or a different result.\n",
      "  sample_X_train = X_train[[ind]] # X_train[[start_index,end_index]] ; this would let us take specific indices, so we can randomize the order, ensure each iteration is taking precisely unique samples\n",
      "/home/root/adversarial/Gal/models.py:645: FutureWarning: Using a non-tuple sequence for multidimensional indexing is deprecated; use `arr[tuple(seq)]` instead of `arr[seq]`. In the future this will be interpreted as an array index, `arr[np.array(seq)]`, which will result either in an error or a different result.\n",
      "  sample_Y_train = Y_train[[ind]]\n",
      "/usr/local/lib/python3.5/dist-packages/tensorflow_core/python/client/session.py:1750: UserWarning: An interactive session is already active. This can cause out-of-memory errors in some cases. You must explicitly call `InteractiveSession.close()` to release resources held by the other session(s).\n",
      "  warnings.warn('An interactive session is already active. This can '\n"
     ]
    },
    {
     "name": "stdout",
     "output_type": "stream",
     "text": [
      "New training set shape (X,Y):  ((6000, 784), (6000, 10))\n",
      "Epoch:0 | Train loss: 58.14 | Train acc: 0.670 | Test acc:0.090\n",
      "Epoch:1 | Train loss: 54.09 | Train acc: 0.630 | Test acc:0.060\n",
      "Epoch:2 | Train loss: 50.31 | Train acc: 0.837 | Test acc:0.050\n",
      "Epoch:3 | Train loss: 46.97 | Train acc: 0.574 | Test acc:0.054\n",
      "Without Dropout, MLP with random perturbations\n"
     ]
    },
    {
     "name": "stderr",
     "output_type": "stream",
     "text": [
      "/home/root/adversarial/Gal/models.py:644: FutureWarning: Using a non-tuple sequence for multidimensional indexing is deprecated; use `arr[tuple(seq)]` instead of `arr[seq]`. In the future this will be interpreted as an array index, `arr[np.array(seq)]`, which will result either in an error or a different result.\n",
      "  sample_X_train = X_train[[ind]] # X_train[[start_index,end_index]] ; this would let us take specific indices, so we can randomize the order, ensure each iteration is taking precisely unique samples\n",
      "/home/root/adversarial/Gal/models.py:645: FutureWarning: Using a non-tuple sequence for multidimensional indexing is deprecated; use `arr[tuple(seq)]` instead of `arr[seq]`. In the future this will be interpreted as an array index, `arr[np.array(seq)]`, which will result either in an error or a different result.\n",
      "  sample_Y_train = Y_train[[ind]]\n",
      "/usr/local/lib/python3.5/dist-packages/tensorflow_core/python/client/session.py:1750: UserWarning: An interactive session is already active. This can cause out-of-memory errors in some cases. You must explicitly call `InteractiveSession.close()` to release resources held by the other session(s).\n",
      "  warnings.warn('An interactive session is already active. This can '\n"
     ]
    },
    {
     "name": "stdout",
     "output_type": "stream",
     "text": [
      "New training set shape (X,Y):  ((6000, 784), (6000, 10))\n",
      "Epoch:0 | Train loss: 61.91 | Train acc: 0.657 | Test acc:0.051\n",
      "Epoch:1 | Train loss: 57.62 | Train acc: 0.791 | Test acc:0.038\n",
      "Epoch:2 | Train loss: 53.69 | Train acc: 0.818 | Test acc:0.061\n",
      "Epoch:3 | Train loss: 50.06 | Train acc: 0.893 | Test acc:0.045\n",
      "Without Dropout, MLP with random perturbations\n"
     ]
    },
    {
     "name": "stderr",
     "output_type": "stream",
     "text": [
      "/home/root/adversarial/Gal/models.py:644: FutureWarning: Using a non-tuple sequence for multidimensional indexing is deprecated; use `arr[tuple(seq)]` instead of `arr[seq]`. In the future this will be interpreted as an array index, `arr[np.array(seq)]`, which will result either in an error or a different result.\n",
      "  sample_X_train = X_train[[ind]] # X_train[[start_index,end_index]] ; this would let us take specific indices, so we can randomize the order, ensure each iteration is taking precisely unique samples\n",
      "/home/root/adversarial/Gal/models.py:645: FutureWarning: Using a non-tuple sequence for multidimensional indexing is deprecated; use `arr[tuple(seq)]` instead of `arr[seq]`. In the future this will be interpreted as an array index, `arr[np.array(seq)]`, which will result either in an error or a different result.\n",
      "  sample_Y_train = Y_train[[ind]]\n",
      "/usr/local/lib/python3.5/dist-packages/tensorflow_core/python/client/session.py:1750: UserWarning: An interactive session is already active. This can cause out-of-memory errors in some cases. You must explicitly call `InteractiveSession.close()` to release resources held by the other session(s).\n",
      "  warnings.warn('An interactive session is already active. This can '\n"
     ]
    },
    {
     "name": "stdout",
     "output_type": "stream",
     "text": [
      "New training set shape (X,Y):  ((6000, 784), (6000, 10))\n",
      "Epoch:0 | Train loss: 52.84 | Train acc: 0.747 | Test acc:0.041\n",
      "Epoch:1 | Train loss: 48.85 | Train acc: 0.760 | Test acc:0.040\n",
      "Epoch:2 | Train loss: 45.24 | Train acc: 0.719 | Test acc:0.058\n",
      "Epoch:3 | Train loss: 41.83 | Train acc: 0.821 | Test acc:0.050\n",
      "Without Dropout, MLP with random perturbations\n"
     ]
    },
    {
     "name": "stderr",
     "output_type": "stream",
     "text": [
      "/home/root/adversarial/Gal/models.py:644: FutureWarning: Using a non-tuple sequence for multidimensional indexing is deprecated; use `arr[tuple(seq)]` instead of `arr[seq]`. In the future this will be interpreted as an array index, `arr[np.array(seq)]`, which will result either in an error or a different result.\n",
      "  sample_X_train = X_train[[ind]] # X_train[[start_index,end_index]] ; this would let us take specific indices, so we can randomize the order, ensure each iteration is taking precisely unique samples\n",
      "/home/root/adversarial/Gal/models.py:645: FutureWarning: Using a non-tuple sequence for multidimensional indexing is deprecated; use `arr[tuple(seq)]` instead of `arr[seq]`. In the future this will be interpreted as an array index, `arr[np.array(seq)]`, which will result either in an error or a different result.\n",
      "  sample_Y_train = Y_train[[ind]]\n",
      "/usr/local/lib/python3.5/dist-packages/tensorflow_core/python/client/session.py:1750: UserWarning: An interactive session is already active. This can cause out-of-memory errors in some cases. You must explicitly call `InteractiveSession.close()` to release resources held by the other session(s).\n",
      "  warnings.warn('An interactive session is already active. This can '\n"
     ]
    },
    {
     "name": "stdout",
     "output_type": "stream",
     "text": [
      "New training set shape (X,Y):  ((6000, 784), (6000, 10))\n",
      "Epoch:0 | Train loss: 59.88 | Train acc: 0.552 | Test acc:0.102\n",
      "Epoch:1 | Train loss: 55.62 | Train acc: 0.793 | Test acc:0.046\n",
      "Epoch:2 | Train loss: 51.85 | Train acc: 0.792 | Test acc:0.081\n",
      "Epoch:3 | Train loss: 48.27 | Train acc: 0.910 | Test acc:0.062\n",
      "Without Dropout, MLP with random perturbations\n"
     ]
    },
    {
     "name": "stderr",
     "output_type": "stream",
     "text": [
      "/home/root/adversarial/Gal/models.py:644: FutureWarning: Using a non-tuple sequence for multidimensional indexing is deprecated; use `arr[tuple(seq)]` instead of `arr[seq]`. In the future this will be interpreted as an array index, `arr[np.array(seq)]`, which will result either in an error or a different result.\n",
      "  sample_X_train = X_train[[ind]] # X_train[[start_index,end_index]] ; this would let us take specific indices, so we can randomize the order, ensure each iteration is taking precisely unique samples\n",
      "/home/root/adversarial/Gal/models.py:645: FutureWarning: Using a non-tuple sequence for multidimensional indexing is deprecated; use `arr[tuple(seq)]` instead of `arr[seq]`. In the future this will be interpreted as an array index, `arr[np.array(seq)]`, which will result either in an error or a different result.\n",
      "  sample_Y_train = Y_train[[ind]]\n",
      "/usr/local/lib/python3.5/dist-packages/tensorflow_core/python/client/session.py:1750: UserWarning: An interactive session is already active. This can cause out-of-memory errors in some cases. You must explicitly call `InteractiveSession.close()` to release resources held by the other session(s).\n",
      "  warnings.warn('An interactive session is already active. This can '\n"
     ]
    },
    {
     "name": "stdout",
     "output_type": "stream",
     "text": [
      "New training set shape (X,Y):  ((6000, 784), (6000, 10))\n",
      "Epoch:0 | Train loss: 58.14 | Train acc: 0.197 | Test acc:0.072\n",
      "Epoch:1 | Train loss: 53.73 | Train acc: 0.788 | Test acc:0.065\n",
      "Epoch:2 | Train loss: 49.98 | Train acc: 0.632 | Test acc:0.077\n",
      "Epoch:3 | Train loss: 46.40 | Train acc: 0.856 | Test acc:0.055\n"
     ]
    },
    {
     "name": "stderr",
     "output_type": "stream",
     "text": [
      "/usr/local/lib/python3.5/dist-packages/matplotlib/axes/_axes.py:6521: MatplotlibDeprecationWarning: \n",
      "The 'normed' kwarg was deprecated in Matplotlib 2.1 and will be removed in 3.1. Use 'density' instead.\n",
      "  alternative=\"'density'\", removal=\"3.1\")\n"
     ]
    },
    {
     "data": {
      "image/png": "[encoded data removed]",
      "text/plain": [
       "<Figure size 432x288 with 1 Axes>"
      ]
     },
     "metadata": {
      "needs_background": "light"
     },
     "output_type": "display_data"
    }
   ],
   "source": [
    "Nentropy_val_MLPr_1 = ensembling_expt(1, MNIST_X_train, MNIST_Y_train, notMNIST_X_val, notMNIST_Y_val, notMNIST_X_test, notMNIST_Y_test, models.MLP_randomperturbation)\n",
    "Nentropy_val_MLPr_5 = ensembling_expt(5, MNIST_X_train, MNIST_Y_train, notMNIST_X_val, notMNIST_Y_val, notMNIST_X_test, notMNIST_Y_test, models.MLP_randomperturbation)\n",
    "Nentropy_val_MLPr_10 = ensembling_expt(10, MNIST_X_train, MNIST_Y_train, notMNIST_X_val, notMNIST_Y_val, notMNIST_X_test, notMNIST_Y_test, models.MLP_randomperturbation)\n",
    "\n",
    "import matplotlib.pyplot as plt\n",
    "%matplotlib inline\n",
    "plt.hist(Nentropy_val_MLPr_1, normed=True, bins=300, label = '1')\n",
    "plt.hist(Nentropy_val_MLPr_5, normed=True, bins=300, label = '5')\n",
    "plt.hist(Nentropy_val_MLPr_10, normed=True, bins=300, label = '10')\n",
    "plt.xlabel('Entropy values')\n",
    "plt.title(\"Ensemble+R - notMNIST\")\n",
    "plt.legend()\n",
    "plt.show()"
   ]
  },
  {
   "cell_type": "code",
   "execution_count": 5,
   "metadata": {},
   "outputs": [
    {
     "name": "stderr",
     "output_type": "stream",
     "text": [
      "/usr/local/lib/python3.5/dist-packages/ipykernel_launcher.py:13: FutureWarning: Using a non-tuple sequence for multidimensional indexing is deprecated; use `arr[tuple(seq)]` instead of `arr[seq]`. In the future this will be interpreted as an array index, `arr[np.array(seq)]`, which will result either in an error or a different result.\n",
      "  del sys.path[0]\n",
      "/usr/local/lib/python3.5/dist-packages/ipykernel_launcher.py:14: FutureWarning: Using a non-tuple sequence for multidimensional indexing is deprecated; use `arr[tuple(seq)]` instead of `arr[seq]`. In the future this will be interpreted as an array index, `arr[np.array(seq)]`, which will result either in an error or a different result.\n",
      "  \n"
     ]
    },
    {
     "name": "stdout",
     "output_type": "stream",
     "text": [
      "Without Dropout & Batch Normalization\n"
     ]
    },
    {
     "name": "stderr",
     "output_type": "stream",
     "text": [
      "WARNING: Logging before flag parsing goes to stderr.\n",
      "W0212 01:58:57.334360 140379776665344 module_wrapper.py:139] From /home/root/adversarial/Gal/models.py:287: The name tf.InteractiveSession is deprecated. Please use tf.compat.v1.InteractiveSession instead.\n",
      "\n",
      "W0212 01:58:59.724544 140379776665344 module_wrapper.py:139] From /home/root/adversarial/Gal/models.py:300: The name tf.placeholder is deprecated. Please use tf.compat.v1.placeholder instead.\n",
      "\n",
      "W0212 01:58:59.730072 140379776665344 module_wrapper.py:139] From /home/root/adversarial/Gal/models.py:306: The name tf.random_normal is deprecated. Please use tf.random.normal instead.\n",
      "\n",
      "W0212 01:58:59.909603 140379776665344 module_wrapper.py:139] From /home/root/adversarial/Gal/models.py:345: The name tf.train.exponential_decay is deprecated. Please use tf.compat.v1.train.exponential_decay instead.\n",
      "\n",
      "W0212 01:58:59.918474 140379776665344 module_wrapper.py:139] From /home/root/adversarial/Gal/models.py:347: The name tf.train.AdamOptimizer is deprecated. Please use tf.compat.v1.train.AdamOptimizer instead.\n",
      "\n",
      "W0212 01:59:00.638814 140379776665344 module_wrapper.py:139] From /home/root/adversarial/Gal/models.py:367: The name tf.global_variables_initializer is deprecated. Please use tf.compat.v1.global_variables_initializer instead.\n",
      "\n"
     ]
    },
    {
     "name": "stdout",
     "output_type": "stream",
     "text": [
      "Epoch:0 | Train loss: 35.90 | Train acc: 0.973 | Test acc:0.114\n",
      "Epoch:1 | Train loss: 20.64 | Train acc: 0.984 | Test acc:0.099\n",
      "Epoch:2 | Train loss: 12.19 | Train acc: 0.988 | Test acc:0.085\n",
      "Epoch:3 | Train loss: 7.44 | Train acc: 0.991 | Test acc:0.088\n",
      "Epoch:4 | Train loss: 4.73 | Train acc: 0.993 | Test acc:0.092\n",
      "Epoch:5 | Train loss: 3.20 | Train acc: 0.994 | Test acc:0.095\n",
      "Epoch:6 | Train loss: 2.34 | Train acc: 0.994 | Test acc:0.092\n",
      "Epoch:7 | Train loss: 1.88 | Train acc: 0.996 | Test acc:0.087\n",
      "Epoch:8 | Train loss: 1.64 | Train acc: 0.996 | Test acc:0.097\n",
      "Epoch:9 | Train loss: 1.53 | Train acc: 0.997 | Test acc:0.086\n",
      "Epoch:10 | Train loss: 1.49 | Train acc: 0.997 | Test acc:0.069\n",
      "Epoch:11 | Train loss: 1.47 | Train acc: 0.997 | Test acc:0.080\n",
      "Epoch:12 | Train loss: 1.47 | Train acc: 0.997 | Test acc:0.066\n",
      "Epoch:13 | Train loss: 1.47 | Train acc: 0.996 | Test acc:0.068\n",
      "Without Dropout & Batch Normalization & Adversarial Training\n"
     ]
    },
    {
     "name": "stderr",
     "output_type": "stream",
     "text": [
      "/home/root/adversarial/Gal/models.py:416: FutureWarning: Using a non-tuple sequence for multidimensional indexing is deprecated; use `arr[tuple(seq)]` instead of `arr[seq]`. In the future this will be interpreted as an array index, `arr[np.array(seq)]`, which will result either in an error or a different result.\n",
      "  sample_X_train = X_train[[ind]] # X_train[[start_index,end_index]] ; this would let us take specific indices, so we can randomize the order, ensure each iteration is taking precisely unique samples\n",
      "/home/root/adversarial/Gal/models.py:417: FutureWarning: Using a non-tuple sequence for multidimensional indexing is deprecated; use `arr[tuple(seq)]` instead of `arr[seq]`. In the future this will be interpreted as an array index, `arr[np.array(seq)]`, which will result either in an error or a different result.\n",
      "  sample_Y_train = Y_train[[ind]]\n",
      "/usr/local/lib/python3.5/dist-packages/tensorflow_core/python/client/session.py:1750: UserWarning: An interactive session is already active. This can cause out-of-memory errors in some cases. You must explicitly call `InteractiveSession.close()` to release resources held by the other session(s).\n",
      "  warnings.warn('An interactive session is already active. This can '\n",
      "/home/root/adversarial/Gal/models.py:564: FutureWarning: Using a non-tuple sequence for multidimensional indexing is deprecated; use `arr[tuple(seq)]` instead of `arr[seq]`. In the future this will be interpreted as an array index, `arr[np.array(seq)]`, which will result either in an error or a different result.\n",
      "  sample_X_train = X_train[[ind]] # X_train[[start_index,end_index]] ; this would let us take specific indices, so we can randomize the order, ensure each iteration is taking precisely unique samples\n",
      "/home/root/adversarial/Gal/models.py:565: FutureWarning: Using a non-tuple sequence for multidimensional indexing is deprecated; use `arr[tuple(seq)]` instead of `arr[seq]`. In the future this will be interpreted as an array index, `arr[np.array(seq)]`, which will result either in an error or a different result.\n",
      "  sample_Y_train = Y_train[[ind]]\n"
     ]
    },
    {
     "name": "stdout",
     "output_type": "stream",
     "text": [
      "Epoch:0 | Train loss: 32.74 | Train acc: 0.830 | Test acc:0.098\n",
      "Epoch:1 | Train loss: 16.81 | Train acc: 0.838 | Test acc:0.079\n",
      "Epoch:2 | Train loss: 8.87 | Train acc: 0.842 | Test acc:0.079\n",
      "Epoch:3 | Train loss: 4.94 | Train acc: 0.843 | Test acc:0.079\n",
      "Epoch:4 | Train loss: 3.05 | Train acc: 0.842 | Test acc:0.070\n",
      "Epoch:5 | Train loss: 2.16 | Train acc: 0.845 | Test acc:0.088\n",
      "Epoch:6 | Train loss: 1.76 | Train acc: 0.846 | Test acc:0.082\n",
      "Epoch:7 | Train loss: 1.58 | Train acc: 0.846 | Test acc:0.093\n",
      "Epoch:8 | Train loss: 1.51 | Train acc: 0.847 | Test acc:0.085\n",
      "Epoch:9 | Train loss: 1.48 | Train acc: 0.848 | Test acc:0.096\n",
      "Epoch:10 | Train loss: 1.47 | Train acc: 0.846 | Test acc:0.106\n",
      "Epoch:11 | Train loss: 1.47 | Train acc: 0.847 | Test acc:0.103\n",
      "Epoch:12 | Train loss: 1.46 | Train acc: 0.847 | Test acc:0.100\n"
     ]
    },
    {
     "name": "stderr",
     "output_type": "stream",
     "text": [
      "W0212 02:01:18.792056 140379776665344 module_wrapper.py:139] From /usr/local/lib/python3.5/dist-packages/keras/backend/tensorflow_backend.py:3295: The name tf.log is deprecated. Please use tf.math.log instead.\n",
      "\n",
      "W0212 02:01:18.796486 140379776665344 module_wrapper.py:139] From /usr/local/lib/python3.5/dist-packages/keras/backend/tensorflow_backend.py:174: The name tf.get_default_session is deprecated. Please use tf.compat.v1.get_default_session instead.\n",
      "\n",
      "W0212 02:01:18.797173 140379776665344 module_wrapper.py:139] From /usr/local/lib/python3.5/dist-packages/keras/backend/tensorflow_backend.py:190: The name tf.global_variables is deprecated. Please use tf.compat.v1.global_variables instead.\n",
      "\n",
      "W0212 02:01:18.797918 140379776665344 module_wrapper.py:139] From /usr/local/lib/python3.5/dist-packages/keras/backend/tensorflow_backend.py:199: The name tf.is_variable_initialized is deprecated. Please use tf.compat.v1.is_variable_initialized instead.\n",
      "\n"
     ]
    },
    {
     "name": "stdout",
     "output_type": "stream",
     "text": [
      "Epoch:13 | Train loss: 1.46 | Train acc: 0.847 | Test acc:0.091\n"
     ]
    },
    {
     "name": "stderr",
     "output_type": "stream",
     "text": [
      "/usr/local/lib/python3.5/dist-packages/ipykernel_launcher.py:13: FutureWarning: Using a non-tuple sequence for multidimensional indexing is deprecated; use `arr[tuple(seq)]` instead of `arr[seq]`. In the future this will be interpreted as an array index, `arr[np.array(seq)]`, which will result either in an error or a different result.\n",
      "  del sys.path[0]\n",
      "/usr/local/lib/python3.5/dist-packages/ipykernel_launcher.py:14: FutureWarning: Using a non-tuple sequence for multidimensional indexing is deprecated; use `arr[tuple(seq)]` instead of `arr[seq]`. In the future this will be interpreted as an array index, `arr[np.array(seq)]`, which will result either in an error or a different result.\n",
      "  \n",
      "/usr/local/lib/python3.5/dist-packages/tensorflow_core/python/client/session.py:1750: UserWarning: An interactive session is already active. This can cause out-of-memory errors in some cases. You must explicitly call `InteractiveSession.close()` to release resources held by the other session(s).\n",
      "  warnings.warn('An interactive session is already active. This can '\n"
     ]
    },
    {
     "name": "stdout",
     "output_type": "stream",
     "text": [
      "Without Dropout & Batch Normalization\n",
      "Epoch:0 | Train loss: 47.02 | Train acc: 0.948 | Test acc:0.120\n",
      "Epoch:1 | Train loss: 41.30 | Train acc: 0.973 | Test acc:0.111\n",
      "Epoch:2 | Train loss: 36.35 | Train acc: 0.984 | Test acc:0.123\n",
      "Epoch:3 | Train loss: 32.05 | Train acc: 0.988 | Test acc:0.124\n",
      "Epoch:4 | Train loss: 28.29 | Train acc: 0.993 | Test acc:0.128\n",
      "Epoch:5 | Train loss: 25.00 | Train acc: 0.995 | Test acc:0.125\n",
      "Epoch:6 | Train loss: 22.11 | Train acc: 0.995 | Test acc:0.125\n",
      "Epoch:7 | Train loss: 19.57 | Train acc: 0.996 | Test acc:0.113\n",
      "Epoch:8 | Train loss: 17.34 | Train acc: 0.997 | Test acc:0.123\n",
      "Epoch:9 | Train loss: 15.37 | Train acc: 0.998 | Test acc:0.115\n",
      "Epoch:10 | Train loss: 13.64 | Train acc: 0.998 | Test acc:0.107\n",
      "Epoch:11 | Train loss: 12.12 | Train acc: 0.998 | Test acc:0.089\n",
      "Epoch:12 | Train loss: 10.77 | Train acc: 0.998 | Test acc:0.110\n",
      "Epoch:13 | Train loss: 9.59 | Train acc: 0.998 | Test acc:0.090\n",
      "Without Dropout & Batch Normalization & Adversarial Training\n"
     ]
    },
    {
     "name": "stderr",
     "output_type": "stream",
     "text": [
      "/home/root/adversarial/Gal/models.py:416: FutureWarning: Using a non-tuple sequence for multidimensional indexing is deprecated; use `arr[tuple(seq)]` instead of `arr[seq]`. In the future this will be interpreted as an array index, `arr[np.array(seq)]`, which will result either in an error or a different result.\n",
      "  sample_X_train = X_train[[ind]] # X_train[[start_index,end_index]] ; this would let us take specific indices, so we can randomize the order, ensure each iteration is taking precisely unique samples\n",
      "/home/root/adversarial/Gal/models.py:417: FutureWarning: Using a non-tuple sequence for multidimensional indexing is deprecated; use `arr[tuple(seq)]` instead of `arr[seq]`. In the future this will be interpreted as an array index, `arr[np.array(seq)]`, which will result either in an error or a different result.\n",
      "  sample_Y_train = Y_train[[ind]]\n",
      "/usr/local/lib/python3.5/dist-packages/tensorflow_core/python/client/session.py:1750: UserWarning: An interactive session is already active. This can cause out-of-memory errors in some cases. You must explicitly call `InteractiveSession.close()` to release resources held by the other session(s).\n",
      "  warnings.warn('An interactive session is already active. This can '\n",
      "/home/root/adversarial/Gal/models.py:564: FutureWarning: Using a non-tuple sequence for multidimensional indexing is deprecated; use `arr[tuple(seq)]` instead of `arr[seq]`. In the future this will be interpreted as an array index, `arr[np.array(seq)]`, which will result either in an error or a different result.\n",
      "  sample_X_train = X_train[[ind]] # X_train[[start_index,end_index]] ; this would let us take specific indices, so we can randomize the order, ensure each iteration is taking precisely unique samples\n",
      "/home/root/adversarial/Gal/models.py:565: FutureWarning: Using a non-tuple sequence for multidimensional indexing is deprecated; use `arr[tuple(seq)]` instead of `arr[seq]`. In the future this will be interpreted as an array index, `arr[np.array(seq)]`, which will result either in an error or a different result.\n",
      "  sample_Y_train = Y_train[[ind]]\n"
     ]
    },
    {
     "name": "stdout",
     "output_type": "stream",
     "text": [
      "Epoch:0 | Train loss: 57.54 | Train acc: 0.810 | Test acc:0.149\n",
      "Epoch:1 | Train loss: 50.15 | Train acc: 0.833 | Test acc:0.135\n",
      "Epoch:2 | Train loss: 43.80 | Train acc: 0.840 | Test acc:0.149\n",
      "Epoch:3 | Train loss: 38.33 | Train acc: 0.843 | Test acc:0.137\n",
      "Epoch:4 | Train loss: 33.59 | Train acc: 0.845 | Test acc:0.134\n",
      "Epoch:5 | Train loss: 29.46 | Train acc: 0.845 | Test acc:0.123\n",
      "Epoch:6 | Train loss: 25.87 | Train acc: 0.849 | Test acc:0.115\n",
      "Epoch:7 | Train loss: 22.75 | Train acc: 0.848 | Test acc:0.116\n",
      "Epoch:8 | Train loss: 20.02 | Train acc: 0.848 | Test acc:0.142\n",
      "Epoch:9 | Train loss: 17.63 | Train acc: 0.849 | Test acc:0.143\n",
      "Epoch:10 | Train loss: 15.55 | Train acc: 0.847 | Test acc:0.118\n",
      "Epoch:11 | Train loss: 13.73 | Train acc: 0.849 | Test acc:0.118\n",
      "Epoch:12 | Train loss: 12.14 | Train acc: 0.850 | Test acc:0.120\n",
      "Epoch:13 | Train loss: 10.75 | Train acc: 0.849 | Test acc:0.125\n",
      "Without Dropout & Batch Normalization\n"
     ]
    },
    {
     "name": "stderr",
     "output_type": "stream",
     "text": [
      "/usr/local/lib/python3.5/dist-packages/tensorflow_core/python/client/session.py:1750: UserWarning: An interactive session is already active. This can cause out-of-memory errors in some cases. You must explicitly call `InteractiveSession.close()` to release resources held by the other session(s).\n",
      "  warnings.warn('An interactive session is already active. This can '\n"
     ]
    },
    {
     "name": "stdout",
     "output_type": "stream",
     "text": [
      "Epoch:0 | Train loss: 59.50 | Train acc: 0.946 | Test acc:0.128\n",
      "Epoch:1 | Train loss: 53.03 | Train acc: 0.974 | Test acc:0.134\n",
      "Epoch:2 | Train loss: 47.36 | Train acc: 0.983 | Test acc:0.117\n",
      "Epoch:3 | Train loss: 42.36 | Train acc: 0.990 | Test acc:0.126\n",
      "Epoch:4 | Train loss: 37.94 | Train acc: 0.992 | Test acc:0.114\n",
      "Epoch:5 | Train loss: 34.01 | Train acc: 0.994 | Test acc:0.105\n",
      "Epoch:6 | Train loss: 30.52 | Train acc: 0.996 | Test acc:0.116\n",
      "Epoch:7 | Train loss: 27.40 | Train acc: 0.996 | Test acc:0.095\n",
      "Epoch:8 | Train loss: 24.62 | Train acc: 0.997 | Test acc:0.101\n",
      "Epoch:9 | Train loss: 22.14 | Train acc: 0.998 | Test acc:0.101\n",
      "Epoch:10 | Train loss: 19.92 | Train acc: 0.998 | Test acc:0.111\n",
      "Epoch:11 | Train loss: 17.93 | Train acc: 0.997 | Test acc:0.105\n",
      "Epoch:12 | Train loss: 16.15 | Train acc: 0.998 | Test acc:0.082\n",
      "Epoch:13 | Train loss: 14.56 | Train acc: 0.998 | Test acc:0.092\n",
      "Without Dropout & Batch Normalization & Adversarial Training\n"
     ]
    },
    {
     "name": "stderr",
     "output_type": "stream",
     "text": [
      "/home/root/adversarial/Gal/models.py:416: FutureWarning: Using a non-tuple sequence for multidimensional indexing is deprecated; use `arr[tuple(seq)]` instead of `arr[seq]`. In the future this will be interpreted as an array index, `arr[np.array(seq)]`, which will result either in an error or a different result.\n",
      "  sample_X_train = X_train[[ind]] # X_train[[start_index,end_index]] ; this would let us take specific indices, so we can randomize the order, ensure each iteration is taking precisely unique samples\n",
      "/home/root/adversarial/Gal/models.py:417: FutureWarning: Using a non-tuple sequence for multidimensional indexing is deprecated; use `arr[tuple(seq)]` instead of `arr[seq]`. In the future this will be interpreted as an array index, `arr[np.array(seq)]`, which will result either in an error or a different result.\n",
      "  sample_Y_train = Y_train[[ind]]\n",
      "/usr/local/lib/python3.5/dist-packages/tensorflow_core/python/client/session.py:1750: UserWarning: An interactive session is already active. This can cause out-of-memory errors in some cases. You must explicitly call `InteractiveSession.close()` to release resources held by the other session(s).\n",
      "  warnings.warn('An interactive session is already active. This can '\n",
      "/home/root/adversarial/Gal/models.py:564: FutureWarning: Using a non-tuple sequence for multidimensional indexing is deprecated; use `arr[tuple(seq)]` instead of `arr[seq]`. In the future this will be interpreted as an array index, `arr[np.array(seq)]`, which will result either in an error or a different result.\n",
      "  sample_X_train = X_train[[ind]] # X_train[[start_index,end_index]] ; this would let us take specific indices, so we can randomize the order, ensure each iteration is taking precisely unique samples\n",
      "/home/root/adversarial/Gal/models.py:565: FutureWarning: Using a non-tuple sequence for multidimensional indexing is deprecated; use `arr[tuple(seq)]` instead of `arr[seq]`. In the future this will be interpreted as an array index, `arr[np.array(seq)]`, which will result either in an error or a different result.\n",
      "  sample_Y_train = Y_train[[ind]]\n"
     ]
    },
    {
     "name": "stdout",
     "output_type": "stream",
     "text": [
      "Epoch:0 | Train loss: 55.42 | Train acc: 0.813 | Test acc:0.104\n",
      "Epoch:1 | Train loss: 48.10 | Train acc: 0.829 | Test acc:0.112\n",
      "Epoch:2 | Train loss: 41.84 | Train acc: 0.839 | Test acc:0.080\n",
      "Epoch:3 | Train loss: 36.46 | Train acc: 0.846 | Test acc:0.087\n",
      "Epoch:4 | Train loss: 31.82 | Train acc: 0.846 | Test acc:0.063\n",
      "Epoch:5 | Train loss: 27.81 | Train acc: 0.847 | Test acc:0.074\n",
      "Epoch:6 | Train loss: 24.33 | Train acc: 0.850 | Test acc:0.074\n",
      "Epoch:7 | Train loss: 21.31 | Train acc: 0.848 | Test acc:0.079\n",
      "Epoch:8 | Train loss: 18.69 | Train acc: 0.849 | Test acc:0.077\n",
      "Epoch:9 | Train loss: 16.41 | Train acc: 0.847 | Test acc:0.086\n",
      "Epoch:10 | Train loss: 14.43 | Train acc: 0.850 | Test acc:0.075\n",
      "Epoch:11 | Train loss: 12.70 | Train acc: 0.848 | Test acc:0.081\n",
      "Epoch:12 | Train loss: 11.20 | Train acc: 0.848 | Test acc:0.090\n",
      "Epoch:13 | Train loss: 9.89 | Train acc: 0.850 | Test acc:0.098\n",
      "Without Dropout & Batch Normalization\n"
     ]
    },
    {
     "name": "stderr",
     "output_type": "stream",
     "text": [
      "/usr/local/lib/python3.5/dist-packages/tensorflow_core/python/client/session.py:1750: UserWarning: An interactive session is already active. This can cause out-of-memory errors in some cases. You must explicitly call `InteractiveSession.close()` to release resources held by the other session(s).\n",
      "  warnings.warn('An interactive session is already active. This can '\n"
     ]
    },
    {
     "name": "stdout",
     "output_type": "stream",
     "text": [
      "Epoch:0 | Train loss: 58.15 | Train acc: 0.945 | Test acc:0.101\n",
      "Epoch:1 | Train loss: 51.67 | Train acc: 0.973 | Test acc:0.109\n",
      "Epoch:2 | Train loss: 46.00 | Train acc: 0.986 | Test acc:0.100\n",
      "Epoch:3 | Train loss: 41.01 | Train acc: 0.990 | Test acc:0.102\n",
      "Epoch:4 | Train loss: 36.59 | Train acc: 0.994 | Test acc:0.095\n",
      "Epoch:5 | Train loss: 32.68 | Train acc: 0.995 | Test acc:0.084\n",
      "Epoch:6 | Train loss: 29.22 | Train acc: 0.996 | Test acc:0.087\n",
      "Epoch:7 | Train loss: 26.13 | Train acc: 0.997 | Test acc:0.096\n",
      "Epoch:8 | Train loss: 23.40 | Train acc: 0.997 | Test acc:0.092\n",
      "Epoch:9 | Train loss: 20.96 | Train acc: 0.998 | Test acc:0.076\n",
      "Epoch:10 | Train loss: 18.79 | Train acc: 0.998 | Test acc:0.097\n",
      "Epoch:11 | Train loss: 16.86 | Train acc: 0.998 | Test acc:0.092\n",
      "Epoch:12 | Train loss: 15.13 | Train acc: 0.998 | Test acc:0.103\n",
      "Epoch:13 | Train loss: 13.60 | Train acc: 0.998 | Test acc:0.098\n",
      "Without Dropout & Batch Normalization & Adversarial Training\n"
     ]
    },
    {
     "name": "stderr",
     "output_type": "stream",
     "text": [
      "/home/root/adversarial/Gal/models.py:416: FutureWarning: Using a non-tuple sequence for multidimensional indexing is deprecated; use `arr[tuple(seq)]` instead of `arr[seq]`. In the future this will be interpreted as an array index, `arr[np.array(seq)]`, which will result either in an error or a different result.\n",
      "  sample_X_train = X_train[[ind]] # X_train[[start_index,end_index]] ; this would let us take specific indices, so we can randomize the order, ensure each iteration is taking precisely unique samples\n",
      "/home/root/adversarial/Gal/models.py:417: FutureWarning: Using a non-tuple sequence for multidimensional indexing is deprecated; use `arr[tuple(seq)]` instead of `arr[seq]`. In the future this will be interpreted as an array index, `arr[np.array(seq)]`, which will result either in an error or a different result.\n",
      "  sample_Y_train = Y_train[[ind]]\n",
      "/usr/local/lib/python3.5/dist-packages/tensorflow_core/python/client/session.py:1750: UserWarning: An interactive session is already active. This can cause out-of-memory errors in some cases. You must explicitly call `InteractiveSession.close()` to release resources held by the other session(s).\n",
      "  warnings.warn('An interactive session is already active. This can '\n",
      "/home/root/adversarial/Gal/models.py:564: FutureWarning: Using a non-tuple sequence for multidimensional indexing is deprecated; use `arr[tuple(seq)]` instead of `arr[seq]`. In the future this will be interpreted as an array index, `arr[np.array(seq)]`, which will result either in an error or a different result.\n",
      "  sample_X_train = X_train[[ind]] # X_train[[start_index,end_index]] ; this would let us take specific indices, so we can randomize the order, ensure each iteration is taking precisely unique samples\n",
      "/home/root/adversarial/Gal/models.py:565: FutureWarning: Using a non-tuple sequence for multidimensional indexing is deprecated; use `arr[tuple(seq)]` instead of `arr[seq]`. In the future this will be interpreted as an array index, `arr[np.array(seq)]`, which will result either in an error or a different result.\n",
      "  sample_Y_train = Y_train[[ind]]\n"
     ]
    },
    {
     "name": "stdout",
     "output_type": "stream",
     "text": [
      "Epoch:0 | Train loss: 54.68 | Train acc: 0.810 | Test acc:0.102\n",
      "Epoch:1 | Train loss: 47.34 | Train acc: 0.834 | Test acc:0.091\n",
      "Epoch:2 | Train loss: 41.07 | Train acc: 0.840 | Test acc:0.088\n",
      "Epoch:3 | Train loss: 35.68 | Train acc: 0.844 | Test acc:0.106\n",
      "Epoch:4 | Train loss: 31.03 | Train acc: 0.845 | Test acc:0.100\n",
      "Epoch:5 | Train loss: 27.00 | Train acc: 0.848 | Test acc:0.084\n",
      "Epoch:6 | Train loss: 23.52 | Train acc: 0.847 | Test acc:0.090\n",
      "Epoch:7 | Train loss: 20.50 | Train acc: 0.848 | Test acc:0.084\n",
      "Epoch:8 | Train loss: 17.88 | Train acc: 0.850 | Test acc:0.080\n",
      "Epoch:9 | Train loss: 15.61 | Train acc: 0.851 | Test acc:0.096\n",
      "Epoch:10 | Train loss: 13.65 | Train acc: 0.848 | Test acc:0.097\n",
      "Epoch:11 | Train loss: 11.94 | Train acc: 0.848 | Test acc:0.104\n",
      "Epoch:12 | Train loss: 10.46 | Train acc: 0.848 | Test acc:0.108\n"
     ]
    },
    {
     "ename": "KeyboardInterrupt",
     "evalue": "",
     "output_type": "error",
     "traceback": [
      "\u001b[0;31m---------------------------------------------------------------------------\u001b[0m",
      "\u001b[0;31mKeyboardInterrupt\u001b[0m                         Traceback (most recent call last)",
      "\u001b[0;32m<ipython-input-5-5d4c17fee246>\u001b[0m in \u001b[0;36m<module>\u001b[0;34m\u001b[0m\n\u001b[1;32m      1\u001b[0m \u001b[0mNentropy_val_MLPat_1\u001b[0m \u001b[0;34m=\u001b[0m \u001b[0mensembling_expt\u001b[0m\u001b[0;34m(\u001b[0m\u001b[0;36m1\u001b[0m\u001b[0;34m,\u001b[0m \u001b[0mMNIST_X_train\u001b[0m\u001b[0;34m,\u001b[0m \u001b[0mMNIST_Y_train\u001b[0m\u001b[0;34m,\u001b[0m \u001b[0mnotMNIST_X_val\u001b[0m\u001b[0;34m,\u001b[0m \u001b[0mnotMNIST_Y_val\u001b[0m\u001b[0;34m,\u001b[0m \u001b[0mnotMNIST_X_test\u001b[0m\u001b[0;34m,\u001b[0m \u001b[0mnotMNIST_Y_test\u001b[0m\u001b[0;34m,\u001b[0m \u001b[0mmodels\u001b[0m\u001b[0;34m.\u001b[0m\u001b[0mMLP_adversarialtraining\u001b[0m\u001b[0;34m)\u001b[0m\u001b[0;34m\u001b[0m\u001b[0m\n\u001b[0;32m----> 2\u001b[0;31m \u001b[0mNentropy_val_MLPat_5\u001b[0m \u001b[0;34m=\u001b[0m \u001b[0mensembling_expt\u001b[0m\u001b[0;34m(\u001b[0m\u001b[0;36m5\u001b[0m\u001b[0;34m,\u001b[0m \u001b[0mMNIST_X_train\u001b[0m\u001b[0;34m,\u001b[0m \u001b[0mMNIST_Y_train\u001b[0m\u001b[0;34m,\u001b[0m \u001b[0mnotMNIST_X_val\u001b[0m\u001b[0;34m,\u001b[0m \u001b[0mnotMNIST_Y_val\u001b[0m\u001b[0;34m,\u001b[0m \u001b[0mnotMNIST_X_test\u001b[0m\u001b[0;34m,\u001b[0m \u001b[0mnotMNIST_Y_test\u001b[0m\u001b[0;34m,\u001b[0m \u001b[0mmodels\u001b[0m\u001b[0;34m.\u001b[0m\u001b[0mMLP_adversarialtraining\u001b[0m\u001b[0;34m)\u001b[0m\u001b[0;34m\u001b[0m\u001b[0m\n\u001b[0m\u001b[1;32m      3\u001b[0m \u001b[0mNentropy_val_MLPat_10\u001b[0m \u001b[0;34m=\u001b[0m \u001b[0mensembling_expt\u001b[0m\u001b[0;34m(\u001b[0m\u001b[0;36m10\u001b[0m\u001b[0;34m,\u001b[0m \u001b[0mMNIST_X_train\u001b[0m\u001b[0;34m,\u001b[0m \u001b[0mMNIST_Y_train\u001b[0m\u001b[0;34m,\u001b[0m \u001b[0mnotMNIST_X_val\u001b[0m\u001b[0;34m,\u001b[0m \u001b[0mnotMNIST_Y_val\u001b[0m\u001b[0;34m,\u001b[0m \u001b[0mnotMNIST_X_test\u001b[0m\u001b[0;34m,\u001b[0m \u001b[0mnotMNIST_Y_test\u001b[0m\u001b[0;34m,\u001b[0m \u001b[0mmodels\u001b[0m\u001b[0;34m.\u001b[0m\u001b[0mMLP_adversarialtraining\u001b[0m\u001b[0;34m)\u001b[0m\u001b[0;34m\u001b[0m\u001b[0m\n\u001b[1;32m      4\u001b[0m \u001b[0;34m\u001b[0m\u001b[0m\n\u001b[1;32m      5\u001b[0m \u001b[0;32mimport\u001b[0m \u001b[0mmatplotlib\u001b[0m\u001b[0;34m.\u001b[0m\u001b[0mpyplot\u001b[0m \u001b[0;32mas\u001b[0m \u001b[0mplt\u001b[0m\u001b[0;34m\u001b[0m\u001b[0m\n",
      "\u001b[0;32m<ipython-input-4-cea88605c474>\u001b[0m in \u001b[0;36mensembling_expt\u001b[0;34m(M, MNIST_X_train, MNIST_Y_train, MNIST_X_val, MNIST_Y_val, MNIST_X_test, MNIST_Y_test, model_function)\u001b[0m\n\u001b[1;32m      9\u001b[0m \u001b[0;31m#         model_function = models.MLP()\u001b[0m\u001b[0;34m\u001b[0m\u001b[0;34m\u001b[0m\u001b[0m\n\u001b[1;32m     10\u001b[0m \u001b[0;31m#         pred = models.MLP(X_train, Y_train, MNIST_X_val, MNIST_Y_val, MNIST_X_test, MNIST_Y_test)\u001b[0m\u001b[0;34m\u001b[0m\u001b[0;34m\u001b[0m\u001b[0m\n\u001b[0;32m---> 11\u001b[0;31m         \u001b[0mpred\u001b[0m \u001b[0;34m=\u001b[0m \u001b[0mmodel_function\u001b[0m\u001b[0;34m(\u001b[0m\u001b[0mX_train\u001b[0m\u001b[0;34m,\u001b[0m \u001b[0mY_train\u001b[0m\u001b[0;34m,\u001b[0m \u001b[0mMNIST_X_val\u001b[0m\u001b[0;34m,\u001b[0m \u001b[0mMNIST_Y_val\u001b[0m\u001b[0;34m,\u001b[0m \u001b[0mMNIST_X_test\u001b[0m\u001b[0;34m,\u001b[0m \u001b[0mMNIST_Y_test\u001b[0m\u001b[0;34m)\u001b[0m\u001b[0;34m\u001b[0m\u001b[0m\n\u001b[0m\u001b[1;32m     12\u001b[0m         \u001b[0mprediction_storage\u001b[0m\u001b[0;34m.\u001b[0m\u001b[0mappend\u001b[0m\u001b[0;34m(\u001b[0m\u001b[0mpred\u001b[0m\u001b[0;34m)\u001b[0m\u001b[0;34m\u001b[0m\u001b[0m\n\u001b[1;32m     13\u001b[0m \u001b[0;34m\u001b[0m\u001b[0m\n",
      "\u001b[0;32m/home/root/adversarial/Gal/models.py\u001b[0m in \u001b[0;36mMLP_adversarialtraining\u001b[0;34m(X_train, Y_train, X_val, Y_val, X_test, Y_test)\u001b[0m\n\u001b[1;32m    573\u001b[0m         \u001b[0;32mfor\u001b[0m \u001b[0mindex\u001b[0m \u001b[0;32min\u001b[0m \u001b[0mrange\u001b[0m\u001b[0;34m(\u001b[0m\u001b[0;36m0\u001b[0m\u001b[0;34m,\u001b[0m\u001b[0madv_combined_X_train\u001b[0m\u001b[0;34m.\u001b[0m\u001b[0mshape\u001b[0m\u001b[0;34m[\u001b[0m\u001b[0;36m0\u001b[0m\u001b[0;34m]\u001b[0m\u001b[0;34m,\u001b[0m\u001b[0mbatch_size\u001b[0m\u001b[0;34m)\u001b[0m\u001b[0;34m:\u001b[0m\u001b[0;34m\u001b[0m\u001b[0m\n\u001b[1;32m    574\u001b[0m             s.run(optimizer, {input_X: adv_combined_X_train[arr[index:index+batch_size]],\n\u001b[0;32m--> 575\u001b[0;31m                               input_Y: adv_combined_Y_train[arr[index:index+batch_size]]})\n\u001b[0m\u001b[1;32m    576\u001b[0m \u001b[0;34m\u001b[0m\u001b[0m\n\u001b[1;32m    577\u001b[0m     \u001b[0;31m#         vars_with_grads = s.run(grads, feed_dict={input_X: X_train[arr[index:index+batch_size]],\u001b[0m\u001b[0;34m\u001b[0m\u001b[0;34m\u001b[0m\u001b[0m\n",
      "\u001b[0;32m/usr/local/lib/python3.5/dist-packages/tensorflow_core/python/client/session.py\u001b[0m in \u001b[0;36mrun\u001b[0;34m(self, fetches, feed_dict, options, run_metadata)\u001b[0m\n\u001b[1;32m    954\u001b[0m     \u001b[0;32mtry\u001b[0m\u001b[0;34m:\u001b[0m\u001b[0;34m\u001b[0m\u001b[0m\n\u001b[1;32m    955\u001b[0m       result = self._run(None, fetches, feed_dict, options_ptr,\n\u001b[0;32m--> 956\u001b[0;31m                          run_metadata_ptr)\n\u001b[0m\u001b[1;32m    957\u001b[0m       \u001b[0;32mif\u001b[0m \u001b[0mrun_metadata\u001b[0m\u001b[0;34m:\u001b[0m\u001b[0;34m\u001b[0m\u001b[0m\n\u001b[1;32m    958\u001b[0m         \u001b[0mproto_data\u001b[0m \u001b[0;34m=\u001b[0m \u001b[0mtf_session\u001b[0m\u001b[0;34m.\u001b[0m\u001b[0mTF_GetBuffer\u001b[0m\u001b[0;34m(\u001b[0m\u001b[0mrun_metadata_ptr\u001b[0m\u001b[0;34m)\u001b[0m\u001b[0;34m\u001b[0m\u001b[0m\n",
      "\u001b[0;32m/usr/local/lib/python3.5/dist-packages/tensorflow_core/python/client/session.py\u001b[0m in \u001b[0;36m_run\u001b[0;34m(self, handle, fetches, feed_dict, options, run_metadata)\u001b[0m\n\u001b[1;32m   1178\u001b[0m     \u001b[0;32mif\u001b[0m \u001b[0mfinal_fetches\u001b[0m \u001b[0;32mor\u001b[0m \u001b[0mfinal_targets\u001b[0m \u001b[0;32mor\u001b[0m \u001b[0;34m(\u001b[0m\u001b[0mhandle\u001b[0m \u001b[0;32mand\u001b[0m \u001b[0mfeed_dict_tensor\u001b[0m\u001b[0;34m)\u001b[0m\u001b[0;34m:\u001b[0m\u001b[0;34m\u001b[0m\u001b[0m\n\u001b[1;32m   1179\u001b[0m       results = self._do_run(handle, final_targets, final_fetches,\n\u001b[0;32m-> 1180\u001b[0;31m                              feed_dict_tensor, options, run_metadata)\n\u001b[0m\u001b[1;32m   1181\u001b[0m     \u001b[0;32melse\u001b[0m\u001b[0;34m:\u001b[0m\u001b[0;34m\u001b[0m\u001b[0m\n\u001b[1;32m   1182\u001b[0m       \u001b[0mresults\u001b[0m \u001b[0;34m=\u001b[0m \u001b[0;34m[\u001b[0m\u001b[0;34m]\u001b[0m\u001b[0;34m\u001b[0m\u001b[0m\n",
      "\u001b[0;32m/usr/local/lib/python3.5/dist-packages/tensorflow_core/python/client/session.py\u001b[0m in \u001b[0;36m_do_run\u001b[0;34m(self, handle, target_list, fetch_list, feed_dict, options, run_metadata)\u001b[0m\n\u001b[1;32m   1357\u001b[0m     \u001b[0;32mif\u001b[0m \u001b[0mhandle\u001b[0m \u001b[0;32mis\u001b[0m \u001b[0;32mNone\u001b[0m\u001b[0;34m:\u001b[0m\u001b[0;34m\u001b[0m\u001b[0m\n\u001b[1;32m   1358\u001b[0m       return self._do_call(_run_fn, feeds, fetches, targets, options,\n\u001b[0;32m-> 1359\u001b[0;31m                            run_metadata)\n\u001b[0m\u001b[1;32m   1360\u001b[0m     \u001b[0;32melse\u001b[0m\u001b[0;34m:\u001b[0m\u001b[0;34m\u001b[0m\u001b[0m\n\u001b[1;32m   1361\u001b[0m       \u001b[0;32mreturn\u001b[0m \u001b[0mself\u001b[0m\u001b[0;34m.\u001b[0m\u001b[0m_do_call\u001b[0m\u001b[0;34m(\u001b[0m\u001b[0m_prun_fn\u001b[0m\u001b[0;34m,\u001b[0m \u001b[0mhandle\u001b[0m\u001b[0;34m,\u001b[0m \u001b[0mfeeds\u001b[0m\u001b[0;34m,\u001b[0m \u001b[0mfetches\u001b[0m\u001b[0;34m)\u001b[0m\u001b[0;34m\u001b[0m\u001b[0m\n",
      "\u001b[0;32m/usr/local/lib/python3.5/dist-packages/tensorflow_core/python/client/session.py\u001b[0m in \u001b[0;36m_do_call\u001b[0;34m(self, fn, *args)\u001b[0m\n\u001b[1;32m   1363\u001b[0m   \u001b[0;32mdef\u001b[0m \u001b[0m_do_call\u001b[0m\u001b[0;34m(\u001b[0m\u001b[0mself\u001b[0m\u001b[0;34m,\u001b[0m \u001b[0mfn\u001b[0m\u001b[0;34m,\u001b[0m \u001b[0;34m*\u001b[0m\u001b[0margs\u001b[0m\u001b[0;34m)\u001b[0m\u001b[0;34m:\u001b[0m\u001b[0;34m\u001b[0m\u001b[0m\n\u001b[1;32m   1364\u001b[0m     \u001b[0;32mtry\u001b[0m\u001b[0;34m:\u001b[0m\u001b[0;34m\u001b[0m\u001b[0m\n\u001b[0;32m-> 1365\u001b[0;31m       \u001b[0;32mreturn\u001b[0m \u001b[0mfn\u001b[0m\u001b[0;34m(\u001b[0m\u001b[0;34m*\u001b[0m\u001b[0margs\u001b[0m\u001b[0;34m)\u001b[0m\u001b[0;34m\u001b[0m\u001b[0m\n\u001b[0m\u001b[1;32m   1366\u001b[0m     \u001b[0;32mexcept\u001b[0m \u001b[0merrors\u001b[0m\u001b[0;34m.\u001b[0m\u001b[0mOpError\u001b[0m \u001b[0;32mas\u001b[0m \u001b[0me\u001b[0m\u001b[0;34m:\u001b[0m\u001b[0;34m\u001b[0m\u001b[0m\n\u001b[1;32m   1367\u001b[0m       \u001b[0mmessage\u001b[0m \u001b[0;34m=\u001b[0m \u001b[0mcompat\u001b[0m\u001b[0;34m.\u001b[0m\u001b[0mas_text\u001b[0m\u001b[0;34m(\u001b[0m\u001b[0me\u001b[0m\u001b[0;34m.\u001b[0m\u001b[0mmessage\u001b[0m\u001b[0;34m)\u001b[0m\u001b[0;34m\u001b[0m\u001b[0m\n",
      "\u001b[0;32m/usr/local/lib/python3.5/dist-packages/tensorflow_core/python/client/session.py\u001b[0m in \u001b[0;36m_run_fn\u001b[0;34m(feed_dict, fetch_list, target_list, options, run_metadata)\u001b[0m\n\u001b[1;32m   1348\u001b[0m       \u001b[0mself\u001b[0m\u001b[0;34m.\u001b[0m\u001b[0m_extend_graph\u001b[0m\u001b[0;34m(\u001b[0m\u001b[0;34m)\u001b[0m\u001b[0;34m\u001b[0m\u001b[0m\n\u001b[1;32m   1349\u001b[0m       return self._call_tf_sessionrun(options, feed_dict, fetch_list,\n\u001b[0;32m-> 1350\u001b[0;31m                                       target_list, run_metadata)\n\u001b[0m\u001b[1;32m   1351\u001b[0m \u001b[0;34m\u001b[0m\u001b[0m\n\u001b[1;32m   1352\u001b[0m     \u001b[0;32mdef\u001b[0m \u001b[0m_prun_fn\u001b[0m\u001b[0;34m(\u001b[0m\u001b[0mhandle\u001b[0m\u001b[0;34m,\u001b[0m \u001b[0mfeed_dict\u001b[0m\u001b[0;34m,\u001b[0m \u001b[0mfetch_list\u001b[0m\u001b[0;34m)\u001b[0m\u001b[0;34m:\u001b[0m\u001b[0;34m\u001b[0m\u001b[0m\n",
      "\u001b[0;32m/usr/local/lib/python3.5/dist-packages/tensorflow_core/python/client/session.py\u001b[0m in \u001b[0;36m_call_tf_sessionrun\u001b[0;34m(self, options, feed_dict, fetch_list, target_list, run_metadata)\u001b[0m\n\u001b[1;32m   1441\u001b[0m     return tf_session.TF_SessionRun_wrapper(self._session, options, feed_dict,\n\u001b[1;32m   1442\u001b[0m                                             \u001b[0mfetch_list\u001b[0m\u001b[0;34m,\u001b[0m \u001b[0mtarget_list\u001b[0m\u001b[0;34m,\u001b[0m\u001b[0;34m\u001b[0m\u001b[0m\n\u001b[0;32m-> 1443\u001b[0;31m                                             run_metadata)\n\u001b[0m\u001b[1;32m   1444\u001b[0m \u001b[0;34m\u001b[0m\u001b[0m\n\u001b[1;32m   1445\u001b[0m   \u001b[0;32mdef\u001b[0m \u001b[0m_call_tf_sessionprun\u001b[0m\u001b[0;34m(\u001b[0m\u001b[0mself\u001b[0m\u001b[0;34m,\u001b[0m \u001b[0mhandle\u001b[0m\u001b[0;34m,\u001b[0m \u001b[0mfeed_dict\u001b[0m\u001b[0;34m,\u001b[0m \u001b[0mfetch_list\u001b[0m\u001b[0;34m)\u001b[0m\u001b[0;34m:\u001b[0m\u001b[0;34m\u001b[0m\u001b[0m\n",
      "\u001b[0;31mKeyboardInterrupt\u001b[0m: "
     ]
    }
   ],
   "source": [
    "Nentropy_val_MLPat_1 = ensembling_expt(1, MNIST_X_train, MNIST_Y_train, notMNIST_X_val, notMNIST_Y_val, notMNIST_X_test, notMNIST_Y_test, models.MLP_adversarialtraining)\n",
    "Nentropy_val_MLPat_5 = ensembling_expt(5, MNIST_X_train, MNIST_Y_train, notMNIST_X_val, notMNIST_Y_val, notMNIST_X_test, notMNIST_Y_test, models.MLP_adversarialtraining)\n",
    "Nentropy_val_MLPat_10 = ensembling_expt(10, MNIST_X_train, MNIST_Y_train, notMNIST_X_val, notMNIST_Y_val, notMNIST_X_test, notMNIST_Y_test, models.MLP_adversarialtraining)\n",
    "\n",
    "import matplotlib.pyplot as plt\n",
    "%matplotlib inline\n",
    "plt.hist(Nentropy_val_MLPat_1, normed=True, bins=300, label = '1')\n",
    "plt.hist(Nentropy_val_MLPat_5, normed=True, bins=300, label = '5')\n",
    "plt.hist(Nentropy_val_MLPat_10, normed=True, bins=300, label = '10')\n",
    "plt.xlabel('Entropy values')\n",
    "plt.title(\"Ensemble+AT - notMNIST\")\n",
    "plt.legend()\n",
    "plt.show()"
   ]
  },
  {
   "cell_type": "code",
   "execution_count": null,
   "metadata": {
    "scrolled": true
   },
   "outputs": [
    {
     "name": "stderr",
     "output_type": "stream",
     "text": [
      "/usr/local/lib/python3.5/dist-packages/ipykernel_launcher.py:13: FutureWarning: Using a non-tuple sequence for multidimensional indexing is deprecated; use `arr[tuple(seq)]` instead of `arr[seq]`. In the future this will be interpreted as an array index, `arr[np.array(seq)]`, which will result either in an error or a different result.\n",
      "  del sys.path[0]\n",
      "/usr/local/lib/python3.5/dist-packages/ipykernel_launcher.py:14: FutureWarning: Using a non-tuple sequence for multidimensional indexing is deprecated; use `arr[tuple(seq)]` instead of `arr[seq]`. In the future this will be interpreted as an array index, `arr[np.array(seq)]`, which will result either in an error or a different result.\n",
      "  \n"
     ]
    },
    {
     "name": "stdout",
     "output_type": "stream",
     "text": [
      "With Dropout & Batch Normalization\n"
     ]
    },
    {
     "name": "stderr",
     "output_type": "stream",
     "text": [
      "WARNING: Logging before flag parsing goes to stderr.\n",
      "W0212 03:20:45.652128 140392798648064 module_wrapper.py:139] From /home/root/adversarial/Gal/models.py:158: The name tf.InteractiveSession is deprecated. Please use tf.compat.v1.InteractiveSession instead.\n",
      "\n",
      "W0212 03:20:47.866004 140392798648064 module_wrapper.py:139] From /home/root/adversarial/Gal/models.py:171: The name tf.placeholder is deprecated. Please use tf.compat.v1.placeholder instead.\n",
      "\n",
      "W0212 03:20:47.870998 140392798648064 module_wrapper.py:139] From /home/root/adversarial/Gal/models.py:177: The name tf.random_normal is deprecated. Please use tf.random.normal instead.\n",
      "\n",
      "W0212 03:20:47.958550 140392798648064 deprecation.py:506] From /home/root/adversarial/Gal/models.py:192: calling dropout (from tensorflow.python.ops.nn_ops) with keep_prob is deprecated and will be removed in a future version.\n",
      "Instructions for updating:\n",
      "Please use `rate` instead of `keep_prob`. Rate should be set to `rate = 1 - keep_prob`.\n",
      "W0212 03:20:48.070690 140392798648064 module_wrapper.py:139] From /home/root/adversarial/Gal/models.py:216: The name tf.train.exponential_decay is deprecated. Please use tf.compat.v1.train.exponential_decay instead.\n",
      "\n",
      "W0212 03:20:48.078871 140392798648064 module_wrapper.py:139] From /home/root/adversarial/Gal/models.py:218: The name tf.train.AdamOptimizer is deprecated. Please use tf.compat.v1.train.AdamOptimizer instead.\n",
      "\n",
      "W0212 03:20:48.578149 140392798648064 module_wrapper.py:139] From /home/root/adversarial/Gal/models.py:232: The name tf.global_variables_initializer is deprecated. Please use tf.compat.v1.global_variables_initializer instead.\n",
      "\n"
     ]
    },
    {
     "name": "stdout",
     "output_type": "stream",
     "text": [
      "Epoch:0 | Train loss: 28.40 | Train acc: 0.947 | Test acc:0.130\n"
     ]
    }
   ],
   "source": [
    "# M in MC dropout refers to number of MC dropout samples; since we're sampling different sets of indices, sort of sampling~\n",
    "\n",
    "Nentropy_val_MLPmc_1 = ensembling_expt(1, MNIST_X_train, MNIST_Y_train, notMNIST_X_val, notMNIST_Y_val, notMNIST_X_test, notMNIST_Y_test, models.MCDropout)\n",
    "Nentropy_val_MLPmc_5 = ensembling_expt(5, MNIST_X_train, MNIST_Y_train, notMNIST_X_val, notMNIST_Y_val, notMNIST_X_test, notMNIST_Y_test, models.MCDropout)\n",
    "Nentropy_val_MLPmc_10 = ensembling_expt(10, MNIST_X_train, MNIST_Y_train, notMNIST_X_val, notMNIST_Y_val, notMNIST_X_test, notMNIST_Y_test, models.MCDropout)\n",
    "\n",
    "import matplotlib.pyplot as plt\n",
    "%matplotlib inline\n",
    "plt.hist(Nentropy_val_MLPmc_1, normed=True, bins=300, label = '1')\n",
    "plt.hist(Nentropy_val_MLPmc_5, normed=True, bins=300, label = '5')\n",
    "plt.hist(Nentropy_val_MLPmc_10, normed=True, bins=300, label = '10')\n",
    "plt.xlabel('Entropy values')\n",
    "plt.title(\"MC Dropout 0.1 - notMNIST\")\n",
    "plt.legend()\n",
    "plt.show()"
   ]
  },
  {
   "cell_type": "code",
   "execution_count": null,
   "metadata": {},
   "outputs": [],
   "source": [
    "# entropy_val_MLP_1, acc_MLP_1\n",
    "# entropy_val_MLP_5, acc_MLP_5\n",
    "# entropy_val_MLP_10, acc_MLP_10\n",
    "# entropy_val_MLPr_1, acc_MLPr_1\n",
    "# entropy_val_MLPr_5, acc_MLPr_5\n",
    "# entropy_val_MLPr_10, acc_MLPr_10\n",
    "# entropy_val_MLPat_1, acc_MLPat_1\n",
    "# entropy_val_MLPat_5, acc_MLPat_5\n",
    "# entropy_val_MLPat_10, acc_MLPat_10\n",
    "# entropy_val_MLPmc_1, acc_MLPmc_1\n",
    "# entropy_val_MLPmc_5, acc_MLPmc_5\n",
    "# entropy_val_MLPmc_10, acc_MLPmc_10\n",
    "# Nentropy_val_MLP_1, Nacc_MLP_1\n",
    "# Nentropy_val_MLP_5, Nacc_MLP_5\n",
    "# Nentropy_val_MLP_10, Nacc_MLP_10\n",
    "# Nentropy_val_MLPr_1, Nacc_MLPr_1\n",
    "# Nentropy_val_MLPr_5, Nacc_MLPr_5\n",
    "# Nentropy_val_MLPr_10, Nacc_MLPr_10\n",
    "# Nentropy_val_MLPat_1, Nacc_MLPat_1\n",
    "# Nentropy_val_MLPat_5, Nacc_MLPat_5 \n",
    "# Nentropy_val_MLPat_10, Nacc_MLPat_10\n",
    "# Nentropy_val_MLPmc_1, Nacc_MLPmc_1\n",
    "# Nentropy_val_MLPmc_5, Nacc_MLPmc_5\n",
    "# Nentropy_val_MLPmc_10, Nacc_MLPmc_10"
   ]
  },
  {
   "cell_type": "code",
   "execution_count": null,
   "metadata": {},
   "outputs": [],
   "source": []
  },
  {
   "cell_type": "code",
   "execution_count": null,
   "metadata": {},
   "outputs": [],
   "source": []
  },
  {
   "cell_type": "code",
   "execution_count": null,
   "metadata": {},
   "outputs": [],
   "source": []
  }
 ],
 "metadata": {
  "kernelspec": {
   "display_name": "Python 3",
   "language": "python",
   "name": "python3"
  },
  "language_info": {
   "codemirror_mode": {
    "name": "ipython",
    "version": 3
   },
   "file_extension": ".py",
   "mimetype": "text/x-python",
   "name": "python",
   "nbconvert_exporter": "python",
   "pygments_lexer": "ipython3",
   "version": "3.5.2"
  }
 },
 "nbformat": 4,
 "nbformat_minor": 2
}
