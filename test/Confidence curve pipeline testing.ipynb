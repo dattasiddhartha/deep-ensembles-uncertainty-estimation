{
 "cells": [
  {
   "cell_type": "markdown",
   "metadata": {},
   "source": [
    "Accuracy vs Confidence plot\n",
    "\n",
    "Not completely sure, but one possible way to generate the accuracy Vs confidence curve is to\n",
    "1. Take a sample of test inputs\n",
    "2. Pass it into model for prediction\n",
    "3. Get average confidence (using the max function below)\n",
    "4. Get accuracy between prediction and test set\n",
    "5. Repeat for more samples until you can plot curve\n",
    "\n",
    "[Reference](https://arxiv.org/pdf/1802.04865.pdf)"
   ]
  },
  {
   "cell_type": "code",
   "execution_count": null,
   "metadata": {},
   "outputs": [],
   "source": [
    "# max(prediction[9]) # apparently this is defined as confidence by the paper??"
   ]
  },
  {
   "cell_type": "code",
   "execution_count": null,
   "metadata": {},
   "outputs": [],
   "source": []
  },
  {
   "cell_type": "code",
   "execution_count": 1,
   "metadata": {},
   "outputs": [
    {
     "name": "stderr",
     "output_type": "stream",
     "text": [
      "Using TensorFlow backend.\n"
     ]
    }
   ],
   "source": [
    "from __future__ import print_function\n",
    "import numpy as np\n",
    "import matplotlib as mpl\n",
    "import matplotlib.pyplot as plt\n",
    "import pandas as pd\n",
    "from keras.datasets import mnist\n",
    "from keras.models import Sequential\n",
    "from keras.layers.core import Dense, Dropout, Activation\n",
    "from keras.optimizers import RMSprop\n",
    "from keras.utils import np_utils\n",
    "import numpy as np\n",
    "from six.moves import cPickle as pickle\n",
    "from six.moves import range\n",
    "import os\n",
    "import keras\n",
    "from sklearn.preprocessing import LabelBinarizer\n",
    "import matplotlib.pyplot as plt\n",
    "import os\n",
    "import pickle\n",
    "import random\n",
    "\n",
    "import load_data\n",
    "import models"
   ]
  },
  {
   "cell_type": "code",
   "execution_count": 2,
   "metadata": {},
   "outputs": [
    {
     "name": "stdout",
     "output_type": "stream",
     "text": [
      "notMNIST\n",
      "20000 train samples\n",
      "1000 valid samples\n",
      "1000 test samples\n",
      "MNIST\n",
      "Train labels dimension:\n",
      "(50000, 10)\n",
      "Test labels dimension:\n",
      "(10000, 10)\n"
     ]
    }
   ],
   "source": [
    "print(\"notMNIST\")\n",
    "notMNIST_X_train, notMNIST_Y_train, notMNIST_X_val, notMNIST_Y_val, notMNIST_X_test, notMNIST_Y_test = load_data.data_notMNIST()\n",
    "print(\"MNIST\")\n",
    "MNIST_X_train, MNIST_Y_train, MNIST_X_val, MNIST_Y_val, MNIST_X_test, MNIST_Y_test = load_data.data_MNIST()"
   ]
  },
  {
   "cell_type": "code",
   "execution_count": 5,
   "metadata": {
    "scrolled": true
   },
   "outputs": [
    {
     "name": "stderr",
     "output_type": "stream",
     "text": [
      "/usr/local/lib/python3.5/dist-packages/ipykernel_launcher.py:13: FutureWarning: Using a non-tuple sequence for multidimensional indexing is deprecated; use `arr[tuple(seq)]` instead of `arr[seq]`. In the future this will be interpreted as an array index, `arr[np.array(seq)]`, which will result either in an error or a different result.\n",
      "  del sys.path[0]\n",
      "/usr/local/lib/python3.5/dist-packages/ipykernel_launcher.py:14: FutureWarning: Using a non-tuple sequence for multidimensional indexing is deprecated; use `arr[tuple(seq)]` instead of `arr[seq]`. In the future this will be interpreted as an array index, `arr[np.array(seq)]`, which will result either in an error or a different result.\n",
      "  \n",
      "WARNING: Logging before flag parsing goes to stderr.\n",
      "W0212 00:25:17.141946 140388563654400 module_wrapper.py:139] From /home/root/adversarial/Gal/models.py:29: The name tf.InteractiveSession is deprecated. Please use tf.compat.v1.InteractiveSession instead.\n",
      "\n"
     ]
    },
    {
     "name": "stdout",
     "output_type": "stream",
     "text": [
      "Without Dropout, Vanilla MLP\n"
     ]
    },
    {
     "name": "stderr",
     "output_type": "stream",
     "text": [
      "W0212 00:25:19.379404 140388563654400 module_wrapper.py:139] From /home/root/adversarial/Gal/models.py:42: The name tf.placeholder is deprecated. Please use tf.compat.v1.placeholder instead.\n",
      "\n",
      "W0212 00:25:19.383598 140388563654400 module_wrapper.py:139] From /home/root/adversarial/Gal/models.py:48: The name tf.random_normal is deprecated. Please use tf.random.normal instead.\n",
      "\n",
      "W0212 00:25:19.492512 140388563654400 module_wrapper.py:139] From /home/root/adversarial/Gal/models.py:79: The name tf.train.exponential_decay is deprecated. Please use tf.compat.v1.train.exponential_decay instead.\n",
      "\n",
      "W0212 00:25:19.500962 140388563654400 module_wrapper.py:139] From /home/root/adversarial/Gal/models.py:81: The name tf.train.AdamOptimizer is deprecated. Please use tf.compat.v1.train.AdamOptimizer instead.\n",
      "\n",
      "W0212 00:25:19.736623 140388563654400 module_wrapper.py:139] From /home/root/adversarial/Gal/models.py:95: The name tf.global_variables_initializer is deprecated. Please use tf.compat.v1.global_variables_initializer instead.\n",
      "\n"
     ]
    },
    {
     "name": "stdout",
     "output_type": "stream",
     "text": [
      "Epoch:0 | Train loss: 64.03 | Train acc: 0.710 | Test acc:0.711\n",
      "Epoch:1 | Train loss: 61.95 | Train acc: 0.783 | Test acc:0.788\n",
      "Epoch:2 | Train loss: 60.06 | Train acc: 0.837 | Test acc:0.834\n",
      "Epoch:3 | Train loss: 58.26 | Train acc: 0.841 | Test acc:0.835\n",
      "Epoch:4 | Train loss: 56.54 | Train acc: 0.826 | Test acc:0.814\n",
      "Epoch:5 | Train loss: 54.87 | Train acc: 0.894 | Test acc:0.871\n",
      "Epoch:6 | Train loss: 53.27 | Train acc: 0.910 | Test acc:0.884\n",
      "Epoch:7 | Train loss: 51.72 | Train acc: 0.921 | Test acc:0.883\n",
      "Epoch:8 | Train loss: 50.22 | Train acc: 0.926 | Test acc:0.895\n",
      "Epoch:9 | Train loss: 48.77 | Train acc: 0.930 | Test acc:0.892\n",
      "Epoch:10 | Train loss: 47.36 | Train acc: 0.948 | Test acc:0.906\n",
      "Epoch:11 | Train loss: 45.99 | Train acc: 0.956 | Test acc:0.914\n",
      "Epoch:12 | Train loss: 44.68 | Train acc: 0.960 | Test acc:0.910\n",
      "Epoch:13 | Train loss: 43.40 | Train acc: 0.964 | Test acc:0.913\n",
      "Without Dropout, Vanilla MLP\n"
     ]
    },
    {
     "name": "stderr",
     "output_type": "stream",
     "text": [
      "/usr/local/lib/python3.5/dist-packages/tensorflow_core/python/client/session.py:1750: UserWarning: An interactive session is already active. This can cause out-of-memory errors in some cases. You must explicitly call `InteractiveSession.close()` to release resources held by the other session(s).\n",
      "  warnings.warn('An interactive session is already active. This can '\n"
     ]
    },
    {
     "name": "stdout",
     "output_type": "stream",
     "text": [
      "Epoch:0 | Train loss: 58.82 | Train acc: 0.678 | Test acc:0.690\n",
      "Epoch:1 | Train loss: 56.77 | Train acc: 0.750 | Test acc:0.743\n",
      "Epoch:2 | Train loss: 54.96 | Train acc: 0.819 | Test acc:0.812\n",
      "Epoch:3 | Train loss: 53.25 | Train acc: 0.841 | Test acc:0.829\n",
      "Epoch:4 | Train loss: 51.61 | Train acc: 0.888 | Test acc:0.867\n",
      "Epoch:5 | Train loss: 50.03 | Train acc: 0.885 | Test acc:0.861\n",
      "Epoch:6 | Train loss: 48.51 | Train acc: 0.870 | Test acc:0.845\n",
      "Epoch:7 | Train loss: 47.05 | Train acc: 0.863 | Test acc:0.824\n",
      "Epoch:8 | Train loss: 45.63 | Train acc: 0.918 | Test acc:0.888\n",
      "Epoch:9 | Train loss: 44.26 | Train acc: 0.927 | Test acc:0.888\n",
      "Epoch:10 | Train loss: 42.93 | Train acc: 0.958 | Test acc:0.911\n",
      "Epoch:11 | Train loss: 41.65 | Train acc: 0.962 | Test acc:0.911\n",
      "Epoch:12 | Train loss: 40.41 | Train acc: 0.968 | Test acc:0.910\n",
      "Epoch:13 | Train loss: 39.21 | Train acc: 0.966 | Test acc:0.911\n",
      "Without Dropout, Vanilla MLP\n"
     ]
    },
    {
     "name": "stderr",
     "output_type": "stream",
     "text": [
      "/usr/local/lib/python3.5/dist-packages/tensorflow_core/python/client/session.py:1750: UserWarning: An interactive session is already active. This can cause out-of-memory errors in some cases. You must explicitly call `InteractiveSession.close()` to release resources held by the other session(s).\n",
      "  warnings.warn('An interactive session is already active. This can '\n"
     ]
    },
    {
     "name": "stdout",
     "output_type": "stream",
     "text": [
      "Epoch:0 | Train loss: 51.72 | Train acc: 0.725 | Test acc:0.746\n",
      "Epoch:1 | Train loss: 49.80 | Train acc: 0.798 | Test acc:0.796\n",
      "Epoch:2 | Train loss: 48.11 | Train acc: 0.869 | Test acc:0.857\n",
      "Epoch:3 | Train loss: 46.51 | Train acc: 0.886 | Test acc:0.868\n",
      "Epoch:4 | Train loss: 44.98 | Train acc: 0.914 | Test acc:0.889\n",
      "Epoch:5 | Train loss: 43.52 | Train acc: 0.914 | Test acc:0.887\n",
      "Epoch:6 | Train loss: 42.10 | Train acc: 0.928 | Test acc:0.894\n",
      "Epoch:7 | Train loss: 40.74 | Train acc: 0.942 | Test acc:0.904\n",
      "Epoch:8 | Train loss: 39.43 | Train acc: 0.950 | Test acc:0.907\n",
      "Epoch:9 | Train loss: 38.17 | Train acc: 0.957 | Test acc:0.911\n",
      "Epoch:10 | Train loss: 36.95 | Train acc: 0.960 | Test acc:0.910\n",
      "Epoch:11 | Train loss: 35.78 | Train acc: 0.965 | Test acc:0.914\n",
      "Epoch:12 | Train loss: 34.65 | Train acc: 0.968 | Test acc:0.915\n",
      "Epoch:13 | Train loss: 33.55 | Train acc: 0.972 | Test acc:0.914\n",
      "Without Dropout, Vanilla MLP\n"
     ]
    },
    {
     "name": "stderr",
     "output_type": "stream",
     "text": [
      "/usr/local/lib/python3.5/dist-packages/tensorflow_core/python/client/session.py:1750: UserWarning: An interactive session is already active. This can cause out-of-memory errors in some cases. You must explicitly call `InteractiveSession.close()` to release resources held by the other session(s).\n",
      "  warnings.warn('An interactive session is already active. This can '\n"
     ]
    },
    {
     "name": "stdout",
     "output_type": "stream",
     "text": [
      "Epoch:0 | Train loss: 63.99 | Train acc: 0.737 | Test acc:0.726\n",
      "Epoch:1 | Train loss: 61.84 | Train acc: 0.833 | Test acc:0.822\n",
      "Epoch:2 | Train loss: 59.92 | Train acc: 0.862 | Test acc:0.843\n",
      "Epoch:3 | Train loss: 58.11 | Train acc: 0.904 | Test acc:0.884\n",
      "Epoch:4 | Train loss: 56.36 | Train acc: 0.911 | Test acc:0.888\n",
      "Epoch:5 | Train loss: 54.68 | Train acc: 0.918 | Test acc:0.892\n",
      "Epoch:6 | Train loss: 53.05 | Train acc: 0.928 | Test acc:0.901\n",
      "Epoch:7 | Train loss: 51.47 | Train acc: 0.937 | Test acc:0.904\n",
      "Epoch:8 | Train loss: 49.96 | Train acc: 0.943 | Test acc:0.906\n",
      "Epoch:9 | Train loss: 48.49 | Train acc: 0.948 | Test acc:0.907\n",
      "Epoch:10 | Train loss: 47.06 | Train acc: 0.952 | Test acc:0.909\n",
      "Epoch:11 | Train loss: 45.68 | Train acc: 0.959 | Test acc:0.913\n",
      "Epoch:12 | Train loss: 44.35 | Train acc: 0.961 | Test acc:0.911\n",
      "Epoch:13 | Train loss: 43.06 | Train acc: 0.960 | Test acc:0.907\n",
      "Without Dropout, Vanilla MLP\n"
     ]
    },
    {
     "name": "stderr",
     "output_type": "stream",
     "text": [
      "/usr/local/lib/python3.5/dist-packages/tensorflow_core/python/client/session.py:1750: UserWarning: An interactive session is already active. This can cause out-of-memory errors in some cases. You must explicitly call `InteractiveSession.close()` to release resources held by the other session(s).\n",
      "  warnings.warn('An interactive session is already active. This can '\n"
     ]
    },
    {
     "name": "stdout",
     "output_type": "stream",
     "text": [
      "Epoch:0 | Train loss: 62.86 | Train acc: 0.701 | Test acc:0.703\n",
      "Epoch:1 | Train loss: 60.75 | Train acc: 0.784 | Test acc:0.785\n",
      "Epoch:2 | Train loss: 58.87 | Train acc: 0.851 | Test acc:0.841\n",
      "Epoch:3 | Train loss: 57.08 | Train acc: 0.887 | Test acc:0.870\n",
      "Epoch:4 | Train loss: 55.37 | Train acc: 0.898 | Test acc:0.870\n",
      "Epoch:5 | Train loss: 53.73 | Train acc: 0.897 | Test acc:0.873\n",
      "Epoch:6 | Train loss: 52.13 | Train acc: 0.916 | Test acc:0.889\n",
      "Epoch:7 | Train loss: 50.59 | Train acc: 0.930 | Test acc:0.894\n",
      "Epoch:8 | Train loss: 49.10 | Train acc: 0.934 | Test acc:0.895\n",
      "Epoch:9 | Train loss: 47.66 | Train acc: 0.950 | Test acc:0.906\n",
      "Epoch:10 | Train loss: 46.27 | Train acc: 0.958 | Test acc:0.909\n",
      "Epoch:11 | Train loss: 44.92 | Train acc: 0.963 | Test acc:0.912\n",
      "Epoch:12 | Train loss: 43.61 | Train acc: 0.965 | Test acc:0.908\n",
      "Epoch:13 | Train loss: 42.34 | Train acc: 0.972 | Test acc:0.916\n",
      "Without Dropout, Vanilla MLP\n"
     ]
    },
    {
     "name": "stderr",
     "output_type": "stream",
     "text": [
      "/usr/local/lib/python3.5/dist-packages/tensorflow_core/python/client/session.py:1750: UserWarning: An interactive session is already active. This can cause out-of-memory errors in some cases. You must explicitly call `InteractiveSession.close()` to release resources held by the other session(s).\n",
      "  warnings.warn('An interactive session is already active. This can '\n"
     ]
    },
    {
     "name": "stdout",
     "output_type": "stream",
     "text": [
      "Epoch:0 | Train loss: 64.49 | Train acc: 0.765 | Test acc:0.769\n",
      "Epoch:1 | Train loss: 62.29 | Train acc: 0.822 | Test acc:0.806\n",
      "Epoch:2 | Train loss: 60.34 | Train acc: 0.872 | Test acc:0.860\n",
      "Epoch:3 | Train loss: 58.49 | Train acc: 0.894 | Test acc:0.874\n",
      "Epoch:4 | Train loss: 56.71 | Train acc: 0.864 | Test acc:0.834\n",
      "Epoch:5 | Train loss: 55.00 | Train acc: 0.876 | Test acc:0.843\n",
      "Epoch:6 | Train loss: 53.35 | Train acc: 0.892 | Test acc:0.859\n",
      "Epoch:7 | Train loss: 51.75 | Train acc: 0.898 | Test acc:0.859\n",
      "Epoch:8 | Train loss: 50.21 | Train acc: 0.909 | Test acc:0.866\n",
      "Epoch:9 | Train loss: 48.71 | Train acc: 0.926 | Test acc:0.887\n",
      "Epoch:10 | Train loss: 47.26 | Train acc: 0.947 | Test acc:0.904\n",
      "Epoch:11 | Train loss: 45.86 | Train acc: 0.954 | Test acc:0.907\n",
      "Epoch:12 | Train loss: 44.50 | Train acc: 0.960 | Test acc:0.914\n",
      "Epoch:13 | Train loss: 43.18 | Train acc: 0.962 | Test acc:0.916\n",
      "Without Dropout, Vanilla MLP\n"
     ]
    },
    {
     "name": "stderr",
     "output_type": "stream",
     "text": [
      "/usr/local/lib/python3.5/dist-packages/tensorflow_core/python/client/session.py:1750: UserWarning: An interactive session is already active. This can cause out-of-memory errors in some cases. You must explicitly call `InteractiveSession.close()` to release resources held by the other session(s).\n",
      "  warnings.warn('An interactive session is already active. This can '\n"
     ]
    },
    {
     "name": "stdout",
     "output_type": "stream",
     "text": [
      "Epoch:0 | Train loss: 61.00 | Train acc: 0.732 | Test acc:0.723\n",
      "Epoch:1 | Train loss: 58.92 | Train acc: 0.807 | Test acc:0.780\n",
      "Epoch:2 | Train loss: 57.05 | Train acc: 0.878 | Test acc:0.859\n",
      "Epoch:3 | Train loss: 55.26 | Train acc: 0.892 | Test acc:0.865\n",
      "Epoch:4 | Train loss: 53.57 | Train acc: 0.852 | Test acc:0.822\n",
      "Epoch:5 | Train loss: 51.91 | Train acc: 0.900 | Test acc:0.863\n",
      "Epoch:6 | Train loss: 50.33 | Train acc: 0.908 | Test acc:0.866\n",
      "Epoch:7 | Train loss: 48.79 | Train acc: 0.910 | Test acc:0.871\n",
      "Epoch:8 | Train loss: 47.31 | Train acc: 0.934 | Test acc:0.892\n",
      "Epoch:9 | Train loss: 45.87 | Train acc: 0.946 | Test acc:0.900\n",
      "Epoch:10 | Train loss: 44.49 | Train acc: 0.956 | Test acc:0.908\n",
      "Epoch:11 | Train loss: 43.15 | Train acc: 0.955 | Test acc:0.908\n",
      "Epoch:12 | Train loss: 41.85 | Train acc: 0.962 | Test acc:0.914\n",
      "Epoch:13 | Train loss: 40.59 | Train acc: 0.968 | Test acc:0.912\n",
      "Without Dropout, Vanilla MLP\n"
     ]
    },
    {
     "name": "stderr",
     "output_type": "stream",
     "text": [
      "/usr/local/lib/python3.5/dist-packages/tensorflow_core/python/client/session.py:1750: UserWarning: An interactive session is already active. This can cause out-of-memory errors in some cases. You must explicitly call `InteractiveSession.close()` to release resources held by the other session(s).\n",
      "  warnings.warn('An interactive session is already active. This can '\n"
     ]
    },
    {
     "name": "stdout",
     "output_type": "stream",
     "text": [
      "Epoch:0 | Train loss: 56.59 | Train acc: 0.698 | Test acc:0.684\n",
      "Epoch:1 | Train loss: 54.56 | Train acc: 0.821 | Test acc:0.800\n",
      "Epoch:2 | Train loss: 52.78 | Train acc: 0.859 | Test acc:0.837\n",
      "Epoch:3 | Train loss: 51.08 | Train acc: 0.886 | Test acc:0.865\n",
      "Epoch:4 | Train loss: 49.47 | Train acc: 0.901 | Test acc:0.878\n",
      "Epoch:5 | Train loss: 47.91 | Train acc: 0.932 | Test acc:0.900\n",
      "Epoch:6 | Train loss: 46.41 | Train acc: 0.946 | Test acc:0.904\n",
      "Epoch:7 | Train loss: 44.96 | Train acc: 0.948 | Test acc:0.909\n",
      "Epoch:8 | Train loss: 43.58 | Train acc: 0.946 | Test acc:0.903\n",
      "Epoch:9 | Train loss: 42.23 | Train acc: 0.955 | Test acc:0.908\n",
      "Epoch:10 | Train loss: 40.93 | Train acc: 0.962 | Test acc:0.910\n",
      "Epoch:11 | Train loss: 39.68 | Train acc: 0.964 | Test acc:0.913\n",
      "Epoch:12 | Train loss: 38.47 | Train acc: 0.965 | Test acc:0.915\n",
      "Epoch:13 | Train loss: 37.30 | Train acc: 0.967 | Test acc:0.916\n",
      "Without Dropout, Vanilla MLP\n"
     ]
    },
    {
     "name": "stderr",
     "output_type": "stream",
     "text": [
      "/usr/local/lib/python3.5/dist-packages/tensorflow_core/python/client/session.py:1750: UserWarning: An interactive session is already active. This can cause out-of-memory errors in some cases. You must explicitly call `InteractiveSession.close()` to release resources held by the other session(s).\n",
      "  warnings.warn('An interactive session is already active. This can '\n"
     ]
    },
    {
     "name": "stdout",
     "output_type": "stream",
     "text": [
      "Epoch:0 | Train loss: 58.02 | Train acc: 0.739 | Test acc:0.732\n",
      "Epoch:1 | Train loss: 55.96 | Train acc: 0.829 | Test acc:0.823\n",
      "Epoch:2 | Train loss: 54.13 | Train acc: 0.827 | Test acc:0.812\n",
      "Epoch:3 | Train loss: 52.39 | Train acc: 0.882 | Test acc:0.870\n",
      "Epoch:4 | Train loss: 50.72 | Train acc: 0.913 | Test acc:0.895\n",
      "Epoch:5 | Train loss: 49.12 | Train acc: 0.920 | Test acc:0.896\n",
      "Epoch:6 | Train loss: 47.58 | Train acc: 0.934 | Test acc:0.903\n",
      "Epoch:7 | Train loss: 46.09 | Train acc: 0.946 | Test acc:0.914\n",
      "Epoch:8 | Train loss: 44.65 | Train acc: 0.956 | Test acc:0.915\n",
      "Epoch:9 | Train loss: 43.27 | Train acc: 0.960 | Test acc:0.913\n",
      "Epoch:10 | Train loss: 41.93 | Train acc: 0.964 | Test acc:0.918\n",
      "Epoch:11 | Train loss: 40.63 | Train acc: 0.967 | Test acc:0.919\n",
      "Epoch:12 | Train loss: 39.38 | Train acc: 0.971 | Test acc:0.921\n",
      "Epoch:13 | Train loss: 38.16 | Train acc: 0.974 | Test acc:0.923\n",
      "Without Dropout, Vanilla MLP\n"
     ]
    },
    {
     "name": "stderr",
     "output_type": "stream",
     "text": [
      "/usr/local/lib/python3.5/dist-packages/tensorflow_core/python/client/session.py:1750: UserWarning: An interactive session is already active. This can cause out-of-memory errors in some cases. You must explicitly call `InteractiveSession.close()` to release resources held by the other session(s).\n",
      "  warnings.warn('An interactive session is already active. This can '\n"
     ]
    },
    {
     "name": "stdout",
     "output_type": "stream",
     "text": [
      "Epoch:0 | Train loss: 59.00 | Train acc: 0.674 | Test acc:0.663\n",
      "Epoch:1 | Train loss: 56.94 | Train acc: 0.794 | Test acc:0.782\n",
      "Epoch:2 | Train loss: 55.10 | Train acc: 0.865 | Test acc:0.850\n",
      "Epoch:3 | Train loss: 53.37 | Train acc: 0.882 | Test acc:0.864\n",
      "Epoch:4 | Train loss: 51.71 | Train acc: 0.896 | Test acc:0.875\n",
      "Epoch:5 | Train loss: 50.11 | Train acc: 0.904 | Test acc:0.876\n",
      "Epoch:6 | Train loss: 48.56 | Train acc: 0.917 | Test acc:0.889\n",
      "Epoch:7 | Train loss: 47.06 | Train acc: 0.930 | Test acc:0.890\n",
      "Epoch:8 | Train loss: 45.62 | Train acc: 0.938 | Test acc:0.904\n",
      "Epoch:9 | Train loss: 44.23 | Train acc: 0.939 | Test acc:0.899\n",
      "Epoch:10 | Train loss: 42.88 | Train acc: 0.949 | Test acc:0.908\n",
      "Epoch:11 | Train loss: 41.58 | Train acc: 0.952 | Test acc:0.903\n",
      "Epoch:12 | Train loss: 40.32 | Train acc: 0.958 | Test acc:0.908\n",
      "Epoch:13 | Train loss: 39.10 | Train acc: 0.959 | Test acc:0.909\n",
      "Without Dropout, Vanilla MLP\n"
     ]
    },
    {
     "name": "stderr",
     "output_type": "stream",
     "text": [
      "/usr/local/lib/python3.5/dist-packages/tensorflow_core/python/client/session.py:1750: UserWarning: An interactive session is already active. This can cause out-of-memory errors in some cases. You must explicitly call `InteractiveSession.close()` to release resources held by the other session(s).\n",
      "  warnings.warn('An interactive session is already active. This can '\n"
     ]
    },
    {
     "name": "stdout",
     "output_type": "stream",
     "text": [
      "Epoch:0 | Train loss: 60.56 | Train acc: 0.728 | Test acc:0.726\n",
      "Epoch:1 | Train loss: 58.55 | Train acc: 0.809 | Test acc:0.805\n",
      "Epoch:2 | Train loss: 56.74 | Train acc: 0.850 | Test acc:0.844\n",
      "Epoch:3 | Train loss: 55.03 | Train acc: 0.878 | Test acc:0.866\n",
      "Epoch:4 | Train loss: 53.39 | Train acc: 0.903 | Test acc:0.880\n",
      "Epoch:5 | Train loss: 51.81 | Train acc: 0.922 | Test acc:0.888\n",
      "Epoch:6 | Train loss: 50.29 | Train acc: 0.938 | Test acc:0.898\n",
      "Epoch:7 | Train loss: 48.83 | Train acc: 0.941 | Test acc:0.902\n",
      "Epoch:8 | Train loss: 47.40 | Train acc: 0.946 | Test acc:0.910\n",
      "Epoch:9 | Train loss: 46.03 | Train acc: 0.952 | Test acc:0.909\n",
      "Epoch:10 | Train loss: 44.71 | Train acc: 0.958 | Test acc:0.914\n",
      "Epoch:11 | Train loss: 43.42 | Train acc: 0.965 | Test acc:0.913\n",
      "Epoch:12 | Train loss: 42.18 | Train acc: 0.966 | Test acc:0.914\n",
      "Epoch:13 | Train loss: 40.97 | Train acc: 0.971 | Test acc:0.915\n",
      "Without Dropout, Vanilla MLP\n"
     ]
    },
    {
     "name": "stderr",
     "output_type": "stream",
     "text": [
      "/usr/local/lib/python3.5/dist-packages/tensorflow_core/python/client/session.py:1750: UserWarning: An interactive session is already active. This can cause out-of-memory errors in some cases. You must explicitly call `InteractiveSession.close()` to release resources held by the other session(s).\n",
      "  warnings.warn('An interactive session is already active. This can '\n"
     ]
    },
    {
     "name": "stdout",
     "output_type": "stream",
     "text": [
      "Epoch:0 | Train loss: 60.55 | Train acc: 0.764 | Test acc:0.765\n",
      "Epoch:1 | Train loss: 58.52 | Train acc: 0.776 | Test acc:0.778\n",
      "Epoch:2 | Train loss: 56.67 | Train acc: 0.854 | Test acc:0.854\n",
      "Epoch:3 | Train loss: 54.92 | Train acc: 0.849 | Test acc:0.840\n",
      "Epoch:4 | Train loss: 53.23 | Train acc: 0.906 | Test acc:0.887\n",
      "Epoch:5 | Train loss: 51.61 | Train acc: 0.912 | Test acc:0.891\n",
      "Epoch:6 | Train loss: 50.05 | Train acc: 0.921 | Test acc:0.890\n",
      "Epoch:7 | Train loss: 48.54 | Train acc: 0.942 | Test acc:0.902\n",
      "Epoch:8 | Train loss: 47.07 | Train acc: 0.947 | Test acc:0.908\n",
      "Epoch:9 | Train loss: 45.66 | Train acc: 0.951 | Test acc:0.908\n",
      "Epoch:10 | Train loss: 44.30 | Train acc: 0.958 | Test acc:0.908\n",
      "Epoch:11 | Train loss: 42.98 | Train acc: 0.961 | Test acc:0.915\n",
      "Epoch:12 | Train loss: 41.71 | Train acc: 0.966 | Test acc:0.916\n",
      "Epoch:13 | Train loss: 40.48 | Train acc: 0.969 | Test acc:0.918\n",
      "Without Dropout, Vanilla MLP\n"
     ]
    },
    {
     "name": "stderr",
     "output_type": "stream",
     "text": [
      "/usr/local/lib/python3.5/dist-packages/tensorflow_core/python/client/session.py:1750: UserWarning: An interactive session is already active. This can cause out-of-memory errors in some cases. You must explicitly call `InteractiveSession.close()` to release resources held by the other session(s).\n",
      "  warnings.warn('An interactive session is already active. This can '\n"
     ]
    },
    {
     "name": "stdout",
     "output_type": "stream",
     "text": [
      "Epoch:0 | Train loss: 60.68 | Train acc: 0.687 | Test acc:0.678\n",
      "Epoch:1 | Train loss: 58.60 | Train acc: 0.811 | Test acc:0.811\n",
      "Epoch:2 | Train loss: 56.73 | Train acc: 0.850 | Test acc:0.844\n",
      "Epoch:3 | Train loss: 54.97 | Train acc: 0.879 | Test acc:0.856\n",
      "Epoch:4 | Train loss: 53.27 | Train acc: 0.906 | Test acc:0.880\n",
      "Epoch:5 | Train loss: 51.65 | Train acc: 0.921 | Test acc:0.887\n",
      "Epoch:6 | Train loss: 50.07 | Train acc: 0.930 | Test acc:0.895\n",
      "Epoch:7 | Train loss: 48.55 | Train acc: 0.946 | Test acc:0.904\n",
      "Epoch:8 | Train loss: 47.09 | Train acc: 0.954 | Test acc:0.903\n",
      "Epoch:9 | Train loss: 45.67 | Train acc: 0.963 | Test acc:0.909\n",
      "Epoch:10 | Train loss: 44.31 | Train acc: 0.964 | Test acc:0.910\n",
      "Epoch:11 | Train loss: 42.99 | Train acc: 0.966 | Test acc:0.910\n",
      "Epoch:12 | Train loss: 41.71 | Train acc: 0.966 | Test acc:0.910\n",
      "Epoch:13 | Train loss: 40.47 | Train acc: 0.970 | Test acc:0.912\n",
      "Without Dropout, Vanilla MLP\n"
     ]
    },
    {
     "name": "stderr",
     "output_type": "stream",
     "text": [
      "/usr/local/lib/python3.5/dist-packages/tensorflow_core/python/client/session.py:1750: UserWarning: An interactive session is already active. This can cause out-of-memory errors in some cases. You must explicitly call `InteractiveSession.close()` to release resources held by the other session(s).\n",
      "  warnings.warn('An interactive session is already active. This can '\n"
     ]
    },
    {
     "name": "stdout",
     "output_type": "stream",
     "text": [
      "Epoch:0 | Train loss: 63.48 | Train acc: 0.765 | Test acc:0.749\n",
      "Epoch:1 | Train loss: 61.30 | Train acc: 0.827 | Test acc:0.813\n",
      "Epoch:2 | Train loss: 59.36 | Train acc: 0.862 | Test acc:0.841\n",
      "Epoch:3 | Train loss: 57.51 | Train acc: 0.896 | Test acc:0.876\n",
      "Epoch:4 | Train loss: 55.74 | Train acc: 0.904 | Test acc:0.881\n",
      "Epoch:5 | Train loss: 54.03 | Train acc: 0.927 | Test acc:0.897\n",
      "Epoch:6 | Train loss: 52.38 | Train acc: 0.933 | Test acc:0.901\n",
      "Epoch:7 | Train loss: 50.79 | Train acc: 0.945 | Test acc:0.904\n",
      "Epoch:8 | Train loss: 49.24 | Train acc: 0.954 | Test acc:0.910\n",
      "Epoch:9 | Train loss: 47.76 | Train acc: 0.952 | Test acc:0.913\n",
      "Epoch:10 | Train loss: 46.31 | Train acc: 0.961 | Test acc:0.912\n",
      "Epoch:11 | Train loss: 44.92 | Train acc: 0.960 | Test acc:0.911\n",
      "Epoch:12 | Train loss: 43.56 | Train acc: 0.966 | Test acc:0.917\n",
      "Epoch:13 | Train loss: 42.26 | Train acc: 0.970 | Test acc:0.918\n",
      "Without Dropout, Vanilla MLP\n"
     ]
    },
    {
     "name": "stderr",
     "output_type": "stream",
     "text": [
      "/usr/local/lib/python3.5/dist-packages/tensorflow_core/python/client/session.py:1750: UserWarning: An interactive session is already active. This can cause out-of-memory errors in some cases. You must explicitly call `InteractiveSession.close()` to release resources held by the other session(s).\n",
      "  warnings.warn('An interactive session is already active. This can '\n"
     ]
    },
    {
     "name": "stdout",
     "output_type": "stream",
     "text": [
      "Epoch:0 | Train loss: 63.29 | Train acc: 0.649 | Test acc:0.648\n",
      "Epoch:1 | Train loss: 61.22 | Train acc: 0.799 | Test acc:0.800\n",
      "Epoch:2 | Train loss: 59.37 | Train acc: 0.852 | Test acc:0.845\n",
      "Epoch:3 | Train loss: 57.60 | Train acc: 0.881 | Test acc:0.868\n",
      "Epoch:4 | Train loss: 55.91 | Train acc: 0.908 | Test acc:0.884\n",
      "Epoch:5 | Train loss: 54.28 | Train acc: 0.916 | Test acc:0.891\n",
      "Epoch:6 | Train loss: 52.71 | Train acc: 0.920 | Test acc:0.893\n",
      "Epoch:7 | Train loss: 51.19 | Train acc: 0.931 | Test acc:0.897\n",
      "Epoch:8 | Train loss: 49.72 | Train acc: 0.944 | Test acc:0.904\n",
      "Epoch:9 | Train loss: 48.30 | Train acc: 0.949 | Test acc:0.908\n",
      "Epoch:10 | Train loss: 46.93 | Train acc: 0.952 | Test acc:0.907\n",
      "Epoch:11 | Train loss: 45.60 | Train acc: 0.959 | Test acc:0.908\n",
      "Epoch:12 | Train loss: 44.31 | Train acc: 0.960 | Test acc:0.912\n",
      "Epoch:13 | Train loss: 43.07 | Train acc: 0.964 | Test acc:0.913\n",
      "Without Dropout, Vanilla MLP\n"
     ]
    },
    {
     "name": "stderr",
     "output_type": "stream",
     "text": [
      "/usr/local/lib/python3.5/dist-packages/tensorflow_core/python/client/session.py:1750: UserWarning: An interactive session is already active. This can cause out-of-memory errors in some cases. You must explicitly call `InteractiveSession.close()` to release resources held by the other session(s).\n",
      "  warnings.warn('An interactive session is already active. This can '\n"
     ]
    },
    {
     "name": "stdout",
     "output_type": "stream",
     "text": [
      "Epoch:0 | Train loss: 56.46 | Train acc: 0.664 | Test acc:0.627\n",
      "Epoch:1 | Train loss: 54.45 | Train acc: 0.768 | Test acc:0.734\n",
      "Epoch:2 | Train loss: 52.67 | Train acc: 0.848 | Test acc:0.818\n",
      "Epoch:3 | Train loss: 51.00 | Train acc: 0.883 | Test acc:0.858\n",
      "Epoch:4 | Train loss: 49.39 | Train acc: 0.900 | Test acc:0.865\n",
      "Epoch:5 | Train loss: 47.86 | Train acc: 0.895 | Test acc:0.856\n",
      "Epoch:6 | Train loss: 46.35 | Train acc: 0.937 | Test acc:0.899\n",
      "Epoch:7 | Train loss: 44.92 | Train acc: 0.938 | Test acc:0.898\n",
      "Epoch:8 | Train loss: 43.53 | Train acc: 0.950 | Test acc:0.905\n",
      "Epoch:9 | Train loss: 42.19 | Train acc: 0.953 | Test acc:0.905\n",
      "Epoch:10 | Train loss: 40.90 | Train acc: 0.964 | Test acc:0.911\n",
      "Epoch:11 | Train loss: 39.65 | Train acc: 0.967 | Test acc:0.914\n",
      "Epoch:12 | Train loss: 38.44 | Train acc: 0.970 | Test acc:0.913\n",
      "Epoch:13 | Train loss: 37.27 | Train acc: 0.973 | Test acc:0.912\n",
      "Without Dropout, Vanilla MLP\n"
     ]
    },
    {
     "name": "stderr",
     "output_type": "stream",
     "text": [
      "/usr/local/lib/python3.5/dist-packages/tensorflow_core/python/client/session.py:1750: UserWarning: An interactive session is already active. This can cause out-of-memory errors in some cases. You must explicitly call `InteractiveSession.close()` to release resources held by the other session(s).\n",
      "  warnings.warn('An interactive session is already active. This can '\n"
     ]
    },
    {
     "name": "stdout",
     "output_type": "stream",
     "text": [
      "Epoch:0 | Train loss: 56.44 | Train acc: 0.738 | Test acc:0.738\n",
      "Epoch:1 | Train loss: 54.42 | Train acc: 0.782 | Test acc:0.766\n",
      "Epoch:2 | Train loss: 52.65 | Train acc: 0.843 | Test acc:0.832\n",
      "Epoch:3 | Train loss: 50.96 | Train acc: 0.893 | Test acc:0.876\n",
      "Epoch:4 | Train loss: 49.35 | Train acc: 0.895 | Test acc:0.875\n",
      "Epoch:5 | Train loss: 47.80 | Train acc: 0.924 | Test acc:0.890\n",
      "Epoch:6 | Train loss: 46.31 | Train acc: 0.934 | Test acc:0.902\n",
      "Epoch:7 | Train loss: 44.88 | Train acc: 0.940 | Test acc:0.903\n",
      "Epoch:8 | Train loss: 43.49 | Train acc: 0.950 | Test acc:0.909\n",
      "Epoch:9 | Train loss: 42.15 | Train acc: 0.952 | Test acc:0.912\n",
      "Epoch:10 | Train loss: 40.86 | Train acc: 0.960 | Test acc:0.911\n",
      "Epoch:11 | Train loss: 39.61 | Train acc: 0.964 | Test acc:0.920\n",
      "Epoch:12 | Train loss: 38.40 | Train acc: 0.967 | Test acc:0.919\n",
      "Epoch:13 | Train loss: 37.23 | Train acc: 0.972 | Test acc:0.918\n",
      "Without Dropout, Vanilla MLP\n"
     ]
    },
    {
     "name": "stderr",
     "output_type": "stream",
     "text": [
      "/usr/local/lib/python3.5/dist-packages/tensorflow_core/python/client/session.py:1750: UserWarning: An interactive session is already active. This can cause out-of-memory errors in some cases. You must explicitly call `InteractiveSession.close()` to release resources held by the other session(s).\n",
      "  warnings.warn('An interactive session is already active. This can '\n"
     ]
    },
    {
     "name": "stdout",
     "output_type": "stream",
     "text": [
      "Epoch:0 | Train loss: 53.61 | Train acc: 0.725 | Test acc:0.718\n",
      "Epoch:1 | Train loss: 51.66 | Train acc: 0.850 | Test acc:0.836\n",
      "Epoch:2 | Train loss: 49.92 | Train acc: 0.884 | Test acc:0.858\n",
      "Epoch:3 | Train loss: 48.31 | Train acc: 0.875 | Test acc:0.848\n",
      "Epoch:4 | Train loss: 46.73 | Train acc: 0.914 | Test acc:0.887\n",
      "Epoch:5 | Train loss: 45.22 | Train acc: 0.922 | Test acc:0.892\n",
      "Epoch:6 | Train loss: 43.77 | Train acc: 0.935 | Test acc:0.897\n",
      "Epoch:7 | Train loss: 42.38 | Train acc: 0.941 | Test acc:0.897\n",
      "Epoch:8 | Train loss: 41.03 | Train acc: 0.935 | Test acc:0.896\n",
      "Epoch:9 | Train loss: 39.73 | Train acc: 0.948 | Test acc:0.899\n",
      "Epoch:10 | Train loss: 38.48 | Train acc: 0.952 | Test acc:0.901\n",
      "Epoch:11 | Train loss: 37.26 | Train acc: 0.961 | Test acc:0.909\n",
      "Epoch:12 | Train loss: 36.09 | Train acc: 0.963 | Test acc:0.907\n",
      "Epoch:13 | Train loss: 34.96 | Train acc: 0.965 | Test acc:0.910\n",
      "Without Dropout, Vanilla MLP\n"
     ]
    },
    {
     "name": "stderr",
     "output_type": "stream",
     "text": [
      "/usr/local/lib/python3.5/dist-packages/tensorflow_core/python/client/session.py:1750: UserWarning: An interactive session is already active. This can cause out-of-memory errors in some cases. You must explicitly call `InteractiveSession.close()` to release resources held by the other session(s).\n",
      "  warnings.warn('An interactive session is already active. This can '\n"
     ]
    },
    {
     "name": "stdout",
     "output_type": "stream",
     "text": [
      "Epoch:0 | Train loss: 62.59 | Train acc: 0.730 | Test acc:0.731\n",
      "Epoch:1 | Train loss: 60.52 | Train acc: 0.811 | Test acc:0.819\n",
      "Epoch:2 | Train loss: 58.68 | Train acc: 0.870 | Test acc:0.872\n",
      "Epoch:3 | Train loss: 56.96 | Train acc: 0.874 | Test acc:0.872\n",
      "Epoch:4 | Train loss: 55.29 | Train acc: 0.912 | Test acc:0.892\n",
      "Epoch:5 | Train loss: 53.69 | Train acc: 0.920 | Test acc:0.896\n",
      "Epoch:6 | Train loss: 52.14 | Train acc: 0.920 | Test acc:0.899\n",
      "Epoch:7 | Train loss: 50.64 | Train acc: 0.941 | Test acc:0.909\n",
      "Epoch:8 | Train loss: 49.21 | Train acc: 0.939 | Test acc:0.903\n",
      "Epoch:9 | Train loss: 47.80 | Train acc: 0.952 | Test acc:0.911\n",
      "Epoch:10 | Train loss: 46.46 | Train acc: 0.950 | Test acc:0.901\n",
      "Epoch:11 | Train loss: 45.14 | Train acc: 0.962 | Test acc:0.916\n",
      "Epoch:12 | Train loss: 43.88 | Train acc: 0.962 | Test acc:0.912\n",
      "Epoch:13 | Train loss: 42.65 | Train acc: 0.966 | Test acc:0.915\n",
      "Without Dropout, Vanilla MLP\n"
     ]
    },
    {
     "name": "stderr",
     "output_type": "stream",
     "text": [
      "/usr/local/lib/python3.5/dist-packages/tensorflow_core/python/client/session.py:1750: UserWarning: An interactive session is already active. This can cause out-of-memory errors in some cases. You must explicitly call `InteractiveSession.close()` to release resources held by the other session(s).\n",
      "  warnings.warn('An interactive session is already active. This can '\n"
     ]
    },
    {
     "name": "stdout",
     "output_type": "stream",
     "text": [
      "Epoch:0 | Train loss: 57.99 | Train acc: 0.678 | Test acc:0.676\n",
      "Epoch:1 | Train loss: 56.00 | Train acc: 0.806 | Test acc:0.800\n",
      "Epoch:2 | Train loss: 54.20 | Train acc: 0.855 | Test acc:0.844\n",
      "Epoch:3 | Train loss: 52.50 | Train acc: 0.874 | Test acc:0.855\n",
      "Epoch:4 | Train loss: 50.88 | Train acc: 0.860 | Test acc:0.845\n",
      "Epoch:5 | Train loss: 49.31 | Train acc: 0.895 | Test acc:0.868\n",
      "Epoch:6 | Train loss: 47.80 | Train acc: 0.918 | Test acc:0.881\n",
      "Epoch:7 | Train loss: 46.34 | Train acc: 0.926 | Test acc:0.885\n",
      "Epoch:8 | Train loss: 44.93 | Train acc: 0.940 | Test acc:0.900\n",
      "Epoch:9 | Train loss: 43.57 | Train acc: 0.953 | Test acc:0.909\n",
      "Epoch:10 | Train loss: 42.26 | Train acc: 0.956 | Test acc:0.908\n",
      "Epoch:11 | Train loss: 40.99 | Train acc: 0.956 | Test acc:0.908\n",
      "Epoch:12 | Train loss: 39.75 | Train acc: 0.960 | Test acc:0.909\n",
      "Epoch:13 | Train loss: 38.57 | Train acc: 0.962 | Test acc:0.906\n"
     ]
    }
   ],
   "source": [
    "# Create samples of data\n",
    "X_train, Y_train = Ensembling_Data(20, MNIST_X_train, MNIST_Y_train)\n",
    "pred_=[]; acc_=[]\n",
    "for i in range(len(X_train)):\n",
    "    pred, acc = models.MLP(X_train[i], Y_train[i], MNIST_X_val, MNIST_Y_val, MNIST_X_test, MNIST_Y_test)\n",
    "    pred_.append(pred); acc_.append(acc)"
   ]
  },
  {
   "cell_type": "code",
   "execution_count": 11,
   "metadata": {},
   "outputs": [
    {
     "data": {
      "text/plain": [
       "20"
      ]
     },
     "execution_count": 11,
     "metadata": {},
     "output_type": "execute_result"
    }
   ],
   "source": [
    "len(acc_)"
   ]
  },
  {
   "cell_type": "code",
   "execution_count": 12,
   "metadata": {},
   "outputs": [],
   "source": [
    "len(pred_[0])\n",
    "\n",
    "confi_list=[]\n",
    "for item in pred_:\n",
    "    tmplist=[]\n",
    "    for array in item:\n",
    "        confidence = max(array) # apparently this is defined as confidence by the paper??\n",
    "        tmplist.append(confidence)\n",
    "    confi_list.append(pd.Series(tmplist).mean())"
   ]
  },
  {
   "cell_type": "code",
   "execution_count": 16,
   "metadata": {},
   "outputs": [
    {
     "data": {
      "image/png": "[encoded data removed]",
      "text/plain": [
       "<Figure size 432x288 with 1 Axes>"
      ]
     },
     "metadata": {
      "needs_background": "light"
     },
     "output_type": "display_data"
    }
   ],
   "source": [
    "import matplotlib.pyplot as plt\n",
    "%matplotlib inline\n",
    "plt.scatter(confi_list, acc_)\n",
    "plt.xlabel('Confidence')\n",
    "plt.ylabel('Accuracy')\n",
    "# plt.legend()\n",
    "plt.show()"
   ]
  },
  {
   "cell_type": "code",
   "execution_count": null,
   "metadata": {},
   "outputs": [],
   "source": []
  },
  {
   "cell_type": "code",
   "execution_count": 4,
   "metadata": {},
   "outputs": [],
   "source": [
    "def Ensembling_Data(M, MNIST_X_train, MNIST_Y_train):\n",
    "#     M = 5\n",
    "    sampled_indices = np.arange(0,MNIST_X_train.shape[0])\n",
    "    random.shuffle(sampled_indices)\n",
    "\n",
    "    cut = int(MNIST_X_train.shape[0]/M)\n",
    "    index_sample_list = []\n",
    "    for i in range(M):\n",
    "        index_sample_list.append(sampled_indices[cut*i:cut*(i+1)])\n",
    "        \n",
    "    training_X_df = []; training_Y_df = []\n",
    "    for index_range in index_sample_list:\n",
    "        training_X_df.append(MNIST_X_train[[index_range]])\n",
    "        training_Y_df.append(MNIST_Y_train[[index_range]])\n",
    "        \n",
    "    return training_X_df, training_Y_df\n",
    "\n",
    "def NLL(pred_values, MNIST_Y_test, index_of_y):\n",
    "\n",
    "    from keras import backend as K\n",
    "\n",
    "    # generate NLL distribution\n",
    "#     pred_hotcoded = np_utils.to_categorical(pred_values, 10)[index_of_y:index_of_y+1]\n",
    "\n",
    "    # y_test = y_test.astype('float32') # necessary here, since y_pred comes in this type - check in your case with y_test.dtype and y_pred.dtype\n",
    "    # y_test = K.constant(y_test)\n",
    "    # y_pred = K.constant(y_pred)\n",
    "\n",
    "#     y_pred = K.constant(pred_hotcoded)\n",
    "    \n",
    "    y_pred = K.constant(pred_values[index_of_y:index_of_y+1])\n",
    "\n",
    "    g = K.categorical_crossentropy(target=MNIST_Y_test[index_of_y:index_of_y+1], output=y_pred)  # tensor\n",
    "    ce = K.eval(g)  # 'ce' for cross-entropy\n",
    "    ce.shape\n",
    "    # (10000,) # i.e. one loss quantity per sample\n",
    "\n",
    "    # sum up and divide with the no. of samples:\n",
    "    log_loss = np.sum(ce)/ce.shape[0]\n",
    "#     log_loss\n",
    "    # 0.05165323486328125\n",
    "    \n",
    "    # https://stackoverflow.com/questions/52497625/how-to-calculate-negative-log-likelihoog-on-mnist-dataset\n",
    "    return log_loss\n",
    "\n",
    "def entropy_values(MNIST_Y_test, prediction):\n",
    "    entropy_values=[]\n",
    "    # Note: To obtain results faster, we use 200 samples for testing purposes\n",
    "    for i in range(len(MNIST_Y_test[0:200])): # WARNING: Remove 100 limit, let whole dataframe!!!\n",
    "        log_loss = NLL(prediction, MNIST_Y_test, i)\n",
    "        entropy_values.append(log_loss)\n",
    "#         print(i)\n",
    "    #     print(log_loss)\n",
    "    return entropy_values\n",
    "\n",
    "# def entropy_values_faster(MNIST_Y_test, prediction):\n",
    "# #     entropy_values=[]\n",
    "# #     for i in range(len(MNIST_Y_test[0:])): # WARNING: Remove 100 limit, let whole dataframe!!!\n",
    "# #         log_loss = NLL(prediction, MNIST_Y_test, i)\n",
    "# #         entropy_values.append(log_loss)\n",
    "#     entropy_values = [NLL(prediction, MNIST_Y_test, i) for i in range(len(MNIST_Y_test))]\n",
    "#     #     print(log_loss)\n",
    "#     return entropy_values\n",
    "\n"
   ]
  },
  {
   "cell_type": "code",
   "execution_count": 4,
   "metadata": {},
   "outputs": [],
   "source": [
    "def ensembling_expt(M, MNIST_X_train, MNIST_Y_train, MNIST_X_val, MNIST_Y_val, MNIST_X_test, MNIST_Y_test, model_function):\n",
    "    \n",
    "    training_X_df, training_Y_df = Ensembling_Data(M, MNIST_X_train, MNIST_Y_train)\n",
    "\n",
    "    prediction_storage=[]\n",
    "    for i in range(M):\n",
    "        X_train = training_X_df[i]\n",
    "        Y_train = training_Y_df[i]\n",
    "#         model_function = models.MLP()\n",
    "#         pred = models.MLP(X_train, Y_train, MNIST_X_val, MNIST_Y_val, MNIST_X_test, MNIST_Y_test)\n",
    "        pred = model_function(X_train, Y_train, MNIST_X_val, MNIST_Y_val, MNIST_X_test, MNIST_Y_test)\n",
    "        prediction_storage.append(pred)\n",
    "        \n",
    "    avg_predictions_from_ensemble=[]\n",
    "    for j in range(len(prediction_storage[0])):\n",
    "        tmpList=[]\n",
    "        for i in range(M):\n",
    "            tmpList.append(prediction_storage[i][j])\n",
    "        pred_avg = np.average(tmpList, axis=0)\n",
    "        avg_predictions_from_ensemble.append(pred_avg)\n",
    "        \n",
    "    avg_predictions_from_ensemble2 = np.array([list(i) for i in avg_predictions_from_ensemble])\n",
    "    entropy_val = entropy_values(MNIST_Y_test, avg_predictions_from_ensemble2)\n",
    "    \n",
    "    return entropy_val"
   ]
  },
  {
   "cell_type": "markdown",
   "metadata": {},
   "source": [
    "To be tested on both MNIST and notMNIST data for variation in confidence / accuracy"
   ]
  }
 ],
 "metadata": {
  "kernelspec": {
   "display_name": "Python 3",
   "language": "python",
   "name": "python3"
  },
  "language_info": {
   "codemirror_mode": {
    "name": "ipython",
    "version": 3
   },
   "file_extension": ".py",
   "mimetype": "text/x-python",
   "name": "python",
   "nbconvert_exporter": "python",
   "pygments_lexer": "ipython3",
   "version": "3.5.2"
  }
 },
 "nbformat": 4,
 "nbformat_minor": 2
}
