{
 "cells": [
  {
   "cell_type": "markdown",
   "metadata": {},
   "source": [
    "Steps for ensembling:\n",
    "1. Set M=5 default, epsilon 2.55/255\n",
    "2. Create M models (for m=1 to M) where we train on randomly sampled data points from the dataset"
   ]
  },
  {
   "cell_type": "markdown",
   "metadata": {},
   "source": [
    "Things to do:\n",
    "* Just do some simple sampling \n",
    "* Do some model exporting; at each iteration, export the file\n",
    "* When doing evaluation on MNIST or notMNIST data, for the two Fig plots, load the models"
   ]
  },
  {
   "cell_type": "markdown",
   "metadata": {},
   "source": [
    "# WARNING: Used batch size 100, learning rate 0.1, AdamOptimzer.. did they say 40 epochs?"
   ]
  },
  {
   "cell_type": "code",
   "execution_count": 7,
   "metadata": {},
   "outputs": [],
   "source": [
    "from __future__ import print_function\n",
    "import numpy as np\n",
    "import matplotlib as mpl\n",
    "import matplotlib.pyplot as plt\n",
    "import pandas as pd\n",
    "from keras.datasets import mnist\n",
    "from keras.models import Sequential\n",
    "from keras.layers.core import Dense, Dropout, Activation\n",
    "from keras.optimizers import RMSprop\n",
    "from keras.utils import np_utils\n",
    "import numpy as np\n",
    "from six.moves import cPickle as pickle\n",
    "from six.moves import range\n",
    "import os\n",
    "import keras\n",
    "from sklearn.preprocessing import LabelBinarizer\n",
    "import matplotlib.pyplot as plt\n",
    "import os\n",
    "import pickle\n"
   ]
  },
  {
   "cell_type": "code",
   "execution_count": 5,
   "metadata": {},
   "outputs": [
    {
     "name": "stdout",
     "output_type": "stream",
     "text": [
      "notMNIST\n",
      "20000 train samples\n",
      "1000 valid samples\n",
      "1000 test samples\n",
      "MNIST\n",
      "Train labels dimension:\n",
      "(50000, 10)\n",
      "Test labels dimension:\n",
      "(10000, 10)\n"
     ]
    }
   ],
   "source": [
    "import load_data\n",
    "print(\"notMNIST\")\n",
    "notMNIST_x_train, notMNIST_y_train, notMNIST_x_valid, notMNIST_y_valid, notMNIST_x_test, notMNIST_y_test = load_data.data_notMNIST()\n",
    "print(\"MNIST\")\n",
    "MNIST_X_train, MNIST_Y_train, MNIST_X_val, MNIST_Y_val, MNIST_X_test, MNIST_Y_test = load_data.data_MNIST()"
   ]
  },
  {
   "cell_type": "code",
   "execution_count": null,
   "metadata": {},
   "outputs": [],
   "source": [
    "# paper used 20 samples... perhaps lets just use M splits?\n",
    "\n",
    "\n"
   ]
  },
  {
   "cell_type": "markdown",
   "metadata": {},
   "source": [
    "Entropy values (Figure 3)"
   ]
  },
  {
   "cell_type": "code",
   "execution_count": 89,
   "metadata": {},
   "outputs": [
    {
     "name": "stdout",
     "output_type": "stream",
     "text": [
      "Without Dropout, Vanilla MLP\n"
     ]
    },
    {
     "name": "stderr",
     "output_type": "stream",
     "text": [
      "/usr/local/lib/python3.5/dist-packages/tensorflow_core/python/client/session.py:1750: UserWarning: An interactive session is already active. This can cause out-of-memory errors in some cases. You must explicitly call `InteractiveSession.close()` to release resources held by the other session(s).\n",
      "  warnings.warn('An interactive session is already active. This can '\n"
     ]
    },
    {
     "name": "stdout",
     "output_type": "stream",
     "text": [
      "Epoch:0 | Train loss: 33.50 | Train acc: 0.938 | Test acc:0.935\n",
      "Epoch:1 | Train loss: 19.06 | Train acc: 0.961 | Test acc:0.958\n",
      "Epoch:2 | Train loss: 11.12 | Train acc: 0.964 | Test acc:0.958\n",
      "Epoch:3 | Train loss: 6.69 | Train acc: 0.978 | Test acc:0.969\n"
     ]
    }
   ],
   "source": [
    "# https://towardsdatascience.com/multi-layer-perceptron-using-tensorflow-9f3e218a4809\n",
    "\n",
    "def MLP(X_train, Y_train, X_val, Y_val, X_test, Y_test):\n",
    "    \n",
    "    print(\"Without Dropout, Vanilla MLP\")\n",
    "\n",
    "    import tensorflow as tf\n",
    "    from sklearn.metrics import roc_auc_score, accuracy_score\n",
    "    s = tf.InteractiveSession()\n",
    "\n",
    "    ## Defining various initialization parameters for 784-512-256-10 MLP model\n",
    "    num_classes = Y_train.shape[1]\n",
    "    num_features = X_train.shape[1]\n",
    "    num_output = Y_train.shape[1]\n",
    "    num_layers_0 = 200\n",
    "    num_layers_1 = 200\n",
    "    num_layers_2 = 200\n",
    "    starter_learning_rate = 0.001\n",
    "    regularizer_rate = 0.1\n",
    "\n",
    "    # Placeholders for the input data\n",
    "    input_X = tf.placeholder('float32',shape =(None,num_features),name=\"input_X\")\n",
    "    input_Y = tf.placeholder('float32',shape = (None,num_classes),name='input_Y')\n",
    "\n",
    "\n",
    "\n",
    "    ## Weights initialized by random normal function with std_dev = 1/sqrt(number of input features)\n",
    "    weights_0 = tf.Variable(tf.random_normal([num_features,num_layers_0], stddev=(1/tf.sqrt(float(num_features)))))\n",
    "    bias_0 = tf.Variable(tf.random_normal([num_layers_0]))\n",
    "    weights_1 = tf.Variable(tf.random_normal([num_layers_0,num_layers_1], stddev=(1/tf.sqrt(float(num_layers_0)))))\n",
    "    bias_1 = tf.Variable(tf.random_normal([num_layers_1]))\n",
    "    weights_2 = tf.Variable(tf.random_normal([num_layers_1,num_layers_2], stddev=(1/tf.sqrt(float(num_layers_1)))))\n",
    "    bias_2 = tf.Variable(tf.random_normal([num_layers_2]))\n",
    "    weights_3 = tf.Variable(tf.random_normal([num_layers_2,num_output], stddev=(1/tf.sqrt(float(num_layers_2)))))\n",
    "    bias_3 = tf.Variable(tf.random_normal([num_output]))\n",
    "\n",
    "    # for dropout layer\n",
    "    # keep_prob = tf.placeholder(tf.float32)\n",
    "    # # Initializing weigths and biases -- with dropout\n",
    "    # hidden_output_0 = tf.nn.relu(tf.matmul(input_X,weights_0)+bias_0)\n",
    "    # hidden_output_0_0 = tf.nn.dropout(hidden_output_0, keep_prob)\n",
    "    # hidden_output_1 = tf.nn.relu(tf.matmul(hidden_output_0_0,weights_1)+bias_1)\n",
    "    # hidden_output_1_1 = tf.nn.dropout(hidden_output_1, keep_prob)\n",
    "    # hidden_output_2 = tf.nn.relu(tf.matmul(hidden_output_1_1,weights_2)+bias_2)\n",
    "    # hidden_output_2_2 = tf.nn.dropout(hidden_output_2, keep_prob)\n",
    "    # predicted_y = tf.sigmoid(tf.matmul(hidden_output_2_2,weights_3) + bias_3)\n",
    "\n",
    "    # ## Initializing weigths and biases -- withOUT dropout\n",
    "    hidden_output_0 = tf.nn.relu(tf.matmul(input_X,weights_0)+bias_0)\n",
    "    hidden_output_1 = tf.nn.relu(tf.matmul(hidden_output_0,weights_1)+bias_1)\n",
    "    hidden_output_2 = tf.nn.relu(tf.matmul(hidden_output_1,weights_2)+bias_2)\n",
    "    predicted_Y = tf.sigmoid(tf.matmul(hidden_output_2,weights_3) + bias_3)\n",
    "\n",
    "    ## Defining the loss function\n",
    "    loss = tf.reduce_mean(tf.nn.softmax_cross_entropy_with_logits_v2(logits=predicted_Y,labels=input_Y)) \\\n",
    "            + regularizer_rate*(tf.reduce_sum(tf.square(bias_0)) + tf.reduce_sum(tf.square(bias_1)) + tf.reduce_sum(tf.square(bias_2)))\n",
    "\n",
    "    ## Variable learning rate\n",
    "    learning_rate = tf.train.exponential_decay(starter_learning_rate, 0, 5, 0.85, staircase=True)\n",
    "    ## Adam optimzer for finding the right weight\n",
    "    optimizer = tf.train.AdamOptimizer(learning_rate).minimize(loss,var_list=[weights_0,weights_1,weights_2,weights_3,\n",
    "                                                                             bias_0,bias_1,bias_2,bias_3])\n",
    "\n",
    "    ## Metrics definition\n",
    "    correct_prediction = tf.equal(tf.argmax(Y_train,1), tf.argmax(predicted_Y,1))\n",
    "    accuracy = tf.reduce_mean(tf.cast(correct_prediction, tf.float32))\n",
    "\n",
    "    ## Training parameters\n",
    "    batch_size = 128\n",
    "    epochs=4\n",
    "    dropout_prob = 0.1\n",
    "    training_accuracy = []\n",
    "    training_loss = []\n",
    "    testing_accuracy = []\n",
    "    s.run(tf.global_variables_initializer())\n",
    "    for epoch in range(epochs):    \n",
    "        arr = np.arange(X_train.shape[0])\n",
    "        np.random.shuffle(arr)\n",
    "        for index in range(0,X_train.shape[0],batch_size):\n",
    "    #         s.run(optimizer, {input_X: X_train[arr[index:index+batch_size]],\n",
    "    #                           input_Y: Y_train[arr[index:index+batch_size]],\n",
    "    #                         keep_prob:dropout_prob})\n",
    "            s.run(optimizer, {input_X: X_train[arr[index:index+batch_size]],\n",
    "                              input_Y: Y_train[arr[index:index+batch_size]]})\n",
    "        training_accuracy.append(s.run(accuracy, feed_dict= {input_X:X_train, \n",
    "                                                             input_Y: Y_train}))\n",
    "        training_loss.append(s.run(loss, {input_X: X_train, \n",
    "                                          input_Y: Y_train}))\n",
    "\n",
    "    #     training_accuracy.append(s.run(accuracy, feed_dict= {input_X:X_train, \n",
    "    #                                                          input_Y: Y_train,keep_prob:1}))\n",
    "    #     training_loss.append(s.run(loss, {input_X: X_train, \n",
    "    #                                       input_Y: Y_train,keep_prob:1}))\n",
    "\n",
    "        ## Evaluation of model\n",
    "    #     testing_accuracy.append(accuracy_score(Y_test.argmax(1), \n",
    "    #                             s.run(predicted_Y, {input_X: X_test,keep_prob:1}).argmax(1)))\n",
    "        testing_accuracy.append(accuracy_score(Y_test.argmax(1), \n",
    "                                s.run(predicted_Y, {input_X: X_test}).argmax(1)))\n",
    "        print(\"Epoch:{0} | Train loss: {1:.2f} | Train acc: {2:.3f} | Test acc:{3:.3f}\".format(epoch,\n",
    "                                                                        training_loss[epoch],\n",
    "                                                                        training_accuracy[epoch],\n",
    "                                                                       testing_accuracy[epoch]))\n",
    "    \n",
    "    # return class probabilities\n",
    "#     prediction=tf.argmax(predicted_Y,1) # predicted_Y or Y_test ?\n",
    "#     print(\"Predictions\", prediction.eval(feed_dict={input_X: X_test}, session=s))\n",
    "#     pred_values = prediction.eval(feed_dict={input_X: X_test}, session=s) # https://github.com/tensorflow/tensorflow/issues/97\n",
    "#     prediction = tf.nn.softmax(X_test)\n",
    "    prediction = s.run(predicted_Y, {input_X: X_test})\n",
    "    \n",
    "    return pred_values, prediction\n",
    "        \n",
    "pred_values, prediction = MLP(MNIST_X_train, MNIST_Y_train, MNIST_X_val, MNIST_Y_val, MNIST_X_test, MNIST_Y_test)"
   ]
  },
  {
   "cell_type": "code",
   "execution_count": 93,
   "metadata": {},
   "outputs": [
    {
     "data": {
      "text/plain": [
       "array([0.0000000e+00, 0.0000000e+00, 0.0000000e+00, 0.0000000e+00,\n",
       "       8.2999468e-05, 0.0000000e+00, 0.0000000e+00, 8.9406967e-08,\n",
       "       2.9802322e-08, 1.0000000e+00], dtype=float32)"
      ]
     },
     "execution_count": 93,
     "metadata": {},
     "output_type": "execute_result"
    }
   ],
   "source": [
    "prediction[9]"
   ]
  },
  {
   "cell_type": "code",
   "execution_count": 90,
   "metadata": {},
   "outputs": [
    {
     "name": "stdout",
     "output_type": "stream",
     "text": [
      "Without Dropout, Vanilla MLP\n"
     ]
    },
    {
     "name": "stderr",
     "output_type": "stream",
     "text": [
      "/usr/local/lib/python3.5/dist-packages/tensorflow_core/python/client/session.py:1750: UserWarning: An interactive session is already active. This can cause out-of-memory errors in some cases. You must explicitly call `InteractiveSession.close()` to release resources held by the other session(s).\n",
      "  warnings.warn('An interactive session is already active. This can '\n"
     ]
    },
    {
     "name": "stdout",
     "output_type": "stream",
     "text": [
      "Epoch:0 | Train loss: 32.61 | Train acc: 0.941 | Test acc:0.063\n",
      "Epoch:1 | Train loss: 18.41 | Train acc: 0.957 | Test acc:0.082\n",
      "Epoch:2 | Train loss: 10.59 | Train acc: 0.973 | Test acc:0.069\n",
      "Epoch:3 | Train loss: 6.27 | Train acc: 0.976 | Test acc:0.081\n"
     ]
    }
   ],
   "source": [
    "# Load up notMNIST samples\n",
    "pred_values_notMNIST, prediction_notMNIST = MLP(MNIST_X_train, MNIST_Y_train, MNIST_X_val, MNIST_Y_val, notMNIST_x_test, notMNIST_y_test)"
   ]
  },
  {
   "cell_type": "code",
   "execution_count": 79,
   "metadata": {},
   "outputs": [],
   "source": [
    "def NLL(pred_values, MNIST_Y_test, index_of_y):\n",
    "\n",
    "    from keras import backend as K\n",
    "\n",
    "    # generate NLL distribution\n",
    "#     pred_hotcoded = np_utils.to_categorical(pred_values, 10)[index_of_y:index_of_y+1]\n",
    "\n",
    "    # y_test = y_test.astype('float32') # necessary here, since y_pred comes in this type - check in your case with y_test.dtype and y_pred.dtype\n",
    "    # y_test = K.constant(y_test)\n",
    "    # y_pred = K.constant(y_pred)\n",
    "\n",
    "#     y_pred = K.constant(pred_hotcoded)\n",
    "    \n",
    "    y_pred = K.constant(pred_values[index_of_y:index_of_y+1])\n",
    "\n",
    "    g = K.categorical_crossentropy(target=MNIST_Y_test[index_of_y:index_of_y+1], output=y_pred)  # tensor\n",
    "    ce = K.eval(g)  # 'ce' for cross-entropy\n",
    "    ce.shape\n",
    "    # (10000,) # i.e. one loss quantity per sample\n",
    "\n",
    "    # sum up and divide with the no. of samples:\n",
    "    log_loss = np.sum(ce)/ce.shape[0]\n",
    "#     log_loss\n",
    "    # 0.05165323486328125\n",
    "    \n",
    "    # https://stackoverflow.com/questions/52497625/how-to-calculate-negative-log-likelihoog-on-mnist-dataset\n",
    "    return log_loss"
   ]
  },
  {
   "cell_type": "code",
   "execution_count": 86,
   "metadata": {},
   "outputs": [],
   "source": [
    "entropy_values=[]\n",
    "for i in range(len(MNIST_Y_test[0:100])): # WARNING: Remove 100 limit, let whole dataframe!!!\n",
    "    log_loss = NLL(prediction, MNIST_Y_test, i)\n",
    "    entropy_values.append(log_loss)\n",
    "#     print(log_loss)"
   ]
  },
  {
   "cell_type": "code",
   "execution_count": 87,
   "metadata": {},
   "outputs": [
    {
     "data": {
      "text/plain": [
       "Text(0.5, 0, 'Entropy values')"
      ]
     },
     "execution_count": 87,
     "metadata": {},
     "output_type": "execute_result"
    },
    {
     "data": {
      "image/png": "[encoded data removed]",
      "text/plain": [
       "<Figure size 432x288 with 1 Axes>"
      ]
     },
     "metadata": {
      "needs_background": "light"
     },
     "output_type": "display_data"
    }
   ],
   "source": [
    "import matplotlib.pyplot as plt\n",
    "%matplotlib inline\n",
    "# x = np.random.normal(size = 1000)\n",
    "plt.hist(entropy_values, normed=True, bins=30)\n",
    "# plt.ylabel('Probability')\n",
    "plt.xlabel('Entropy values')"
   ]
  },
  {
   "cell_type": "markdown",
   "metadata": {},
   "source": [
    "Accuracy vs Confidence plot\n",
    "\n",
    "Not completely sure, but one possible way to generate the accuracy Vs confidence curve is to\n",
    "1. Take a sample of test inputs\n",
    "2. Pass it into model for prediction\n",
    "3. Get average confidence (using the max function below)\n",
    "4. Get accuracy between prediction and test set\n",
    "5. Repeat for more samples until you can plot curve\n",
    "\n",
    "[Reference](https://arxiv.org/pdf/1802.04865.pdf)"
   ]
  },
  {
   "cell_type": "code",
   "execution_count": null,
   "metadata": {},
   "outputs": [],
   "source": [
    "max(prediction[9]) # apparently this is defined as confidence by the paper??"
   ]
  },
  {
   "cell_type": "code",
   "execution_count": null,
   "metadata": {},
   "outputs": [],
   "source": []
  }
 ],
 "metadata": {
  "kernelspec": {
   "display_name": "Python 3",
   "language": "python",
   "name": "python3"
  },
  "language_info": {
   "codemirror_mode": {
    "name": "ipython",
    "version": 3
   },
   "file_extension": ".py",
   "mimetype": "text/x-python",
   "name": "python",
   "nbconvert_exporter": "python",
   "pygments_lexer": "ipython3",
   "version": "3.5.2"
  }
 },
 "nbformat": 4,
 "nbformat_minor": 2
}
