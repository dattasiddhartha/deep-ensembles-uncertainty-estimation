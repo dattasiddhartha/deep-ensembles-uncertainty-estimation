{
 "cells": [
  {
   "cell_type": "markdown",
   "metadata": {},
   "source": [
    "### Implementation of [Simple and Scalable Predictive Uncertainty Estimation using Deep Ensembles](https://papers.nips.cc/paper/7219-simple-and-scalable-predictive-uncertainty-estimation-using-deep-ensembles.pdf)"
   ]
  },
  {
   "cell_type": "code",
   "execution_count": 1,
   "metadata": {},
   "outputs": [
    {
     "name": "stderr",
     "output_type": "stream",
     "text": [
      "Using TensorFlow backend.\n"
     ]
    }
   ],
   "source": [
    "from __future__ import print_function\n",
    "import numpy as np\n",
    "import matplotlib as mpl\n",
    "import matplotlib.pyplot as plt\n",
    "import pandas as pd\n",
    "from keras.datasets import mnist\n",
    "from keras.models import Sequential\n",
    "from keras.layers.core import Dense, Dropout, Activation\n",
    "from keras.optimizers import RMSprop\n",
    "from keras.utils import np_utils\n",
    "import numpy as np\n",
    "from six.moves import cPickle as pickle\n",
    "from six.moves import range\n",
    "import os\n",
    "import keras\n",
    "from sklearn.preprocessing import LabelBinarizer\n",
    "import matplotlib.pyplot as plt\n",
    "import os\n",
    "import pickle\n",
    "import random\n",
    "\n",
    "import load_data\n",
    "import models"
   ]
  },
  {
   "cell_type": "code",
   "execution_count": 2,
   "metadata": {},
   "outputs": [
    {
     "name": "stdout",
     "output_type": "stream",
     "text": [
      "notMNIST\n",
      "20000 train samples\n",
      "1000 valid samples\n",
      "1000 test samples\n",
      "MNIST\n",
      "Train labels dimension:\n",
      "(50000, 10)\n",
      "Test labels dimension:\n",
      "(10000, 10)\n"
     ]
    }
   ],
   "source": [
    "print(\"notMNIST\")\n",
    "notMNIST_X_train, notMNIST_Y_train, notMNIST_X_val, notMNIST_Y_val, notMNIST_X_test, notMNIST_Y_test = load_data.data_notMNIST()\n",
    "print(\"MNIST\")\n",
    "MNIST_X_train, MNIST_Y_train, MNIST_X_val, MNIST_Y_val, MNIST_X_test, MNIST_Y_test = load_data.data_MNIST()"
   ]
  },
  {
   "cell_type": "code",
   "execution_count": 3,
   "metadata": {},
   "outputs": [],
   "source": [
    "def Ensembling_Data(M, MNIST_X_train, MNIST_Y_train):\n",
    "#     M = 5\n",
    "    sampled_indices = np.arange(0,MNIST_X_train.shape[0])\n",
    "    random.shuffle(sampled_indices)\n",
    "\n",
    "    cut = int(MNIST_X_train.shape[0]/M)\n",
    "    index_sample_list = []\n",
    "    for i in range(M):\n",
    "        index_sample_list.append(sampled_indices[cut*i:cut*(i+1)])\n",
    "        \n",
    "    training_X_df = []; training_Y_df = []\n",
    "    for index_range in index_sample_list:\n",
    "        training_X_df.append(MNIST_X_train[[index_range]])\n",
    "        training_Y_df.append(MNIST_Y_train[[index_range]])\n",
    "        \n",
    "    return training_X_df, training_Y_df\n",
    "\n",
    "def NLL(pred_values, MNIST_Y_test, index_of_y):\n",
    "\n",
    "    from keras import backend as K\n",
    "\n",
    "    # generate NLL distribution\n",
    "#     pred_hotcoded = np_utils.to_categorical(pred_values, 10)[index_of_y:index_of_y+1]\n",
    "\n",
    "    # y_test = y_test.astype('float32') # necessary here, since y_pred comes in this type - check in your case with y_test.dtype and y_pred.dtype\n",
    "    # y_test = K.constant(y_test)\n",
    "    # y_pred = K.constant(y_pred)\n",
    "\n",
    "#     y_pred = K.constant(pred_hotcoded)\n",
    "    \n",
    "    y_pred = K.constant(pred_values[index_of_y:index_of_y+1])\n",
    "\n",
    "    g = K.categorical_crossentropy(target=MNIST_Y_test[index_of_y:index_of_y+1], output=y_pred)  # tensor\n",
    "    ce = K.eval(g)  # 'ce' for cross-entropy\n",
    "    ce.shape\n",
    "    # (10000,) # i.e. one loss quantity per sample\n",
    "\n",
    "    # sum up and divide with the no. of samples:\n",
    "    log_loss = np.sum(ce)/ce.shape[0]\n",
    "#     log_loss\n",
    "    # 0.05165323486328125\n",
    "    \n",
    "    # https://stackoverflow.com/questions/52497625/how-to-calculate-negative-log-likelihoog-on-mnist-dataset\n",
    "    return log_loss\n",
    "\n",
    "def entropy_values(MNIST_Y_test, prediction):\n",
    "    entropy_values=[]\n",
    "    # Note: To obtain results faster, we use 200 samples for testing purposes\n",
    "    for i in range(len(MNIST_Y_test[0:200])): # WARNING: Remove 100 limit, let whole dataframe!!!\n",
    "        log_loss = NLL(prediction, MNIST_Y_test, i)\n",
    "        entropy_values.append(log_loss)\n",
    "#         print(i)\n",
    "    #     print(log_loss)\n",
    "    return entropy_values\n",
    "\n",
    "# def entropy_values_faster(MNIST_Y_test, prediction):\n",
    "# #     entropy_values=[]\n",
    "# #     for i in range(len(MNIST_Y_test[0:])): # WARNING: Remove 100 limit, let whole dataframe!!!\n",
    "# #         log_loss = NLL(prediction, MNIST_Y_test, i)\n",
    "# #         entropy_values.append(log_loss)\n",
    "#     entropy_values = [NLL(prediction, MNIST_Y_test, i) for i in range(len(MNIST_Y_test))]\n",
    "#     #     print(log_loss)\n",
    "#     return entropy_values\n",
    "\n"
   ]
  },
  {
   "cell_type": "code",
   "execution_count": 4,
   "metadata": {},
   "outputs": [],
   "source": [
    "def ensembling_expt(M, MNIST_X_train, MNIST_Y_train, MNIST_X_val, MNIST_Y_val, MNIST_X_test, MNIST_Y_test, model_function):\n",
    "    \n",
    "    training_X_df, training_Y_df = Ensembling_Data(M, MNIST_X_train, MNIST_Y_train)\n",
    "\n",
    "    prediction_storage=[]\n",
    "    acc_storage=[]\n",
    "    for i in range(M):\n",
    "        X_train = training_X_df[i]\n",
    "        Y_train = training_Y_df[i]\n",
    "#         model_function = models.MLP()\n",
    "#         pred = models.MLP(X_train, Y_train, MNIST_X_val, MNIST_Y_val, MNIST_X_test, MNIST_Y_test)\n",
    "        pred, acc = model_function(X_train, Y_train, MNIST_X_val, MNIST_Y_val, MNIST_X_test, MNIST_Y_test)\n",
    "        prediction_storage.append(pred)\n",
    "        acc_storage.append(acc)\n",
    "#     print(prediction_storage[0])\n",
    "\n",
    "    confi_list=[]\n",
    "    for item in prediction_storage:\n",
    "        tmplist=[]\n",
    "        for array in item:\n",
    "            confidence = max(array) # apparently this is defined as confidence by the paper??\n",
    "            tmplist.append(confidence)\n",
    "        confi_list.append(pd.Series(tmplist).mean())\n",
    "\n",
    "    avg_predictions_from_ensemble=[]\n",
    "    for j in range(len(prediction_storage[0])):\n",
    "        tmpList=[]\n",
    "        for i in range(M):\n",
    "            tmpList.append(prediction_storage[i][j])\n",
    "        pred_avg = np.average(tmpList, axis=0)\n",
    "        avg_predictions_from_ensemble.append(pred_avg)\n",
    "    acc_avg = np.average(acc_storage, axis=0)\n",
    "    avg_predictions_from_ensemble2 = np.array([list(i) for i in avg_predictions_from_ensemble])\n",
    "    entropy_val = entropy_values(MNIST_Y_test, avg_predictions_from_ensemble2)\n",
    "    \n",
    "    return entropy_val, acc_storage, confi_list"
   ]
  },
  {
   "cell_type": "markdown",
   "metadata": {},
   "source": [
    "## Baseline (MC Dropout)"
   ]
  },
  {
   "cell_type": "code",
   "execution_count": 5,
   "metadata": {
    "scrolled": true
   },
   "outputs": [
    {
     "name": "stderr",
     "output_type": "stream",
     "text": [
      "/usr/local/lib/python3.5/dist-packages/ipykernel_launcher.py:13: FutureWarning: Using a non-tuple sequence for multidimensional indexing is deprecated; use `arr[tuple(seq)]` instead of `arr[seq]`. In the future this will be interpreted as an array index, `arr[np.array(seq)]`, which will result either in an error or a different result.\n",
      "  del sys.path[0]\n",
      "/usr/local/lib/python3.5/dist-packages/ipykernel_launcher.py:14: FutureWarning: Using a non-tuple sequence for multidimensional indexing is deprecated; use `arr[tuple(seq)]` instead of `arr[seq]`. In the future this will be interpreted as an array index, `arr[np.array(seq)]`, which will result either in an error or a different result.\n",
      "  \n"
     ]
    },
    {
     "name": "stdout",
     "output_type": "stream",
     "text": [
      "With Dropout & Batch Normalization\n"
     ]
    },
    {
     "name": "stderr",
     "output_type": "stream",
     "text": [
      "WARNING: Logging before flag parsing goes to stderr.\n",
      "W0212 08:18:48.172192 140529053509376 module_wrapper.py:139] From /home/root/adversarial/Gal/models.py:158: The name tf.InteractiveSession is deprecated. Please use tf.compat.v1.InteractiveSession instead.\n",
      "\n",
      "W0212 08:18:50.584575 140529053509376 module_wrapper.py:139] From /home/root/adversarial/Gal/models.py:171: The name tf.placeholder is deprecated. Please use tf.compat.v1.placeholder instead.\n",
      "\n",
      "W0212 08:18:50.589392 140529053509376 module_wrapper.py:139] From /home/root/adversarial/Gal/models.py:177: The name tf.random_normal is deprecated. Please use tf.random.normal instead.\n",
      "\n",
      "W0212 08:18:50.677340 140529053509376 deprecation.py:506] From /home/root/adversarial/Gal/models.py:192: calling dropout (from tensorflow.python.ops.nn_ops) with keep_prob is deprecated and will be removed in a future version.\n",
      "Instructions for updating:\n",
      "Please use `rate` instead of `keep_prob`. Rate should be set to `rate = 1 - keep_prob`.\n",
      "W0212 08:18:50.794896 140529053509376 module_wrapper.py:139] From /home/root/adversarial/Gal/models.py:216: The name tf.train.exponential_decay is deprecated. Please use tf.compat.v1.train.exponential_decay instead.\n",
      "\n",
      "W0212 08:18:50.803080 140529053509376 module_wrapper.py:139] From /home/root/adversarial/Gal/models.py:218: The name tf.train.AdamOptimizer is deprecated. Please use tf.compat.v1.train.AdamOptimizer instead.\n",
      "\n",
      "W0212 08:18:51.272149 140529053509376 module_wrapper.py:139] From /home/root/adversarial/Gal/models.py:232: The name tf.global_variables_initializer is deprecated. Please use tf.compat.v1.global_variables_initializer instead.\n",
      "\n"
     ]
    },
    {
     "name": "stdout",
     "output_type": "stream",
     "text": [
      "Epoch:0 | Train loss: 33.26 | Train acc: 0.949 | Test acc:0.950\n",
      "Epoch:1 | Train loss: 19.00 | Train acc: 0.966 | Test acc:0.962\n",
      "Epoch:2 | Train loss: 11.06 | Train acc: 0.974 | Test acc:0.970\n",
      "Epoch:3 | Train loss: 6.63 | Train acc: 0.978 | Test acc:0.972\n",
      "Epoch:4 | Train loss: 4.17 | Train acc: 0.982 | Test acc:0.974\n",
      "Epoch:5 | Train loss: 2.83 | Train acc: 0.984 | Test acc:0.976\n",
      "Epoch:6 | Train loss: 2.13 | Train acc: 0.986 | Test acc:0.977\n",
      "Epoch:7 | Train loss: 1.77 | Train acc: 0.987 | Test acc:0.978\n",
      "Epoch:8 | Train loss: 1.60 | Train acc: 0.988 | Test acc:0.978\n",
      "Epoch:9 | Train loss: 1.52 | Train acc: 0.990 | Test acc:0.978\n",
      "Epoch:10 | Train loss: 1.49 | Train acc: 0.990 | Test acc:0.979\n",
      "Epoch:11 | Train loss: 1.48 | Train acc: 0.991 | Test acc:0.978\n",
      "Epoch:12 | Train loss: 1.47 | Train acc: 0.991 | Test acc:0.978\n",
      "Epoch:13 | Train loss: 1.47 | Train acc: 0.992 | Test acc:0.979\n"
     ]
    },
    {
     "name": "stderr",
     "output_type": "stream",
     "text": [
      "W0212 08:19:49.498700 140529053509376 module_wrapper.py:139] From /usr/local/lib/python3.5/dist-packages/keras/backend/tensorflow_backend.py:3295: The name tf.log is deprecated. Please use tf.math.log instead.\n",
      "\n",
      "W0212 08:19:49.505266 140529053509376 module_wrapper.py:139] From /usr/local/lib/python3.5/dist-packages/keras/backend/tensorflow_backend.py:174: The name tf.get_default_session is deprecated. Please use tf.compat.v1.get_default_session instead.\n",
      "\n",
      "W0212 08:19:49.506321 140529053509376 module_wrapper.py:139] From /usr/local/lib/python3.5/dist-packages/keras/backend/tensorflow_backend.py:190: The name tf.global_variables is deprecated. Please use tf.compat.v1.global_variables instead.\n",
      "\n",
      "W0212 08:19:49.507331 140529053509376 module_wrapper.py:139] From /usr/local/lib/python3.5/dist-packages/keras/backend/tensorflow_backend.py:199: The name tf.is_variable_initialized is deprecated. Please use tf.compat.v1.is_variable_initialized instead.\n",
      "\n",
      "/usr/local/lib/python3.5/dist-packages/ipykernel_launcher.py:13: FutureWarning: Using a non-tuple sequence for multidimensional indexing is deprecated; use `arr[tuple(seq)]` instead of `arr[seq]`. In the future this will be interpreted as an array index, `arr[np.array(seq)]`, which will result either in an error or a different result.\n",
      "  del sys.path[0]\n",
      "/usr/local/lib/python3.5/dist-packages/ipykernel_launcher.py:14: FutureWarning: Using a non-tuple sequence for multidimensional indexing is deprecated; use `arr[tuple(seq)]` instead of `arr[seq]`. In the future this will be interpreted as an array index, `arr[np.array(seq)]`, which will result either in an error or a different result.\n",
      "  \n",
      "/usr/local/lib/python3.5/dist-packages/tensorflow_core/python/client/session.py:1750: UserWarning: An interactive session is already active. This can cause out-of-memory errors in some cases. You must explicitly call `InteractiveSession.close()` to release resources held by the other session(s).\n",
      "  warnings.warn('An interactive session is already active. This can '\n"
     ]
    },
    {
     "name": "stdout",
     "output_type": "stream",
     "text": [
      "With Dropout & Batch Normalization\n",
      "Epoch:0 | Train loss: 31.14 | Train acc: 0.946 | Test acc:0.115\n",
      "Epoch:1 | Train loss: 17.47 | Train acc: 0.965 | Test acc:0.120\n",
      "Epoch:2 | Train loss: 10.02 | Train acc: 0.974 | Test acc:0.092\n",
      "Epoch:3 | Train loss: 5.96 | Train acc: 0.979 | Test acc:0.110\n",
      "Epoch:4 | Train loss: 3.77 | Train acc: 0.983 | Test acc:0.099\n",
      "Epoch:5 | Train loss: 2.62 | Train acc: 0.985 | Test acc:0.093\n",
      "Epoch:6 | Train loss: 2.03 | Train acc: 0.987 | Test acc:0.094\n",
      "Epoch:7 | Train loss: 1.73 | Train acc: 0.988 | Test acc:0.112\n",
      "Epoch:8 | Train loss: 1.59 | Train acc: 0.989 | Test acc:0.096\n",
      "Epoch:9 | Train loss: 1.52 | Train acc: 0.990 | Test acc:0.074\n",
      "Epoch:10 | Train loss: 1.49 | Train acc: 0.991 | Test acc:0.097\n",
      "Epoch:11 | Train loss: 1.48 | Train acc: 0.990 | Test acc:0.090\n",
      "Epoch:12 | Train loss: 1.47 | Train acc: 0.992 | Test acc:0.079\n",
      "Epoch:13 | Train loss: 1.47 | Train acc: 0.992 | Test acc:0.075\n"
     ]
    }
   ],
   "source": [
    "# M in MC dropout refers to number of MC dropout samples; since we're sampling different sets of indices, sort of sampling~\n",
    "\n",
    "entropy_val_MLPmc_1, acc_MLPmc_1, confi_MLPmc_1 = ensembling_expt(1, MNIST_X_train, MNIST_Y_train, MNIST_X_val, MNIST_Y_val, MNIST_X_test, MNIST_Y_test, models.MCDropout)\n",
    "# entropy_val_MLPmc_5, acc_MLPmc_5, confi_MLPmc_5 = ensembling_expt(5, MNIST_X_train, MNIST_Y_train, MNIST_X_val, MNIST_Y_val, MNIST_X_test, MNIST_Y_test, models.MCDropout)\n",
    "# entropy_val_MLPmc_10, acc_MLPmc_10, confi_MLPmc_10 = ensembling_expt(10, MNIST_X_train, MNIST_Y_train, MNIST_X_val, MNIST_Y_val, MNIST_X_test, MNIST_Y_test, models.MCDropout)\n",
    "\n",
    "Nentropy_val_MLPmc_1, Nacc_MLPmc_1, Nconfi_MLPmc_1 = ensembling_expt(1, MNIST_X_train, MNIST_Y_train, notMNIST_X_val, notMNIST_Y_val, notMNIST_X_test, notMNIST_Y_test, models.MCDropout)\n",
    "# Nentropy_val_MLPmc_5, Nacc_MLPmc_5, Nconfi_MLPmc_5 = ensembling_expt(5, MNIST_X_train, MNIST_Y_train, notMNIST_X_val, notMNIST_Y_val, notMNIST_X_test, notMNIST_Y_test, models.MCDropout)\n",
    "# Nentropy_val_MLPmc_10, Nacc_MLPmc_10, Nconfi_MLPmc_10 = ensembling_expt(10, MNIST_X_train, MNIST_Y_train, notMNIST_X_val, notMNIST_Y_val, notMNIST_X_test, notMNIST_Y_test, models.MCDropout)\n"
   ]
  },
  {
   "cell_type": "markdown",
   "metadata": {},
   "source": [
    "## Ensembling MLP & variants"
   ]
  },
  {
   "cell_type": "markdown",
   "metadata": {},
   "source": [
    "### MNIST plots"
   ]
  },
  {
   "cell_type": "code",
   "execution_count": 6,
   "metadata": {
    "scrolled": true
   },
   "outputs": [
    {
     "name": "stderr",
     "output_type": "stream",
     "text": [
      "/usr/local/lib/python3.5/dist-packages/ipykernel_launcher.py:13: FutureWarning: Using a non-tuple sequence for multidimensional indexing is deprecated; use `arr[tuple(seq)]` instead of `arr[seq]`. In the future this will be interpreted as an array index, `arr[np.array(seq)]`, which will result either in an error or a different result.\n",
      "  del sys.path[0]\n",
      "/usr/local/lib/python3.5/dist-packages/ipykernel_launcher.py:14: FutureWarning: Using a non-tuple sequence for multidimensional indexing is deprecated; use `arr[tuple(seq)]` instead of `arr[seq]`. In the future this will be interpreted as an array index, `arr[np.array(seq)]`, which will result either in an error or a different result.\n",
      "  \n"
     ]
    },
    {
     "name": "stdout",
     "output_type": "stream",
     "text": [
      "Without Dropout, Vanilla MLP\n"
     ]
    },
    {
     "name": "stderr",
     "output_type": "stream",
     "text": [
      "/usr/local/lib/python3.5/dist-packages/tensorflow_core/python/client/session.py:1750: UserWarning: An interactive session is already active. This can cause out-of-memory errors in some cases. You must explicitly call `InteractiveSession.close()` to release resources held by the other session(s).\n",
      "  warnings.warn('An interactive session is already active. This can '\n"
     ]
    },
    {
     "name": "stdout",
     "output_type": "stream",
     "text": [
      "Epoch:0 | Train loss: 35.35 | Train acc: 0.940 | Test acc:0.938\n",
      "Epoch:1 | Train loss: 20.37 | Train acc: 0.957 | Test acc:0.956\n",
      "Epoch:2 | Train loss: 11.98 | Train acc: 0.967 | Test acc:0.964\n",
      "Epoch:3 | Train loss: 7.23 | Train acc: 0.974 | Test acc:0.966\n",
      "Epoch:4 | Train loss: 4.57 | Train acc: 0.979 | Test acc:0.971\n",
      "Epoch:5 | Train loss: 3.09 | Train acc: 0.984 | Test acc:0.974\n",
      "Epoch:6 | Train loss: 2.30 | Train acc: 0.987 | Test acc:0.975\n",
      "Epoch:7 | Train loss: 1.88 | Train acc: 0.987 | Test acc:0.974\n",
      "Epoch:8 | Train loss: 1.66 | Train acc: 0.989 | Test acc:0.974\n",
      "Epoch:9 | Train loss: 1.55 | Train acc: 0.990 | Test acc:0.976\n",
      "Epoch:10 | Train loss: 1.50 | Train acc: 0.989 | Test acc:0.976\n",
      "Epoch:11 | Train loss: 1.48 | Train acc: 0.992 | Test acc:0.980\n",
      "Epoch:12 | Train loss: 1.47 | Train acc: 0.989 | Test acc:0.974\n",
      "Epoch:13 | Train loss: 1.47 | Train acc: 0.993 | Test acc:0.976\n"
     ]
    }
   ],
   "source": [
    "entropy_val_MLP_1, acc_MLP_1, confi_MLP_1 = ensembling_expt(1, MNIST_X_train, MNIST_Y_train, MNIST_X_val, MNIST_Y_val, MNIST_X_test, MNIST_Y_test, models.MLP)\n",
    "# entropy_val_MLP_5, acc_MLP_5, confi_MLP_5 = ensembling_expt(5, MNIST_X_train, MNIST_Y_train, MNIST_X_val, MNIST_Y_val, MNIST_X_test, MNIST_Y_test, models.MLP)\n",
    "# entropy_val_MLP_10, acc_MLP_10, confi_MLP_10 = ensembling_expt(10, MNIST_X_train, MNIST_Y_train, MNIST_X_val, MNIST_Y_val, MNIST_X_test, MNIST_Y_test, models.MLP)"
   ]
  },
  {
   "cell_type": "code",
   "execution_count": 7,
   "metadata": {
    "scrolled": true
   },
   "outputs": [
    {
     "name": "stderr",
     "output_type": "stream",
     "text": [
      "/usr/local/lib/python3.5/dist-packages/ipykernel_launcher.py:13: FutureWarning: Using a non-tuple sequence for multidimensional indexing is deprecated; use `arr[tuple(seq)]` instead of `arr[seq]`. In the future this will be interpreted as an array index, `arr[np.array(seq)]`, which will result either in an error or a different result.\n",
      "  del sys.path[0]\n",
      "/usr/local/lib/python3.5/dist-packages/ipykernel_launcher.py:14: FutureWarning: Using a non-tuple sequence for multidimensional indexing is deprecated; use `arr[tuple(seq)]` instead of `arr[seq]`. In the future this will be interpreted as an array index, `arr[np.array(seq)]`, which will result either in an error or a different result.\n",
      "  \n"
     ]
    },
    {
     "name": "stdout",
     "output_type": "stream",
     "text": [
      "Without Dropout, MLP with random perturbations\n"
     ]
    },
    {
     "name": "stderr",
     "output_type": "stream",
     "text": [
      "/home/root/adversarial/Gal/models.py:656: FutureWarning: Using a non-tuple sequence for multidimensional indexing is deprecated; use `arr[tuple(seq)]` instead of `arr[seq]`. In the future this will be interpreted as an array index, `arr[np.array(seq)]`, which will result either in an error or a different result.\n",
      "  sample_X_train = X_train[[ind]] # X_train[[start_index,end_index]] ; this would let us take specific indices, so we can randomize the order, ensure each iteration is taking precisely unique samples\n",
      "/home/root/adversarial/Gal/models.py:657: FutureWarning: Using a non-tuple sequence for multidimensional indexing is deprecated; use `arr[tuple(seq)]` instead of `arr[seq]`. In the future this will be interpreted as an array index, `arr[np.array(seq)]`, which will result either in an error or a different result.\n",
      "  sample_Y_train = Y_train[[ind]]\n",
      "/usr/local/lib/python3.5/dist-packages/tensorflow_core/python/client/session.py:1750: UserWarning: An interactive session is already active. This can cause out-of-memory errors in some cases. You must explicitly call `InteractiveSession.close()` to release resources held by the other session(s).\n",
      "  warnings.warn('An interactive session is already active. This can '\n",
      "W0212 08:21:54.487613 140529053509376 deprecation.py:323] From /home/root/adversarial/Gal/models.py:667: Print (from tensorflow.python.ops.logging_ops) is deprecated and will be removed after 2018-08-20.\n",
      "Instructions for updating:\n",
      "Use tf.print instead of tf.Print. Note that tf.print returns a no-output operator that directly prints the output. Outside of defuns or eager mode, this operator will not be executed unless it is directly specified in session.run or used as a control dependency for other operators. This is only a concern in graph mode. Below is an example of how to ensure tf.print executes in graph mode:\n",
      "\n"
     ]
    },
    {
     "name": "stdout",
     "output_type": "stream",
     "text": [
      "New training set shape (X,Y):  ((60000, 784), (60000, 10))\n",
      "Epoch:0 | Train loss: 29.06 | Train acc: 0.836 | Test acc:0.831\n",
      "Epoch:1 | Train loss: 14.75 | Train acc: 0.924 | Test acc:0.923\n",
      "Epoch:2 | Train loss: 7.83 | Train acc: 0.933 | Test acc:0.931\n",
      "Epoch:3 | Train loss: 4.44 | Train acc: 0.960 | Test acc:0.955\n",
      "Epoch:4 | Train loss: 2.82 | Train acc: 0.962 | Test acc:0.955\n",
      "Epoch:5 | Train loss: 2.07 | Train acc: 0.932 | Test acc:0.926\n",
      "Epoch:6 | Train loss: 1.71 | Train acc: 0.964 | Test acc:0.957\n",
      "Epoch:7 | Train loss: 1.56 | Train acc: 0.968 | Test acc:0.955\n",
      "Epoch:8 | Train loss: 1.50 | Train acc: 0.984 | Test acc:0.971\n",
      "Epoch:9 | Train loss: 1.49 | Train acc: 0.974 | Test acc:0.961\n",
      "Epoch:10 | Train loss: 1.50 | Train acc: 0.954 | Test acc:0.940\n",
      "Epoch:11 | Train loss: 1.47 | Train acc: 0.985 | Test acc:0.970\n",
      "Epoch:12 | Train loss: 1.47 | Train acc: 0.991 | Test acc:0.976\n",
      "Epoch:13 | Train loss: 1.47 | Train acc: 0.989 | Test acc:0.977\n"
     ]
    }
   ],
   "source": [
    "entropy_val_MLPr_1, acc_MLPr_1, confi_MLPr_1 = ensembling_expt(1, MNIST_X_train, MNIST_Y_train, MNIST_X_val, MNIST_Y_val, MNIST_X_test, MNIST_Y_test, models.MLP_randomperturbation)\n",
    "# entropy_val_MLPr_5, acc_MLPr_5, confi_MLPr_5 = ensembling_expt(5, MNIST_X_train, MNIST_Y_train, MNIST_X_val, MNIST_Y_val, MNIST_X_test, MNIST_Y_test, models.MLP_randomperturbation)\n",
    "# entropy_val_MLPr_10, acc_MLPr_10, confi_MLPr_10 = ensembling_expt(10, MNIST_X_train, MNIST_Y_train, MNIST_X_val, MNIST_Y_val, MNIST_X_test, MNIST_Y_test, models.MLP_randomperturbation)\n"
   ]
  },
  {
   "cell_type": "code",
   "execution_count": 8,
   "metadata": {
    "scrolled": true
   },
   "outputs": [
    {
     "name": "stderr",
     "output_type": "stream",
     "text": [
      "/usr/local/lib/python3.5/dist-packages/ipykernel_launcher.py:13: FutureWarning: Using a non-tuple sequence for multidimensional indexing is deprecated; use `arr[tuple(seq)]` instead of `arr[seq]`. In the future this will be interpreted as an array index, `arr[np.array(seq)]`, which will result either in an error or a different result.\n",
      "  del sys.path[0]\n",
      "/usr/local/lib/python3.5/dist-packages/ipykernel_launcher.py:14: FutureWarning: Using a non-tuple sequence for multidimensional indexing is deprecated; use `arr[tuple(seq)]` instead of `arr[seq]`. In the future this will be interpreted as an array index, `arr[np.array(seq)]`, which will result either in an error or a different result.\n",
      "  \n",
      "/usr/local/lib/python3.5/dist-packages/tensorflow_core/python/client/session.py:1750: UserWarning: An interactive session is already active. This can cause out-of-memory errors in some cases. You must explicitly call `InteractiveSession.close()` to release resources held by the other session(s).\n",
      "  warnings.warn('An interactive session is already active. This can '\n"
     ]
    },
    {
     "name": "stdout",
     "output_type": "stream",
     "text": [
      "Without Dropout & Batch Normalization\n",
      "Epoch:0 | Train loss: 32.69 | Train acc: 0.974 | Test acc:0.966\n",
      "Epoch:1 | Train loss: 18.28 | Train acc: 0.985 | Test acc:0.973\n",
      "Epoch:2 | Train loss: 10.43 | Train acc: 0.989 | Test acc:0.977\n",
      "Epoch:3 | Train loss: 6.15 | Train acc: 0.991 | Test acc:0.978\n",
      "Epoch:4 | Train loss: 3.84 | Train acc: 0.992 | Test acc:0.976\n",
      "Epoch:5 | Train loss: 2.62 | Train acc: 0.993 | Test acc:0.979\n",
      "Epoch:6 | Train loss: 2.00 | Train acc: 0.995 | Test acc:0.979\n",
      "Epoch:7 | Train loss: 1.69 | Train acc: 0.996 | Test acc:0.981\n",
      "Epoch:8 | Train loss: 1.56 | Train acc: 0.996 | Test acc:0.980\n",
      "Epoch:9 | Train loss: 1.50 | Train acc: 0.997 | Test acc:0.982\n",
      "Epoch:10 | Train loss: 1.48 | Train acc: 0.995 | Test acc:0.977\n",
      "Epoch:11 | Train loss: 1.47 | Train acc: 0.997 | Test acc:0.981\n",
      "Epoch:12 | Train loss: 1.47 | Train acc: 0.997 | Test acc:0.980\n",
      "Epoch:13 | Train loss: 1.46 | Train acc: 0.998 | Test acc:0.980\n",
      "Without Dropout & Batch Normalization & Adversarial Training\n"
     ]
    },
    {
     "name": "stderr",
     "output_type": "stream",
     "text": [
      "/home/root/adversarial/Gal/models.py:421: FutureWarning: Using a non-tuple sequence for multidimensional indexing is deprecated; use `arr[tuple(seq)]` instead of `arr[seq]`. In the future this will be interpreted as an array index, `arr[np.array(seq)]`, which will result either in an error or a different result.\n",
      "  sample_X_train = X_train[[ind]] # X_train[[start_index,end_index]] ; this would let us take specific indices, so we can randomize the order, ensure each iteration is taking precisely unique samples\n",
      "/home/root/adversarial/Gal/models.py:422: FutureWarning: Using a non-tuple sequence for multidimensional indexing is deprecated; use `arr[tuple(seq)]` instead of `arr[seq]`. In the future this will be interpreted as an array index, `arr[np.array(seq)]`, which will result either in an error or a different result.\n",
      "  sample_Y_train = Y_train[[ind]]\n",
      "/usr/local/lib/python3.5/dist-packages/tensorflow_core/python/client/session.py:1750: UserWarning: An interactive session is already active. This can cause out-of-memory errors in some cases. You must explicitly call `InteractiveSession.close()` to release resources held by the other session(s).\n",
      "  warnings.warn('An interactive session is already active. This can '\n",
      "/home/root/adversarial/Gal/models.py:569: FutureWarning: Using a non-tuple sequence for multidimensional indexing is deprecated; use `arr[tuple(seq)]` instead of `arr[seq]`. In the future this will be interpreted as an array index, `arr[np.array(seq)]`, which will result either in an error or a different result.\n",
      "  sample_X_train = X_train[[ind]] # X_train[[start_index,end_index]] ; this would let us take specific indices, so we can randomize the order, ensure each iteration is taking precisely unique samples\n",
      "/home/root/adversarial/Gal/models.py:570: FutureWarning: Using a non-tuple sequence for multidimensional indexing is deprecated; use `arr[tuple(seq)]` instead of `arr[seq]`. In the future this will be interpreted as an array index, `arr[np.array(seq)]`, which will result either in an error or a different result.\n",
      "  sample_Y_train = Y_train[[ind]]\n"
     ]
    },
    {
     "name": "stdout",
     "output_type": "stream",
     "text": [
      "Epoch:0 | Train loss: 31.61 | Train acc: 0.831 | Test acc:0.970\n",
      "Epoch:1 | Train loss: 16.22 | Train acc: 0.837 | Test acc:0.974\n",
      "Epoch:2 | Train loss: 8.52 | Train acc: 0.841 | Test acc:0.979\n",
      "Epoch:3 | Train loss: 4.72 | Train acc: 0.841 | Test acc:0.975\n",
      "Epoch:4 | Train loss: 2.90 | Train acc: 0.845 | Test acc:0.977\n",
      "Epoch:5 | Train loss: 2.06 | Train acc: 0.845 | Test acc:0.977\n",
      "Epoch:6 | Train loss: 1.70 | Train acc: 0.846 | Test acc:0.978\n",
      "Epoch:7 | Train loss: 1.55 | Train acc: 0.846 | Test acc:0.980\n",
      "Epoch:8 | Train loss: 1.49 | Train acc: 0.846 | Test acc:0.979\n",
      "Epoch:9 | Train loss: 1.47 | Train acc: 0.847 | Test acc:0.979\n",
      "Epoch:10 | Train loss: 1.47 | Train acc: 0.847 | Test acc:0.980\n",
      "Epoch:11 | Train loss: 1.46 | Train acc: 0.846 | Test acc:0.980\n",
      "Epoch:12 | Train loss: 1.46 | Train acc: 0.848 | Test acc:0.981\n",
      "Epoch:13 | Train loss: 1.46 | Train acc: 0.847 | Test acc:0.981\n"
     ]
    }
   ],
   "source": [
    "entropy_val_MLPat_1, acc_MLPat_1, confi_MLPat_1 = ensembling_expt(1, MNIST_X_train, MNIST_Y_train, MNIST_X_val, MNIST_Y_val, MNIST_X_test, MNIST_Y_test, models.MLP_adversarialtraining)\n",
    "# entropy_val_MLPat_5, acc_MLPat_5, confi_MLPat_5 = ensembling_expt(5, MNIST_X_train, MNIST_Y_train, MNIST_X_val, MNIST_Y_val, MNIST_X_test, MNIST_Y_test, models.MLP_adversarialtraining)\n",
    "# entropy_val_MLPat_10, acc_MLPat_10, confi_MLPat_10 = ensembling_expt(10, MNIST_X_train, MNIST_Y_train, MNIST_X_val, MNIST_Y_val, MNIST_X_test, MNIST_Y_test, models.MLP_adversarialtraining)\n"
   ]
  },
  {
   "cell_type": "code",
   "execution_count": null,
   "metadata": {
    "scrolled": true
   },
   "outputs": [],
   "source": []
  },
  {
   "cell_type": "markdown",
   "metadata": {},
   "source": [
    "### notMNIST plots"
   ]
  },
  {
   "cell_type": "code",
   "execution_count": 9,
   "metadata": {
    "scrolled": true
   },
   "outputs": [
    {
     "name": "stderr",
     "output_type": "stream",
     "text": [
      "/usr/local/lib/python3.5/dist-packages/ipykernel_launcher.py:13: FutureWarning: Using a non-tuple sequence for multidimensional indexing is deprecated; use `arr[tuple(seq)]` instead of `arr[seq]`. In the future this will be interpreted as an array index, `arr[np.array(seq)]`, which will result either in an error or a different result.\n",
      "  del sys.path[0]\n",
      "/usr/local/lib/python3.5/dist-packages/ipykernel_launcher.py:14: FutureWarning: Using a non-tuple sequence for multidimensional indexing is deprecated; use `arr[tuple(seq)]` instead of `arr[seq]`. In the future this will be interpreted as an array index, `arr[np.array(seq)]`, which will result either in an error or a different result.\n",
      "  \n",
      "/usr/local/lib/python3.5/dist-packages/tensorflow_core/python/client/session.py:1750: UserWarning: An interactive session is already active. This can cause out-of-memory errors in some cases. You must explicitly call `InteractiveSession.close()` to release resources held by the other session(s).\n",
      "  warnings.warn('An interactive session is already active. This can '\n"
     ]
    },
    {
     "name": "stdout",
     "output_type": "stream",
     "text": [
      "Without Dropout, Vanilla MLP\n",
      "Epoch:0 | Train loss: 39.75 | Train acc: 0.939 | Test acc:0.087\n",
      "Epoch:1 | Train loss: 23.34 | Train acc: 0.957 | Test acc:0.077\n",
      "Epoch:2 | Train loss: 13.90 | Train acc: 0.970 | Test acc:0.082\n",
      "Epoch:3 | Train loss: 8.42 | Train acc: 0.972 | Test acc:0.079\n",
      "Epoch:4 | Train loss: 5.26 | Train acc: 0.981 | Test acc:0.102\n",
      "Epoch:5 | Train loss: 3.47 | Train acc: 0.982 | Test acc:0.095\n",
      "Epoch:6 | Train loss: 2.49 | Train acc: 0.983 | Test acc:0.096\n",
      "Epoch:7 | Train loss: 1.97 | Train acc: 0.989 | Test acc:0.091\n",
      "Epoch:8 | Train loss: 1.70 | Train acc: 0.986 | Test acc:0.091\n",
      "Epoch:9 | Train loss: 1.57 | Train acc: 0.989 | Test acc:0.086\n",
      "Epoch:10 | Train loss: 1.51 | Train acc: 0.984 | Test acc:0.100\n",
      "Epoch:11 | Train loss: 1.48 | Train acc: 0.992 | Test acc:0.103\n",
      "Epoch:12 | Train loss: 1.47 | Train acc: 0.991 | Test acc:0.122\n",
      "Epoch:13 | Train loss: 1.47 | Train acc: 0.990 | Test acc:0.097\n"
     ]
    }
   ],
   "source": [
    "Nentropy_val_MLP_1, Nacc_MLP_1, Nconfi_MLP_1 = ensembling_expt(1, MNIST_X_train, MNIST_Y_train, notMNIST_X_val, notMNIST_Y_val, notMNIST_X_test, notMNIST_Y_test, models.MLP)\n",
    "# Nentropy_val_MLP_5, Nacc_MLP_5, Nconfi_MLP_5 = ensembling_expt(5, MNIST_X_train, MNIST_Y_train, notMNIST_X_val, notMNIST_Y_val, notMNIST_X_test, notMNIST_Y_test, models.MLP)\n",
    "# Nentropy_val_MLP_10, Nacc_MLP_10, Nconfi_MLP_10 = ensembling_expt(10, MNIST_X_train, MNIST_Y_train, notMNIST_X_val, notMNIST_Y_val, notMNIST_X_test, notMNIST_Y_test, models.MLP)\n"
   ]
  },
  {
   "cell_type": "code",
   "execution_count": 10,
   "metadata": {
    "scrolled": true
   },
   "outputs": [
    {
     "name": "stderr",
     "output_type": "stream",
     "text": [
      "/usr/local/lib/python3.5/dist-packages/ipykernel_launcher.py:13: FutureWarning: Using a non-tuple sequence for multidimensional indexing is deprecated; use `arr[tuple(seq)]` instead of `arr[seq]`. In the future this will be interpreted as an array index, `arr[np.array(seq)]`, which will result either in an error or a different result.\n",
      "  del sys.path[0]\n",
      "/usr/local/lib/python3.5/dist-packages/ipykernel_launcher.py:14: FutureWarning: Using a non-tuple sequence for multidimensional indexing is deprecated; use `arr[tuple(seq)]` instead of `arr[seq]`. In the future this will be interpreted as an array index, `arr[np.array(seq)]`, which will result either in an error or a different result.\n",
      "  \n"
     ]
    },
    {
     "name": "stdout",
     "output_type": "stream",
     "text": [
      "Without Dropout, MLP with random perturbations\n"
     ]
    },
    {
     "name": "stderr",
     "output_type": "stream",
     "text": [
      "/home/root/adversarial/Gal/models.py:656: FutureWarning: Using a non-tuple sequence for multidimensional indexing is deprecated; use `arr[tuple(seq)]` instead of `arr[seq]`. In the future this will be interpreted as an array index, `arr[np.array(seq)]`, which will result either in an error or a different result.\n",
      "  sample_X_train = X_train[[ind]] # X_train[[start_index,end_index]] ; this would let us take specific indices, so we can randomize the order, ensure each iteration is taking precisely unique samples\n",
      "/home/root/adversarial/Gal/models.py:657: FutureWarning: Using a non-tuple sequence for multidimensional indexing is deprecated; use `arr[tuple(seq)]` instead of `arr[seq]`. In the future this will be interpreted as an array index, `arr[np.array(seq)]`, which will result either in an error or a different result.\n",
      "  sample_Y_train = Y_train[[ind]]\n",
      "/usr/local/lib/python3.5/dist-packages/tensorflow_core/python/client/session.py:1750: UserWarning: An interactive session is already active. This can cause out-of-memory errors in some cases. You must explicitly call `InteractiveSession.close()` to release resources held by the other session(s).\n",
      "  warnings.warn('An interactive session is already active. This can '\n"
     ]
    },
    {
     "name": "stdout",
     "output_type": "stream",
     "text": [
      "New training set shape (X,Y):  ((60000, 784), (60000, 10))\n",
      "Epoch:0 | Train loss: 29.98 | Train acc: 0.911 | Test acc:0.051\n",
      "Epoch:1 | Train loss: 15.35 | Train acc: 0.949 | Test acc:0.058\n",
      "Epoch:2 | Train loss: 8.23 | Train acc: 0.913 | Test acc:0.056\n",
      "Epoch:3 | Train loss: 4.69 | Train acc: 0.969 | Test acc:0.060\n",
      "Epoch:4 | Train loss: 3.02 | Train acc: 0.914 | Test acc:0.060\n",
      "Epoch:5 | Train loss: 2.17 | Train acc: 0.959 | Test acc:0.079\n",
      "Epoch:6 | Train loss: 1.76 | Train acc: 0.983 | Test acc:0.072\n",
      "Epoch:7 | Train loss: 1.59 | Train acc: 0.982 | Test acc:0.071\n",
      "Epoch:8 | Train loss: 1.51 | Train acc: 0.984 | Test acc:0.075\n",
      "Epoch:9 | Train loss: 1.49 | Train acc: 0.984 | Test acc:0.071\n",
      "Epoch:10 | Train loss: 1.48 | Train acc: 0.984 | Test acc:0.069\n",
      "Epoch:11 | Train loss: 1.47 | Train acc: 0.987 | Test acc:0.080\n",
      "Epoch:12 | Train loss: 1.47 | Train acc: 0.987 | Test acc:0.086\n",
      "Epoch:13 | Train loss: 1.48 | Train acc: 0.968 | Test acc:0.094\n"
     ]
    }
   ],
   "source": [
    "Nentropy_val_MLPr_1, Nacc_MLPr_1, Nconfi_MLPr_1 = ensembling_expt(1, MNIST_X_train, MNIST_Y_train, notMNIST_X_val, notMNIST_Y_val, notMNIST_X_test, notMNIST_Y_test, models.MLP_randomperturbation)\n",
    "# Nentropy_val_MLPr_5, Nacc_MLPr_5, Nconfi_MLPr_5 = ensembling_expt(5, MNIST_X_train, MNIST_Y_train, notMNIST_X_val, notMNIST_Y_val, notMNIST_X_test, notMNIST_Y_test, models.MLP_randomperturbation)\n",
    "# Nentropy_val_MLPr_10, Nacc_MLPr_10, Nconfi_MLPr_10 = ensembling_expt(10, MNIST_X_train, MNIST_Y_train, notMNIST_X_val, notMNIST_Y_val, notMNIST_X_test, notMNIST_Y_test, models.MLP_randomperturbation)\n"
   ]
  },
  {
   "cell_type": "code",
   "execution_count": 11,
   "metadata": {
    "scrolled": true
   },
   "outputs": [
    {
     "name": "stderr",
     "output_type": "stream",
     "text": [
      "/usr/local/lib/python3.5/dist-packages/ipykernel_launcher.py:13: FutureWarning: Using a non-tuple sequence for multidimensional indexing is deprecated; use `arr[tuple(seq)]` instead of `arr[seq]`. In the future this will be interpreted as an array index, `arr[np.array(seq)]`, which will result either in an error or a different result.\n",
      "  del sys.path[0]\n",
      "/usr/local/lib/python3.5/dist-packages/ipykernel_launcher.py:14: FutureWarning: Using a non-tuple sequence for multidimensional indexing is deprecated; use `arr[tuple(seq)]` instead of `arr[seq]`. In the future this will be interpreted as an array index, `arr[np.array(seq)]`, which will result either in an error or a different result.\n",
      "  \n",
      "/usr/local/lib/python3.5/dist-packages/tensorflow_core/python/client/session.py:1750: UserWarning: An interactive session is already active. This can cause out-of-memory errors in some cases. You must explicitly call `InteractiveSession.close()` to release resources held by the other session(s).\n",
      "  warnings.warn('An interactive session is already active. This can '\n"
     ]
    },
    {
     "name": "stdout",
     "output_type": "stream",
     "text": [
      "Without Dropout & Batch Normalization\n",
      "Epoch:0 | Train loss: 33.93 | Train acc: 0.974 | Test acc:0.103\n",
      "Epoch:1 | Train loss: 18.87 | Train acc: 0.983 | Test acc:0.092\n",
      "Epoch:2 | Train loss: 10.65 | Train acc: 0.989 | Test acc:0.105\n",
      "Epoch:3 | Train loss: 6.20 | Train acc: 0.992 | Test acc:0.100\n",
      "Epoch:4 | Train loss: 3.82 | Train acc: 0.994 | Test acc:0.103\n",
      "Epoch:5 | Train loss: 2.58 | Train acc: 0.995 | Test acc:0.101\n",
      "Epoch:6 | Train loss: 1.96 | Train acc: 0.993 | Test acc:0.099\n",
      "Epoch:7 | Train loss: 1.67 | Train acc: 0.996 | Test acc:0.105\n",
      "Epoch:8 | Train loss: 1.54 | Train acc: 0.996 | Test acc:0.110\n",
      "Epoch:9 | Train loss: 1.49 | Train acc: 0.997 | Test acc:0.111\n",
      "Epoch:10 | Train loss: 1.47 | Train acc: 0.997 | Test acc:0.108\n",
      "Epoch:11 | Train loss: 1.46 | Train acc: 0.997 | Test acc:0.103\n",
      "Epoch:12 | Train loss: 1.46 | Train acc: 0.997 | Test acc:0.084\n",
      "Epoch:13 | Train loss: 1.46 | Train acc: 0.998 | Test acc:0.086\n",
      "Without Dropout & Batch Normalization & Adversarial Training\n"
     ]
    },
    {
     "name": "stderr",
     "output_type": "stream",
     "text": [
      "/home/root/adversarial/Gal/models.py:421: FutureWarning: Using a non-tuple sequence for multidimensional indexing is deprecated; use `arr[tuple(seq)]` instead of `arr[seq]`. In the future this will be interpreted as an array index, `arr[np.array(seq)]`, which will result either in an error or a different result.\n",
      "  sample_X_train = X_train[[ind]] # X_train[[start_index,end_index]] ; this would let us take specific indices, so we can randomize the order, ensure each iteration is taking precisely unique samples\n",
      "/home/root/adversarial/Gal/models.py:422: FutureWarning: Using a non-tuple sequence for multidimensional indexing is deprecated; use `arr[tuple(seq)]` instead of `arr[seq]`. In the future this will be interpreted as an array index, `arr[np.array(seq)]`, which will result either in an error or a different result.\n",
      "  sample_Y_train = Y_train[[ind]]\n",
      "/usr/local/lib/python3.5/dist-packages/tensorflow_core/python/client/session.py:1750: UserWarning: An interactive session is already active. This can cause out-of-memory errors in some cases. You must explicitly call `InteractiveSession.close()` to release resources held by the other session(s).\n",
      "  warnings.warn('An interactive session is already active. This can '\n",
      "/home/root/adversarial/Gal/models.py:569: FutureWarning: Using a non-tuple sequence for multidimensional indexing is deprecated; use `arr[tuple(seq)]` instead of `arr[seq]`. In the future this will be interpreted as an array index, `arr[np.array(seq)]`, which will result either in an error or a different result.\n",
      "  sample_X_train = X_train[[ind]] # X_train[[start_index,end_index]] ; this would let us take specific indices, so we can randomize the order, ensure each iteration is taking precisely unique samples\n",
      "/home/root/adversarial/Gal/models.py:570: FutureWarning: Using a non-tuple sequence for multidimensional indexing is deprecated; use `arr[tuple(seq)]` instead of `arr[seq]`. In the future this will be interpreted as an array index, `arr[np.array(seq)]`, which will result either in an error or a different result.\n",
      "  sample_Y_train = Y_train[[ind]]\n"
     ]
    },
    {
     "name": "stdout",
     "output_type": "stream",
     "text": [
      "Epoch:0 | Train loss: 30.00 | Train acc: 0.829 | Test acc:0.094\n",
      "Epoch:1 | Train loss: 15.37 | Train acc: 0.838 | Test acc:0.086\n",
      "Epoch:2 | Train loss: 8.08 | Train acc: 0.842 | Test acc:0.088\n",
      "Epoch:3 | Train loss: 4.48 | Train acc: 0.845 | Test acc:0.075\n",
      "Epoch:4 | Train loss: 2.76 | Train acc: 0.845 | Test acc:0.090\n",
      "Epoch:5 | Train loss: 1.98 | Train acc: 0.845 | Test acc:0.095\n",
      "Epoch:6 | Train loss: 1.65 | Train acc: 0.846 | Test acc:0.074\n",
      "Epoch:7 | Train loss: 1.52 | Train acc: 0.847 | Test acc:0.081\n",
      "Epoch:8 | Train loss: 1.48 | Train acc: 0.846 | Test acc:0.095\n",
      "Epoch:9 | Train loss: 1.47 | Train acc: 0.848 | Test acc:0.079\n",
      "Epoch:10 | Train loss: 1.46 | Train acc: 0.847 | Test acc:0.093\n",
      "Epoch:11 | Train loss: 1.46 | Train acc: 0.848 | Test acc:0.102\n",
      "Epoch:12 | Train loss: 1.46 | Train acc: 0.848 | Test acc:0.109\n",
      "Epoch:13 | Train loss: 1.46 | Train acc: 0.847 | Test acc:0.109\n"
     ]
    }
   ],
   "source": [
    "Nentropy_val_MLPat_1, Nacc_MLPat_1, Nconfi_MLPat_1 = ensembling_expt(1, MNIST_X_train, MNIST_Y_train, notMNIST_X_val, notMNIST_Y_val, notMNIST_X_test, notMNIST_Y_test, models.MLP_adversarialtraining)\n",
    "# Nentropy_val_MLPat_5, Nacc_MLPat_5, Nconfi_MLPat_5 = ensembling_expt(5, MNIST_X_train, MNIST_Y_train, notMNIST_X_val, notMNIST_Y_val, notMNIST_X_test, notMNIST_Y_test, models.MLP_adversarialtraining)\n",
    "# Nentropy_val_MLPat_10, Nacc_MLPat_10, Nconfi_MLPat_10 = ensembling_expt(10, MNIST_X_train, MNIST_Y_train, notMNIST_X_val, notMNIST_Y_val, notMNIST_X_test, notMNIST_Y_test, models.MLP_adversarialtraining)\n"
   ]
  },
  {
   "cell_type": "code",
   "execution_count": null,
   "metadata": {
    "scrolled": true
   },
   "outputs": [],
   "source": []
  },
  {
   "cell_type": "markdown",
   "metadata": {},
   "source": [
    "## Figure 3(a) plots"
   ]
  },
  {
   "cell_type": "code",
   "execution_count": 12,
   "metadata": {},
   "outputs": [
    {
     "name": "stderr",
     "output_type": "stream",
     "text": [
      "/usr/local/lib/python3.5/dist-packages/matplotlib/axes/_axes.py:6521: MatplotlibDeprecationWarning: \n",
      "The 'normed' kwarg was deprecated in Matplotlib 2.1 and will be removed in 3.1. Use 'density' instead.\n",
      "  alternative=\"'density'\", removal=\"3.1\")\n"
     ]
    },
    {
     "data": {
      "image/png": "[encoded data removed]",
      "text/plain": [
       "<Figure size 432x288 with 1 Axes>"
      ]
     },
     "metadata": {
      "needs_background": "light"
     },
     "output_type": "display_data"
    }
   ],
   "source": [
    "import matplotlib.pyplot as plt\n",
    "%matplotlib inline\n",
    "plt.hist(entropy_val_MLP_1, normed=True, bins=300, label = '1')\n",
    "# plt.hist(entropy_val_MLP_5, normed=True, bins=300, label = '5')\n",
    "# plt.hist(entropy_val_MLP_10, normed=True, bins=300, label = '10')\n",
    "plt.xlabel('Entropy values')\n",
    "plt.title(\"Ensemble - MNIST\")\n",
    "plt.legend()\n",
    "plt.show()"
   ]
  },
  {
   "cell_type": "code",
   "execution_count": 13,
   "metadata": {},
   "outputs": [
    {
     "data": {
      "image/png": "[encoded data removed]",
      "text/plain": [
       "<Figure size 432x288 with 1 Axes>"
      ]
     },
     "metadata": {
      "needs_background": "light"
     },
     "output_type": "display_data"
    }
   ],
   "source": [
    "import matplotlib.pyplot as plt\n",
    "%matplotlib inline\n",
    "plt.hist(entropy_val_MLPr_1, normed=True, bins=300, label = '1')\n",
    "# plt.hist(entropy_val_MLPr_5, normed=True, bins=300, label = '5')\n",
    "# plt.hist(entropy_val_MLPr_10, normed=True, bins=300, label = '10')\n",
    "plt.xlabel('Entropy values')\n",
    "plt.title(\"Ensemble+R - MNIST\")\n",
    "plt.legend()\n",
    "plt.show()"
   ]
  },
  {
   "cell_type": "code",
   "execution_count": 14,
   "metadata": {},
   "outputs": [
    {
     "data": {
      "image/png": "[encoded data removed]",
      "text/plain": [
       "<Figure size 432x288 with 1 Axes>"
      ]
     },
     "metadata": {
      "needs_background": "light"
     },
     "output_type": "display_data"
    }
   ],
   "source": [
    "import matplotlib.pyplot as plt\n",
    "%matplotlib inline\n",
    "plt.hist(entropy_val_MLPat_1, normed=True, bins=300, label = '1')\n",
    "# plt.hist(entropy_val_MLPat_5, normed=True, bins=300, label = '5')\n",
    "# plt.hist(entropy_val_MLPat_10, normed=True, bins=300, label = '10')\n",
    "plt.xlabel('Entropy values')\n",
    "plt.title(\"Ensemble+AT - MNIST\")\n",
    "plt.legend()\n",
    "plt.show()"
   ]
  },
  {
   "cell_type": "code",
   "execution_count": 15,
   "metadata": {},
   "outputs": [
    {
     "data": {
      "image/png": "[encoded data removed]",
      "text/plain": [
       "<Figure size 432x288 with 1 Axes>"
      ]
     },
     "metadata": {
      "needs_background": "light"
     },
     "output_type": "display_data"
    }
   ],
   "source": [
    "import matplotlib.pyplot as plt\n",
    "%matplotlib inline\n",
    "plt.hist(entropy_val_MLPmc_1, normed=True, bins=300, label = '1')\n",
    "# plt.hist(entropy_val_MLPmc_5, normed=True, bins=300, label = '5')\n",
    "# plt.hist(entropy_val_MLPmc_10, normed=True, bins=300, label = '10')\n",
    "plt.xlabel('Entropy values')\n",
    "plt.title(\"MC Dropout 0.1 - MNIST\")\n",
    "plt.legend()\n",
    "plt.show()"
   ]
  },
  {
   "cell_type": "code",
   "execution_count": 16,
   "metadata": {},
   "outputs": [
    {
     "data": {
      "image/png": "[encoded data removed]",
      "text/plain": [
       "<Figure size 432x288 with 1 Axes>"
      ]
     },
     "metadata": {
      "needs_background": "light"
     },
     "output_type": "display_data"
    }
   ],
   "source": [
    "import matplotlib.pyplot as plt\n",
    "%matplotlib inline\n",
    "plt.hist(Nentropy_val_MLP_1, normed=True, bins=300, label = '1')\n",
    "# plt.hist(Nentropy_val_MLP_5, normed=True, bins=300, label = '5')\n",
    "# plt.hist(Nentropy_val_MLP_10, normed=True, bins=300, label = '10')\n",
    "plt.xlabel('Entropy values')\n",
    "plt.title(\"Ensemble - notMNIST\")\n",
    "plt.legend()\n",
    "plt.show()"
   ]
  },
  {
   "cell_type": "code",
   "execution_count": 17,
   "metadata": {},
   "outputs": [
    {
     "data": {
      "image/png": "[encoded data removed]",
      "text/plain": [
       "<Figure size 432x288 with 1 Axes>"
      ]
     },
     "metadata": {
      "needs_background": "light"
     },
     "output_type": "display_data"
    }
   ],
   "source": [
    "import matplotlib.pyplot as plt\n",
    "%matplotlib inline\n",
    "plt.hist(Nentropy_val_MLPr_1, normed=True, bins=300, label = '1')\n",
    "# plt.hist(Nentropy_val_MLPr_5, normed=True, bins=300, label = '5')\n",
    "# plt.hist(Nentropy_val_MLPr_10, normed=True, bins=300, label = '10')\n",
    "plt.xlabel('Entropy values')\n",
    "plt.title(\"Ensemble+R - notMNIST\")\n",
    "plt.legend()\n",
    "plt.show()"
   ]
  },
  {
   "cell_type": "code",
   "execution_count": 18,
   "metadata": {},
   "outputs": [
    {
     "data": {
      "image/png": "[encoded data removed]",
      "text/plain": [
       "<Figure size 432x288 with 1 Axes>"
      ]
     },
     "metadata": {
      "needs_background": "light"
     },
     "output_type": "display_data"
    }
   ],
   "source": [
    "import matplotlib.pyplot as plt\n",
    "%matplotlib inline\n",
    "plt.hist(Nentropy_val_MLPat_1, normed=True, bins=300, label = '1')\n",
    "# plt.hist(Nentropy_val_MLPat_5, normed=True, bins=300, label = '5')\n",
    "# plt.hist(Nentropy_val_MLPat_10, normed=True, bins=300, label = '10')\n",
    "plt.xlabel('Entropy values')\n",
    "plt.title(\"Ensemble+AT - notMNIST\")\n",
    "plt.legend()\n",
    "plt.show()"
   ]
  },
  {
   "cell_type": "code",
   "execution_count": 19,
   "metadata": {},
   "outputs": [
    {
     "data": {
      "image/png": "[encoded data removed]",
      "text/plain": [
       "<Figure size 432x288 with 1 Axes>"
      ]
     },
     "metadata": {
      "needs_background": "light"
     },
     "output_type": "display_data"
    }
   ],
   "source": [
    "import matplotlib.pyplot as plt\n",
    "%matplotlib inline\n",
    "plt.hist(Nentropy_val_MLPmc_1, normed=True, bins=300, label = '1')\n",
    "# plt.hist(Nentropy_val_MLPmc_5, normed=True, bins=300, label = '5')\n",
    "# plt.hist(Nentropy_val_MLPmc_10, normed=True, bins=300, label = '10')\n",
    "plt.xlabel('Entropy values')\n",
    "plt.title(\"MC Dropout 0.1 - notMNIST\")\n",
    "plt.legend()\n",
    "plt.show()"
   ]
  },
  {
   "cell_type": "code",
   "execution_count": null,
   "metadata": {},
   "outputs": [],
   "source": []
  },
  {
   "cell_type": "markdown",
   "metadata": {},
   "source": [
    "## Figure 6 plots"
   ]
  },
  {
   "cell_type": "code",
   "execution_count": 20,
   "metadata": {},
   "outputs": [
    {
     "data": {
      "image/png": "[encoded data removed]",
      "text/plain": [
       "<Figure size 432x288 with 1 Axes>"
      ]
     },
     "metadata": {
      "needs_background": "light"
     },
     "output_type": "display_data"
    }
   ],
   "source": [
    "# Fig 6 test\n",
    "\n",
    "import matplotlib.pyplot as plt\n",
    "%matplotlib inline\n",
    "\n",
    "confi_complete_list = [confi_MLP_1, confi_MLPr_1, confi_MLPat_1, confi_MLPmc_1, Nconfi_MLP_1, Nconfi_MLPr_1, Nconfi_MLPat_1, Nconfi_MLPmc_1]\n",
    "acc_complete_list = [acc_MLP_1, acc_MLPr_1, acc_MLPat_1, acc_MLPmc_1, Nacc_MLP_1, Nacc_MLPr_1, Nacc_MLPat_1, Nacc_MLPmc_1]\n",
    "\n",
    "plt.scatter(confi_complete_list, acc_complete_list)\n",
    "plt.xlabel('Confidence')\n",
    "plt.ylabel('Accuracy')\n",
    "# plt.legend()\n",
    "plt.show()"
   ]
  },
  {
   "cell_type": "code",
   "execution_count": null,
   "metadata": {},
   "outputs": [],
   "source": []
  }
 ],
 "metadata": {
  "kernelspec": {
   "display_name": "Python 3",
   "language": "python",
   "name": "python3"
  },
  "language_info": {
   "codemirror_mode": {
    "name": "ipython",
    "version": 3
   },
   "file_extension": ".py",
   "mimetype": "text/x-python",
   "name": "python",
   "nbconvert_exporter": "python",
   "pygments_lexer": "ipython3",
   "version": "3.5.2"
  }
 },
 "nbformat": 4,
 "nbformat_minor": 2
}
