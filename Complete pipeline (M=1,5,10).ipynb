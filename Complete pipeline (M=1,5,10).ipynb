{
 "cells": [
  {
   "cell_type": "markdown",
   "metadata": {},
   "source": [
    "### Implementation of [Simple and Scalable Predictive Uncertainty Estimation using Deep Ensembles](https://papers.nips.cc/paper/7219-simple-and-scalable-predictive-uncertainty-estimation-using-deep-ensembles.pdf)\n",
    "\n",
    "Note: Kernel died before I could plot the results, so I had to rerun in the last minute to at least show results for M=1 (refer to \"Complete Pipeline (M=1)\""
   ]
  },
  {
   "cell_type": "code",
   "execution_count": 1,
   "metadata": {},
   "outputs": [
    {
     "name": "stderr",
     "output_type": "stream",
     "text": [
      "Using TensorFlow backend.\n"
     ]
    }
   ],
   "source": [
    "from __future__ import print_function\n",
    "import numpy as np\n",
    "import matplotlib as mpl\n",
    "import matplotlib.pyplot as plt\n",
    "import pandas as pd\n",
    "from keras.datasets import mnist\n",
    "from keras.models import Sequential\n",
    "from keras.layers.core import Dense, Dropout, Activation\n",
    "from keras.optimizers import RMSprop\n",
    "from keras.utils import np_utils\n",
    "import numpy as np\n",
    "from six.moves import cPickle as pickle\n",
    "from six.moves import range\n",
    "import os\n",
    "import keras\n",
    "from sklearn.preprocessing import LabelBinarizer\n",
    "import matplotlib.pyplot as plt\n",
    "import os\n",
    "import pickle\n",
    "import random\n",
    "\n",
    "import load_data\n",
    "import models"
   ]
  },
  {
   "cell_type": "code",
   "execution_count": 2,
   "metadata": {},
   "outputs": [
    {
     "name": "stdout",
     "output_type": "stream",
     "text": [
      "notMNIST\n",
      "20000 train samples\n",
      "1000 valid samples\n",
      "1000 test samples\n",
      "MNIST\n",
      "Train labels dimension:\n",
      "(50000, 10)\n",
      "Test labels dimension:\n",
      "(10000, 10)\n"
     ]
    }
   ],
   "source": [
    "print(\"notMNIST\")\n",
    "notMNIST_X_train, notMNIST_Y_train, notMNIST_X_val, notMNIST_Y_val, notMNIST_X_test, notMNIST_Y_test = load_data.data_notMNIST()\n",
    "print(\"MNIST\")\n",
    "MNIST_X_train, MNIST_Y_train, MNIST_X_val, MNIST_Y_val, MNIST_X_test, MNIST_Y_test = load_data.data_MNIST()"
   ]
  },
  {
   "cell_type": "code",
   "execution_count": 3,
   "metadata": {},
   "outputs": [],
   "source": [
    "def Ensembling_Data(M, MNIST_X_train, MNIST_Y_train):\n",
    "#     M = 5\n",
    "    sampled_indices = np.arange(0,MNIST_X_train.shape[0])\n",
    "    random.shuffle(sampled_indices)\n",
    "\n",
    "    cut = int(MNIST_X_train.shape[0]/M)\n",
    "    index_sample_list = []\n",
    "    for i in range(M):\n",
    "        index_sample_list.append(sampled_indices[cut*i:cut*(i+1)])\n",
    "        \n",
    "    training_X_df = []; training_Y_df = []\n",
    "    for index_range in index_sample_list:\n",
    "        training_X_df.append(MNIST_X_train[[index_range]])\n",
    "        training_Y_df.append(MNIST_Y_train[[index_range]])\n",
    "        \n",
    "    return training_X_df, training_Y_df\n",
    "\n",
    "def NLL(pred_values, MNIST_Y_test, index_of_y):\n",
    "\n",
    "    from keras import backend as K\n",
    "\n",
    "    # generate NLL distribution\n",
    "#     pred_hotcoded = np_utils.to_categorical(pred_values, 10)[index_of_y:index_of_y+1]\n",
    "\n",
    "    # y_test = y_test.astype('float32') # necessary here, since y_pred comes in this type - check in your case with y_test.dtype and y_pred.dtype\n",
    "    # y_test = K.constant(y_test)\n",
    "    # y_pred = K.constant(y_pred)\n",
    "\n",
    "#     y_pred = K.constant(pred_hotcoded)\n",
    "    \n",
    "    y_pred = K.constant(pred_values[index_of_y:index_of_y+1])\n",
    "\n",
    "    g = K.categorical_crossentropy(target=MNIST_Y_test[index_of_y:index_of_y+1], output=y_pred)  # tensor\n",
    "    ce = K.eval(g)  # 'ce' for cross-entropy\n",
    "    ce.shape\n",
    "    # (10000,) # i.e. one loss quantity per sample\n",
    "\n",
    "    # sum up and divide with the no. of samples:\n",
    "    log_loss = np.sum(ce)/ce.shape[0]\n",
    "#     log_loss\n",
    "    # 0.05165323486328125\n",
    "    \n",
    "    # https://stackoverflow.com/questions/52497625/how-to-calculate-negative-log-likelihoog-on-mnist-dataset\n",
    "    return log_loss\n",
    "\n",
    "def entropy_values(MNIST_Y_test, prediction):\n",
    "    entropy_values=[]\n",
    "    # Note: To obtain results faster, we use 200 samples for testing purposes\n",
    "    for i in range(len(MNIST_Y_test[0:200])): # WARNING: Remove 100 limit, let whole dataframe!!!\n",
    "        log_loss = NLL(prediction, MNIST_Y_test, i)\n",
    "        entropy_values.append(log_loss)\n",
    "#         print(i)\n",
    "    #     print(log_loss)\n",
    "    return entropy_values\n",
    "\n",
    "# def entropy_values_faster(MNIST_Y_test, prediction):\n",
    "# #     entropy_values=[]\n",
    "# #     for i in range(len(MNIST_Y_test[0:])): # WARNING: Remove 100 limit, let whole dataframe!!!\n",
    "# #         log_loss = NLL(prediction, MNIST_Y_test, i)\n",
    "# #         entropy_values.append(log_loss)\n",
    "#     entropy_values = [NLL(prediction, MNIST_Y_test, i) for i in range(len(MNIST_Y_test))]\n",
    "#     #     print(log_loss)\n",
    "#     return entropy_values\n",
    "\n"
   ]
  },
  {
   "cell_type": "code",
   "execution_count": 4,
   "metadata": {},
   "outputs": [],
   "source": [
    "def ensembling_expt(M, MNIST_X_train, MNIST_Y_train, MNIST_X_val, MNIST_Y_val, MNIST_X_test, MNIST_Y_test, model_function):\n",
    "    \n",
    "    training_X_df, training_Y_df = Ensembling_Data(M, MNIST_X_train, MNIST_Y_train)\n",
    "\n",
    "    prediction_storage=[]\n",
    "    acc_storage=[]\n",
    "    for i in range(M):\n",
    "        X_train = training_X_df[i]\n",
    "        Y_train = training_Y_df[i]\n",
    "#         model_function = models.MLP()\n",
    "#         pred = models.MLP(X_train, Y_train, MNIST_X_val, MNIST_Y_val, MNIST_X_test, MNIST_Y_test)\n",
    "        pred, acc = model_function(X_train, Y_train, MNIST_X_val, MNIST_Y_val, MNIST_X_test, MNIST_Y_test)\n",
    "        prediction_storage.append(pred)\n",
    "        acc_storage.append(acc)\n",
    "#     print(prediction_storage[0])\n",
    "\n",
    "    confi_list=[]\n",
    "    for item in prediction_storage:\n",
    "        tmplist=[]\n",
    "        for array in item:\n",
    "            confidence = max(array) # apparently this is defined as confidence by the paper??\n",
    "            tmplist.append(confidence)\n",
    "        confi_list.append(pd.Series(tmplist).mean())\n",
    "\n",
    "    avg_predictions_from_ensemble=[]\n",
    "    for j in range(len(prediction_storage[0])):\n",
    "        tmpList=[]\n",
    "        for i in range(M):\n",
    "            tmpList.append(prediction_storage[i][j])\n",
    "        pred_avg = np.average(tmpList, axis=0)\n",
    "        avg_predictions_from_ensemble.append(pred_avg)\n",
    "    acc_avg = np.average(acc_storage, axis=0)\n",
    "    avg_predictions_from_ensemble2 = np.array([list(i) for i in avg_predictions_from_ensemble])\n",
    "    entropy_val = entropy_values(MNIST_Y_test, avg_predictions_from_ensemble2)\n",
    "    \n",
    "    return entropy_val, acc_storage, confi_list"
   ]
  },
  {
   "cell_type": "markdown",
   "metadata": {},
   "source": [
    "## Baseline (MC Dropout)"
   ]
  },
  {
   "cell_type": "code",
   "execution_count": 5,
   "metadata": {
    "scrolled": true
   },
   "outputs": [
    {
     "name": "stderr",
     "output_type": "stream",
     "text": [
      "/usr/local/lib/python3.5/dist-packages/ipykernel_launcher.py:13: FutureWarning: Using a non-tuple sequence for multidimensional indexing is deprecated; use `arr[tuple(seq)]` instead of `arr[seq]`. In the future this will be interpreted as an array index, `arr[np.array(seq)]`, which will result either in an error or a different result.\n",
      "  del sys.path[0]\n",
      "/usr/local/lib/python3.5/dist-packages/ipykernel_launcher.py:14: FutureWarning: Using a non-tuple sequence for multidimensional indexing is deprecated; use `arr[tuple(seq)]` instead of `arr[seq]`. In the future this will be interpreted as an array index, `arr[np.array(seq)]`, which will result either in an error or a different result.\n",
      "  \n"
     ]
    },
    {
     "name": "stdout",
     "output_type": "stream",
     "text": [
      "With Dropout & Batch Normalization\n"
     ]
    },
    {
     "name": "stderr",
     "output_type": "stream",
     "text": [
      "WARNING: Logging before flag parsing goes to stderr.\n",
      "W0212 05:35:47.378006 139990761948928 module_wrapper.py:139] From /home/root/adversarial/Gal/models.py:158: The name tf.InteractiveSession is deprecated. Please use tf.compat.v1.InteractiveSession instead.\n",
      "\n",
      "W0212 05:35:49.808238 139990761948928 module_wrapper.py:139] From /home/root/adversarial/Gal/models.py:171: The name tf.placeholder is deprecated. Please use tf.compat.v1.placeholder instead.\n",
      "\n",
      "W0212 05:35:49.813311 139990761948928 module_wrapper.py:139] From /home/root/adversarial/Gal/models.py:177: The name tf.random_normal is deprecated. Please use tf.random.normal instead.\n",
      "\n",
      "W0212 05:35:49.902889 139990761948928 deprecation.py:506] From /home/root/adversarial/Gal/models.py:192: calling dropout (from tensorflow.python.ops.nn_ops) with keep_prob is deprecated and will be removed in a future version.\n",
      "Instructions for updating:\n",
      "Please use `rate` instead of `keep_prob`. Rate should be set to `rate = 1 - keep_prob`.\n",
      "W0212 05:35:50.013988 139990761948928 module_wrapper.py:139] From /home/root/adversarial/Gal/models.py:216: The name tf.train.exponential_decay is deprecated. Please use tf.compat.v1.train.exponential_decay instead.\n",
      "\n",
      "W0212 05:35:50.023262 139990761948928 module_wrapper.py:139] From /home/root/adversarial/Gal/models.py:218: The name tf.train.AdamOptimizer is deprecated. Please use tf.compat.v1.train.AdamOptimizer instead.\n",
      "\n",
      "W0212 05:35:50.516169 139990761948928 module_wrapper.py:139] From /home/root/adversarial/Gal/models.py:232: The name tf.global_variables_initializer is deprecated. Please use tf.compat.v1.global_variables_initializer instead.\n",
      "\n"
     ]
    },
    {
     "name": "stdout",
     "output_type": "stream",
     "text": [
      "Epoch:0 | Train loss: 38.44 | Train acc: 0.949 | Test acc:0.950\n",
      "Epoch:1 | Train loss: 22.43 | Train acc: 0.966 | Test acc:0.964\n",
      "Epoch:2 | Train loss: 13.32 | Train acc: 0.974 | Test acc:0.967\n",
      "Epoch:3 | Train loss: 8.09 | Train acc: 0.979 | Test acc:0.972\n",
      "Epoch:4 | Train loss: 5.11 | Train acc: 0.982 | Test acc:0.976\n",
      "Epoch:5 | Train loss: 3.42 | Train acc: 0.985 | Test acc:0.976\n",
      "Epoch:6 | Train loss: 2.49 | Train acc: 0.986 | Test acc:0.974\n",
      "Epoch:7 | Train loss: 1.99 | Train acc: 0.987 | Test acc:0.976\n",
      "Epoch:8 | Train loss: 1.73 | Train acc: 0.988 | Test acc:0.977\n",
      "Epoch:9 | Train loss: 1.59 | Train acc: 0.989 | Test acc:0.979\n",
      "Epoch:10 | Train loss: 1.53 | Train acc: 0.989 | Test acc:0.978\n",
      "Epoch:11 | Train loss: 1.50 | Train acc: 0.991 | Test acc:0.979\n",
      "Epoch:12 | Train loss: 1.48 | Train acc: 0.991 | Test acc:0.980\n",
      "Epoch:13 | Train loss: 1.48 | Train acc: 0.991 | Test acc:0.979\n"
     ]
    },
    {
     "name": "stderr",
     "output_type": "stream",
     "text": [
      "W0212 05:36:47.990037 139990761948928 module_wrapper.py:139] From /usr/local/lib/python3.5/dist-packages/keras/backend/tensorflow_backend.py:3295: The name tf.log is deprecated. Please use tf.math.log instead.\n",
      "\n",
      "W0212 05:36:47.995147 139990761948928 module_wrapper.py:139] From /usr/local/lib/python3.5/dist-packages/keras/backend/tensorflow_backend.py:174: The name tf.get_default_session is deprecated. Please use tf.compat.v1.get_default_session instead.\n",
      "\n",
      "W0212 05:36:47.996059 139990761948928 module_wrapper.py:139] From /usr/local/lib/python3.5/dist-packages/keras/backend/tensorflow_backend.py:190: The name tf.global_variables is deprecated. Please use tf.compat.v1.global_variables instead.\n",
      "\n",
      "W0212 05:36:47.997046 139990761948928 module_wrapper.py:139] From /usr/local/lib/python3.5/dist-packages/keras/backend/tensorflow_backend.py:199: The name tf.is_variable_initialized is deprecated. Please use tf.compat.v1.is_variable_initialized instead.\n",
      "\n",
      "/usr/local/lib/python3.5/dist-packages/ipykernel_launcher.py:13: FutureWarning: Using a non-tuple sequence for multidimensional indexing is deprecated; use `arr[tuple(seq)]` instead of `arr[seq]`. In the future this will be interpreted as an array index, `arr[np.array(seq)]`, which will result either in an error or a different result.\n",
      "  del sys.path[0]\n",
      "/usr/local/lib/python3.5/dist-packages/ipykernel_launcher.py:14: FutureWarning: Using a non-tuple sequence for multidimensional indexing is deprecated; use `arr[tuple(seq)]` instead of `arr[seq]`. In the future this will be interpreted as an array index, `arr[np.array(seq)]`, which will result either in an error or a different result.\n",
      "  \n"
     ]
    },
    {
     "name": "stdout",
     "output_type": "stream",
     "text": [
      "With Dropout & Batch Normalization\n"
     ]
    },
    {
     "name": "stderr",
     "output_type": "stream",
     "text": [
      "/usr/local/lib/python3.5/dist-packages/tensorflow_core/python/client/session.py:1750: UserWarning: An interactive session is already active. This can cause out-of-memory errors in some cases. You must explicitly call `InteractiveSession.close()` to release resources held by the other session(s).\n",
      "  warnings.warn('An interactive session is already active. This can '\n"
     ]
    },
    {
     "name": "stdout",
     "output_type": "stream",
     "text": [
      "Epoch:0 | Train loss: 51.49 | Train acc: 0.881 | Test acc:0.881\n",
      "Epoch:1 | Train loss: 45.43 | Train acc: 0.926 | Test acc:0.921\n",
      "Epoch:2 | Train loss: 40.20 | Train acc: 0.947 | Test acc:0.933\n",
      "Epoch:3 | Train loss: 35.64 | Train acc: 0.957 | Test acc:0.940\n",
      "Epoch:4 | Train loss: 31.64 | Train acc: 0.964 | Test acc:0.944\n",
      "Epoch:5 | Train loss: 28.13 | Train acc: 0.970 | Test acc:0.950\n",
      "Epoch:6 | Train loss: 25.03 | Train acc: 0.975 | Test acc:0.952\n",
      "Epoch:7 | Train loss: 22.29 | Train acc: 0.979 | Test acc:0.954\n",
      "Epoch:8 | Train loss: 19.88 | Train acc: 0.982 | Test acc:0.957\n",
      "Epoch:9 | Train loss: 17.74 | Train acc: 0.984 | Test acc:0.956\n",
      "Epoch:10 | Train loss: 15.85 | Train acc: 0.986 | Test acc:0.960\n",
      "Epoch:11 | Train loss: 14.17 | Train acc: 0.988 | Test acc:0.957\n",
      "Epoch:12 | Train loss: 12.68 | Train acc: 0.988 | Test acc:0.962\n",
      "Epoch:13 | Train loss: 11.36 | Train acc: 0.989 | Test acc:0.963\n",
      "With Dropout & Batch Normalization\n"
     ]
    },
    {
     "name": "stderr",
     "output_type": "stream",
     "text": [
      "/usr/local/lib/python3.5/dist-packages/tensorflow_core/python/client/session.py:1750: UserWarning: An interactive session is already active. This can cause out-of-memory errors in some cases. You must explicitly call `InteractiveSession.close()` to release resources held by the other session(s).\n",
      "  warnings.warn('An interactive session is already active. This can '\n"
     ]
    },
    {
     "name": "stdout",
     "output_type": "stream",
     "text": [
      "Epoch:0 | Train loss: 57.16 | Train acc: 0.876 | Test acc:0.874\n",
      "Epoch:1 | Train loss: 50.56 | Train acc: 0.923 | Test acc:0.915\n",
      "Epoch:2 | Train loss: 44.83 | Train acc: 0.942 | Test acc:0.929\n",
      "Epoch:3 | Train loss: 39.78 | Train acc: 0.954 | Test acc:0.939\n",
      "Epoch:4 | Train loss: 35.34 | Train acc: 0.962 | Test acc:0.946\n",
      "Epoch:5 | Train loss: 31.40 | Train acc: 0.968 | Test acc:0.950\n",
      "Epoch:6 | Train loss: 27.92 | Train acc: 0.974 | Test acc:0.954\n",
      "Epoch:7 | Train loss: 24.83 | Train acc: 0.978 | Test acc:0.954\n",
      "Epoch:8 | Train loss: 22.09 | Train acc: 0.982 | Test acc:0.955\n",
      "Epoch:9 | Train loss: 19.66 | Train acc: 0.984 | Test acc:0.957\n",
      "Epoch:10 | Train loss: 17.50 | Train acc: 0.986 | Test acc:0.960\n",
      "Epoch:11 | Train loss: 15.59 | Train acc: 0.988 | Test acc:0.962\n",
      "Epoch:12 | Train loss: 13.89 | Train acc: 0.990 | Test acc:0.961\n",
      "Epoch:13 | Train loss: 12.38 | Train acc: 0.991 | Test acc:0.963\n",
      "With Dropout & Batch Normalization\n"
     ]
    },
    {
     "name": "stderr",
     "output_type": "stream",
     "text": [
      "/usr/local/lib/python3.5/dist-packages/tensorflow_core/python/client/session.py:1750: UserWarning: An interactive session is already active. This can cause out-of-memory errors in some cases. You must explicitly call `InteractiveSession.close()` to release resources held by the other session(s).\n",
      "  warnings.warn('An interactive session is already active. This can '\n"
     ]
    },
    {
     "name": "stdout",
     "output_type": "stream",
     "text": [
      "Epoch:0 | Train loss: 52.35 | Train acc: 0.875 | Test acc:0.880\n",
      "Epoch:1 | Train loss: 46.19 | Train acc: 0.928 | Test acc:0.922\n",
      "Epoch:2 | Train loss: 40.87 | Train acc: 0.945 | Test acc:0.933\n",
      "Epoch:3 | Train loss: 36.21 | Train acc: 0.955 | Test acc:0.943\n",
      "Epoch:4 | Train loss: 32.12 | Train acc: 0.963 | Test acc:0.947\n",
      "Epoch:5 | Train loss: 28.52 | Train acc: 0.971 | Test acc:0.950\n",
      "Epoch:6 | Train loss: 25.34 | Train acc: 0.977 | Test acc:0.953\n",
      "Epoch:7 | Train loss: 22.54 | Train acc: 0.979 | Test acc:0.955\n",
      "Epoch:8 | Train loss: 20.06 | Train acc: 0.983 | Test acc:0.957\n",
      "Epoch:9 | Train loss: 17.87 | Train acc: 0.986 | Test acc:0.958\n",
      "Epoch:10 | Train loss: 15.93 | Train acc: 0.988 | Test acc:0.959\n",
      "Epoch:11 | Train loss: 14.22 | Train acc: 0.988 | Test acc:0.960\n",
      "Epoch:12 | Train loss: 12.70 | Train acc: 0.990 | Test acc:0.961\n",
      "Epoch:13 | Train loss: 11.35 | Train acc: 0.991 | Test acc:0.962\n",
      "With Dropout & Batch Normalization\n"
     ]
    },
    {
     "name": "stderr",
     "output_type": "stream",
     "text": [
      "/usr/local/lib/python3.5/dist-packages/tensorflow_core/python/client/session.py:1750: UserWarning: An interactive session is already active. This can cause out-of-memory errors in some cases. You must explicitly call `InteractiveSession.close()` to release resources held by the other session(s).\n",
      "  warnings.warn('An interactive session is already active. This can '\n"
     ]
    },
    {
     "name": "stdout",
     "output_type": "stream",
     "text": [
      "Epoch:0 | Train loss: 53.37 | Train acc: 0.887 | Test acc:0.884\n",
      "Epoch:1 | Train loss: 47.02 | Train acc: 0.925 | Test acc:0.915\n",
      "Epoch:2 | Train loss: 41.50 | Train acc: 0.944 | Test acc:0.930\n",
      "Epoch:3 | Train loss: 36.68 | Train acc: 0.956 | Test acc:0.941\n",
      "Epoch:4 | Train loss: 32.45 | Train acc: 0.965 | Test acc:0.948\n",
      "Epoch:5 | Train loss: 28.74 | Train acc: 0.970 | Test acc:0.950\n",
      "Epoch:6 | Train loss: 25.46 | Train acc: 0.973 | Test acc:0.952\n",
      "Epoch:7 | Train loss: 22.58 | Train acc: 0.977 | Test acc:0.953\n",
      "Epoch:8 | Train loss: 20.04 | Train acc: 0.981 | Test acc:0.956\n",
      "Epoch:9 | Train loss: 17.79 | Train acc: 0.983 | Test acc:0.956\n",
      "Epoch:10 | Train loss: 15.81 | Train acc: 0.986 | Test acc:0.959\n",
      "Epoch:11 | Train loss: 14.06 | Train acc: 0.986 | Test acc:0.958\n",
      "Epoch:12 | Train loss: 12.52 | Train acc: 0.988 | Test acc:0.960\n",
      "Epoch:13 | Train loss: 11.16 | Train acc: 0.990 | Test acc:0.962\n",
      "With Dropout & Batch Normalization\n"
     ]
    },
    {
     "name": "stderr",
     "output_type": "stream",
     "text": [
      "/usr/local/lib/python3.5/dist-packages/tensorflow_core/python/client/session.py:1750: UserWarning: An interactive session is already active. This can cause out-of-memory errors in some cases. You must explicitly call `InteractiveSession.close()` to release resources held by the other session(s).\n",
      "  warnings.warn('An interactive session is already active. This can '\n"
     ]
    },
    {
     "name": "stdout",
     "output_type": "stream",
     "text": [
      "Epoch:0 | Train loss: 53.26 | Train acc: 0.879 | Test acc:0.882\n",
      "Epoch:1 | Train loss: 47.16 | Train acc: 0.919 | Test acc:0.917\n",
      "Epoch:2 | Train loss: 41.89 | Train acc: 0.939 | Test acc:0.930\n",
      "Epoch:3 | Train loss: 37.29 | Train acc: 0.948 | Test acc:0.936\n",
      "Epoch:4 | Train loss: 33.24 | Train acc: 0.957 | Test acc:0.943\n",
      "Epoch:5 | Train loss: 29.67 | Train acc: 0.967 | Test acc:0.950\n",
      "Epoch:6 | Train loss: 26.52 | Train acc: 0.971 | Test acc:0.950\n",
      "Epoch:7 | Train loss: 23.73 | Train acc: 0.976 | Test acc:0.955\n",
      "Epoch:8 | Train loss: 21.25 | Train acc: 0.978 | Test acc:0.956\n",
      "Epoch:9 | Train loss: 19.05 | Train acc: 0.981 | Test acc:0.960\n",
      "Epoch:10 | Train loss: 17.10 | Train acc: 0.982 | Test acc:0.960\n",
      "Epoch:11 | Train loss: 15.37 | Train acc: 0.985 | Test acc:0.960\n",
      "Epoch:12 | Train loss: 13.82 | Train acc: 0.987 | Test acc:0.962\n",
      "Epoch:13 | Train loss: 12.45 | Train acc: 0.988 | Test acc:0.960\n"
     ]
    },
    {
     "name": "stderr",
     "output_type": "stream",
     "text": [
      "/usr/local/lib/python3.5/dist-packages/ipykernel_launcher.py:13: FutureWarning: Using a non-tuple sequence for multidimensional indexing is deprecated; use `arr[tuple(seq)]` instead of `arr[seq]`. In the future this will be interpreted as an array index, `arr[np.array(seq)]`, which will result either in an error or a different result.\n",
      "  del sys.path[0]\n",
      "/usr/local/lib/python3.5/dist-packages/ipykernel_launcher.py:14: FutureWarning: Using a non-tuple sequence for multidimensional indexing is deprecated; use `arr[tuple(seq)]` instead of `arr[seq]`. In the future this will be interpreted as an array index, `arr[np.array(seq)]`, which will result either in an error or a different result.\n",
      "  \n"
     ]
    },
    {
     "name": "stdout",
     "output_type": "stream",
     "text": [
      "With Dropout & Batch Normalization\n"
     ]
    },
    {
     "name": "stderr",
     "output_type": "stream",
     "text": [
      "/usr/local/lib/python3.5/dist-packages/tensorflow_core/python/client/session.py:1750: UserWarning: An interactive session is already active. This can cause out-of-memory errors in some cases. You must explicitly call `InteractiveSession.close()` to release resources held by the other session(s).\n",
      "  warnings.warn('An interactive session is already active. This can '\n"
     ]
    },
    {
     "name": "stdout",
     "output_type": "stream",
     "text": [
      "Epoch:0 | Train loss: 62.74 | Train acc: 0.809 | Test acc:0.801\n",
      "Epoch:1 | Train loss: 58.96 | Train acc: 0.893 | Test acc:0.879\n",
      "Epoch:2 | Train loss: 55.49 | Train acc: 0.921 | Test acc:0.902\n",
      "Epoch:3 | Train loss: 52.28 | Train acc: 0.937 | Test acc:0.916\n",
      "Epoch:4 | Train loss: 49.27 | Train acc: 0.945 | Test acc:0.922\n",
      "Epoch:5 | Train loss: 46.46 | Train acc: 0.955 | Test acc:0.930\n",
      "Epoch:6 | Train loss: 43.82 | Train acc: 0.962 | Test acc:0.931\n",
      "Epoch:7 | Train loss: 41.34 | Train acc: 0.965 | Test acc:0.935\n",
      "Epoch:8 | Train loss: 39.01 | Train acc: 0.969 | Test acc:0.939\n",
      "Epoch:9 | Train loss: 36.82 | Train acc: 0.973 | Test acc:0.942\n",
      "Epoch:10 | Train loss: 34.76 | Train acc: 0.978 | Test acc:0.942\n",
      "Epoch:11 | Train loss: 32.83 | Train acc: 0.979 | Test acc:0.942\n",
      "Epoch:12 | Train loss: 31.00 | Train acc: 0.982 | Test acc:0.943\n",
      "Epoch:13 | Train loss: 29.28 | Train acc: 0.983 | Test acc:0.945\n",
      "With Dropout & Batch Normalization\n"
     ]
    },
    {
     "name": "stderr",
     "output_type": "stream",
     "text": [
      "/usr/local/lib/python3.5/dist-packages/tensorflow_core/python/client/session.py:1750: UserWarning: An interactive session is already active. This can cause out-of-memory errors in some cases. You must explicitly call `InteractiveSession.close()` to release resources held by the other session(s).\n",
      "  warnings.warn('An interactive session is already active. This can '\n"
     ]
    },
    {
     "name": "stdout",
     "output_type": "stream",
     "text": [
      "Epoch:0 | Train loss: 62.09 | Train acc: 0.664 | Test acc:0.678\n",
      "Epoch:1 | Train loss: 58.33 | Train acc: 0.872 | Test acc:0.867\n",
      "Epoch:2 | Train loss: 54.87 | Train acc: 0.906 | Test acc:0.900\n",
      "Epoch:3 | Train loss: 51.67 | Train acc: 0.928 | Test acc:0.914\n",
      "Epoch:4 | Train loss: 48.69 | Train acc: 0.941 | Test acc:0.924\n",
      "Epoch:5 | Train loss: 45.89 | Train acc: 0.948 | Test acc:0.927\n",
      "Epoch:6 | Train loss: 43.27 | Train acc: 0.956 | Test acc:0.929\n",
      "Epoch:7 | Train loss: 40.80 | Train acc: 0.963 | Test acc:0.936\n",
      "Epoch:8 | Train loss: 38.49 | Train acc: 0.968 | Test acc:0.940\n",
      "Epoch:9 | Train loss: 36.31 | Train acc: 0.972 | Test acc:0.942\n",
      "Epoch:10 | Train loss: 34.27 | Train acc: 0.972 | Test acc:0.940\n",
      "Epoch:11 | Train loss: 32.34 | Train acc: 0.975 | Test acc:0.941\n",
      "Epoch:12 | Train loss: 30.52 | Train acc: 0.978 | Test acc:0.945\n",
      "Epoch:13 | Train loss: 28.81 | Train acc: 0.981 | Test acc:0.947\n",
      "With Dropout & Batch Normalization\n"
     ]
    },
    {
     "name": "stderr",
     "output_type": "stream",
     "text": [
      "/usr/local/lib/python3.5/dist-packages/tensorflow_core/python/client/session.py:1750: UserWarning: An interactive session is already active. This can cause out-of-memory errors in some cases. You must explicitly call `InteractiveSession.close()` to release resources held by the other session(s).\n",
      "  warnings.warn('An interactive session is already active. This can '\n"
     ]
    },
    {
     "name": "stdout",
     "output_type": "stream",
     "text": [
      "Epoch:0 | Train loss: 55.97 | Train acc: 0.805 | Test acc:0.809\n",
      "Epoch:1 | Train loss: 52.45 | Train acc: 0.887 | Test acc:0.881\n",
      "Epoch:2 | Train loss: 49.24 | Train acc: 0.914 | Test acc:0.901\n",
      "Epoch:3 | Train loss: 46.28 | Train acc: 0.928 | Test acc:0.911\n",
      "Epoch:4 | Train loss: 43.52 | Train acc: 0.941 | Test acc:0.919\n",
      "Epoch:5 | Train loss: 40.96 | Train acc: 0.949 | Test acc:0.926\n",
      "Epoch:6 | Train loss: 38.56 | Train acc: 0.959 | Test acc:0.930\n",
      "Epoch:7 | Train loss: 36.31 | Train acc: 0.964 | Test acc:0.935\n",
      "Epoch:8 | Train loss: 34.22 | Train acc: 0.968 | Test acc:0.936\n",
      "Epoch:9 | Train loss: 32.25 | Train acc: 0.968 | Test acc:0.935\n",
      "Epoch:10 | Train loss: 30.41 | Train acc: 0.972 | Test acc:0.939\n",
      "Epoch:11 | Train loss: 28.68 | Train acc: 0.970 | Test acc:0.937\n",
      "Epoch:12 | Train loss: 27.05 | Train acc: 0.974 | Test acc:0.941\n",
      "Epoch:13 | Train loss: 25.52 | Train acc: 0.978 | Test acc:0.943\n",
      "With Dropout & Batch Normalization\n"
     ]
    },
    {
     "name": "stderr",
     "output_type": "stream",
     "text": [
      "/usr/local/lib/python3.5/dist-packages/tensorflow_core/python/client/session.py:1750: UserWarning: An interactive session is already active. This can cause out-of-memory errors in some cases. You must explicitly call `InteractiveSession.close()` to release resources held by the other session(s).\n",
      "  warnings.warn('An interactive session is already active. This can '\n"
     ]
    },
    {
     "name": "stdout",
     "output_type": "stream",
     "text": [
      "Epoch:0 | Train loss: 58.03 | Train acc: 0.761 | Test acc:0.763\n",
      "Epoch:1 | Train loss: 54.44 | Train acc: 0.879 | Test acc:0.879\n",
      "Epoch:2 | Train loss: 51.16 | Train acc: 0.912 | Test acc:0.902\n",
      "Epoch:3 | Train loss: 48.13 | Train acc: 0.932 | Test acc:0.921\n",
      "Epoch:4 | Train loss: 45.31 | Train acc: 0.939 | Test acc:0.926\n",
      "Epoch:5 | Train loss: 42.67 | Train acc: 0.949 | Test acc:0.930\n",
      "Epoch:6 | Train loss: 40.21 | Train acc: 0.955 | Test acc:0.935\n",
      "Epoch:7 | Train loss: 37.90 | Train acc: 0.965 | Test acc:0.938\n",
      "Epoch:8 | Train loss: 35.74 | Train acc: 0.965 | Test acc:0.938\n",
      "Epoch:9 | Train loss: 33.71 | Train acc: 0.969 | Test acc:0.941\n",
      "Epoch:10 | Train loss: 31.80 | Train acc: 0.974 | Test acc:0.945\n",
      "Epoch:11 | Train loss: 30.01 | Train acc: 0.977 | Test acc:0.945\n",
      "Epoch:12 | Train loss: 28.33 | Train acc: 0.979 | Test acc:0.945\n",
      "Epoch:13 | Train loss: 26.75 | Train acc: 0.981 | Test acc:0.944\n",
      "With Dropout & Batch Normalization\n"
     ]
    },
    {
     "name": "stderr",
     "output_type": "stream",
     "text": [
      "/usr/local/lib/python3.5/dist-packages/tensorflow_core/python/client/session.py:1750: UserWarning: An interactive session is already active. This can cause out-of-memory errors in some cases. You must explicitly call `InteractiveSession.close()` to release resources held by the other session(s).\n",
      "  warnings.warn('An interactive session is already active. This can '\n"
     ]
    },
    {
     "name": "stdout",
     "output_type": "stream",
     "text": [
      "Epoch:0 | Train loss: 60.44 | Train acc: 0.751 | Test acc:0.747\n",
      "Epoch:1 | Train loss: 56.71 | Train acc: 0.883 | Test acc:0.869\n",
      "Epoch:2 | Train loss: 53.31 | Train acc: 0.919 | Test acc:0.904\n",
      "Epoch:3 | Train loss: 50.16 | Train acc: 0.936 | Test acc:0.916\n",
      "Epoch:4 | Train loss: 47.22 | Train acc: 0.947 | Test acc:0.924\n",
      "Epoch:5 | Train loss: 44.46 | Train acc: 0.957 | Test acc:0.932\n",
      "Epoch:6 | Train loss: 41.88 | Train acc: 0.964 | Test acc:0.934\n",
      "Epoch:7 | Train loss: 39.46 | Train acc: 0.972 | Test acc:0.938\n",
      "Epoch:8 | Train loss: 37.19 | Train acc: 0.974 | Test acc:0.938\n",
      "Epoch:9 | Train loss: 35.05 | Train acc: 0.978 | Test acc:0.939\n",
      "Epoch:10 | Train loss: 33.04 | Train acc: 0.979 | Test acc:0.939\n",
      "Epoch:11 | Train loss: 31.15 | Train acc: 0.982 | Test acc:0.944\n",
      "Epoch:12 | Train loss: 29.37 | Train acc: 0.982 | Test acc:0.942\n",
      "Epoch:13 | Train loss: 27.69 | Train acc: 0.986 | Test acc:0.943\n",
      "With Dropout & Batch Normalization\n"
     ]
    },
    {
     "name": "stderr",
     "output_type": "stream",
     "text": [
      "/usr/local/lib/python3.5/dist-packages/tensorflow_core/python/client/session.py:1750: UserWarning: An interactive session is already active. This can cause out-of-memory errors in some cases. You must explicitly call `InteractiveSession.close()` to release resources held by the other session(s).\n",
      "  warnings.warn('An interactive session is already active. This can '\n"
     ]
    },
    {
     "name": "stdout",
     "output_type": "stream",
     "text": [
      "Epoch:0 | Train loss: 55.85 | Train acc: 0.796 | Test acc:0.803\n",
      "Epoch:1 | Train loss: 52.36 | Train acc: 0.894 | Test acc:0.891\n",
      "Epoch:2 | Train loss: 49.18 | Train acc: 0.917 | Test acc:0.906\n",
      "Epoch:3 | Train loss: 46.23 | Train acc: 0.933 | Test acc:0.917\n",
      "Epoch:4 | Train loss: 43.50 | Train acc: 0.945 | Test acc:0.924\n",
      "Epoch:5 | Train loss: 40.94 | Train acc: 0.949 | Test acc:0.930\n",
      "Epoch:6 | Train loss: 38.55 | Train acc: 0.958 | Test acc:0.934\n",
      "Epoch:7 | Train loss: 36.32 | Train acc: 0.963 | Test acc:0.935\n",
      "Epoch:8 | Train loss: 34.22 | Train acc: 0.968 | Test acc:0.937\n",
      "Epoch:9 | Train loss: 32.25 | Train acc: 0.976 | Test acc:0.939\n",
      "Epoch:10 | Train loss: 30.40 | Train acc: 0.978 | Test acc:0.942\n",
      "Epoch:11 | Train loss: 28.67 | Train acc: 0.979 | Test acc:0.940\n",
      "Epoch:12 | Train loss: 27.04 | Train acc: 0.980 | Test acc:0.942\n",
      "Epoch:13 | Train loss: 25.50 | Train acc: 0.984 | Test acc:0.944\n",
      "With Dropout & Batch Normalization\n"
     ]
    },
    {
     "name": "stderr",
     "output_type": "stream",
     "text": [
      "/usr/local/lib/python3.5/dist-packages/tensorflow_core/python/client/session.py:1750: UserWarning: An interactive session is already active. This can cause out-of-memory errors in some cases. You must explicitly call `InteractiveSession.close()` to release resources held by the other session(s).\n",
      "  warnings.warn('An interactive session is already active. This can '\n"
     ]
    },
    {
     "name": "stdout",
     "output_type": "stream",
     "text": [
      "Epoch:0 | Train loss: 54.15 | Train acc: 0.767 | Test acc:0.771\n",
      "Epoch:1 | Train loss: 50.63 | Train acc: 0.884 | Test acc:0.878\n",
      "Epoch:2 | Train loss: 47.43 | Train acc: 0.912 | Test acc:0.906\n",
      "Epoch:3 | Train loss: 44.46 | Train acc: 0.931 | Test acc:0.918\n",
      "Epoch:4 | Train loss: 41.70 | Train acc: 0.941 | Test acc:0.928\n",
      "Epoch:5 | Train loss: 39.13 | Train acc: 0.951 | Test acc:0.931\n",
      "Epoch:6 | Train loss: 36.72 | Train acc: 0.957 | Test acc:0.934\n",
      "Epoch:7 | Train loss: 34.47 | Train acc: 0.964 | Test acc:0.937\n",
      "Epoch:8 | Train loss: 32.37 | Train acc: 0.966 | Test acc:0.937\n",
      "Epoch:9 | Train loss: 30.40 | Train acc: 0.971 | Test acc:0.941\n",
      "Epoch:10 | Train loss: 28.56 | Train acc: 0.972 | Test acc:0.944\n",
      "Epoch:11 | Train loss: 26.83 | Train acc: 0.975 | Test acc:0.945\n",
      "Epoch:12 | Train loss: 25.21 | Train acc: 0.978 | Test acc:0.947\n",
      "Epoch:13 | Train loss: 23.69 | Train acc: 0.983 | Test acc:0.946\n",
      "With Dropout & Batch Normalization\n"
     ]
    },
    {
     "name": "stderr",
     "output_type": "stream",
     "text": [
      "/usr/local/lib/python3.5/dist-packages/tensorflow_core/python/client/session.py:1750: UserWarning: An interactive session is already active. This can cause out-of-memory errors in some cases. You must explicitly call `InteractiveSession.close()` to release resources held by the other session(s).\n",
      "  warnings.warn('An interactive session is already active. This can '\n"
     ]
    },
    {
     "name": "stdout",
     "output_type": "stream",
     "text": [
      "Epoch:0 | Train loss: 60.19 | Train acc: 0.837 | Test acc:0.828\n",
      "Epoch:1 | Train loss: 56.49 | Train acc: 0.892 | Test acc:0.878\n",
      "Epoch:2 | Train loss: 53.11 | Train acc: 0.924 | Test acc:0.904\n",
      "Epoch:3 | Train loss: 49.98 | Train acc: 0.936 | Test acc:0.912\n",
      "Epoch:4 | Train loss: 47.06 | Train acc: 0.946 | Test acc:0.920\n",
      "Epoch:5 | Train loss: 44.32 | Train acc: 0.955 | Test acc:0.926\n",
      "Epoch:6 | Train loss: 41.76 | Train acc: 0.962 | Test acc:0.930\n",
      "Epoch:7 | Train loss: 39.36 | Train acc: 0.964 | Test acc:0.930\n",
      "Epoch:8 | Train loss: 37.10 | Train acc: 0.971 | Test acc:0.937\n",
      "Epoch:9 | Train loss: 34.98 | Train acc: 0.972 | Test acc:0.938\n",
      "Epoch:10 | Train loss: 32.99 | Train acc: 0.979 | Test acc:0.941\n",
      "Epoch:11 | Train loss: 31.11 | Train acc: 0.982 | Test acc:0.943\n",
      "Epoch:12 | Train loss: 29.35 | Train acc: 0.978 | Test acc:0.938\n",
      "Epoch:13 | Train loss: 27.69 | Train acc: 0.982 | Test acc:0.941\n",
      "With Dropout & Batch Normalization\n"
     ]
    },
    {
     "name": "stderr",
     "output_type": "stream",
     "text": [
      "/usr/local/lib/python3.5/dist-packages/tensorflow_core/python/client/session.py:1750: UserWarning: An interactive session is already active. This can cause out-of-memory errors in some cases. You must explicitly call `InteractiveSession.close()` to release resources held by the other session(s).\n",
      "  warnings.warn('An interactive session is already active. This can '\n"
     ]
    },
    {
     "name": "stdout",
     "output_type": "stream",
     "text": [
      "Epoch:0 | Train loss: 60.38 | Train acc: 0.778 | Test acc:0.783\n",
      "Epoch:1 | Train loss: 56.73 | Train acc: 0.884 | Test acc:0.874\n",
      "Epoch:2 | Train loss: 53.40 | Train acc: 0.917 | Test acc:0.900\n",
      "Epoch:3 | Train loss: 50.30 | Train acc: 0.930 | Test acc:0.917\n",
      "Epoch:4 | Train loss: 47.41 | Train acc: 0.941 | Test acc:0.924\n",
      "Epoch:5 | Train loss: 44.70 | Train acc: 0.949 | Test acc:0.926\n",
      "Epoch:6 | Train loss: 42.16 | Train acc: 0.958 | Test acc:0.931\n",
      "Epoch:7 | Train loss: 39.78 | Train acc: 0.961 | Test acc:0.932\n",
      "Epoch:8 | Train loss: 37.54 | Train acc: 0.966 | Test acc:0.933\n",
      "Epoch:9 | Train loss: 35.43 | Train acc: 0.971 | Test acc:0.937\n",
      "Epoch:10 | Train loss: 33.45 | Train acc: 0.974 | Test acc:0.940\n",
      "Epoch:11 | Train loss: 31.58 | Train acc: 0.977 | Test acc:0.941\n",
      "Epoch:12 | Train loss: 29.83 | Train acc: 0.982 | Test acc:0.943\n",
      "Epoch:13 | Train loss: 28.17 | Train acc: 0.983 | Test acc:0.940\n",
      "With Dropout & Batch Normalization\n"
     ]
    },
    {
     "name": "stderr",
     "output_type": "stream",
     "text": [
      "/usr/local/lib/python3.5/dist-packages/tensorflow_core/python/client/session.py:1750: UserWarning: An interactive session is already active. This can cause out-of-memory errors in some cases. You must explicitly call `InteractiveSession.close()` to release resources held by the other session(s).\n",
      "  warnings.warn('An interactive session is already active. This can '\n"
     ]
    },
    {
     "name": "stdout",
     "output_type": "stream",
     "text": [
      "Epoch:0 | Train loss: 54.70 | Train acc: 0.735 | Test acc:0.730\n",
      "Epoch:1 | Train loss: 51.20 | Train acc: 0.870 | Test acc:0.855\n",
      "Epoch:2 | Train loss: 48.02 | Train acc: 0.903 | Test acc:0.887\n",
      "Epoch:3 | Train loss: 45.08 | Train acc: 0.927 | Test acc:0.906\n",
      "Epoch:4 | Train loss: 42.35 | Train acc: 0.944 | Test acc:0.917\n",
      "Epoch:5 | Train loss: 39.80 | Train acc: 0.948 | Test acc:0.923\n",
      "Epoch:6 | Train loss: 37.42 | Train acc: 0.956 | Test acc:0.929\n",
      "Epoch:7 | Train loss: 35.20 | Train acc: 0.962 | Test acc:0.933\n",
      "Epoch:8 | Train loss: 33.12 | Train acc: 0.966 | Test acc:0.935\n",
      "Epoch:9 | Train loss: 31.18 | Train acc: 0.969 | Test acc:0.932\n",
      "Epoch:10 | Train loss: 29.36 | Train acc: 0.973 | Test acc:0.936\n",
      "Epoch:11 | Train loss: 27.65 | Train acc: 0.977 | Test acc:0.939\n",
      "Epoch:12 | Train loss: 26.04 | Train acc: 0.980 | Test acc:0.940\n",
      "Epoch:13 | Train loss: 24.54 | Train acc: 0.981 | Test acc:0.939\n"
     ]
    },
    {
     "name": "stderr",
     "output_type": "stream",
     "text": [
      "/usr/local/lib/python3.5/dist-packages/ipykernel_launcher.py:13: FutureWarning: Using a non-tuple sequence for multidimensional indexing is deprecated; use `arr[tuple(seq)]` instead of `arr[seq]`. In the future this will be interpreted as an array index, `arr[np.array(seq)]`, which will result either in an error or a different result.\n",
      "  del sys.path[0]\n",
      "/usr/local/lib/python3.5/dist-packages/ipykernel_launcher.py:14: FutureWarning: Using a non-tuple sequence for multidimensional indexing is deprecated; use `arr[tuple(seq)]` instead of `arr[seq]`. In the future this will be interpreted as an array index, `arr[np.array(seq)]`, which will result either in an error or a different result.\n",
      "  \n",
      "/usr/local/lib/python3.5/dist-packages/tensorflow_core/python/client/session.py:1750: UserWarning: An interactive session is already active. This can cause out-of-memory errors in some cases. You must explicitly call `InteractiveSession.close()` to release resources held by the other session(s).\n",
      "  warnings.warn('An interactive session is already active. This can '\n"
     ]
    },
    {
     "name": "stdout",
     "output_type": "stream",
     "text": [
      "With Dropout & Batch Normalization\n",
      "Epoch:0 | Train loss: 39.10 | Train acc: 0.947 | Test acc:0.115\n",
      "Epoch:1 | Train loss: 22.85 | Train acc: 0.964 | Test acc:0.111\n",
      "Epoch:2 | Train loss: 13.62 | Train acc: 0.973 | Test acc:0.106\n",
      "Epoch:3 | Train loss: 8.36 | Train acc: 0.978 | Test acc:0.104\n",
      "Epoch:4 | Train loss: 5.35 | Train acc: 0.982 | Test acc:0.103\n",
      "Epoch:5 | Train loss: 3.64 | Train acc: 0.984 | Test acc:0.089\n",
      "Epoch:6 | Train loss: 2.65 | Train acc: 0.986 | Test acc:0.113\n",
      "Epoch:7 | Train loss: 2.10 | Train acc: 0.987 | Test acc:0.112\n",
      "Epoch:8 | Train loss: 1.79 | Train acc: 0.987 | Test acc:0.082\n",
      "Epoch:9 | Train loss: 1.62 | Train acc: 0.989 | Test acc:0.086\n",
      "Epoch:10 | Train loss: 1.54 | Train acc: 0.990 | Test acc:0.099\n",
      "Epoch:11 | Train loss: 1.50 | Train acc: 0.991 | Test acc:0.094\n",
      "Epoch:12 | Train loss: 1.48 | Train acc: 0.992 | Test acc:0.088\n",
      "Epoch:13 | Train loss: 1.47 | Train acc: 0.992 | Test acc:0.075\n"
     ]
    },
    {
     "name": "stderr",
     "output_type": "stream",
     "text": [
      "/usr/local/lib/python3.5/dist-packages/ipykernel_launcher.py:13: FutureWarning: Using a non-tuple sequence for multidimensional indexing is deprecated; use `arr[tuple(seq)]` instead of `arr[seq]`. In the future this will be interpreted as an array index, `arr[np.array(seq)]`, which will result either in an error or a different result.\n",
      "  del sys.path[0]\n",
      "/usr/local/lib/python3.5/dist-packages/ipykernel_launcher.py:14: FutureWarning: Using a non-tuple sequence for multidimensional indexing is deprecated; use `arr[tuple(seq)]` instead of `arr[seq]`. In the future this will be interpreted as an array index, `arr[np.array(seq)]`, which will result either in an error or a different result.\n",
      "  \n",
      "/usr/local/lib/python3.5/dist-packages/tensorflow_core/python/client/session.py:1750: UserWarning: An interactive session is already active. This can cause out-of-memory errors in some cases. You must explicitly call `InteractiveSession.close()` to release resources held by the other session(s).\n",
      "  warnings.warn('An interactive session is already active. This can '\n"
     ]
    },
    {
     "name": "stdout",
     "output_type": "stream",
     "text": [
      "With Dropout & Batch Normalization\n",
      "Epoch:0 | Train loss: 47.89 | Train acc: 0.876 | Test acc:0.142\n",
      "Epoch:1 | Train loss: 42.10 | Train acc: 0.920 | Test acc:0.113\n",
      "Epoch:2 | Train loss: 37.12 | Train acc: 0.941 | Test acc:0.119\n",
      "Epoch:3 | Train loss: 32.78 | Train acc: 0.953 | Test acc:0.121\n",
      "Epoch:4 | Train loss: 28.99 | Train acc: 0.963 | Test acc:0.115\n",
      "Epoch:5 | Train loss: 25.68 | Train acc: 0.968 | Test acc:0.107\n",
      "Epoch:6 | Train loss: 22.76 | Train acc: 0.975 | Test acc:0.103\n",
      "Epoch:7 | Train loss: 20.20 | Train acc: 0.978 | Test acc:0.114\n",
      "Epoch:8 | Train loss: 17.95 | Train acc: 0.981 | Test acc:0.112\n",
      "Epoch:9 | Train loss: 15.96 | Train acc: 0.983 | Test acc:0.106\n",
      "Epoch:10 | Train loss: 14.21 | Train acc: 0.986 | Test acc:0.122\n",
      "Epoch:11 | Train loss: 12.67 | Train acc: 0.988 | Test acc:0.106\n",
      "Epoch:12 | Train loss: 11.30 | Train acc: 0.989 | Test acc:0.104\n",
      "Epoch:13 | Train loss: 10.10 | Train acc: 0.990 | Test acc:0.098\n",
      "With Dropout & Batch Normalization\n"
     ]
    },
    {
     "name": "stderr",
     "output_type": "stream",
     "text": [
      "/usr/local/lib/python3.5/dist-packages/tensorflow_core/python/client/session.py:1750: UserWarning: An interactive session is already active. This can cause out-of-memory errors in some cases. You must explicitly call `InteractiveSession.close()` to release resources held by the other session(s).\n",
      "  warnings.warn('An interactive session is already active. This can '\n"
     ]
    },
    {
     "name": "stdout",
     "output_type": "stream",
     "text": [
      "Epoch:0 | Train loss: 54.85 | Train acc: 0.883 | Test acc:0.138\n",
      "Epoch:1 | Train loss: 48.49 | Train acc: 0.924 | Test acc:0.129\n",
      "Epoch:2 | Train loss: 42.99 | Train acc: 0.944 | Test acc:0.150\n",
      "Epoch:3 | Train loss: 38.16 | Train acc: 0.955 | Test acc:0.141\n",
      "Epoch:4 | Train loss: 33.93 | Train acc: 0.961 | Test acc:0.133\n",
      "Epoch:5 | Train loss: 30.19 | Train acc: 0.969 | Test acc:0.132\n",
      "Epoch:6 | Train loss: 26.89 | Train acc: 0.974 | Test acc:0.139\n",
      "Epoch:7 | Train loss: 23.97 | Train acc: 0.979 | Test acc:0.126\n",
      "Epoch:8 | Train loss: 21.38 | Train acc: 0.980 | Test acc:0.143\n",
      "Epoch:9 | Train loss: 19.09 | Train acc: 0.985 | Test acc:0.126\n",
      "Epoch:10 | Train loss: 17.06 | Train acc: 0.986 | Test acc:0.119\n",
      "Epoch:11 | Train loss: 15.26 | Train acc: 0.988 | Test acc:0.119\n",
      "Epoch:12 | Train loss: 13.67 | Train acc: 0.988 | Test acc:0.113\n",
      "Epoch:13 | Train loss: 12.25 | Train acc: 0.990 | Test acc:0.109\n",
      "With Dropout & Batch Normalization\n"
     ]
    },
    {
     "name": "stderr",
     "output_type": "stream",
     "text": [
      "/usr/local/lib/python3.5/dist-packages/tensorflow_core/python/client/session.py:1750: UserWarning: An interactive session is already active. This can cause out-of-memory errors in some cases. You must explicitly call `InteractiveSession.close()` to release resources held by the other session(s).\n",
      "  warnings.warn('An interactive session is already active. This can '\n"
     ]
    },
    {
     "name": "stdout",
     "output_type": "stream",
     "text": [
      "Epoch:0 | Train loss: 57.11 | Train acc: 0.866 | Test acc:0.106\n",
      "Epoch:1 | Train loss: 50.66 | Train acc: 0.924 | Test acc:0.119\n",
      "Epoch:2 | Train loss: 45.06 | Train acc: 0.943 | Test acc:0.115\n",
      "Epoch:3 | Train loss: 40.13 | Train acc: 0.955 | Test acc:0.114\n",
      "Epoch:4 | Train loss: 35.79 | Train acc: 0.964 | Test acc:0.117\n",
      "Epoch:5 | Train loss: 31.94 | Train acc: 0.971 | Test acc:0.114\n",
      "Epoch:6 | Train loss: 28.54 | Train acc: 0.975 | Test acc:0.107\n",
      "Epoch:7 | Train loss: 25.51 | Train acc: 0.979 | Test acc:0.106\n",
      "Epoch:8 | Train loss: 22.81 | Train acc: 0.982 | Test acc:0.117\n",
      "Epoch:9 | Train loss: 20.42 | Train acc: 0.984 | Test acc:0.104\n",
      "Epoch:10 | Train loss: 18.28 | Train acc: 0.986 | Test acc:0.119\n",
      "Epoch:11 | Train loss: 16.38 | Train acc: 0.989 | Test acc:0.099\n",
      "Epoch:12 | Train loss: 14.68 | Train acc: 0.989 | Test acc:0.112\n",
      "Epoch:13 | Train loss: 13.17 | Train acc: 0.990 | Test acc:0.111\n",
      "With Dropout & Batch Normalization\n"
     ]
    },
    {
     "name": "stderr",
     "output_type": "stream",
     "text": [
      "/usr/local/lib/python3.5/dist-packages/tensorflow_core/python/client/session.py:1750: UserWarning: An interactive session is already active. This can cause out-of-memory errors in some cases. You must explicitly call `InteractiveSession.close()` to release resources held by the other session(s).\n",
      "  warnings.warn('An interactive session is already active. This can '\n"
     ]
    },
    {
     "name": "stdout",
     "output_type": "stream",
     "text": [
      "Epoch:0 | Train loss: 58.03 | Train acc: 0.863 | Test acc:0.120\n",
      "Epoch:1 | Train loss: 51.73 | Train acc: 0.919 | Test acc:0.111\n",
      "Epoch:2 | Train loss: 46.24 | Train acc: 0.941 | Test acc:0.113\n",
      "Epoch:3 | Train loss: 41.41 | Train acc: 0.951 | Test acc:0.143\n",
      "Epoch:4 | Train loss: 37.12 | Train acc: 0.959 | Test acc:0.108\n",
      "Epoch:5 | Train loss: 33.31 | Train acc: 0.965 | Test acc:0.105\n",
      "Epoch:6 | Train loss: 29.92 | Train acc: 0.972 | Test acc:0.099\n",
      "Epoch:7 | Train loss: 26.90 | Train acc: 0.979 | Test acc:0.106\n",
      "Epoch:8 | Train loss: 24.20 | Train acc: 0.983 | Test acc:0.101\n",
      "Epoch:9 | Train loss: 21.79 | Train acc: 0.983 | Test acc:0.104\n",
      "Epoch:10 | Train loss: 19.63 | Train acc: 0.986 | Test acc:0.100\n",
      "Epoch:11 | Train loss: 17.70 | Train acc: 0.987 | Test acc:0.114\n",
      "Epoch:12 | Train loss: 15.98 | Train acc: 0.989 | Test acc:0.110\n",
      "Epoch:13 | Train loss: 14.44 | Train acc: 0.990 | Test acc:0.093\n",
      "With Dropout & Batch Normalization\n"
     ]
    },
    {
     "name": "stderr",
     "output_type": "stream",
     "text": [
      "/usr/local/lib/python3.5/dist-packages/tensorflow_core/python/client/session.py:1750: UserWarning: An interactive session is already active. This can cause out-of-memory errors in some cases. You must explicitly call `InteractiveSession.close()` to release resources held by the other session(s).\n",
      "  warnings.warn('An interactive session is already active. This can '\n"
     ]
    },
    {
     "name": "stdout",
     "output_type": "stream",
     "text": [
      "Epoch:0 | Train loss: 53.87 | Train acc: 0.872 | Test acc:0.126\n",
      "Epoch:1 | Train loss: 47.71 | Train acc: 0.924 | Test acc:0.139\n",
      "Epoch:2 | Train loss: 42.39 | Train acc: 0.942 | Test acc:0.129\n",
      "Epoch:3 | Train loss: 37.73 | Train acc: 0.952 | Test acc:0.134\n",
      "Epoch:4 | Train loss: 33.63 | Train acc: 0.962 | Test acc:0.134\n",
      "Epoch:5 | Train loss: 30.01 | Train acc: 0.968 | Test acc:0.122\n",
      "Epoch:6 | Train loss: 26.81 | Train acc: 0.972 | Test acc:0.130\n",
      "Epoch:7 | Train loss: 23.98 | Train acc: 0.974 | Test acc:0.103\n",
      "Epoch:8 | Train loss: 21.47 | Train acc: 0.980 | Test acc:0.127\n",
      "Epoch:9 | Train loss: 19.23 | Train acc: 0.982 | Test acc:0.127\n",
      "Epoch:10 | Train loss: 17.25 | Train acc: 0.985 | Test acc:0.115\n",
      "Epoch:11 | Train loss: 15.48 | Train acc: 0.986 | Test acc:0.125\n",
      "Epoch:12 | Train loss: 13.91 | Train acc: 0.988 | Test acc:0.125\n",
      "Epoch:13 | Train loss: 12.51 | Train acc: 0.990 | Test acc:0.122\n"
     ]
    },
    {
     "name": "stderr",
     "output_type": "stream",
     "text": [
      "/usr/local/lib/python3.5/dist-packages/ipykernel_launcher.py:13: FutureWarning: Using a non-tuple sequence for multidimensional indexing is deprecated; use `arr[tuple(seq)]` instead of `arr[seq]`. In the future this will be interpreted as an array index, `arr[np.array(seq)]`, which will result either in an error or a different result.\n",
      "  del sys.path[0]\n",
      "/usr/local/lib/python3.5/dist-packages/ipykernel_launcher.py:14: FutureWarning: Using a non-tuple sequence for multidimensional indexing is deprecated; use `arr[tuple(seq)]` instead of `arr[seq]`. In the future this will be interpreted as an array index, `arr[np.array(seq)]`, which will result either in an error or a different result.\n",
      "  \n",
      "/usr/local/lib/python3.5/dist-packages/tensorflow_core/python/client/session.py:1750: UserWarning: An interactive session is already active. This can cause out-of-memory errors in some cases. You must explicitly call `InteractiveSession.close()` to release resources held by the other session(s).\n",
      "  warnings.warn('An interactive session is already active. This can '\n"
     ]
    },
    {
     "name": "stdout",
     "output_type": "stream",
     "text": [
      "With Dropout & Batch Normalization\n",
      "Epoch:0 | Train loss: 55.70 | Train acc: 0.785 | Test acc:0.122\n",
      "Epoch:1 | Train loss: 52.14 | Train acc: 0.886 | Test acc:0.143\n",
      "Epoch:2 | Train loss: 48.89 | Train acc: 0.909 | Test acc:0.130\n",
      "Epoch:3 | Train loss: 45.90 | Train acc: 0.927 | Test acc:0.143\n",
      "Epoch:4 | Train loss: 43.10 | Train acc: 0.941 | Test acc:0.134\n",
      "Epoch:5 | Train loss: 40.50 | Train acc: 0.952 | Test acc:0.108\n",
      "Epoch:6 | Train loss: 38.06 | Train acc: 0.961 | Test acc:0.102\n",
      "Epoch:7 | Train loss: 35.78 | Train acc: 0.966 | Test acc:0.083\n",
      "Epoch:8 | Train loss: 33.65 | Train acc: 0.972 | Test acc:0.090\n",
      "Epoch:9 | Train loss: 31.65 | Train acc: 0.976 | Test acc:0.085\n",
      "Epoch:10 | Train loss: 29.77 | Train acc: 0.982 | Test acc:0.104\n",
      "Epoch:11 | Train loss: 28.01 | Train acc: 0.984 | Test acc:0.079\n",
      "Epoch:12 | Train loss: 26.35 | Train acc: 0.985 | Test acc:0.088\n",
      "Epoch:13 | Train loss: 24.81 | Train acc: 0.984 | Test acc:0.108\n",
      "With Dropout & Batch Normalization\n"
     ]
    },
    {
     "name": "stderr",
     "output_type": "stream",
     "text": [
      "/usr/local/lib/python3.5/dist-packages/tensorflow_core/python/client/session.py:1750: UserWarning: An interactive session is already active. This can cause out-of-memory errors in some cases. You must explicitly call `InteractiveSession.close()` to release resources held by the other session(s).\n",
      "  warnings.warn('An interactive session is already active. This can '\n"
     ]
    },
    {
     "name": "stdout",
     "output_type": "stream",
     "text": [
      "Epoch:0 | Train loss: 61.78 | Train acc: 0.777 | Test acc:0.115\n",
      "Epoch:1 | Train loss: 58.08 | Train acc: 0.863 | Test acc:0.129\n",
      "Epoch:2 | Train loss: 54.69 | Train acc: 0.902 | Test acc:0.128\n",
      "Epoch:3 | Train loss: 51.54 | Train acc: 0.927 | Test acc:0.138\n",
      "Epoch:4 | Train loss: 48.60 | Train acc: 0.936 | Test acc:0.127\n",
      "Epoch:5 | Train loss: 45.84 | Train acc: 0.948 | Test acc:0.114\n",
      "Epoch:6 | Train loss: 43.25 | Train acc: 0.954 | Test acc:0.130\n",
      "Epoch:7 | Train loss: 40.83 | Train acc: 0.963 | Test acc:0.120\n",
      "Epoch:8 | Train loss: 38.55 | Train acc: 0.963 | Test acc:0.118\n",
      "Epoch:9 | Train loss: 36.40 | Train acc: 0.972 | Test acc:0.109\n",
      "Epoch:10 | Train loss: 34.39 | Train acc: 0.972 | Test acc:0.127\n",
      "Epoch:11 | Train loss: 32.49 | Train acc: 0.977 | Test acc:0.132\n",
      "Epoch:12 | Train loss: 30.70 | Train acc: 0.980 | Test acc:0.134\n",
      "Epoch:13 | Train loss: 29.02 | Train acc: 0.983 | Test acc:0.125\n",
      "With Dropout & Batch Normalization\n"
     ]
    },
    {
     "name": "stderr",
     "output_type": "stream",
     "text": [
      "/usr/local/lib/python3.5/dist-packages/tensorflow_core/python/client/session.py:1750: UserWarning: An interactive session is already active. This can cause out-of-memory errors in some cases. You must explicitly call `InteractiveSession.close()` to release resources held by the other session(s).\n",
      "  warnings.warn('An interactive session is already active. This can '\n"
     ]
    },
    {
     "name": "stdout",
     "output_type": "stream",
     "text": [
      "Epoch:0 | Train loss: 56.55 | Train acc: 0.825 | Test acc:0.124\n",
      "Epoch:1 | Train loss: 53.10 | Train acc: 0.883 | Test acc:0.133\n",
      "Epoch:2 | Train loss: 49.94 | Train acc: 0.914 | Test acc:0.122\n",
      "Epoch:3 | Train loss: 47.01 | Train acc: 0.930 | Test acc:0.108\n",
      "Epoch:4 | Train loss: 44.29 | Train acc: 0.936 | Test acc:0.121\n",
      "Epoch:5 | Train loss: 41.74 | Train acc: 0.952 | Test acc:0.117\n",
      "Epoch:6 | Train loss: 39.36 | Train acc: 0.951 | Test acc:0.108\n",
      "Epoch:7 | Train loss: 37.13 | Train acc: 0.960 | Test acc:0.102\n",
      "Epoch:8 | Train loss: 35.04 | Train acc: 0.965 | Test acc:0.105\n",
      "Epoch:9 | Train loss: 33.07 | Train acc: 0.967 | Test acc:0.112\n",
      "Epoch:10 | Train loss: 31.23 | Train acc: 0.972 | Test acc:0.108\n",
      "Epoch:11 | Train loss: 29.49 | Train acc: 0.975 | Test acc:0.101\n",
      "Epoch:12 | Train loss: 27.85 | Train acc: 0.979 | Test acc:0.095\n",
      "Epoch:13 | Train loss: 26.32 | Train acc: 0.980 | Test acc:0.089\n",
      "With Dropout & Batch Normalization\n"
     ]
    },
    {
     "name": "stderr",
     "output_type": "stream",
     "text": [
      "/usr/local/lib/python3.5/dist-packages/tensorflow_core/python/client/session.py:1750: UserWarning: An interactive session is already active. This can cause out-of-memory errors in some cases. You must explicitly call `InteractiveSession.close()` to release resources held by the other session(s).\n",
      "  warnings.warn('An interactive session is already active. This can '\n"
     ]
    },
    {
     "name": "stdout",
     "output_type": "stream",
     "text": [
      "Epoch:0 | Train loss: 53.45 | Train acc: 0.799 | Test acc:0.115\n",
      "Epoch:1 | Train loss: 50.01 | Train acc: 0.892 | Test acc:0.110\n",
      "Epoch:2 | Train loss: 46.90 | Train acc: 0.921 | Test acc:0.135\n",
      "Epoch:3 | Train loss: 44.04 | Train acc: 0.939 | Test acc:0.131\n",
      "Epoch:4 | Train loss: 41.38 | Train acc: 0.948 | Test acc:0.124\n",
      "Epoch:5 | Train loss: 38.90 | Train acc: 0.958 | Test acc:0.115\n",
      "Epoch:6 | Train loss: 36.59 | Train acc: 0.963 | Test acc:0.118\n",
      "Epoch:7 | Train loss: 34.42 | Train acc: 0.969 | Test acc:0.122\n",
      "Epoch:8 | Train loss: 32.41 | Train acc: 0.971 | Test acc:0.120\n",
      "Epoch:9 | Train loss: 30.51 | Train acc: 0.974 | Test acc:0.122\n",
      "Epoch:10 | Train loss: 28.74 | Train acc: 0.977 | Test acc:0.119\n",
      "Epoch:11 | Train loss: 27.08 | Train acc: 0.979 | Test acc:0.119\n",
      "Epoch:12 | Train loss: 25.52 | Train acc: 0.980 | Test acc:0.125\n",
      "Epoch:13 | Train loss: 24.06 | Train acc: 0.983 | Test acc:0.125\n",
      "With Dropout & Batch Normalization\n"
     ]
    },
    {
     "name": "stderr",
     "output_type": "stream",
     "text": [
      "/usr/local/lib/python3.5/dist-packages/tensorflow_core/python/client/session.py:1750: UserWarning: An interactive session is already active. This can cause out-of-memory errors in some cases. You must explicitly call `InteractiveSession.close()` to release resources held by the other session(s).\n",
      "  warnings.warn('An interactive session is already active. This can '\n"
     ]
    },
    {
     "name": "stdout",
     "output_type": "stream",
     "text": [
      "Epoch:0 | Train loss: 60.21 | Train acc: 0.773 | Test acc:0.110\n",
      "Epoch:1 | Train loss: 56.47 | Train acc: 0.881 | Test acc:0.122\n",
      "Epoch:2 | Train loss: 53.05 | Train acc: 0.911 | Test acc:0.132\n",
      "Epoch:3 | Train loss: 49.88 | Train acc: 0.929 | Test acc:0.136\n",
      "Epoch:4 | Train loss: 46.93 | Train acc: 0.937 | Test acc:0.125\n",
      "Epoch:5 | Train loss: 44.17 | Train acc: 0.947 | Test acc:0.131\n",
      "Epoch:6 | Train loss: 41.59 | Train acc: 0.956 | Test acc:0.133\n",
      "Epoch:7 | Train loss: 39.17 | Train acc: 0.958 | Test acc:0.116\n",
      "Epoch:8 | Train loss: 36.90 | Train acc: 0.962 | Test acc:0.119\n",
      "Epoch:9 | Train loss: 34.77 | Train acc: 0.969 | Test acc:0.110\n",
      "Epoch:10 | Train loss: 32.78 | Train acc: 0.973 | Test acc:0.109\n",
      "Epoch:11 | Train loss: 30.90 | Train acc: 0.976 | Test acc:0.119\n",
      "Epoch:12 | Train loss: 29.14 | Train acc: 0.975 | Test acc:0.117\n",
      "Epoch:13 | Train loss: 27.48 | Train acc: 0.980 | Test acc:0.126\n",
      "With Dropout & Batch Normalization\n"
     ]
    },
    {
     "name": "stderr",
     "output_type": "stream",
     "text": [
      "/usr/local/lib/python3.5/dist-packages/tensorflow_core/python/client/session.py:1750: UserWarning: An interactive session is already active. This can cause out-of-memory errors in some cases. You must explicitly call `InteractiveSession.close()` to release resources held by the other session(s).\n",
      "  warnings.warn('An interactive session is already active. This can '\n"
     ]
    },
    {
     "name": "stdout",
     "output_type": "stream",
     "text": [
      "Epoch:0 | Train loss: 62.76 | Train acc: 0.780 | Test acc:0.121\n",
      "Epoch:1 | Train loss: 59.11 | Train acc: 0.892 | Test acc:0.122\n",
      "Epoch:2 | Train loss: 55.77 | Train acc: 0.917 | Test acc:0.107\n",
      "Epoch:3 | Train loss: 52.66 | Train acc: 0.932 | Test acc:0.123\n",
      "Epoch:4 | Train loss: 49.75 | Train acc: 0.941 | Test acc:0.114\n",
      "Epoch:5 | Train loss: 47.03 | Train acc: 0.947 | Test acc:0.118\n",
      "Epoch:6 | Train loss: 44.48 | Train acc: 0.953 | Test acc:0.107\n",
      "Epoch:7 | Train loss: 42.07 | Train acc: 0.960 | Test acc:0.111\n",
      "Epoch:8 | Train loss: 39.82 | Train acc: 0.963 | Test acc:0.102\n",
      "Epoch:9 | Train loss: 37.70 | Train acc: 0.969 | Test acc:0.107\n",
      "Epoch:10 | Train loss: 35.70 | Train acc: 0.971 | Test acc:0.108\n",
      "Epoch:11 | Train loss: 33.82 | Train acc: 0.972 | Test acc:0.102\n",
      "Epoch:12 | Train loss: 32.04 | Train acc: 0.976 | Test acc:0.096\n",
      "Epoch:13 | Train loss: 30.37 | Train acc: 0.978 | Test acc:0.092\n",
      "With Dropout & Batch Normalization\n"
     ]
    },
    {
     "name": "stderr",
     "output_type": "stream",
     "text": [
      "/usr/local/lib/python3.5/dist-packages/tensorflow_core/python/client/session.py:1750: UserWarning: An interactive session is already active. This can cause out-of-memory errors in some cases. You must explicitly call `InteractiveSession.close()` to release resources held by the other session(s).\n",
      "  warnings.warn('An interactive session is already active. This can '\n"
     ]
    },
    {
     "name": "stdout",
     "output_type": "stream",
     "text": [
      "Epoch:0 | Train loss: 60.39 | Train acc: 0.834 | Test acc:0.114\n",
      "Epoch:1 | Train loss: 56.67 | Train acc: 0.903 | Test acc:0.107\n",
      "Epoch:2 | Train loss: 53.26 | Train acc: 0.923 | Test acc:0.111\n",
      "Epoch:3 | Train loss: 50.12 | Train acc: 0.937 | Test acc:0.095\n",
      "Epoch:4 | Train loss: 47.18 | Train acc: 0.947 | Test acc:0.114\n",
      "Epoch:5 | Train loss: 44.44 | Train acc: 0.955 | Test acc:0.112\n",
      "Epoch:6 | Train loss: 41.87 | Train acc: 0.962 | Test acc:0.115\n",
      "Epoch:7 | Train loss: 39.47 | Train acc: 0.966 | Test acc:0.102\n",
      "Epoch:8 | Train loss: 37.22 | Train acc: 0.968 | Test acc:0.109\n",
      "Epoch:9 | Train loss: 35.10 | Train acc: 0.971 | Test acc:0.109\n",
      "Epoch:10 | Train loss: 33.12 | Train acc: 0.976 | Test acc:0.109\n",
      "Epoch:11 | Train loss: 31.25 | Train acc: 0.979 | Test acc:0.110\n",
      "Epoch:12 | Train loss: 29.50 | Train acc: 0.982 | Test acc:0.109\n",
      "Epoch:13 | Train loss: 27.86 | Train acc: 0.983 | Test acc:0.104\n",
      "With Dropout & Batch Normalization\n"
     ]
    },
    {
     "name": "stderr",
     "output_type": "stream",
     "text": [
      "/usr/local/lib/python3.5/dist-packages/tensorflow_core/python/client/session.py:1750: UserWarning: An interactive session is already active. This can cause out-of-memory errors in some cases. You must explicitly call `InteractiveSession.close()` to release resources held by the other session(s).\n",
      "  warnings.warn('An interactive session is already active. This can '\n"
     ]
    },
    {
     "name": "stdout",
     "output_type": "stream",
     "text": [
      "Epoch:0 | Train loss: 50.78 | Train acc: 0.762 | Test acc:0.066\n",
      "Epoch:1 | Train loss: 47.42 | Train acc: 0.881 | Test acc:0.113\n",
      "Epoch:2 | Train loss: 44.39 | Train acc: 0.914 | Test acc:0.107\n",
      "Epoch:3 | Train loss: 41.60 | Train acc: 0.939 | Test acc:0.114\n",
      "Epoch:4 | Train loss: 39.01 | Train acc: 0.950 | Test acc:0.128\n",
      "Epoch:5 | Train loss: 36.60 | Train acc: 0.956 | Test acc:0.132\n",
      "Epoch:6 | Train loss: 34.35 | Train acc: 0.961 | Test acc:0.124\n",
      "Epoch:7 | Train loss: 32.26 | Train acc: 0.966 | Test acc:0.114\n",
      "Epoch:8 | Train loss: 30.30 | Train acc: 0.971 | Test acc:0.122\n",
      "Epoch:9 | Train loss: 28.47 | Train acc: 0.973 | Test acc:0.135\n",
      "Epoch:10 | Train loss: 26.76 | Train acc: 0.980 | Test acc:0.136\n",
      "Epoch:11 | Train loss: 25.16 | Train acc: 0.980 | Test acc:0.141\n",
      "Epoch:12 | Train loss: 23.66 | Train acc: 0.983 | Test acc:0.130\n",
      "Epoch:13 | Train loss: 22.25 | Train acc: 0.983 | Test acc:0.115\n",
      "With Dropout & Batch Normalization\n"
     ]
    },
    {
     "name": "stderr",
     "output_type": "stream",
     "text": [
      "/usr/local/lib/python3.5/dist-packages/tensorflow_core/python/client/session.py:1750: UserWarning: An interactive session is already active. This can cause out-of-memory errors in some cases. You must explicitly call `InteractiveSession.close()` to release resources held by the other session(s).\n",
      "  warnings.warn('An interactive session is already active. This can '\n"
     ]
    },
    {
     "name": "stdout",
     "output_type": "stream",
     "text": [
      "Epoch:0 | Train loss: 56.85 | Train acc: 0.804 | Test acc:0.134\n",
      "Epoch:1 | Train loss: 53.32 | Train acc: 0.886 | Test acc:0.138\n",
      "Epoch:2 | Train loss: 50.09 | Train acc: 0.914 | Test acc:0.129\n",
      "Epoch:3 | Train loss: 47.11 | Train acc: 0.933 | Test acc:0.137\n",
      "Epoch:4 | Train loss: 44.33 | Train acc: 0.942 | Test acc:0.121\n",
      "Epoch:5 | Train loss: 41.73 | Train acc: 0.950 | Test acc:0.109\n",
      "Epoch:6 | Train loss: 39.30 | Train acc: 0.959 | Test acc:0.104\n",
      "Epoch:7 | Train loss: 37.02 | Train acc: 0.968 | Test acc:0.110\n",
      "Epoch:8 | Train loss: 34.89 | Train acc: 0.968 | Test acc:0.083\n",
      "Epoch:9 | Train loss: 32.89 | Train acc: 0.970 | Test acc:0.077\n",
      "Epoch:10 | Train loss: 31.01 | Train acc: 0.975 | Test acc:0.071\n",
      "Epoch:11 | Train loss: 29.24 | Train acc: 0.981 | Test acc:0.059\n",
      "Epoch:12 | Train loss: 27.58 | Train acc: 0.983 | Test acc:0.071\n",
      "Epoch:13 | Train loss: 26.02 | Train acc: 0.984 | Test acc:0.056\n",
      "With Dropout & Batch Normalization\n"
     ]
    },
    {
     "name": "stderr",
     "output_type": "stream",
     "text": [
      "/usr/local/lib/python3.5/dist-packages/tensorflow_core/python/client/session.py:1750: UserWarning: An interactive session is already active. This can cause out-of-memory errors in some cases. You must explicitly call `InteractiveSession.close()` to release resources held by the other session(s).\n",
      "  warnings.warn('An interactive session is already active. This can '\n"
     ]
    },
    {
     "name": "stdout",
     "output_type": "stream",
     "text": [
      "Epoch:0 | Train loss: 59.17 | Train acc: 0.823 | Test acc:0.124\n",
      "Epoch:1 | Train loss: 55.44 | Train acc: 0.881 | Test acc:0.100\n",
      "Epoch:2 | Train loss: 52.04 | Train acc: 0.905 | Test acc:0.109\n",
      "Epoch:3 | Train loss: 48.89 | Train acc: 0.924 | Test acc:0.126\n",
      "Epoch:4 | Train loss: 45.96 | Train acc: 0.933 | Test acc:0.102\n",
      "Epoch:5 | Train loss: 43.23 | Train acc: 0.943 | Test acc:0.111\n",
      "Epoch:6 | Train loss: 40.67 | Train acc: 0.951 | Test acc:0.107\n",
      "Epoch:7 | Train loss: 38.27 | Train acc: 0.958 | Test acc:0.103\n",
      "Epoch:8 | Train loss: 36.02 | Train acc: 0.966 | Test acc:0.098\n",
      "Epoch:9 | Train loss: 33.91 | Train acc: 0.970 | Test acc:0.124\n",
      "Epoch:10 | Train loss: 31.93 | Train acc: 0.974 | Test acc:0.121\n",
      "Epoch:11 | Train loss: 30.07 | Train acc: 0.980 | Test acc:0.120\n",
      "Epoch:12 | Train loss: 28.32 | Train acc: 0.983 | Test acc:0.121\n",
      "Epoch:13 | Train loss: 26.69 | Train acc: 0.985 | Test acc:0.119\n"
     ]
    }
   ],
   "source": [
    "# M in MC dropout refers to number of MC dropout samples; since we're sampling different sets of indices, sort of sampling~\n",
    "\n",
    "entropy_val_MLPmc_1, acc_MLPmc_1, confi_MLPmc_1 = ensembling_expt(1, MNIST_X_train, MNIST_Y_train, MNIST_X_val, MNIST_Y_val, MNIST_X_test, MNIST_Y_test, models.MCDropout)\n",
    "entropy_val_MLPmc_5, acc_MLPmc_5, confi_MLPmc_5 = ensembling_expt(5, MNIST_X_train, MNIST_Y_train, MNIST_X_val, MNIST_Y_val, MNIST_X_test, MNIST_Y_test, models.MCDropout)\n",
    "entropy_val_MLPmc_10, acc_MLPmc_10, confi_MLPmc_10 = ensembling_expt(10, MNIST_X_train, MNIST_Y_train, MNIST_X_val, MNIST_Y_val, MNIST_X_test, MNIST_Y_test, models.MCDropout)\n",
    "\n",
    "Nentropy_val_MLPmc_1, Nacc_MLPmc_1, Nconfi_MLPmc_1 = ensembling_expt(1, MNIST_X_train, MNIST_Y_train, notMNIST_X_val, notMNIST_Y_val, notMNIST_X_test, notMNIST_Y_test, models.MCDropout)\n",
    "Nentropy_val_MLPmc_5, Nacc_MLPmc_5, Nconfi_MLPmc_5 = ensembling_expt(5, MNIST_X_train, MNIST_Y_train, notMNIST_X_val, notMNIST_Y_val, notMNIST_X_test, notMNIST_Y_test, models.MCDropout)\n",
    "Nentropy_val_MLPmc_10, Nacc_MLPmc_10, Nconfi_MLPmc_10 = ensembling_expt(10, MNIST_X_train, MNIST_Y_train, notMNIST_X_val, notMNIST_Y_val, notMNIST_X_test, notMNIST_Y_test, models.MCDropout)\n"
   ]
  },
  {
   "cell_type": "markdown",
   "metadata": {},
   "source": [
    "## Ensembling MLP & variants"
   ]
  },
  {
   "cell_type": "markdown",
   "metadata": {},
   "source": [
    "### MNIST plots"
   ]
  },
  {
   "cell_type": "code",
   "execution_count": 6,
   "metadata": {
    "scrolled": true
   },
   "outputs": [
    {
     "name": "stderr",
     "output_type": "stream",
     "text": [
      "/usr/local/lib/python3.5/dist-packages/ipykernel_launcher.py:13: FutureWarning: Using a non-tuple sequence for multidimensional indexing is deprecated; use `arr[tuple(seq)]` instead of `arr[seq]`. In the future this will be interpreted as an array index, `arr[np.array(seq)]`, which will result either in an error or a different result.\n",
      "  del sys.path[0]\n",
      "/usr/local/lib/python3.5/dist-packages/ipykernel_launcher.py:14: FutureWarning: Using a non-tuple sequence for multidimensional indexing is deprecated; use `arr[tuple(seq)]` instead of `arr[seq]`. In the future this will be interpreted as an array index, `arr[np.array(seq)]`, which will result either in an error or a different result.\n",
      "  \n",
      "/usr/local/lib/python3.5/dist-packages/tensorflow_core/python/client/session.py:1750: UserWarning: An interactive session is already active. This can cause out-of-memory errors in some cases. You must explicitly call `InteractiveSession.close()` to release resources held by the other session(s).\n",
      "  warnings.warn('An interactive session is already active. This can '\n"
     ]
    },
    {
     "name": "stdout",
     "output_type": "stream",
     "text": [
      "Without Dropout, Vanilla MLP\n",
      "Epoch:0 | Train loss: 34.49 | Train acc: 0.938 | Test acc:0.938\n",
      "Epoch:1 | Train loss: 19.25 | Train acc: 0.955 | Test acc:0.952\n",
      "Epoch:2 | Train loss: 10.95 | Train acc: 0.968 | Test acc:0.963\n",
      "Epoch:3 | Train loss: 6.44 | Train acc: 0.976 | Test acc:0.967\n",
      "Epoch:4 | Train loss: 4.00 | Train acc: 0.978 | Test acc:0.968\n",
      "Epoch:5 | Train loss: 2.70 | Train acc: 0.980 | Test acc:0.967\n",
      "Epoch:6 | Train loss: 2.04 | Train acc: 0.983 | Test acc:0.972\n",
      "Epoch:7 | Train loss: 1.71 | Train acc: 0.987 | Test acc:0.973\n",
      "Epoch:8 | Train loss: 1.56 | Train acc: 0.987 | Test acc:0.973\n",
      "Epoch:9 | Train loss: 1.50 | Train acc: 0.988 | Test acc:0.973\n",
      "Epoch:10 | Train loss: 1.48 | Train acc: 0.988 | Test acc:0.973\n",
      "Epoch:11 | Train loss: 1.47 | Train acc: 0.991 | Test acc:0.976\n",
      "Epoch:12 | Train loss: 1.47 | Train acc: 0.993 | Test acc:0.978\n",
      "Epoch:13 | Train loss: 1.47 | Train acc: 0.993 | Test acc:0.977\n"
     ]
    },
    {
     "name": "stderr",
     "output_type": "stream",
     "text": [
      "/usr/local/lib/python3.5/dist-packages/ipykernel_launcher.py:13: FutureWarning: Using a non-tuple sequence for multidimensional indexing is deprecated; use `arr[tuple(seq)]` instead of `arr[seq]`. In the future this will be interpreted as an array index, `arr[np.array(seq)]`, which will result either in an error or a different result.\n",
      "  del sys.path[0]\n",
      "/usr/local/lib/python3.5/dist-packages/ipykernel_launcher.py:14: FutureWarning: Using a non-tuple sequence for multidimensional indexing is deprecated; use `arr[tuple(seq)]` instead of `arr[seq]`. In the future this will be interpreted as an array index, `arr[np.array(seq)]`, which will result either in an error or a different result.\n",
      "  \n",
      "/usr/local/lib/python3.5/dist-packages/tensorflow_core/python/client/session.py:1750: UserWarning: An interactive session is already active. This can cause out-of-memory errors in some cases. You must explicitly call `InteractiveSession.close()` to release resources held by the other session(s).\n",
      "  warnings.warn('An interactive session is already active. This can '\n"
     ]
    },
    {
     "name": "stdout",
     "output_type": "stream",
     "text": [
      "Without Dropout, Vanilla MLP\n",
      "Epoch:0 | Train loss: 55.09 | Train acc: 0.879 | Test acc:0.882\n",
      "Epoch:1 | Train loss: 48.84 | Train acc: 0.898 | Test acc:0.892\n",
      "Epoch:2 | Train loss: 43.36 | Train acc: 0.928 | Test acc:0.919\n",
      "Epoch:3 | Train loss: 38.55 | Train acc: 0.937 | Test acc:0.924\n",
      "Epoch:4 | Train loss: 34.31 | Train acc: 0.951 | Test acc:0.935\n",
      "Epoch:5 | Train loss: 30.56 | Train acc: 0.959 | Test acc:0.936\n",
      "Epoch:6 | Train loss: 27.24 | Train acc: 0.965 | Test acc:0.940\n",
      "Epoch:7 | Train loss: 24.29 | Train acc: 0.971 | Test acc:0.945\n",
      "Epoch:8 | Train loss: 21.68 | Train acc: 0.973 | Test acc:0.947\n",
      "Epoch:9 | Train loss: 19.36 | Train acc: 0.973 | Test acc:0.945\n",
      "Epoch:10 | Train loss: 17.30 | Train acc: 0.979 | Test acc:0.953\n",
      "Epoch:11 | Train loss: 15.46 | Train acc: 0.982 | Test acc:0.951\n",
      "Epoch:12 | Train loss: 13.83 | Train acc: 0.985 | Test acc:0.956\n",
      "Epoch:13 | Train loss: 12.39 | Train acc: 0.986 | Test acc:0.955\n",
      "Without Dropout, Vanilla MLP\n"
     ]
    },
    {
     "name": "stderr",
     "output_type": "stream",
     "text": [
      "/usr/local/lib/python3.5/dist-packages/tensorflow_core/python/client/session.py:1750: UserWarning: An interactive session is already active. This can cause out-of-memory errors in some cases. You must explicitly call `InteractiveSession.close()` to release resources held by the other session(s).\n",
      "  warnings.warn('An interactive session is already active. This can '\n"
     ]
    },
    {
     "name": "stdout",
     "output_type": "stream",
     "text": [
      "Epoch:0 | Train loss: 51.39 | Train acc: 0.855 | Test acc:0.845\n",
      "Epoch:1 | Train loss: 45.37 | Train acc: 0.923 | Test acc:0.913\n",
      "Epoch:2 | Train loss: 40.15 | Train acc: 0.938 | Test acc:0.923\n",
      "Epoch:3 | Train loss: 35.58 | Train acc: 0.946 | Test acc:0.931\n",
      "Epoch:4 | Train loss: 31.57 | Train acc: 0.956 | Test acc:0.938\n",
      "Epoch:5 | Train loss: 28.04 | Train acc: 0.961 | Test acc:0.938\n",
      "Epoch:6 | Train loss: 24.92 | Train acc: 0.968 | Test acc:0.943\n",
      "Epoch:7 | Train loss: 22.18 | Train acc: 0.970 | Test acc:0.944\n",
      "Epoch:8 | Train loss: 19.75 | Train acc: 0.975 | Test acc:0.946\n",
      "Epoch:9 | Train loss: 17.60 | Train acc: 0.979 | Test acc:0.948\n",
      "Epoch:10 | Train loss: 15.71 | Train acc: 0.975 | Test acc:0.945\n",
      "Epoch:11 | Train loss: 14.02 | Train acc: 0.983 | Test acc:0.950\n",
      "Epoch:12 | Train loss: 12.54 | Train acc: 0.985 | Test acc:0.951\n",
      "Epoch:13 | Train loss: 11.22 | Train acc: 0.986 | Test acc:0.953\n",
      "Without Dropout, Vanilla MLP\n"
     ]
    },
    {
     "name": "stderr",
     "output_type": "stream",
     "text": [
      "/usr/local/lib/python3.5/dist-packages/tensorflow_core/python/client/session.py:1750: UserWarning: An interactive session is already active. This can cause out-of-memory errors in some cases. You must explicitly call `InteractiveSession.close()` to release resources held by the other session(s).\n",
      "  warnings.warn('An interactive session is already active. This can '\n"
     ]
    },
    {
     "name": "stdout",
     "output_type": "stream",
     "text": [
      "Epoch:0 | Train loss: 51.10 | Train acc: 0.859 | Test acc:0.858\n",
      "Epoch:1 | Train loss: 45.04 | Train acc: 0.913 | Test acc:0.908\n",
      "Epoch:2 | Train loss: 39.79 | Train acc: 0.936 | Test acc:0.924\n",
      "Epoch:3 | Train loss: 35.21 | Train acc: 0.946 | Test acc:0.928\n",
      "Epoch:4 | Train loss: 31.20 | Train acc: 0.948 | Test acc:0.930\n",
      "Epoch:5 | Train loss: 27.68 | Train acc: 0.963 | Test acc:0.943\n",
      "Epoch:6 | Train loss: 24.60 | Train acc: 0.965 | Test acc:0.941\n",
      "Epoch:7 | Train loss: 21.88 | Train acc: 0.972 | Test acc:0.948\n",
      "Epoch:8 | Train loss: 19.50 | Train acc: 0.974 | Test acc:0.949\n",
      "Epoch:9 | Train loss: 17.39 | Train acc: 0.978 | Test acc:0.952\n",
      "Epoch:10 | Train loss: 15.54 | Train acc: 0.982 | Test acc:0.953\n",
      "Epoch:11 | Train loss: 13.90 | Train acc: 0.981 | Test acc:0.956\n",
      "Epoch:12 | Train loss: 12.45 | Train acc: 0.982 | Test acc:0.951\n",
      "Epoch:13 | Train loss: 11.17 | Train acc: 0.981 | Test acc:0.950\n",
      "Without Dropout, Vanilla MLP\n"
     ]
    },
    {
     "name": "stderr",
     "output_type": "stream",
     "text": [
      "/usr/local/lib/python3.5/dist-packages/tensorflow_core/python/client/session.py:1750: UserWarning: An interactive session is already active. This can cause out-of-memory errors in some cases. You must explicitly call `InteractiveSession.close()` to release resources held by the other session(s).\n",
      "  warnings.warn('An interactive session is already active. This can '\n"
     ]
    },
    {
     "name": "stdout",
     "output_type": "stream",
     "text": [
      "Epoch:0 | Train loss: 54.84 | Train acc: 0.828 | Test acc:0.825\n",
      "Epoch:1 | Train loss: 48.42 | Train acc: 0.875 | Test acc:0.867\n",
      "Epoch:2 | Train loss: 42.79 | Train acc: 0.906 | Test acc:0.898\n",
      "Epoch:3 | Train loss: 37.85 | Train acc: 0.939 | Test acc:0.926\n",
      "Epoch:4 | Train loss: 33.51 | Train acc: 0.946 | Test acc:0.931\n",
      "Epoch:5 | Train loss: 29.68 | Train acc: 0.957 | Test acc:0.937\n",
      "Epoch:6 | Train loss: 26.30 | Train acc: 0.963 | Test acc:0.943\n",
      "Epoch:7 | Train loss: 23.31 | Train acc: 0.966 | Test acc:0.941\n",
      "Epoch:8 | Train loss: 20.68 | Train acc: 0.971 | Test acc:0.947\n",
      "Epoch:9 | Train loss: 18.36 | Train acc: 0.971 | Test acc:0.944\n",
      "Epoch:10 | Train loss: 16.30 | Train acc: 0.978 | Test acc:0.948\n",
      "Epoch:11 | Train loss: 14.49 | Train acc: 0.982 | Test acc:0.952\n",
      "Epoch:12 | Train loss: 12.89 | Train acc: 0.983 | Test acc:0.950\n",
      "Epoch:13 | Train loss: 11.48 | Train acc: 0.984 | Test acc:0.954\n",
      "Without Dropout, Vanilla MLP\n"
     ]
    },
    {
     "name": "stderr",
     "output_type": "stream",
     "text": [
      "/usr/local/lib/python3.5/dist-packages/tensorflow_core/python/client/session.py:1750: UserWarning: An interactive session is already active. This can cause out-of-memory errors in some cases. You must explicitly call `InteractiveSession.close()` to release resources held by the other session(s).\n",
      "  warnings.warn('An interactive session is already active. This can '\n"
     ]
    },
    {
     "name": "stdout",
     "output_type": "stream",
     "text": [
      "Epoch:0 | Train loss: 58.01 | Train acc: 0.863 | Test acc:0.868\n",
      "Epoch:1 | Train loss: 51.55 | Train acc: 0.915 | Test acc:0.909\n",
      "Epoch:2 | Train loss: 45.91 | Train acc: 0.931 | Test acc:0.920\n",
      "Epoch:3 | Train loss: 40.95 | Train acc: 0.942 | Test acc:0.924\n",
      "Epoch:4 | Train loss: 36.56 | Train acc: 0.950 | Test acc:0.931\n",
      "Epoch:5 | Train loss: 32.67 | Train acc: 0.958 | Test acc:0.937\n",
      "Epoch:6 | Train loss: 29.23 | Train acc: 0.961 | Test acc:0.941\n",
      "Epoch:7 | Train loss: 26.17 | Train acc: 0.967 | Test acc:0.939\n",
      "Epoch:8 | Train loss: 23.45 | Train acc: 0.974 | Test acc:0.947\n",
      "Epoch:9 | Train loss: 21.04 | Train acc: 0.979 | Test acc:0.951\n",
      "Epoch:10 | Train loss: 18.89 | Train acc: 0.981 | Test acc:0.951\n",
      "Epoch:11 | Train loss: 16.97 | Train acc: 0.983 | Test acc:0.953\n",
      "Epoch:12 | Train loss: 15.27 | Train acc: 0.984 | Test acc:0.954\n",
      "Epoch:13 | Train loss: 13.75 | Train acc: 0.984 | Test acc:0.955\n"
     ]
    },
    {
     "name": "stderr",
     "output_type": "stream",
     "text": [
      "/usr/local/lib/python3.5/dist-packages/ipykernel_launcher.py:13: FutureWarning: Using a non-tuple sequence for multidimensional indexing is deprecated; use `arr[tuple(seq)]` instead of `arr[seq]`. In the future this will be interpreted as an array index, `arr[np.array(seq)]`, which will result either in an error or a different result.\n",
      "  del sys.path[0]\n",
      "/usr/local/lib/python3.5/dist-packages/ipykernel_launcher.py:14: FutureWarning: Using a non-tuple sequence for multidimensional indexing is deprecated; use `arr[tuple(seq)]` instead of `arr[seq]`. In the future this will be interpreted as an array index, `arr[np.array(seq)]`, which will result either in an error or a different result.\n",
      "  \n",
      "/usr/local/lib/python3.5/dist-packages/tensorflow_core/python/client/session.py:1750: UserWarning: An interactive session is already active. This can cause out-of-memory errors in some cases. You must explicitly call `InteractiveSession.close()` to release resources held by the other session(s).\n",
      "  warnings.warn('An interactive session is already active. This can '\n"
     ]
    },
    {
     "name": "stdout",
     "output_type": "stream",
     "text": [
      "Without Dropout, Vanilla MLP\n",
      "Epoch:0 | Train loss: 54.04 | Train acc: 0.806 | Test acc:0.816\n",
      "Epoch:1 | Train loss: 50.64 | Train acc: 0.842 | Test acc:0.838\n",
      "Epoch:2 | Train loss: 47.52 | Train acc: 0.868 | Test acc:0.863\n",
      "Epoch:3 | Train loss: 44.62 | Train acc: 0.904 | Test acc:0.890\n",
      "Epoch:4 | Train loss: 41.92 | Train acc: 0.930 | Test acc:0.909\n",
      "Epoch:5 | Train loss: 39.40 | Train acc: 0.938 | Test acc:0.916\n",
      "Epoch:6 | Train loss: 37.05 | Train acc: 0.947 | Test acc:0.920\n",
      "Epoch:7 | Train loss: 34.86 | Train acc: 0.950 | Test acc:0.920\n",
      "Epoch:8 | Train loss: 32.80 | Train acc: 0.961 | Test acc:0.926\n",
      "Epoch:9 | Train loss: 30.88 | Train acc: 0.961 | Test acc:0.924\n",
      "Epoch:10 | Train loss: 29.08 | Train acc: 0.967 | Test acc:0.927\n",
      "Epoch:11 | Train loss: 27.39 | Train acc: 0.971 | Test acc:0.931\n",
      "Epoch:12 | Train loss: 25.80 | Train acc: 0.974 | Test acc:0.931\n",
      "Epoch:13 | Train loss: 24.32 | Train acc: 0.979 | Test acc:0.935\n",
      "Without Dropout, Vanilla MLP\n"
     ]
    },
    {
     "name": "stderr",
     "output_type": "stream",
     "text": [
      "/usr/local/lib/python3.5/dist-packages/tensorflow_core/python/client/session.py:1750: UserWarning: An interactive session is already active. This can cause out-of-memory errors in some cases. You must explicitly call `InteractiveSession.close()` to release resources held by the other session(s).\n",
      "  warnings.warn('An interactive session is already active. This can '\n"
     ]
    },
    {
     "name": "stdout",
     "output_type": "stream",
     "text": [
      "Epoch:0 | Train loss: 56.84 | Train acc: 0.771 | Test acc:0.762\n",
      "Epoch:1 | Train loss: 53.31 | Train acc: 0.828 | Test acc:0.825\n",
      "Epoch:2 | Train loss: 50.08 | Train acc: 0.869 | Test acc:0.850\n",
      "Epoch:3 | Train loss: 47.08 | Train acc: 0.901 | Test acc:0.886\n",
      "Epoch:4 | Train loss: 44.28 | Train acc: 0.927 | Test acc:0.904\n",
      "Epoch:5 | Train loss: 41.66 | Train acc: 0.930 | Test acc:0.909\n",
      "Epoch:6 | Train loss: 39.21 | Train acc: 0.944 | Test acc:0.918\n",
      "Epoch:7 | Train loss: 36.92 | Train acc: 0.950 | Test acc:0.921\n",
      "Epoch:8 | Train loss: 34.78 | Train acc: 0.954 | Test acc:0.924\n",
      "Epoch:9 | Train loss: 32.76 | Train acc: 0.962 | Test acc:0.928\n",
      "Epoch:10 | Train loss: 30.88 | Train acc: 0.965 | Test acc:0.930\n",
      "Epoch:11 | Train loss: 29.10 | Train acc: 0.966 | Test acc:0.930\n",
      "Epoch:12 | Train loss: 27.44 | Train acc: 0.968 | Test acc:0.929\n",
      "Epoch:13 | Train loss: 25.87 | Train acc: 0.973 | Test acc:0.932\n",
      "Without Dropout, Vanilla MLP\n"
     ]
    },
    {
     "name": "stderr",
     "output_type": "stream",
     "text": [
      "/usr/local/lib/python3.5/dist-packages/tensorflow_core/python/client/session.py:1750: UserWarning: An interactive session is already active. This can cause out-of-memory errors in some cases. You must explicitly call `InteractiveSession.close()` to release resources held by the other session(s).\n",
      "  warnings.warn('An interactive session is already active. This can '\n"
     ]
    },
    {
     "name": "stdout",
     "output_type": "stream",
     "text": [
      "Epoch:0 | Train loss: 54.43 | Train acc: 0.807 | Test acc:0.805\n",
      "Epoch:1 | Train loss: 51.00 | Train acc: 0.878 | Test acc:0.868\n",
      "Epoch:2 | Train loss: 47.85 | Train acc: 0.897 | Test acc:0.883\n",
      "Epoch:3 | Train loss: 44.93 | Train acc: 0.923 | Test acc:0.903\n",
      "Epoch:4 | Train loss: 42.21 | Train acc: 0.936 | Test acc:0.908\n",
      "Epoch:5 | Train loss: 39.67 | Train acc: 0.950 | Test acc:0.920\n",
      "Epoch:6 | Train loss: 37.31 | Train acc: 0.960 | Test acc:0.924\n",
      "Epoch:7 | Train loss: 35.10 | Train acc: 0.961 | Test acc:0.920\n",
      "Epoch:8 | Train loss: 33.03 | Train acc: 0.967 | Test acc:0.927\n",
      "Epoch:9 | Train loss: 31.10 | Train acc: 0.971 | Test acc:0.930\n",
      "Epoch:10 | Train loss: 29.29 | Train acc: 0.974 | Test acc:0.932\n",
      "Epoch:11 | Train loss: 27.59 | Train acc: 0.976 | Test acc:0.931\n",
      "Epoch:12 | Train loss: 26.00 | Train acc: 0.980 | Test acc:0.935\n",
      "Epoch:13 | Train loss: 24.51 | Train acc: 0.979 | Test acc:0.933\n",
      "Without Dropout, Vanilla MLP\n"
     ]
    },
    {
     "name": "stderr",
     "output_type": "stream",
     "text": [
      "/usr/local/lib/python3.5/dist-packages/tensorflow_core/python/client/session.py:1750: UserWarning: An interactive session is already active. This can cause out-of-memory errors in some cases. You must explicitly call `InteractiveSession.close()` to release resources held by the other session(s).\n",
      "  warnings.warn('An interactive session is already active. This can '\n"
     ]
    },
    {
     "name": "stdout",
     "output_type": "stream",
     "text": [
      "Epoch:0 | Train loss: 58.41 | Train acc: 0.781 | Test acc:0.782\n",
      "Epoch:1 | Train loss: 54.77 | Train acc: 0.830 | Test acc:0.812\n",
      "Epoch:2 | Train loss: 51.42 | Train acc: 0.884 | Test acc:0.865\n",
      "Epoch:3 | Train loss: 48.30 | Train acc: 0.919 | Test acc:0.900\n",
      "Epoch:4 | Train loss: 45.40 | Train acc: 0.914 | Test acc:0.890\n",
      "Epoch:5 | Train loss: 42.67 | Train acc: 0.949 | Test acc:0.918\n",
      "Epoch:6 | Train loss: 40.13 | Train acc: 0.944 | Test acc:0.913\n",
      "Epoch:7 | Train loss: 37.73 | Train acc: 0.956 | Test acc:0.921\n",
      "Epoch:8 | Train loss: 35.49 | Train acc: 0.959 | Test acc:0.926\n",
      "Epoch:9 | Train loss: 33.39 | Train acc: 0.967 | Test acc:0.926\n",
      "Epoch:10 | Train loss: 31.41 | Train acc: 0.975 | Test acc:0.931\n",
      "Epoch:11 | Train loss: 29.55 | Train acc: 0.974 | Test acc:0.928\n",
      "Epoch:12 | Train loss: 27.81 | Train acc: 0.979 | Test acc:0.935\n",
      "Epoch:13 | Train loss: 26.17 | Train acc: 0.979 | Test acc:0.932\n",
      "Without Dropout, Vanilla MLP\n"
     ]
    },
    {
     "name": "stderr",
     "output_type": "stream",
     "text": [
      "/usr/local/lib/python3.5/dist-packages/tensorflow_core/python/client/session.py:1750: UserWarning: An interactive session is already active. This can cause out-of-memory errors in some cases. You must explicitly call `InteractiveSession.close()` to release resources held by the other session(s).\n",
      "  warnings.warn('An interactive session is already active. This can '\n"
     ]
    },
    {
     "name": "stdout",
     "output_type": "stream",
     "text": [
      "Epoch:0 | Train loss: 57.42 | Train acc: 0.808 | Test acc:0.801\n",
      "Epoch:1 | Train loss: 53.92 | Train acc: 0.808 | Test acc:0.795\n",
      "Epoch:2 | Train loss: 50.72 | Train acc: 0.878 | Test acc:0.856\n",
      "Epoch:3 | Train loss: 47.74 | Train acc: 0.916 | Test acc:0.898\n",
      "Epoch:4 | Train loss: 44.96 | Train acc: 0.930 | Test acc:0.904\n",
      "Epoch:5 | Train loss: 42.37 | Train acc: 0.947 | Test acc:0.918\n",
      "Epoch:6 | Train loss: 39.94 | Train acc: 0.951 | Test acc:0.922\n",
      "Epoch:7 | Train loss: 37.67 | Train acc: 0.954 | Test acc:0.922\n",
      "Epoch:8 | Train loss: 35.55 | Train acc: 0.959 | Test acc:0.925\n",
      "Epoch:9 | Train loss: 33.55 | Train acc: 0.963 | Test acc:0.928\n",
      "Epoch:10 | Train loss: 31.68 | Train acc: 0.969 | Test acc:0.930\n",
      "Epoch:11 | Train loss: 29.92 | Train acc: 0.975 | Test acc:0.933\n",
      "Epoch:12 | Train loss: 28.27 | Train acc: 0.977 | Test acc:0.936\n",
      "Epoch:13 | Train loss: 26.73 | Train acc: 0.979 | Test acc:0.935\n",
      "Without Dropout, Vanilla MLP\n"
     ]
    },
    {
     "name": "stderr",
     "output_type": "stream",
     "text": [
      "/usr/local/lib/python3.5/dist-packages/tensorflow_core/python/client/session.py:1750: UserWarning: An interactive session is already active. This can cause out-of-memory errors in some cases. You must explicitly call `InteractiveSession.close()` to release resources held by the other session(s).\n",
      "  warnings.warn('An interactive session is already active. This can '\n"
     ]
    },
    {
     "name": "stdout",
     "output_type": "stream",
     "text": [
      "Epoch:0 | Train loss: 52.45 | Train acc: 0.760 | Test acc:0.752\n",
      "Epoch:1 | Train loss: 48.97 | Train acc: 0.866 | Test acc:0.862\n",
      "Epoch:2 | Train loss: 45.77 | Train acc: 0.869 | Test acc:0.853\n",
      "Epoch:3 | Train loss: 42.82 | Train acc: 0.897 | Test acc:0.884\n",
      "Epoch:4 | Train loss: 40.07 | Train acc: 0.917 | Test acc:0.897\n",
      "Epoch:5 | Train loss: 37.50 | Train acc: 0.943 | Test acc:0.916\n",
      "Epoch:6 | Train loss: 35.11 | Train acc: 0.949 | Test acc:0.919\n",
      "Epoch:7 | Train loss: 32.88 | Train acc: 0.956 | Test acc:0.920\n",
      "Epoch:8 | Train loss: 30.80 | Train acc: 0.967 | Test acc:0.927\n",
      "Epoch:9 | Train loss: 28.86 | Train acc: 0.965 | Test acc:0.928\n",
      "Epoch:10 | Train loss: 27.04 | Train acc: 0.972 | Test acc:0.930\n",
      "Epoch:11 | Train loss: 25.34 | Train acc: 0.974 | Test acc:0.932\n",
      "Epoch:12 | Train loss: 23.74 | Train acc: 0.974 | Test acc:0.929\n",
      "Epoch:13 | Train loss: 22.26 | Train acc: 0.976 | Test acc:0.931\n",
      "Without Dropout, Vanilla MLP\n"
     ]
    },
    {
     "name": "stderr",
     "output_type": "stream",
     "text": [
      "/usr/local/lib/python3.5/dist-packages/tensorflow_core/python/client/session.py:1750: UserWarning: An interactive session is already active. This can cause out-of-memory errors in some cases. You must explicitly call `InteractiveSession.close()` to release resources held by the other session(s).\n",
      "  warnings.warn('An interactive session is already active. This can '\n"
     ]
    },
    {
     "name": "stdout",
     "output_type": "stream",
     "text": [
      "Epoch:0 | Train loss: 53.36 | Train acc: 0.832 | Test acc:0.829\n",
      "Epoch:1 | Train loss: 49.94 | Train acc: 0.831 | Test acc:0.816\n",
      "Epoch:2 | Train loss: 46.82 | Train acc: 0.840 | Test acc:0.820\n",
      "Epoch:3 | Train loss: 43.92 | Train acc: 0.858 | Test acc:0.839\n",
      "Epoch:4 | Train loss: 41.22 | Train acc: 0.900 | Test acc:0.881\n",
      "Epoch:5 | Train loss: 38.71 | Train acc: 0.882 | Test acc:0.852\n",
      "Epoch:6 | Train loss: 36.36 | Train acc: 0.910 | Test acc:0.880\n",
      "Epoch:7 | Train loss: 34.17 | Train acc: 0.950 | Test acc:0.917\n",
      "Epoch:8 | Train loss: 32.12 | Train acc: 0.964 | Test acc:0.929\n",
      "Epoch:9 | Train loss: 30.21 | Train acc: 0.951 | Test acc:0.916\n",
      "Epoch:10 | Train loss: 28.42 | Train acc: 0.963 | Test acc:0.929\n",
      "Epoch:11 | Train loss: 26.74 | Train acc: 0.972 | Test acc:0.932\n",
      "Epoch:12 | Train loss: 25.17 | Train acc: 0.974 | Test acc:0.938\n",
      "Epoch:13 | Train loss: 23.69 | Train acc: 0.979 | Test acc:0.937\n",
      "Without Dropout, Vanilla MLP\n"
     ]
    },
    {
     "name": "stderr",
     "output_type": "stream",
     "text": [
      "/usr/local/lib/python3.5/dist-packages/tensorflow_core/python/client/session.py:1750: UserWarning: An interactive session is already active. This can cause out-of-memory errors in some cases. You must explicitly call `InteractiveSession.close()` to release resources held by the other session(s).\n",
      "  warnings.warn('An interactive session is already active. This can '\n"
     ]
    },
    {
     "name": "stdout",
     "output_type": "stream",
     "text": [
      "Epoch:0 | Train loss: 57.65 | Train acc: 0.797 | Test acc:0.808\n",
      "Epoch:1 | Train loss: 54.03 | Train acc: 0.848 | Test acc:0.839\n",
      "Epoch:2 | Train loss: 50.70 | Train acc: 0.894 | Test acc:0.887\n",
      "Epoch:3 | Train loss: 47.62 | Train acc: 0.897 | Test acc:0.890\n",
      "Epoch:4 | Train loss: 44.73 | Train acc: 0.926 | Test acc:0.914\n",
      "Epoch:5 | Train loss: 42.03 | Train acc: 0.933 | Test acc:0.917\n",
      "Epoch:6 | Train loss: 39.51 | Train acc: 0.943 | Test acc:0.925\n",
      "Epoch:7 | Train loss: 37.15 | Train acc: 0.951 | Test acc:0.928\n",
      "Epoch:8 | Train loss: 34.95 | Train acc: 0.950 | Test acc:0.924\n",
      "Epoch:9 | Train loss: 32.87 | Train acc: 0.958 | Test acc:0.928\n",
      "Epoch:10 | Train loss: 30.92 | Train acc: 0.961 | Test acc:0.930\n",
      "Epoch:11 | Train loss: 29.10 | Train acc: 0.966 | Test acc:0.934\n",
      "Epoch:12 | Train loss: 27.38 | Train acc: 0.970 | Test acc:0.938\n",
      "Epoch:13 | Train loss: 25.78 | Train acc: 0.974 | Test acc:0.936\n",
      "Without Dropout, Vanilla MLP\n"
     ]
    },
    {
     "name": "stderr",
     "output_type": "stream",
     "text": [
      "/usr/local/lib/python3.5/dist-packages/tensorflow_core/python/client/session.py:1750: UserWarning: An interactive session is already active. This can cause out-of-memory errors in some cases. You must explicitly call `InteractiveSession.close()` to release resources held by the other session(s).\n",
      "  warnings.warn('An interactive session is already active. This can '\n"
     ]
    },
    {
     "name": "stdout",
     "output_type": "stream",
     "text": [
      "Epoch:0 | Train loss: 58.17 | Train acc: 0.832 | Test acc:0.829\n",
      "Epoch:1 | Train loss: 54.64 | Train acc: 0.869 | Test acc:0.858\n",
      "Epoch:2 | Train loss: 51.41 | Train acc: 0.892 | Test acc:0.870\n",
      "Epoch:3 | Train loss: 48.42 | Train acc: 0.912 | Test acc:0.899\n",
      "Epoch:4 | Train loss: 45.61 | Train acc: 0.928 | Test acc:0.907\n",
      "Epoch:5 | Train loss: 42.98 | Train acc: 0.947 | Test acc:0.916\n",
      "Epoch:6 | Train loss: 40.52 | Train acc: 0.951 | Test acc:0.920\n",
      "Epoch:7 | Train loss: 38.21 | Train acc: 0.957 | Test acc:0.923\n",
      "Epoch:8 | Train loss: 36.04 | Train acc: 0.959 | Test acc:0.920\n",
      "Epoch:9 | Train loss: 34.00 | Train acc: 0.966 | Test acc:0.928\n",
      "Epoch:10 | Train loss: 32.08 | Train acc: 0.971 | Test acc:0.930\n",
      "Epoch:11 | Train loss: 30.28 | Train acc: 0.972 | Test acc:0.930\n",
      "Epoch:12 | Train loss: 28.58 | Train acc: 0.973 | Test acc:0.932\n",
      "Epoch:13 | Train loss: 26.98 | Train acc: 0.976 | Test acc:0.935\n",
      "Without Dropout, Vanilla MLP\n"
     ]
    },
    {
     "name": "stderr",
     "output_type": "stream",
     "text": [
      "/usr/local/lib/python3.5/dist-packages/tensorflow_core/python/client/session.py:1750: UserWarning: An interactive session is already active. This can cause out-of-memory errors in some cases. You must explicitly call `InteractiveSession.close()` to release resources held by the other session(s).\n",
      "  warnings.warn('An interactive session is already active. This can '\n"
     ]
    },
    {
     "name": "stdout",
     "output_type": "stream",
     "text": [
      "Epoch:0 | Train loss: 57.83 | Train acc: 0.791 | Test acc:0.803\n",
      "Epoch:1 | Train loss: 54.28 | Train acc: 0.844 | Test acc:0.840\n",
      "Epoch:2 | Train loss: 51.03 | Train acc: 0.864 | Test acc:0.852\n",
      "Epoch:3 | Train loss: 48.00 | Train acc: 0.900 | Test acc:0.889\n",
      "Epoch:4 | Train loss: 45.17 | Train acc: 0.914 | Test acc:0.893\n",
      "Epoch:5 | Train loss: 42.52 | Train acc: 0.924 | Test acc:0.904\n",
      "Epoch:6 | Train loss: 40.04 | Train acc: 0.938 | Test acc:0.919\n",
      "Epoch:7 | Train loss: 37.71 | Train acc: 0.945 | Test acc:0.921\n",
      "Epoch:8 | Train loss: 35.52 | Train acc: 0.948 | Test acc:0.925\n",
      "Epoch:9 | Train loss: 33.47 | Train acc: 0.955 | Test acc:0.928\n",
      "Epoch:10 | Train loss: 31.54 | Train acc: 0.960 | Test acc:0.930\n",
      "Epoch:11 | Train loss: 29.73 | Train acc: 0.963 | Test acc:0.930\n",
      "Epoch:12 | Train loss: 28.02 | Train acc: 0.966 | Test acc:0.930\n",
      "Epoch:13 | Train loss: 26.42 | Train acc: 0.966 | Test acc:0.929\n"
     ]
    }
   ],
   "source": [
    "entropy_val_MLP_1, acc_MLP_1, confi_MLP_1 = ensembling_expt(1, MNIST_X_train, MNIST_Y_train, MNIST_X_val, MNIST_Y_val, MNIST_X_test, MNIST_Y_test, models.MLP)\n",
    "entropy_val_MLP_5, acc_MLP_5, confi_MLP_5 = ensembling_expt(5, MNIST_X_train, MNIST_Y_train, MNIST_X_val, MNIST_Y_val, MNIST_X_test, MNIST_Y_test, models.MLP)\n",
    "entropy_val_MLP_10, acc_MLP_10, confi_MLP_10 = ensembling_expt(10, MNIST_X_train, MNIST_Y_train, MNIST_X_val, MNIST_Y_val, MNIST_X_test, MNIST_Y_test, models.MLP)"
   ]
  },
  {
   "cell_type": "code",
   "execution_count": 7,
   "metadata": {
    "scrolled": true
   },
   "outputs": [
    {
     "name": "stderr",
     "output_type": "stream",
     "text": [
      "/usr/local/lib/python3.5/dist-packages/ipykernel_launcher.py:13: FutureWarning: Using a non-tuple sequence for multidimensional indexing is deprecated; use `arr[tuple(seq)]` instead of `arr[seq]`. In the future this will be interpreted as an array index, `arr[np.array(seq)]`, which will result either in an error or a different result.\n",
      "  del sys.path[0]\n",
      "/usr/local/lib/python3.5/dist-packages/ipykernel_launcher.py:14: FutureWarning: Using a non-tuple sequence for multidimensional indexing is deprecated; use `arr[tuple(seq)]` instead of `arr[seq]`. In the future this will be interpreted as an array index, `arr[np.array(seq)]`, which will result either in an error or a different result.\n",
      "  \n"
     ]
    },
    {
     "name": "stdout",
     "output_type": "stream",
     "text": [
      "Without Dropout, MLP with random perturbations\n"
     ]
    },
    {
     "name": "stderr",
     "output_type": "stream",
     "text": [
      "/home/root/adversarial/Gal/models.py:656: FutureWarning: Using a non-tuple sequence for multidimensional indexing is deprecated; use `arr[tuple(seq)]` instead of `arr[seq]`. In the future this will be interpreted as an array index, `arr[np.array(seq)]`, which will result either in an error or a different result.\n",
      "  sample_X_train = X_train[[ind]] # X_train[[start_index,end_index]] ; this would let us take specific indices, so we can randomize the order, ensure each iteration is taking precisely unique samples\n",
      "/home/root/adversarial/Gal/models.py:657: FutureWarning: Using a non-tuple sequence for multidimensional indexing is deprecated; use `arr[tuple(seq)]` instead of `arr[seq]`. In the future this will be interpreted as an array index, `arr[np.array(seq)]`, which will result either in an error or a different result.\n",
      "  sample_Y_train = Y_train[[ind]]\n",
      "/usr/local/lib/python3.5/dist-packages/tensorflow_core/python/client/session.py:1750: UserWarning: An interactive session is already active. This can cause out-of-memory errors in some cases. You must explicitly call `InteractiveSession.close()` to release resources held by the other session(s).\n",
      "  warnings.warn('An interactive session is already active. This can '\n",
      "W0212 05:58:47.634558 139990761948928 deprecation.py:323] From /home/root/adversarial/Gal/models.py:667: Print (from tensorflow.python.ops.logging_ops) is deprecated and will be removed after 2018-08-20.\n",
      "Instructions for updating:\n",
      "Use tf.print instead of tf.Print. Note that tf.print returns a no-output operator that directly prints the output. Outside of defuns or eager mode, this operator will not be executed unless it is directly specified in session.run or used as a control dependency for other operators. This is only a concern in graph mode. Below is an example of how to ensure tf.print executes in graph mode:\n",
      "\n"
     ]
    },
    {
     "name": "stdout",
     "output_type": "stream",
     "text": [
      "New training set shape (X,Y):  ((60000, 784), (60000, 10))\n",
      "Epoch:0 | Train loss: 29.70 | Train acc: 0.909 | Test acc:0.908\n",
      "Epoch:1 | Train loss: 15.21 | Train acc: 0.937 | Test acc:0.933\n",
      "Epoch:2 | Train loss: 7.98 | Train acc: 0.919 | Test acc:0.911\n",
      "Epoch:3 | Train loss: 4.38 | Train acc: 0.934 | Test acc:0.933\n",
      "Epoch:4 | Train loss: 2.68 | Train acc: 0.942 | Test acc:0.932\n",
      "Epoch:5 | Train loss: 1.92 | Train acc: 0.974 | Test acc:0.965\n",
      "Epoch:6 | Train loss: 1.62 | Train acc: 0.983 | Test acc:0.971\n",
      "Epoch:7 | Train loss: 1.52 | Train acc: 0.978 | Test acc:0.966\n",
      "Epoch:8 | Train loss: 1.49 | Train acc: 0.976 | Test acc:0.965\n",
      "Epoch:9 | Train loss: 1.49 | Train acc: 0.970 | Test acc:0.957\n",
      "Epoch:10 | Train loss: 1.47 | Train acc: 0.987 | Test acc:0.972\n",
      "Epoch:11 | Train loss: 1.48 | Train acc: 0.972 | Test acc:0.958\n",
      "Epoch:12 | Train loss: 1.47 | Train acc: 0.993 | Test acc:0.977\n",
      "Epoch:13 | Train loss: 1.51 | Train acc: 0.931 | Test acc:0.918\n"
     ]
    },
    {
     "name": "stderr",
     "output_type": "stream",
     "text": [
      "/usr/local/lib/python3.5/dist-packages/ipykernel_launcher.py:13: FutureWarning: Using a non-tuple sequence for multidimensional indexing is deprecated; use `arr[tuple(seq)]` instead of `arr[seq]`. In the future this will be interpreted as an array index, `arr[np.array(seq)]`, which will result either in an error or a different result.\n",
      "  del sys.path[0]\n",
      "/usr/local/lib/python3.5/dist-packages/ipykernel_launcher.py:14: FutureWarning: Using a non-tuple sequence for multidimensional indexing is deprecated; use `arr[tuple(seq)]` instead of `arr[seq]`. In the future this will be interpreted as an array index, `arr[np.array(seq)]`, which will result either in an error or a different result.\n",
      "  \n",
      "/home/root/adversarial/Gal/models.py:656: FutureWarning: Using a non-tuple sequence for multidimensional indexing is deprecated; use `arr[tuple(seq)]` instead of `arr[seq]`. In the future this will be interpreted as an array index, `arr[np.array(seq)]`, which will result either in an error or a different result.\n",
      "  sample_X_train = X_train[[ind]] # X_train[[start_index,end_index]] ; this would let us take specific indices, so we can randomize the order, ensure each iteration is taking precisely unique samples\n",
      "/home/root/adversarial/Gal/models.py:657: FutureWarning: Using a non-tuple sequence for multidimensional indexing is deprecated; use `arr[tuple(seq)]` instead of `arr[seq]`. In the future this will be interpreted as an array index, `arr[np.array(seq)]`, which will result either in an error or a different result.\n",
      "  sample_Y_train = Y_train[[ind]]\n"
     ]
    },
    {
     "name": "stdout",
     "output_type": "stream",
     "text": [
      "Without Dropout, MLP with random perturbations\n"
     ]
    },
    {
     "name": "stderr",
     "output_type": "stream",
     "text": [
      "/usr/local/lib/python3.5/dist-packages/tensorflow_core/python/client/session.py:1750: UserWarning: An interactive session is already active. This can cause out-of-memory errors in some cases. You must explicitly call `InteractiveSession.close()` to release resources held by the other session(s).\n",
      "  warnings.warn('An interactive session is already active. This can '\n"
     ]
    },
    {
     "name": "stdout",
     "output_type": "stream",
     "text": [
      "New training set shape (X,Y):  ((12000, 784), (12000, 10))\n",
      "Epoch:0 | Train loss: 54.16 | Train acc: 0.752 | Test acc:0.754\n",
      "Epoch:1 | Train loss: 46.80 | Train acc: 0.833 | Test acc:0.825\n",
      "Epoch:2 | Train loss: 40.62 | Train acc: 0.787 | Test acc:0.780\n",
      "Epoch:3 | Train loss: 35.21 | Train acc: 0.889 | Test acc:0.877\n",
      "Epoch:4 | Train loss: 30.58 | Train acc: 0.896 | Test acc:0.887\n",
      "Epoch:5 | Train loss: 26.60 | Train acc: 0.916 | Test acc:0.894\n",
      "Epoch:6 | Train loss: 23.14 | Train acc: 0.944 | Test acc:0.926\n",
      "Epoch:7 | Train loss: 20.14 | Train acc: 0.959 | Test acc:0.929\n",
      "Epoch:8 | Train loss: 17.56 | Train acc: 0.967 | Test acc:0.936\n",
      "Epoch:9 | Train loss: 15.32 | Train acc: 0.972 | Test acc:0.940\n",
      "Epoch:10 | Train loss: 13.43 | Train acc: 0.933 | Test acc:0.906\n",
      "Epoch:11 | Train loss: 11.72 | Train acc: 0.965 | Test acc:0.934\n",
      "Epoch:12 | Train loss: 10.27 | Train acc: 0.973 | Test acc:0.943\n",
      "Epoch:13 | Train loss: 9.01 | Train acc: 0.978 | Test acc:0.946\n",
      "Without Dropout, MLP with random perturbations\n"
     ]
    },
    {
     "name": "stderr",
     "output_type": "stream",
     "text": [
      "/home/root/adversarial/Gal/models.py:656: FutureWarning: Using a non-tuple sequence for multidimensional indexing is deprecated; use `arr[tuple(seq)]` instead of `arr[seq]`. In the future this will be interpreted as an array index, `arr[np.array(seq)]`, which will result either in an error or a different result.\n",
      "  sample_X_train = X_train[[ind]] # X_train[[start_index,end_index]] ; this would let us take specific indices, so we can randomize the order, ensure each iteration is taking precisely unique samples\n",
      "/home/root/adversarial/Gal/models.py:657: FutureWarning: Using a non-tuple sequence for multidimensional indexing is deprecated; use `arr[tuple(seq)]` instead of `arr[seq]`. In the future this will be interpreted as an array index, `arr[np.array(seq)]`, which will result either in an error or a different result.\n",
      "  sample_Y_train = Y_train[[ind]]\n",
      "/usr/local/lib/python3.5/dist-packages/tensorflow_core/python/client/session.py:1750: UserWarning: An interactive session is already active. This can cause out-of-memory errors in some cases. You must explicitly call `InteractiveSession.close()` to release resources held by the other session(s).\n",
      "  warnings.warn('An interactive session is already active. This can '\n"
     ]
    },
    {
     "name": "stdout",
     "output_type": "stream",
     "text": [
      "New training set shape (X,Y):  ((12000, 784), (12000, 10))\n",
      "Epoch:0 | Train loss: 49.49 | Train acc: 0.734 | Test acc:0.737\n",
      "Epoch:1 | Train loss: 42.58 | Train acc: 0.753 | Test acc:0.745\n",
      "Epoch:2 | Train loss: 36.70 | Train acc: 0.875 | Test acc:0.869\n",
      "Epoch:3 | Train loss: 31.80 | Train acc: 0.777 | Test acc:0.772\n",
      "Epoch:4 | Train loss: 27.44 | Train acc: 0.921 | Test acc:0.907\n",
      "Epoch:5 | Train loss: 23.77 | Train acc: 0.936 | Test acc:0.919\n",
      "Epoch:6 | Train loss: 20.62 | Train acc: 0.942 | Test acc:0.921\n",
      "Epoch:7 | Train loss: 17.96 | Train acc: 0.832 | Test acc:0.824\n",
      "Epoch:8 | Train loss: 15.54 | Train acc: 0.960 | Test acc:0.938\n",
      "Epoch:9 | Train loss: 13.53 | Train acc: 0.960 | Test acc:0.934\n",
      "Epoch:10 | Train loss: 11.78 | Train acc: 0.980 | Test acc:0.952\n",
      "Epoch:11 | Train loss: 10.29 | Train acc: 0.970 | Test acc:0.941\n",
      "Epoch:12 | Train loss: 9.09 | Train acc: 0.807 | Test acc:0.787\n",
      "Epoch:13 | Train loss: 7.88 | Train acc: 0.982 | Test acc:0.952\n",
      "Without Dropout, MLP with random perturbations\n"
     ]
    },
    {
     "name": "stderr",
     "output_type": "stream",
     "text": [
      "/home/root/adversarial/Gal/models.py:656: FutureWarning: Using a non-tuple sequence for multidimensional indexing is deprecated; use `arr[tuple(seq)]` instead of `arr[seq]`. In the future this will be interpreted as an array index, `arr[np.array(seq)]`, which will result either in an error or a different result.\n",
      "  sample_X_train = X_train[[ind]] # X_train[[start_index,end_index]] ; this would let us take specific indices, so we can randomize the order, ensure each iteration is taking precisely unique samples\n",
      "/home/root/adversarial/Gal/models.py:657: FutureWarning: Using a non-tuple sequence for multidimensional indexing is deprecated; use `arr[tuple(seq)]` instead of `arr[seq]`. In the future this will be interpreted as an array index, `arr[np.array(seq)]`, which will result either in an error or a different result.\n",
      "  sample_Y_train = Y_train[[ind]]\n",
      "/usr/local/lib/python3.5/dist-packages/tensorflow_core/python/client/session.py:1750: UserWarning: An interactive session is already active. This can cause out-of-memory errors in some cases. You must explicitly call `InteractiveSession.close()` to release resources held by the other session(s).\n",
      "  warnings.warn('An interactive session is already active. This can '\n"
     ]
    },
    {
     "name": "stdout",
     "output_type": "stream",
     "text": [
      "New training set shape (X,Y):  ((12000, 784), (12000, 10))\n",
      "Epoch:0 | Train loss: 54.45 | Train acc: 0.742 | Test acc:0.734\n",
      "Epoch:1 | Train loss: 47.22 | Train acc: 0.512 | Test acc:0.512\n",
      "Epoch:2 | Train loss: 40.88 | Train acc: 0.878 | Test acc:0.874\n",
      "Epoch:3 | Train loss: 35.52 | Train acc: 0.896 | Test acc:0.886\n",
      "Epoch:4 | Train loss: 30.87 | Train acc: 0.939 | Test acc:0.924\n",
      "Epoch:5 | Train loss: 26.95 | Train acc: 0.881 | Test acc:0.865\n",
      "Epoch:6 | Train loss: 23.45 | Train acc: 0.952 | Test acc:0.932\n",
      "Epoch:7 | Train loss: 20.67 | Train acc: 0.590 | Test acc:0.589\n",
      "Epoch:8 | Train loss: 17.91 | Train acc: 0.956 | Test acc:0.932\n",
      "Epoch:9 | Train loss: 15.67 | Train acc: 0.968 | Test acc:0.941\n",
      "Epoch:10 | Train loss: 13.73 | Train acc: 0.975 | Test acc:0.947\n",
      "Epoch:11 | Train loss: 12.06 | Train acc: 0.977 | Test acc:0.946\n",
      "Epoch:12 | Train loss: 10.61 | Train acc: 0.969 | Test acc:0.939\n",
      "Epoch:13 | Train loss: 9.38 | Train acc: 0.945 | Test acc:0.919\n",
      "Without Dropout, MLP with random perturbations\n"
     ]
    },
    {
     "name": "stderr",
     "output_type": "stream",
     "text": [
      "/home/root/adversarial/Gal/models.py:656: FutureWarning: Using a non-tuple sequence for multidimensional indexing is deprecated; use `arr[tuple(seq)]` instead of `arr[seq]`. In the future this will be interpreted as an array index, `arr[np.array(seq)]`, which will result either in an error or a different result.\n",
      "  sample_X_train = X_train[[ind]] # X_train[[start_index,end_index]] ; this would let us take specific indices, so we can randomize the order, ensure each iteration is taking precisely unique samples\n",
      "/home/root/adversarial/Gal/models.py:657: FutureWarning: Using a non-tuple sequence for multidimensional indexing is deprecated; use `arr[tuple(seq)]` instead of `arr[seq]`. In the future this will be interpreted as an array index, `arr[np.array(seq)]`, which will result either in an error or a different result.\n",
      "  sample_Y_train = Y_train[[ind]]\n",
      "/usr/local/lib/python3.5/dist-packages/tensorflow_core/python/client/session.py:1750: UserWarning: An interactive session is already active. This can cause out-of-memory errors in some cases. You must explicitly call `InteractiveSession.close()` to release resources held by the other session(s).\n",
      "  warnings.warn('An interactive session is already active. This can '\n"
     ]
    },
    {
     "name": "stdout",
     "output_type": "stream",
     "text": [
      "New training set shape (X,Y):  ((12000, 784), (12000, 10))\n",
      "Epoch:0 | Train loss: 58.01 | Train acc: 0.754 | Test acc:0.749\n",
      "Epoch:1 | Train loss: 50.45 | Train acc: 0.776 | Test acc:0.777\n",
      "Epoch:2 | Train loss: 43.85 | Train acc: 0.927 | Test acc:0.912\n",
      "Epoch:3 | Train loss: 38.27 | Train acc: 0.915 | Test acc:0.901\n",
      "Epoch:4 | Train loss: 33.45 | Train acc: 0.873 | Test acc:0.863\n",
      "Epoch:5 | Train loss: 29.24 | Train acc: 0.834 | Test acc:0.815\n",
      "Epoch:6 | Train loss: 25.58 | Train acc: 0.847 | Test acc:0.832\n",
      "Epoch:7 | Train loss: 22.33 | Train acc: 0.971 | Test acc:0.946\n",
      "Epoch:8 | Train loss: 19.59 | Train acc: 0.946 | Test acc:0.918\n",
      "Epoch:9 | Train loss: 17.15 | Train acc: 0.970 | Test acc:0.943\n",
      "Epoch:10 | Train loss: 15.05 | Train acc: 0.968 | Test acc:0.941\n",
      "Epoch:11 | Train loss: 13.22 | Train acc: 0.977 | Test acc:0.943\n",
      "Epoch:12 | Train loss: 11.63 | Train acc: 0.981 | Test acc:0.949\n",
      "Epoch:13 | Train loss: 10.24 | Train acc: 0.985 | Test acc:0.954\n",
      "Without Dropout, MLP with random perturbations\n"
     ]
    },
    {
     "name": "stderr",
     "output_type": "stream",
     "text": [
      "/home/root/adversarial/Gal/models.py:656: FutureWarning: Using a non-tuple sequence for multidimensional indexing is deprecated; use `arr[tuple(seq)]` instead of `arr[seq]`. In the future this will be interpreted as an array index, `arr[np.array(seq)]`, which will result either in an error or a different result.\n",
      "  sample_X_train = X_train[[ind]] # X_train[[start_index,end_index]] ; this would let us take specific indices, so we can randomize the order, ensure each iteration is taking precisely unique samples\n",
      "/home/root/adversarial/Gal/models.py:657: FutureWarning: Using a non-tuple sequence for multidimensional indexing is deprecated; use `arr[tuple(seq)]` instead of `arr[seq]`. In the future this will be interpreted as an array index, `arr[np.array(seq)]`, which will result either in an error or a different result.\n",
      "  sample_Y_train = Y_train[[ind]]\n",
      "/usr/local/lib/python3.5/dist-packages/tensorflow_core/python/client/session.py:1750: UserWarning: An interactive session is already active. This can cause out-of-memory errors in some cases. You must explicitly call `InteractiveSession.close()` to release resources held by the other session(s).\n",
      "  warnings.warn('An interactive session is already active. This can '\n"
     ]
    },
    {
     "name": "stdout",
     "output_type": "stream",
     "text": [
      "New training set shape (X,Y):  ((12000, 784), (12000, 10))\n",
      "Epoch:0 | Train loss: 49.61 | Train acc: 0.679 | Test acc:0.671\n",
      "Epoch:1 | Train loss: 42.62 | Train acc: 0.836 | Test acc:0.828\n",
      "Epoch:2 | Train loss: 36.73 | Train acc: 0.895 | Test acc:0.886\n",
      "Epoch:3 | Train loss: 31.69 | Train acc: 0.918 | Test acc:0.904\n",
      "Epoch:4 | Train loss: 27.45 | Train acc: 0.814 | Test acc:0.801\n",
      "Epoch:5 | Train loss: 23.67 | Train acc: 0.940 | Test acc:0.918\n",
      "Epoch:6 | Train loss: 20.52 | Train acc: 0.901 | Test acc:0.880\n",
      "Epoch:7 | Train loss: 17.73 | Train acc: 0.963 | Test acc:0.934\n",
      "Epoch:8 | Train loss: 15.36 | Train acc: 0.963 | Test acc:0.933\n",
      "Epoch:9 | Train loss: 13.43 | Train acc: 0.814 | Test acc:0.784\n",
      "Epoch:10 | Train loss: 11.66 | Train acc: 0.808 | Test acc:0.787\n",
      "Epoch:11 | Train loss: 10.05 | Train acc: 0.975 | Test acc:0.941\n",
      "Epoch:12 | Train loss: 8.74 | Train acc: 0.983 | Test acc:0.950\n",
      "Epoch:13 | Train loss: 7.63 | Train acc: 0.983 | Test acc:0.947\n"
     ]
    },
    {
     "name": "stderr",
     "output_type": "stream",
     "text": [
      "/usr/local/lib/python3.5/dist-packages/ipykernel_launcher.py:13: FutureWarning: Using a non-tuple sequence for multidimensional indexing is deprecated; use `arr[tuple(seq)]` instead of `arr[seq]`. In the future this will be interpreted as an array index, `arr[np.array(seq)]`, which will result either in an error or a different result.\n",
      "  del sys.path[0]\n",
      "/usr/local/lib/python3.5/dist-packages/ipykernel_launcher.py:14: FutureWarning: Using a non-tuple sequence for multidimensional indexing is deprecated; use `arr[tuple(seq)]` instead of `arr[seq]`. In the future this will be interpreted as an array index, `arr[np.array(seq)]`, which will result either in an error or a different result.\n",
      "  \n",
      "/home/root/adversarial/Gal/models.py:656: FutureWarning: Using a non-tuple sequence for multidimensional indexing is deprecated; use `arr[tuple(seq)]` instead of `arr[seq]`. In the future this will be interpreted as an array index, `arr[np.array(seq)]`, which will result either in an error or a different result.\n",
      "  sample_X_train = X_train[[ind]] # X_train[[start_index,end_index]] ; this would let us take specific indices, so we can randomize the order, ensure each iteration is taking precisely unique samples\n",
      "/home/root/adversarial/Gal/models.py:657: FutureWarning: Using a non-tuple sequence for multidimensional indexing is deprecated; use `arr[tuple(seq)]` instead of `arr[seq]`. In the future this will be interpreted as an array index, `arr[np.array(seq)]`, which will result either in an error or a different result.\n",
      "  sample_Y_train = Y_train[[ind]]\n",
      "/usr/local/lib/python3.5/dist-packages/tensorflow_core/python/client/session.py:1750: UserWarning: An interactive session is already active. This can cause out-of-memory errors in some cases. You must explicitly call `InteractiveSession.close()` to release resources held by the other session(s).\n",
      "  warnings.warn('An interactive session is already active. This can '\n"
     ]
    },
    {
     "name": "stdout",
     "output_type": "stream",
     "text": [
      "Without Dropout, MLP with random perturbations\n",
      "New training set shape (X,Y):  ((6000, 784), (6000, 10))\n",
      "Epoch:0 | Train loss: 58.78 | Train acc: 0.658 | Test acc:0.633\n",
      "Epoch:1 | Train loss: 54.56 | Train acc: 0.808 | Test acc:0.804\n",
      "Epoch:2 | Train loss: 50.72 | Train acc: 0.845 | Test acc:0.838\n",
      "Epoch:3 | Train loss: 47.18 | Train acc: 0.915 | Test acc:0.892\n",
      "Epoch:4 | Train loss: 43.93 | Train acc: 0.916 | Test acc:0.889\n",
      "Epoch:5 | Train loss: 40.91 | Train acc: 0.930 | Test acc:0.899\n",
      "Epoch:6 | Train loss: 38.10 | Train acc: 0.941 | Test acc:0.910\n",
      "Epoch:7 | Train loss: 35.51 | Train acc: 0.947 | Test acc:0.915\n",
      "Epoch:8 | Train loss: 33.09 | Train acc: 0.964 | Test acc:0.926\n",
      "Epoch:9 | Train loss: 30.85 | Train acc: 0.971 | Test acc:0.930\n",
      "Epoch:10 | Train loss: 28.77 | Train acc: 0.969 | Test acc:0.928\n",
      "Epoch:11 | Train loss: 26.84 | Train acc: 0.969 | Test acc:0.928\n",
      "Epoch:12 | Train loss: 25.04 | Train acc: 0.975 | Test acc:0.932\n",
      "Epoch:13 | Train loss: 23.37 | Train acc: 0.975 | Test acc:0.934\n",
      "Without Dropout, MLP with random perturbations\n"
     ]
    },
    {
     "name": "stderr",
     "output_type": "stream",
     "text": [
      "/home/root/adversarial/Gal/models.py:656: FutureWarning: Using a non-tuple sequence for multidimensional indexing is deprecated; use `arr[tuple(seq)]` instead of `arr[seq]`. In the future this will be interpreted as an array index, `arr[np.array(seq)]`, which will result either in an error or a different result.\n",
      "  sample_X_train = X_train[[ind]] # X_train[[start_index,end_index]] ; this would let us take specific indices, so we can randomize the order, ensure each iteration is taking precisely unique samples\n",
      "/home/root/adversarial/Gal/models.py:657: FutureWarning: Using a non-tuple sequence for multidimensional indexing is deprecated; use `arr[tuple(seq)]` instead of `arr[seq]`. In the future this will be interpreted as an array index, `arr[np.array(seq)]`, which will result either in an error or a different result.\n",
      "  sample_Y_train = Y_train[[ind]]\n",
      "/usr/local/lib/python3.5/dist-packages/tensorflow_core/python/client/session.py:1750: UserWarning: An interactive session is already active. This can cause out-of-memory errors in some cases. You must explicitly call `InteractiveSession.close()` to release resources held by the other session(s).\n",
      "  warnings.warn('An interactive session is already active. This can '\n"
     ]
    },
    {
     "name": "stdout",
     "output_type": "stream",
     "text": [
      "New training set shape (X,Y):  ((6000, 784), (6000, 10))\n",
      "Epoch:0 | Train loss: 55.13 | Train acc: 0.570 | Test acc:0.573\n",
      "Epoch:1 | Train loss: 51.09 | Train acc: 0.872 | Test acc:0.866\n",
      "Epoch:2 | Train loss: 47.56 | Train acc: 0.863 | Test acc:0.849\n",
      "Epoch:3 | Train loss: 44.40 | Train acc: 0.800 | Test acc:0.779\n",
      "Epoch:4 | Train loss: 41.26 | Train acc: 0.908 | Test acc:0.888\n",
      "Epoch:5 | Train loss: 38.47 | Train acc: 0.918 | Test acc:0.900\n",
      "Epoch:6 | Train loss: 35.89 | Train acc: 0.935 | Test acc:0.906\n",
      "Epoch:7 | Train loss: 33.50 | Train acc: 0.946 | Test acc:0.912\n",
      "Epoch:8 | Train loss: 31.28 | Train acc: 0.956 | Test acc:0.922\n",
      "Epoch:9 | Train loss: 29.25 | Train acc: 0.942 | Test acc:0.904\n",
      "Epoch:10 | Train loss: 27.33 | Train acc: 0.957 | Test acc:0.918\n",
      "Epoch:11 | Train loss: 25.55 | Train acc: 0.966 | Test acc:0.923\n",
      "Epoch:12 | Train loss: 23.90 | Train acc: 0.966 | Test acc:0.922\n",
      "Epoch:13 | Train loss: 22.37 | Train acc: 0.965 | Test acc:0.919\n",
      "Without Dropout, MLP with random perturbations\n"
     ]
    },
    {
     "name": "stderr",
     "output_type": "stream",
     "text": [
      "/home/root/adversarial/Gal/models.py:656: FutureWarning: Using a non-tuple sequence for multidimensional indexing is deprecated; use `arr[tuple(seq)]` instead of `arr[seq]`. In the future this will be interpreted as an array index, `arr[np.array(seq)]`, which will result either in an error or a different result.\n",
      "  sample_X_train = X_train[[ind]] # X_train[[start_index,end_index]] ; this would let us take specific indices, so we can randomize the order, ensure each iteration is taking precisely unique samples\n",
      "/home/root/adversarial/Gal/models.py:657: FutureWarning: Using a non-tuple sequence for multidimensional indexing is deprecated; use `arr[tuple(seq)]` instead of `arr[seq]`. In the future this will be interpreted as an array index, `arr[np.array(seq)]`, which will result either in an error or a different result.\n",
      "  sample_Y_train = Y_train[[ind]]\n",
      "/usr/local/lib/python3.5/dist-packages/tensorflow_core/python/client/session.py:1750: UserWarning: An interactive session is already active. This can cause out-of-memory errors in some cases. You must explicitly call `InteractiveSession.close()` to release resources held by the other session(s).\n",
      "  warnings.warn('An interactive session is already active. This can '\n"
     ]
    },
    {
     "name": "stdout",
     "output_type": "stream",
     "text": [
      "New training set shape (X,Y):  ((6000, 784), (6000, 10))\n",
      "Epoch:0 | Train loss: 56.47 | Train acc: 0.560 | Test acc:0.566\n",
      "Epoch:1 | Train loss: 52.29 | Train acc: 0.796 | Test acc:0.782\n",
      "Epoch:2 | Train loss: 48.61 | Train acc: 0.822 | Test acc:0.807\n",
      "Epoch:3 | Train loss: 45.15 | Train acc: 0.906 | Test acc:0.889\n",
      "Epoch:4 | Train loss: 42.00 | Train acc: 0.917 | Test acc:0.892\n",
      "Epoch:5 | Train loss: 39.33 | Train acc: 0.447 | Test acc:0.449\n",
      "Epoch:6 | Train loss: 36.47 | Train acc: 0.841 | Test acc:0.835\n",
      "Epoch:7 | Train loss: 33.95 | Train acc: 0.916 | Test acc:0.897\n",
      "Epoch:8 | Train loss: 31.63 | Train acc: 0.950 | Test acc:0.915\n",
      "Epoch:9 | Train loss: 29.49 | Train acc: 0.958 | Test acc:0.924\n",
      "Epoch:10 | Train loss: 27.51 | Train acc: 0.963 | Test acc:0.931\n",
      "Epoch:11 | Train loss: 25.68 | Train acc: 0.961 | Test acc:0.927\n",
      "Epoch:12 | Train loss: 23.99 | Train acc: 0.949 | Test acc:0.911\n",
      "Epoch:13 | Train loss: 22.40 | Train acc: 0.970 | Test acc:0.929\n",
      "Without Dropout, MLP with random perturbations\n"
     ]
    },
    {
     "name": "stderr",
     "output_type": "stream",
     "text": [
      "/home/root/adversarial/Gal/models.py:656: FutureWarning: Using a non-tuple sequence for multidimensional indexing is deprecated; use `arr[tuple(seq)]` instead of `arr[seq]`. In the future this will be interpreted as an array index, `arr[np.array(seq)]`, which will result either in an error or a different result.\n",
      "  sample_X_train = X_train[[ind]] # X_train[[start_index,end_index]] ; this would let us take specific indices, so we can randomize the order, ensure each iteration is taking precisely unique samples\n",
      "/home/root/adversarial/Gal/models.py:657: FutureWarning: Using a non-tuple sequence for multidimensional indexing is deprecated; use `arr[tuple(seq)]` instead of `arr[seq]`. In the future this will be interpreted as an array index, `arr[np.array(seq)]`, which will result either in an error or a different result.\n",
      "  sample_Y_train = Y_train[[ind]]\n",
      "/usr/local/lib/python3.5/dist-packages/tensorflow_core/python/client/session.py:1750: UserWarning: An interactive session is already active. This can cause out-of-memory errors in some cases. You must explicitly call `InteractiveSession.close()` to release resources held by the other session(s).\n",
      "  warnings.warn('An interactive session is already active. This can '\n"
     ]
    },
    {
     "name": "stdout",
     "output_type": "stream",
     "text": [
      "New training set shape (X,Y):  ((6000, 784), (6000, 10))\n",
      "Epoch:0 | Train loss: 65.03 | Train acc: 0.691 | Test acc:0.696\n",
      "Epoch:1 | Train loss: 60.62 | Train acc: 0.705 | Test acc:0.705\n",
      "Epoch:2 | Train loss: 56.52 | Train acc: 0.823 | Test acc:0.818\n",
      "Epoch:3 | Train loss: 52.77 | Train acc: 0.862 | Test acc:0.846\n",
      "Epoch:4 | Train loss: 49.28 | Train acc: 0.885 | Test acc:0.867\n",
      "Epoch:5 | Train loss: 46.09 | Train acc: 0.794 | Test acc:0.773\n",
      "Epoch:6 | Train loss: 43.03 | Train acc: 0.936 | Test acc:0.906\n",
      "Epoch:7 | Train loss: 40.21 | Train acc: 0.964 | Test acc:0.927\n",
      "Epoch:8 | Train loss: 37.63 | Train acc: 0.948 | Test acc:0.910\n",
      "Epoch:9 | Train loss: 35.27 | Train acc: 0.872 | Test acc:0.831\n",
      "Epoch:10 | Train loss: 33.05 | Train acc: 0.730 | Test acc:0.698\n",
      "Epoch:11 | Train loss: 30.85 | Train acc: 0.917 | Test acc:0.892\n",
      "Epoch:12 | Train loss: 28.85 | Train acc: 0.975 | Test acc:0.931\n",
      "Epoch:13 | Train loss: 27.01 | Train acc: 0.980 | Test acc:0.935\n",
      "Without Dropout, MLP with random perturbations\n"
     ]
    },
    {
     "name": "stderr",
     "output_type": "stream",
     "text": [
      "/home/root/adversarial/Gal/models.py:656: FutureWarning: Using a non-tuple sequence for multidimensional indexing is deprecated; use `arr[tuple(seq)]` instead of `arr[seq]`. In the future this will be interpreted as an array index, `arr[np.array(seq)]`, which will result either in an error or a different result.\n",
      "  sample_X_train = X_train[[ind]] # X_train[[start_index,end_index]] ; this would let us take specific indices, so we can randomize the order, ensure each iteration is taking precisely unique samples\n",
      "/home/root/adversarial/Gal/models.py:657: FutureWarning: Using a non-tuple sequence for multidimensional indexing is deprecated; use `arr[tuple(seq)]` instead of `arr[seq]`. In the future this will be interpreted as an array index, `arr[np.array(seq)]`, which will result either in an error or a different result.\n",
      "  sample_Y_train = Y_train[[ind]]\n",
      "/usr/local/lib/python3.5/dist-packages/tensorflow_core/python/client/session.py:1750: UserWarning: An interactive session is already active. This can cause out-of-memory errors in some cases. You must explicitly call `InteractiveSession.close()` to release resources held by the other session(s).\n",
      "  warnings.warn('An interactive session is already active. This can '\n"
     ]
    },
    {
     "name": "stdout",
     "output_type": "stream",
     "text": [
      "New training set shape (X,Y):  ((6000, 784), (6000, 10))\n",
      "Epoch:0 | Train loss: 55.45 | Train acc: 0.734 | Test acc:0.741\n",
      "Epoch:1 | Train loss: 51.41 | Train acc: 0.823 | Test acc:0.823\n",
      "Epoch:2 | Train loss: 47.68 | Train acc: 0.907 | Test acc:0.897\n",
      "Epoch:3 | Train loss: 44.32 | Train acc: 0.872 | Test acc:0.863\n",
      "Epoch:4 | Train loss: 41.18 | Train acc: 0.914 | Test acc:0.892\n",
      "Epoch:5 | Train loss: 38.40 | Train acc: 0.756 | Test acc:0.750\n",
      "Epoch:6 | Train loss: 35.63 | Train acc: 0.934 | Test acc:0.911\n",
      "Epoch:7 | Train loss: 33.18 | Train acc: 0.927 | Test acc:0.898\n",
      "Epoch:8 | Train loss: 30.87 | Train acc: 0.961 | Test acc:0.932\n",
      "Epoch:9 | Train loss: 28.76 | Train acc: 0.957 | Test acc:0.920\n",
      "Epoch:10 | Train loss: 26.80 | Train acc: 0.961 | Test acc:0.926\n",
      "Epoch:11 | Train loss: 24.99 | Train acc: 0.948 | Test acc:0.913\n",
      "Epoch:12 | Train loss: 23.31 | Train acc: 0.949 | Test acc:0.909\n",
      "Epoch:13 | Train loss: 21.72 | Train acc: 0.974 | Test acc:0.929\n",
      "Without Dropout, MLP with random perturbations\n"
     ]
    },
    {
     "name": "stderr",
     "output_type": "stream",
     "text": [
      "/home/root/adversarial/Gal/models.py:656: FutureWarning: Using a non-tuple sequence for multidimensional indexing is deprecated; use `arr[tuple(seq)]` instead of `arr[seq]`. In the future this will be interpreted as an array index, `arr[np.array(seq)]`, which will result either in an error or a different result.\n",
      "  sample_X_train = X_train[[ind]] # X_train[[start_index,end_index]] ; this would let us take specific indices, so we can randomize the order, ensure each iteration is taking precisely unique samples\n",
      "/home/root/adversarial/Gal/models.py:657: FutureWarning: Using a non-tuple sequence for multidimensional indexing is deprecated; use `arr[tuple(seq)]` instead of `arr[seq]`. In the future this will be interpreted as an array index, `arr[np.array(seq)]`, which will result either in an error or a different result.\n",
      "  sample_Y_train = Y_train[[ind]]\n",
      "/usr/local/lib/python3.5/dist-packages/tensorflow_core/python/client/session.py:1750: UserWarning: An interactive session is already active. This can cause out-of-memory errors in some cases. You must explicitly call `InteractiveSession.close()` to release resources held by the other session(s).\n",
      "  warnings.warn('An interactive session is already active. This can '\n"
     ]
    },
    {
     "name": "stdout",
     "output_type": "stream",
     "text": [
      "New training set shape (X,Y):  ((6000, 784), (6000, 10))\n",
      "Epoch:0 | Train loss: 61.29 | Train acc: 0.699 | Test acc:0.708\n",
      "Epoch:1 | Train loss: 57.12 | Train acc: 0.794 | Test acc:0.794\n",
      "Epoch:2 | Train loss: 53.33 | Train acc: 0.888 | Test acc:0.883\n",
      "Epoch:3 | Train loss: 49.85 | Train acc: 0.905 | Test acc:0.892\n",
      "Epoch:4 | Train loss: 46.65 | Train acc: 0.882 | Test acc:0.864\n",
      "Epoch:5 | Train loss: 43.61 | Train acc: 0.921 | Test acc:0.901\n",
      "Epoch:6 | Train loss: 40.85 | Train acc: 0.920 | Test acc:0.901\n",
      "Epoch:7 | Train loss: 38.25 | Train acc: 0.927 | Test acc:0.901\n",
      "Epoch:8 | Train loss: 35.84 | Train acc: 0.914 | Test acc:0.885\n",
      "Epoch:9 | Train loss: 33.57 | Train acc: 0.944 | Test acc:0.912\n",
      "Epoch:10 | Train loss: 31.47 | Train acc: 0.960 | Test acc:0.929\n",
      "Epoch:11 | Train loss: 29.50 | Train acc: 0.973 | Test acc:0.934\n",
      "Epoch:12 | Train loss: 27.67 | Train acc: 0.972 | Test acc:0.933\n",
      "Epoch:13 | Train loss: 26.15 | Train acc: 0.666 | Test acc:0.656\n",
      "Without Dropout, MLP with random perturbations\n"
     ]
    },
    {
     "name": "stderr",
     "output_type": "stream",
     "text": [
      "/home/root/adversarial/Gal/models.py:656: FutureWarning: Using a non-tuple sequence for multidimensional indexing is deprecated; use `arr[tuple(seq)]` instead of `arr[seq]`. In the future this will be interpreted as an array index, `arr[np.array(seq)]`, which will result either in an error or a different result.\n",
      "  sample_X_train = X_train[[ind]] # X_train[[start_index,end_index]] ; this would let us take specific indices, so we can randomize the order, ensure each iteration is taking precisely unique samples\n",
      "/home/root/adversarial/Gal/models.py:657: FutureWarning: Using a non-tuple sequence for multidimensional indexing is deprecated; use `arr[tuple(seq)]` instead of `arr[seq]`. In the future this will be interpreted as an array index, `arr[np.array(seq)]`, which will result either in an error or a different result.\n",
      "  sample_Y_train = Y_train[[ind]]\n",
      "/usr/local/lib/python3.5/dist-packages/tensorflow_core/python/client/session.py:1750: UserWarning: An interactive session is already active. This can cause out-of-memory errors in some cases. You must explicitly call `InteractiveSession.close()` to release resources held by the other session(s).\n",
      "  warnings.warn('An interactive session is already active. This can '\n"
     ]
    },
    {
     "name": "stdout",
     "output_type": "stream",
     "text": [
      "New training set shape (X,Y):  ((6000, 784), (6000, 10))\n",
      "Epoch:0 | Train loss: 54.65 | Train acc: 0.597 | Test acc:0.590\n",
      "Epoch:1 | Train loss: 50.75 | Train acc: 0.746 | Test acc:0.743\n",
      "Epoch:2 | Train loss: 47.19 | Train acc: 0.821 | Test acc:0.809\n",
      "Epoch:3 | Train loss: 43.90 | Train acc: 0.829 | Test acc:0.808\n",
      "Epoch:4 | Train loss: 40.96 | Train acc: 0.809 | Test acc:0.796\n",
      "Epoch:5 | Train loss: 38.18 | Train acc: 0.824 | Test acc:0.804\n",
      "Epoch:6 | Train loss: 35.57 | Train acc: 0.933 | Test acc:0.907\n",
      "Epoch:7 | Train loss: 33.19 | Train acc: 0.849 | Test acc:0.817\n",
      "Epoch:8 | Train loss: 30.97 | Train acc: 0.935 | Test acc:0.907\n",
      "Epoch:9 | Train loss: 28.91 | Train acc: 0.942 | Test acc:0.910\n",
      "Epoch:10 | Train loss: 27.00 | Train acc: 0.950 | Test acc:0.907\n",
      "Epoch:11 | Train loss: 25.20 | Train acc: 0.973 | Test acc:0.926\n",
      "Epoch:12 | Train loss: 23.55 | Train acc: 0.974 | Test acc:0.928\n",
      "Epoch:13 | Train loss: 22.02 | Train acc: 0.956 | Test acc:0.920\n",
      "Without Dropout, MLP with random perturbations\n"
     ]
    },
    {
     "name": "stderr",
     "output_type": "stream",
     "text": [
      "/home/root/adversarial/Gal/models.py:656: FutureWarning: Using a non-tuple sequence for multidimensional indexing is deprecated; use `arr[tuple(seq)]` instead of `arr[seq]`. In the future this will be interpreted as an array index, `arr[np.array(seq)]`, which will result either in an error or a different result.\n",
      "  sample_X_train = X_train[[ind]] # X_train[[start_index,end_index]] ; this would let us take specific indices, so we can randomize the order, ensure each iteration is taking precisely unique samples\n",
      "/home/root/adversarial/Gal/models.py:657: FutureWarning: Using a non-tuple sequence for multidimensional indexing is deprecated; use `arr[tuple(seq)]` instead of `arr[seq]`. In the future this will be interpreted as an array index, `arr[np.array(seq)]`, which will result either in an error or a different result.\n",
      "  sample_Y_train = Y_train[[ind]]\n",
      "/usr/local/lib/python3.5/dist-packages/tensorflow_core/python/client/session.py:1750: UserWarning: An interactive session is already active. This can cause out-of-memory errors in some cases. You must explicitly call `InteractiveSession.close()` to release resources held by the other session(s).\n",
      "  warnings.warn('An interactive session is already active. This can '\n"
     ]
    },
    {
     "name": "stdout",
     "output_type": "stream",
     "text": [
      "New training set shape (X,Y):  ((6000, 784), (6000, 10))\n",
      "Epoch:0 | Train loss: 52.15 | Train acc: 0.456 | Test acc:0.460\n",
      "Epoch:1 | Train loss: 48.25 | Train acc: 0.831 | Test acc:0.837\n",
      "Epoch:2 | Train loss: 44.81 | Train acc: 0.797 | Test acc:0.793\n",
      "Epoch:3 | Train loss: 41.69 | Train acc: 0.779 | Test acc:0.768\n",
      "Epoch:4 | Train loss: 38.76 | Train acc: 0.838 | Test acc:0.822\n",
      "Epoch:5 | Train loss: 36.02 | Train acc: 0.923 | Test acc:0.907\n",
      "Epoch:6 | Train loss: 33.54 | Train acc: 0.931 | Test acc:0.911\n",
      "Epoch:7 | Train loss: 31.24 | Train acc: 0.934 | Test acc:0.911\n",
      "Epoch:8 | Train loss: 29.13 | Train acc: 0.914 | Test acc:0.892\n",
      "Epoch:9 | Train loss: 27.14 | Train acc: 0.946 | Test acc:0.914\n",
      "Epoch:10 | Train loss: 25.31 | Train acc: 0.950 | Test acc:0.918\n",
      "Epoch:11 | Train loss: 23.67 | Train acc: 0.867 | Test acc:0.843\n",
      "Epoch:12 | Train loss: 22.08 | Train acc: 0.904 | Test acc:0.873\n",
      "Epoch:13 | Train loss: 20.57 | Train acc: 0.960 | Test acc:0.929\n",
      "Without Dropout, MLP with random perturbations\n"
     ]
    },
    {
     "name": "stderr",
     "output_type": "stream",
     "text": [
      "/home/root/adversarial/Gal/models.py:656: FutureWarning: Using a non-tuple sequence for multidimensional indexing is deprecated; use `arr[tuple(seq)]` instead of `arr[seq]`. In the future this will be interpreted as an array index, `arr[np.array(seq)]`, which will result either in an error or a different result.\n",
      "  sample_X_train = X_train[[ind]] # X_train[[start_index,end_index]] ; this would let us take specific indices, so we can randomize the order, ensure each iteration is taking precisely unique samples\n",
      "/home/root/adversarial/Gal/models.py:657: FutureWarning: Using a non-tuple sequence for multidimensional indexing is deprecated; use `arr[tuple(seq)]` instead of `arr[seq]`. In the future this will be interpreted as an array index, `arr[np.array(seq)]`, which will result either in an error or a different result.\n",
      "  sample_Y_train = Y_train[[ind]]\n",
      "/usr/local/lib/python3.5/dist-packages/tensorflow_core/python/client/session.py:1750: UserWarning: An interactive session is already active. This can cause out-of-memory errors in some cases. You must explicitly call `InteractiveSession.close()` to release resources held by the other session(s).\n",
      "  warnings.warn('An interactive session is already active. This can '\n"
     ]
    },
    {
     "name": "stdout",
     "output_type": "stream",
     "text": [
      "New training set shape (X,Y):  ((6000, 784), (6000, 10))\n",
      "Epoch:0 | Train loss: 53.56 | Train acc: 0.428 | Test acc:0.443\n",
      "Epoch:1 | Train loss: 49.53 | Train acc: 0.771 | Test acc:0.773\n",
      "Epoch:2 | Train loss: 45.90 | Train acc: 0.858 | Test acc:0.856\n",
      "Epoch:3 | Train loss: 42.57 | Train acc: 0.921 | Test acc:0.904\n",
      "Epoch:4 | Train loss: 39.54 | Train acc: 0.895 | Test acc:0.882\n",
      "Epoch:5 | Train loss: 36.74 | Train acc: 0.889 | Test acc:0.874\n",
      "Epoch:6 | Train loss: 34.15 | Train acc: 0.876 | Test acc:0.859\n",
      "Epoch:7 | Train loss: 31.69 | Train acc: 0.956 | Test acc:0.922\n",
      "Epoch:8 | Train loss: 29.45 | Train acc: 0.959 | Test acc:0.922\n",
      "Epoch:9 | Train loss: 27.38 | Train acc: 0.966 | Test acc:0.928\n",
      "Epoch:10 | Train loss: 25.46 | Train acc: 0.974 | Test acc:0.934\n",
      "Epoch:11 | Train loss: 23.67 | Train acc: 0.970 | Test acc:0.927\n",
      "Epoch:12 | Train loss: 22.02 | Train acc: 0.973 | Test acc:0.932\n",
      "Epoch:13 | Train loss: 20.48 | Train acc: 0.976 | Test acc:0.931\n",
      "Without Dropout, MLP with random perturbations\n"
     ]
    },
    {
     "name": "stderr",
     "output_type": "stream",
     "text": [
      "/home/root/adversarial/Gal/models.py:656: FutureWarning: Using a non-tuple sequence for multidimensional indexing is deprecated; use `arr[tuple(seq)]` instead of `arr[seq]`. In the future this will be interpreted as an array index, `arr[np.array(seq)]`, which will result either in an error or a different result.\n",
      "  sample_X_train = X_train[[ind]] # X_train[[start_index,end_index]] ; this would let us take specific indices, so we can randomize the order, ensure each iteration is taking precisely unique samples\n",
      "/home/root/adversarial/Gal/models.py:657: FutureWarning: Using a non-tuple sequence for multidimensional indexing is deprecated; use `arr[tuple(seq)]` instead of `arr[seq]`. In the future this will be interpreted as an array index, `arr[np.array(seq)]`, which will result either in an error or a different result.\n",
      "  sample_Y_train = Y_train[[ind]]\n",
      "/usr/local/lib/python3.5/dist-packages/tensorflow_core/python/client/session.py:1750: UserWarning: An interactive session is already active. This can cause out-of-memory errors in some cases. You must explicitly call `InteractiveSession.close()` to release resources held by the other session(s).\n",
      "  warnings.warn('An interactive session is already active. This can '\n"
     ]
    },
    {
     "name": "stdout",
     "output_type": "stream",
     "text": [
      "New training set shape (X,Y):  ((6000, 784), (6000, 10))\n",
      "Epoch:0 | Train loss: 57.93 | Train acc: 0.511 | Test acc:0.511\n",
      "Epoch:1 | Train loss: 53.80 | Train acc: 0.721 | Test acc:0.715\n",
      "Epoch:2 | Train loss: 49.98 | Train acc: 0.883 | Test acc:0.870\n",
      "Epoch:3 | Train loss: 46.53 | Train acc: 0.913 | Test acc:0.898\n",
      "Epoch:4 | Train loss: 43.42 | Train acc: 0.784 | Test acc:0.776\n",
      "Epoch:5 | Train loss: 40.40 | Train acc: 0.937 | Test acc:0.910\n",
      "Epoch:6 | Train loss: 37.68 | Train acc: 0.944 | Test acc:0.916\n",
      "Epoch:7 | Train loss: 35.14 | Train acc: 0.949 | Test acc:0.917\n",
      "Epoch:8 | Train loss: 32.79 | Train acc: 0.951 | Test acc:0.918\n",
      "Epoch:9 | Train loss: 30.61 | Train acc: 0.949 | Test acc:0.920\n",
      "Epoch:10 | Train loss: 28.58 | Train acc: 0.927 | Test acc:0.893\n",
      "Epoch:11 | Train loss: 26.67 | Train acc: 0.970 | Test acc:0.930\n",
      "Epoch:12 | Train loss: 24.92 | Train acc: 0.947 | Test acc:0.912\n",
      "Epoch:13 | Train loss: 23.31 | Train acc: 0.894 | Test acc:0.859\n"
     ]
    }
   ],
   "source": [
    "entropy_val_MLPr_1, acc_MLPr_1, confi_MLPr_1 = ensembling_expt(1, MNIST_X_train, MNIST_Y_train, MNIST_X_val, MNIST_Y_val, MNIST_X_test, MNIST_Y_test, models.MLP_randomperturbation)\n",
    "entropy_val_MLPr_5, acc_MLPr_5, confi_MLPr_5 = ensembling_expt(5, MNIST_X_train, MNIST_Y_train, MNIST_X_val, MNIST_Y_val, MNIST_X_test, MNIST_Y_test, models.MLP_randomperturbation)\n",
    "entropy_val_MLPr_10, acc_MLPr_10, confi_MLPr_10 = ensembling_expt(10, MNIST_X_train, MNIST_Y_train, MNIST_X_val, MNIST_Y_val, MNIST_X_test, MNIST_Y_test, models.MLP_randomperturbation)\n"
   ]
  },
  {
   "cell_type": "code",
   "execution_count": null,
   "metadata": {
    "scrolled": true
   },
   "outputs": [
    {
     "name": "stderr",
     "output_type": "stream",
     "text": [
      "/usr/local/lib/python3.5/dist-packages/ipykernel_launcher.py:13: FutureWarning: Using a non-tuple sequence for multidimensional indexing is deprecated; use `arr[tuple(seq)]` instead of `arr[seq]`. In the future this will be interpreted as an array index, `arr[np.array(seq)]`, which will result either in an error or a different result.\n",
      "  del sys.path[0]\n",
      "/usr/local/lib/python3.5/dist-packages/ipykernel_launcher.py:14: FutureWarning: Using a non-tuple sequence for multidimensional indexing is deprecated; use `arr[tuple(seq)]` instead of `arr[seq]`. In the future this will be interpreted as an array index, `arr[np.array(seq)]`, which will result either in an error or a different result.\n",
      "  \n",
      "/usr/local/lib/python3.5/dist-packages/tensorflow_core/python/client/session.py:1750: UserWarning: An interactive session is already active. This can cause out-of-memory errors in some cases. You must explicitly call `InteractiveSession.close()` to release resources held by the other session(s).\n",
      "  warnings.warn('An interactive session is already active. This can '\n"
     ]
    },
    {
     "name": "stdout",
     "output_type": "stream",
     "text": [
      "Without Dropout & Batch Normalization\n",
      "Epoch:0 | Train loss: 33.96 | Train acc: 0.973 | Test acc:0.967\n",
      "Epoch:1 | Train loss: 19.60 | Train acc: 0.982 | Test acc:0.974\n",
      "Epoch:2 | Train loss: 11.53 | Train acc: 0.988 | Test acc:0.979\n",
      "Epoch:3 | Train loss: 6.95 | Train acc: 0.990 | Test acc:0.976\n",
      "Epoch:4 | Train loss: 4.37 | Train acc: 0.993 | Test acc:0.979\n",
      "Epoch:5 | Train loss: 2.95 | Train acc: 0.994 | Test acc:0.979\n",
      "Epoch:6 | Train loss: 2.20 | Train acc: 0.995 | Test acc:0.980\n",
      "Epoch:7 | Train loss: 1.81 | Train acc: 0.996 | Test acc:0.981\n",
      "Epoch:8 | Train loss: 1.62 | Train acc: 0.997 | Test acc:0.982\n",
      "Epoch:9 | Train loss: 1.53 | Train acc: 0.997 | Test acc:0.982\n",
      "Epoch:10 | Train loss: 1.49 | Train acc: 0.997 | Test acc:0.980\n",
      "Epoch:11 | Train loss: 1.47 | Train acc: 0.998 | Test acc:0.982\n",
      "Epoch:12 | Train loss: 1.47 | Train acc: 0.997 | Test acc:0.980\n",
      "Epoch:13 | Train loss: 1.47 | Train acc: 0.997 | Test acc:0.980\n",
      "Without Dropout & Batch Normalization & Adversarial Training\n"
     ]
    },
    {
     "name": "stderr",
     "output_type": "stream",
     "text": [
      "/home/root/adversarial/Gal/models.py:421: FutureWarning: Using a non-tuple sequence for multidimensional indexing is deprecated; use `arr[tuple(seq)]` instead of `arr[seq]`. In the future this will be interpreted as an array index, `arr[np.array(seq)]`, which will result either in an error or a different result.\n",
      "  sample_X_train = X_train[[ind]] # X_train[[start_index,end_index]] ; this would let us take specific indices, so we can randomize the order, ensure each iteration is taking precisely unique samples\n",
      "/home/root/adversarial/Gal/models.py:422: FutureWarning: Using a non-tuple sequence for multidimensional indexing is deprecated; use `arr[tuple(seq)]` instead of `arr[seq]`. In the future this will be interpreted as an array index, `arr[np.array(seq)]`, which will result either in an error or a different result.\n",
      "  sample_Y_train = Y_train[[ind]]\n",
      "/usr/local/lib/python3.5/dist-packages/tensorflow_core/python/client/session.py:1750: UserWarning: An interactive session is already active. This can cause out-of-memory errors in some cases. You must explicitly call `InteractiveSession.close()` to release resources held by the other session(s).\n",
      "  warnings.warn('An interactive session is already active. This can '\n",
      "/home/root/adversarial/Gal/models.py:569: FutureWarning: Using a non-tuple sequence for multidimensional indexing is deprecated; use `arr[tuple(seq)]` instead of `arr[seq]`. In the future this will be interpreted as an array index, `arr[np.array(seq)]`, which will result either in an error or a different result.\n",
      "  sample_X_train = X_train[[ind]] # X_train[[start_index,end_index]] ; this would let us take specific indices, so we can randomize the order, ensure each iteration is taking precisely unique samples\n",
      "/home/root/adversarial/Gal/models.py:570: FutureWarning: Using a non-tuple sequence for multidimensional indexing is deprecated; use `arr[tuple(seq)]` instead of `arr[seq]`. In the future this will be interpreted as an array index, `arr[np.array(seq)]`, which will result either in an error or a different result.\n",
      "  sample_Y_train = Y_train[[ind]]\n"
     ]
    },
    {
     "name": "stdout",
     "output_type": "stream",
     "text": [
      "Epoch:0 | Train loss: 34.19 | Train acc: 0.830 | Test acc:0.968\n",
      "Epoch:1 | Train loss: 17.68 | Train acc: 0.837 | Test acc:0.974\n",
      "Epoch:2 | Train loss: 9.31 | Train acc: 0.843 | Test acc:0.979\n",
      "Epoch:3 | Train loss: 5.12 | Train acc: 0.845 | Test acc:0.981\n",
      "Epoch:4 | Train loss: 3.09 | Train acc: 0.843 | Test acc:0.980\n",
      "Epoch:5 | Train loss: 2.15 | Train acc: 0.846 | Test acc:0.981\n",
      "Epoch:6 | Train loss: 1.73 | Train acc: 0.846 | Test acc:0.981\n",
      "Epoch:7 | Train loss: 1.56 | Train acc: 0.846 | Test acc:0.981\n",
      "Epoch:8 | Train loss: 1.50 | Train acc: 0.845 | Test acc:0.978\n",
      "Epoch:9 | Train loss: 1.47 | Train acc: 0.849 | Test acc:0.982\n",
      "Epoch:10 | Train loss: 1.47 | Train acc: 0.848 | Test acc:0.983\n",
      "Epoch:11 | Train loss: 1.46 | Train acc: 0.848 | Test acc:0.981\n",
      "Epoch:12 | Train loss: 1.46 | Train acc: 0.847 | Test acc:0.981\n",
      "Epoch:13 | Train loss: 1.46 | Train acc: 0.848 | Test acc:0.981\n"
     ]
    },
    {
     "name": "stderr",
     "output_type": "stream",
     "text": [
      "/usr/local/lib/python3.5/dist-packages/ipykernel_launcher.py:13: FutureWarning: Using a non-tuple sequence for multidimensional indexing is deprecated; use `arr[tuple(seq)]` instead of `arr[seq]`. In the future this will be interpreted as an array index, `arr[np.array(seq)]`, which will result either in an error or a different result.\n",
      "  del sys.path[0]\n",
      "/usr/local/lib/python3.5/dist-packages/ipykernel_launcher.py:14: FutureWarning: Using a non-tuple sequence for multidimensional indexing is deprecated; use `arr[tuple(seq)]` instead of `arr[seq]`. In the future this will be interpreted as an array index, `arr[np.array(seq)]`, which will result either in an error or a different result.\n",
      "  \n",
      "/usr/local/lib/python3.5/dist-packages/tensorflow_core/python/client/session.py:1750: UserWarning: An interactive session is already active. This can cause out-of-memory errors in some cases. You must explicitly call `InteractiveSession.close()` to release resources held by the other session(s).\n",
      "  warnings.warn('An interactive session is already active. This can '\n"
     ]
    },
    {
     "name": "stdout",
     "output_type": "stream",
     "text": [
      "Without Dropout & Batch Normalization\n",
      "Epoch:0 | Train loss: 58.02 | Train acc: 0.944 | Test acc:0.935\n",
      "Epoch:1 | Train loss: 51.50 | Train acc: 0.973 | Test acc:0.951\n",
      "Epoch:2 | Train loss: 45.81 | Train acc: 0.987 | Test acc:0.958\n",
      "Epoch:3 | Train loss: 40.79 | Train acc: 0.993 | Test acc:0.960\n",
      "Epoch:4 | Train loss: 36.36 | Train acc: 0.994 | Test acc:0.963\n",
      "Epoch:5 | Train loss: 32.45 | Train acc: 0.996 | Test acc:0.966\n",
      "Epoch:6 | Train loss: 28.97 | Train acc: 0.996 | Test acc:0.963\n",
      "Epoch:7 | Train loss: 25.89 | Train acc: 0.998 | Test acc:0.966\n",
      "Epoch:8 | Train loss: 23.15 | Train acc: 0.998 | Test acc:0.964\n",
      "Epoch:9 | Train loss: 20.72 | Train acc: 0.998 | Test acc:0.967\n",
      "Epoch:10 | Train loss: 18.56 | Train acc: 0.998 | Test acc:0.966\n",
      "Epoch:11 | Train loss: 16.64 | Train acc: 0.998 | Test acc:0.965\n",
      "Epoch:12 | Train loss: 14.92 | Train acc: 0.998 | Test acc:0.966\n",
      "Epoch:13 | Train loss: 13.40 | Train acc: 0.999 | Test acc:0.966\n",
      "Without Dropout & Batch Normalization & Adversarial Training\n"
     ]
    },
    {
     "name": "stderr",
     "output_type": "stream",
     "text": [
      "/home/root/adversarial/Gal/models.py:421: FutureWarning: Using a non-tuple sequence for multidimensional indexing is deprecated; use `arr[tuple(seq)]` instead of `arr[seq]`. In the future this will be interpreted as an array index, `arr[np.array(seq)]`, which will result either in an error or a different result.\n",
      "  sample_X_train = X_train[[ind]] # X_train[[start_index,end_index]] ; this would let us take specific indices, so we can randomize the order, ensure each iteration is taking precisely unique samples\n",
      "/home/root/adversarial/Gal/models.py:422: FutureWarning: Using a non-tuple sequence for multidimensional indexing is deprecated; use `arr[tuple(seq)]` instead of `arr[seq]`. In the future this will be interpreted as an array index, `arr[np.array(seq)]`, which will result either in an error or a different result.\n",
      "  sample_Y_train = Y_train[[ind]]\n",
      "/usr/local/lib/python3.5/dist-packages/tensorflow_core/python/client/session.py:1750: UserWarning: An interactive session is already active. This can cause out-of-memory errors in some cases. You must explicitly call `InteractiveSession.close()` to release resources held by the other session(s).\n",
      "  warnings.warn('An interactive session is already active. This can '\n",
      "/home/root/adversarial/Gal/models.py:569: FutureWarning: Using a non-tuple sequence for multidimensional indexing is deprecated; use `arr[tuple(seq)]` instead of `arr[seq]`. In the future this will be interpreted as an array index, `arr[np.array(seq)]`, which will result either in an error or a different result.\n",
      "  sample_X_train = X_train[[ind]] # X_train[[start_index,end_index]] ; this would let us take specific indices, so we can randomize the order, ensure each iteration is taking precisely unique samples\n",
      "/home/root/adversarial/Gal/models.py:570: FutureWarning: Using a non-tuple sequence for multidimensional indexing is deprecated; use `arr[tuple(seq)]` instead of `arr[seq]`. In the future this will be interpreted as an array index, `arr[np.array(seq)]`, which will result either in an error or a different result.\n",
      "  sample_Y_train = Y_train[[ind]]\n"
     ]
    },
    {
     "name": "stdout",
     "output_type": "stream",
     "text": [
      "Epoch:0 | Train loss: 52.96 | Train acc: 0.809 | Test acc:0.940\n",
      "Epoch:1 | Train loss: 45.79 | Train acc: 0.831 | Test acc:0.953\n",
      "Epoch:2 | Train loss: 39.66 | Train acc: 0.841 | Test acc:0.960\n",
      "Epoch:3 | Train loss: 34.40 | Train acc: 0.844 | Test acc:0.961\n",
      "Epoch:4 | Train loss: 29.86 | Train acc: 0.846 | Test acc:0.963\n",
      "Epoch:5 | Train loss: 25.93 | Train acc: 0.847 | Test acc:0.965\n",
      "Epoch:6 | Train loss: 22.53 | Train acc: 0.845 | Test acc:0.964\n",
      "Epoch:7 | Train loss: 19.58 | Train acc: 0.848 | Test acc:0.969\n",
      "Epoch:8 | Train loss: 17.03 | Train acc: 0.848 | Test acc:0.967\n",
      "Epoch:9 | Train loss: 14.82 | Train acc: 0.850 | Test acc:0.968\n",
      "Epoch:10 | Train loss: 12.91 | Train acc: 0.847 | Test acc:0.969\n",
      "Epoch:11 | Train loss: 11.26 | Train acc: 0.847 | Test acc:0.964\n",
      "Epoch:12 | Train loss: 9.83 | Train acc: 0.846 | Test acc:0.970\n",
      "Epoch:13 | Train loss: 8.60 | Train acc: 0.848 | Test acc:0.969\n",
      "Without Dropout & Batch Normalization\n"
     ]
    },
    {
     "name": "stderr",
     "output_type": "stream",
     "text": [
      "/usr/local/lib/python3.5/dist-packages/tensorflow_core/python/client/session.py:1750: UserWarning: An interactive session is already active. This can cause out-of-memory errors in some cases. You must explicitly call `InteractiveSession.close()` to release resources held by the other session(s).\n",
      "  warnings.warn('An interactive session is already active. This can '\n"
     ]
    },
    {
     "name": "stdout",
     "output_type": "stream",
     "text": [
      "Epoch:0 | Train loss: 60.82 | Train acc: 0.943 | Test acc:0.933\n",
      "Epoch:1 | Train loss: 54.27 | Train acc: 0.972 | Test acc:0.949\n",
      "Epoch:2 | Train loss: 48.52 | Train acc: 0.982 | Test acc:0.958\n",
      "Epoch:3 | Train loss: 43.43 | Train acc: 0.989 | Test acc:0.960\n",
      "Epoch:4 | Train loss: 38.92 | Train acc: 0.993 | Test acc:0.961\n",
      "Epoch:5 | Train loss: 34.92 | Train acc: 0.993 | Test acc:0.961\n",
      "Epoch:6 | Train loss: 31.35 | Train acc: 0.996 | Test acc:0.966\n",
      "Epoch:7 | Train loss: 28.16 | Train acc: 0.997 | Test acc:0.966\n",
      "Epoch:8 | Train loss: 25.32 | Train acc: 0.998 | Test acc:0.965\n",
      "Epoch:9 | Train loss: 22.78 | Train acc: 0.998 | Test acc:0.965\n",
      "Epoch:10 | Train loss: 20.51 | Train acc: 0.998 | Test acc:0.964\n",
      "Epoch:11 | Train loss: 18.48 | Train acc: 0.999 | Test acc:0.967\n",
      "Epoch:12 | Train loss: 16.66 | Train acc: 0.999 | Test acc:0.966\n",
      "Epoch:13 | Train loss: 15.04 | Train acc: 0.999 | Test acc:0.965\n",
      "Without Dropout & Batch Normalization & Adversarial Training\n"
     ]
    },
    {
     "name": "stderr",
     "output_type": "stream",
     "text": [
      "/home/root/adversarial/Gal/models.py:421: FutureWarning: Using a non-tuple sequence for multidimensional indexing is deprecated; use `arr[tuple(seq)]` instead of `arr[seq]`. In the future this will be interpreted as an array index, `arr[np.array(seq)]`, which will result either in an error or a different result.\n",
      "  sample_X_train = X_train[[ind]] # X_train[[start_index,end_index]] ; this would let us take specific indices, so we can randomize the order, ensure each iteration is taking precisely unique samples\n",
      "/home/root/adversarial/Gal/models.py:422: FutureWarning: Using a non-tuple sequence for multidimensional indexing is deprecated; use `arr[tuple(seq)]` instead of `arr[seq]`. In the future this will be interpreted as an array index, `arr[np.array(seq)]`, which will result either in an error or a different result.\n",
      "  sample_Y_train = Y_train[[ind]]\n",
      "/usr/local/lib/python3.5/dist-packages/tensorflow_core/python/client/session.py:1750: UserWarning: An interactive session is already active. This can cause out-of-memory errors in some cases. You must explicitly call `InteractiveSession.close()` to release resources held by the other session(s).\n",
      "  warnings.warn('An interactive session is already active. This can '\n",
      "/home/root/adversarial/Gal/models.py:569: FutureWarning: Using a non-tuple sequence for multidimensional indexing is deprecated; use `arr[tuple(seq)]` instead of `arr[seq]`. In the future this will be interpreted as an array index, `arr[np.array(seq)]`, which will result either in an error or a different result.\n",
      "  sample_X_train = X_train[[ind]] # X_train[[start_index,end_index]] ; this would let us take specific indices, so we can randomize the order, ensure each iteration is taking precisely unique samples\n",
      "/home/root/adversarial/Gal/models.py:570: FutureWarning: Using a non-tuple sequence for multidimensional indexing is deprecated; use `arr[tuple(seq)]` instead of `arr[seq]`. In the future this will be interpreted as an array index, `arr[np.array(seq)]`, which will result either in an error or a different result.\n",
      "  sample_Y_train = Y_train[[ind]]\n"
     ]
    },
    {
     "name": "stdout",
     "output_type": "stream",
     "text": [
      "Epoch:0 | Train loss: 59.10 | Train acc: 0.811 | Test acc:0.940\n",
      "Epoch:1 | Train loss: 51.38 | Train acc: 0.832 | Test acc:0.953\n",
      "Epoch:2 | Train loss: 44.75 | Train acc: 0.840 | Test acc:0.954\n",
      "Epoch:3 | Train loss: 39.02 | Train acc: 0.843 | Test acc:0.957\n",
      "Epoch:4 | Train loss: 34.05 | Train acc: 0.846 | Test acc:0.963\n",
      "Epoch:5 | Train loss: 29.74 | Train acc: 0.846 | Test acc:0.963\n",
      "Epoch:6 | Train loss: 26.00 | Train acc: 0.848 | Test acc:0.964\n",
      "Epoch:7 | Train loss: 22.73 | Train acc: 0.849 | Test acc:0.966\n",
      "Epoch:8 | Train loss: 19.90 | Train acc: 0.849 | Test acc:0.966\n",
      "Epoch:9 | Train loss: 17.42 | Train acc: 0.849 | Test acc:0.967\n",
      "Epoch:10 | Train loss: 15.27 | Train acc: 0.848 | Test acc:0.965\n",
      "Epoch:11 | Train loss: 13.40 | Train acc: 0.850 | Test acc:0.965\n",
      "Epoch:12 | Train loss: 11.77 | Train acc: 0.848 | Test acc:0.966\n",
      "Epoch:13 | Train loss: 10.35 | Train acc: 0.847 | Test acc:0.964\n",
      "Without Dropout & Batch Normalization\n"
     ]
    },
    {
     "name": "stderr",
     "output_type": "stream",
     "text": [
      "/usr/local/lib/python3.5/dist-packages/tensorflow_core/python/client/session.py:1750: UserWarning: An interactive session is already active. This can cause out-of-memory errors in some cases. You must explicitly call `InteractiveSession.close()` to release resources held by the other session(s).\n",
      "  warnings.warn('An interactive session is already active. This can '\n"
     ]
    },
    {
     "name": "stdout",
     "output_type": "stream",
     "text": [
      "Epoch:0 | Train loss: 49.86 | Train acc: 0.952 | Test acc:0.935\n",
      "Epoch:1 | Train loss: 44.00 | Train acc: 0.972 | Test acc:0.949\n",
      "Epoch:2 | Train loss: 38.92 | Train acc: 0.985 | Test acc:0.955\n",
      "Epoch:3 | Train loss: 34.48 | Train acc: 0.988 | Test acc:0.960\n",
      "Epoch:4 | Train loss: 30.60 | Train acc: 0.993 | Test acc:0.962\n",
      "Epoch:5 | Train loss: 27.19 | Train acc: 0.994 | Test acc:0.963\n",
      "Epoch:6 | Train loss: 24.19 | Train acc: 0.996 | Test acc:0.965\n",
      "Epoch:7 | Train loss: 21.55 | Train acc: 0.995 | Test acc:0.962\n",
      "Epoch:8 | Train loss: 19.22 | Train acc: 0.997 | Test acc:0.965\n",
      "Epoch:9 | Train loss: 17.16 | Train acc: 0.997 | Test acc:0.963\n",
      "Epoch:10 | Train loss: 15.35 | Train acc: 0.997 | Test acc:0.964\n",
      "Epoch:11 | Train loss: 13.74 | Train acc: 0.997 | Test acc:0.961\n",
      "Epoch:12 | Train loss: 12.33 | Train acc: 0.997 | Test acc:0.967\n",
      "Epoch:13 | Train loss: 11.07 | Train acc: 0.998 | Test acc:0.965\n",
      "Without Dropout & Batch Normalization & Adversarial Training\n"
     ]
    },
    {
     "name": "stderr",
     "output_type": "stream",
     "text": [
      "/home/root/adversarial/Gal/models.py:421: FutureWarning: Using a non-tuple sequence for multidimensional indexing is deprecated; use `arr[tuple(seq)]` instead of `arr[seq]`. In the future this will be interpreted as an array index, `arr[np.array(seq)]`, which will result either in an error or a different result.\n",
      "  sample_X_train = X_train[[ind]] # X_train[[start_index,end_index]] ; this would let us take specific indices, so we can randomize the order, ensure each iteration is taking precisely unique samples\n",
      "/home/root/adversarial/Gal/models.py:422: FutureWarning: Using a non-tuple sequence for multidimensional indexing is deprecated; use `arr[tuple(seq)]` instead of `arr[seq]`. In the future this will be interpreted as an array index, `arr[np.array(seq)]`, which will result either in an error or a different result.\n",
      "  sample_Y_train = Y_train[[ind]]\n",
      "/usr/local/lib/python3.5/dist-packages/tensorflow_core/python/client/session.py:1750: UserWarning: An interactive session is already active. This can cause out-of-memory errors in some cases. You must explicitly call `InteractiveSession.close()` to release resources held by the other session(s).\n",
      "  warnings.warn('An interactive session is already active. This can '\n",
      "/home/root/adversarial/Gal/models.py:569: FutureWarning: Using a non-tuple sequence for multidimensional indexing is deprecated; use `arr[tuple(seq)]` instead of `arr[seq]`. In the future this will be interpreted as an array index, `arr[np.array(seq)]`, which will result either in an error or a different result.\n",
      "  sample_X_train = X_train[[ind]] # X_train[[start_index,end_index]] ; this would let us take specific indices, so we can randomize the order, ensure each iteration is taking precisely unique samples\n",
      "/home/root/adversarial/Gal/models.py:570: FutureWarning: Using a non-tuple sequence for multidimensional indexing is deprecated; use `arr[tuple(seq)]` instead of `arr[seq]`. In the future this will be interpreted as an array index, `arr[np.array(seq)]`, which will result either in an error or a different result.\n",
      "  sample_Y_train = Y_train[[ind]]\n"
     ]
    },
    {
     "name": "stdout",
     "output_type": "stream",
     "text": [
      "Epoch:0 | Train loss: 57.81 | Train acc: 0.816 | Test acc:0.940\n",
      "Epoch:1 | Train loss: 50.51 | Train acc: 0.831 | Test acc:0.954\n",
      "Epoch:2 | Train loss: 44.24 | Train acc: 0.839 | Test acc:0.959\n",
      "Epoch:3 | Train loss: 38.81 | Train acc: 0.844 | Test acc:0.961\n",
      "Epoch:4 | Train loss: 34.09 | Train acc: 0.844 | Test acc:0.962\n",
      "Epoch:5 | Train loss: 29.99 | Train acc: 0.846 | Test acc:0.967\n",
      "Epoch:6 | Train loss: 26.41 | Train acc: 0.847 | Test acc:0.968\n",
      "Epoch:7 | Train loss: 23.28 | Train acc: 0.848 | Test acc:0.968\n",
      "Epoch:8 | Train loss: 20.55 | Train acc: 0.849 | Test acc:0.968\n",
      "Epoch:9 | Train loss: 18.16 | Train acc: 0.849 | Test acc:0.967\n",
      "Epoch:10 | Train loss: 16.06 | Train acc: 0.845 | Test acc:0.967\n",
      "Epoch:11 | Train loss: 14.22 | Train acc: 0.846 | Test acc:0.965\n",
      "Epoch:12 | Train loss: 12.61 | Train acc: 0.850 | Test acc:0.966\n",
      "Epoch:13 | Train loss: 11.19 | Train acc: 0.848 | Test acc:0.966\n",
      "Without Dropout & Batch Normalization\n"
     ]
    },
    {
     "name": "stderr",
     "output_type": "stream",
     "text": [
      "/usr/local/lib/python3.5/dist-packages/tensorflow_core/python/client/session.py:1750: UserWarning: An interactive session is already active. This can cause out-of-memory errors in some cases. You must explicitly call `InteractiveSession.close()` to release resources held by the other session(s).\n",
      "  warnings.warn('An interactive session is already active. This can '\n"
     ]
    },
    {
     "name": "stdout",
     "output_type": "stream",
     "text": [
      "Epoch:0 | Train loss: 50.71 | Train acc: 0.947 | Test acc:0.932\n",
      "Epoch:1 | Train loss: 44.67 | Train acc: 0.974 | Test acc:0.947\n",
      "Epoch:2 | Train loss: 39.43 | Train acc: 0.985 | Test acc:0.952\n",
      "Epoch:3 | Train loss: 34.86 | Train acc: 0.991 | Test acc:0.954\n",
      "Epoch:4 | Train loss: 30.86 | Train acc: 0.994 | Test acc:0.958\n",
      "Epoch:5 | Train loss: 27.36 | Train acc: 0.994 | Test acc:0.959\n",
      "Epoch:6 | Train loss: 24.27 | Train acc: 0.997 | Test acc:0.961\n",
      "Epoch:7 | Train loss: 21.56 | Train acc: 0.998 | Test acc:0.963\n",
      "Epoch:8 | Train loss: 19.18 | Train acc: 0.998 | Test acc:0.964\n",
      "Epoch:9 | Train loss: 17.08 | Train acc: 0.998 | Test acc:0.963\n",
      "Epoch:10 | Train loss: 15.23 | Train acc: 0.997 | Test acc:0.964\n",
      "Epoch:11 | Train loss: 13.60 | Train acc: 0.998 | Test acc:0.963\n",
      "Epoch:12 | Train loss: 12.16 | Train acc: 0.998 | Test acc:0.964\n",
      "Epoch:13 | Train loss: 10.89 | Train acc: 0.998 | Test acc:0.962\n",
      "Without Dropout & Batch Normalization & Adversarial Training\n"
     ]
    },
    {
     "name": "stderr",
     "output_type": "stream",
     "text": [
      "/home/root/adversarial/Gal/models.py:421: FutureWarning: Using a non-tuple sequence for multidimensional indexing is deprecated; use `arr[tuple(seq)]` instead of `arr[seq]`. In the future this will be interpreted as an array index, `arr[np.array(seq)]`, which will result either in an error or a different result.\n",
      "  sample_X_train = X_train[[ind]] # X_train[[start_index,end_index]] ; this would let us take specific indices, so we can randomize the order, ensure each iteration is taking precisely unique samples\n",
      "/home/root/adversarial/Gal/models.py:422: FutureWarning: Using a non-tuple sequence for multidimensional indexing is deprecated; use `arr[tuple(seq)]` instead of `arr[seq]`. In the future this will be interpreted as an array index, `arr[np.array(seq)]`, which will result either in an error or a different result.\n",
      "  sample_Y_train = Y_train[[ind]]\n",
      "/usr/local/lib/python3.5/dist-packages/tensorflow_core/python/client/session.py:1750: UserWarning: An interactive session is already active. This can cause out-of-memory errors in some cases. You must explicitly call `InteractiveSession.close()` to release resources held by the other session(s).\n",
      "  warnings.warn('An interactive session is already active. This can '\n",
      "/home/root/adversarial/Gal/models.py:569: FutureWarning: Using a non-tuple sequence for multidimensional indexing is deprecated; use `arr[tuple(seq)]` instead of `arr[seq]`. In the future this will be interpreted as an array index, `arr[np.array(seq)]`, which will result either in an error or a different result.\n",
      "  sample_X_train = X_train[[ind]] # X_train[[start_index,end_index]] ; this would let us take specific indices, so we can randomize the order, ensure each iteration is taking precisely unique samples\n",
      "/home/root/adversarial/Gal/models.py:570: FutureWarning: Using a non-tuple sequence for multidimensional indexing is deprecated; use `arr[tuple(seq)]` instead of `arr[seq]`. In the future this will be interpreted as an array index, `arr[np.array(seq)]`, which will result either in an error or a different result.\n",
      "  sample_Y_train = Y_train[[ind]]\n"
     ]
    },
    {
     "name": "stdout",
     "output_type": "stream",
     "text": [
      "Epoch:0 | Train loss: 49.76 | Train acc: 0.816 | Test acc:0.933\n",
      "Epoch:1 | Train loss: 42.84 | Train acc: 0.833 | Test acc:0.952\n",
      "Epoch:2 | Train loss: 36.97 | Train acc: 0.841 | Test acc:0.955\n",
      "Epoch:3 | Train loss: 31.96 | Train acc: 0.845 | Test acc:0.958\n",
      "Epoch:4 | Train loss: 27.67 | Train acc: 0.846 | Test acc:0.961\n",
      "Epoch:5 | Train loss: 23.97 | Train acc: 0.847 | Test acc:0.963\n",
      "Epoch:6 | Train loss: 20.80 | Train acc: 0.849 | Test acc:0.962\n",
      "Epoch:7 | Train loss: 18.07 | Train acc: 0.848 | Test acc:0.961\n",
      "Epoch:8 | Train loss: 15.71 | Train acc: 0.851 | Test acc:0.965\n",
      "Epoch:9 | Train loss: 13.68 | Train acc: 0.848 | Test acc:0.966\n",
      "Epoch:10 | Train loss: 11.93 | Train acc: 0.848 | Test acc:0.966\n",
      "Epoch:11 | Train loss: 10.42 | Train acc: 0.849 | Test acc:0.964\n",
      "Epoch:12 | Train loss: 9.12 | Train acc: 0.848 | Test acc:0.964\n",
      "Epoch:13 | Train loss: 8.00 | Train acc: 0.849 | Test acc:0.966\n",
      "Without Dropout & Batch Normalization\n"
     ]
    },
    {
     "name": "stderr",
     "output_type": "stream",
     "text": [
      "/usr/local/lib/python3.5/dist-packages/tensorflow_core/python/client/session.py:1750: UserWarning: An interactive session is already active. This can cause out-of-memory errors in some cases. You must explicitly call `InteractiveSession.close()` to release resources held by the other session(s).\n",
      "  warnings.warn('An interactive session is already active. This can '\n"
     ]
    },
    {
     "name": "stdout",
     "output_type": "stream",
     "text": [
      "Epoch:0 | Train loss: 56.35 | Train acc: 0.944 | Test acc:0.936\n",
      "Epoch:1 | Train loss: 50.05 | Train acc: 0.972 | Test acc:0.949\n",
      "Epoch:2 | Train loss: 44.56 | Train acc: 0.982 | Test acc:0.956\n",
      "Epoch:3 | Train loss: 39.74 | Train acc: 0.990 | Test acc:0.958\n",
      "Epoch:4 | Train loss: 35.49 | Train acc: 0.993 | Test acc:0.959\n",
      "Epoch:5 | Train loss: 31.73 | Train acc: 0.996 | Test acc:0.960\n",
      "Epoch:6 | Train loss: 28.40 | Train acc: 0.996 | Test acc:0.962\n",
      "Epoch:7 | Train loss: 25.44 | Train acc: 0.997 | Test acc:0.962\n",
      "Epoch:8 | Train loss: 22.81 | Train acc: 0.996 | Test acc:0.961\n",
      "Epoch:9 | Train loss: 20.47 | Train acc: 0.997 | Test acc:0.963\n",
      "Epoch:10 | Train loss: 18.39 | Train acc: 0.997 | Test acc:0.964\n",
      "Epoch:11 | Train loss: 16.53 | Train acc: 0.998 | Test acc:0.965\n",
      "Epoch:12 | Train loss: 14.87 | Train acc: 0.998 | Test acc:0.963\n",
      "Epoch:13 | Train loss: 13.39 | Train acc: 0.998 | Test acc:0.962\n",
      "Without Dropout & Batch Normalization & Adversarial Training\n"
     ]
    },
    {
     "name": "stderr",
     "output_type": "stream",
     "text": [
      "/home/root/adversarial/Gal/models.py:421: FutureWarning: Using a non-tuple sequence for multidimensional indexing is deprecated; use `arr[tuple(seq)]` instead of `arr[seq]`. In the future this will be interpreted as an array index, `arr[np.array(seq)]`, which will result either in an error or a different result.\n",
      "  sample_X_train = X_train[[ind]] # X_train[[start_index,end_index]] ; this would let us take specific indices, so we can randomize the order, ensure each iteration is taking precisely unique samples\n",
      "/home/root/adversarial/Gal/models.py:422: FutureWarning: Using a non-tuple sequence for multidimensional indexing is deprecated; use `arr[tuple(seq)]` instead of `arr[seq]`. In the future this will be interpreted as an array index, `arr[np.array(seq)]`, which will result either in an error or a different result.\n",
      "  sample_Y_train = Y_train[[ind]]\n",
      "/usr/local/lib/python3.5/dist-packages/tensorflow_core/python/client/session.py:1750: UserWarning: An interactive session is already active. This can cause out-of-memory errors in some cases. You must explicitly call `InteractiveSession.close()` to release resources held by the other session(s).\n",
      "  warnings.warn('An interactive session is already active. This can '\n",
      "/home/root/adversarial/Gal/models.py:569: FutureWarning: Using a non-tuple sequence for multidimensional indexing is deprecated; use `arr[tuple(seq)]` instead of `arr[seq]`. In the future this will be interpreted as an array index, `arr[np.array(seq)]`, which will result either in an error or a different result.\n",
      "  sample_X_train = X_train[[ind]] # X_train[[start_index,end_index]] ; this would let us take specific indices, so we can randomize the order, ensure each iteration is taking precisely unique samples\n",
      "/home/root/adversarial/Gal/models.py:570: FutureWarning: Using a non-tuple sequence for multidimensional indexing is deprecated; use `arr[tuple(seq)]` instead of `arr[seq]`. In the future this will be interpreted as an array index, `arr[np.array(seq)]`, which will result either in an error or a different result.\n",
      "  sample_Y_train = Y_train[[ind]]\n"
     ]
    },
    {
     "name": "stdout",
     "output_type": "stream",
     "text": [
      "Epoch:0 | Train loss: 60.23 | Train acc: 0.803 | Test acc:0.939\n",
      "Epoch:1 | Train loss: 52.44 | Train acc: 0.827 | Test acc:0.950\n",
      "Epoch:2 | Train loss: 45.74 | Train acc: 0.840 | Test acc:0.958\n",
      "Epoch:3 | Train loss: 39.95 | Train acc: 0.842 | Test acc:0.960\n",
      "Epoch:4 | Train loss: 34.93 | Train acc: 0.844 | Test acc:0.960\n",
      "Epoch:5 | Train loss: 30.57 | Train acc: 0.845 | Test acc:0.961\n",
      "Epoch:6 | Train loss: 26.78 | Train acc: 0.850 | Test acc:0.963\n",
      "Epoch:7 | Train loss: 23.47 | Train acc: 0.848 | Test acc:0.964\n",
      "Epoch:8 | Train loss: 20.59 | Train acc: 0.846 | Test acc:0.962\n",
      "Epoch:9 | Train loss: 18.08 | Train acc: 0.848 | Test acc:0.964\n",
      "Epoch:10 | Train loss: 15.89 | Train acc: 0.847 | Test acc:0.965\n",
      "Epoch:11 | Train loss: 13.98 | Train acc: 0.846 | Test acc:0.965\n",
      "Epoch:12 | Train loss: 12.32 | Train acc: 0.848 | Test acc:0.964\n",
      "Epoch:13 | Train loss: 10.87 | Train acc: 0.848 | Test acc:0.966\n"
     ]
    },
    {
     "name": "stderr",
     "output_type": "stream",
     "text": [
      "/usr/local/lib/python3.5/dist-packages/ipykernel_launcher.py:13: FutureWarning: Using a non-tuple sequence for multidimensional indexing is deprecated; use `arr[tuple(seq)]` instead of `arr[seq]`. In the future this will be interpreted as an array index, `arr[np.array(seq)]`, which will result either in an error or a different result.\n",
      "  del sys.path[0]\n",
      "/usr/local/lib/python3.5/dist-packages/ipykernel_launcher.py:14: FutureWarning: Using a non-tuple sequence for multidimensional indexing is deprecated; use `arr[tuple(seq)]` instead of `arr[seq]`. In the future this will be interpreted as an array index, `arr[np.array(seq)]`, which will result either in an error or a different result.\n",
      "  \n"
     ]
    },
    {
     "name": "stdout",
     "output_type": "stream",
     "text": [
      "Without Dropout & Batch Normalization\n"
     ]
    },
    {
     "name": "stderr",
     "output_type": "stream",
     "text": [
      "/usr/local/lib/python3.5/dist-packages/tensorflow_core/python/client/session.py:1750: UserWarning: An interactive session is already active. This can cause out-of-memory errors in some cases. You must explicitly call `InteractiveSession.close()` to release resources held by the other session(s).\n",
      "  warnings.warn('An interactive session is already active. This can '\n"
     ]
    },
    {
     "name": "stdout",
     "output_type": "stream",
     "text": [
      "Epoch:0 | Train loss: 56.25 | Train acc: 0.921 | Test acc:0.914\n",
      "Epoch:1 | Train loss: 52.77 | Train acc: 0.963 | Test acc:0.932\n",
      "Epoch:2 | Train loss: 49.57 | Train acc: 0.980 | Test acc:0.944\n",
      "Epoch:3 | Train loss: 46.60 | Train acc: 0.988 | Test acc:0.945\n",
      "Epoch:4 | Train loss: 43.82 | Train acc: 0.992 | Test acc:0.950\n",
      "Epoch:5 | Train loss: 41.23 | Train acc: 0.995 | Test acc:0.952\n",
      "Epoch:6 | Train loss: 38.80 | Train acc: 0.996 | Test acc:0.951\n",
      "Epoch:7 | Train loss: 36.53 | Train acc: 0.997 | Test acc:0.954\n",
      "Epoch:8 | Train loss: 34.40 | Train acc: 0.995 | Test acc:0.951\n",
      "Epoch:9 | Train loss: 32.40 | Train acc: 0.997 | Test acc:0.953\n",
      "Epoch:10 | Train loss: 30.52 | Train acc: 0.998 | Test acc:0.955\n",
      "Epoch:11 | Train loss: 28.75 | Train acc: 0.998 | Test acc:0.953\n",
      "Epoch:12 | Train loss: 27.09 | Train acc: 0.998 | Test acc:0.953\n",
      "Epoch:13 | Train loss: 25.54 | Train acc: 0.997 | Test acc:0.950\n",
      "Without Dropout & Batch Normalization & Adversarial Training\n"
     ]
    },
    {
     "name": "stderr",
     "output_type": "stream",
     "text": [
      "/home/root/adversarial/Gal/models.py:421: FutureWarning: Using a non-tuple sequence for multidimensional indexing is deprecated; use `arr[tuple(seq)]` instead of `arr[seq]`. In the future this will be interpreted as an array index, `arr[np.array(seq)]`, which will result either in an error or a different result.\n",
      "  sample_X_train = X_train[[ind]] # X_train[[start_index,end_index]] ; this would let us take specific indices, so we can randomize the order, ensure each iteration is taking precisely unique samples\n",
      "/home/root/adversarial/Gal/models.py:422: FutureWarning: Using a non-tuple sequence for multidimensional indexing is deprecated; use `arr[tuple(seq)]` instead of `arr[seq]`. In the future this will be interpreted as an array index, `arr[np.array(seq)]`, which will result either in an error or a different result.\n",
      "  sample_Y_train = Y_train[[ind]]\n",
      "/usr/local/lib/python3.5/dist-packages/tensorflow_core/python/client/session.py:1750: UserWarning: An interactive session is already active. This can cause out-of-memory errors in some cases. You must explicitly call `InteractiveSession.close()` to release resources held by the other session(s).\n",
      "  warnings.warn('An interactive session is already active. This can '\n",
      "/home/root/adversarial/Gal/models.py:569: FutureWarning: Using a non-tuple sequence for multidimensional indexing is deprecated; use `arr[tuple(seq)]` instead of `arr[seq]`. In the future this will be interpreted as an array index, `arr[np.array(seq)]`, which will result either in an error or a different result.\n",
      "  sample_X_train = X_train[[ind]] # X_train[[start_index,end_index]] ; this would let us take specific indices, so we can randomize the order, ensure each iteration is taking precisely unique samples\n",
      "/home/root/adversarial/Gal/models.py:570: FutureWarning: Using a non-tuple sequence for multidimensional indexing is deprecated; use `arr[tuple(seq)]` instead of `arr[seq]`. In the future this will be interpreted as an array index, `arr[np.array(seq)]`, which will result either in an error or a different result.\n",
      "  sample_Y_train = Y_train[[ind]]\n"
     ]
    },
    {
     "name": "stdout",
     "output_type": "stream",
     "text": [
      "Epoch:0 | Train loss: 53.69 | Train acc: 0.794 | Test acc:0.914\n",
      "Epoch:1 | Train loss: 49.71 | Train acc: 0.823 | Test acc:0.940\n",
      "Epoch:2 | Train loss: 46.10 | Train acc: 0.839 | Test acc:0.942\n",
      "Epoch:3 | Train loss: 42.78 | Train acc: 0.845 | Test acc:0.950\n",
      "Epoch:4 | Train loss: 39.73 | Train acc: 0.846 | Test acc:0.947\n",
      "Epoch:5 | Train loss: 36.90 | Train acc: 0.847 | Test acc:0.953\n",
      "Epoch:6 | Train loss: 34.29 | Train acc: 0.848 | Test acc:0.953\n",
      "Epoch:7 | Train loss: 31.87 | Train acc: 0.849 | Test acc:0.953\n",
      "Epoch:8 | Train loss: 29.63 | Train acc: 0.850 | Test acc:0.955\n",
      "Epoch:9 | Train loss: 27.55 | Train acc: 0.850 | Test acc:0.955\n",
      "Epoch:10 | Train loss: 25.63 | Train acc: 0.849 | Test acc:0.955\n",
      "Epoch:11 | Train loss: 23.84 | Train acc: 0.849 | Test acc:0.957\n",
      "Epoch:12 | Train loss: 22.19 | Train acc: 0.850 | Test acc:0.957\n",
      "Epoch:13 | Train loss: 20.65 | Train acc: 0.851 | Test acc:0.957\n",
      "Without Dropout & Batch Normalization\n"
     ]
    },
    {
     "name": "stderr",
     "output_type": "stream",
     "text": [
      "/usr/local/lib/python3.5/dist-packages/tensorflow_core/python/client/session.py:1750: UserWarning: An interactive session is already active. This can cause out-of-memory errors in some cases. You must explicitly call `InteractiveSession.close()` to release resources held by the other session(s).\n",
      "  warnings.warn('An interactive session is already active. This can '\n"
     ]
    },
    {
     "name": "stdout",
     "output_type": "stream",
     "text": [
      "Epoch:0 | Train loss: 50.79 | Train acc: 0.915 | Test acc:0.899\n",
      "Epoch:1 | Train loss: 47.42 | Train acc: 0.955 | Test acc:0.932\n",
      "Epoch:2 | Train loss: 44.35 | Train acc: 0.976 | Test acc:0.941\n",
      "Epoch:3 | Train loss: 41.50 | Train acc: 0.985 | Test acc:0.945\n",
      "Epoch:4 | Train loss: 38.86 | Train acc: 0.990 | Test acc:0.949\n",
      "Epoch:5 | Train loss: 36.40 | Train acc: 0.993 | Test acc:0.950\n",
      "Epoch:6 | Train loss: 34.12 | Train acc: 0.996 | Test acc:0.951\n",
      "Epoch:7 | Train loss: 31.98 | Train acc: 0.997 | Test acc:0.951\n",
      "Epoch:8 | Train loss: 29.99 | Train acc: 0.997 | Test acc:0.949\n",
      "Epoch:9 | Train loss: 28.14 | Train acc: 0.997 | Test acc:0.949\n",
      "Epoch:10 | Train loss: 26.40 | Train acc: 0.997 | Test acc:0.952\n",
      "Epoch:11 | Train loss: 24.79 | Train acc: 0.998 | Test acc:0.951\n",
      "Epoch:12 | Train loss: 23.27 | Train acc: 0.998 | Test acc:0.953\n",
      "Epoch:13 | Train loss: 21.85 | Train acc: 0.998 | Test acc:0.950\n",
      "Without Dropout & Batch Normalization & Adversarial Training\n"
     ]
    },
    {
     "name": "stderr",
     "output_type": "stream",
     "text": [
      "/home/root/adversarial/Gal/models.py:421: FutureWarning: Using a non-tuple sequence for multidimensional indexing is deprecated; use `arr[tuple(seq)]` instead of `arr[seq]`. In the future this will be interpreted as an array index, `arr[np.array(seq)]`, which will result either in an error or a different result.\n",
      "  sample_X_train = X_train[[ind]] # X_train[[start_index,end_index]] ; this would let us take specific indices, so we can randomize the order, ensure each iteration is taking precisely unique samples\n",
      "/home/root/adversarial/Gal/models.py:422: FutureWarning: Using a non-tuple sequence for multidimensional indexing is deprecated; use `arr[tuple(seq)]` instead of `arr[seq]`. In the future this will be interpreted as an array index, `arr[np.array(seq)]`, which will result either in an error or a different result.\n",
      "  sample_Y_train = Y_train[[ind]]\n",
      "/usr/local/lib/python3.5/dist-packages/tensorflow_core/python/client/session.py:1750: UserWarning: An interactive session is already active. This can cause out-of-memory errors in some cases. You must explicitly call `InteractiveSession.close()` to release resources held by the other session(s).\n",
      "  warnings.warn('An interactive session is already active. This can '\n",
      "/home/root/adversarial/Gal/models.py:569: FutureWarning: Using a non-tuple sequence for multidimensional indexing is deprecated; use `arr[tuple(seq)]` instead of `arr[seq]`. In the future this will be interpreted as an array index, `arr[np.array(seq)]`, which will result either in an error or a different result.\n",
      "  sample_X_train = X_train[[ind]] # X_train[[start_index,end_index]] ; this would let us take specific indices, so we can randomize the order, ensure each iteration is taking precisely unique samples\n",
      "/home/root/adversarial/Gal/models.py:570: FutureWarning: Using a non-tuple sequence for multidimensional indexing is deprecated; use `arr[tuple(seq)]` instead of `arr[seq]`. In the future this will be interpreted as an array index, `arr[np.array(seq)]`, which will result either in an error or a different result.\n",
      "  sample_Y_train = Y_train[[ind]]\n"
     ]
    },
    {
     "name": "stdout",
     "output_type": "stream",
     "text": [
      "Epoch:0 | Train loss: 54.58 | Train acc: 0.786 | Test acc:0.908\n",
      "Epoch:1 | Train loss: 50.54 | Train acc: 0.821 | Test acc:0.934\n",
      "Epoch:2 | Train loss: 46.87 | Train acc: 0.840 | Test acc:0.945\n",
      "Epoch:3 | Train loss: 43.50 | Train acc: 0.842 | Test acc:0.949\n",
      "Epoch:4 | Train loss: 40.40 | Train acc: 0.848 | Test acc:0.952\n",
      "Epoch:5 | Train loss: 37.53 | Train acc: 0.849 | Test acc:0.952\n",
      "Epoch:6 | Train loss: 34.88 | Train acc: 0.849 | Test acc:0.953\n",
      "Epoch:7 | Train loss: 32.43 | Train acc: 0.847 | Test acc:0.954\n",
      "Epoch:8 | Train loss: 30.16 | Train acc: 0.851 | Test acc:0.953\n",
      "Epoch:9 | Train loss: 28.06 | Train acc: 0.849 | Test acc:0.955\n",
      "Epoch:10 | Train loss: 26.11 | Train acc: 0.851 | Test acc:0.953\n",
      "Epoch:11 | Train loss: 24.31 | Train acc: 0.850 | Test acc:0.955\n",
      "Epoch:12 | Train loss: 22.64 | Train acc: 0.849 | Test acc:0.951\n",
      "Epoch:13 | Train loss: 21.08 | Train acc: 0.850 | Test acc:0.955\n",
      "Without Dropout & Batch Normalization\n"
     ]
    },
    {
     "name": "stderr",
     "output_type": "stream",
     "text": [
      "/usr/local/lib/python3.5/dist-packages/tensorflow_core/python/client/session.py:1750: UserWarning: An interactive session is already active. This can cause out-of-memory errors in some cases. You must explicitly call `InteractiveSession.close()` to release resources held by the other session(s).\n",
      "  warnings.warn('An interactive session is already active. This can '\n"
     ]
    },
    {
     "name": "stdout",
     "output_type": "stream",
     "text": [
      "Epoch:0 | Train loss: 60.80 | Train acc: 0.915 | Test acc:0.898\n",
      "Epoch:1 | Train loss: 57.17 | Train acc: 0.959 | Test acc:0.927\n",
      "Epoch:2 | Train loss: 53.83 | Train acc: 0.974 | Test acc:0.938\n",
      "Epoch:3 | Train loss: 50.72 | Train acc: 0.984 | Test acc:0.941\n",
      "Epoch:4 | Train loss: 47.82 | Train acc: 0.989 | Test acc:0.944\n",
      "Epoch:5 | Train loss: 45.11 | Train acc: 0.991 | Test acc:0.941\n",
      "Epoch:6 | Train loss: 42.56 | Train acc: 0.993 | Test acc:0.947\n",
      "Epoch:7 | Train loss: 40.18 | Train acc: 0.994 | Test acc:0.946\n",
      "Epoch:8 | Train loss: 37.94 | Train acc: 0.996 | Test acc:0.948\n",
      "Epoch:9 | Train loss: 35.84 | Train acc: 0.996 | Test acc:0.951\n",
      "Epoch:10 | Train loss: 33.86 | Train acc: 0.996 | Test acc:0.947\n",
      "Epoch:11 | Train loss: 32.01 | Train acc: 0.997 | Test acc:0.947\n",
      "Epoch:12 | Train loss: 30.26 | Train acc: 0.998 | Test acc:0.951\n",
      "Epoch:13 | Train loss: 28.62 | Train acc: 0.998 | Test acc:0.948\n",
      "Without Dropout & Batch Normalization & Adversarial Training\n"
     ]
    },
    {
     "name": "stderr",
     "output_type": "stream",
     "text": [
      "/home/root/adversarial/Gal/models.py:421: FutureWarning: Using a non-tuple sequence for multidimensional indexing is deprecated; use `arr[tuple(seq)]` instead of `arr[seq]`. In the future this will be interpreted as an array index, `arr[np.array(seq)]`, which will result either in an error or a different result.\n",
      "  sample_X_train = X_train[[ind]] # X_train[[start_index,end_index]] ; this would let us take specific indices, so we can randomize the order, ensure each iteration is taking precisely unique samples\n",
      "/home/root/adversarial/Gal/models.py:422: FutureWarning: Using a non-tuple sequence for multidimensional indexing is deprecated; use `arr[tuple(seq)]` instead of `arr[seq]`. In the future this will be interpreted as an array index, `arr[np.array(seq)]`, which will result either in an error or a different result.\n",
      "  sample_Y_train = Y_train[[ind]]\n",
      "/usr/local/lib/python3.5/dist-packages/tensorflow_core/python/client/session.py:1750: UserWarning: An interactive session is already active. This can cause out-of-memory errors in some cases. You must explicitly call `InteractiveSession.close()` to release resources held by the other session(s).\n",
      "  warnings.warn('An interactive session is already active. This can '\n",
      "/home/root/adversarial/Gal/models.py:569: FutureWarning: Using a non-tuple sequence for multidimensional indexing is deprecated; use `arr[tuple(seq)]` instead of `arr[seq]`. In the future this will be interpreted as an array index, `arr[np.array(seq)]`, which will result either in an error or a different result.\n",
      "  sample_X_train = X_train[[ind]] # X_train[[start_index,end_index]] ; this would let us take specific indices, so we can randomize the order, ensure each iteration is taking precisely unique samples\n",
      "/home/root/adversarial/Gal/models.py:570: FutureWarning: Using a non-tuple sequence for multidimensional indexing is deprecated; use `arr[tuple(seq)]` instead of `arr[seq]`. In the future this will be interpreted as an array index, `arr[np.array(seq)]`, which will result either in an error or a different result.\n",
      "  sample_Y_train = Y_train[[ind]]\n"
     ]
    },
    {
     "name": "stdout",
     "output_type": "stream",
     "text": [
      "Epoch:0 | Train loss: 57.40 | Train acc: 0.787 | Test acc:0.913\n",
      "Epoch:1 | Train loss: 53.25 | Train acc: 0.823 | Test acc:0.937\n",
      "Epoch:2 | Train loss: 49.46 | Train acc: 0.838 | Test acc:0.942\n",
      "Epoch:3 | Train loss: 45.97 | Train acc: 0.842 | Test acc:0.948\n",
      "Epoch:4 | Train loss: 42.74 | Train acc: 0.845 | Test acc:0.948\n",
      "Epoch:5 | Train loss: 39.76 | Train acc: 0.848 | Test acc:0.951\n",
      "Epoch:6 | Train loss: 36.99 | Train acc: 0.849 | Test acc:0.953\n",
      "Epoch:7 | Train loss: 34.42 | Train acc: 0.849 | Test acc:0.954\n",
      "Epoch:8 | Train loss: 32.04 | Train acc: 0.849 | Test acc:0.954\n",
      "Epoch:9 | Train loss: 29.82 | Train acc: 0.850 | Test acc:0.954\n",
      "Epoch:10 | Train loss: 27.77 | Train acc: 0.849 | Test acc:0.955\n",
      "Epoch:11 | Train loss: 25.85 | Train acc: 0.849 | Test acc:0.956\n",
      "Epoch:12 | Train loss: 24.07 | Train acc: 0.850 | Test acc:0.955\n",
      "Epoch:13 | Train loss: 22.42 | Train acc: 0.850 | Test acc:0.956\n",
      "Without Dropout & Batch Normalization\n"
     ]
    },
    {
     "name": "stderr",
     "output_type": "stream",
     "text": [
      "/usr/local/lib/python3.5/dist-packages/tensorflow_core/python/client/session.py:1750: UserWarning: An interactive session is already active. This can cause out-of-memory errors in some cases. You must explicitly call `InteractiveSession.close()` to release resources held by the other session(s).\n",
      "  warnings.warn('An interactive session is already active. This can '\n"
     ]
    },
    {
     "name": "stdout",
     "output_type": "stream",
     "text": [
      "Epoch:0 | Train loss: 64.02 | Train acc: 0.924 | Test acc:0.910\n",
      "Epoch:1 | Train loss: 60.27 | Train acc: 0.961 | Test acc:0.931\n",
      "Epoch:2 | Train loss: 56.81 | Train acc: 0.976 | Test acc:0.942\n",
      "Epoch:3 | Train loss: 53.59 | Train acc: 0.987 | Test acc:0.945\n",
      "Epoch:4 | Train loss: 50.57 | Train acc: 0.992 | Test acc:0.948\n",
      "Epoch:5 | Train loss: 47.75 | Train acc: 0.993 | Test acc:0.947\n",
      "Epoch:6 | Train loss: 45.10 | Train acc: 0.995 | Test acc:0.948\n",
      "Epoch:7 | Train loss: 42.61 | Train acc: 0.997 | Test acc:0.951\n",
      "Epoch:8 | Train loss: 40.27 | Train acc: 0.997 | Test acc:0.950\n",
      "Epoch:9 | Train loss: 38.07 | Train acc: 0.998 | Test acc:0.948\n",
      "Epoch:10 | Train loss: 36.00 | Train acc: 0.998 | Test acc:0.950\n",
      "Epoch:11 | Train loss: 34.06 | Train acc: 0.998 | Test acc:0.948\n",
      "Epoch:12 | Train loss: 32.22 | Train acc: 0.998 | Test acc:0.951\n",
      "Epoch:13 | Train loss: 30.49 | Train acc: 0.998 | Test acc:0.951\n",
      "Without Dropout & Batch Normalization & Adversarial Training\n"
     ]
    },
    {
     "name": "stderr",
     "output_type": "stream",
     "text": [
      "/home/root/adversarial/Gal/models.py:421: FutureWarning: Using a non-tuple sequence for multidimensional indexing is deprecated; use `arr[tuple(seq)]` instead of `arr[seq]`. In the future this will be interpreted as an array index, `arr[np.array(seq)]`, which will result either in an error or a different result.\n",
      "  sample_X_train = X_train[[ind]] # X_train[[start_index,end_index]] ; this would let us take specific indices, so we can randomize the order, ensure each iteration is taking precisely unique samples\n",
      "/home/root/adversarial/Gal/models.py:422: FutureWarning: Using a non-tuple sequence for multidimensional indexing is deprecated; use `arr[tuple(seq)]` instead of `arr[seq]`. In the future this will be interpreted as an array index, `arr[np.array(seq)]`, which will result either in an error or a different result.\n",
      "  sample_Y_train = Y_train[[ind]]\n",
      "/usr/local/lib/python3.5/dist-packages/tensorflow_core/python/client/session.py:1750: UserWarning: An interactive session is already active. This can cause out-of-memory errors in some cases. You must explicitly call `InteractiveSession.close()` to release resources held by the other session(s).\n",
      "  warnings.warn('An interactive session is already active. This can '\n",
      "/home/root/adversarial/Gal/models.py:569: FutureWarning: Using a non-tuple sequence for multidimensional indexing is deprecated; use `arr[tuple(seq)]` instead of `arr[seq]`. In the future this will be interpreted as an array index, `arr[np.array(seq)]`, which will result either in an error or a different result.\n",
      "  sample_X_train = X_train[[ind]] # X_train[[start_index,end_index]] ; this would let us take specific indices, so we can randomize the order, ensure each iteration is taking precisely unique samples\n",
      "/home/root/adversarial/Gal/models.py:570: FutureWarning: Using a non-tuple sequence for multidimensional indexing is deprecated; use `arr[tuple(seq)]` instead of `arr[seq]`. In the future this will be interpreted as an array index, `arr[np.array(seq)]`, which will result either in an error or a different result.\n",
      "  sample_Y_train = Y_train[[ind]]\n"
     ]
    },
    {
     "name": "stdout",
     "output_type": "stream",
     "text": [
      "Epoch:0 | Train loss: 52.08 | Train acc: 0.793 | Test acc:0.909\n",
      "Epoch:1 | Train loss: 48.22 | Train acc: 0.826 | Test acc:0.936\n",
      "Epoch:2 | Train loss: 44.71 | Train acc: 0.841 | Test acc:0.944\n",
      "Epoch:3 | Train loss: 41.50 | Train acc: 0.845 | Test acc:0.949\n",
      "Epoch:4 | Train loss: 38.55 | Train acc: 0.847 | Test acc:0.950\n",
      "Epoch:5 | Train loss: 35.82 | Train acc: 0.847 | Test acc:0.949\n",
      "Epoch:6 | Train loss: 33.30 | Train acc: 0.848 | Test acc:0.951\n",
      "Epoch:7 | Train loss: 30.98 | Train acc: 0.850 | Test acc:0.952\n",
      "Epoch:8 | Train loss: 28.82 | Train acc: 0.847 | Test acc:0.952\n",
      "Epoch:9 | Train loss: 26.83 | Train acc: 0.849 | Test acc:0.952\n",
      "Epoch:10 | Train loss: 24.98 | Train acc: 0.849 | Test acc:0.953\n",
      "Epoch:11 | Train loss: 23.27 | Train acc: 0.850 | Test acc:0.955\n",
      "Epoch:12 | Train loss: 21.68 | Train acc: 0.849 | Test acc:0.955\n",
      "Epoch:13 | Train loss: 20.21 | Train acc: 0.849 | Test acc:0.956\n",
      "Without Dropout & Batch Normalization\n"
     ]
    },
    {
     "name": "stderr",
     "output_type": "stream",
     "text": [
      "/usr/local/lib/python3.5/dist-packages/tensorflow_core/python/client/session.py:1750: UserWarning: An interactive session is already active. This can cause out-of-memory errors in some cases. You must explicitly call `InteractiveSession.close()` to release resources held by the other session(s).\n",
      "  warnings.warn('An interactive session is already active. This can '\n"
     ]
    },
    {
     "name": "stdout",
     "output_type": "stream",
     "text": [
      "Epoch:0 | Train loss: 52.19 | Train acc: 0.909 | Test acc:0.898\n",
      "Epoch:1 | Train loss: 48.83 | Train acc: 0.958 | Test acc:0.933\n",
      "Epoch:2 | Train loss: 45.78 | Train acc: 0.977 | Test acc:0.944\n",
      "Epoch:3 | Train loss: 42.95 | Train acc: 0.986 | Test acc:0.947\n",
      "Epoch:4 | Train loss: 40.32 | Train acc: 0.992 | Test acc:0.951\n",
      "Epoch:5 | Train loss: 37.87 | Train acc: 0.996 | Test acc:0.953\n",
      "Epoch:6 | Train loss: 35.58 | Train acc: 0.997 | Test acc:0.955\n",
      "Epoch:7 | Train loss: 33.45 | Train acc: 0.995 | Test acc:0.951\n",
      "Epoch:8 | Train loss: 31.44 | Train acc: 0.997 | Test acc:0.953\n",
      "Epoch:9 | Train loss: 29.57 | Train acc: 0.998 | Test acc:0.953\n",
      "Epoch:10 | Train loss: 27.81 | Train acc: 0.998 | Test acc:0.955\n",
      "Epoch:11 | Train loss: 26.16 | Train acc: 0.997 | Test acc:0.953\n",
      "Epoch:12 | Train loss: 24.61 | Train acc: 0.998 | Test acc:0.958\n",
      "Epoch:13 | Train loss: 23.17 | Train acc: 0.998 | Test acc:0.952\n",
      "Without Dropout & Batch Normalization & Adversarial Training\n"
     ]
    },
    {
     "name": "stderr",
     "output_type": "stream",
     "text": [
      "/home/root/adversarial/Gal/models.py:421: FutureWarning: Using a non-tuple sequence for multidimensional indexing is deprecated; use `arr[tuple(seq)]` instead of `arr[seq]`. In the future this will be interpreted as an array index, `arr[np.array(seq)]`, which will result either in an error or a different result.\n",
      "  sample_X_train = X_train[[ind]] # X_train[[start_index,end_index]] ; this would let us take specific indices, so we can randomize the order, ensure each iteration is taking precisely unique samples\n",
      "/home/root/adversarial/Gal/models.py:422: FutureWarning: Using a non-tuple sequence for multidimensional indexing is deprecated; use `arr[tuple(seq)]` instead of `arr[seq]`. In the future this will be interpreted as an array index, `arr[np.array(seq)]`, which will result either in an error or a different result.\n",
      "  sample_Y_train = Y_train[[ind]]\n",
      "/usr/local/lib/python3.5/dist-packages/tensorflow_core/python/client/session.py:1750: UserWarning: An interactive session is already active. This can cause out-of-memory errors in some cases. You must explicitly call `InteractiveSession.close()` to release resources held by the other session(s).\n",
      "  warnings.warn('An interactive session is already active. This can '\n",
      "/home/root/adversarial/Gal/models.py:569: FutureWarning: Using a non-tuple sequence for multidimensional indexing is deprecated; use `arr[tuple(seq)]` instead of `arr[seq]`. In the future this will be interpreted as an array index, `arr[np.array(seq)]`, which will result either in an error or a different result.\n",
      "  sample_X_train = X_train[[ind]] # X_train[[start_index,end_index]] ; this would let us take specific indices, so we can randomize the order, ensure each iteration is taking precisely unique samples\n",
      "/home/root/adversarial/Gal/models.py:570: FutureWarning: Using a non-tuple sequence for multidimensional indexing is deprecated; use `arr[tuple(seq)]` instead of `arr[seq]`. In the future this will be interpreted as an array index, `arr[np.array(seq)]`, which will result either in an error or a different result.\n",
      "  sample_Y_train = Y_train[[ind]]\n"
     ]
    },
    {
     "name": "stdout",
     "output_type": "stream",
     "text": [
      "Epoch:0 | Train loss: 57.86 | Train acc: 0.792 | Test acc:0.919\n",
      "Epoch:1 | Train loss: 53.70 | Train acc: 0.820 | Test acc:0.939\n",
      "Epoch:2 | Train loss: 49.90 | Train acc: 0.836 | Test acc:0.943\n",
      "Epoch:3 | Train loss: 46.40 | Train acc: 0.844 | Test acc:0.948\n",
      "Epoch:4 | Train loss: 43.17 | Train acc: 0.845 | Test acc:0.953\n",
      "Epoch:5 | Train loss: 40.19 | Train acc: 0.849 | Test acc:0.952\n",
      "Epoch:6 | Train loss: 37.43 | Train acc: 0.848 | Test acc:0.955\n",
      "Epoch:7 | Train loss: 34.87 | Train acc: 0.849 | Test acc:0.953\n",
      "Epoch:8 | Train loss: 32.49 | Train acc: 0.850 | Test acc:0.956\n",
      "Epoch:9 | Train loss: 30.29 | Train acc: 0.848 | Test acc:0.955\n",
      "Epoch:10 | Train loss: 28.24 | Train acc: 0.848 | Test acc:0.955\n",
      "Epoch:11 | Train loss: 26.34 | Train acc: 0.850 | Test acc:0.955\n",
      "Epoch:12 | Train loss: 24.58 | Train acc: 0.848 | Test acc:0.956\n",
      "Epoch:13 | Train loss: 22.94 | Train acc: 0.848 | Test acc:0.957\n",
      "Without Dropout & Batch Normalization\n"
     ]
    },
    {
     "name": "stderr",
     "output_type": "stream",
     "text": [
      "/usr/local/lib/python3.5/dist-packages/tensorflow_core/python/client/session.py:1750: UserWarning: An interactive session is already active. This can cause out-of-memory errors in some cases. You must explicitly call `InteractiveSession.close()` to release resources held by the other session(s).\n",
      "  warnings.warn('An interactive session is already active. This can '\n"
     ]
    },
    {
     "name": "stdout",
     "output_type": "stream",
     "text": [
      "Epoch:0 | Train loss: 54.02 | Train acc: 0.922 | Test acc:0.909\n",
      "Epoch:1 | Train loss: 50.61 | Train acc: 0.962 | Test acc:0.934\n",
      "Epoch:2 | Train loss: 47.48 | Train acc: 0.977 | Test acc:0.941\n",
      "Epoch:3 | Train loss: 44.58 | Train acc: 0.987 | Test acc:0.945\n",
      "Epoch:4 | Train loss: 41.88 | Train acc: 0.991 | Test acc:0.950\n",
      "Epoch:5 | Train loss: 39.35 | Train acc: 0.993 | Test acc:0.948\n",
      "Epoch:6 | Train loss: 36.99 | Train acc: 0.995 | Test acc:0.952\n",
      "Epoch:7 | Train loss: 34.78 | Train acc: 0.996 | Test acc:0.951\n",
      "Epoch:8 | Train loss: 32.70 | Train acc: 0.997 | Test acc:0.951\n",
      "Epoch:9 | Train loss: 30.76 | Train acc: 0.997 | Test acc:0.949\n",
      "Epoch:10 | Train loss: 28.94 | Train acc: 0.997 | Test acc:0.951\n",
      "Epoch:11 | Train loss: 27.23 | Train acc: 0.997 | Test acc:0.951\n",
      "Epoch:12 | Train loss: 25.62 | Train acc: 0.997 | Test acc:0.950\n",
      "Epoch:13 | Train loss: 24.12 | Train acc: 0.997 | Test acc:0.950\n",
      "Without Dropout & Batch Normalization & Adversarial Training\n"
     ]
    },
    {
     "name": "stderr",
     "output_type": "stream",
     "text": [
      "/home/root/adversarial/Gal/models.py:421: FutureWarning: Using a non-tuple sequence for multidimensional indexing is deprecated; use `arr[tuple(seq)]` instead of `arr[seq]`. In the future this will be interpreted as an array index, `arr[np.array(seq)]`, which will result either in an error or a different result.\n",
      "  sample_X_train = X_train[[ind]] # X_train[[start_index,end_index]] ; this would let us take specific indices, so we can randomize the order, ensure each iteration is taking precisely unique samples\n",
      "/home/root/adversarial/Gal/models.py:422: FutureWarning: Using a non-tuple sequence for multidimensional indexing is deprecated; use `arr[tuple(seq)]` instead of `arr[seq]`. In the future this will be interpreted as an array index, `arr[np.array(seq)]`, which will result either in an error or a different result.\n",
      "  sample_Y_train = Y_train[[ind]]\n",
      "/usr/local/lib/python3.5/dist-packages/tensorflow_core/python/client/session.py:1750: UserWarning: An interactive session is already active. This can cause out-of-memory errors in some cases. You must explicitly call `InteractiveSession.close()` to release resources held by the other session(s).\n",
      "  warnings.warn('An interactive session is already active. This can '\n",
      "/home/root/adversarial/Gal/models.py:569: FutureWarning: Using a non-tuple sequence for multidimensional indexing is deprecated; use `arr[tuple(seq)]` instead of `arr[seq]`. In the future this will be interpreted as an array index, `arr[np.array(seq)]`, which will result either in an error or a different result.\n",
      "  sample_X_train = X_train[[ind]] # X_train[[start_index,end_index]] ; this would let us take specific indices, so we can randomize the order, ensure each iteration is taking precisely unique samples\n",
      "/home/root/adversarial/Gal/models.py:570: FutureWarning: Using a non-tuple sequence for multidimensional indexing is deprecated; use `arr[tuple(seq)]` instead of `arr[seq]`. In the future this will be interpreted as an array index, `arr[np.array(seq)]`, which will result either in an error or a different result.\n",
      "  sample_Y_train = Y_train[[ind]]\n"
     ]
    },
    {
     "name": "stdout",
     "output_type": "stream",
     "text": [
      "Epoch:0 | Train loss: 56.53 | Train acc: 0.792 | Test acc:0.914\n",
      "Epoch:1 | Train loss: 52.46 | Train acc: 0.823 | Test acc:0.940\n",
      "Epoch:2 | Train loss: 48.74 | Train acc: 0.839 | Test acc:0.944\n",
      "Epoch:3 | Train loss: 45.32 | Train acc: 0.843 | Test acc:0.948\n",
      "Epoch:4 | Train loss: 42.16 | Train acc: 0.847 | Test acc:0.951\n",
      "Epoch:5 | Train loss: 39.24 | Train acc: 0.847 | Test acc:0.954\n",
      "Epoch:6 | Train loss: 36.52 | Train acc: 0.846 | Test acc:0.954\n",
      "Epoch:7 | Train loss: 34.01 | Train acc: 0.846 | Test acc:0.954\n",
      "Epoch:8 | Train loss: 31.68 | Train acc: 0.849 | Test acc:0.951\n",
      "Epoch:9 | Train loss: 29.51 | Train acc: 0.847 | Test acc:0.956\n",
      "Epoch:10 | Train loss: 27.49 | Train acc: 0.850 | Test acc:0.957\n",
      "Epoch:11 | Train loss: 25.62 | Train acc: 0.850 | Test acc:0.958\n",
      "Epoch:12 | Train loss: 23.88 | Train acc: 0.846 | Test acc:0.958\n",
      "Epoch:13 | Train loss: 22.26 | Train acc: 0.848 | Test acc:0.957\n",
      "Without Dropout & Batch Normalization\n"
     ]
    },
    {
     "name": "stderr",
     "output_type": "stream",
     "text": [
      "/usr/local/lib/python3.5/dist-packages/tensorflow_core/python/client/session.py:1750: UserWarning: An interactive session is already active. This can cause out-of-memory errors in some cases. You must explicitly call `InteractiveSession.close()` to release resources held by the other session(s).\n",
      "  warnings.warn('An interactive session is already active. This can '\n"
     ]
    },
    {
     "name": "stdout",
     "output_type": "stream",
     "text": [
      "Epoch:0 | Train loss: 60.22 | Train acc: 0.930 | Test acc:0.912\n",
      "Epoch:1 | Train loss: 56.52 | Train acc: 0.960 | Test acc:0.934\n",
      "Epoch:2 | Train loss: 53.11 | Train acc: 0.979 | Test acc:0.941\n",
      "Epoch:3 | Train loss: 49.92 | Train acc: 0.987 | Test acc:0.944\n",
      "Epoch:4 | Train loss: 46.94 | Train acc: 0.991 | Test acc:0.946\n",
      "Epoch:5 | Train loss: 44.15 | Train acc: 0.993 | Test acc:0.947\n",
      "Epoch:6 | Train loss: 41.53 | Train acc: 0.996 | Test acc:0.948\n",
      "Epoch:7 | Train loss: 39.08 | Train acc: 0.996 | Test acc:0.949\n",
      "Epoch:8 | Train loss: 36.77 | Train acc: 0.996 | Test acc:0.948\n",
      "Epoch:9 | Train loss: 34.59 | Train acc: 0.996 | Test acc:0.949\n",
      "Epoch:10 | Train loss: 32.55 | Train acc: 0.997 | Test acc:0.947\n",
      "Epoch:11 | Train loss: 30.63 | Train acc: 0.998 | Test acc:0.951\n",
      "Epoch:12 | Train loss: 28.83 | Train acc: 0.998 | Test acc:0.949\n",
      "Epoch:13 | Train loss: 27.13 | Train acc: 0.998 | Test acc:0.948\n",
      "Without Dropout & Batch Normalization & Adversarial Training\n"
     ]
    },
    {
     "name": "stderr",
     "output_type": "stream",
     "text": [
      "/home/root/adversarial/Gal/models.py:421: FutureWarning: Using a non-tuple sequence for multidimensional indexing is deprecated; use `arr[tuple(seq)]` instead of `arr[seq]`. In the future this will be interpreted as an array index, `arr[np.array(seq)]`, which will result either in an error or a different result.\n",
      "  sample_X_train = X_train[[ind]] # X_train[[start_index,end_index]] ; this would let us take specific indices, so we can randomize the order, ensure each iteration is taking precisely unique samples\n",
      "/home/root/adversarial/Gal/models.py:422: FutureWarning: Using a non-tuple sequence for multidimensional indexing is deprecated; use `arr[tuple(seq)]` instead of `arr[seq]`. In the future this will be interpreted as an array index, `arr[np.array(seq)]`, which will result either in an error or a different result.\n",
      "  sample_Y_train = Y_train[[ind]]\n",
      "/usr/local/lib/python3.5/dist-packages/tensorflow_core/python/client/session.py:1750: UserWarning: An interactive session is already active. This can cause out-of-memory errors in some cases. You must explicitly call `InteractiveSession.close()` to release resources held by the other session(s).\n",
      "  warnings.warn('An interactive session is already active. This can '\n",
      "/home/root/adversarial/Gal/models.py:569: FutureWarning: Using a non-tuple sequence for multidimensional indexing is deprecated; use `arr[tuple(seq)]` instead of `arr[seq]`. In the future this will be interpreted as an array index, `arr[np.array(seq)]`, which will result either in an error or a different result.\n",
      "  sample_X_train = X_train[[ind]] # X_train[[start_index,end_index]] ; this would let us take specific indices, so we can randomize the order, ensure each iteration is taking precisely unique samples\n",
      "/home/root/adversarial/Gal/models.py:570: FutureWarning: Using a non-tuple sequence for multidimensional indexing is deprecated; use `arr[tuple(seq)]` instead of `arr[seq]`. In the future this will be interpreted as an array index, `arr[np.array(seq)]`, which will result either in an error or a different result.\n",
      "  sample_Y_train = Y_train[[ind]]\n"
     ]
    },
    {
     "name": "stdout",
     "output_type": "stream",
     "text": [
      "Epoch:0 | Train loss: 55.06 | Train acc: 0.788 | Test acc:0.912\n",
      "Epoch:1 | Train loss: 51.11 | Train acc: 0.821 | Test acc:0.933\n",
      "Epoch:2 | Train loss: 47.51 | Train acc: 0.836 | Test acc:0.941\n",
      "Epoch:3 | Train loss: 44.21 | Train acc: 0.841 | Test acc:0.946\n",
      "Epoch:4 | Train loss: 41.15 | Train acc: 0.847 | Test acc:0.947\n",
      "Epoch:5 | Train loss: 38.33 | Train acc: 0.850 | Test acc:0.947\n",
      "Epoch:6 | Train loss: 35.71 | Train acc: 0.846 | Test acc:0.950\n",
      "Epoch:7 | Train loss: 33.29 | Train acc: 0.846 | Test acc:0.952\n",
      "Epoch:8 | Train loss: 31.04 | Train acc: 0.849 | Test acc:0.952\n",
      "Epoch:9 | Train loss: 28.95 | Train acc: 0.849 | Test acc:0.954\n",
      "Epoch:10 | Train loss: 27.02 | Train acc: 0.849 | Test acc:0.953\n",
      "Epoch:11 | Train loss: 25.21 | Train acc: 0.853 | Test acc:0.955\n",
      "Epoch:12 | Train loss: 23.53 | Train acc: 0.849 | Test acc:0.956\n",
      "Epoch:13 | Train loss: 21.98 | Train acc: 0.850 | Test acc:0.955\n",
      "Without Dropout & Batch Normalization\n"
     ]
    },
    {
     "name": "stderr",
     "output_type": "stream",
     "text": [
      "/usr/local/lib/python3.5/dist-packages/tensorflow_core/python/client/session.py:1750: UserWarning: An interactive session is already active. This can cause out-of-memory errors in some cases. You must explicitly call `InteractiveSession.close()` to release resources held by the other session(s).\n",
      "  warnings.warn('An interactive session is already active. This can '\n"
     ]
    },
    {
     "name": "stdout",
     "output_type": "stream",
     "text": [
      "Epoch:0 | Train loss: 63.41 | Train acc: 0.920 | Test acc:0.900\n",
      "Epoch:1 | Train loss: 59.74 | Train acc: 0.958 | Test acc:0.929\n",
      "Epoch:2 | Train loss: 56.37 | Train acc: 0.978 | Test acc:0.938\n",
      "Epoch:3 | Train loss: 53.22 | Train acc: 0.986 | Test acc:0.943\n",
      "Epoch:4 | Train loss: 50.28 | Train acc: 0.991 | Test acc:0.949\n",
      "Epoch:5 | Train loss: 47.53 | Train acc: 0.994 | Test acc:0.950\n",
      "Epoch:6 | Train loss: 44.94 | Train acc: 0.996 | Test acc:0.952\n",
      "Epoch:7 | Train loss: 42.52 | Train acc: 0.996 | Test acc:0.950\n",
      "Epoch:8 | Train loss: 40.24 | Train acc: 0.997 | Test acc:0.951\n",
      "Epoch:9 | Train loss: 38.09 | Train acc: 0.997 | Test acc:0.948\n",
      "Epoch:10 | Train loss: 36.07 | Train acc: 0.997 | Test acc:0.949\n",
      "Epoch:11 | Train loss: 34.17 | Train acc: 0.998 | Test acc:0.951\n",
      "Epoch:12 | Train loss: 32.38 | Train acc: 0.997 | Test acc:0.951\n",
      "Epoch:13 | Train loss: 30.69 | Train acc: 0.998 | Test acc:0.952\n",
      "Without Dropout & Batch Normalization & Adversarial Training\n"
     ]
    },
    {
     "name": "stderr",
     "output_type": "stream",
     "text": [
      "/home/root/adversarial/Gal/models.py:421: FutureWarning: Using a non-tuple sequence for multidimensional indexing is deprecated; use `arr[tuple(seq)]` instead of `arr[seq]`. In the future this will be interpreted as an array index, `arr[np.array(seq)]`, which will result either in an error or a different result.\n",
      "  sample_X_train = X_train[[ind]] # X_train[[start_index,end_index]] ; this would let us take specific indices, so we can randomize the order, ensure each iteration is taking precisely unique samples\n",
      "/home/root/adversarial/Gal/models.py:422: FutureWarning: Using a non-tuple sequence for multidimensional indexing is deprecated; use `arr[tuple(seq)]` instead of `arr[seq]`. In the future this will be interpreted as an array index, `arr[np.array(seq)]`, which will result either in an error or a different result.\n",
      "  sample_Y_train = Y_train[[ind]]\n",
      "/usr/local/lib/python3.5/dist-packages/tensorflow_core/python/client/session.py:1750: UserWarning: An interactive session is already active. This can cause out-of-memory errors in some cases. You must explicitly call `InteractiveSession.close()` to release resources held by the other session(s).\n",
      "  warnings.warn('An interactive session is already active. This can '\n",
      "/home/root/adversarial/Gal/models.py:569: FutureWarning: Using a non-tuple sequence for multidimensional indexing is deprecated; use `arr[tuple(seq)]` instead of `arr[seq]`. In the future this will be interpreted as an array index, `arr[np.array(seq)]`, which will result either in an error or a different result.\n",
      "  sample_X_train = X_train[[ind]] # X_train[[start_index,end_index]] ; this would let us take specific indices, so we can randomize the order, ensure each iteration is taking precisely unique samples\n",
      "/home/root/adversarial/Gal/models.py:570: FutureWarning: Using a non-tuple sequence for multidimensional indexing is deprecated; use `arr[tuple(seq)]` instead of `arr[seq]`. In the future this will be interpreted as an array index, `arr[np.array(seq)]`, which will result either in an error or a different result.\n",
      "  sample_Y_train = Y_train[[ind]]\n"
     ]
    },
    {
     "name": "stdout",
     "output_type": "stream",
     "text": [
      "Epoch:0 | Train loss: 57.25 | Train acc: 0.791 | Test acc:0.911\n",
      "Epoch:1 | Train loss: 53.23 | Train acc: 0.825 | Test acc:0.937\n",
      "Epoch:2 | Train loss: 49.58 | Train acc: 0.836 | Test acc:0.941\n",
      "Epoch:3 | Train loss: 46.21 | Train acc: 0.842 | Test acc:0.945\n",
      "Epoch:4 | Train loss: 43.10 | Train acc: 0.847 | Test acc:0.950\n",
      "Epoch:5 | Train loss: 40.23 | Train acc: 0.847 | Test acc:0.952\n",
      "Epoch:6 | Train loss: 37.57 | Train acc: 0.848 | Test acc:0.954\n",
      "Epoch:7 | Train loss: 35.11 | Train acc: 0.848 | Test acc:0.955\n",
      "Epoch:8 | Train loss: 32.82 | Train acc: 0.850 | Test acc:0.954\n",
      "Epoch:9 | Train loss: 30.70 | Train acc: 0.850 | Test acc:0.952\n",
      "Epoch:10 | Train loss: 28.73 | Train acc: 0.850 | Test acc:0.956\n",
      "Epoch:11 | Train loss: 26.90 | Train acc: 0.848 | Test acc:0.955\n",
      "Epoch:12 | Train loss: 25.20 | Train acc: 0.850 | Test acc:0.955\n",
      "Epoch:13 | Train loss: 23.61 | Train acc: 0.849 | Test acc:0.956\n",
      "Without Dropout & Batch Normalization\n"
     ]
    },
    {
     "name": "stderr",
     "output_type": "stream",
     "text": [
      "/usr/local/lib/python3.5/dist-packages/tensorflow_core/python/client/session.py:1750: UserWarning: An interactive session is already active. This can cause out-of-memory errors in some cases. You must explicitly call `InteractiveSession.close()` to release resources held by the other session(s).\n",
      "  warnings.warn('An interactive session is already active. This can '\n"
     ]
    },
    {
     "name": "stdout",
     "output_type": "stream",
     "text": [
      "Epoch:0 | Train loss: 60.41 | Train acc: 0.920 | Test acc:0.901\n",
      "Epoch:1 | Train loss: 56.77 | Train acc: 0.962 | Test acc:0.930\n",
      "Epoch:2 | Train loss: 53.44 | Train acc: 0.978 | Test acc:0.938\n",
      "Epoch:3 | Train loss: 50.33 | Train acc: 0.988 | Test acc:0.945\n",
      "Epoch:4 | Train loss: 47.44 | Train acc: 0.992 | Test acc:0.947\n",
      "Epoch:5 | Train loss: 44.72 | Train acc: 0.994 | Test acc:0.947\n",
      "Epoch:6 | Train loss: 42.19 | Train acc: 0.994 | Test acc:0.946\n",
      "Epoch:7 | Train loss: 39.80 | Train acc: 0.996 | Test acc:0.946\n",
      "Epoch:8 | Train loss: 37.56 | Train acc: 0.996 | Test acc:0.950\n",
      "Epoch:9 | Train loss: 35.46 | Train acc: 0.996 | Test acc:0.949\n",
      "Epoch:10 | Train loss: 33.48 | Train acc: 0.997 | Test acc:0.951\n",
      "Epoch:11 | Train loss: 31.62 | Train acc: 0.997 | Test acc:0.950\n",
      "Epoch:12 | Train loss: 29.87 | Train acc: 0.997 | Test acc:0.951\n",
      "Epoch:13 | Train loss: 28.22 | Train acc: 0.997 | Test acc:0.951\n",
      "Without Dropout & Batch Normalization & Adversarial Training\n"
     ]
    },
    {
     "name": "stderr",
     "output_type": "stream",
     "text": [
      "/home/root/adversarial/Gal/models.py:421: FutureWarning: Using a non-tuple sequence for multidimensional indexing is deprecated; use `arr[tuple(seq)]` instead of `arr[seq]`. In the future this will be interpreted as an array index, `arr[np.array(seq)]`, which will result either in an error or a different result.\n",
      "  sample_X_train = X_train[[ind]] # X_train[[start_index,end_index]] ; this would let us take specific indices, so we can randomize the order, ensure each iteration is taking precisely unique samples\n",
      "/home/root/adversarial/Gal/models.py:422: FutureWarning: Using a non-tuple sequence for multidimensional indexing is deprecated; use `arr[tuple(seq)]` instead of `arr[seq]`. In the future this will be interpreted as an array index, `arr[np.array(seq)]`, which will result either in an error or a different result.\n",
      "  sample_Y_train = Y_train[[ind]]\n",
      "/usr/local/lib/python3.5/dist-packages/tensorflow_core/python/client/session.py:1750: UserWarning: An interactive session is already active. This can cause out-of-memory errors in some cases. You must explicitly call `InteractiveSession.close()` to release resources held by the other session(s).\n",
      "  warnings.warn('An interactive session is already active. This can '\n",
      "/home/root/adversarial/Gal/models.py:569: FutureWarning: Using a non-tuple sequence for multidimensional indexing is deprecated; use `arr[tuple(seq)]` instead of `arr[seq]`. In the future this will be interpreted as an array index, `arr[np.array(seq)]`, which will result either in an error or a different result.\n",
      "  sample_X_train = X_train[[ind]] # X_train[[start_index,end_index]] ; this would let us take specific indices, so we can randomize the order, ensure each iteration is taking precisely unique samples\n",
      "/home/root/adversarial/Gal/models.py:570: FutureWarning: Using a non-tuple sequence for multidimensional indexing is deprecated; use `arr[tuple(seq)]` instead of `arr[seq]`. In the future this will be interpreted as an array index, `arr[np.array(seq)]`, which will result either in an error or a different result.\n",
      "  sample_Y_train = Y_train[[ind]]\n"
     ]
    },
    {
     "name": "stdout",
     "output_type": "stream",
     "text": [
      "Epoch:0 | Train loss: 57.85 | Train acc: 0.779 | Test acc:0.896\n",
      "Epoch:1 | Train loss: 53.84 | Train acc: 0.825 | Test acc:0.937\n",
      "Epoch:2 | Train loss: 50.21 | Train acc: 0.839 | Test acc:0.947\n",
      "Epoch:3 | Train loss: 46.86 | Train acc: 0.843 | Test acc:0.948\n",
      "Epoch:4 | Train loss: 43.77 | Train acc: 0.845 | Test acc:0.953\n",
      "Epoch:5 | Train loss: 40.91 | Train acc: 0.847 | Test acc:0.952\n",
      "Epoch:6 | Train loss: 38.26 | Train acc: 0.848 | Test acc:0.952\n",
      "Epoch:7 | Train loss: 35.79 | Train acc: 0.850 | Test acc:0.956\n",
      "Epoch:8 | Train loss: 33.50 | Train acc: 0.852 | Test acc:0.956\n",
      "Epoch:9 | Train loss: 31.36 | Train acc: 0.849 | Test acc:0.956\n",
      "Epoch:10 | Train loss: 29.38 | Train acc: 0.845 | Test acc:0.956\n",
      "Epoch:11 | Train loss: 27.52 | Train acc: 0.849 | Test acc:0.957\n",
      "Epoch:12 | Train loss: 25.80 | Train acc: 0.849 | Test acc:0.957\n",
      "Epoch:13 | Train loss: 24.19 | Train acc: 0.850 | Test acc:0.958\n",
      "Without Dropout & Batch Normalization\n"
     ]
    },
    {
     "name": "stderr",
     "output_type": "stream",
     "text": [
      "/usr/local/lib/python3.5/dist-packages/tensorflow_core/python/client/session.py:1750: UserWarning: An interactive session is already active. This can cause out-of-memory errors in some cases. You must explicitly call `InteractiveSession.close()` to release resources held by the other session(s).\n",
      "  warnings.warn('An interactive session is already active. This can '\n"
     ]
    },
    {
     "name": "stdout",
     "output_type": "stream",
     "text": [
      "Epoch:0 | Train loss: 55.29 | Train acc: 0.920 | Test acc:0.900\n",
      "Epoch:1 | Train loss: 51.80 | Train acc: 0.958 | Test acc:0.931\n",
      "Epoch:2 | Train loss: 48.61 | Train acc: 0.975 | Test acc:0.938\n",
      "Epoch:3 | Train loss: 45.65 | Train acc: 0.985 | Test acc:0.945\n",
      "Epoch:4 | Train loss: 42.88 | Train acc: 0.990 | Test acc:0.947\n",
      "Epoch:5 | Train loss: 40.30 | Train acc: 0.993 | Test acc:0.950\n",
      "Epoch:6 | Train loss: 37.89 | Train acc: 0.994 | Test acc:0.951\n",
      "Epoch:7 | Train loss: 35.63 | Train acc: 0.996 | Test acc:0.949\n",
      "Epoch:8 | Train loss: 33.51 | Train acc: 0.995 | Test acc:0.946\n",
      "Epoch:9 | Train loss: 31.52 | Train acc: 0.996 | Test acc:0.947\n",
      "Epoch:10 | Train loss: 29.66 | Train acc: 0.996 | Test acc:0.947\n",
      "Epoch:11 | Train loss: 27.91 | Train acc: 0.997 | Test acc:0.950\n",
      "Epoch:12 | Train loss: 26.27 | Train acc: 0.996 | Test acc:0.947\n",
      "Epoch:13 | Train loss: 24.73 | Train acc: 0.997 | Test acc:0.946\n",
      "Without Dropout & Batch Normalization & Adversarial Training\n"
     ]
    },
    {
     "name": "stderr",
     "output_type": "stream",
     "text": [
      "/home/root/adversarial/Gal/models.py:421: FutureWarning: Using a non-tuple sequence for multidimensional indexing is deprecated; use `arr[tuple(seq)]` instead of `arr[seq]`. In the future this will be interpreted as an array index, `arr[np.array(seq)]`, which will result either in an error or a different result.\n",
      "  sample_X_train = X_train[[ind]] # X_train[[start_index,end_index]] ; this would let us take specific indices, so we can randomize the order, ensure each iteration is taking precisely unique samples\n",
      "/home/root/adversarial/Gal/models.py:422: FutureWarning: Using a non-tuple sequence for multidimensional indexing is deprecated; use `arr[tuple(seq)]` instead of `arr[seq]`. In the future this will be interpreted as an array index, `arr[np.array(seq)]`, which will result either in an error or a different result.\n",
      "  sample_Y_train = Y_train[[ind]]\n",
      "/usr/local/lib/python3.5/dist-packages/tensorflow_core/python/client/session.py:1750: UserWarning: An interactive session is already active. This can cause out-of-memory errors in some cases. You must explicitly call `InteractiveSession.close()` to release resources held by the other session(s).\n",
      "  warnings.warn('An interactive session is already active. This can '\n",
      "/home/root/adversarial/Gal/models.py:569: FutureWarning: Using a non-tuple sequence for multidimensional indexing is deprecated; use `arr[tuple(seq)]` instead of `arr[seq]`. In the future this will be interpreted as an array index, `arr[np.array(seq)]`, which will result either in an error or a different result.\n",
      "  sample_X_train = X_train[[ind]] # X_train[[start_index,end_index]] ; this would let us take specific indices, so we can randomize the order, ensure each iteration is taking precisely unique samples\n",
      "/home/root/adversarial/Gal/models.py:570: FutureWarning: Using a non-tuple sequence for multidimensional indexing is deprecated; use `arr[tuple(seq)]` instead of `arr[seq]`. In the future this will be interpreted as an array index, `arr[np.array(seq)]`, which will result either in an error or a different result.\n",
      "  sample_Y_train = Y_train[[ind]]\n"
     ]
    },
    {
     "name": "stdout",
     "output_type": "stream",
     "text": [
      "Epoch:0 | Train loss: 58.92 | Train acc: 0.800 | Test acc:0.914\n",
      "Epoch:1 | Train loss: 54.69 | Train acc: 0.831 | Test acc:0.935\n",
      "Epoch:2 | Train loss: 50.83 | Train acc: 0.841 | Test acc:0.941\n",
      "Epoch:3 | Train loss: 47.28 | Train acc: 0.846 | Test acc:0.945\n",
      "Epoch:4 | Train loss: 43.99 | Train acc: 0.848 | Test acc:0.947\n",
      "Epoch:5 | Train loss: 40.96 | Train acc: 0.850 | Test acc:0.948\n",
      "Epoch:6 | Train loss: 38.14 | Train acc: 0.850 | Test acc:0.951\n",
      "Epoch:7 | Train loss: 35.53 | Train acc: 0.850 | Test acc:0.948\n",
      "Epoch:8 | Train loss: 33.11 | Train acc: 0.848 | Test acc:0.953\n",
      "Epoch:9 | Train loss: 30.86 | Train acc: 0.848 | Test acc:0.954\n",
      "Epoch:10 | Train loss: 28.77 | Train acc: 0.848 | Test acc:0.951\n",
      "Epoch:11 | Train loss: 26.82 | Train acc: 0.851 | Test acc:0.952\n",
      "Epoch:12 | Train loss: 25.02 | Train acc: 0.849 | Test acc:0.954\n",
      "Epoch:13 | Train loss: 23.34 | Train acc: 0.850 | Test acc:0.954\n"
     ]
    }
   ],
   "source": [
    "entropy_val_MLPat_1, acc_MLPat_1, confi_MLPat_1 = ensembling_expt(1, MNIST_X_train, MNIST_Y_train, MNIST_X_val, MNIST_Y_val, MNIST_X_test, MNIST_Y_test, models.MLP_adversarialtraining)\n",
    "entropy_val_MLPat_5, acc_MLPat_5, confi_MLPat_5 = ensembling_expt(5, MNIST_X_train, MNIST_Y_train, MNIST_X_val, MNIST_Y_val, MNIST_X_test, MNIST_Y_test, models.MLP_adversarialtraining)\n",
    "entropy_val_MLPat_10, acc_MLPat_10, confi_MLPat_10 = ensembling_expt(10, MNIST_X_train, MNIST_Y_train, MNIST_X_val, MNIST_Y_val, MNIST_X_test, MNIST_Y_test, models.MLP_adversarialtraining)\n"
   ]
  },
  {
   "cell_type": "code",
   "execution_count": null,
   "metadata": {
    "scrolled": true
   },
   "outputs": [],
   "source": []
  },
  {
   "cell_type": "markdown",
   "metadata": {},
   "source": [
    "### notMNIST plots"
   ]
  },
  {
   "cell_type": "code",
   "execution_count": null,
   "metadata": {
    "scrolled": true
   },
   "outputs": [
    {
     "name": "stderr",
     "output_type": "stream",
     "text": [
      "/usr/local/lib/python3.5/dist-packages/ipykernel_launcher.py:13: FutureWarning: Using a non-tuple sequence for multidimensional indexing is deprecated; use `arr[tuple(seq)]` instead of `arr[seq]`. In the future this will be interpreted as an array index, `arr[np.array(seq)]`, which will result either in an error or a different result.\n",
      "  del sys.path[0]\n",
      "/usr/local/lib/python3.5/dist-packages/ipykernel_launcher.py:14: FutureWarning: Using a non-tuple sequence for multidimensional indexing is deprecated; use `arr[tuple(seq)]` instead of `arr[seq]`. In the future this will be interpreted as an array index, `arr[np.array(seq)]`, which will result either in an error or a different result.\n",
      "  \n",
      "/usr/local/lib/python3.5/dist-packages/tensorflow_core/python/client/session.py:1750: UserWarning: An interactive session is already active. This can cause out-of-memory errors in some cases. You must explicitly call `InteractiveSession.close()` to release resources held by the other session(s).\n",
      "  warnings.warn('An interactive session is already active. This can '\n"
     ]
    },
    {
     "name": "stdout",
     "output_type": "stream",
     "text": [
      "Without Dropout, Vanilla MLP\n",
      "Epoch:0 | Train loss: 33.88 | Train acc: 0.937 | Test acc:0.064\n",
      "Epoch:1 | Train loss: 19.04 | Train acc: 0.958 | Test acc:0.075\n",
      "Epoch:2 | Train loss: 10.93 | Train acc: 0.967 | Test acc:0.056\n",
      "Epoch:3 | Train loss: 6.47 | Train acc: 0.974 | Test acc:0.085\n",
      "Epoch:4 | Train loss: 4.04 | Train acc: 0.980 | Test acc:0.072\n",
      "Epoch:5 | Train loss: 2.74 | Train acc: 0.983 | Test acc:0.061\n",
      "Epoch:6 | Train loss: 2.06 | Train acc: 0.985 | Test acc:0.069\n",
      "Epoch:7 | Train loss: 1.73 | Train acc: 0.983 | Test acc:0.067\n",
      "Epoch:8 | Train loss: 1.57 | Train acc: 0.987 | Test acc:0.070\n",
      "Epoch:9 | Train loss: 1.51 | Train acc: 0.989 | Test acc:0.078\n",
      "Epoch:10 | Train loss: 1.48 | Train acc: 0.992 | Test acc:0.070\n",
      "Epoch:11 | Train loss: 1.47 | Train acc: 0.988 | Test acc:0.075\n",
      "Epoch:12 | Train loss: 1.47 | Train acc: 0.991 | Test acc:0.076\n",
      "Epoch:13 | Train loss: 1.47 | Train acc: 0.992 | Test acc:0.080\n"
     ]
    },
    {
     "name": "stderr",
     "output_type": "stream",
     "text": [
      "/usr/local/lib/python3.5/dist-packages/ipykernel_launcher.py:13: FutureWarning: Using a non-tuple sequence for multidimensional indexing is deprecated; use `arr[tuple(seq)]` instead of `arr[seq]`. In the future this will be interpreted as an array index, `arr[np.array(seq)]`, which will result either in an error or a different result.\n",
      "  del sys.path[0]\n",
      "/usr/local/lib/python3.5/dist-packages/ipykernel_launcher.py:14: FutureWarning: Using a non-tuple sequence for multidimensional indexing is deprecated; use `arr[tuple(seq)]` instead of `arr[seq]`. In the future this will be interpreted as an array index, `arr[np.array(seq)]`, which will result either in an error or a different result.\n",
      "  \n"
     ]
    },
    {
     "name": "stdout",
     "output_type": "stream",
     "text": [
      "Without Dropout, Vanilla MLP\n"
     ]
    },
    {
     "name": "stderr",
     "output_type": "stream",
     "text": [
      "/usr/local/lib/python3.5/dist-packages/tensorflow_core/python/client/session.py:1750: UserWarning: An interactive session is already active. This can cause out-of-memory errors in some cases. You must explicitly call `InteractiveSession.close()` to release resources held by the other session(s).\n",
      "  warnings.warn('An interactive session is already active. This can '\n"
     ]
    },
    {
     "name": "stdout",
     "output_type": "stream",
     "text": [
      "Epoch:0 | Train loss: 46.96 | Train acc: 0.877 | Test acc:0.057\n",
      "Epoch:1 | Train loss: 41.20 | Train acc: 0.922 | Test acc:0.067\n",
      "Epoch:2 | Train loss: 36.25 | Train acc: 0.932 | Test acc:0.074\n",
      "Epoch:3 | Train loss: 31.94 | Train acc: 0.944 | Test acc:0.070\n",
      "Epoch:4 | Train loss: 28.19 | Train acc: 0.956 | Test acc:0.085\n",
      "Epoch:5 | Train loss: 24.91 | Train acc: 0.958 | Test acc:0.076\n",
      "Epoch:6 | Train loss: 22.05 | Train acc: 0.957 | Test acc:0.072\n",
      "Epoch:7 | Train loss: 19.53 | Train acc: 0.967 | Test acc:0.072\n",
      "Epoch:8 | Train loss: 17.32 | Train acc: 0.971 | Test acc:0.063\n",
      "Epoch:9 | Train loss: 15.38 | Train acc: 0.976 | Test acc:0.067\n",
      "Epoch:10 | Train loss: 13.67 | Train acc: 0.980 | Test acc:0.065\n",
      "Epoch:11 | Train loss: 12.17 | Train acc: 0.978 | Test acc:0.062\n",
      "Epoch:12 | Train loss: 10.85 | Train acc: 0.984 | Test acc:0.060\n",
      "Epoch:13 | Train loss: 9.69 | Train acc: 0.982 | Test acc:0.052\n",
      "Without Dropout, Vanilla MLP\n"
     ]
    },
    {
     "name": "stderr",
     "output_type": "stream",
     "text": [
      "/usr/local/lib/python3.5/dist-packages/tensorflow_core/python/client/session.py:1750: UserWarning: An interactive session is already active. This can cause out-of-memory errors in some cases. You must explicitly call `InteractiveSession.close()` to release resources held by the other session(s).\n",
      "  warnings.warn('An interactive session is already active. This can '\n"
     ]
    },
    {
     "name": "stdout",
     "output_type": "stream",
     "text": [
      "Epoch:0 | Train loss: 57.16 | Train acc: 0.845 | Test acc:0.059\n",
      "Epoch:1 | Train loss: 50.69 | Train acc: 0.910 | Test acc:0.039\n",
      "Epoch:2 | Train loss: 45.03 | Train acc: 0.933 | Test acc:0.039\n",
      "Epoch:3 | Train loss: 40.06 | Train acc: 0.945 | Test acc:0.063\n",
      "Epoch:4 | Train loss: 35.67 | Train acc: 0.958 | Test acc:0.063\n",
      "Epoch:5 | Train loss: 31.79 | Train acc: 0.961 | Test acc:0.058\n",
      "Epoch:6 | Train loss: 28.36 | Train acc: 0.966 | Test acc:0.059\n",
      "Epoch:7 | Train loss: 25.31 | Train acc: 0.975 | Test acc:0.059\n",
      "Epoch:8 | Train loss: 22.61 | Train acc: 0.976 | Test acc:0.058\n",
      "Epoch:9 | Train loss: 20.22 | Train acc: 0.979 | Test acc:0.056\n",
      "Epoch:10 | Train loss: 18.10 | Train acc: 0.981 | Test acc:0.045\n",
      "Epoch:11 | Train loss: 16.21 | Train acc: 0.985 | Test acc:0.046\n",
      "Epoch:12 | Train loss: 14.53 | Train acc: 0.985 | Test acc:0.044\n",
      "Epoch:13 | Train loss: 13.05 | Train acc: 0.987 | Test acc:0.049\n",
      "Without Dropout, Vanilla MLP\n"
     ]
    },
    {
     "name": "stderr",
     "output_type": "stream",
     "text": [
      "/usr/local/lib/python3.5/dist-packages/tensorflow_core/python/client/session.py:1750: UserWarning: An interactive session is already active. This can cause out-of-memory errors in some cases. You must explicitly call `InteractiveSession.close()` to release resources held by the other session(s).\n",
      "  warnings.warn('An interactive session is already active. This can '\n"
     ]
    },
    {
     "name": "stdout",
     "output_type": "stream",
     "text": [
      "Epoch:0 | Train loss: 53.92 | Train acc: 0.856 | Test acc:0.084\n",
      "Epoch:1 | Train loss: 47.71 | Train acc: 0.911 | Test acc:0.062\n",
      "Epoch:2 | Train loss: 42.31 | Train acc: 0.930 | Test acc:0.065\n",
      "Epoch:3 | Train loss: 37.57 | Train acc: 0.945 | Test acc:0.063\n",
      "Epoch:4 | Train loss: 33.40 | Train acc: 0.951 | Test acc:0.060\n",
      "Epoch:5 | Train loss: 29.73 | Train acc: 0.959 | Test acc:0.058\n",
      "Epoch:6 | Train loss: 26.49 | Train acc: 0.962 | Test acc:0.068\n",
      "Epoch:7 | Train loss: 23.62 | Train acc: 0.970 | Test acc:0.069\n",
      "Epoch:8 | Train loss: 21.09 | Train acc: 0.974 | Test acc:0.056\n",
      "Epoch:9 | Train loss: 18.85 | Train acc: 0.977 | Test acc:0.062\n",
      "Epoch:10 | Train loss: 16.86 | Train acc: 0.979 | Test acc:0.063\n",
      "Epoch:11 | Train loss: 15.10 | Train acc: 0.980 | Test acc:0.067\n",
      "Epoch:12 | Train loss: 13.53 | Train acc: 0.983 | Test acc:0.063\n",
      "Epoch:13 | Train loss: 12.15 | Train acc: 0.984 | Test acc:0.062\n",
      "Without Dropout, Vanilla MLP\n"
     ]
    },
    {
     "name": "stderr",
     "output_type": "stream",
     "text": [
      "/usr/local/lib/python3.5/dist-packages/tensorflow_core/python/client/session.py:1750: UserWarning: An interactive session is already active. This can cause out-of-memory errors in some cases. You must explicitly call `InteractiveSession.close()` to release resources held by the other session(s).\n",
      "  warnings.warn('An interactive session is already active. This can '\n"
     ]
    },
    {
     "name": "stdout",
     "output_type": "stream",
     "text": [
      "Epoch:0 | Train loss: 53.48 | Train acc: 0.888 | Test acc:0.041\n",
      "Epoch:1 | Train loss: 47.30 | Train acc: 0.918 | Test acc:0.046\n",
      "Epoch:2 | Train loss: 41.91 | Train acc: 0.932 | Test acc:0.055\n",
      "Epoch:3 | Train loss: 37.18 | Train acc: 0.942 | Test acc:0.050\n",
      "Epoch:4 | Train loss: 33.02 | Train acc: 0.952 | Test acc:0.057\n",
      "Epoch:5 | Train loss: 29.35 | Train acc: 0.960 | Test acc:0.052\n",
      "Epoch:6 | Train loss: 26.10 | Train acc: 0.959 | Test acc:0.041\n",
      "Epoch:7 | Train loss: 23.22 | Train acc: 0.972 | Test acc:0.051\n",
      "Epoch:8 | Train loss: 20.68 | Train acc: 0.974 | Test acc:0.043\n",
      "Epoch:9 | Train loss: 18.42 | Train acc: 0.976 | Test acc:0.047\n",
      "Epoch:10 | Train loss: 16.43 | Train acc: 0.976 | Test acc:0.045\n",
      "Epoch:11 | Train loss: 14.65 | Train acc: 0.981 | Test acc:0.042\n",
      "Epoch:12 | Train loss: 13.08 | Train acc: 0.983 | Test acc:0.042\n",
      "Epoch:13 | Train loss: 11.69 | Train acc: 0.987 | Test acc:0.040\n",
      "Without Dropout, Vanilla MLP\n"
     ]
    },
    {
     "name": "stderr",
     "output_type": "stream",
     "text": [
      "/usr/local/lib/python3.5/dist-packages/tensorflow_core/python/client/session.py:1750: UserWarning: An interactive session is already active. This can cause out-of-memory errors in some cases. You must explicitly call `InteractiveSession.close()` to release resources held by the other session(s).\n",
      "  warnings.warn('An interactive session is already active. This can '\n"
     ]
    },
    {
     "name": "stdout",
     "output_type": "stream",
     "text": [
      "Epoch:0 | Train loss: 56.01 | Train acc: 0.861 | Test acc:0.055\n",
      "Epoch:1 | Train loss: 49.49 | Train acc: 0.913 | Test acc:0.050\n",
      "Epoch:2 | Train loss: 43.79 | Train acc: 0.926 | Test acc:0.070\n",
      "Epoch:3 | Train loss: 38.77 | Train acc: 0.944 | Test acc:0.062\n",
      "Epoch:4 | Train loss: 34.35 | Train acc: 0.952 | Test acc:0.062\n",
      "Epoch:5 | Train loss: 30.44 | Train acc: 0.957 | Test acc:0.073\n",
      "Epoch:6 | Train loss: 26.99 | Train acc: 0.965 | Test acc:0.076\n",
      "Epoch:7 | Train loss: 23.94 | Train acc: 0.967 | Test acc:0.080\n",
      "Epoch:8 | Train loss: 21.24 | Train acc: 0.974 | Test acc:0.082\n",
      "Epoch:9 | Train loss: 18.86 | Train acc: 0.975 | Test acc:0.087\n",
      "Epoch:10 | Train loss: 16.75 | Train acc: 0.979 | Test acc:0.089\n",
      "Epoch:11 | Train loss: 14.89 | Train acc: 0.982 | Test acc:0.088\n",
      "Epoch:12 | Train loss: 13.24 | Train acc: 0.984 | Test acc:0.087\n",
      "Epoch:13 | Train loss: 11.78 | Train acc: 0.986 | Test acc:0.087\n"
     ]
    },
    {
     "name": "stderr",
     "output_type": "stream",
     "text": [
      "/usr/local/lib/python3.5/dist-packages/ipykernel_launcher.py:13: FutureWarning: Using a non-tuple sequence for multidimensional indexing is deprecated; use `arr[tuple(seq)]` instead of `arr[seq]`. In the future this will be interpreted as an array index, `arr[np.array(seq)]`, which will result either in an error or a different result.\n",
      "  del sys.path[0]\n",
      "/usr/local/lib/python3.5/dist-packages/ipykernel_launcher.py:14: FutureWarning: Using a non-tuple sequence for multidimensional indexing is deprecated; use `arr[tuple(seq)]` instead of `arr[seq]`. In the future this will be interpreted as an array index, `arr[np.array(seq)]`, which will result either in an error or a different result.\n",
      "  \n",
      "/usr/local/lib/python3.5/dist-packages/tensorflow_core/python/client/session.py:1750: UserWarning: An interactive session is already active. This can cause out-of-memory errors in some cases. You must explicitly call `InteractiveSession.close()` to release resources held by the other session(s).\n",
      "  warnings.warn('An interactive session is already active. This can '\n"
     ]
    },
    {
     "name": "stdout",
     "output_type": "stream",
     "text": [
      "Without Dropout, Vanilla MLP\n",
      "Epoch:0 | Train loss: 67.85 | Train acc: 0.742 | Test acc:0.057\n",
      "Epoch:1 | Train loss: 63.97 | Train acc: 0.828 | Test acc:0.061\n",
      "Epoch:2 | Train loss: 60.40 | Train acc: 0.846 | Test acc:0.051\n",
      "Epoch:3 | Train loss: 57.05 | Train acc: 0.905 | Test acc:0.070\n",
      "Epoch:4 | Train loss: 53.91 | Train acc: 0.907 | Test acc:0.071\n",
      "Epoch:5 | Train loss: 50.96 | Train acc: 0.932 | Test acc:0.071\n",
      "Epoch:6 | Train loss: 48.18 | Train acc: 0.939 | Test acc:0.075\n",
      "Epoch:7 | Train loss: 45.56 | Train acc: 0.947 | Test acc:0.078\n",
      "Epoch:8 | Train loss: 43.09 | Train acc: 0.955 | Test acc:0.075\n",
      "Epoch:9 | Train loss: 40.77 | Train acc: 0.959 | Test acc:0.075\n",
      "Epoch:10 | Train loss: 38.57 | Train acc: 0.964 | Test acc:0.078\n",
      "Epoch:11 | Train loss: 36.50 | Train acc: 0.969 | Test acc:0.069\n",
      "Epoch:12 | Train loss: 34.54 | Train acc: 0.973 | Test acc:0.070\n",
      "Epoch:13 | Train loss: 32.70 | Train acc: 0.976 | Test acc:0.065\n",
      "Without Dropout, Vanilla MLP\n"
     ]
    },
    {
     "name": "stderr",
     "output_type": "stream",
     "text": [
      "/usr/local/lib/python3.5/dist-packages/tensorflow_core/python/client/session.py:1750: UserWarning: An interactive session is already active. This can cause out-of-memory errors in some cases. You must explicitly call `InteractiveSession.close()` to release resources held by the other session(s).\n",
      "  warnings.warn('An interactive session is already active. This can '\n"
     ]
    },
    {
     "name": "stdout",
     "output_type": "stream",
     "text": [
      "Epoch:0 | Train loss: 56.89 | Train acc: 0.787 | Test acc:0.076\n",
      "Epoch:1 | Train loss: 53.42 | Train acc: 0.823 | Test acc:0.073\n",
      "Epoch:2 | Train loss: 50.24 | Train acc: 0.884 | Test acc:0.076\n",
      "Epoch:3 | Train loss: 47.28 | Train acc: 0.908 | Test acc:0.087\n",
      "Epoch:4 | Train loss: 44.52 | Train acc: 0.916 | Test acc:0.075\n",
      "Epoch:5 | Train loss: 41.93 | Train acc: 0.940 | Test acc:0.083\n",
      "Epoch:6 | Train loss: 39.51 | Train acc: 0.944 | Test acc:0.081\n",
      "Epoch:7 | Train loss: 37.24 | Train acc: 0.949 | Test acc:0.077\n",
      "Epoch:8 | Train loss: 35.11 | Train acc: 0.959 | Test acc:0.078\n",
      "Epoch:9 | Train loss: 33.11 | Train acc: 0.959 | Test acc:0.078\n",
      "Epoch:10 | Train loss: 31.24 | Train acc: 0.964 | Test acc:0.078\n",
      "Epoch:11 | Train loss: 29.48 | Train acc: 0.968 | Test acc:0.077\n",
      "Epoch:12 | Train loss: 27.83 | Train acc: 0.969 | Test acc:0.075\n",
      "Epoch:13 | Train loss: 26.28 | Train acc: 0.974 | Test acc:0.076\n",
      "Without Dropout, Vanilla MLP\n"
     ]
    },
    {
     "name": "stderr",
     "output_type": "stream",
     "text": [
      "/usr/local/lib/python3.5/dist-packages/tensorflow_core/python/client/session.py:1750: UserWarning: An interactive session is already active. This can cause out-of-memory errors in some cases. You must explicitly call `InteractiveSession.close()` to release resources held by the other session(s).\n",
      "  warnings.warn('An interactive session is already active. This can '\n"
     ]
    },
    {
     "name": "stdout",
     "output_type": "stream",
     "text": [
      "Epoch:0 | Train loss: 53.83 | Train acc: 0.801 | Test acc:0.090\n",
      "Epoch:1 | Train loss: 50.40 | Train acc: 0.890 | Test acc:0.061\n",
      "Epoch:2 | Train loss: 47.27 | Train acc: 0.920 | Test acc:0.062\n",
      "Epoch:3 | Train loss: 44.39 | Train acc: 0.928 | Test acc:0.068\n",
      "Epoch:4 | Train loss: 41.70 | Train acc: 0.937 | Test acc:0.077\n",
      "Epoch:5 | Train loss: 39.18 | Train acc: 0.948 | Test acc:0.074\n",
      "Epoch:6 | Train loss: 36.83 | Train acc: 0.958 | Test acc:0.074\n",
      "Epoch:7 | Train loss: 34.64 | Train acc: 0.958 | Test acc:0.074\n",
      "Epoch:8 | Train loss: 32.58 | Train acc: 0.962 | Test acc:0.073\n",
      "Epoch:9 | Train loss: 30.64 | Train acc: 0.969 | Test acc:0.074\n",
      "Epoch:10 | Train loss: 28.84 | Train acc: 0.972 | Test acc:0.069\n",
      "Epoch:11 | Train loss: 27.14 | Train acc: 0.975 | Test acc:0.069\n",
      "Epoch:12 | Train loss: 25.54 | Train acc: 0.978 | Test acc:0.072\n",
      "Epoch:13 | Train loss: 24.05 | Train acc: 0.981 | Test acc:0.073\n",
      "Without Dropout, Vanilla MLP\n"
     ]
    },
    {
     "name": "stderr",
     "output_type": "stream",
     "text": [
      "/usr/local/lib/python3.5/dist-packages/tensorflow_core/python/client/session.py:1750: UserWarning: An interactive session is already active. This can cause out-of-memory errors in some cases. You must explicitly call `InteractiveSession.close()` to release resources held by the other session(s).\n",
      "  warnings.warn('An interactive session is already active. This can '\n"
     ]
    },
    {
     "name": "stdout",
     "output_type": "stream",
     "text": [
      "Epoch:0 | Train loss: 59.00 | Train acc: 0.808 | Test acc:0.089\n",
      "Epoch:1 | Train loss: 55.33 | Train acc: 0.870 | Test acc:0.076\n",
      "Epoch:2 | Train loss: 51.95 | Train acc: 0.882 | Test acc:0.080\n",
      "Epoch:3 | Train loss: 48.82 | Train acc: 0.913 | Test acc:0.065\n",
      "Epoch:4 | Train loss: 45.88 | Train acc: 0.930 | Test acc:0.060\n",
      "Epoch:5 | Train loss: 43.14 | Train acc: 0.942 | Test acc:0.053\n",
      "Epoch:6 | Train loss: 40.57 | Train acc: 0.947 | Test acc:0.057\n",
      "Epoch:7 | Train loss: 38.16 | Train acc: 0.957 | Test acc:0.045\n",
      "Epoch:8 | Train loss: 35.91 | Train acc: 0.958 | Test acc:0.047\n",
      "Epoch:9 | Train loss: 33.80 | Train acc: 0.959 | Test acc:0.051\n",
      "Epoch:10 | Train loss: 31.82 | Train acc: 0.968 | Test acc:0.041\n",
      "Epoch:11 | Train loss: 29.96 | Train acc: 0.971 | Test acc:0.049\n",
      "Epoch:12 | Train loss: 28.21 | Train acc: 0.973 | Test acc:0.055\n",
      "Epoch:13 | Train loss: 26.58 | Train acc: 0.975 | Test acc:0.044\n",
      "Without Dropout, Vanilla MLP\n"
     ]
    },
    {
     "name": "stderr",
     "output_type": "stream",
     "text": [
      "/usr/local/lib/python3.5/dist-packages/tensorflow_core/python/client/session.py:1750: UserWarning: An interactive session is already active. This can cause out-of-memory errors in some cases. You must explicitly call `InteractiveSession.close()` to release resources held by the other session(s).\n",
      "  warnings.warn('An interactive session is already active. This can '\n"
     ]
    },
    {
     "name": "stdout",
     "output_type": "stream",
     "text": [
      "Epoch:0 | Train loss: 53.30 | Train acc: 0.746 | Test acc:0.073\n",
      "Epoch:1 | Train loss: 49.91 | Train acc: 0.877 | Test acc:0.036\n",
      "Epoch:2 | Train loss: 46.81 | Train acc: 0.906 | Test acc:0.038\n",
      "Epoch:3 | Train loss: 43.94 | Train acc: 0.921 | Test acc:0.053\n",
      "Epoch:4 | Train loss: 41.27 | Train acc: 0.932 | Test acc:0.062\n",
      "Epoch:5 | Train loss: 38.78 | Train acc: 0.946 | Test acc:0.069\n",
      "Epoch:6 | Train loss: 36.46 | Train acc: 0.948 | Test acc:0.077\n",
      "Epoch:7 | Train loss: 34.29 | Train acc: 0.957 | Test acc:0.062\n",
      "Epoch:8 | Train loss: 32.26 | Train acc: 0.966 | Test acc:0.067\n",
      "Epoch:9 | Train loss: 30.36 | Train acc: 0.968 | Test acc:0.079\n",
      "Epoch:10 | Train loss: 28.58 | Train acc: 0.971 | Test acc:0.078\n",
      "Epoch:11 | Train loss: 26.91 | Train acc: 0.973 | Test acc:0.071\n",
      "Epoch:12 | Train loss: 25.35 | Train acc: 0.979 | Test acc:0.076\n",
      "Epoch:13 | Train loss: 23.88 | Train acc: 0.982 | Test acc:0.069\n",
      "Without Dropout, Vanilla MLP\n"
     ]
    },
    {
     "name": "stderr",
     "output_type": "stream",
     "text": [
      "/usr/local/lib/python3.5/dist-packages/tensorflow_core/python/client/session.py:1750: UserWarning: An interactive session is already active. This can cause out-of-memory errors in some cases. You must explicitly call `InteractiveSession.close()` to release resources held by the other session(s).\n",
      "  warnings.warn('An interactive session is already active. This can '\n"
     ]
    },
    {
     "name": "stdout",
     "output_type": "stream",
     "text": [
      "Epoch:0 | Train loss: 61.80 | Train acc: 0.803 | Test acc:0.057\n",
      "Epoch:1 | Train loss: 58.06 | Train acc: 0.834 | Test acc:0.077\n",
      "Epoch:2 | Train loss: 54.61 | Train acc: 0.885 | Test acc:0.064\n",
      "Epoch:3 | Train loss: 51.38 | Train acc: 0.917 | Test acc:0.063\n",
      "Epoch:4 | Train loss: 48.36 | Train acc: 0.935 | Test acc:0.066\n",
      "Epoch:5 | Train loss: 45.54 | Train acc: 0.931 | Test acc:0.076\n",
      "Epoch:6 | Train loss: 42.88 | Train acc: 0.949 | Test acc:0.064\n",
      "Epoch:7 | Train loss: 40.39 | Train acc: 0.954 | Test acc:0.070\n",
      "Epoch:8 | Train loss: 38.05 | Train acc: 0.961 | Test acc:0.074\n",
      "Epoch:9 | Train loss: 35.85 | Train acc: 0.963 | Test acc:0.065\n",
      "Epoch:10 | Train loss: 33.78 | Train acc: 0.967 | Test acc:0.070\n",
      "Epoch:11 | Train loss: 31.83 | Train acc: 0.972 | Test acc:0.073\n",
      "Epoch:12 | Train loss: 30.00 | Train acc: 0.974 | Test acc:0.075\n",
      "Epoch:13 | Train loss: 28.28 | Train acc: 0.974 | Test acc:0.075\n",
      "Without Dropout, Vanilla MLP\n"
     ]
    },
    {
     "name": "stderr",
     "output_type": "stream",
     "text": [
      "/usr/local/lib/python3.5/dist-packages/tensorflow_core/python/client/session.py:1750: UserWarning: An interactive session is already active. This can cause out-of-memory errors in some cases. You must explicitly call `InteractiveSession.close()` to release resources held by the other session(s).\n",
      "  warnings.warn('An interactive session is already active. This can '\n"
     ]
    },
    {
     "name": "stdout",
     "output_type": "stream",
     "text": [
      "Epoch:0 | Train loss: 56.28 | Train acc: 0.759 | Test acc:0.050\n",
      "Epoch:1 | Train loss: 52.79 | Train acc: 0.854 | Test acc:0.046\n",
      "Epoch:2 | Train loss: 49.60 | Train acc: 0.880 | Test acc:0.045\n",
      "Epoch:3 | Train loss: 46.62 | Train acc: 0.886 | Test acc:0.050\n",
      "Epoch:4 | Train loss: 43.85 | Train acc: 0.902 | Test acc:0.052\n",
      "Epoch:5 | Train loss: 41.25 | Train acc: 0.934 | Test acc:0.061\n",
      "Epoch:6 | Train loss: 38.82 | Train acc: 0.943 | Test acc:0.058\n",
      "Epoch:7 | Train loss: 36.54 | Train acc: 0.952 | Test acc:0.053\n",
      "Epoch:8 | Train loss: 34.40 | Train acc: 0.962 | Test acc:0.062\n",
      "Epoch:9 | Train loss: 32.40 | Train acc: 0.968 | Test acc:0.067\n",
      "Epoch:10 | Train loss: 30.52 | Train acc: 0.972 | Test acc:0.069\n",
      "Epoch:11 | Train loss: 28.76 | Train acc: 0.970 | Test acc:0.066\n",
      "Epoch:12 | Train loss: 27.10 | Train acc: 0.976 | Test acc:0.070\n",
      "Epoch:13 | Train loss: 25.54 | Train acc: 0.979 | Test acc:0.068\n",
      "Without Dropout, Vanilla MLP\n"
     ]
    },
    {
     "name": "stderr",
     "output_type": "stream",
     "text": [
      "/usr/local/lib/python3.5/dist-packages/tensorflow_core/python/client/session.py:1750: UserWarning: An interactive session is already active. This can cause out-of-memory errors in some cases. You must explicitly call `InteractiveSession.close()` to release resources held by the other session(s).\n",
      "  warnings.warn('An interactive session is already active. This can '\n"
     ]
    },
    {
     "name": "stdout",
     "output_type": "stream",
     "text": [
      "Epoch:0 | Train loss: 57.47 | Train acc: 0.787 | Test acc:0.065\n",
      "Epoch:1 | Train loss: 53.88 | Train acc: 0.858 | Test acc:0.068\n",
      "Epoch:2 | Train loss: 50.60 | Train acc: 0.860 | Test acc:0.078\n",
      "Epoch:3 | Train loss: 47.56 | Train acc: 0.886 | Test acc:0.078\n",
      "Epoch:4 | Train loss: 44.70 | Train acc: 0.928 | Test acc:0.075\n",
      "Epoch:5 | Train loss: 42.04 | Train acc: 0.935 | Test acc:0.074\n",
      "Epoch:6 | Train loss: 39.56 | Train acc: 0.947 | Test acc:0.073\n",
      "Epoch:7 | Train loss: 37.23 | Train acc: 0.951 | Test acc:0.076\n",
      "Epoch:8 | Train loss: 35.05 | Train acc: 0.958 | Test acc:0.080\n",
      "Epoch:9 | Train loss: 33.00 | Train acc: 0.960 | Test acc:0.075\n",
      "Epoch:10 | Train loss: 31.09 | Train acc: 0.960 | Test acc:0.088\n",
      "Epoch:11 | Train loss: 29.28 | Train acc: 0.968 | Test acc:0.088\n",
      "Epoch:12 | Train loss: 27.60 | Train acc: 0.971 | Test acc:0.083\n",
      "Epoch:13 | Train loss: 26.01 | Train acc: 0.973 | Test acc:0.086\n",
      "Without Dropout, Vanilla MLP\n"
     ]
    },
    {
     "name": "stderr",
     "output_type": "stream",
     "text": [
      "/usr/local/lib/python3.5/dist-packages/tensorflow_core/python/client/session.py:1750: UserWarning: An interactive session is already active. This can cause out-of-memory errors in some cases. You must explicitly call `InteractiveSession.close()` to release resources held by the other session(s).\n",
      "  warnings.warn('An interactive session is already active. This can '\n"
     ]
    },
    {
     "name": "stdout",
     "output_type": "stream",
     "text": [
      "Epoch:0 | Train loss: 59.47 | Train acc: 0.836 | Test acc:0.052\n",
      "Epoch:1 | Train loss: 55.81 | Train acc: 0.847 | Test acc:0.080\n",
      "Epoch:2 | Train loss: 52.46 | Train acc: 0.882 | Test acc:0.086\n",
      "Epoch:3 | Train loss: 49.32 | Train acc: 0.909 | Test acc:0.086\n",
      "Epoch:4 | Train loss: 46.40 | Train acc: 0.926 | Test acc:0.088\n",
      "Epoch:5 | Train loss: 43.67 | Train acc: 0.938 | Test acc:0.084\n",
      "Epoch:6 | Train loss: 41.10 | Train acc: 0.950 | Test acc:0.085\n",
      "Epoch:7 | Train loss: 38.70 | Train acc: 0.946 | Test acc:0.080\n",
      "Epoch:8 | Train loss: 36.44 | Train acc: 0.960 | Test acc:0.082\n",
      "Epoch:9 | Train loss: 34.32 | Train acc: 0.965 | Test acc:0.077\n",
      "Epoch:10 | Train loss: 32.34 | Train acc: 0.967 | Test acc:0.090\n",
      "Epoch:11 | Train loss: 30.47 | Train acc: 0.971 | Test acc:0.080\n",
      "Epoch:12 | Train loss: 28.71 | Train acc: 0.973 | Test acc:0.084\n",
      "Epoch:13 | Train loss: 27.06 | Train acc: 0.970 | Test acc:0.069\n",
      "Without Dropout, Vanilla MLP\n"
     ]
    },
    {
     "name": "stderr",
     "output_type": "stream",
     "text": [
      "/usr/local/lib/python3.5/dist-packages/tensorflow_core/python/client/session.py:1750: UserWarning: An interactive session is already active. This can cause out-of-memory errors in some cases. You must explicitly call `InteractiveSession.close()` to release resources held by the other session(s).\n",
      "  warnings.warn('An interactive session is already active. This can '\n"
     ]
    },
    {
     "name": "stdout",
     "output_type": "stream",
     "text": [
      "Epoch:0 | Train loss: 61.39 | Train acc: 0.817 | Test acc:0.064\n",
      "Epoch:1 | Train loss: 57.68 | Train acc: 0.870 | Test acc:0.056\n",
      "Epoch:2 | Train loss: 54.26 | Train acc: 0.898 | Test acc:0.042\n",
      "Epoch:3 | Train loss: 51.07 | Train acc: 0.920 | Test acc:0.062\n",
      "Epoch:4 | Train loss: 48.09 | Train acc: 0.928 | Test acc:0.072\n",
      "Epoch:5 | Train loss: 45.29 | Train acc: 0.943 | Test acc:0.060\n",
      "Epoch:6 | Train loss: 42.67 | Train acc: 0.948 | Test acc:0.061\n",
      "Epoch:7 | Train loss: 40.22 | Train acc: 0.947 | Test acc:0.063\n",
      "Epoch:8 | Train loss: 37.91 | Train acc: 0.958 | Test acc:0.055\n",
      "Epoch:9 | Train loss: 35.74 | Train acc: 0.955 | Test acc:0.062\n",
      "Epoch:10 | Train loss: 33.70 | Train acc: 0.966 | Test acc:0.042\n",
      "Epoch:11 | Train loss: 31.78 | Train acc: 0.968 | Test acc:0.053\n",
      "Epoch:12 | Train loss: 29.98 | Train acc: 0.969 | Test acc:0.041\n",
      "Epoch:13 | Train loss: 28.28 | Train acc: 0.971 | Test acc:0.046\n"
     ]
    }
   ],
   "source": [
    "Nentropy_val_MLP_1, Nacc_MLP_1, Nconfi_MLP_1 = ensembling_expt(1, MNIST_X_train, MNIST_Y_train, notMNIST_X_val, notMNIST_Y_val, notMNIST_X_test, notMNIST_Y_test, models.MLP)\n",
    "Nentropy_val_MLP_5, Nacc_MLP_5, Nconfi_MLP_5 = ensembling_expt(5, MNIST_X_train, MNIST_Y_train, notMNIST_X_val, notMNIST_Y_val, notMNIST_X_test, notMNIST_Y_test, models.MLP)\n",
    "Nentropy_val_MLP_10, Nacc_MLP_10, Nconfi_MLP_10 = ensembling_expt(10, MNIST_X_train, MNIST_Y_train, notMNIST_X_val, notMNIST_Y_val, notMNIST_X_test, notMNIST_Y_test, models.MLP)\n"
   ]
  },
  {
   "cell_type": "code",
   "execution_count": null,
   "metadata": {
    "scrolled": true
   },
   "outputs": [
    {
     "name": "stderr",
     "output_type": "stream",
     "text": [
      "/usr/local/lib/python3.5/dist-packages/ipykernel_launcher.py:13: FutureWarning: Using a non-tuple sequence for multidimensional indexing is deprecated; use `arr[tuple(seq)]` instead of `arr[seq]`. In the future this will be interpreted as an array index, `arr[np.array(seq)]`, which will result either in an error or a different result.\n",
      "  del sys.path[0]\n",
      "/usr/local/lib/python3.5/dist-packages/ipykernel_launcher.py:14: FutureWarning: Using a non-tuple sequence for multidimensional indexing is deprecated; use `arr[tuple(seq)]` instead of `arr[seq]`. In the future this will be interpreted as an array index, `arr[np.array(seq)]`, which will result either in an error or a different result.\n",
      "  \n"
     ]
    },
    {
     "name": "stdout",
     "output_type": "stream",
     "text": [
      "Without Dropout, MLP with random perturbations\n"
     ]
    },
    {
     "name": "stderr",
     "output_type": "stream",
     "text": [
      "/home/root/adversarial/Gal/models.py:656: FutureWarning: Using a non-tuple sequence for multidimensional indexing is deprecated; use `arr[tuple(seq)]` instead of `arr[seq]`. In the future this will be interpreted as an array index, `arr[np.array(seq)]`, which will result either in an error or a different result.\n",
      "  sample_X_train = X_train[[ind]] # X_train[[start_index,end_index]] ; this would let us take specific indices, so we can randomize the order, ensure each iteration is taking precisely unique samples\n",
      "/home/root/adversarial/Gal/models.py:657: FutureWarning: Using a non-tuple sequence for multidimensional indexing is deprecated; use `arr[tuple(seq)]` instead of `arr[seq]`. In the future this will be interpreted as an array index, `arr[np.array(seq)]`, which will result either in an error or a different result.\n",
      "  sample_Y_train = Y_train[[ind]]\n",
      "/usr/local/lib/python3.5/dist-packages/tensorflow_core/python/client/session.py:1750: UserWarning: An interactive session is already active. This can cause out-of-memory errors in some cases. You must explicitly call `InteractiveSession.close()` to release resources held by the other session(s).\n",
      "  warnings.warn('An interactive session is already active. This can '\n"
     ]
    },
    {
     "name": "stdout",
     "output_type": "stream",
     "text": [
      "New training set shape (X,Y):  ((60000, 784), (60000, 10))\n",
      "Epoch:0 | Train loss: 29.11 | Train acc: 0.757 | Test acc:0.094\n",
      "Epoch:1 | Train loss: 14.90 | Train acc: 0.917 | Test acc:0.065\n",
      "Epoch:2 | Train loss: 7.93 | Train acc: 0.946 | Test acc:0.054\n",
      "Epoch:3 | Train loss: 4.47 | Train acc: 0.971 | Test acc:0.091\n",
      "Epoch:4 | Train loss: 2.81 | Train acc: 0.978 | Test acc:0.086\n",
      "Epoch:5 | Train loss: 2.04 | Train acc: 0.973 | Test acc:0.089\n",
      "Epoch:6 | Train loss: 1.70 | Train acc: 0.976 | Test acc:0.086\n",
      "Epoch:7 | Train loss: 1.56 | Train acc: 0.976 | Test acc:0.107\n",
      "Epoch:8 | Train loss: 1.50 | Train acc: 0.984 | Test acc:0.094\n",
      "Epoch:9 | Train loss: 1.48 | Train acc: 0.979 | Test acc:0.089\n",
      "Epoch:10 | Train loss: 1.47 | Train acc: 0.989 | Test acc:0.102\n",
      "Epoch:11 | Train loss: 1.47 | Train acc: 0.983 | Test acc:0.110\n",
      "Epoch:12 | Train loss: 1.51 | Train acc: 0.935 | Test acc:0.068\n",
      "Epoch:13 | Train loss: 1.47 | Train acc: 0.991 | Test acc:0.083\n"
     ]
    },
    {
     "name": "stderr",
     "output_type": "stream",
     "text": [
      "/usr/local/lib/python3.5/dist-packages/ipykernel_launcher.py:13: FutureWarning: Using a non-tuple sequence for multidimensional indexing is deprecated; use `arr[tuple(seq)]` instead of `arr[seq]`. In the future this will be interpreted as an array index, `arr[np.array(seq)]`, which will result either in an error or a different result.\n",
      "  del sys.path[0]\n",
      "/usr/local/lib/python3.5/dist-packages/ipykernel_launcher.py:14: FutureWarning: Using a non-tuple sequence for multidimensional indexing is deprecated; use `arr[tuple(seq)]` instead of `arr[seq]`. In the future this will be interpreted as an array index, `arr[np.array(seq)]`, which will result either in an error or a different result.\n",
      "  \n",
      "/home/root/adversarial/Gal/models.py:656: FutureWarning: Using a non-tuple sequence for multidimensional indexing is deprecated; use `arr[tuple(seq)]` instead of `arr[seq]`. In the future this will be interpreted as an array index, `arr[np.array(seq)]`, which will result either in an error or a different result.\n",
      "  sample_X_train = X_train[[ind]] # X_train[[start_index,end_index]] ; this would let us take specific indices, so we can randomize the order, ensure each iteration is taking precisely unique samples\n",
      "/home/root/adversarial/Gal/models.py:657: FutureWarning: Using a non-tuple sequence for multidimensional indexing is deprecated; use `arr[tuple(seq)]` instead of `arr[seq]`. In the future this will be interpreted as an array index, `arr[np.array(seq)]`, which will result either in an error or a different result.\n",
      "  sample_Y_train = Y_train[[ind]]\n"
     ]
    },
    {
     "name": "stdout",
     "output_type": "stream",
     "text": [
      "Without Dropout, MLP with random perturbations\n"
     ]
    },
    {
     "name": "stderr",
     "output_type": "stream",
     "text": [
      "/usr/local/lib/python3.5/dist-packages/tensorflow_core/python/client/session.py:1750: UserWarning: An interactive session is already active. This can cause out-of-memory errors in some cases. You must explicitly call `InteractiveSession.close()` to release resources held by the other session(s).\n",
      "  warnings.warn('An interactive session is already active. This can '\n"
     ]
    },
    {
     "name": "stdout",
     "output_type": "stream",
     "text": [
      "New training set shape (X,Y):  ((12000, 784), (12000, 10))\n",
      "Epoch:0 | Train loss: 51.24 | Train acc: 0.734 | Test acc:0.072\n",
      "Epoch:1 | Train loss: 44.32 | Train acc: 0.824 | Test acc:0.049\n",
      "Epoch:2 | Train loss: 38.40 | Train acc: 0.905 | Test acc:0.068\n",
      "Epoch:3 | Train loss: 33.39 | Train acc: 0.843 | Test acc:0.099\n",
      "Epoch:4 | Train loss: 29.03 | Train acc: 0.920 | Test acc:0.070\n",
      "Epoch:5 | Train loss: 25.27 | Train acc: 0.941 | Test acc:0.089\n",
      "Epoch:6 | Train loss: 22.03 | Train acc: 0.955 | Test acc:0.066\n",
      "Epoch:7 | Train loss: 19.30 | Train acc: 0.838 | Test acc:0.070\n",
      "Epoch:8 | Train loss: 16.85 | Train acc: 0.908 | Test acc:0.065\n",
      "Epoch:9 | Train loss: 14.71 | Train acc: 0.968 | Test acc:0.070\n",
      "Epoch:10 | Train loss: 12.89 | Train acc: 0.966 | Test acc:0.065\n",
      "Epoch:11 | Train loss: 11.31 | Train acc: 0.968 | Test acc:0.064\n",
      "Epoch:12 | Train loss: 9.94 | Train acc: 0.969 | Test acc:0.073\n",
      "Epoch:13 | Train loss: 8.75 | Train acc: 0.979 | Test acc:0.065\n",
      "Without Dropout, MLP with random perturbations\n"
     ]
    },
    {
     "name": "stderr",
     "output_type": "stream",
     "text": [
      "/home/root/adversarial/Gal/models.py:656: FutureWarning: Using a non-tuple sequence for multidimensional indexing is deprecated; use `arr[tuple(seq)]` instead of `arr[seq]`. In the future this will be interpreted as an array index, `arr[np.array(seq)]`, which will result either in an error or a different result.\n",
      "  sample_X_train = X_train[[ind]] # X_train[[start_index,end_index]] ; this would let us take specific indices, so we can randomize the order, ensure each iteration is taking precisely unique samples\n",
      "/home/root/adversarial/Gal/models.py:657: FutureWarning: Using a non-tuple sequence for multidimensional indexing is deprecated; use `arr[tuple(seq)]` instead of `arr[seq]`. In the future this will be interpreted as an array index, `arr[np.array(seq)]`, which will result either in an error or a different result.\n",
      "  sample_Y_train = Y_train[[ind]]\n",
      "/usr/local/lib/python3.5/dist-packages/tensorflow_core/python/client/session.py:1750: UserWarning: An interactive session is already active. This can cause out-of-memory errors in some cases. You must explicitly call `InteractiveSession.close()` to release resources held by the other session(s).\n",
      "  warnings.warn('An interactive session is already active. This can '\n"
     ]
    },
    {
     "name": "stdout",
     "output_type": "stream",
     "text": [
      "New training set shape (X,Y):  ((12000, 784), (12000, 10))\n",
      "Epoch:0 | Train loss: 50.52 | Train acc: 0.332 | Test acc:0.063\n",
      "Epoch:1 | Train loss: 43.52 | Train acc: 0.840 | Test acc:0.049\n",
      "Epoch:2 | Train loss: 37.66 | Train acc: 0.855 | Test acc:0.056\n",
      "Epoch:3 | Train loss: 32.68 | Train acc: 0.849 | Test acc:0.082\n",
      "Epoch:4 | Train loss: 28.36 | Train acc: 0.938 | Test acc:0.067\n",
      "Epoch:5 | Train loss: 24.70 | Train acc: 0.940 | Test acc:0.083\n",
      "Epoch:6 | Train loss: 21.55 | Train acc: 0.934 | Test acc:0.066\n",
      "Epoch:7 | Train loss: 18.81 | Train acc: 0.952 | Test acc:0.075\n",
      "Epoch:8 | Train loss: 16.47 | Train acc: 0.942 | Test acc:0.085\n",
      "Epoch:9 | Train loss: 14.52 | Train acc: 0.788 | Test acc:0.096\n",
      "Epoch:10 | Train loss: 12.64 | Train acc: 0.973 | Test acc:0.070\n",
      "Epoch:11 | Train loss: 11.10 | Train acc: 0.971 | Test acc:0.065\n",
      "Epoch:12 | Train loss: 9.76 | Train acc: 0.982 | Test acc:0.071\n",
      "Epoch:13 | Train loss: 8.60 | Train acc: 0.985 | Test acc:0.080\n",
      "Without Dropout, MLP with random perturbations\n"
     ]
    },
    {
     "name": "stderr",
     "output_type": "stream",
     "text": [
      "/home/root/adversarial/Gal/models.py:656: FutureWarning: Using a non-tuple sequence for multidimensional indexing is deprecated; use `arr[tuple(seq)]` instead of `arr[seq]`. In the future this will be interpreted as an array index, `arr[np.array(seq)]`, which will result either in an error or a different result.\n",
      "  sample_X_train = X_train[[ind]] # X_train[[start_index,end_index]] ; this would let us take specific indices, so we can randomize the order, ensure each iteration is taking precisely unique samples\n",
      "/home/root/adversarial/Gal/models.py:657: FutureWarning: Using a non-tuple sequence for multidimensional indexing is deprecated; use `arr[tuple(seq)]` instead of `arr[seq]`. In the future this will be interpreted as an array index, `arr[np.array(seq)]`, which will result either in an error or a different result.\n",
      "  sample_Y_train = Y_train[[ind]]\n",
      "/usr/local/lib/python3.5/dist-packages/tensorflow_core/python/client/session.py:1750: UserWarning: An interactive session is already active. This can cause out-of-memory errors in some cases. You must explicitly call `InteractiveSession.close()` to release resources held by the other session(s).\n",
      "  warnings.warn('An interactive session is already active. This can '\n"
     ]
    },
    {
     "name": "stdout",
     "output_type": "stream",
     "text": [
      "New training set shape (X,Y):  ((12000, 784), (12000, 10))\n",
      "Epoch:0 | Train loss: 52.18 | Train acc: 0.755 | Test acc:0.040\n",
      "Epoch:1 | Train loss: 45.18 | Train acc: 0.843 | Test acc:0.054\n",
      "Epoch:2 | Train loss: 39.26 | Train acc: 0.800 | Test acc:0.036\n",
      "Epoch:3 | Train loss: 34.19 | Train acc: 0.824 | Test acc:0.072\n",
      "Epoch:4 | Train loss: 29.73 | Train acc: 0.945 | Test acc:0.058\n",
      "Epoch:5 | Train loss: 25.95 | Train acc: 0.950 | Test acc:0.038\n",
      "Epoch:6 | Train loss: 22.68 | Train acc: 0.950 | Test acc:0.038\n",
      "Epoch:7 | Train loss: 19.86 | Train acc: 0.941 | Test acc:0.044\n",
      "Epoch:8 | Train loss: 17.43 | Train acc: 0.907 | Test acc:0.036\n",
      "Epoch:9 | Train loss: 15.24 | Train acc: 0.971 | Test acc:0.044\n",
      "Epoch:10 | Train loss: 13.38 | Train acc: 0.974 | Test acc:0.052\n",
      "Epoch:11 | Train loss: 11.82 | Train acc: 0.881 | Test acc:0.044\n",
      "Epoch:12 | Train loss: 10.35 | Train acc: 0.982 | Test acc:0.046\n",
      "Epoch:13 | Train loss: 9.12 | Train acc: 0.975 | Test acc:0.047\n",
      "Without Dropout, MLP with random perturbations\n"
     ]
    },
    {
     "name": "stderr",
     "output_type": "stream",
     "text": [
      "/home/root/adversarial/Gal/models.py:656: FutureWarning: Using a non-tuple sequence for multidimensional indexing is deprecated; use `arr[tuple(seq)]` instead of `arr[seq]`. In the future this will be interpreted as an array index, `arr[np.array(seq)]`, which will result either in an error or a different result.\n",
      "  sample_X_train = X_train[[ind]] # X_train[[start_index,end_index]] ; this would let us take specific indices, so we can randomize the order, ensure each iteration is taking precisely unique samples\n",
      "/home/root/adversarial/Gal/models.py:657: FutureWarning: Using a non-tuple sequence for multidimensional indexing is deprecated; use `arr[tuple(seq)]` instead of `arr[seq]`. In the future this will be interpreted as an array index, `arr[np.array(seq)]`, which will result either in an error or a different result.\n",
      "  sample_Y_train = Y_train[[ind]]\n",
      "/usr/local/lib/python3.5/dist-packages/tensorflow_core/python/client/session.py:1750: UserWarning: An interactive session is already active. This can cause out-of-memory errors in some cases. You must explicitly call `InteractiveSession.close()` to release resources held by the other session(s).\n",
      "  warnings.warn('An interactive session is already active. This can '\n"
     ]
    },
    {
     "name": "stdout",
     "output_type": "stream",
     "text": [
      "New training set shape (X,Y):  ((12000, 784), (12000, 10))\n",
      "Epoch:0 | Train loss: 51.67 | Train acc: 0.701 | Test acc:0.065\n",
      "Epoch:1 | Train loss: 44.65 | Train acc: 0.826 | Test acc:0.088\n",
      "Epoch:2 | Train loss: 38.77 | Train acc: 0.800 | Test acc:0.051\n",
      "Epoch:3 | Train loss: 33.62 | Train acc: 0.902 | Test acc:0.063\n",
      "Epoch:4 | Train loss: 29.30 | Train acc: 0.850 | Test acc:0.059\n",
      "Epoch:5 | Train loss: 25.49 | Train acc: 0.897 | Test acc:0.072\n",
      "Epoch:6 | Train loss: 22.19 | Train acc: 0.961 | Test acc:0.071\n",
      "Epoch:7 | Train loss: 19.37 | Train acc: 0.965 | Test acc:0.082\n",
      "Epoch:8 | Train loss: 17.02 | Train acc: 0.811 | Test acc:0.052\n",
      "Epoch:9 | Train loss: 14.84 | Train acc: 0.947 | Test acc:0.059\n",
      "Epoch:10 | Train loss: 12.99 | Train acc: 0.978 | Test acc:0.064\n",
      "Epoch:11 | Train loss: 11.42 | Train acc: 0.972 | Test acc:0.063\n",
      "Epoch:12 | Train loss: 10.07 | Train acc: 0.954 | Test acc:0.067\n",
      "Epoch:13 | Train loss: 8.88 | Train acc: 0.953 | Test acc:0.070\n",
      "Without Dropout, MLP with random perturbations\n"
     ]
    },
    {
     "name": "stderr",
     "output_type": "stream",
     "text": [
      "/home/root/adversarial/Gal/models.py:656: FutureWarning: Using a non-tuple sequence for multidimensional indexing is deprecated; use `arr[tuple(seq)]` instead of `arr[seq]`. In the future this will be interpreted as an array index, `arr[np.array(seq)]`, which will result either in an error or a different result.\n",
      "  sample_X_train = X_train[[ind]] # X_train[[start_index,end_index]] ; this would let us take specific indices, so we can randomize the order, ensure each iteration is taking precisely unique samples\n",
      "/home/root/adversarial/Gal/models.py:657: FutureWarning: Using a non-tuple sequence for multidimensional indexing is deprecated; use `arr[tuple(seq)]` instead of `arr[seq]`. In the future this will be interpreted as an array index, `arr[np.array(seq)]`, which will result either in an error or a different result.\n",
      "  sample_Y_train = Y_train[[ind]]\n",
      "/usr/local/lib/python3.5/dist-packages/tensorflow_core/python/client/session.py:1750: UserWarning: An interactive session is already active. This can cause out-of-memory errors in some cases. You must explicitly call `InteractiveSession.close()` to release resources held by the other session(s).\n",
      "  warnings.warn('An interactive session is already active. This can '\n"
     ]
    },
    {
     "name": "stdout",
     "output_type": "stream",
     "text": [
      "New training set shape (X,Y):  ((12000, 784), (12000, 10))\n",
      "Epoch:0 | Train loss: 52.54 | Train acc: 0.796 | Test acc:0.056\n",
      "Epoch:1 | Train loss: 45.53 | Train acc: 0.768 | Test acc:0.078\n",
      "Epoch:2 | Train loss: 39.42 | Train acc: 0.924 | Test acc:0.074\n",
      "Epoch:3 | Train loss: 34.32 | Train acc: 0.892 | Test acc:0.059\n",
      "Epoch:4 | Train loss: 29.86 | Train acc: 0.936 | Test acc:0.067\n",
      "Epoch:5 | Train loss: 26.04 | Train acc: 0.937 | Test acc:0.084\n",
      "Epoch:6 | Train loss: 22.78 | Train acc: 0.910 | Test acc:0.076\n",
      "Epoch:7 | Train loss: 19.88 | Train acc: 0.955 | Test acc:0.068\n",
      "Epoch:8 | Train loss: 17.41 | Train acc: 0.936 | Test acc:0.090\n",
      "Epoch:9 | Train loss: 15.24 | Train acc: 0.969 | Test acc:0.060\n",
      "Epoch:10 | Train loss: 13.39 | Train acc: 0.968 | Test acc:0.075\n",
      "Epoch:11 | Train loss: 11.76 | Train acc: 0.978 | Test acc:0.068\n",
      "Epoch:12 | Train loss: 10.37 | Train acc: 0.967 | Test acc:0.076\n",
      "Epoch:13 | Train loss: 9.15 | Train acc: 0.978 | Test acc:0.069\n"
     ]
    },
    {
     "name": "stderr",
     "output_type": "stream",
     "text": [
      "/usr/local/lib/python3.5/dist-packages/ipykernel_launcher.py:13: FutureWarning: Using a non-tuple sequence for multidimensional indexing is deprecated; use `arr[tuple(seq)]` instead of `arr[seq]`. In the future this will be interpreted as an array index, `arr[np.array(seq)]`, which will result either in an error or a different result.\n",
      "  del sys.path[0]\n",
      "/usr/local/lib/python3.5/dist-packages/ipykernel_launcher.py:14: FutureWarning: Using a non-tuple sequence for multidimensional indexing is deprecated; use `arr[tuple(seq)]` instead of `arr[seq]`. In the future this will be interpreted as an array index, `arr[np.array(seq)]`, which will result either in an error or a different result.\n",
      "  \n",
      "/home/root/adversarial/Gal/models.py:656: FutureWarning: Using a non-tuple sequence for multidimensional indexing is deprecated; use `arr[tuple(seq)]` instead of `arr[seq]`. In the future this will be interpreted as an array index, `arr[np.array(seq)]`, which will result either in an error or a different result.\n",
      "  sample_X_train = X_train[[ind]] # X_train[[start_index,end_index]] ; this would let us take specific indices, so we can randomize the order, ensure each iteration is taking precisely unique samples\n",
      "/home/root/adversarial/Gal/models.py:657: FutureWarning: Using a non-tuple sequence for multidimensional indexing is deprecated; use `arr[tuple(seq)]` instead of `arr[seq]`. In the future this will be interpreted as an array index, `arr[np.array(seq)]`, which will result either in an error or a different result.\n",
      "  sample_Y_train = Y_train[[ind]]\n",
      "/usr/local/lib/python3.5/dist-packages/tensorflow_core/python/client/session.py:1750: UserWarning: An interactive session is already active. This can cause out-of-memory errors in some cases. You must explicitly call `InteractiveSession.close()` to release resources held by the other session(s).\n",
      "  warnings.warn('An interactive session is already active. This can '\n"
     ]
    },
    {
     "name": "stdout",
     "output_type": "stream",
     "text": [
      "Without Dropout, MLP with random perturbations\n",
      "New training set shape (X,Y):  ((6000, 784), (6000, 10))\n",
      "Epoch:0 | Train loss: 50.92 | Train acc: 0.538 | Test acc:0.090\n",
      "Epoch:1 | Train loss: 47.05 | Train acc: 0.760 | Test acc:0.051\n",
      "Epoch:2 | Train loss: 43.45 | Train acc: 0.906 | Test acc:0.070\n",
      "Epoch:3 | Train loss: 40.26 | Train acc: 0.896 | Test acc:0.076\n",
      "Epoch:4 | Train loss: 37.28 | Train acc: 0.922 | Test acc:0.079\n",
      "Epoch:5 | Train loss: 34.62 | Train acc: 0.818 | Test acc:0.103\n",
      "Epoch:6 | Train loss: 32.07 | Train acc: 0.895 | Test acc:0.061\n",
      "Epoch:7 | Train loss: 29.71 | Train acc: 0.948 | Test acc:0.062\n",
      "Epoch:8 | Train loss: 27.56 | Train acc: 0.951 | Test acc:0.059\n",
      "Epoch:9 | Train loss: 25.58 | Train acc: 0.946 | Test acc:0.071\n",
      "Epoch:10 | Train loss: 23.74 | Train acc: 0.942 | Test acc:0.068\n",
      "Epoch:11 | Train loss: 22.02 | Train acc: 0.966 | Test acc:0.067\n",
      "Epoch:12 | Train loss: 20.44 | Train acc: 0.971 | Test acc:0.066\n",
      "Epoch:13 | Train loss: 18.99 | Train acc: 0.963 | Test acc:0.074\n",
      "Without Dropout, MLP with random perturbations\n"
     ]
    },
    {
     "name": "stderr",
     "output_type": "stream",
     "text": [
      "/home/root/adversarial/Gal/models.py:656: FutureWarning: Using a non-tuple sequence for multidimensional indexing is deprecated; use `arr[tuple(seq)]` instead of `arr[seq]`. In the future this will be interpreted as an array index, `arr[np.array(seq)]`, which will result either in an error or a different result.\n",
      "  sample_X_train = X_train[[ind]] # X_train[[start_index,end_index]] ; this would let us take specific indices, so we can randomize the order, ensure each iteration is taking precisely unique samples\n",
      "/home/root/adversarial/Gal/models.py:657: FutureWarning: Using a non-tuple sequence for multidimensional indexing is deprecated; use `arr[tuple(seq)]` instead of `arr[seq]`. In the future this will be interpreted as an array index, `arr[np.array(seq)]`, which will result either in an error or a different result.\n",
      "  sample_Y_train = Y_train[[ind]]\n",
      "/usr/local/lib/python3.5/dist-packages/tensorflow_core/python/client/session.py:1750: UserWarning: An interactive session is already active. This can cause out-of-memory errors in some cases. You must explicitly call `InteractiveSession.close()` to release resources held by the other session(s).\n",
      "  warnings.warn('An interactive session is already active. This can '\n"
     ]
    },
    {
     "name": "stdout",
     "output_type": "stream",
     "text": [
      "New training set shape (X,Y):  ((6000, 784), (6000, 10))\n",
      "Epoch:0 | Train loss: 54.65 | Train acc: 0.658 | Test acc:0.069\n",
      "Epoch:1 | Train loss: 50.70 | Train acc: 0.774 | Test acc:0.072\n",
      "Epoch:2 | Train loss: 47.21 | Train acc: 0.498 | Test acc:0.094\n",
      "Epoch:3 | Train loss: 43.77 | Train acc: 0.835 | Test acc:0.086\n",
      "Epoch:4 | Train loss: 40.72 | Train acc: 0.873 | Test acc:0.078\n",
      "Epoch:5 | Train loss: 37.90 | Train acc: 0.928 | Test acc:0.065\n",
      "Epoch:6 | Train loss: 35.29 | Train acc: 0.934 | Test acc:0.071\n",
      "Epoch:7 | Train loss: 32.88 | Train acc: 0.952 | Test acc:0.070\n",
      "Epoch:8 | Train loss: 30.68 | Train acc: 0.881 | Test acc:0.069\n",
      "Epoch:9 | Train loss: 28.57 | Train acc: 0.956 | Test acc:0.082\n",
      "Epoch:10 | Train loss: 26.66 | Train acc: 0.951 | Test acc:0.068\n",
      "Epoch:11 | Train loss: 24.85 | Train acc: 0.970 | Test acc:0.077\n",
      "Epoch:12 | Train loss: 23.22 | Train acc: 0.910 | Test acc:0.075\n",
      "Epoch:13 | Train loss: 21.66 | Train acc: 0.957 | Test acc:0.078\n",
      "Without Dropout, MLP with random perturbations\n"
     ]
    },
    {
     "name": "stderr",
     "output_type": "stream",
     "text": [
      "/home/root/adversarial/Gal/models.py:656: FutureWarning: Using a non-tuple sequence for multidimensional indexing is deprecated; use `arr[tuple(seq)]` instead of `arr[seq]`. In the future this will be interpreted as an array index, `arr[np.array(seq)]`, which will result either in an error or a different result.\n",
      "  sample_X_train = X_train[[ind]] # X_train[[start_index,end_index]] ; this would let us take specific indices, so we can randomize the order, ensure each iteration is taking precisely unique samples\n",
      "/home/root/adversarial/Gal/models.py:657: FutureWarning: Using a non-tuple sequence for multidimensional indexing is deprecated; use `arr[tuple(seq)]` instead of `arr[seq]`. In the future this will be interpreted as an array index, `arr[np.array(seq)]`, which will result either in an error or a different result.\n",
      "  sample_Y_train = Y_train[[ind]]\n",
      "/usr/local/lib/python3.5/dist-packages/tensorflow_core/python/client/session.py:1750: UserWarning: An interactive session is already active. This can cause out-of-memory errors in some cases. You must explicitly call `InteractiveSession.close()` to release resources held by the other session(s).\n",
      "  warnings.warn('An interactive session is already active. This can '\n"
     ]
    },
    {
     "name": "stdout",
     "output_type": "stream",
     "text": [
      "New training set shape (X,Y):  ((6000, 784), (6000, 10))\n",
      "Epoch:0 | Train loss: 54.65 | Train acc: 0.633 | Test acc:0.073\n",
      "Epoch:1 | Train loss: 50.63 | Train acc: 0.818 | Test acc:0.088\n",
      "Epoch:2 | Train loss: 47.06 | Train acc: 0.815 | Test acc:0.075\n",
      "Epoch:3 | Train loss: 43.85 | Train acc: 0.693 | Test acc:0.121\n",
      "Epoch:4 | Train loss: 40.73 | Train acc: 0.902 | Test acc:0.073\n",
      "Epoch:5 | Train loss: 37.92 | Train acc: 0.932 | Test acc:0.067\n",
      "Epoch:6 | Train loss: 35.36 | Train acc: 0.909 | Test acc:0.080\n",
      "Epoch:7 | Train loss: 32.97 | Train acc: 0.936 | Test acc:0.075\n",
      "Epoch:8 | Train loss: 30.74 | Train acc: 0.951 | Test acc:0.082\n",
      "Epoch:9 | Train loss: 28.69 | Train acc: 0.963 | Test acc:0.080\n",
      "Epoch:10 | Train loss: 26.79 | Train acc: 0.961 | Test acc:0.087\n",
      "Epoch:11 | Train loss: 25.02 | Train acc: 0.969 | Test acc:0.085\n",
      "Epoch:12 | Train loss: 23.38 | Train acc: 0.978 | Test acc:0.083\n",
      "Epoch:13 | Train loss: 21.86 | Train acc: 0.971 | Test acc:0.085\n",
      "Without Dropout, MLP with random perturbations\n"
     ]
    },
    {
     "name": "stderr",
     "output_type": "stream",
     "text": [
      "/home/root/adversarial/Gal/models.py:656: FutureWarning: Using a non-tuple sequence for multidimensional indexing is deprecated; use `arr[tuple(seq)]` instead of `arr[seq]`. In the future this will be interpreted as an array index, `arr[np.array(seq)]`, which will result either in an error or a different result.\n",
      "  sample_X_train = X_train[[ind]] # X_train[[start_index,end_index]] ; this would let us take specific indices, so we can randomize the order, ensure each iteration is taking precisely unique samples\n",
      "/home/root/adversarial/Gal/models.py:657: FutureWarning: Using a non-tuple sequence for multidimensional indexing is deprecated; use `arr[tuple(seq)]` instead of `arr[seq]`. In the future this will be interpreted as an array index, `arr[np.array(seq)]`, which will result either in an error or a different result.\n",
      "  sample_Y_train = Y_train[[ind]]\n",
      "/usr/local/lib/python3.5/dist-packages/tensorflow_core/python/client/session.py:1750: UserWarning: An interactive session is already active. This can cause out-of-memory errors in some cases. You must explicitly call `InteractiveSession.close()` to release resources held by the other session(s).\n",
      "  warnings.warn('An interactive session is already active. This can '\n"
     ]
    },
    {
     "name": "stdout",
     "output_type": "stream",
     "text": [
      "New training set shape (X,Y):  ((6000, 784), (6000, 10))\n",
      "Epoch:0 | Train loss: 54.11 | Train acc: 0.703 | Test acc:0.062\n",
      "Epoch:1 | Train loss: 50.12 | Train acc: 0.826 | Test acc:0.058\n",
      "Epoch:2 | Train loss: 46.66 | Train acc: 0.584 | Test acc:0.054\n",
      "Epoch:3 | Train loss: 43.22 | Train acc: 0.888 | Test acc:0.092\n",
      "Epoch:4 | Train loss: 40.17 | Train acc: 0.906 | Test acc:0.067\n",
      "Epoch:5 | Train loss: 37.36 | Train acc: 0.917 | Test acc:0.073\n",
      "Epoch:6 | Train loss: 34.74 | Train acc: 0.947 | Test acc:0.081\n",
      "Epoch:7 | Train loss: 32.36 | Train acc: 0.921 | Test acc:0.079\n",
      "Epoch:8 | Train loss: 30.11 | Train acc: 0.956 | Test acc:0.070\n",
      "Epoch:9 | Train loss: 28.05 | Train acc: 0.951 | Test acc:0.075\n",
      "Epoch:10 | Train loss: 26.16 | Train acc: 0.918 | Test acc:0.064\n",
      "Epoch:11 | Train loss: 24.36 | Train acc: 0.937 | Test acc:0.069\n",
      "Epoch:12 | Train loss: 22.69 | Train acc: 0.962 | Test acc:0.083\n",
      "Epoch:13 | Train loss: 21.15 | Train acc: 0.973 | Test acc:0.071\n",
      "Without Dropout, MLP with random perturbations\n"
     ]
    },
    {
     "name": "stderr",
     "output_type": "stream",
     "text": [
      "/home/root/adversarial/Gal/models.py:656: FutureWarning: Using a non-tuple sequence for multidimensional indexing is deprecated; use `arr[tuple(seq)]` instead of `arr[seq]`. In the future this will be interpreted as an array index, `arr[np.array(seq)]`, which will result either in an error or a different result.\n",
      "  sample_X_train = X_train[[ind]] # X_train[[start_index,end_index]] ; this would let us take specific indices, so we can randomize the order, ensure each iteration is taking precisely unique samples\n",
      "/home/root/adversarial/Gal/models.py:657: FutureWarning: Using a non-tuple sequence for multidimensional indexing is deprecated; use `arr[tuple(seq)]` instead of `arr[seq]`. In the future this will be interpreted as an array index, `arr[np.array(seq)]`, which will result either in an error or a different result.\n",
      "  sample_Y_train = Y_train[[ind]]\n",
      "/usr/local/lib/python3.5/dist-packages/tensorflow_core/python/client/session.py:1750: UserWarning: An interactive session is already active. This can cause out-of-memory errors in some cases. You must explicitly call `InteractiveSession.close()` to release resources held by the other session(s).\n",
      "  warnings.warn('An interactive session is already active. This can '\n"
     ]
    },
    {
     "name": "stdout",
     "output_type": "stream",
     "text": [
      "New training set shape (X,Y):  ((6000, 784), (6000, 10))\n",
      "Epoch:0 | Train loss: 60.33 | Train acc: 0.548 | Test acc:0.037\n",
      "Epoch:1 | Train loss: 55.99 | Train acc: 0.837 | Test acc:0.077\n",
      "Epoch:2 | Train loss: 52.11 | Train acc: 0.855 | Test acc:0.051\n",
      "Epoch:3 | Train loss: 48.53 | Train acc: 0.893 | Test acc:0.063\n",
      "Epoch:4 | Train loss: 45.27 | Train acc: 0.859 | Test acc:0.058\n",
      "Epoch:5 | Train loss: 42.15 | Train acc: 0.928 | Test acc:0.056\n",
      "Epoch:6 | Train loss: 39.31 | Train acc: 0.935 | Test acc:0.060\n",
      "Epoch:7 | Train loss: 36.71 | Train acc: 0.905 | Test acc:0.053\n",
      "Epoch:8 | Train loss: 34.23 | Train acc: 0.947 | Test acc:0.062\n",
      "Epoch:9 | Train loss: 31.95 | Train acc: 0.948 | Test acc:0.056\n",
      "Epoch:10 | Train loss: 29.87 | Train acc: 0.917 | Test acc:0.060\n",
      "Epoch:11 | Train loss: 27.88 | Train acc: 0.934 | Test acc:0.057\n",
      "Epoch:12 | Train loss: 26.03 | Train acc: 0.964 | Test acc:0.061\n",
      "Epoch:13 | Train loss: 24.34 | Train acc: 0.956 | Test acc:0.054\n",
      "Without Dropout, MLP with random perturbations\n"
     ]
    },
    {
     "name": "stderr",
     "output_type": "stream",
     "text": [
      "/home/root/adversarial/Gal/models.py:656: FutureWarning: Using a non-tuple sequence for multidimensional indexing is deprecated; use `arr[tuple(seq)]` instead of `arr[seq]`. In the future this will be interpreted as an array index, `arr[np.array(seq)]`, which will result either in an error or a different result.\n",
      "  sample_X_train = X_train[[ind]] # X_train[[start_index,end_index]] ; this would let us take specific indices, so we can randomize the order, ensure each iteration is taking precisely unique samples\n",
      "/home/root/adversarial/Gal/models.py:657: FutureWarning: Using a non-tuple sequence for multidimensional indexing is deprecated; use `arr[tuple(seq)]` instead of `arr[seq]`. In the future this will be interpreted as an array index, `arr[np.array(seq)]`, which will result either in an error or a different result.\n",
      "  sample_Y_train = Y_train[[ind]]\n",
      "/usr/local/lib/python3.5/dist-packages/tensorflow_core/python/client/session.py:1750: UserWarning: An interactive session is already active. This can cause out-of-memory errors in some cases. You must explicitly call `InteractiveSession.close()` to release resources held by the other session(s).\n",
      "  warnings.warn('An interactive session is already active. This can '\n"
     ]
    },
    {
     "name": "stdout",
     "output_type": "stream",
     "text": [
      "New training set shape (X,Y):  ((6000, 784), (6000, 10))\n",
      "Epoch:0 | Train loss: 61.47 | Train acc: 0.650 | Test acc:0.066\n",
      "Epoch:1 | Train loss: 57.12 | Train acc: 0.846 | Test acc:0.068\n",
      "Epoch:2 | Train loss: 53.25 | Train acc: 0.815 | Test acc:0.106\n",
      "Epoch:3 | Train loss: 49.65 | Train acc: 0.827 | Test acc:0.104\n",
      "Epoch:4 | Train loss: 46.30 | Train acc: 0.892 | Test acc:0.099\n",
      "Epoch:5 | Train loss: 43.20 | Train acc: 0.887 | Test acc:0.101\n",
      "Epoch:6 | Train loss: 40.27 | Train acc: 0.946 | Test acc:0.098\n",
      "Epoch:7 | Train loss: 37.60 | Train acc: 0.951 | Test acc:0.099\n",
      "Epoch:8 | Train loss: 35.16 | Train acc: 0.872 | Test acc:0.103\n",
      "Epoch:9 | Train loss: 32.84 | Train acc: 0.866 | Test acc:0.124\n",
      "Epoch:10 | Train loss: 30.64 | Train acc: 0.952 | Test acc:0.110\n",
      "Epoch:11 | Train loss: 28.61 | Train acc: 0.967 | Test acc:0.098\n",
      "Epoch:12 | Train loss: 26.74 | Train acc: 0.964 | Test acc:0.106\n",
      "Epoch:13 | Train loss: 24.98 | Train acc: 0.978 | Test acc:0.108\n",
      "Without Dropout, MLP with random perturbations\n"
     ]
    },
    {
     "name": "stderr",
     "output_type": "stream",
     "text": [
      "/home/root/adversarial/Gal/models.py:656: FutureWarning: Using a non-tuple sequence for multidimensional indexing is deprecated; use `arr[tuple(seq)]` instead of `arr[seq]`. In the future this will be interpreted as an array index, `arr[np.array(seq)]`, which will result either in an error or a different result.\n",
      "  sample_X_train = X_train[[ind]] # X_train[[start_index,end_index]] ; this would let us take specific indices, so we can randomize the order, ensure each iteration is taking precisely unique samples\n",
      "/home/root/adversarial/Gal/models.py:657: FutureWarning: Using a non-tuple sequence for multidimensional indexing is deprecated; use `arr[tuple(seq)]` instead of `arr[seq]`. In the future this will be interpreted as an array index, `arr[np.array(seq)]`, which will result either in an error or a different result.\n",
      "  sample_Y_train = Y_train[[ind]]\n",
      "/usr/local/lib/python3.5/dist-packages/tensorflow_core/python/client/session.py:1750: UserWarning: An interactive session is already active. This can cause out-of-memory errors in some cases. You must explicitly call `InteractiveSession.close()` to release resources held by the other session(s).\n",
      "  warnings.warn('An interactive session is already active. This can '\n"
     ]
    },
    {
     "name": "stdout",
     "output_type": "stream",
     "text": [
      "New training set shape (X,Y):  ((6000, 784), (6000, 10))\n",
      "Epoch:0 | Train loss: 56.24 | Train acc: 0.706 | Test acc:0.074\n",
      "Epoch:1 | Train loss: 52.25 | Train acc: 0.683 | Test acc:0.088\n",
      "Epoch:2 | Train loss: 48.54 | Train acc: 0.810 | Test acc:0.076\n",
      "Epoch:3 | Train loss: 45.14 | Train acc: 0.877 | Test acc:0.067\n",
      "Epoch:4 | Train loss: 42.02 | Train acc: 0.920 | Test acc:0.057\n",
      "Epoch:5 | Train loss: 39.15 | Train acc: 0.925 | Test acc:0.048\n",
      "Epoch:6 | Train loss: 36.48 | Train acc: 0.937 | Test acc:0.081\n",
      "Epoch:7 | Train loss: 34.01 | Train acc: 0.957 | Test acc:0.065\n",
      "Epoch:8 | Train loss: 31.80 | Train acc: 0.835 | Test acc:0.073\n",
      "Epoch:9 | Train loss: 29.61 | Train acc: 0.945 | Test acc:0.059\n",
      "Epoch:10 | Train loss: 27.62 | Train acc: 0.968 | Test acc:0.064\n",
      "Epoch:11 | Train loss: 25.93 | Train acc: 0.734 | Test acc:0.068\n",
      "Epoch:12 | Train loss: 24.10 | Train acc: 0.964 | Test acc:0.052\n",
      "Epoch:13 | Train loss: 22.50 | Train acc: 0.980 | Test acc:0.064\n",
      "Without Dropout, MLP with random perturbations\n"
     ]
    },
    {
     "name": "stderr",
     "output_type": "stream",
     "text": [
      "/home/root/adversarial/Gal/models.py:656: FutureWarning: Using a non-tuple sequence for multidimensional indexing is deprecated; use `arr[tuple(seq)]` instead of `arr[seq]`. In the future this will be interpreted as an array index, `arr[np.array(seq)]`, which will result either in an error or a different result.\n",
      "  sample_X_train = X_train[[ind]] # X_train[[start_index,end_index]] ; this would let us take specific indices, so we can randomize the order, ensure each iteration is taking precisely unique samples\n",
      "/home/root/adversarial/Gal/models.py:657: FutureWarning: Using a non-tuple sequence for multidimensional indexing is deprecated; use `arr[tuple(seq)]` instead of `arr[seq]`. In the future this will be interpreted as an array index, `arr[np.array(seq)]`, which will result either in an error or a different result.\n",
      "  sample_Y_train = Y_train[[ind]]\n",
      "/usr/local/lib/python3.5/dist-packages/tensorflow_core/python/client/session.py:1750: UserWarning: An interactive session is already active. This can cause out-of-memory errors in some cases. You must explicitly call `InteractiveSession.close()` to release resources held by the other session(s).\n",
      "  warnings.warn('An interactive session is already active. This can '\n"
     ]
    },
    {
     "name": "stdout",
     "output_type": "stream",
     "text": [
      "New training set shape (X,Y):  ((6000, 784), (6000, 10))\n",
      "Epoch:0 | Train loss: 52.29 | Train acc: 0.702 | Test acc:0.120\n",
      "Epoch:1 | Train loss: 48.37 | Train acc: 0.806 | Test acc:0.042\n",
      "Epoch:2 | Train loss: 44.88 | Train acc: 0.832 | Test acc:0.080\n",
      "Epoch:3 | Train loss: 41.67 | Train acc: 0.818 | Test acc:0.057\n",
      "Epoch:4 | Train loss: 38.67 | Train acc: 0.854 | Test acc:0.072\n",
      "Epoch:5 | Train loss: 35.91 | Train acc: 0.895 | Test acc:0.083\n",
      "Epoch:6 | Train loss: 33.36 | Train acc: 0.909 | Test acc:0.055\n",
      "Epoch:7 | Train loss: 31.00 | Train acc: 0.936 | Test acc:0.059\n",
      "Epoch:8 | Train loss: 28.83 | Train acc: 0.950 | Test acc:0.067\n",
      "Epoch:9 | Train loss: 26.82 | Train acc: 0.958 | Test acc:0.060\n",
      "Epoch:10 | Train loss: 24.96 | Train acc: 0.957 | Test acc:0.061\n",
      "Epoch:11 | Train loss: 23.22 | Train acc: 0.969 | Test acc:0.049\n",
      "Epoch:12 | Train loss: 21.63 | Train acc: 0.973 | Test acc:0.052\n",
      "Epoch:13 | Train loss: 20.14 | Train acc: 0.970 | Test acc:0.052\n",
      "Without Dropout, MLP with random perturbations\n"
     ]
    },
    {
     "name": "stderr",
     "output_type": "stream",
     "text": [
      "/home/root/adversarial/Gal/models.py:656: FutureWarning: Using a non-tuple sequence for multidimensional indexing is deprecated; use `arr[tuple(seq)]` instead of `arr[seq]`. In the future this will be interpreted as an array index, `arr[np.array(seq)]`, which will result either in an error or a different result.\n",
      "  sample_X_train = X_train[[ind]] # X_train[[start_index,end_index]] ; this would let us take specific indices, so we can randomize the order, ensure each iteration is taking precisely unique samples\n",
      "/home/root/adversarial/Gal/models.py:657: FutureWarning: Using a non-tuple sequence for multidimensional indexing is deprecated; use `arr[tuple(seq)]` instead of `arr[seq]`. In the future this will be interpreted as an array index, `arr[np.array(seq)]`, which will result either in an error or a different result.\n",
      "  sample_Y_train = Y_train[[ind]]\n",
      "/usr/local/lib/python3.5/dist-packages/tensorflow_core/python/client/session.py:1750: UserWarning: An interactive session is already active. This can cause out-of-memory errors in some cases. You must explicitly call `InteractiveSession.close()` to release resources held by the other session(s).\n",
      "  warnings.warn('An interactive session is already active. This can '\n"
     ]
    },
    {
     "name": "stdout",
     "output_type": "stream",
     "text": [
      "New training set shape (X,Y):  ((6000, 784), (6000, 10))\n",
      "Epoch:0 | Train loss: 53.29 | Train acc: 0.706 | Test acc:0.056\n",
      "Epoch:1 | Train loss: 49.25 | Train acc: 0.809 | Test acc:0.063\n",
      "Epoch:2 | Train loss: 45.60 | Train acc: 0.799 | Test acc:0.057\n",
      "Epoch:3 | Train loss: 42.19 | Train acc: 0.881 | Test acc:0.058\n",
      "Epoch:4 | Train loss: 39.08 | Train acc: 0.929 | Test acc:0.070\n",
      "Epoch:5 | Train loss: 36.24 | Train acc: 0.938 | Test acc:0.065\n",
      "Epoch:6 | Train loss: 33.68 | Train acc: 0.875 | Test acc:0.069\n",
      "Epoch:7 | Train loss: 31.19 | Train acc: 0.948 | Test acc:0.081\n",
      "Epoch:8 | Train loss: 28.95 | Train acc: 0.947 | Test acc:0.071\n",
      "Epoch:9 | Train loss: 26.93 | Train acc: 0.854 | Test acc:0.083\n",
      "Epoch:10 | Train loss: 24.98 | Train acc: 0.928 | Test acc:0.076\n",
      "Epoch:11 | Train loss: 23.21 | Train acc: 0.922 | Test acc:0.076\n",
      "Epoch:12 | Train loss: 21.53 | Train acc: 0.975 | Test acc:0.076\n",
      "Epoch:13 | Train loss: 20.01 | Train acc: 0.972 | Test acc:0.081\n",
      "Without Dropout, MLP with random perturbations\n"
     ]
    },
    {
     "name": "stderr",
     "output_type": "stream",
     "text": [
      "/home/root/adversarial/Gal/models.py:656: FutureWarning: Using a non-tuple sequence for multidimensional indexing is deprecated; use `arr[tuple(seq)]` instead of `arr[seq]`. In the future this will be interpreted as an array index, `arr[np.array(seq)]`, which will result either in an error or a different result.\n",
      "  sample_X_train = X_train[[ind]] # X_train[[start_index,end_index]] ; this would let us take specific indices, so we can randomize the order, ensure each iteration is taking precisely unique samples\n",
      "/home/root/adversarial/Gal/models.py:657: FutureWarning: Using a non-tuple sequence for multidimensional indexing is deprecated; use `arr[tuple(seq)]` instead of `arr[seq]`. In the future this will be interpreted as an array index, `arr[np.array(seq)]`, which will result either in an error or a different result.\n",
      "  sample_Y_train = Y_train[[ind]]\n",
      "/usr/local/lib/python3.5/dist-packages/tensorflow_core/python/client/session.py:1750: UserWarning: An interactive session is already active. This can cause out-of-memory errors in some cases. You must explicitly call `InteractiveSession.close()` to release resources held by the other session(s).\n",
      "  warnings.warn('An interactive session is already active. This can '\n"
     ]
    },
    {
     "name": "stdout",
     "output_type": "stream",
     "text": [
      "New training set shape (X,Y):  ((6000, 784), (6000, 10))\n",
      "Epoch:0 | Train loss: 59.65 | Train acc: 0.458 | Test acc:0.081\n",
      "Epoch:1 | Train loss: 55.52 | Train acc: 0.744 | Test acc:0.092\n",
      "Epoch:2 | Train loss: 51.78 | Train acc: 0.780 | Test acc:0.045\n",
      "Epoch:3 | Train loss: 48.29 | Train acc: 0.904 | Test acc:0.062\n",
      "Epoch:4 | Train loss: 45.14 | Train acc: 0.890 | Test acc:0.059\n",
      "Epoch:5 | Train loss: 42.23 | Train acc: 0.831 | Test acc:0.079\n",
      "Epoch:6 | Train loss: 39.45 | Train acc: 0.944 | Test acc:0.053\n",
      "Epoch:7 | Train loss: 36.94 | Train acc: 0.906 | Test acc:0.048\n",
      "Epoch:8 | Train loss: 34.56 | Train acc: 0.960 | Test acc:0.060\n",
      "Epoch:9 | Train loss: 32.39 | Train acc: 0.933 | Test acc:0.063\n",
      "Epoch:10 | Train loss: 30.32 | Train acc: 0.970 | Test acc:0.046\n",
      "Epoch:11 | Train loss: 28.42 | Train acc: 0.967 | Test acc:0.044\n",
      "Epoch:12 | Train loss: 26.65 | Train acc: 0.974 | Test acc:0.052\n",
      "Epoch:13 | Train loss: 24.99 | Train acc: 0.979 | Test acc:0.061\n"
     ]
    }
   ],
   "source": [
    "Nentropy_val_MLPr_1, Nacc_MLPr_1, Nconfi_MLPr_1 = ensembling_expt(1, MNIST_X_train, MNIST_Y_train, notMNIST_X_val, notMNIST_Y_val, notMNIST_X_test, notMNIST_Y_test, models.MLP_randomperturbation)\n",
    "Nentropy_val_MLPr_5, Nacc_MLPr_5, Nconfi_MLPr_5 = ensembling_expt(5, MNIST_X_train, MNIST_Y_train, notMNIST_X_val, notMNIST_Y_val, notMNIST_X_test, notMNIST_Y_test, models.MLP_randomperturbation)\n",
    "Nentropy_val_MLPr_10, Nacc_MLPr_10, Nconfi_MLPr_10 = ensembling_expt(10, MNIST_X_train, MNIST_Y_train, notMNIST_X_val, notMNIST_Y_val, notMNIST_X_test, notMNIST_Y_test, models.MLP_randomperturbation)\n"
   ]
  },
  {
   "cell_type": "code",
   "execution_count": null,
   "metadata": {
    "scrolled": true
   },
   "outputs": [
    {
     "name": "stderr",
     "output_type": "stream",
     "text": [
      "/usr/local/lib/python3.5/dist-packages/ipykernel_launcher.py:13: FutureWarning: Using a non-tuple sequence for multidimensional indexing is deprecated; use `arr[tuple(seq)]` instead of `arr[seq]`. In the future this will be interpreted as an array index, `arr[np.array(seq)]`, which will result either in an error or a different result.\n",
      "  del sys.path[0]\n",
      "/usr/local/lib/python3.5/dist-packages/ipykernel_launcher.py:14: FutureWarning: Using a non-tuple sequence for multidimensional indexing is deprecated; use `arr[tuple(seq)]` instead of `arr[seq]`. In the future this will be interpreted as an array index, `arr[np.array(seq)]`, which will result either in an error or a different result.\n",
      "  \n",
      "/usr/local/lib/python3.5/dist-packages/tensorflow_core/python/client/session.py:1750: UserWarning: An interactive session is already active. This can cause out-of-memory errors in some cases. You must explicitly call `InteractiveSession.close()` to release resources held by the other session(s).\n",
      "  warnings.warn('An interactive session is already active. This can '\n"
     ]
    },
    {
     "name": "stdout",
     "output_type": "stream",
     "text": [
      "Without Dropout & Batch Normalization\n",
      "Epoch:0 | Train loss: 30.81 | Train acc: 0.974 | Test acc:0.105\n",
      "Epoch:1 | Train loss: 17.02 | Train acc: 0.985 | Test acc:0.125\n",
      "Epoch:2 | Train loss: 9.61 | Train acc: 0.990 | Test acc:0.125\n",
      "Epoch:3 | Train loss: 5.63 | Train acc: 0.991 | Test acc:0.122\n",
      "Epoch:4 | Train loss: 3.52 | Train acc: 0.992 | Test acc:0.121\n",
      "Epoch:5 | Train loss: 2.44 | Train acc: 0.995 | Test acc:0.103\n",
      "Epoch:6 | Train loss: 1.90 | Train acc: 0.995 | Test acc:0.090\n",
      "Epoch:7 | Train loss: 1.65 | Train acc: 0.996 | Test acc:0.081\n",
      "Epoch:8 | Train loss: 1.54 | Train acc: 0.995 | Test acc:0.102\n",
      "Epoch:9 | Train loss: 1.49 | Train acc: 0.997 | Test acc:0.099\n",
      "Epoch:10 | Train loss: 1.47 | Train acc: 0.997 | Test acc:0.108\n",
      "Epoch:11 | Train loss: 1.47 | Train acc: 0.997 | Test acc:0.114\n",
      "Epoch:12 | Train loss: 1.46 | Train acc: 0.997 | Test acc:0.118\n",
      "Epoch:13 | Train loss: 1.46 | Train acc: 0.997 | Test acc:0.121\n",
      "Without Dropout & Batch Normalization & Adversarial Training\n"
     ]
    },
    {
     "name": "stderr",
     "output_type": "stream",
     "text": [
      "/home/root/adversarial/Gal/models.py:421: FutureWarning: Using a non-tuple sequence for multidimensional indexing is deprecated; use `arr[tuple(seq)]` instead of `arr[seq]`. In the future this will be interpreted as an array index, `arr[np.array(seq)]`, which will result either in an error or a different result.\n",
      "  sample_X_train = X_train[[ind]] # X_train[[start_index,end_index]] ; this would let us take specific indices, so we can randomize the order, ensure each iteration is taking precisely unique samples\n",
      "/home/root/adversarial/Gal/models.py:422: FutureWarning: Using a non-tuple sequence for multidimensional indexing is deprecated; use `arr[tuple(seq)]` instead of `arr[seq]`. In the future this will be interpreted as an array index, `arr[np.array(seq)]`, which will result either in an error or a different result.\n",
      "  sample_Y_train = Y_train[[ind]]\n",
      "/usr/local/lib/python3.5/dist-packages/tensorflow_core/python/client/session.py:1750: UserWarning: An interactive session is already active. This can cause out-of-memory errors in some cases. You must explicitly call `InteractiveSession.close()` to release resources held by the other session(s).\n",
      "  warnings.warn('An interactive session is already active. This can '\n",
      "/home/root/adversarial/Gal/models.py:569: FutureWarning: Using a non-tuple sequence for multidimensional indexing is deprecated; use `arr[tuple(seq)]` instead of `arr[seq]`. In the future this will be interpreted as an array index, `arr[np.array(seq)]`, which will result either in an error or a different result.\n",
      "  sample_X_train = X_train[[ind]] # X_train[[start_index,end_index]] ; this would let us take specific indices, so we can randomize the order, ensure each iteration is taking precisely unique samples\n",
      "/home/root/adversarial/Gal/models.py:570: FutureWarning: Using a non-tuple sequence for multidimensional indexing is deprecated; use `arr[tuple(seq)]` instead of `arr[seq]`. In the future this will be interpreted as an array index, `arr[np.array(seq)]`, which will result either in an error or a different result.\n",
      "  sample_Y_train = Y_train[[ind]]\n"
     ]
    },
    {
     "name": "stdout",
     "output_type": "stream",
     "text": [
      "Epoch:0 | Train loss: 31.94 | Train acc: 0.831 | Test acc:0.088\n",
      "Epoch:1 | Train loss: 16.21 | Train acc: 0.837 | Test acc:0.110\n",
      "Epoch:2 | Train loss: 8.33 | Train acc: 0.842 | Test acc:0.083\n",
      "Epoch:3 | Train loss: 4.46 | Train acc: 0.843 | Test acc:0.097\n",
      "Epoch:4 | Train loss: 2.67 | Train acc: 0.844 | Test acc:0.090\n",
      "Epoch:5 | Train loss: 1.91 | Train acc: 0.846 | Test acc:0.108\n",
      "Epoch:6 | Train loss: 1.61 | Train acc: 0.846 | Test acc:0.105\n",
      "Epoch:7 | Train loss: 1.51 | Train acc: 0.846 | Test acc:0.108\n",
      "Epoch:8 | Train loss: 1.47 | Train acc: 0.846 | Test acc:0.113\n",
      "Epoch:9 | Train loss: 1.47 | Train acc: 0.847 | Test acc:0.092\n",
      "Epoch:10 | Train loss: 1.46 | Train acc: 0.847 | Test acc:0.103\n",
      "Epoch:11 | Train loss: 1.46 | Train acc: 0.847 | Test acc:0.116\n",
      "Epoch:12 | Train loss: 1.46 | Train acc: 0.849 | Test acc:0.115\n",
      "Epoch:13 | Train loss: 1.46 | Train acc: 0.848 | Test acc:0.109\n"
     ]
    },
    {
     "name": "stderr",
     "output_type": "stream",
     "text": [
      "/usr/local/lib/python3.5/dist-packages/ipykernel_launcher.py:13: FutureWarning: Using a non-tuple sequence for multidimensional indexing is deprecated; use `arr[tuple(seq)]` instead of `arr[seq]`. In the future this will be interpreted as an array index, `arr[np.array(seq)]`, which will result either in an error or a different result.\n",
      "  del sys.path[0]\n",
      "/usr/local/lib/python3.5/dist-packages/ipykernel_launcher.py:14: FutureWarning: Using a non-tuple sequence for multidimensional indexing is deprecated; use `arr[tuple(seq)]` instead of `arr[seq]`. In the future this will be interpreted as an array index, `arr[np.array(seq)]`, which will result either in an error or a different result.\n",
      "  \n",
      "/usr/local/lib/python3.5/dist-packages/tensorflow_core/python/client/session.py:1750: UserWarning: An interactive session is already active. This can cause out-of-memory errors in some cases. You must explicitly call `InteractiveSession.close()` to release resources held by the other session(s).\n",
      "  warnings.warn('An interactive session is already active. This can '\n"
     ]
    },
    {
     "name": "stdout",
     "output_type": "stream",
     "text": [
      "Without Dropout & Batch Normalization\n",
      "Epoch:0 | Train loss: 53.54 | Train acc: 0.945 | Test acc:0.126\n",
      "Epoch:1 | Train loss: 47.35 | Train acc: 0.974 | Test acc:0.129\n",
      "Epoch:2 | Train loss: 41.97 | Train acc: 0.985 | Test acc:0.119\n",
      "Epoch:3 | Train loss: 37.26 | Train acc: 0.991 | Test acc:0.113\n",
      "Epoch:4 | Train loss: 33.11 | Train acc: 0.993 | Test acc:0.106\n",
      "Epoch:5 | Train loss: 29.45 | Train acc: 0.995 | Test acc:0.096\n",
      "Epoch:6 | Train loss: 26.22 | Train acc: 0.996 | Test acc:0.101\n",
      "Epoch:7 | Train loss: 23.36 | Train acc: 0.997 | Test acc:0.097\n",
      "Epoch:8 | Train loss: 20.83 | Train acc: 0.997 | Test acc:0.104\n",
      "Epoch:9 | Train loss: 18.58 | Train acc: 0.997 | Test acc:0.079\n",
      "Epoch:10 | Train loss: 16.59 | Train acc: 0.997 | Test acc:0.102\n",
      "Epoch:11 | Train loss: 14.82 | Train acc: 0.998 | Test acc:0.099\n",
      "Epoch:12 | Train loss: 13.24 | Train acc: 0.998 | Test acc:0.092\n",
      "Epoch:13 | Train loss: 11.85 | Train acc: 0.998 | Test acc:0.092\n",
      "Without Dropout & Batch Normalization & Adversarial Training\n"
     ]
    },
    {
     "name": "stderr",
     "output_type": "stream",
     "text": [
      "/home/root/adversarial/Gal/models.py:421: FutureWarning: Using a non-tuple sequence for multidimensional indexing is deprecated; use `arr[tuple(seq)]` instead of `arr[seq]`. In the future this will be interpreted as an array index, `arr[np.array(seq)]`, which will result either in an error or a different result.\n",
      "  sample_X_train = X_train[[ind]] # X_train[[start_index,end_index]] ; this would let us take specific indices, so we can randomize the order, ensure each iteration is taking precisely unique samples\n",
      "/home/root/adversarial/Gal/models.py:422: FutureWarning: Using a non-tuple sequence for multidimensional indexing is deprecated; use `arr[tuple(seq)]` instead of `arr[seq]`. In the future this will be interpreted as an array index, `arr[np.array(seq)]`, which will result either in an error or a different result.\n",
      "  sample_Y_train = Y_train[[ind]]\n",
      "/usr/local/lib/python3.5/dist-packages/tensorflow_core/python/client/session.py:1750: UserWarning: An interactive session is already active. This can cause out-of-memory errors in some cases. You must explicitly call `InteractiveSession.close()` to release resources held by the other session(s).\n",
      "  warnings.warn('An interactive session is already active. This can '\n",
      "/home/root/adversarial/Gal/models.py:569: FutureWarning: Using a non-tuple sequence for multidimensional indexing is deprecated; use `arr[tuple(seq)]` instead of `arr[seq]`. In the future this will be interpreted as an array index, `arr[np.array(seq)]`, which will result either in an error or a different result.\n",
      "  sample_X_train = X_train[[ind]] # X_train[[start_index,end_index]] ; this would let us take specific indices, so we can randomize the order, ensure each iteration is taking precisely unique samples\n",
      "/home/root/adversarial/Gal/models.py:570: FutureWarning: Using a non-tuple sequence for multidimensional indexing is deprecated; use `arr[tuple(seq)]` instead of `arr[seq]`. In the future this will be interpreted as an array index, `arr[np.array(seq)]`, which will result either in an error or a different result.\n",
      "  sample_Y_train = Y_train[[ind]]\n"
     ]
    },
    {
     "name": "stdout",
     "output_type": "stream",
     "text": [
      "Epoch:0 | Train loss: 59.59 | Train acc: 0.812 | Test acc:0.095\n",
      "Epoch:1 | Train loss: 52.07 | Train acc: 0.831 | Test acc:0.087\n",
      "Epoch:2 | Train loss: 45.61 | Train acc: 0.840 | Test acc:0.072\n",
      "Epoch:3 | Train loss: 40.02 | Train acc: 0.844 | Test acc:0.074\n",
      "Epoch:4 | Train loss: 35.17 | Train acc: 0.846 | Test acc:0.084\n",
      "Epoch:5 | Train loss: 30.95 | Train acc: 0.846 | Test acc:0.068\n",
      "Epoch:6 | Train loss: 27.27 | Train acc: 0.849 | Test acc:0.079\n",
      "Epoch:7 | Train loss: 24.06 | Train acc: 0.849 | Test acc:0.091\n",
      "Epoch:8 | Train loss: 21.25 | Train acc: 0.849 | Test acc:0.081\n",
      "Epoch:9 | Train loss: 18.80 | Train acc: 0.849 | Test acc:0.077\n",
      "Epoch:10 | Train loss: 16.65 | Train acc: 0.849 | Test acc:0.080\n",
      "Epoch:11 | Train loss: 14.77 | Train acc: 0.850 | Test acc:0.081\n",
      "Epoch:12 | Train loss: 13.11 | Train acc: 0.850 | Test acc:0.085\n",
      "Epoch:13 | Train loss: 11.66 | Train acc: 0.849 | Test acc:0.095\n",
      "Without Dropout & Batch Normalization\n"
     ]
    },
    {
     "name": "stderr",
     "output_type": "stream",
     "text": [
      "/usr/local/lib/python3.5/dist-packages/tensorflow_core/python/client/session.py:1750: UserWarning: An interactive session is already active. This can cause out-of-memory errors in some cases. You must explicitly call `InteractiveSession.close()` to release resources held by the other session(s).\n",
      "  warnings.warn('An interactive session is already active. This can '\n"
     ]
    },
    {
     "name": "stdout",
     "output_type": "stream",
     "text": [
      "Epoch:0 | Train loss: 59.40 | Train acc: 0.943 | Test acc:0.119\n",
      "Epoch:1 | Train loss: 52.95 | Train acc: 0.971 | Test acc:0.113\n",
      "Epoch:2 | Train loss: 47.28 | Train acc: 0.984 | Test acc:0.097\n",
      "Epoch:3 | Train loss: 42.26 | Train acc: 0.989 | Test acc:0.102\n",
      "Epoch:4 | Train loss: 37.80 | Train acc: 0.993 | Test acc:0.085\n",
      "Epoch:5 | Train loss: 33.84 | Train acc: 0.994 | Test acc:0.101\n",
      "Epoch:6 | Train loss: 30.31 | Train acc: 0.996 | Test acc:0.088\n",
      "Epoch:7 | Train loss: 27.15 | Train acc: 0.996 | Test acc:0.092\n",
      "Epoch:8 | Train loss: 24.33 | Train acc: 0.997 | Test acc:0.079\n",
      "Epoch:9 | Train loss: 21.81 | Train acc: 0.997 | Test acc:0.090\n",
      "Epoch:10 | Train loss: 19.56 | Train acc: 0.998 | Test acc:0.082\n",
      "Epoch:11 | Train loss: 17.54 | Train acc: 0.998 | Test acc:0.083\n",
      "Epoch:12 | Train loss: 15.74 | Train acc: 0.998 | Test acc:0.075\n",
      "Epoch:13 | Train loss: 14.12 | Train acc: 0.998 | Test acc:0.085\n",
      "Without Dropout & Batch Normalization & Adversarial Training\n"
     ]
    },
    {
     "name": "stderr",
     "output_type": "stream",
     "text": [
      "/home/root/adversarial/Gal/models.py:421: FutureWarning: Using a non-tuple sequence for multidimensional indexing is deprecated; use `arr[tuple(seq)]` instead of `arr[seq]`. In the future this will be interpreted as an array index, `arr[np.array(seq)]`, which will result either in an error or a different result.\n",
      "  sample_X_train = X_train[[ind]] # X_train[[start_index,end_index]] ; this would let us take specific indices, so we can randomize the order, ensure each iteration is taking precisely unique samples\n",
      "/home/root/adversarial/Gal/models.py:422: FutureWarning: Using a non-tuple sequence for multidimensional indexing is deprecated; use `arr[tuple(seq)]` instead of `arr[seq]`. In the future this will be interpreted as an array index, `arr[np.array(seq)]`, which will result either in an error or a different result.\n",
      "  sample_Y_train = Y_train[[ind]]\n",
      "/usr/local/lib/python3.5/dist-packages/tensorflow_core/python/client/session.py:1750: UserWarning: An interactive session is already active. This can cause out-of-memory errors in some cases. You must explicitly call `InteractiveSession.close()` to release resources held by the other session(s).\n",
      "  warnings.warn('An interactive session is already active. This can '\n"
     ]
    }
   ],
   "source": [
    "Nentropy_val_MLPat_1, Nacc_MLPat_1, Nconfi_MLPat_1 = ensembling_expt(1, MNIST_X_train, MNIST_Y_train, notMNIST_X_val, notMNIST_Y_val, notMNIST_X_test, notMNIST_Y_test, models.MLP_adversarialtraining)\n",
    "Nentropy_val_MLPat_5, Nacc_MLPat_5, Nconfi_MLPat_5 = ensembling_expt(5, MNIST_X_train, MNIST_Y_train, notMNIST_X_val, notMNIST_Y_val, notMNIST_X_test, notMNIST_Y_test, models.MLP_adversarialtraining)\n",
    "Nentropy_val_MLPat_10, Nacc_MLPat_10, Nconfi_MLPat_10 = ensembling_expt(10, MNIST_X_train, MNIST_Y_train, notMNIST_X_val, notMNIST_Y_val, notMNIST_X_test, notMNIST_Y_test, models.MLP_adversarialtraining)\n"
   ]
  },
  {
   "cell_type": "code",
   "execution_count": 1,
   "metadata": {
    "scrolled": true
   },
   "outputs": [
    {
     "ename": "NameError",
     "evalue": "name 'entropy_val_MLPat_10' is not defined",
     "output_type": "error",
     "traceback": [
      "\u001b[0;31m---------------------------------------------------------------------------\u001b[0m",
      "\u001b[0;31mNameError\u001b[0m                                 Traceback (most recent call last)",
      "\u001b[0;32m<ipython-input-1-ee49cd3fa173>\u001b[0m in \u001b[0;36m<module>\u001b[0;34m\u001b[0m\n\u001b[0;32m----> 1\u001b[0;31m \u001b[0mentropy_val_MLPat_10\u001b[0m\u001b[0;34m\u001b[0m\u001b[0m\n\u001b[0m",
      "\u001b[0;31mNameError\u001b[0m: name 'entropy_val_MLPat_10' is not defined"
     ]
    }
   ],
   "source": [
    "entropy_val_MLPat_10"
   ]
  },
  {
   "cell_type": "markdown",
   "metadata": {},
   "source": [
    "## Figure 3(a) plots"
   ]
  },
  {
   "cell_type": "code",
   "execution_count": null,
   "metadata": {},
   "outputs": [],
   "source": [
    "import matplotlib.pyplot as plt\n",
    "%matplotlib inline\n",
    "plt.hist(entropy_val_MLP_1, normed=True, bins=300, label = '1')\n",
    "plt.hist(entropy_val_MLP_5, normed=True, bins=300, label = '5')\n",
    "plt.hist(entropy_val_MLP_10, normed=True, bins=300, label = '10')\n",
    "plt.xlabel('Entropy values')\n",
    "plt.title(\"Ensemble - MNIST\")\n",
    "plt.legend()\n",
    "plt.show()"
   ]
  },
  {
   "cell_type": "code",
   "execution_count": null,
   "metadata": {},
   "outputs": [],
   "source": [
    "import matplotlib.pyplot as plt\n",
    "%matplotlib inline\n",
    "plt.hist(entropy_val_MLPr_1, normed=True, bins=300, label = '1')\n",
    "plt.hist(entropy_val_MLPr_5, normed=True, bins=300, label = '5')\n",
    "plt.hist(entropy_val_MLPr_10, normed=True, bins=300, label = '10')\n",
    "plt.xlabel('Entropy values')\n",
    "plt.title(\"Ensemble+R - MNIST\")\n",
    "plt.legend()\n",
    "plt.show()"
   ]
  },
  {
   "cell_type": "code",
   "execution_count": null,
   "metadata": {},
   "outputs": [],
   "source": [
    "import matplotlib.pyplot as plt\n",
    "%matplotlib inline\n",
    "plt.hist(entropy_val_MLPat_1, normed=True, bins=300, label = '1')\n",
    "plt.hist(entropy_val_MLPat_5, normed=True, bins=300, label = '5')\n",
    "plt.hist(entropy_val_MLPat_10, normed=True, bins=300, label = '10')\n",
    "plt.xlabel('Entropy values')\n",
    "plt.title(\"Ensemble+AT - MNIST\")\n",
    "plt.legend()\n",
    "plt.show()"
   ]
  },
  {
   "cell_type": "code",
   "execution_count": null,
   "metadata": {},
   "outputs": [],
   "source": [
    "import matplotlib.pyplot as plt\n",
    "%matplotlib inline\n",
    "plt.hist(entropy_val_MLPmc_1, normed=True, bins=300, label = '1')\n",
    "plt.hist(entropy_val_MLPmc_5, normed=True, bins=300, label = '5')\n",
    "plt.hist(entropy_val_MLPmc_10, normed=True, bins=300, label = '10')\n",
    "plt.xlabel('Entropy values')\n",
    "plt.title(\"MC Dropout 0.1 - MNIST\")\n",
    "plt.legend()\n",
    "plt.show()"
   ]
  },
  {
   "cell_type": "code",
   "execution_count": null,
   "metadata": {},
   "outputs": [],
   "source": [
    "import matplotlib.pyplot as plt\n",
    "%matplotlib inline\n",
    "plt.hist(Nentropy_val_MLP_1, normed=True, bins=300, label = '1')\n",
    "plt.hist(Nentropy_val_MLP_5, normed=True, bins=300, label = '5')\n",
    "plt.hist(Nentropy_val_MLP_10, normed=True, bins=300, label = '10')\n",
    "plt.xlabel('Entropy values')\n",
    "plt.title(\"Ensemble - notMNIST\")\n",
    "plt.legend()\n",
    "plt.show()"
   ]
  },
  {
   "cell_type": "code",
   "execution_count": null,
   "metadata": {},
   "outputs": [],
   "source": [
    "import matplotlib.pyplot as plt\n",
    "%matplotlib inline\n",
    "plt.hist(Nentropy_val_MLPr_1, normed=True, bins=300, label = '1')\n",
    "plt.hist(Nentropy_val_MLPr_5, normed=True, bins=300, label = '5')\n",
    "plt.hist(Nentropy_val_MLPr_10, normed=True, bins=300, label = '10')\n",
    "plt.xlabel('Entropy values')\n",
    "plt.title(\"Ensemble+R - notMNIST\")\n",
    "plt.legend()\n",
    "plt.show()"
   ]
  },
  {
   "cell_type": "code",
   "execution_count": null,
   "metadata": {},
   "outputs": [],
   "source": [
    "import matplotlib.pyplot as plt\n",
    "%matplotlib inline\n",
    "plt.hist(Nentropy_val_MLPat_1, normed=True, bins=300, label = '1')\n",
    "plt.hist(Nentropy_val_MLPat_5, normed=True, bins=300, label = '5')\n",
    "plt.hist(Nentropy_val_MLPat_10, normed=True, bins=300, label = '10')\n",
    "plt.xlabel('Entropy values')\n",
    "plt.title(\"Ensemble+AT - notMNIST\")\n",
    "plt.legend()\n",
    "plt.show()"
   ]
  },
  {
   "cell_type": "code",
   "execution_count": null,
   "metadata": {},
   "outputs": [],
   "source": [
    "import matplotlib.pyplot as plt\n",
    "%matplotlib inline\n",
    "plt.hist(Nentropy_val_MLPmc_1, normed=True, bins=300, label = '1')\n",
    "plt.hist(Nentropy_val_MLPmc_5, normed=True, bins=300, label = '5')\n",
    "plt.hist(Nentropy_val_MLPmc_10, normed=True, bins=300, label = '10')\n",
    "plt.xlabel('Entropy values')\n",
    "plt.title(\"MC Dropout 0.1 - notMNIST\")\n",
    "plt.legend()\n",
    "plt.show()"
   ]
  },
  {
   "cell_type": "code",
   "execution_count": null,
   "metadata": {},
   "outputs": [],
   "source": []
  },
  {
   "cell_type": "code",
   "execution_count": null,
   "metadata": {},
   "outputs": [],
   "source": [
    "# entropy1_hist_list = [entropy_val_MLP_1,entropy_val_MLPr_1,entropy_val_MLPat_1,entropy_val_MLPmc_1,Nentropy_val_MLP_1,Nentropy_val_MLPr_1,Nentropy_val_MLPat_1,Nentropy_val_MLPmc_1]\n",
    "# entropy5_hist_list = [entropy_val_MLP_5,entropy_val_MLPr_5,entropy_val_MLPat_5,entropy_val_MLPmc_5,Nentropy_val_MLP_5,Nentropy_val_MLPr_5,Nentropy_val_MLPat_5,Nentropy_val_MLPmc_5]\n",
    "# entropy10_hist_list = [entropy_val_MLP_10,entropy_val_MLPr_10,entropy_val_MLPat_10,entropy_val_MLPmc_10,Nentropy_val_MLP_10,Nentropy_val_MLPr_10,Nentropy_val_MLPat_10,Nentropy_val_MLPmc_10]\n",
    "# title_list=[\"Ensemble - MNIST\",\"Ensemble+R - MNIST\",\"Ensemble+AT - MNIST\",\"MC Dropout 0.1 - MNIST\",\"Ensemble - notMNIST\",\"Ensemble+R - notMNIST\",\"Ensemble+AT - notMNIST\",\"MC Dropout 0.1 - notMNIST\"]\n",
    "\n",
    "# import matplotlib.pyplot as plt\n",
    "# %matplotlib inline\n",
    "\n",
    "# for i in range(1, 7):\n",
    "#     plt.subplot(2, 3, i)\n",
    "#     plt.hist(entropy1_hist_list[i], normed=True, bins=300, label = '1')\n",
    "#     plt.hist(entropy5_hist_list[i], normed=True, bins=300, label = '5')\n",
    "#     plt.hist(entropy10_hist_list[i], normed=True, bins=300, label = '10')\n",
    "#     plt.xlabel('Entropy values')\n",
    "#     plt.title(title_list[i])\n",
    "#     plt.legend()\n",
    "# #     plt.show()"
   ]
  },
  {
   "cell_type": "code",
   "execution_count": null,
   "metadata": {},
   "outputs": [],
   "source": [
    "# entropy1_hist_list = [entropy_val_MLP_1,entropy_val_MLPr_1,entropy_val_MLPat_1]\n",
    "# title_list=[\"Ensemble - MNIST\",\"Ensemble+R - MNIST\",\"Ensemble+AT - MNIST\",\"MC Dropout 0.1 - MNIST\",\"Ensemble - notMNIST\",\"Ensemble+R - notMNIST\",\"Ensemble+AT - notMNIST\",\"MC Dropout 0.1 - notMNIST\"]\n",
    "\n",
    "# import matplotlib.pyplot as plt\n",
    "# %matplotlib inline\n",
    "\n",
    "\n",
    "# for i in range(0,len(entropy1_hist_list)):\n",
    "#     plt.hist(entropy1_hist_list[i], normed=True, bins=300, label = '1')\n",
    "# #     plt.xlim(-0.5,5)\n",
    "#     plt.xlabel('Entropy values')\n",
    "#     plt.title(title_list[i])\n",
    "#     plt.legend()\n",
    "#     plt.show()"
   ]
  },
  {
   "cell_type": "code",
   "execution_count": null,
   "metadata": {},
   "outputs": [],
   "source": [
    "# # Fig 3a test\n",
    "\n",
    "# from matplotlib.pyplot import figure\n",
    "# figure(num=None, figsize=(10, 10), dpi=80, facecolor='w', edgecolor='k')\n",
    "\n",
    "# entropy1_hist_list = [entropy_val_MLP_1,entropy_val_MLPr_1,entropy_val_MLPat_1]\n",
    "# title_list=[\"Ensemble - MNIST\",\"Ensemble+R - MNIST\",\"Ensemble+AT - MNIST\",\"MC Dropout 0.1 - MNIST\",\"Ensemble - notMNIST\",\"Ensemble+R - notMNIST\",\"Ensemble+AT - notMNIST\",\"MC Dropout 0.1 - notMNIST\"]\n",
    "\n",
    "# import matplotlib.pyplot as plt\n",
    "# %matplotlib inline\n",
    "\n",
    "# # for i in range(1, 7):\n",
    "# # #     plt.subplot(2, 3, i)\n",
    "# #     plt.hist(entropy1_hist_list[i-1], normed=True, bins=300, label = '1')\n",
    "# #     plt.xlim(-0.5,5)\n",
    "# #     plt.xlabel('Entropy values')\n",
    "# #     plt.title(title_list[i-1])\n",
    "# #     plt.legend()\n",
    "# #     plt.show()\n",
    "\n",
    "# plt.hist(entropy_val_MLP_1, normed=True, bins=300, label = '1')\n",
    "# # plt.xlim(-0.5,5)\n",
    "# # plt.ylim(0,6)\n",
    "# plt.xlabel('Entropy values')\n",
    "# plt.title(title_list[0])\n",
    "# plt.legend()\n",
    "# plt.show()\n",
    "\n",
    "# plt.hist(entropy_val_MLPr_1, normed=True, bins=300, label = '1')\n",
    "# # plt.xlim(-0.5,5)\n",
    "# # plt.ylim(0,6)\n",
    "# plt.xlabel('Entropy values')\n",
    "# plt.title(title_list[0])\n",
    "# plt.legend()\n",
    "# plt.show()\n",
    "\n",
    "# plt.hist(entropy_val_MLPat_1, normed=True, bins=300, label = '1')\n",
    "# # plt.xlim(-0.5,5)\n",
    "# # plt.ylim(0,6)\n",
    "# plt.xlabel('Entropy values')\n",
    "# plt.title(title_list[0])\n",
    "# plt.legend()\n",
    "# plt.show()"
   ]
  },
  {
   "cell_type": "code",
   "execution_count": null,
   "metadata": {},
   "outputs": [],
   "source": []
  },
  {
   "cell_type": "markdown",
   "metadata": {},
   "source": [
    "## Figure 6 plots"
   ]
  },
  {
   "cell_type": "code",
   "execution_count": null,
   "metadata": {},
   "outputs": [],
   "source": [
    "# Fig 6 test\n",
    "\n",
    "import matplotlib.pyplot as plt\n",
    "%matplotlib inline\n",
    "\n",
    "confi_complete_list = [confi_MLP_1, confi_MLPr_1, confi_MLPat_1, confi_MLPmc_1, Nconfi_MLP_1, Nconfi_MLPr_1, Nconfi_MLPat_1, Nconfi_MLPmc_1]\n",
    "acc_complete_list = [acc_MLP_1, acc_MLPr_1, acc_MLPat_1, acc_MLPmc_1, Nacc_MLP_1, Nacc_MLPr_1, Nacc_MLPat_1, Nacc_MLPmc_1]\n",
    "\n",
    "plt.scatter(confi_complete_list, acc_complete_list)\n",
    "plt.xlabel('Confidence')\n",
    "plt.ylabel('Accuracy')\n",
    "# plt.legend()\n",
    "plt.show()"
   ]
  },
  {
   "cell_type": "code",
   "execution_count": null,
   "metadata": {},
   "outputs": [],
   "source": []
  }
 ],
 "metadata": {
  "kernelspec": {
   "display_name": "Python 3",
   "language": "python",
   "name": "python3"
  },
  "language_info": {
   "codemirror_mode": {
    "name": "ipython",
    "version": 3
   },
   "file_extension": ".py",
   "mimetype": "text/x-python",
   "name": "python",
   "nbconvert_exporter": "python",
   "pygments_lexer": "ipython3",
   "version": "3.5.2"
  }
 },
 "nbformat": 4,
 "nbformat_minor": 2
}
